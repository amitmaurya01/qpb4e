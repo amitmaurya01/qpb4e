{
  "cells": [
    {
      "cell_type": "markdown",
      "metadata": {
        "id": "view-in-github",
        "colab_type": "text"
      },
      "source": [
        "<a href=\"https://colab.research.google.com/github/nceder/qpb4e/blob/main/code/Case%20Study/Case_Study.ipynb\" target=\"_parent\"><img src=\"https://colab.research.google.com/assets/colab-badge.svg\" alt=\"Open In Colab\"/></a>"
      ]
    },
    {
      "cell_type": "markdown",
      "metadata": {
        "id": "eIpTuA6jsrH2"
      },
      "source": [
        "## Case study\n",
        "\n",
        "In this case study we'll walk through using Python to fetch some data, clean it, and then graph it. This may be a short project, but it combines a number of features of the language we've dicussed, and gives you a chance to a see a project worked through from beginning to end. At almost every step we will also briefly call out alternatives and enhancements you can make.\n",
        "\n",
        "Global temperature change is the topic of much discussion. But those discussions are based on a global scale, Suppose I want to know what the temperatures have been doing near where I am? One way of finding out would be to get some historical data for my location and process that data and plot it to see exactly what's been happening.\n",
        "\n",
        "Fortunately, there are several sources of historical weather data that are freely available. We're going to talk through using data from the Global Historical Climatology Network, which has data from around the world. You may find other sources, which may have different data formats, but the steps and the processes we discuss here should be generally applicable to any data set."
      ]
    },
    {
      "cell_type": "markdown",
      "metadata": {
        "id": "NFC26rDxsrH3"
      },
      "source": [
        "###  Downloading the data\n",
        "\n",
        "The first step will be to get the data. There is an archive of daily historical weather data at https://www1.ncdc.noaa.gov/pub/data/ghcn/daily/, which has a wide array of datay. The first step will be to figure out which files we want and exactly where they are, and then to download them. Once we have the data, we can move on to processing and ultimately displaying our results.\n",
        "\n",
        "In order to download the files, which are accessable via HTTPS, we will need the requests library, which is already available in Colaboratory. If you are using another environment, you can get requests with `pip install requests` at the command prompt. Once we have requests our first step will be to fetch the `readme.txt` file, which can guide us as the formats and location of the data files we'll want."
      ]
    },
    {
      "cell_type": "code",
      "execution_count": 1,
      "metadata": {
        "id": "iaNpvkgNsrH4"
      },
      "outputs": [],
      "source": [
        "# import requests\n",
        "\n",
        "import requests"
      ]
    },
    {
      "cell_type": "code",
      "execution_count": 2,
      "metadata": {
        "id": "6bxqBeuNsrH4"
      },
      "outputs": [],
      "source": [
        "# get readme.txt file\n",
        "\n",
        "r = requests.get('https://www1.ncdc.noaa.gov/pub/data/ghcn/daily/readme.txt')\n",
        "readme = r.text"
      ]
    },
    {
      "cell_type": "markdown",
      "metadata": {
        "id": "KvBJSH-vsrH5"
      },
      "source": [
        "When we look at the readme file, it looks something like this:"
      ]
    },
    {
      "cell_type": "code",
      "execution_count": null,
      "metadata": {
        "id": "03F3OfDisrH5",
        "outputId": "a9e5cc45-c294-4f7b-ad2d-871433c1d000",
        "colab": {
          "base_uri": "https://localhost:8080/"
        },
        "collapsed": true
      },
      "outputs": [
        {
          "output_type": "stream",
          "name": "stdout",
          "text": [
            "README FILE FOR DAILY GLOBAL HISTORICAL CLIMATOLOGY NETWORK (GHCN-DAILY) \n",
            "Version 3.31\n",
            "\n",
            "--------------------------------------------------------------------------------\n",
            "How to cite:\n",
            "\n",
            "Note that the GHCN-Daily dataset itself now has a DOI (Digital Object Identifier)\n",
            "so it may be relevant to cite both the methods/overview journal article as well \n",
            "as the specific version of the dataset used.\n",
            "\n",
            "The journal article describing GHCN-Daily is:\n",
            "Menne, M.J., I. Durre, R.S. Vose, B.E. Gleason, and T.G. Houston, 2012:  An overview \n",
            "of the Global Historical Climatology Network-Daily Database.  Journal of Atmospheric \n",
            "and Oceanic Technology, 29, 897-910, doi:10.1175/JTECH-D-11-00103.1.\n",
            "\n",
            "To acknowledge the specific version of the dataset used, please cite:\n",
            "Menne, M.J., I. Durre, B. Korzeniewski, S. McNeill, K. Thomas, X. Yin, S. Anthony, R. Ray, \n",
            "R.S. Vose, B.E.Gleason, and T.G. Houston, 2012: Global Historical Climatology Network - \n",
            "Daily (GHCN-Daily), Version 3. [indicate subset used following decimal, \n",
            "e.g. Version 3.12]. \n",
            "NOAA National Climatic Data Center. http://doi.org/10.7289/V5D21VHZ [access date].\n",
            "--------------------------------------------------------------------------------\n",
            "\n",
            "I. DOWNLOAD QUICK START\n",
            "\n",
            "Start by downloading \"ghcnd-stations.txt,\" which has metadata for all stations.\n",
            "\n",
            "Then download one of the following TAR files:\n",
            "\n",
            "  - \"ghcnd-all.tar.gz\" if you want all of GHCN-Daily, OR\n",
            "  - \"ghcnd-gsn.tar.gz\" if you only want the GCOS Surface Network (GSN), OR\n",
            "  - \"ghcnd-hcn.tar.gz\" if you only want the U.S. Historical Climatology Network \n",
            "    (U.S. HCN).\n",
            "\n",
            "Then uncompress and untar the contents of the tar file, \n",
            "e.g., by using the following Linux command:\n",
            "\n",
            "tar xzvf ghcnd_xxx.tar.gz\n",
            "\n",
            "Where \"xxx\" stands for \"all\", \"hcn\", or \"gsn\" as applicable. The files will be \n",
            "extracted into a subdirectory under the directory where the command is issued.\n",
            "\n",
            "ALTERNATIVELY, if you only need data for one station:\n",
            "\n",
            "  - Find the station's name in \"ghcnd-stations.txt\" and note its station\n",
            "    identification code (e.g., PHOENIX AP (Airport) is \"USW00023183\"); and\n",
            "  - Download the data file (i.e., \".dly\" file) that corresponds to this code\n",
            "    (e.g., \"USW00023183.dly\" has the data for PHOENIX AP).  \n",
            "    Note that the \".dly\" file is located in the \"all\" subdirectory.\n",
            "\n",
            "--------------------------------------------------------------------------------\n",
            "--------------------------------------------------------------------------------\n",
            "\n",
            "II. CONTENTS OF ftp://ftp.ncdc.noaa.gov/pub/data/ghcn/daily\n",
            "\n",
            "all:                  Directory with \".dly\" files for all of GHCN-Daily\n",
            "gsn:                  Directory with \".dly\" files for the GCOS Surface Network \n",
            "                      (GSN)\n",
            "hcn:                  Directory with \".dly\" files for U.S. HCN\n",
            "by_year:              Directory with GHCN Daily files parsed into yearly\n",
            "                      subsets with observation times where available.  See the\n",
            "\t\t      /by_year/readme.txt and \n",
            "\t\t      /by_year/ghcn-daily-by_year-format.rtf \n",
            "\t\t      files for further details\n",
            "by_station:           Directory of GHCN daily station data in period of record\n",
            "                      comma separate (csv) files.  See readme-by_station.txt\n",
            "                      for additional details\n",
            "grid:\t              Directory with the GHCN-Daily gridded dataset known \n",
            "                      as HadGHCND\n",
            "papers:\t\t      Directory with pdf versions of journal articles relevant \n",
            "                      to the GHCN-Daily dataset\n",
            "figures:\t      Directory containing figures that summarize the inventory \n",
            "                      and processing of GHCN-Daily station records\n",
            "superghcnd:\t      Directory containing a comma delimited format of GHCN-Daily\n",
            "                      with station metadata integrated into the data.  Two files \n",
            "\t\t      are provided each day.  The superghcnd_full file contains\n",
            "\t\t      all GHCN-Daily data in comma delimited format and the \n",
            "\t\t      superghcnd_diff file which contains the differences in\n",
            "\t\t      the dataset between two successive update runs.  See\n",
            "\t\t      the readme.txt file in the superghcnd directory for more\n",
            "\t\t      details.\n",
            "\n",
            "ghcnd-all.tar.gz:  TAR file of the GZIP-compressed files in the \"all\" directory\n",
            "ghcnd-gsn.tar.gz:  TAR file of the GZIP-compressed \"gsn\" directory\n",
            "ghcnd-hcn.tar.gz:  TAR file of the GZIP-compressed \"hcn\" directory\n",
            "\n",
            "ghcnd-countries.txt:  List of country codes (FIPS) and names\n",
            "ghcnd-inventory.txt:  File listing the periods of record for each station and \n",
            "                      element\n",
            "ghcnd-stations.txt:   List of stations and their metadata (e.g., coordinates)\n",
            "ghcnd-states.txt:     List of U.S. state and Canadian Province codes \n",
            "                      used in ghcnd-stations.txt\n",
            "ghcnd-version.txt:    File that specifies the current version of GHCN Daily\n",
            "mingle-list.txt:      File that provides a list of each source and source identifiers\n",
            "  \t              associated with each GHCN-Daily station.\n",
            "\n",
            "readme.txt:           This file\n",
            "status.txt:           Notes on the current status of GHCN-Daily\n",
            "\n",
            "--------------------------------------------------------------------------------\n",
            "--------------------------------------------------------------------------------\n",
            "\n",
            "III. FORMAT OF DATA FILES (\".dly\" FILES)\n",
            "\n",
            "Each \".dly\" file contains data for one station.  The name of the file\n",
            "corresponds to a station's identification code.  For example, \"USC00026481.dly\"\n",
            "contains the data for the station with the identification code USC00026481).\n",
            "\n",
            "Each record in a file contains one month of daily data.  The variables on each\n",
            "line include the following:\n",
            "\n",
            "------------------------------\n",
            "Variable   Columns   Type\n",
            "------------------------------\n",
            "ID            1-11   Character\n",
            "YEAR         12-15   Integer\n",
            "MONTH        16-17   Integer\n",
            "ELEMENT      18-21   Character\n",
            "VALUE1       22-26   Integer\n",
            "MFLAG1       27-27   Character\n",
            "QFLAG1       28-28   Character\n",
            "SFLAG1       29-29   Character\n",
            "VALUE2       30-34   Integer\n",
            "MFLAG2       35-35   Character\n",
            "QFLAG2       36-36   Character\n",
            "SFLAG2       37-37   Character\n",
            "  .           .          .\n",
            "  .           .          .\n",
            "  .           .          .\n",
            "VALUE31    262-266   Integer\n",
            "MFLAG31    267-267   Character\n",
            "QFLAG31    268-268   Character\n",
            "SFLAG31    269-269   Character\n",
            "------------------------------\n",
            "\n",
            "These variables have the following definitions:\n",
            "\n",
            "ID         is the station identification code.  Please see \"ghcnd-stations.txt\"\n",
            "           for a complete list of stations and their metadata.\n",
            "YEAR       is the year of the record.\n",
            "\n",
            "MONTH      is the month of the record.\n",
            "\n",
            "ELEMENT    is the element type.   There are five core elements as well as a number\n",
            "           of addition elements.  \n",
            "\t   \n",
            "\t   The five core elements are:\n",
            "\n",
            "           PRCP = Precipitation (tenths of mm)\n",
            "   \t   SNOW = Snowfall (mm)\n",
            "\t   SNWD = Snow depth (mm)\n",
            "           TMAX = Maximum temperature (tenths of degrees C)\n",
            "           TMIN = Minimum temperature (tenths of degrees C)\n",
            "\t   \n",
            "\t   The other elements are:\n",
            "\t   \n",
            "\t   ACMC = Average cloudiness midnight to midnight from 30-second \n",
            "\t          ceilometer data (percent)\n",
            "\t   ACMH = Average cloudiness midnight to midnight from \n",
            "\t          manual observations (percent)\n",
            "           ACSC = Average cloudiness sunrise to sunset from 30-second \n",
            "\t          ceilometer data (percent)\n",
            "\t   ACSH = Average cloudiness sunrise to sunset from manual \n",
            "\t          observations (percent)\n",
            "           ADPT = Average Dew Point Temperature for the day (tenths of degrees C)\n",
            "           ASLP = Average Sea Level Pressure for the day (hPa * 10)\n",
            "           ASTP = Average Station Level Pressure for the day (hPa * 10)\n",
            "           AWBT = Average Wet Bulb Temperature for the day (tenths of degrees C)\n",
            "           AWDR = Average daily wind direction (degrees)\n",
            "\t   AWND = Average daily wind speed (tenths of meters per second)\n",
            "\t   DAEV = Number of days included in the multiday evaporation\n",
            "\t          total (MDEV)\n",
            "\t   DAPR = Number of days included in the multiday precipiation \n",
            "\t          total (MDPR)\n",
            "           DASF = Number of days included in the multiday snowfall \n",
            "\t          total (MDSF)\t\t  \n",
            "\t   DATN = Number of days included in the multiday minimum temperature \n",
            "\t         (MDTN)\n",
            "\t   DATX = Number of days included in the multiday maximum temperature \n",
            "\t          (MDTX)\n",
            "           DAWM = Number of days included in the multiday wind movement\n",
            "\t          (MDWM)\n",
            "\t   DWPR = Number of days with non-zero precipitation included in \n",
            "\t          multiday precipitation total (MDPR)\n",
            "\t   EVAP = Evaporation of water from evaporation pan (tenths of mm)\n",
            "\t   FMTM = Time of fastest mile or fastest 1-minute wind \n",
            "\t          (hours and minutes, i.e., HHMM)\n",
            "\t   FRGB = Base of frozen ground layer (cm)\n",
            "\t   FRGT = Top of frozen ground layer (cm)\n",
            "\t   FRTH = Thickness of frozen ground layer (cm)\n",
            "\t   GAHT = Difference between river and gauge height (cm)\n",
            "\t   MDEV = Multiday evaporation total (tenths of mm; use with DAEV)\n",
            "\t   MDPR = Multiday precipitation total (tenths of mm; use with DAPR and \n",
            "\t          DWPR, if available)\n",
            "\t   MDSF = Multiday snowfall total \n",
            "\t   MDTN = Multiday minimum temperature (tenths of degrees C; use with \n",
            "\t          DATN)\n",
            "\t   MDTX = Multiday maximum temperature (tenths of degress C; use with \n",
            "\t          DATX)\n",
            "\t   MDWM = Multiday wind movement (km)\n",
            "           MNPN = Daily minimum temperature of water in an evaporation pan \n",
            "\t         (tenths of degrees C)\n",
            "           MXPN = Daily maximum temperature of water in an evaporation pan \n",
            "\t         (tenths of degrees C)\n",
            "\t   PGTM = Peak gust time (hours and minutes, i.e., HHMM)\n",
            "\t   PSUN = Daily percent of possible sunshine (percent)\n",
            "           RHAV = Average relative humidity for the day (percent)\n",
            "           RHMN = Minimum relative humidity for the day (percent)\n",
            "           RHMX = Maximum relative humidity for the day (percent)\n",
            "\t   SN*# = Minimum soil temperature (tenths of degrees C)\n",
            "\t          where * corresponds to a code\n",
            "\t          for ground cover and # corresponds to a code for soil \n",
            "\t\t  depth.  \n",
            "\t\t  \n",
            "\t\t  Ground cover codes include the following:\n",
            "\t\t  0 = unknown\n",
            "\t\t  1 = grass\n",
            "\t\t  2 = fallow\n",
            "\t\t  3 = bare ground\n",
            "\t\t  4 = brome grass\n",
            "\t\t  5 = sod\n",
            "\t\t  6 = straw multch\n",
            "\t\t  7 = grass muck\n",
            "\t\t  8 = bare muck\n",
            "\t\t  \n",
            "\t\t  Depth codes include the following:\n",
            "\t\t  1 = 5 cm\n",
            "\t\t  2 = 10 cm\n",
            "\t\t  3 = 20 cm\n",
            "\t\t  4 = 50 cm\n",
            "\t\t  5 = 100 cm\n",
            "\t\t  6 = 150 cm\n",
            "\t\t  7 = 180 cm\n",
            "\t\t  \n",
            "\t   SX*# = Maximum soil temperature (tenths of degrees C) \n",
            "\t          where * corresponds to a code for ground cover \n",
            "\t\t  and # corresponds to a code for soil depth. \n",
            "\t\t  See SN*# for ground cover and depth codes.\n",
            "           TAXN = Average daily temperature computed as \n",
            "                  (TMAX+TMIN)/2.0 (tenths of degrees C) \n",
            "           TAVG = Average daily temperature (tenths of degrees C)\n",
            "\t          [Note that TAVG from source 'S' corresponds\n",
            "\t\t   to an average of hourly readings for the period\n",
            "\t\t   ending at 2400 UTC rather than local midnight or other\n",
            "                   Local Standard Time according to a specific \n",
            "                   Met Service's protocol]\n",
            "                  [For sources other than 'S' TAVG is computed in a \n",
            "                   variety of ways including\n",
            "                   traditional fixed hours of the day whereas TAXN\n",
            "                  is solely computed as (TMAX+TMIN)/2.0]\n",
            "           THIC = Thickness of ice on water (tenths of mm)\t\n",
            " \t   TOBS = Temperature at the time of observation (tenths of degrees C)\n",
            "\t   TSUN = Daily total sunshine (minutes)\n",
            "\t   WDF1 = Direction of fastest 1-minute wind (degrees)\n",
            "\t   WDF2 = Direction of fastest 2-minute wind (degrees)\n",
            "\t   WDF5 = Direction of fastest 5-second wind (degrees)\n",
            "\t   WDFG = Direction of peak wind gust (degrees)\n",
            "\t   WDFI = Direction of highest instantaneous wind (degrees)\n",
            "\t   WDFM = Fastest mile wind direction (degrees)\n",
            "           WDMV = 24-hour wind movement (km)\t   \n",
            "           WESD = Water equivalent of snow on the ground (tenths of mm)\n",
            "\t   WESF = Water equivalent of snowfall (tenths of mm)\n",
            "\t   WSF1 = Fastest 1-minute wind speed (tenths of meters per second)\n",
            "\t   WSF2 = Fastest 2-minute wind speed (tenths of meters per second)\n",
            "\t   WSF5 = Fastest 5-second wind speed (tenths of meters per second)\n",
            "\t   WSFG = Peak gust wind speed (tenths of meters per second)\n",
            "\t   WSFI = Highest instantaneous wind speed (tenths of meters per second)\n",
            "\t   WSFM = Fastest mile wind speed (tenths of meters per second)\n",
            "\t   WT** = Weather Type where ** has one of the following values:\n",
            "\t   \n",
            "                  01 = Fog, ice fog, or freezing fog (may include heavy fog)\n",
            "                  02 = Heavy fog or heaving freezing fog (not always \n",
            "\t\t       distinquished from fog)\n",
            "                  03 = Thunder\n",
            "                  04 = Ice pellets, sleet, snow pellets, or small hail \n",
            "                  05 = Hail (may include small hail)\n",
            "                  06 = Glaze or rime \n",
            "                  07 = Dust, volcanic ash, blowing dust, blowing sand, or \n",
            "\t\t       blowing obstruction\n",
            "                  08 = Smoke or haze \n",
            "                  09 = Blowing or drifting snow\n",
            "                  10 = Tornado, waterspout, or funnel cloud \n",
            "                  11 = High or damaging winds\n",
            "                  12 = Blowing spray\n",
            "                  13 = Mist\n",
            "                  14 = Drizzle\n",
            "                  15 = Freezing drizzle \n",
            "                  16 = Rain (may include freezing rain, drizzle, and\n",
            "\t\t       freezing drizzle) \n",
            "                  17 = Freezing rain \n",
            "                  18 = Snow, snow pellets, snow grains, or ice crystals\n",
            "                  19 = Unknown source of precipitation \n",
            "                  21 = Ground fog \n",
            "                  22 = Ice fog or freezing fog\n",
            "\t\t  \n",
            "            WV** = Weather in the Vicinity where ** has one of the following \n",
            "\t           values:\n",
            "\t\t   \n",
            "\t\t   01 = Fog, ice fog, or freezing fog (may include heavy fog)\n",
            "\t\t   03 = Thunder\n",
            "\t\t   07 = Ash, dust, sand, or other blowing obstruction\n",
            "\t\t   18 = Snow or ice crystals\n",
            "\t\t   20 = Rain or snow shower\n",
            "\t\t   \n",
            "VALUE1     is the value on the first day of the month (missing = -9999).\n",
            "\n",
            "MFLAG1     is the measurement flag for the first day of the month.  There are\n",
            "           ten possible values:\n",
            "\n",
            "           Blank = no measurement information applicable\n",
            "           B     = precipitation total formed from two 12-hour totals\n",
            "           D     = precipitation total formed from four six-hour totals\n",
            "\t   H     = represents highest or lowest hourly temperature (TMAX or TMIN) \n",
            "\t           or the average of hourly values (TAVG)\n",
            "\t   K     = converted from knots \n",
            "\t   L     = temperature appears to be lagged with respect to reported\n",
            "\t           hour of observation \n",
            "           O     = converted from oktas \n",
            "\t   P     = identified as \"missing presumed zero\" in DSI 3200 and 3206\n",
            "           T     = trace of precipitation, snowfall, or snow depth\n",
            "\t   W     = converted from 16-point WBAN code (for wind direction)\n",
            "\n",
            "QFLAG1     is the quality flag for the first day of the month.  There are \n",
            "           fourteen possible values:\n",
            "\n",
            "           Blank = did not fail any quality assurance check\n",
            "           D     = failed duplicate check\n",
            "           G     = failed gap check\n",
            "           I     = failed internal consistency check\n",
            "           K     = failed streak/frequent-value check\n",
            "\t   L     = failed check on length of multiday period \n",
            "           M     = failed megaconsistency check\n",
            "           N     = failed naught check\n",
            "           O     = failed climatological outlier check\n",
            "           R     = failed lagged range check\n",
            "           S     = failed spatial consistency check\n",
            "           T     = failed temporal consistency check\n",
            "           W     = temperature too warm for snow\n",
            "           X     = failed bounds check\n",
            "\t   Z     = flagged as a result of an official Datzilla \n",
            "\t           investigation\n",
            "\n",
            "SFLAG1     is the source flag for the first day of the month.  There are \n",
            "           thirty possible values (including blank, upper and \n",
            "\t   lower case letters):\n",
            "\n",
            "           Blank = No source (i.e., data value missing)\n",
            "           0     = U.S. Cooperative Summary of the Day (NCDC DSI-3200)\n",
            "           6     = CDMP Cooperative Summary of the Day (NCDC DSI-3206)\n",
            "           7     = U.S. Cooperative Summary of the Day -- Transmitted \n",
            "\t           via WxCoder3 (NCDC DSI-3207)\n",
            "           A     = U.S. Automated Surface Observing System (ASOS) \n",
            "                   real-time data (since January 1, 2006)\n",
            "\t   a     = Australian data from the Australian Bureau of Meteorology\n",
            "           B     = U.S. ASOS data for October 2000-December 2005 (NCDC \n",
            "                   DSI-3211)\n",
            "\t   b     = Belarus update\n",
            "\t   C     = Environment Canada\n",
            "\t   D     = Short time delay US National Weather Service CF6 daily \n",
            "\t           summaries provided by the High Plains Regional Climate\n",
            "\t\t   Center\n",
            "\t   E     = European Climate Assessment and Dataset (Klein Tank \n",
            "\t           et al., 2002)\t   \n",
            "           F     = U.S. Fort data \n",
            "           G     = Official Global Climate Observing System (GCOS) or \n",
            "                   other government-supplied data\n",
            "           H     = High Plains Regional Climate Center real-time data\n",
            "           I     = International collection (non U.S. data received through\n",
            "\t           personal contacts)\n",
            "           K     = U.S. Cooperative Summary of the Day data digitized from\n",
            "\t           paper observer forms (from 2011 to present)\n",
            "           M     = Monthly METAR Extract (additional ASOS data)\n",
            "\t   f     = Data provided courtesy of the Fiji Met Service\n",
            "           m     = Data from the Mexican National Water Commission (Comision\n",
            "\t           National del Agua -- CONAGUA)\n",
            "\t   N     = Community Collaborative Rain, Hail,and Snow (CoCoRaHS)\n",
            "\t   Q     = Data from several African countries that had been \n",
            "\t           \"quarantined\", that is, withheld from public release\n",
            "\t\t   until permission was granted from the respective \n",
            "\t           meteorological services\n",
            "           R     = NCEI Reference Network Database (Climate Reference Network\n",
            "\t           and Regional Climate Reference Network)\n",
            "\t   r     = All-Russian Research Institute of Hydrometeorological \n",
            "\t           Information-World Data Center\n",
            "           S     = Global Summary of the Day (NCDC DSI-9618)\n",
            "                   NOTE: \"S\" values are derived from hourly synoptic reports\n",
            "                   exchanged on the Global Telecommunications System (GTS).\n",
            "                   Daily values derived in this fashion may differ significantly\n",
            "                   from \"true\" daily data, particularly for precipitation\n",
            "                   (i.e., use with caution).\n",
            "\t   s     = China Meteorological Administration/National Meteorological Information Center/\n",
            "\t           Climatic Data Center (http://cdc.cma.gov.cn)\n",
            "           T     = SNOwpack TELemtry (SNOTEL) data obtained from the U.S. \n",
            "\t           Department of Agriculture's Natural Resources Conservation Service\n",
            "\t   U     = Remote Automatic Weather Station (RAWS) data obtained\n",
            "\t           from the Western Regional Climate Center\t   \n",
            "\t   u     = Ukraine update\t   \n",
            "\t   W     = WBAN/ASOS Summary of the Day from NCDC's Integrated \n",
            "\t           Surface Data (ISD).  \n",
            "           X     = U.S. First-Order Summary of the Day (NCDC DSI-3210)\n",
            "\t   Z     = Datzilla official additions or replacements \n",
            "\t   z     = Uzbekistan update\n",
            "\t   \n",
            "\t   When data are available for the same time from more than one source,\n",
            "\t   the highest priority source is chosen according to the following\n",
            "\t   priority order (from highest to lowest):\n",
            "\t   Z,R,D,0,6,C,X,W,K,7,F,B,M,f,m,r,E,z,u,b,s,a,G,Q,I,A,N,T,U,H,S\n",
            "\t   \n",
            "\t   \n",
            "VALUE2     is the value on the second day of the month\n",
            "\n",
            "MFLAG2     is the measurement flag for the second day of the month.\n",
            "\n",
            "QFLAG2     is the quality flag for the second day of the month.\n",
            "\n",
            "SFLAG2     is the source flag for the second day of the month.\n",
            "\n",
            "... and so on through the 31st day of the month.  Note: If the month has less \n",
            "than 31 days, then the remaining variables are set to missing (e.g., for April, \n",
            "VALUE31 = -9999, MFLAG31 = blank, QFLAG31 = blank, SFLAG31 = blank).\n",
            "\n",
            "--------------------------------------------------------------------------------\n",
            "--------------------------------------------------------------------------------\n",
            "\n",
            "IV. FORMAT OF \"ghcnd-stations.txt\"\n",
            "\n",
            "------------------------------\n",
            "Variable   Columns   Type\n",
            "------------------------------\n",
            "ID            1-11   Character\n",
            "LATITUDE     13-20   Real\n",
            "LONGITUDE    22-30   Real\n",
            "ELEVATION    32-37   Real\n",
            "STATE        39-40   Character\n",
            "NAME         42-71   Character\n",
            "GSN FLAG     73-75   Character\n",
            "HCN/CRN FLAG 77-79   Character\n",
            "WMO ID       81-85   Character\n",
            "------------------------------\n",
            "\n",
            "These variables have the following definitions:\n",
            "\n",
            "ID         is the station identification code.  Note that the first two\n",
            "           characters denote the FIPS  country code, the third character \n",
            "           is a network code that identifies the station numbering system \n",
            "           used, and the remaining eight characters contain the actual \n",
            "           station ID. \n",
            "\n",
            "           See \"ghcnd-countries.txt\" for a complete list of country codes.\n",
            "\t   See \"ghcnd-states.txt\" for a list of state/province/territory codes.\n",
            "\n",
            "           The network code  has the following five values:\n",
            "\n",
            "           0 = unspecified (station identified by up to eight \n",
            "\t       alphanumeric characters)\n",
            "\t   1 = Community Collaborative Rain, Hail,and Snow (CoCoRaHS)\n",
            "\t       based identification number.  To ensure consistency with\n",
            "\t       with GHCN Daily, all numbers in the original CoCoRaHS IDs\n",
            "\t       have been left-filled to make them all four digits long. \n",
            "\t       In addition, the characters \"-\" and \"_\" have been removed \n",
            "\t       to ensure that the IDs do not exceed 11 characters when \n",
            "\t       preceded by \"US1\". For example, the CoCoRaHS ID \n",
            "\t       \"AZ-MR-156\" becomes \"US1AZMR0156\" in GHCN-Daily\n",
            "           C = U.S. Cooperative Network identification number (last six \n",
            "               characters of the GHCN-Daily ID)\n",
            "\t   E = Identification number used in the ECA&D non-blended\n",
            "\t       dataset\n",
            "\t   M = World Meteorological Organization ID (last five\n",
            "\t       characters of the GHCN-Daily ID)\n",
            "\t   N = Identification number used in data supplied by a \n",
            "\t       National Meteorological or Hydrological Center\n",
            "           P = \"Pre-Coop\" (an internal identifier assigned by NCEI for station\n",
            "               records collected prior to the establishment of the U.S. Weather\n",
            "               Bureau and their management of the U.S. Cooperative (Coop) \n",
            "               Observer Program\n",
            "\t   R = U.S. Interagency Remote Automatic Weather Station (RAWS)\n",
            "\t       identifier\n",
            "\t   S = U.S. Natural Resources Conservation Service SNOwpack\n",
            "\t       TELemtry (SNOTEL) station identifier\n",
            "           W = WBAN identification number (last five characters of the \n",
            "               GHCN-Daily ID)\n",
            "\n",
            "LATITUDE   is latitude of the station (in decimal degrees).\n",
            "\n",
            "LONGITUDE  is the longitude of the station (in decimal degrees).\n",
            "\n",
            "ELEVATION  is the elevation of the station (in meters, missing = -999.9).\n",
            "\n",
            "\n",
            "STATE      is the U.S. postal code for the state (for U.S. stations only).\n",
            "\n",
            "NAME       is the name of the station.\n",
            "\n",
            "GSN FLAG   is a flag that indicates whether the station is part of the GCOS\n",
            "           Surface Network (GSN). The flag is assigned by cross-referencing \n",
            "           the number in the WMOID field with the official list of GSN \n",
            "           stations. There are two possible values:\n",
            "\n",
            "           Blank = non-GSN station or WMO Station number not available\n",
            "           GSN   = GSN station \n",
            "\n",
            "HCN/      is a flag that indicates whether the station is part of the U.S.\n",
            "CRN FLAG  Historical Climatology Network (HCN) or U.S. Climate Refererence\n",
            "          Network (CRN).  There are three possible values:\n",
            "\n",
            "           Blank = Not a member of the U.S. Historical Climatology \n",
            "\t           or U.S. Climate Reference Networks\n",
            "           HCN   = U.S. Historical Climatology Network station\n",
            "\t   CRN   = U.S. Climate Reference Network or U.S. Regional Climate \n",
            "\t           Network Station\n",
            "\n",
            "WMO ID     is the World Meteorological Organization (WMO) number for the\n",
            "           station.  If the station has no WMO number (or one has not yet \n",
            "\t   been matched to this station), then the field is blank.  \n",
            "\n",
            "--------------------------------------------------------------------------------\n",
            "--------------------------------------------------------------------------------\n",
            "\n",
            "V. FORMAT OF \"ghcnd-countries.txt\"\n",
            "\n",
            "------------------------------\n",
            "Variable   Columns   Type\n",
            "------------------------------\n",
            "CODE          1-2    Character\n",
            "NAME          4-64   Character\n",
            "------------------------------\n",
            "\n",
            "These variables have the following definitions:\n",
            "\n",
            "CODE       is the FIPS country code of the country where the station is \n",
            "           located (from FIPS Publication 10-4 at \n",
            "           www.cia.gov/cia/publications/factbook/appendix/appendix-d.html).\n",
            "\n",
            "NAME       is the name of the country.\n",
            "\n",
            "--------------------------------------------------------------------------------\n",
            "--------------------------------------------------------------------------------\n",
            "\n",
            "VI. FORMAT OF \"ghcnd-states.txt\"\n",
            "\n",
            "------------------------------\n",
            "Variable   Columns   Type\n",
            "------------------------------\n",
            "CODE          1-2    Character\n",
            "NAME         4-50    Character\n",
            "------------------------------\n",
            "\n",
            "These variables have the following definitions:\n",
            "\n",
            "CODE       is the POSTAL code of the U.S. state/territory or Canadian \n",
            "           province where the station is located \n",
            "\n",
            "NAME       is the name of the state, territory or province.\n",
            "\n",
            "--------------------------------------------------------------------------------\n",
            "--------------------------------------------------------------------------------\n",
            "\n",
            "VII. FORMAT OF \"ghcnd-inventory.txt\"\n",
            "\n",
            "------------------------------\n",
            "Variable   Columns   Type\n",
            "------------------------------\n",
            "ID            1-11   Character\n",
            "LATITUDE     13-20   Real\n",
            "LONGITUDE    22-30   Real\n",
            "ELEMENT      32-35   Character\n",
            "FIRSTYEAR    37-40   Integer\n",
            "LASTYEAR     42-45   Integer\n",
            "------------------------------\n",
            "\n",
            "These variables have the following definitions:\n",
            "\n",
            "ID         is the station identification code.  Please see \"ghcnd-stations.txt\"\n",
            "           for a complete list of stations and their metadata.\n",
            "\n",
            "LATITUDE   is the latitude of the station (in decimal degrees).\n",
            "\n",
            "LONGITUDE  is the longitude of the station (in decimal degrees).\n",
            "\n",
            "ELEMENT    is the element type.  See section III for a definition of elements.\n",
            "\n",
            "FIRSTYEAR  is the first year of unflagged data for the given element.\n",
            "\n",
            "LASTYEAR   is the last year of unflagged data for the given element.\n",
            "\n",
            "--------------------------------------------------------------------------------\n",
            "--------------------------------------------------------------------------------\n",
            "VIII. FORMAT OF \"mingle-list.txt\"\n",
            "\n",
            "--------------------------------------------------------------------------------\n",
            "Variable                                  Column(s)   Type\n",
            "--------------------------------------------------------------------------------\n",
            "GHCN-Daily Identifier (ID)                      1-11       Character\n",
            "No of sources assoc. with the station (N)       13-14      Integer\n",
            "Source Code of lowest ranking source            16         Character\n",
            "Source Idenfier of lowest ranking source        18-28      Character\n",
            "Source Code of next lowest ranking source       30         Character\n",
            "Source Identifier of next lowest ranking source 32-42\n",
            ".\n",
            ".\n",
            ".\n",
            "Up to Nth (highest ranking) source code and source identifier'\n",
            "[See section III for a definition of source codes]\n",
            "\n",
            "IX.  REFERENCES\n",
            "\n",
            "The journal article describing GHCN-Daily is:\n",
            "Menne, M.J., I. Durre, R.S. Vose, B.E. Gleason, and T.G. Houston, 2012:  An overview \n",
            "of the Global Historical Climatology Network-Daily Database.  Journal of Atmospheric \n",
            "and Oceanic Technology, 29, 897-910, doi:10.1175/JTECH-D-11-00103.1.\n",
            "\n",
            "To acknowledge the specific version of the dataset used, please cite:\n",
            "Menne, M.J., I. Durre, B. Korzeniewski, S. McNeal, K. Thomas, X. Yin, S. Anthony, R. Ray, \n",
            "R.S. Vose, B.E.Gleason, and T.G. Houston, 2012: Global Historical Climatology Network - \n",
            "Daily (GHCN-Daily), Version 3. [indicate subset used following decimal, \n",
            "e.g. Version 3.12]. \n",
            "NOAA National Climatic Data Center. http://doi.org/10.7289/V5D21VHZ [access date].\n",
            "\n",
            "Klein Tank, A.M.G. and Coauthors, 2002. Daily dataset of 20th-century surface\n",
            "air temperature and precipitation series for the European Climate Assessment.\n",
            "Int. J. of Climatol., 22, 1441-1453.\n",
            "Data and metadata available at http://eca.knmi.nl\n",
            "\n",
            "\n",
            "\n",
            "For additional information, please send an e-mail to ncdc.ghcnd@noaa.gov.\n",
            "\n"
          ]
        }
      ],
      "source": [
        "print(readme)"
      ]
    },
    {
      "cell_type": "markdown",
      "metadata": {
        "id": "aQx2DjTEsrH5"
      },
      "source": [
        "In particular, we'll be interested in section II which lists the contents.\n",
        "\n",
        "```\n",
        "II. CONTENTS OF ftp://ftp.ncdc.noaa.gov/pub/data/ghcn/daily\n",
        "\n",
        "all:                  Directory with \".dly\" files for all of GHCN-Daily\n",
        "gsn:                  Directory with \".dly\" files for the GCOS Surface Network\n",
        "                     (GSN)\n",
        "hcn:                  Directory with \".dly\" files for U.S. HCN\n",
        "by_year:              Directory with GHCN Daily files parsed into yearly\n",
        "                      subsets with observation times where available.  See the\n",
        "\t\t      /by_year/readme.txt and\n",
        "\t\t      /by_year/ghcn-daily-by_year-format.rtf\n",
        "\t\t      files for further information\n",
        "grid:\t              Directory with the GHCN-Daily gridded dataset known\n",
        "                      as HadGHCND\n",
        "papers:\t\t      Directory with pdf versions of journal articles relevant\n",
        "                      to the GHCN-Daily dataset\n",
        "figures:\t      Directory containing figures that summarize the inventory\n",
        "                      of GHCN-Daily station records\t\t    \n",
        "\n",
        "ghcnd-all.tar.gz:  TAR file of the GZIP-compressed files in the \"all\" directory\n",
        "ghcnd-gsn.tar.gz:  TAR file of the GZIP-compressed \"gsn\" directory\n",
        "ghcnd-hcn.tar.gz:  TAR file of the GZIP-compressed \"hcn\" directory\n",
        "\n",
        "ghcnd-countries.txt:  List of country codes (FIPS) and names\n",
        "ghcnd-inventory.txt:  File listing the periods of record for each station and\n",
        "                      element\n",
        "ghcnd-stations.txt:   List of stations and their metadata (e.g., coordinates)\n",
        "ghcnd-states.txt:     List of U.S. state and Canadian Province codes\n",
        "                      used in ghcnd-stations.txt\n",
        "ghcnd-version.txt:    File that specifies the current version of GHCN Daily\n",
        "\n",
        "readme.txt:           This file\n",
        "status.txt:           Notes on the current status of GHCN-Daily\n",
        "```\n",
        "\n",
        "As we look at the files available we cansee that `ghcnd-inventory.txt` has a listing of the recording periods for each station which will help us find a good data set, and `ghcnd-stations.txt` lists the stations which should help us find the station closest to our location, so we'll grab those two files first."
      ]
    },
    {
      "cell_type": "markdown",
      "metadata": {
        "id": "TpS-v2jYsrH6"
      },
      "source": [
        "```\n",
        "II. CONTENTS OF ftp://ftp.ncdc.noaa.gov/pub/data/ghcn/daily\n",
        "\n",
        "all:                  Directory with \".dly\" files for all of GHCN-Daily\n",
        "gsn:                  Directory with \".dly\" files for the GCOS Surface Network\n",
        "                     (GSN)\n",
        "hcn:                  Directory with \".dly\" files for U.S. HCN\n",
        "by_year:              Directory with GHCN Daily files parsed into yearly\n",
        "                      subsets with observation times where available.  See the\n",
        "\t\t      /by_year/readme.txt and\n",
        "\t\t      /by_year/ghcn-daily-by_year-format.rtf\n",
        "\t\t      files for further information\n",
        "grid:\t              Directory with the GHCN-Daily gridded dataset known\n",
        "                      as HadGHCND\n",
        "papers:\t\t      Directory with pdf versions of journal articles relevant\n",
        "                      to the GHCN-Daily dataset\n",
        "figures:\t      Directory containing figures that summarize the inventory\n",
        "                      of GHCN-Daily station records\t\t    \n",
        "\n",
        "ghcnd-all.tar.gz:  TAR file of the GZIP-compressed files in the \"all\" directory\n",
        "ghcnd-gsn.tar.gz:  TAR file of the GZIP-compressed \"gsn\" directory\n",
        "ghcnd-hcn.tar.gz:  TAR file of the GZIP-compressed \"hcn\" directory\n",
        "\n",
        "ghcnd-countries.txt:  List of country codes (FIPS) and names\n",
        "ghcnd-inventory.txt:  File listing the periods of record for each station and\n",
        "                      element\n",
        "ghcnd-stations.txt:   List of stations and their metadata (e.g., coordinates)\n",
        "ghcnd-states.txt:     List of U.S. state and Canadian Province codes\n",
        "                      used in ghcnd-stations.txt\n",
        "ghcnd-version.txt:    File that specifies the current version of GHCN Daily\n",
        "\n",
        "readme.txt:           This file\n",
        "status.txt:           Notes on the current status of GHCN-Daily\n",
        "```\n"
      ]
    },
    {
      "cell_type": "code",
      "execution_count": 3,
      "metadata": {
        "id": "MuRoASe3srH6"
      },
      "outputs": [],
      "source": [
        "# get inventory and stations files\n",
        "\n",
        "r = requests.get('https://www1.ncdc.noaa.gov/pub/data/ghcn/daily/ghcnd-inventory.txt')\n",
        "inventory_txt = r.text\n",
        "r = requests.get('https://www1.ncdc.noaa.gov/pub/data/ghcn/daily/ghcnd-stations.txt')\n",
        "stations_txt = r.text"
      ]
    },
    {
      "cell_type": "markdown",
      "metadata": {
        "id": "neU8ZwresrH6"
      },
      "source": [
        "Once we have those files, we can save them to our local disk, so that we won't need to download them again if we need to go back to the original data."
      ]
    },
    {
      "cell_type": "code",
      "execution_count": 4,
      "metadata": {
        "id": "B5PZqbHCsrH6"
      },
      "outputs": [],
      "source": [
        "# save both the inventory and stations files to disk, in case we need them\n",
        "\n",
        "with open(\"inventory.txt\", \"w\") as inventory_file:\n",
        "    inventory_file.write(inventory_txt)\n",
        "\n",
        "with open(\"stations.txt\", \"w\") as stations_file:\n",
        "    stations_file.write(stations_txt)\n"
      ]
    },
    {
      "cell_type": "markdown",
      "metadata": {
        "id": "yuHAiXDUsrH6"
      },
      "source": [
        "We'll start by looking at the inventory file. Here's what the first 137 characters show us:"
      ]
    },
    {
      "cell_type": "code",
      "execution_count": 5,
      "metadata": {
        "scrolled": true,
        "id": "GgxyfShusrH6",
        "outputId": "76de93f0-9543-43c9-c82c-538f71d4e2af",
        "colab": {
          "base_uri": "https://localhost:8080/"
        }
      },
      "outputs": [
        {
          "output_type": "stream",
          "name": "stdout",
          "text": [
            "ACW00011604  17.1167  -61.7833 TMAX 1949 1949\n",
            "ACW00011604  17.1167  -61.7833 TMIN 1949 1949\n",
            "ACW00011604  17.1167  -61.7833 PRCP 1949 1949\n"
          ]
        }
      ],
      "source": [
        "print(inventory_txt[:137])"
      ]
    },
    {
      "cell_type": "markdown",
      "metadata": {
        "id": "3dpQyOansrH7"
      },
      "source": [
        "If we look at section VII of the `readme.txt` file we can see that the format of the inventory file is:\n",
        "```\n",
        "VII. FORMAT OF \"ghcnd-inventory.txt\"\n",
        "\n",
        "------------------------------\n",
        "Variable   Columns   Type\n",
        "------------------------------\n",
        "ID            1-11   Character\n",
        "LATITUDE     13-20   Real\n",
        "LONGITUDE    22-30   Real\n",
        "ELEMENT      32-35   Character\n",
        "FIRSTYEAR    37-40   Integer\n",
        "LASTYEAR     42-45   Integer\n",
        "------------------------------\n",
        "\n",
        "These variables have the following definitions:\n",
        "\n",
        "ID         is the station identification code.  Please see \"ghcnd-stations.txt\"\n",
        "           for a complete list of stations and their metadata.\n",
        "\n",
        "LATITUDE   is the latitude of the station (in decimal degrees).\n",
        "\n",
        "LONGITUDE  is the longitude of the station (in decimal degrees).\n",
        "\n",
        "ELEMENT    is the element type.  See section III for a definition of elements.\n",
        "\n",
        "FIRSTYEAR  is the first year of unflagged data for the given element.\n",
        "\n",
        "LASTYEAR   is the last year of unflagged data for the given element.\n",
        "```\n",
        "\n",
        "From this descrption we can tell that inventory list has most of the information we need to find out what station we'll want to look at. We can use the latitude and longitude to find the stations closest to us, and then we can use the first and years years to a station with records covering a long span of time.\n",
        "\n",
        "The only question this file leaves us with is what the \"ELEMENT\" field is, for that it suggests we look at section III. In section III (which we'll look at in more detail later) we find the following description of the main elements:\n",
        "\n",
        "```\n",
        "ELEMENT    is the element type.   There are five core elements as well as a number\n",
        "           of addition elements.  \n",
        "\t   \n",
        "\t   The five core elements are:\n",
        "\n",
        "           PRCP = Precipitation (tenths of mm)\n",
        "           SNOW = Snowfall (mm)\n",
        "           SNWD = Snow depth (mm)\n",
        "           TMAX = Maximum temperature (tenths of degrees C)\n",
        "           TMIN = Minimum temperature (tenths of degrees C)\n",
        "```\n",
        "\n",
        "For our purpose we'll be interested in the TMAX and TMIN elements, which are maximum and minimum temperatures in tenths of degrees Centigrade."
      ]
    },
    {
      "cell_type": "markdown",
      "metadata": {
        "id": "3d-FbSQWsrH7"
      },
      "source": [
        "# Parsing the inventory data\n",
        "\n",
        "The `readme.txt` file tells us what we've got in the inventory file, so we can parse the data into a more usable format. We could just store the parsed inventory data as a list of lists or list of tuples, but it takes only a little more effort to use `dataclass` from the `dataclasses` library to create a custom class with the attributes named (a named tuple would also be a possibility here):"
      ]
    },
    {
      "cell_type": "code",
      "source": [
        "# use dataclass to create a custom Inventory class\n",
        "from dataclasses import dataclass\n",
        "\n",
        "@dataclass\n",
        "class Inventory:\n",
        "   station:str\n",
        "   latitude: float\n",
        "   longitude: float\n",
        "   element:str\n",
        "   start:int\n",
        "   end:int"
      ],
      "metadata": {
        "id": "KLDuwKP9MSIB"
      },
      "execution_count": 6,
      "outputs": []
    },
    {
      "cell_type": "markdown",
      "metadata": {
        "id": "MaZX59-4srH7"
      },
      "source": [
        "Using the Inventory class we created is very straightforward - we simply need to create each instance from the appropriate values, in this case a parsed row of inventory data.\n",
        "\n",
        "The parsing will involve two steps. First, we need to pick out slices of a line according to the field sizes specified. As you look at the field descriptions in the readme file, it's also clear that there is an extra space between files, which would need to be considered in coming up with any approach to parsing. In our case, since we're specifying each slice, the extra spaces are ignored. In addition, since the sizes of the station and element fields exactly correspond to the values stored in them we shouldn't need to worry about stripping excess spaces from them.\n",
        "\n",
        "The second thing that would be nice to do is to convert the latitude and longitude values to floats and the start and end years to ints. We could do this at later stage of data cleaning, and in fact if the data is inconsistent and doesn't have values that will convert correctly in every row, we might want to wait. But in this case the data will let us handle these conversions in the parsing step, so let's do it."
      ]
    },
    {
      "cell_type": "code",
      "execution_count": 7,
      "metadata": {
        "id": "vcJppQ9wsrH7",
        "outputId": "f1d8042a-2cad-43c4-f641-3af66c7b511a",
        "colab": {
          "base_uri": "https://localhost:8080/"
        }
      },
      "outputs": [
        {
          "output_type": "stream",
          "name": "stdout",
          "text": [
            "Inventory(station='US009052008', latitude=43.7333, longitude=-96.6333, element='TMAX', start=2008, end=2016)\n",
            "Inventory(station='US009052008', latitude=43.7333, longitude=-96.6333, element='TMIN', start=2008, end=2016)\n",
            "Inventory(station='US009052008', latitude=43.7333, longitude=-96.6333, element='PRCP', start=2008, end=2016)\n",
            "Inventory(station='US009052008', latitude=43.7333, longitude=-96.6333, element='SNWD', start=2009, end=2016)\n",
            "Inventory(station='US10RMHS145', latitude=40.5268, longitude=-105.1113, element='PRCP', start=2004, end=2004)\n"
          ]
        }
      ],
      "source": [
        "# parse inventory lines and convert some values to floats and ints\n",
        "\n",
        "inventory = [Inventory(x[0:11], float(x[12:20]), float(x[21:30]), x[31:35], int(x[36:40]), int(x[41:45]))\n",
        "             for x in inventory_txt.split(\"\\n\") if x.startswith(\"US\")]\n",
        "\n",
        "for line in inventory[:5]:\n",
        "    print(line)"
      ]
    },
    {
      "cell_type": "markdown",
      "metadata": {
        "id": "sDZlRyf3srH8"
      },
      "source": [
        "# Selecting a station based on latitude and longitude\n",
        "\n",
        "Now that the inventory is loaded we can use the latitude and longitude to find the stations closest to our location and then pick the one with the longest run of temperatures base on start and end years. As we look at even the first line of the data, we can see two things to worry about. First, there are various different element types, but we're only concerned with TMIN and TMAX, for min and max temeprature. Second, none of the first inventory entries we see cover more than a few years. If we're going to be looking for a historical perspectinve, we'll want to find a much longer run of temperature data.\n",
        "\n",
        "To do pick out what we need quickly we can use a list comprehension to make a sub list of only the station inventory items where the element is either TMIN or TMAX. The other thing that we care about is getting a station with a long run of data so while we're creating this sub list, let's also make sure that the start year is before 1920 and the end year is at least 2024. That way we'll only be looking at stations with over 100 years of data."
      ]
    },
    {
      "cell_type": "code",
      "execution_count": 8,
      "metadata": {
        "id": "IfYe3vtDsrH8",
        "outputId": "be3ec0ce-8253-4e93-9434-5a4623960a61",
        "colab": {
          "base_uri": "https://localhost:8080/"
        }
      },
      "outputs": [
        {
          "output_type": "execute_result",
          "data": {
            "text/plain": [
              "[Inventory(station='USC00010583', latitude=30.8839, longitude=-87.7853, element='TMAX', start=1915, end=2024),\n",
              " Inventory(station='USC00010583', latitude=30.8839, longitude=-87.7853, element='TMIN', start=1915, end=2024),\n",
              " Inventory(station='USC00011694', latitude=32.8158, longitude=-86.6044, element='TMAX', start=1893, end=2024),\n",
              " Inventory(station='USC00011694', latitude=32.8158, longitude=-86.6044, element='TMIN', start=1893, end=2024),\n",
              " Inventory(station='USC00012813', latitude=30.5467, longitude=-87.8808, element='TMAX', start=1917, end=2024)]"
            ]
          },
          "metadata": {},
          "execution_count": 8
        }
      ],
      "source": [
        "inventory_temps = [x for x in inventory if x.element in ['TMIN', 'TMAX']\n",
        "                   and x.end >= 2024 and x.start < 1920]\n",
        "inventory_temps[:5]"
      ]
    },
    {
      "cell_type": "markdown",
      "metadata": {
        "id": "enhHgDQKsrH8"
      },
      "source": [
        "Looking at the first five records in our new list, we're in better shape. We now have only temperature records, and the start and end years show we have longer runs.\n",
        "\n",
        "That leaves the problem of selecting the station nearest to our location. To do that we'll want to compare the latitude and longitude of the station inventories to that of our location. There are various ways to get the latitude and longitude of any place but probably the easiest is to use an online mapping application or online search. When I do that for the Chicago Loop, I get a latitude of 41.882 and a longitude of -87.629.\n",
        "\n",
        "Since we're interested in the stations closest to our location, that implies sorting based on how close the latitude and longitude of the stations are to that of our location. Sorting a list is easy enough, and sorting by latitude and longitude is not that hard, but the question is how do we sort by the distance from our latitude and longitude?\n",
        "\n",
        "The answer is to define a key funtion for our sort that gets the difference between our latitude and the station latitude, and the difference between our longitude and the station longitude and combines them into one number. The only other thing to remember is that we'll want to add the absolute value of the differences before we combine them to avoid having a high negative difference combined with an equally high positive difference fool our sort."
      ]
    },
    {
      "cell_type": "code",
      "execution_count": 9,
      "metadata": {
        "scrolled": true,
        "id": "Olj4hIbxsrH8",
        "outputId": "e2279d05-576a-413d-da0a-5b12b632d5f3",
        "colab": {
          "base_uri": "https://localhost:8080/"
        }
      },
      "outputs": [
        {
          "output_type": "execute_result",
          "data": {
            "text/plain": [
              "[Inventory(station='USC00110338', latitude=41.7803, longitude=-88.3092, element='TMAX', start=1893, end=2024),\n",
              " Inventory(station='USC00110338', latitude=41.7803, longitude=-88.3092, element='TMIN', start=1893, end=2024),\n",
              " Inventory(station='USC00112736', latitude=42.0628, longitude=-88.2861, element='TMAX', start=1897, end=2024),\n",
              " Inventory(station='USC00112736', latitude=42.0628, longitude=-88.2861, element='TMIN', start=1897, end=2024),\n",
              " Inventory(station='USC00476922', latitude=42.7028, longitude=-87.7858, element='TMAX', start=1896, end=2024),\n",
              " Inventory(station='USC00476922', latitude=42.7028, longitude=-87.7858, element='TMIN', start=1896, end=2024),\n",
              " Inventory(station='USC00124837', latitude=41.6117, longitude=-86.7297, element='TMAX', start=1897, end=2024),\n",
              " Inventory(station='USC00124837', latitude=41.6117, longitude=-86.7297, element='TMIN', start=1897, end=2024),\n",
              " Inventory(station='USC00115825', latitude=41.3714, longitude=-88.4333, element='TMAX', start=1912, end=2024),\n",
              " Inventory(station='USC00115825', latitude=41.3714, longitude=-88.4333, element='TMIN', start=1912, end=2024),\n",
              " Inventory(station='USC00200710', latitude=42.1244, longitude=-86.4267, element='TMAX', start=1893, end=2024),\n",
              " Inventory(station='USC00200710', latitude=42.1244, longitude=-86.4267, element='TMIN', start=1893, end=2024),\n",
              " Inventory(station='USC00114198', latitude=40.4664, longitude=-87.685, element='TMAX', start=1902, end=2024),\n",
              " Inventory(station='USC00114198', latitude=40.4664, longitude=-87.685, element='TMIN', start=1902, end=2024),\n",
              " Inventory(station='USW00014848', latitude=41.7072, longitude=-86.3164, element='TMAX', start=1893, end=2024),\n",
              " Inventory(station='USW00014848', latitude=41.7072, longitude=-86.3164, element='TMIN', start=1893, end=2024),\n",
              " Inventory(station='USC00124657', latitude=41.3053, longitude=-86.6286, element='TMAX', start=1897, end=2024),\n",
              " Inventory(station='USC00124657', latitude=41.3053, longitude=-86.6286, element='TMIN', start=1897, end=2024),\n",
              " Inventory(station='USC00478937', latitude=42.9986, longitude=-88.2525, element='TMAX', start=1894, end=2024),\n",
              " Inventory(station='USC00478937', latitude=42.9986, longitude=-88.2525, element='TMIN', start=1894, end=2024)]"
            ]
          },
          "metadata": {},
          "execution_count": 9
        }
      ],
      "source": [
        "# Downtown Chicago, obtained via online map\n",
        "latitude, longitude = 41.882, -87.629\n",
        "\n",
        "inventory_temps.sort(key=lambda x:  abs(latitude-x.latitude) + abs(longitude-x.longitude))\n",
        "\n",
        "inventory_temps[:20]"
      ]
    },
    {
      "cell_type": "markdown",
      "metadata": {
        "id": "ADk9dTJ1srH8"
      },
      "source": [
        "### Selecting a station and getting the station metadata\n",
        "\n",
        "As we look at the top 20 entries in our newly sorted list it seems that the first station, USC00110338, is a good fit. It's got both TMIN and TMAX and one of the longer series, starting in 1893 and running up through 2024, for over 120 years of data. So we'll save that station into our station variable and quickly parse the station data we've already grabbed to pick up a little more information about the station.\n",
        "\n",
        "Back in the readme file we find the following information about the station data:\n",
        "\n",
        "```\n",
        "IV. FORMAT OF \"ghcnd-stations.txt\"\n",
        "\n",
        "------------------------------\n",
        "Variable   Columns   Type\n",
        "------------------------------\n",
        "ID            1-11   Character\n",
        "LATITUDE     13-20   Real\n",
        "LONGITUDE    22-30   Real\n",
        "ELEVATION    32-37   Real\n",
        "STATE        39-40   Character\n",
        "NAME         42-71   Character\n",
        "GSN FLAG     73-75   Character\n",
        "HCN/CRN FLAG 77-79   Character\n",
        "WMO ID       81-85   Character\n",
        "------------------------------\n",
        "\n",
        "These variables have the following definitions:\n",
        "\n",
        "ID         is the station identification code.  Note that the first two\n",
        "           characters denote the FIPS  country code, the third character\n",
        "           is a network code that identifies the station numbering system\n",
        "           used, and the remaining eight characters contain the actual\n",
        "           station ID.\n",
        "\n",
        "           See \"ghcnd-countries.txt\" for a complete list of country codes.\n",
        "\t       See \"ghcnd-states.txt\" for a list of state/province/territory codes.\n",
        "\n",
        "           The network code  has the following five values:\n",
        "\n",
        "           0 = unspecified (station identified by up to eight\n",
        "\t       alphanumeric characters)\n",
        "\t   1 = Community Collaborative Rain, Hail,and Snow (CoCoRaHS)\n",
        "\t       based identification number.  To ensure consistency with\n",
        "\t       with GHCN Daily, all numbers in the original CoCoRaHS IDs\n",
        "\t       have been left-filled to make them all four digits long.\n",
        "\t       In addition, the characters \"-\" and \"_\" have been removed\n",
        "\t       to ensure that the IDs do not exceed 11 characters when\n",
        "\t       preceded by \"US1\". For example, the CoCoRaHS ID\n",
        "\t       \"AZ-MR-156\" becomes \"US1AZMR0156\" in GHCN-Daily\n",
        "       C = U.S. Cooperative Network identification number (last six\n",
        "           characters of the GHCN-Daily ID)\n",
        "\t   E = Identification number used in the ECA&D non-blended\n",
        "\t       dataset\n",
        "\t   M = World Meteorological Organization ID (last five\n",
        "\t       characters of the GHCN-Daily ID)\n",
        "\t   N = Identification number used in data supplied by a\n",
        "\t       National Meteorological or Hydrological Center\n",
        "\t   R = U.S. Interagency Remote Automatic Weather Station (RAWS)\n",
        "\t       identifier\n",
        "\t   S = U.S. Natural Resources Conservation Service SNOwpack\n",
        "\t       TELemtry (SNOTEL) station identifier\n",
        "           W = WBAN identification number (last five characters of the\n",
        "           GHCN-Daily ID)\n",
        "\n",
        "LATITUDE   is latitude of the station (in decimal degrees).\n",
        "\n",
        "LONGITUDE  is the longitude of the station (in decimal degrees).\n",
        "\n",
        "ELEVATION  is the elevation of the station (in meters, missing = -999.9).\n",
        "\n",
        "\n",
        "STATE      is the U.S. postal code for the state (for U.S. stations only).\n",
        "\n",
        "NAME       is the name of the station.\n",
        "\n",
        "GSN FLAG   is a flag that indicates whether the station is part of the GCOS\n",
        "           Surface Network (GSN). The flag is assigned by cross-referencing\n",
        "           the number in the WMOID field with the official list of GSN\n",
        "           stations. There are two possible values:\n",
        "\n",
        "           Blank = non-GSN station or WMO Station number not available\n",
        "           GSN   = GSN station\n",
        "\n",
        "HCN/      is a flag that indicates whether the station is part of the U.S.\n",
        "CRN FLAG  Historical Climatology Network (HCN).  There are three possible\n",
        "          values:\n",
        "\n",
        "           Blank = Not a member of the U.S. Historical Climatology\n",
        "\t           or U.S. Climate Reference Networks\n",
        "           HCN   = U.S. Historical Climatology Network station\n",
        "\t       CRN   = U.S. Climate Reference Network or U.S. Regional Climate\n",
        "\t           Network Station\n",
        "\n",
        "WMO ID     is the World Meteorological Organization (WMO) number for the\n",
        "           station.  If the station has no WMO number (or one has not yet\n",
        "\t       been matched to this station), then the field is blank.\n",
        "```\n",
        "\n",
        "While I might care more about the metadata fields for more serious research, for my purpose right now, I want to the start and end year from the inventory records to the rest of the station metadata in the station file.\n",
        "\n",
        "There are a number of ways I could sift through the stations file to find the one station that matches the station ID I selected above. I could create a for loop to go through each line and break out when I found it, I could split the data into lines, and the sort and use a binary search, and so on. And depending on the nature and amount of data one approach or another might be appropriate. In this case, since I have the data loaded already and it's not too large, my preference would be to use a list comprehension to return a list with it's one element being the station I'm looking for."
      ]
    },
    {
      "cell_type": "code",
      "execution_count": 11,
      "metadata": {
        "id": "LoaIxNWEsrH8",
        "outputId": "e0b269b1-dc93-4902-a457-1d42450ae19b",
        "colab": {
          "base_uri": "https://localhost:8080/"
        }
      },
      "outputs": [
        {
          "output_type": "stream",
          "name": "stdout",
          "text": [
            "Station(station_id='USC00110338', latitude=41.7803, longitude=-88.3092, elevation=205.7, state='IL', name='AURORA WATER', start=1893, end=2024)\n"
          ]
        }
      ],
      "source": [
        "from collections import namedtuple\n",
        "\n",
        "station_id = 'USC00110338'\n",
        "\n",
        "# parse stations\n",
        "Station = namedtuple(\"Station\", ['station_id', 'latitude', 'longitude', 'elevation', 'state', 'name', 'start', 'end'])\n",
        "\n",
        "stations = [(x[0:11], float(x[12:20]), float(x[21:30]), float(x[31:37]), x[38:40].strip(), x[41:71].strip())\n",
        "            for x in stations_txt.split(\"\\n\") if x.startswith(station_id)]\n",
        "\n",
        "station = Station(*stations[0] + (inventory_temps[0].start, inventory_temps[0].end))\n",
        "print(station)\n"
      ]
    },
    {
      "cell_type": "markdown",
      "metadata": {
        "id": "utC8RX2ssrH9"
      },
      "source": [
        "At this point I've identified that I want weather data from the station at Aurora Illinois, which is the nearest station to downtown Chicago with over a century of temperature data."
      ]
    },
    {
      "cell_type": "markdown",
      "metadata": {
        "id": "8yxZ-WT5srH9"
      },
      "source": [
        "# Fetching and parsing the actual weather data\n",
        "\n",
        "With the station identified, the next step is to fetch the actualy weather data for that station and parse it. The process will be quite similar to what we did above.\n",
        "\n",
        "## Fetching the data\n",
        "\n",
        "First, let's fetch the data file and save it, in case we need to go back to it."
      ]
    },
    {
      "cell_type": "code",
      "execution_count": 12,
      "metadata": {
        "id": "MzYLfGF1srH9"
      },
      "outputs": [],
      "source": [
        "# fetch daily records for selected station\n",
        "\n",
        "r = requests.get('https://www1.ncdc.noaa.gov/pub/data/ghcn/daily/all/{}.dly'.format(station.station_id))\n",
        "weather = r.text\n",
        "\n",
        "# save into a text file, so we won't need to fetch again\n",
        "\n",
        "with open('weather_{}.txt'.format(station), \"w\") as weather_file:\n",
        "    weather_file.write(weather)"
      ]
    },
    {
      "cell_type": "code",
      "execution_count": 13,
      "metadata": {
        "id": "o0Bu8_gGsrH9"
      },
      "outputs": [],
      "source": [
        "# read from saved daily file if needed (only used if we want to start the process over without downloadng the file)\n",
        "\n",
        "with open('weather_{}.txt'.format(station)) as weather_file:\n",
        "    weather = weather_file.read()"
      ]
    },
    {
      "cell_type": "code",
      "execution_count": 14,
      "metadata": {
        "scrolled": true,
        "id": "bSsGCFDasrH9",
        "outputId": "6ae0527d-2350-4585-bd73-5d1571ad8ca5",
        "colab": {
          "base_uri": "https://localhost:8080/"
        }
      },
      "outputs": [
        {
          "output_type": "stream",
          "name": "stdout",
          "text": [
            "USC00110338189301TMAX  -11  6  -44  6 -139  6  -83  6 -100  6  -83  6  -72  6  -83  6  -33  6 -178  6 -150  6 -128  6 -172  6 -200  6 -189  6 -150  6 -106  6  -61  6  -94  6  -33  6  -33  6  -33  6  -33  6    6  6  -33  6  -78  6  -33  6   44  6  -89 I6  -22  6    6  6\n",
            "USC00110338189301TMIN  -50  6 -139  6 -250  6 -144  6 -178  6 -228  6 -144  6 -222  6 -178  6 -250  6 -200  6 -206  6 -267  6 -272  6 -294  6 -294  6 -311  6 -200  6 -233  6 -178  6 -156  6  -89  6 -200  6 -194  6 -194  6 -178  6 -200  6  -33 I6 -156  6 -139  6 -167  6\n",
            "\n"
          ]
        }
      ],
      "source": [
        "print(weather[:540])"
      ]
    },
    {
      "cell_type": "markdown",
      "metadata": {
        "id": "X21q9ayQsrH9"
      },
      "source": [
        "### Parsing the weather data\n",
        "\n",
        "Again, now that we have the data we can see it's quite a bit more complex that the station and inventory data. Clearly it's time to head back to the `readme.txt` file, and section III, which is the description of a weather data file. There are a lot of options, so we'll filter them down to the ones that concern us, and leave out the other element types as well as the whole system of flags specifying the source, quality, type of the values.\n",
        "\n",
        "```\n",
        "III. FORMAT OF DATA FILES (\".dly\" FILES)\n",
        "\n",
        "Each \".dly\" file contains data for one station.  The name of the file\n",
        "corresponds to a station's identification code.  For example, \"USC00026481.dly\"\n",
        "contains the data for the station with the identification code USC00026481).\n",
        "\n",
        "Each record in a file contains one month of daily data.  The variables on each\n",
        "line include the following:\n",
        "\n",
        "------------------------------\n",
        "Variable   Columns   Type\n",
        "------------------------------\n",
        "ID            1-11   Character\n",
        "YEAR         12-15   Integer\n",
        "MONTH        16-17   Integer\n",
        "ELEMENT      18-21   Character\n",
        "VALUE1       22-26   Integer\n",
        "MFLAG1       27-27   Character\n",
        "QFLAG1       28-28   Character\n",
        "SFLAG1       29-29   Character\n",
        "VALUE2       30-34   Integer\n",
        "MFLAG2       35-35   Character\n",
        "QFLAG2       36-36   Character\n",
        "SFLAG2       37-37   Character\n",
        "  .           .          .\n",
        "  .           .          .\n",
        "  .           .          .\n",
        "VALUE31    262-266   Integer\n",
        "MFLAG31    267-267   Character\n",
        "QFLAG31    268-268   Character\n",
        "SFLAG31    269-269   Character\n",
        "------------------------------\n",
        "\n",
        "These variables have the following definitions:\n",
        "\n",
        "ID         is the station identification code.  Please see \"ghcnd-stations.txt\"\n",
        "           for a complete list of stations and their metadata.\n",
        "YEAR       is the year of the record.\n",
        "\n",
        "MONTH      is the month of the record.\n",
        "\n",
        "ELEMENT    is the element type.   There are five core elements as well as a number\n",
        "           of addition elements.  \n",
        "\t   \n",
        "\t   The five core elements are:\n",
        "\n",
        "           PRCP = Precipitation (tenths of mm)\n",
        "           SNOW = Snowfall (mm)\n",
        "           SNWD = Snow depth (mm)\n",
        "           TMAX = Maximum temperature (tenths of degrees C)\n",
        "           TMIN = Minimum temperature (tenths of degrees C)\n",
        "\t   \n",
        "...\n",
        "\t\t   \n",
        "VALUE1     is the value on the first day of the month (missing = -9999).\n",
        "\n",
        "MFLAG1     is the measurement flag for the first day of the month.\n",
        "\n",
        "QFLAG1     is the quality flag for the first day of the month.\n",
        "\n",
        "SFLAG1     is the source flag for the first day of the month.\n",
        "\t   \n",
        "VALUE2     is the value on the second day of the month\n",
        "\n",
        "MFLAG2     is the measurement flag for the second day of the month.\n",
        "\n",
        "QFLAG2     is the quality flag for the second day of the month.\n",
        "\n",
        "SFLAG2     is the source flag for the second day of the month.\n",
        "\n",
        "... and so on through the 31st day of the month.  Note: If the month has less\n",
        "than 31 days, then the remaining variables are set to missing (e.g., for April,\n",
        "VALUE31 = -9999, MFLAG31 = blank, QFLAG31 = blank, SFLAG31 = blank).\n",
        "```\n",
        "\n",
        "The key points we care about right now are that the station ID is the 11 characters of a row, the year is the next 4, the month the next two, and the element the next 4 after that. After that there are 31 slots for daily data, with each slot consisting of 5 characters for the temperature, expressed in tenths of a degree centigrade, and 3 characters of flags. As mentioned earlier, we can disregard the flags for this exercise. We can also see that missing values for the temperatures are coded with -9999 if the that day is not in the month, so for a typical February, for example, the 29th, 30th, and 31st values would be -9999.\n",
        "\n",
        "As we process our data in this exercise we're looking to get overall trends, so we don't need to worry much about individual day so we can instead find average values for the month. We can instead save the maximum, minimum and mean values for the entire month and use those.\n",
        "\n",
        "This means that to process each line of weather data we need to do several things. We need to split the line into its separate fields abd we need to ignore or discard the flags for each daily value.  We also need toremove the values with -9999, convert the year and month into ints and the temperature values into floats, keeping in mind that the temperature readings are in tenths of degrees centigrade. Finally we need to calculate the average value as well as picking out the high and low values.\n",
        "\n",
        "To accomplish all of this we can take a couple of approaches. One would be to do several passes over the data, splitting into fields, discarding the placeholders, converting strings to numbers, and finally calculating the summary values. Or we can write a function that performs all of these operatons on a single line, and do everything in one pass. Both can be valid approaches, and in this case we'll take the latter approach and create a function `parse_line` do perform all of our data transformations."
      ]
    },
    {
      "cell_type": "code",
      "execution_count": 15,
      "metadata": {
        "id": "lLGc76UjsrH9"
      },
      "outputs": [],
      "source": [
        "def parse_line(line):\n",
        "    \"\"\" parses line of weather data\n",
        "        removes values of -9999 (missing value)\n",
        "    \"\"\"\n",
        "\n",
        "    # return None if line is empty\n",
        "    if not line:\n",
        "        return None\n",
        "\n",
        "    # split out first 4 fields and string containing temperature values\n",
        "    record, temperature_string = (line[:11], int(line[11:15]), int(line[15:17]), line[17:21]), line[21:]\n",
        "\n",
        "    # raise exception if the temperature string is too short\n",
        "    if len(temperature_string) < 248:\n",
        "        raise ValueError(\"String not long enough - {} {}\".format(temperature_string, str(line)))\n",
        "\n",
        "    # use a list comprehension on the temperature_string to extract and convert the\n",
        "    values = [float(temperature_string[i:i + 5])/10 for i in range(0, 248, 8)\n",
        "              if not temperature_string[i:i + 5].startswith(\"-9999\")]\n",
        "\n",
        "    # get the number of values, the max and min, and calculate average\n",
        "    count = len(values)\n",
        "    tmax = round(max(values), 1)\n",
        "    tmin = round(min(values), 1)\n",
        "    mean = round(sum(values)/count, 1)\n",
        "\n",
        "    # add the temperature summary values to the record fields extracted earlier and return\n",
        "    return record + (tmax, tmin, mean, count)"
      ]
    },
    {
      "cell_type": "markdown",
      "metadata": {
        "id": "PU7mZQVusrH9"
      },
      "source": [
        "If we test this function with the first line of our raw weather data, we get the following result:"
      ]
    },
    {
      "cell_type": "code",
      "execution_count": 16,
      "metadata": {
        "id": "E1SzgGGasrH-",
        "outputId": "14ecfa5c-1e20-46ea-a441-b6fbb0a36d0e",
        "colab": {
          "base_uri": "https://localhost:8080/"
        }
      },
      "outputs": [
        {
          "output_type": "execute_result",
          "data": {
            "text/plain": [
              "('USC00110338', 1893, 1, 'TMAX', 4.4, -20.0, -7.8, 31)"
            ]
          },
          "metadata": {},
          "execution_count": 16
        }
      ],
      "source": [
        "parse_line(weather[:270])"
      ]
    },
    {
      "cell_type": "markdown",
      "metadata": {
        "id": "NI4pGbw9srH-"
      },
      "source": [
        "So it looks like we have a function that will work to parse our data. If that works then we can parse the weather data and either store it or continue on with our processing."
      ]
    },
    {
      "cell_type": "code",
      "execution_count": 17,
      "metadata": {
        "scrolled": true,
        "id": "LL05uwXisrH-",
        "outputId": "02cb5813-8dc3-4891-8782-866fffdb2a6c",
        "colab": {
          "base_uri": "https://localhost:8080/"
        }
      },
      "outputs": [
        {
          "output_type": "execute_result",
          "data": {
            "text/plain": [
              "[('USC00110338', 1893, 1, 'TMAX', 4.4, -20.0, -7.8, 31),\n",
              " ('USC00110338', 1893, 1, 'TMIN', -3.3, -31.1, -19.2, 31),\n",
              " ('USC00110338', 1893, 1, 'PRCP', 8.9, 0.0, 1.1, 31),\n",
              " ('USC00110338', 1893, 1, 'SNOW', 10.2, 0.0, 1.0, 31),\n",
              " ('USC00110338', 1893, 1, 'WT16', 0.1, 0.1, 0.1, 2),\n",
              " ('USC00110338', 1893, 1, 'WT18', 0.1, 0.1, 0.1, 11),\n",
              " ('USC00110338', 1893, 2, 'TMAX', 5.6, -17.2, -0.9, 27),\n",
              " ('USC00110338', 1893, 2, 'TMIN', 0.6, -26.1, -11.7, 27),\n",
              " ('USC00110338', 1893, 2, 'PRCP', 15.0, 0.0, 2.0, 28),\n",
              " ('USC00110338', 1893, 2, 'SNOW', 12.7, 0.0, 0.6, 28)]"
            ]
          },
          "metadata": {},
          "execution_count": 17
        }
      ],
      "source": [
        "# process all weather data\n",
        "\n",
        "# list comprehension, will not parse empty lines\n",
        "weather_data = [parse_line(x) for x in weather.split(\"\\n\") if x]\n",
        "\n",
        "len(weather_data)\n",
        "\n",
        "weather_data[:10]"
      ]
    },
    {
      "cell_type": "markdown",
      "metadata": {
        "id": "MLyp9aypsrH-"
      },
      "source": [
        "We now have all the weather records, not just the temperature records, parsed and in our list."
      ]
    },
    {
      "cell_type": "markdown",
      "metadata": {
        "id": "o29mzep7srH-"
      },
      "source": [
        "# Saving the weather data in a database (Optional)\n",
        "\n",
        "At this point we can save all of the weather records (and the station records and inventory records as well, if we want) into a database. This would let us come back in later sessions and use the same data without having to go the hassle of fetching and parsing the data again.\n",
        "\n",
        "As an example, the code below would be how we could save the weather data into a SQLite3 database."
      ]
    },
    {
      "cell_type": "code",
      "execution_count": 18,
      "metadata": {
        "id": "rAL_Ll23srH-"
      },
      "outputs": [],
      "source": [
        "import sqlite3\n",
        "\n",
        "conn = sqlite3.connect(\"weather_data.db\")\n",
        "cursor = conn.cursor()"
      ]
    },
    {
      "cell_type": "code",
      "execution_count": 19,
      "metadata": {
        "id": "2waJgZS2srH-"
      },
      "outputs": [],
      "source": [
        "# create weather table\n",
        "\n",
        "create_weather = \"\"\"CREATE TABLE \"weather\" (\n",
        "    \"id\" text NOT NULL,\n",
        "    \"year\" integer NOT NULL,\n",
        "    \"month\" integer NOT NULL,\n",
        "    \"element\" text NOT NULL,\n",
        "    \"max\" real,\n",
        "    \"min\" real,\n",
        "    \"mean\" real,\n",
        "    \"count\" integer)\"\"\"\n",
        "cursor.execute(create_weather)\n",
        "conn.commit()"
      ]
    },
    {
      "cell_type": "code",
      "execution_count": 20,
      "metadata": {
        "scrolled": true,
        "id": "FhdNx5ImsrH_"
      },
      "outputs": [],
      "source": [
        "# store parsed weather data in database\n",
        "\n",
        "for record in weather_data:\n",
        "    cursor.execute(\"\"\"insert into weather (id, year, month, element, max, min, mean, count) values (?,?,?,?,?,?,?,?) \"\"\",\n",
        "                      record)\n",
        "\n",
        "conn.commit()"
      ]
    },
    {
      "cell_type": "markdown",
      "metadata": {
        "id": "Hi5cwWQEsrIA"
      },
      "source": [
        "Once we have the data stored we could retreive it from the database with code like the below, which fetches only the TMAX records."
      ]
    },
    {
      "cell_type": "code",
      "execution_count": 21,
      "metadata": {
        "id": "2X09SrAnsrIA",
        "outputId": "10dd0e89-e0d8-423c-8520-d3ffec159c95",
        "colab": {
          "base_uri": "https://localhost:8080/"
        }
      },
      "outputs": [
        {
          "output_type": "execute_result",
          "data": {
            "text/plain": [
              "[('USC00110338', 1893, 1, 'TMAX', 4.4, -20.0, -7.8, 31),\n",
              " ('USC00110338', 1893, 2, 'TMAX', 5.6, -17.2, -0.9, 27),\n",
              " ('USC00110338', 1893, 3, 'TMAX', 20.6, -7.2, 5.6, 30),\n",
              " ('USC00110338', 1893, 4, 'TMAX', 28.9, 3.3, 13.5, 30),\n",
              " ('USC00110338', 1893, 5, 'TMAX', 30.6, 7.2, 19.2, 31)]"
            ]
          },
          "metadata": {},
          "execution_count": 21
        }
      ],
      "source": [
        "cursor.execute(\"\"\"select * from weather where element='TMAX' order by year, month\"\"\")\n",
        "tmax_data = cursor.fetchall()\n",
        "tmax_data[:5]"
      ]
    },
    {
      "cell_type": "markdown",
      "metadata": {
        "id": "Dx90ZdY1srIA"
      },
      "source": [
        "### Selecting and graphing data\n",
        "\n",
        "Since we're only concerned with temperature we need to select just the temperature records. We can do that quickly enough by just usign a couple of list comprehensions to pick out a list for TMAX and one for TMIN. Or we could use the features of pandas, which we'll be using for graphing the date, to filter out the records we don't want. Since were more concerned with pure Python than pandas, we'll take the first approach."
      ]
    },
    {
      "cell_type": "code",
      "execution_count": 22,
      "metadata": {
        "id": "SCIkvjTdsrIA",
        "outputId": "f65f1fe1-ffab-4db4-cf7b-da5b26047e37",
        "colab": {
          "base_uri": "https://localhost:8080/"
        }
      },
      "outputs": [
        {
          "output_type": "execute_result",
          "data": {
            "text/plain": [
              "[('USC00110338', 1893, 1, 'TMIN', -3.3, -31.1, -19.2, 31),\n",
              " ('USC00110338', 1893, 2, 'TMIN', 0.6, -26.1, -11.7, 27),\n",
              " ('USC00110338', 1893, 3, 'TMIN', 3.3, -13.3, -4.6, 31),\n",
              " ('USC00110338', 1893, 4, 'TMIN', 12.2, -5.6, 2.2, 30),\n",
              " ('USC00110338', 1893, 5, 'TMIN', 14.4, -0.6, 5.7, 31)]"
            ]
          },
          "metadata": {},
          "execution_count": 22
        }
      ],
      "source": [
        "tmax_data = [x for x in weather_data if x[3] == 'TMAX']\n",
        "tmin_data = [x for x in weather_data if x[3] == 'TMIN']\n",
        "tmin_data[:5]"
      ]
    },
    {
      "cell_type": "markdown",
      "metadata": {
        "id": "uftLLzp_srIA"
      },
      "source": [
        "# Using pandas to graph our data\n",
        "\n",
        "At this point we have our data cleaned and ready to graph. To make the graphing easier we can use pandas and matplotlib as described in chapter 25. If you are using Colaboratory, both are already installed and available. If you are using another environment you could install them with the following commands at a the command line:\n",
        "\n",
        "```\n",
        "pip install pandas matplotlib\n",
        "```"
      ]
    },
    {
      "cell_type": "code",
      "execution_count": 23,
      "metadata": {
        "id": "ZYKnzNfBsrIB"
      },
      "outputs": [],
      "source": [
        "import pandas as pd\n",
        "%matplotlib inline"
      ]
    },
    {
      "cell_type": "markdown",
      "metadata": {
        "id": "WZrqcSlwsrIB"
      },
      "source": [
        "Once pandas and matplotlib are installed we can load pandas and create data frames for our TMAX and TMIN data."
      ]
    },
    {
      "cell_type": "code",
      "execution_count": 24,
      "metadata": {
        "id": "xF_sba9WsrIB"
      },
      "outputs": [],
      "source": [
        "tmax_df = pd.DataFrame(tmax_data, columns=['Station', 'Year', 'Month', 'Element', 'Max', 'Min', 'Mean', 'Days'])\n",
        "tmin_df = pd.DataFrame(tmin_data, columns=['Station', 'Year', 'Month', 'Element', 'Max', 'Min', 'Mean', 'Days'])"
      ]
    },
    {
      "cell_type": "markdown",
      "metadata": {
        "id": "dBsxSqzxsrIB"
      },
      "source": [
        "We could plot the monthly values, but 125 years times 12 months of data is  1500 data points, and the cycle of seasons also makes picking out patterns difficult.\n",
        "\n",
        "Instead, it would probably make more sense to average the high, low, and mean monthly values into yearly values and plot those. We could do this in python, but since we already have our data loaded in a pandas data frame we can use that to group by year and give us the mean values."
      ]
    },
    {
      "cell_type": "code",
      "execution_count": 25,
      "metadata": {
        "scrolled": true,
        "id": "laCBCSeysrIC",
        "outputId": "9904c0ce-893b-4c57-8a7c-48c2ed090656",
        "colab": {
          "base_uri": "https://localhost:8080/",
          "height": 700
        }
      },
      "outputs": [
        {
          "output_type": "execute_result",
          "data": {
            "text/plain": [
              "<Axes: xlabel='Year'>"
            ]
          },
          "metadata": {},
          "execution_count": 25
        },
        {
          "output_type": "display_data",
          "data": {
            "text/plain": [
              "<Figure size 1600x800 with 1 Axes>"
            ],
            "image/png": "[encoded data removed]"
          },
          "metadata": {}
        }
      ],
      "source": [
        "# select Year, Min, Max, Mean columns, group by year, average and line plot\n",
        "\n",
        "tmin_df[['Year','Min', 'Mean', 'Max']].groupby('Year').mean().plot( kind='line', figsize=(16, 8))"
      ]
    },
    {
      "cell_type": "markdown",
      "metadata": {
        "id": "tyT0JgspsrIC"
      },
      "source": [
        "The result above has a fair amount of variation, but does seem to indicate that the minimum temperature, at least, has been on the rise the past 20 years.\n",
        "\n",
        "Note that if you wanted to get the same graph without using Jupyter notebook and matplotlib, you could use still use pandas, but write to a csv or excel file using the data frame's `to_csv` or `to_excel` methods. Then you could load the resulting file into a spreadsheet and graph from there."
      ]
    }
  ],
  "metadata": {
    "kernelspec": {
      "display_name": "Python 3",
      "name": "python3"
    },
    "language_info": {
      "name": "python"
    },
    "toc": {
      "nav_menu": {},
      "number_sections": true,
      "sideBar": true,
      "skip_h1_title": false,
      "toc_cell": false,
      "toc_position": {},
      "toc_section_display": "block",
      "toc_window_display": false
    },
    "colab": {
      "provenance": [],
      "include_colab_link": true
    }
  },
  "nbformat": 4,
  "nbformat_minor": 0
}