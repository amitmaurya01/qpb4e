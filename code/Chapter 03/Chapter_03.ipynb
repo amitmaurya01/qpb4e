{
  "nbformat": 4,
  "nbformat_minor": 0,
  "metadata": {
    "colab": {
      "provenance": [],
      "authorship_tag": "ABX9TyOYmXcGxngQxe1U1hASNEn/",
      "include_colab_link": true
    },
    "kernelspec": {
      "name": "python3",
      "display_name": "Python 3"
    },
    "language_info": {
      "name": "python"
    }
  },
  "cells": [
    {
      "cell_type": "markdown",
      "metadata": {
        "id": "view-in-github",
        "colab_type": "text"
      },
      "source": [
        "<a href=\"https://colab.research.google.com/github/nceder/qpb4e/blob/main/code/ch01-05/Chapter_03.ipynb\" target=\"_parent\"><img src=\"https://colab.research.google.com/assets/colab-badge.svg\" alt=\"Open In Colab\"/></a>"
      ]
    },
    {
      "cell_type": "markdown",
      "source": [
        "# 3 The Quick Python overview\n",
        "\n",
        "This notebook contains all of the code examples shown in chapter 3 of The Quick Python Book. You can experiment with these - feel free to change values and see what happens.\n",
        "\n",
        "For full explanations of the these code snippets, please refer to chapter 3 of The Quick Python Book.\n",
        "\n",
        "# IMPORTANT!\n",
        "\n",
        "Run the cell below to load the data files needed for some of the code in this chapter."
      ],
      "metadata": {
        "id": "G1-s-iiNhYvv"
      }
    },
    {
      "cell_type": "code",
      "source": [
        "!wget https://raw.githubusercontent.com/nceder/qpb4e/main/code/ch01-05/shape.py\n",
        "!wget https://raw.githubusercontent.com/nceder/qpb4e/main/code/ch01-05/wo.py\n",
        "!touch empty_file\n",
        "! echo \"This is myfile1.txt\" > myfile1.txt\n",
        "! echo \"This is myfile2.txt\" > myfile2.txt\n"
      ],
      "metadata": {
        "id": "B3D_aZeqf6Zl",
        "colab": {
          "base_uri": "https://localhost:8080/"
        },
        "outputId": "73ec60af-fcfc-4f64-d31f-3c1adee7b6db"
      },
      "execution_count": 6,
      "outputs": [
        {
          "output_type": "stream",
          "name": "stdout",
          "text": [
            "--2024-01-11 03:44:52--  https://raw.githubusercontent.com/nceder/qpb4e/main/code/ch01-05/shape.py\n",
            "Resolving raw.githubusercontent.com (raw.githubusercontent.com)... 185.199.108.133, 185.199.109.133, 185.199.110.133, ...\n",
            "Connecting to raw.githubusercontent.com (raw.githubusercontent.com)|185.199.108.133|:443... connected.\n",
            "HTTP request sent, awaiting response... 200 OK\n",
            "Length: 1037 (1.0K) [text/plain]\n",
            "Saving to: ‘shape.py.1’\n",
            "\n",
            "shape.py.1          100%[===================>]   1.01K  --.-KB/s    in 0s      \n",
            "\n",
            "2024-01-11 03:44:52 (45.5 MB/s) - ‘shape.py.1’ saved [1037/1037]\n",
            "\n"
          ]
        }
      ]
    },
    {
      "cell_type": "markdown",
      "source": [
        "# 3.2 Built-in data types\n",
        "##3.2.1 Numbers\n",
        "\n",
        "\n",
        "Python’s four number types are integers, floats, complex numbers, and Booleans:\n",
        "* Integers—1, –3, 42, 355, 888888888888888, –7777777777 (integers aren’t limited in size except by available memory)\n",
        "* Floats—3.0, 31e12, –6e-4\n",
        "* Complex numbers—3 + 2j, –4- 2j, 4.2 + 6.3j\n",
        "* Booleans—True, False\n",
        "\n",
        "You can manipulate them by using the arithmetic operators: + (addition), – (subtraction), * (multiplication), / (division), ** (exponentiation), and % (modulus).\n",
        "\n"
      ],
      "metadata": {
        "id": "fG-USLVrPdLF"
      }
    },
    {
      "cell_type": "markdown",
      "source": [
        "The following examples use integers:"
      ],
      "metadata": {
        "id": "Y2SxvhMLdvYz"
      }
    },
    {
      "cell_type": "code",
      "source": [
        "x = 5 + 2 - 3 * 2\n",
        "x"
      ],
      "metadata": {
        "id": "CZbmJlwaJy8R",
        "colab": {
          "base_uri": "https://localhost:8080/"
        },
        "outputId": "99f66dcc-949a-422e-fd71-0862798ff405"
      },
      "execution_count": null,
      "outputs": [
        {
          "output_type": "execute_result",
          "data": {
            "text/plain": [
              "1"
            ]
          },
          "metadata": {},
          "execution_count": 1
        }
      ]
    },
    {
      "cell_type": "code",
      "source": [
        "5 / 2"
      ],
      "metadata": {
        "colab": {
          "base_uri": "https://localhost:8080/"
        },
        "id": "lKeovbS0F8nv",
        "outputId": "166f7fd6-8770-4c41-cb7b-56a503fd709e"
      },
      "execution_count": null,
      "outputs": [
        {
          "output_type": "execute_result",
          "data": {
            "text/plain": [
              "2.5"
            ]
          },
          "metadata": {},
          "execution_count": 4
        }
      ]
    },
    {
      "cell_type": "code",
      "source": [
        "5 // 2"
      ],
      "metadata": {
        "colab": {
          "base_uri": "https://localhost:8080/"
        },
        "id": "O55VIriZNXzJ",
        "outputId": "f0d311bf-3412-48f8-ae31-388bd106ccd2"
      },
      "execution_count": null,
      "outputs": [
        {
          "output_type": "execute_result",
          "data": {
            "text/plain": [
              "2"
            ]
          },
          "metadata": {},
          "execution_count": 3
        }
      ]
    },
    {
      "cell_type": "code",
      "source": [
        "5 % 2"
      ],
      "metadata": {
        "colab": {
          "base_uri": "https://localhost:8080/"
        },
        "id": "ic-iasVPNbLU",
        "outputId": "5444f928-3d3b-441c-ed93-ed86a58d3abb"
      },
      "execution_count": null,
      "outputs": [
        {
          "output_type": "execute_result",
          "data": {
            "text/plain": [
              "1"
            ]
          },
          "metadata": {},
          "execution_count": 5
        }
      ]
    },
    {
      "cell_type": "code",
      "source": [
        "2 ** 8"
      ],
      "metadata": {
        "colab": {
          "base_uri": "https://localhost:8080/"
        },
        "id": "jVGFs0A7H0cq",
        "outputId": "fb397079-a296-4fdd-9ea8-7f266a58380a"
      },
      "execution_count": null,
      "outputs": [
        {
          "output_type": "execute_result",
          "data": {
            "text/plain": [
              "256"
            ]
          },
          "metadata": {},
          "execution_count": 6
        }
      ]
    },
    {
      "cell_type": "code",
      "source": [
        "1000000001 ** 3"
      ],
      "metadata": {
        "colab": {
          "base_uri": "https://localhost:8080/"
        },
        "id": "U-sriHkbJYMX",
        "outputId": "9a5c466c-af12-47c5-b9a5-855917f96846"
      },
      "execution_count": null,
      "outputs": [
        {
          "output_type": "execute_result",
          "data": {
            "text/plain": [
              "1000000003000000003000000001"
            ]
          },
          "metadata": {},
          "execution_count": 7
        }
      ]
    },
    {
      "cell_type": "markdown",
      "source": [
        "These examples work with floats, which are based on the doubles in C:"
      ],
      "metadata": {
        "id": "FcWFhmGRdq1U"
      }
    },
    {
      "cell_type": "code",
      "source": [
        "x = 4.3 ** 2.4\n",
        "x"
      ],
      "metadata": {
        "id": "LBlGsrtUH27E",
        "colab": {
          "base_uri": "https://localhost:8080/"
        },
        "outputId": "fcb15f71-b2e7-455a-c4ac-7888af50a448"
      },
      "execution_count": null,
      "outputs": [
        {
          "output_type": "execute_result",
          "data": {
            "text/plain": [
              "33.13784737771648"
            ]
          },
          "metadata": {},
          "execution_count": 8
        }
      ]
    },
    {
      "cell_type": "code",
      "source": [
        "3.5e30 * 2.77e45"
      ],
      "metadata": {
        "colab": {
          "base_uri": "https://localhost:8080/"
        },
        "id": "5BN5CIN_U5qA",
        "outputId": "cd0cee70-afb5-4d57-8d67-21127835ce04"
      },
      "execution_count": null,
      "outputs": [
        {
          "output_type": "execute_result",
          "data": {
            "text/plain": [
              "9.695e+75"
            ]
          },
          "metadata": {},
          "execution_count": 9
        }
      ]
    },
    {
      "cell_type": "code",
      "source": [
        "1000000001.0 ** 3"
      ],
      "metadata": {
        "colab": {
          "base_uri": "https://localhost:8080/"
        },
        "id": "jXzaVPy-U754",
        "outputId": "830996b4-7d4f-40cc-fb6b-a3d6e11e3be8"
      },
      "execution_count": null,
      "outputs": [
        {
          "output_type": "execute_result",
          "data": {
            "text/plain": [
              "1.000000003e+27"
            ]
          },
          "metadata": {},
          "execution_count": 10
        }
      ]
    },
    {
      "cell_type": "markdown",
      "source": [
        "These examples use complex numbers:"
      ],
      "metadata": {
        "id": "xl7Ve8ozeKz-"
      }
    },
    {
      "cell_type": "code",
      "source": [
        "(3+2j) ** (2+3j)"
      ],
      "metadata": {
        "colab": {
          "base_uri": "https://localhost:8080/"
        },
        "id": "SlkoDtoHU93Y",
        "outputId": "76f0703b-316f-4eb6-a0e2-0b4af9fb277d"
      },
      "execution_count": null,
      "outputs": [
        {
          "output_type": "execute_result",
          "data": {
            "text/plain": [
              "(0.6817665190890336-2.1207457766159625j)"
            ]
          },
          "metadata": {},
          "execution_count": 11
        }
      ]
    },
    {
      "cell_type": "code",
      "source": [
        "x = (3+2j) * (4+9j)\n",
        "x"
      ],
      "metadata": {
        "colab": {
          "base_uri": "https://localhost:8080/"
        },
        "id": "hAb61h6SVIc0",
        "outputId": "7f2047bf-27de-485d-b452-3019299a92b6"
      },
      "execution_count": null,
      "outputs": [
        {
          "output_type": "execute_result",
          "data": {
            "text/plain": [
              "(-6+35j)"
            ]
          },
          "metadata": {},
          "execution_count": 12
        }
      ]
    },
    {
      "cell_type": "code",
      "source": [
        "x.real"
      ],
      "metadata": {
        "colab": {
          "base_uri": "https://localhost:8080/"
        },
        "id": "_fORpUJRVLJI",
        "outputId": "fe61afbf-e0a4-494f-ee71-32390b070390"
      },
      "execution_count": null,
      "outputs": [
        {
          "output_type": "execute_result",
          "data": {
            "text/plain": [
              "-6.0"
            ]
          },
          "metadata": {},
          "execution_count": 13
        }
      ]
    },
    {
      "cell_type": "code",
      "source": [
        "x.imag"
      ],
      "metadata": {
        "colab": {
          "base_uri": "https://localhost:8080/"
        },
        "id": "EOV6c-sbVOEg",
        "outputId": "d8b129e5-b466-461e-a709-5fb75969b119"
      },
      "execution_count": null,
      "outputs": [
        {
          "output_type": "execute_result",
          "data": {
            "text/plain": [
              "35.0"
            ]
          },
          "metadata": {},
          "execution_count": 14
        }
      ]
    },
    {
      "cell_type": "markdown",
      "source": [
        "Several built-in functions can operate on numbers. There are also the library module `cmath` (which contains functions for complex numbers) and the library module `math` (which contains functions for the other three types):"
      ],
      "metadata": {
        "id": "0HYinPSBeTr_"
      }
    },
    {
      "cell_type": "code",
      "source": [
        "round(3.49)     #1"
      ],
      "metadata": {
        "colab": {
          "base_uri": "https://localhost:8080/"
        },
        "id": "jDMROdVpVQG9",
        "outputId": "703d9454-07df-49b3-a9aa-117aba9d8515"
      },
      "execution_count": null,
      "outputs": [
        {
          "output_type": "execute_result",
          "data": {
            "text/plain": [
              "3"
            ]
          },
          "metadata": {},
          "execution_count": 15
        }
      ]
    },
    {
      "cell_type": "code",
      "source": [
        "import math\n",
        "math.ceil(3.49)     #2"
      ],
      "metadata": {
        "colab": {
          "base_uri": "https://localhost:8080/"
        },
        "id": "8bLGaQS4VcRX",
        "outputId": "c5d3f4da-3f13-413e-df38-2fddc2e83328"
      },
      "execution_count": null,
      "outputs": [
        {
          "output_type": "execute_result",
          "data": {
            "text/plain": [
              "4"
            ]
          },
          "metadata": {},
          "execution_count": 16
        }
      ]
    },
    {
      "cell_type": "markdown",
      "source": [
        "The following examples use Booleans:\n"
      ],
      "metadata": {
        "id": "qA3P7djAeb6d"
      }
    },
    {
      "cell_type": "code",
      "source": [
        "x = False\n",
        "x"
      ],
      "metadata": {
        "colab": {
          "base_uri": "https://localhost:8080/"
        },
        "id": "LakfUvbrVc99",
        "outputId": "96b9cf50-0513-4502-c971-9bbad92832b4"
      },
      "execution_count": null,
      "outputs": [
        {
          "output_type": "execute_result",
          "data": {
            "text/plain": [
              "False"
            ]
          },
          "metadata": {},
          "execution_count": 17
        }
      ]
    },
    {
      "cell_type": "code",
      "source": [
        "not x\n"
      ],
      "metadata": {
        "colab": {
          "base_uri": "https://localhost:8080/"
        },
        "id": "a6dR7WK8Vldw",
        "outputId": "80368fe2-41e6-4f24-858a-67f6b9b6e7b0"
      },
      "execution_count": null,
      "outputs": [
        {
          "output_type": "execute_result",
          "data": {
            "text/plain": [
              "True"
            ]
          },
          "metadata": {},
          "execution_count": 18
        }
      ]
    },
    {
      "cell_type": "code",
      "source": [
        "y = True * 2        #1\n",
        "y"
      ],
      "metadata": {
        "colab": {
          "base_uri": "https://localhost:8080/"
        },
        "id": "lkVSFAmSVn-c",
        "outputId": "a0e9f06c-0ed6-431e-8313-cc1c36ae3db2"
      },
      "execution_count": null,
      "outputs": [
        {
          "output_type": "execute_result",
          "data": {
            "text/plain": [
              "2"
            ]
          },
          "metadata": {},
          "execution_count": 19
        }
      ]
    },
    {
      "cell_type": "markdown",
      "source": [
        "## 3.2.2 Lists\n",
        "\n",
        "Python has a powerful built-in list type:"
      ],
      "metadata": {
        "id": "v72-L_m8egrP"
      }
    },
    {
      "cell_type": "code",
      "source": [
        "[]\n",
        "[1]\n",
        "[1, 2, 3, 4, 5, 6, 7, 8, 12]\n",
        "[1, \"two\", 3, 4.0, [\"a\", \"b\"], (5,6)]         #1"
      ],
      "metadata": {
        "id": "BI_DhFofeswP"
      },
      "execution_count": null,
      "outputs": []
    },
    {
      "cell_type": "markdown",
      "source": [
        "A list can be indexed from its front or back. You can also refer to a subsegment, or slice, of a list by using slice notation:"
      ],
      "metadata": {
        "id": "7lM0VCe2e6Gs"
      }
    },
    {
      "cell_type": "code",
      "source": [
        "x = [\"first\", \"second\", \"third\", \"fourth\"]\n",
        "x[0]      #1"
      ],
      "metadata": {
        "colab": {
          "base_uri": "https://localhost:8080/",
          "height": 35
        },
        "id": "pqGrErzEVqU8",
        "outputId": "61594d6b-50c0-4b1d-9ef9-084d43f1435e"
      },
      "execution_count": null,
      "outputs": [
        {
          "output_type": "execute_result",
          "data": {
            "text/plain": [
              "'first'"
            ],
            "application/vnd.google.colaboratory.intrinsic+json": {
              "type": "string"
            }
          },
          "metadata": {},
          "execution_count": 20
        }
      ]
    },
    {
      "cell_type": "code",
      "source": [
        "x[2]      #1"
      ],
      "metadata": {
        "colab": {
          "base_uri": "https://localhost:8080/",
          "height": 35
        },
        "id": "nNmHcYz1V2gA",
        "outputId": "f9d98513-7d73-40c1-86c7-c24ec488d338"
      },
      "execution_count": null,
      "outputs": [
        {
          "output_type": "execute_result",
          "data": {
            "text/plain": [
              "'third'"
            ],
            "application/vnd.google.colaboratory.intrinsic+json": {
              "type": "string"
            }
          },
          "metadata": {},
          "execution_count": 21
        }
      ]
    },
    {
      "cell_type": "code",
      "source": [
        "x[-1]              #2"
      ],
      "metadata": {
        "colab": {
          "base_uri": "https://localhost:8080/",
          "height": 35
        },
        "id": "XFRfNWMhV4aX",
        "outputId": "efdc50e4-a061-4f51-f49a-77516a972da8"
      },
      "execution_count": null,
      "outputs": [
        {
          "output_type": "execute_result",
          "data": {
            "text/plain": [
              "'fourth'"
            ],
            "application/vnd.google.colaboratory.intrinsic+json": {
              "type": "string"
            }
          },
          "metadata": {},
          "execution_count": 22
        }
      ]
    },
    {
      "cell_type": "code",
      "source": [
        "x[-2]              #2"
      ],
      "metadata": {
        "colab": {
          "base_uri": "https://localhost:8080/",
          "height": 35
        },
        "id": "IfQbbPVKV7HU",
        "outputId": "986038ee-8c09-4dad-dc69-d15bacdfa2ec"
      },
      "execution_count": null,
      "outputs": [
        {
          "output_type": "execute_result",
          "data": {
            "text/plain": [
              "'third'"
            ],
            "application/vnd.google.colaboratory.intrinsic+json": {
              "type": "string"
            }
          },
          "metadata": {},
          "execution_count": 23
        }
      ]
    },
    {
      "cell_type": "code",
      "source": [
        "x[1:-1]            #2"
      ],
      "metadata": {
        "colab": {
          "base_uri": "https://localhost:8080/"
        },
        "id": "dh_EfYYyV9ho",
        "outputId": "7682345c-fcef-46b4-c825-eb013723061b"
      },
      "execution_count": null,
      "outputs": [
        {
          "output_type": "execute_result",
          "data": {
            "text/plain": [
              "['second', 'third']"
            ]
          },
          "metadata": {},
          "execution_count": 24
        }
      ]
    },
    {
      "cell_type": "code",
      "source": [
        "x[0:3]                      #3"
      ],
      "metadata": {
        "colab": {
          "base_uri": "https://localhost:8080/"
        },
        "id": "UfL6j4SZV_bA",
        "outputId": "5f8c6cb5-06a9-43ce-d7ff-75a3532c3f01"
      },
      "execution_count": null,
      "outputs": [
        {
          "output_type": "execute_result",
          "data": {
            "text/plain": [
              "['first', 'second', 'third']"
            ]
          },
          "metadata": {},
          "execution_count": 25
        }
      ]
    },
    {
      "cell_type": "code",
      "source": [
        "x[-2:-1]                    #3"
      ],
      "metadata": {
        "colab": {
          "base_uri": "https://localhost:8080/"
        },
        "id": "AJOG1af_WA8G",
        "outputId": "82fb3934-8033-45c5-a728-095d1f198946"
      },
      "execution_count": null,
      "outputs": [
        {
          "output_type": "execute_result",
          "data": {
            "text/plain": [
              "['third']"
            ]
          },
          "metadata": {},
          "execution_count": 26
        }
      ]
    },
    {
      "cell_type": "code",
      "source": [
        "x[:3]                       #3"
      ],
      "metadata": {
        "colab": {
          "base_uri": "https://localhost:8080/"
        },
        "id": "VShFK31wWCzI",
        "outputId": "4315943a-8408-4531-9780-476e7cc16a3f"
      },
      "execution_count": null,
      "outputs": [
        {
          "output_type": "execute_result",
          "data": {
            "text/plain": [
              "['first', 'second', 'third']"
            ]
          },
          "metadata": {},
          "execution_count": 27
        }
      ]
    },
    {
      "cell_type": "code",
      "source": [
        "x[-2:]                    #4"
      ],
      "metadata": {
        "colab": {
          "base_uri": "https://localhost:8080/"
        },
        "id": "2hYBSqjoWEv_",
        "outputId": "2d195438-ae73-485a-9b1a-61ad9f178f58"
      },
      "execution_count": null,
      "outputs": [
        {
          "output_type": "execute_result",
          "data": {
            "text/plain": [
              "['third', 'fourth']"
            ]
          },
          "metadata": {},
          "execution_count": 28
        }
      ]
    },
    {
      "cell_type": "code",
      "source": [
        "x = [1, 2, 3, 4, 5, 6, 7, 8, 9]\n",
        "x[1] = \"two\"\n",
        "x[8:9] = []\n",
        "x"
      ],
      "metadata": {
        "colab": {
          "base_uri": "https://localhost:8080/"
        },
        "id": "GI_efk1VWIWo",
        "outputId": "3045e569-0dd0-4dc7-afc5-5b710cfd6948"
      },
      "execution_count": null,
      "outputs": [
        {
          "output_type": "execute_result",
          "data": {
            "text/plain": [
              "[1, 'two', 3, 4, 5, 6, 7, 8]"
            ]
          },
          "metadata": {},
          "execution_count": 29
        }
      ]
    },
    {
      "cell_type": "code",
      "source": [
        "x[5:7] = [6.0, 6.5, 7.0]    #1\n",
        "x"
      ],
      "metadata": {
        "colab": {
          "base_uri": "https://localhost:8080/"
        },
        "id": "mVqQZYo5WSjY",
        "outputId": "e06009f7-2b59-4525-fe9c-2d83845c8bd3"
      },
      "execution_count": null,
      "outputs": [
        {
          "output_type": "execute_result",
          "data": {
            "text/plain": [
              "[1, 'two', 3, 4, 5, 6.0, 6.5, 7.0, 8]"
            ]
          },
          "metadata": {},
          "execution_count": 30
        }
      ]
    },
    {
      "cell_type": "code",
      "source": [
        "x[5:]"
      ],
      "metadata": {
        "colab": {
          "base_uri": "https://localhost:8080/"
        },
        "id": "QoN8R5FyWU1U",
        "outputId": "bcc1b64f-4f0f-45f8-b5f1-876bfb204caa"
      },
      "execution_count": null,
      "outputs": [
        {
          "output_type": "execute_result",
          "data": {
            "text/plain": [
              "[6.0, 6.5, 7.0, 8]"
            ]
          },
          "metadata": {},
          "execution_count": 31
        }
      ]
    },
    {
      "cell_type": "markdown",
      "source": [
        "Some built-in functions (len, max, and min), some operators (in, +, and *), the del statement, and the list methods (append, count, extend, index, insert, pop, remove, reverse, and sort) operate on lists:"
      ],
      "metadata": {
        "id": "TB-c8GnXfCNP"
      }
    },
    {
      "cell_type": "code",
      "source": [
        "x = [1, 2, 3, 4, 5, 6, 7, 8, 9]\n",
        "len(x)"
      ],
      "metadata": {
        "colab": {
          "base_uri": "https://localhost:8080/"
        },
        "id": "BGp_j3UYWWqA",
        "outputId": "589219c8-29fe-4313-b9ed-04bd5c8c026f"
      },
      "execution_count": null,
      "outputs": [
        {
          "output_type": "execute_result",
          "data": {
            "text/plain": [
              "9"
            ]
          },
          "metadata": {},
          "execution_count": 32
        }
      ]
    },
    {
      "cell_type": "code",
      "source": [
        "[-1, 0] + x                     #1"
      ],
      "metadata": {
        "colab": {
          "base_uri": "https://localhost:8080/"
        },
        "id": "UNSW0jwpYdpc",
        "outputId": "3c069ced-fce0-4123-bf72-269830d770f6"
      },
      "execution_count": null,
      "outputs": [
        {
          "output_type": "execute_result",
          "data": {
            "text/plain": [
              "[-1, 0, 1, 2, 3, 4, 5, 6, 7, 8, 9]"
            ]
          },
          "metadata": {},
          "execution_count": 33
        }
      ]
    },
    {
      "cell_type": "code",
      "source": [
        "x.reverse()                     #2\n",
        "x"
      ],
      "metadata": {
        "colab": {
          "base_uri": "https://localhost:8080/"
        },
        "id": "quB8b1rdYgdS",
        "outputId": "31ee9c1d-fdab-44c3-9a13-1229ac4ba888"
      },
      "execution_count": null,
      "outputs": [
        {
          "output_type": "execute_result",
          "data": {
            "text/plain": [
              "[9, 8, 7, 6, 5, 4, 3, 2, 1]"
            ]
          },
          "metadata": {},
          "execution_count": 34
        }
      ]
    },
    {
      "cell_type": "markdown",
      "source": [
        "## 3.2.3 Tuples"
      ],
      "metadata": {
        "id": "_jt3B-YBYyNu"
      }
    },
    {
      "cell_type": "code",
      "source": [
        "()\n",
        "(1,)             #1\n",
        "(1, 2, 3, 4, 5, 6, 7, 8, 12)\n",
        "(1, \"two\", 3, 4.0, [\"a\", \"b\"], (5, 6))    #2"
      ],
      "metadata": {
        "id": "rFcK511-fHHK"
      },
      "execution_count": null,
      "outputs": []
    },
    {
      "cell_type": "markdown",
      "source": [
        "A list can be converted to a tuple by using the built-in function tuple:\n"
      ],
      "metadata": {
        "id": "_oL9pMmuZF8t"
      }
    },
    {
      "cell_type": "code",
      "source": [
        "x = [1, 2, 3, 4]\n",
        "tuple(x)"
      ],
      "metadata": {
        "colab": {
          "base_uri": "https://localhost:8080/"
        },
        "id": "CnJnJJu5YiUo",
        "outputId": "c22e5a08-1788-4216-d4c7-1909bf259e0b"
      },
      "execution_count": null,
      "outputs": [
        {
          "output_type": "execute_result",
          "data": {
            "text/plain": [
              "(1, 2, 3, 4)"
            ]
          },
          "metadata": {},
          "execution_count": 35
        }
      ]
    },
    {
      "cell_type": "markdown",
      "source": [
        "Conversely, a tuple can be converted to a list by using the built-in function list:"
      ],
      "metadata": {
        "id": "6xgmVZL-ZUHD"
      }
    },
    {
      "cell_type": "code",
      "source": [
        "x = (1, 2, 3, 4)\n",
        "list(x)"
      ],
      "metadata": {
        "colab": {
          "base_uri": "https://localhost:8080/"
        },
        "id": "VckW3-1xZQw3",
        "outputId": "783a94e4-9180-46ee-faeb-467abc635a6d"
      },
      "execution_count": null,
      "outputs": [
        {
          "output_type": "execute_result",
          "data": {
            "text/plain": [
              "[1, 2, 3, 4]"
            ]
          },
          "metadata": {},
          "execution_count": 36
        }
      ]
    },
    {
      "cell_type": "markdown",
      "source": [
        "## 3.2.4 Strings\n",
        "\n",
        "String processing is one of Python’s strengths. There are many options for delimiting strings:"
      ],
      "metadata": {
        "id": "F2pzHnEpaA4m"
      }
    },
    {
      "cell_type": "code",
      "source": [
        "\"A string in double quotes can contain 'single quote' characters.\"\n",
        "'A string in single quotes can contain \"double quote\" characters.'\n",
        "'''\\tA string which starts with a tab; ends with a newline character.\\n'''\n",
        "\"\"\"This is a triple double quoted string - triple quoted strings (single\n",
        "   or double quoted) are only kind that can contain real newlines.\"\"\""
      ],
      "metadata": {
        "id": "JQNxp5XbfR53"
      },
      "execution_count": null,
      "outputs": []
    },
    {
      "cell_type": "markdown",
      "source": [
        "Strings have several methods to work with their contents..."
      ],
      "metadata": {
        "id": "avE24bZCaYy7"
      }
    },
    {
      "cell_type": "code",
      "source": [
        "x = \"live and     let \\t   \\tlive\"\n",
        "x.split()"
      ],
      "metadata": {
        "colab": {
          "base_uri": "https://localhost:8080/"
        },
        "id": "A328ZaWuZZyP",
        "outputId": "7b6bbd4a-2e94-405d-a1d4-c75ac243d781"
      },
      "execution_count": null,
      "outputs": [
        {
          "output_type": "execute_result",
          "data": {
            "text/plain": [
              "['live', 'and', 'let', 'live']"
            ]
          },
          "metadata": {},
          "execution_count": 37
        }
      ]
    },
    {
      "cell_type": "code",
      "source": [
        "x.replace(\"    let \\t   \\tlive\", \"enjoy life\")"
      ],
      "metadata": {
        "colab": {
          "base_uri": "https://localhost:8080/",
          "height": 35
        },
        "id": "daRy-GgMaKlE",
        "outputId": "c92074e4-59bd-4908-b938-e6bc2563e513"
      },
      "execution_count": null,
      "outputs": [
        {
          "output_type": "execute_result",
          "data": {
            "text/plain": [
              "'live and enjoy life'"
            ],
            "application/vnd.google.colaboratory.intrinsic+json": {
              "type": "string"
            }
          },
          "metadata": {},
          "execution_count": 38
        }
      ]
    },
    {
      "cell_type": "markdown",
      "source": [
        " The `re` library module also contains functions for working with strings:"
      ],
      "metadata": {
        "id": "LY5Wpg7ofiHX"
      }
    },
    {
      "cell_type": "code",
      "source": [
        "import re                         #1\n",
        "regexpr = re.compile(r\"[\\t ]+\")\n",
        "regexpr.sub(\" \", x)"
      ],
      "metadata": {
        "colab": {
          "base_uri": "https://localhost:8080/",
          "height": 35
        },
        "id": "ufQV9sVYaMu8",
        "outputId": "4eedafac-39b4-49a4-b0a3-7977739b4237"
      },
      "execution_count": null,
      "outputs": [
        {
          "output_type": "execute_result",
          "data": {
            "text/plain": [
              "'live and let live'"
            ],
            "application/vnd.google.colaboratory.intrinsic+json": {
              "type": "string"
            }
          },
          "metadata": {},
          "execution_count": 39
        }
      ]
    },
    {
      "cell_type": "markdown",
      "source": [
        "The print function outputs strings. Other Python data types can be easily converted to strings and formatted:"
      ],
      "metadata": {
        "id": "-WNemPy_adk1"
      }
    },
    {
      "cell_type": "code",
      "source": [
        "e = 2.718\n",
        "x = [1, \"two\", 3, 4.0, [\"a\", \"b\"], (5, 6)]\n",
        "print(\"The constant e is:\", e, \"and the list x is:\", x)         #1"
      ],
      "metadata": {
        "colab": {
          "base_uri": "https://localhost:8080/"
        },
        "id": "hN_Q7GSMaO2o",
        "outputId": "49d49269-7b9e-4b85-9aad-f6b282c235f8"
      },
      "execution_count": null,
      "outputs": [
        {
          "output_type": "stream",
          "name": "stdout",
          "text": [
            "The constant e is: 2.718 and the list x is: [1, 'two', 3, 4.0, ['a', 'b'], (5, 6)]\n"
          ]
        }
      ]
    },
    {
      "cell_type": "markdown",
      "source": [
        "Objects are automatically converted to string representations for printing #1.\n",
        "\n",
        "Placing an `f` in front of a string  #2 inserts the values of variables or expressions in `{}` into the string."
      ],
      "metadata": {
        "id": "21OfbhlCb6zJ"
      }
    },
    {
      "cell_type": "code",
      "source": [
        "print(f\"the value of e is: {e}\")                 #2"
      ],
      "metadata": {
        "colab": {
          "base_uri": "https://localhost:8080/"
        },
        "id": "HSS6Vmr1angH",
        "outputId": "f5138695-e2dc-43c9-a777-497548ddbfae"
      },
      "execution_count": null,
      "outputs": [
        {
          "output_type": "stream",
          "name": "stdout",
          "text": [
            "the value of e is: 2.718\n"
          ]
        }
      ]
    },
    {
      "cell_type": "markdown",
      "source": [
        "## 3.2.5 Dictionaries"
      ],
      "metadata": {
        "id": "AiUQaIx6cQQK"
      }
    },
    {
      "cell_type": "markdown",
      "source": [
        "Keys must be of an immutable type #1, including numbers, strings, and tuples. Values can be any kind of object, including mutable types such as lists and dictionaries."
      ],
      "metadata": {
        "id": "dubAF9AFctdM"
      }
    },
    {
      "cell_type": "code",
      "source": [
        "x = {1: \"one\", 2: \"two\"}\n",
        "x[\"first\"] = \"one\"         #A\n",
        "x[(\"Delorme\", \"Ryan\", 1995)] = (1, 2, 3)   #1\n",
        "list(x.keys())"
      ],
      "metadata": {
        "colab": {
          "base_uri": "https://localhost:8080/"
        },
        "id": "Ir3m0LZCarNf",
        "outputId": "974acf6e-27d0-419e-85cc-5b29a740c759"
      },
      "execution_count": null,
      "outputs": [
        {
          "output_type": "execute_result",
          "data": {
            "text/plain": [
              "[1, 2, 'first', ('Delorme', 'Ryan', 1995)]"
            ]
          },
          "metadata": {},
          "execution_count": 50
        }
      ]
    },
    {
      "cell_type": "markdown",
      "source": [
        "If you try to access the value of a key that isn’t in the dictionary, a `KeyError` exception is raised. To avoid this error, the dictionary method `get` #2 optionally returns a user-definable value when a key isn’t in a dictionary."
      ],
      "metadata": {
        "id": "6OJQUwpQc8Sk"
      }
    },
    {
      "cell_type": "code",
      "source": [
        "x.get(1, \"not available\")"
      ],
      "metadata": {
        "colab": {
          "base_uri": "https://localhost:8080/",
          "height": 35
        },
        "id": "vC6-PFuKcghk",
        "outputId": "045594cc-5afa-4493-a55d-43b275cb25b7"
      },
      "execution_count": null,
      "outputs": [
        {
          "output_type": "execute_result",
          "data": {
            "text/plain": [
              "'one'"
            ],
            "application/vnd.google.colaboratory.intrinsic+json": {
              "type": "string"
            }
          },
          "metadata": {},
          "execution_count": 51
        }
      ]
    },
    {
      "cell_type": "code",
      "source": [
        "x.get(4, \"not available\")      #2"
      ],
      "metadata": {
        "colab": {
          "base_uri": "https://localhost:8080/",
          "height": 35
        },
        "id": "Jzg7POF4dEV1",
        "outputId": "a3b0bc6b-8a65-4f3f-8687-5b96ede5e0ff"
      },
      "execution_count": null,
      "outputs": [
        {
          "output_type": "execute_result",
          "data": {
            "text/plain": [
              "'not available'"
            ],
            "application/vnd.google.colaboratory.intrinsic+json": {
              "type": "string"
            }
          },
          "metadata": {},
          "execution_count": 52
        }
      ]
    },
    {
      "cell_type": "markdown",
      "source": [
        "## 3.2.6 Sets, frozensets\n",
        "\n",
        " A set in Python is an unordered collection of objects, used in situations where membership and uniqueness in the set are important. Frozensets are similar to sets, but once created are immutable."
      ],
      "metadata": {
        "id": "EtKGQzikhLaX"
      }
    },
    {
      "cell_type": "code",
      "source": [
        "x = set([1, 2, 3, 1, 3, 5])       #1\n",
        "x"
      ],
      "metadata": {
        "colab": {
          "base_uri": "https://localhost:8080/"
        },
        "id": "5B2JpJb1dIs0",
        "outputId": "9f1f2b94-1dcd-40ec-c22a-608b01ddfb34"
      },
      "execution_count": null,
      "outputs": [
        {
          "output_type": "execute_result",
          "data": {
            "text/plain": [
              "{1, 2, 3, 5}"
            ]
          },
          "metadata": {},
          "execution_count": 58
        }
      ]
    },
    {
      "cell_type": "code",
      "source": [
        "1 in x           #3\n"
      ],
      "metadata": {
        "colab": {
          "base_uri": "https://localhost:8080/"
        },
        "id": "ZsZtRJWuhhcH",
        "outputId": "4cffbffe-117a-497c-e33f-c60f864aa94e"
      },
      "execution_count": null,
      "outputs": [
        {
          "output_type": "execute_result",
          "data": {
            "text/plain": [
              "True"
            ]
          },
          "metadata": {},
          "execution_count": 59
        }
      ]
    },
    {
      "cell_type": "code",
      "source": [
        "4 in x           #3"
      ],
      "metadata": {
        "colab": {
          "base_uri": "https://localhost:8080/"
        },
        "id": "VEoPc0E7hkUI",
        "outputId": "66b67c45-6a87-4814-9060-ef5bc3c293e7"
      },
      "execution_count": null,
      "outputs": [
        {
          "output_type": "execute_result",
          "data": {
            "text/plain": [
              "False"
            ]
          },
          "metadata": {},
          "execution_count": 60
        }
      ]
    },
    {
      "cell_type": "markdown",
      "source": [
        "## 3.2.7 File objects\n",
        "\n",
        "A file is accessed through a Python file object:"
      ],
      "metadata": {
        "id": "usi1-G9khwln"
      }
    },
    {
      "cell_type": "code",
      "source": [
        "f = open(\"myfile\", \"w\")                                    #1\n",
        "f.write(\"First line with necessary newline character\\n\")\n",
        "f.write(\"Second line to write to the file\\n\")\n",
        "f.close()\n",
        "f = open(\"myfile\", \"r\")                 #2\n",
        "line1 = f.readline()\n",
        "line2 = f.readline()\n",
        "f.close()\n",
        "print(line1, line2)"
      ],
      "metadata": {
        "colab": {
          "base_uri": "https://localhost:8080/"
        },
        "id": "NONkf868hoXo",
        "outputId": "d76a10d8-94aa-4a73-afe4-0417099401eb"
      },
      "execution_count": null,
      "outputs": [
        {
          "output_type": "stream",
          "name": "stdout",
          "text": [
            "First line with necessary newline character\n",
            " Second line to write to the file\n",
            "\n"
          ]
        }
      ]
    },
    {
      "cell_type": "code",
      "source": [
        "import os                               #3\n",
        "directory = os.getcwd()\n",
        "print(directory)"
      ],
      "metadata": {
        "colab": {
          "base_uri": "https://localhost:8080/"
        },
        "id": "y9RGDH2ciBvc",
        "outputId": "ad24154c-83b9-4c34-d841-20d408ce9c92"
      },
      "execution_count": null,
      "outputs": [
        {
          "output_type": "stream",
          "name": "stdout",
          "text": [
            "/content\n"
          ]
        }
      ]
    },
    {
      "cell_type": "code",
      "source": [
        "filename = os.path.join(directory, \"myfile\")                                          #5\n",
        "print(filename)\n",
        "f = open(filename, \"r\")\n",
        "print(f.readline())\n",
        "f.close()\n"
      ],
      "metadata": {
        "colab": {
          "base_uri": "https://localhost:8080/"
        },
        "id": "7-HxPICHihup",
        "outputId": "1f507ac9-6376-465d-f722-7ec7e2404686"
      },
      "execution_count": null,
      "outputs": [
        {
          "output_type": "stream",
          "name": "stdout",
          "text": [
            "/content/myfile\n",
            "First line with necessary newline character\n",
            "\n"
          ]
        }
      ]
    },
    {
      "cell_type": "markdown",
      "source": [
        "# 3.3 Control flow structures\n",
        "## 3.3.2 if-elif-else statement\n",
        "\n",
        "The block of code after the first `True` condition (of an `if` or an `elif`) is executed. If none of the conditions is `True`, the block of code after the `else` is executed:"
      ],
      "metadata": {
        "id": "UvFwBu1Ei9z2"
      }
    },
    {
      "cell_type": "code",
      "source": [
        "x = 5\n",
        "if x < 5:\n",
        "    y = -1\n",
        "    z = 5\n",
        "elif x > 5:    #1\n",
        "    y = 1      #1\n",
        "    z = 11     #1\n",
        "else:\n",
        "    y = 0        #2\n",
        "    z = 10       #2\n",
        "print(x, y, z)\n"
      ],
      "metadata": {
        "colab": {
          "base_uri": "https://localhost:8080/"
        },
        "id": "ueunjjeDjDQp",
        "outputId": "fedff834-cb56-4e7f-ca9a-48864870109b"
      },
      "execution_count": null,
      "outputs": [
        {
          "output_type": "stream",
          "name": "stdout",
          "text": [
            "5 0 10\n"
          ]
        }
      ]
    },
    {
      "cell_type": "markdown",
      "source": [
        "## 3.3.3 Structural pattern matching\n",
        "\n",
        "Versions of Python from 3.10 have the match statement with allows for flexible and powerful pattern matching,"
      ],
      "metadata": {
        "id": "SmlMV5q9jl3t"
      }
    },
    {
      "cell_type": "code",
      "source": [
        "# point is an (x, y) tuple\n",
        "point = (1, 2)\n",
        "\n",
        "match point:\n",
        "    case (0, 0):\n",
        "        print(\"Origin\")\n",
        "    case (0, y):\n",
        "        print(f\"Y={y}\")\n",
        "    case (x, 0):\n",
        "        print(f\"X={x}\")\n",
        "    case (x, y):\n",
        "        print(f\"X={x}, Y={y}\")\n",
        "    case _:\n",
        "        raise ValueError(\"Not a point\")\n"
      ],
      "metadata": {
        "colab": {
          "base_uri": "https://localhost:8080/"
        },
        "id": "Puhd7y_xjFOQ",
        "outputId": "ffdb2c03-5fee-4d2c-8eed-1d4b587a0f5c"
      },
      "execution_count": null,
      "outputs": [
        {
          "output_type": "stream",
          "name": "stdout",
          "text": [
            "X=1, Y=2\n"
          ]
        }
      ]
    },
    {
      "cell_type": "markdown",
      "source": [
        "## 3.3.4 The while loop\n",
        "\n",
        "The `while` loop is executed as long as the condition (which here is `x > y`) is `True`:\n"
      ],
      "metadata": {
        "id": "ToXJPu3hjwVf"
      }
    },
    {
      "cell_type": "code",
      "source": [
        "u, v, x, y = 0, 0, 100, 30    #1\n",
        "while x > y:           #2\n",
        "    u = u + y          #2\n",
        "    x = x - y          #2\n",
        "    if x < y + 2:      #2\n",
        "        v = v + x      #2\n",
        "        x = 0          #2\n",
        "    else:              #2\n",
        "        v = v + y + 2  #2\n",
        "        x = x - y - 2  #2\n",
        "print(u, v)\n"
      ],
      "metadata": {
        "colab": {
          "base_uri": "https://localhost:8080/"
        },
        "id": "NSDvpg_bjXNh",
        "outputId": "e17c0b62-ca89-412f-9604-563682d291f1"
      },
      "execution_count": null,
      "outputs": [
        {
          "output_type": "stream",
          "name": "stdout",
          "text": [
            "60 40\n"
          ]
        }
      ]
    },
    {
      "cell_type": "markdown",
      "source": [
        "## 3.3.5 The for loop\n",
        "\n",
        "The for loop is simple but powerful because it’s possible to iterate over any iterable type, such as a list or tuple. U"
      ],
      "metadata": {
        "id": "2zwVR_83kUyo"
      }
    },
    {
      "cell_type": "code",
      "source": [
        "item_list = [3, \"string1\", 23, 14.0, \"string2\", 49, 64, 70]\n",
        "for x in item_list:             #1\n",
        "    if not isinstance(x, int):\n",
        "        continue                 #2\n",
        "    if not x % 7:\n",
        "        print(\"found an integer divisible by seven: %d\" % x)\n",
        "        break                                                  #3\n"
      ],
      "metadata": {
        "colab": {
          "base_uri": "https://localhost:8080/"
        },
        "id": "s8Ti9ORoj-x6",
        "outputId": "3f351999-21b7-434a-a28c-9b2c21042ba1"
      },
      "execution_count": null,
      "outputs": [
        {
          "output_type": "stream",
          "name": "stdout",
          "text": [
            "found an integer divisible by seven: 49\n"
          ]
        }
      ]
    },
    {
      "cell_type": "markdown",
      "source": [
        "## 3.3.6 Function definition\n",
        "\n",
        "Python provides flexible mechanisms for passing arguments to functions:"
      ],
      "metadata": {
        "id": "WU8MFG6bkkvs"
      }
    },
    {
      "cell_type": "code",
      "source": [
        "def funct1(x, y, z):               #1\n",
        "    value = x + 2*y + z**2\n",
        "    if value > 0:\n",
        "        return x + 2*y + z**2      #2\n",
        "    else:\n",
        "        return 0\n",
        "\n",
        "u, v = 3, 4\n",
        "funct1(u, v, 2)"
      ],
      "metadata": {
        "colab": {
          "base_uri": "https://localhost:8080/"
        },
        "id": "DIGQ0vsMkcn8",
        "outputId": "ea9beb3f-abdf-40fc-9ec6-1795b6cf3516"
      },
      "execution_count": null,
      "outputs": [
        {
          "output_type": "execute_result",
          "data": {
            "text/plain": [
              "15"
            ]
          },
          "metadata": {},
          "execution_count": 74
        }
      ]
    },
    {
      "cell_type": "markdown",
      "source": [
        "Function arguments can be entered either by position or by name (keyword). Here, z and y are entered by name #3"
      ],
      "metadata": {
        "id": "cUQDY_k8lU3l"
      }
    },
    {
      "cell_type": "code",
      "source": [
        "funct1(u, z=v, y=2)                #3"
      ],
      "metadata": {
        "colab": {
          "base_uri": "https://localhost:8080/"
        },
        "id": "00ggo_eEk2Kg",
        "outputId": "c8b7d5c9-9844-44f4-f661-f777ae930f0c"
      },
      "execution_count": null,
      "outputs": [
        {
          "output_type": "execute_result",
          "data": {
            "text/plain": [
              "23"
            ]
          },
          "metadata": {},
          "execution_count": 75
        }
      ]
    },
    {
      "cell_type": "markdown",
      "source": [
        " Function parameters can be defined with defaults that are used if a function call leaves them out #4."
      ],
      "metadata": {
        "id": "U0lyuUsrldOk"
      }
    },
    {
      "cell_type": "code",
      "source": [
        "def funct2(x, y=1, z=1):           #4\n",
        "    return x + 2 * y + z ** 2\n",
        "\n",
        "funct2(3, z=4)"
      ],
      "metadata": {
        "colab": {
          "base_uri": "https://localhost:8080/"
        },
        "id": "w7m6K5FRk53Y",
        "outputId": "fa7583b5-396d-4ae0-bc37-2861a00ae413"
      },
      "execution_count": null,
      "outputs": [
        {
          "output_type": "execute_result",
          "data": {
            "text/plain": [
              "21"
            ]
          },
          "metadata": {},
          "execution_count": 78
        }
      ]
    },
    {
      "cell_type": "markdown",
      "source": [
        "A special parameter can be defined that collects all extra positional arguments in a function call into a tuple #5."
      ],
      "metadata": {
        "id": "298H6S5MlgXL"
      }
    },
    {
      "cell_type": "code",
      "source": [
        "def funct3(x, y=1, z=1, *tup):      #5\n",
        "    print((x, y, z) + tup)\n",
        "\n",
        "funct3(2)"
      ],
      "metadata": {
        "colab": {
          "base_uri": "https://localhost:8080/"
        },
        "id": "5QyDC0zBk84Y",
        "outputId": "c207b24d-2c0a-4949-e950-d82994873b33"
      },
      "execution_count": null,
      "outputs": [
        {
          "output_type": "stream",
          "name": "stdout",
          "text": [
            "(2, 1, 1)\n"
          ]
        }
      ]
    },
    {
      "cell_type": "code",
      "source": [
        "funct3(1, 2, 3, 4, 5, 6, 7, 8, 9)"
      ],
      "metadata": {
        "colab": {
          "base_uri": "https://localhost:8080/"
        },
        "id": "m2fqxWL8lIFN",
        "outputId": "81560bc1-d0f4-44d7-cf7e-fc57049b6d75"
      },
      "execution_count": null,
      "outputs": [
        {
          "output_type": "stream",
          "name": "stdout",
          "text": [
            "(1, 2, 3, 4, 5, 6, 7, 8, 9)\n"
          ]
        }
      ]
    },
    {
      "cell_type": "markdown",
      "source": [
        "Likewise, a special parameter can be defined that collects all extra keyword arguments in a function call into a dictionary #6."
      ],
      "metadata": {
        "id": "E1fij6galirh"
      }
    },
    {
      "cell_type": "code",
      "source": [
        "def funct4(x, y=1, z=1, **kwargs):     #6\n",
        "    print(x, y, z, kwargs)\n",
        "funct4(1, 2, m=5, n=9, z=3)"
      ],
      "metadata": {
        "colab": {
          "base_uri": "https://localhost:8080/"
        },
        "id": "ZTYwu7shlLeM",
        "outputId": "4f190c19-db82-42a1-f305-ad5699fcf039"
      },
      "execution_count": null,
      "outputs": [
        {
          "output_type": "stream",
          "name": "stdout",
          "text": [
            "1 2 3 {'m': 5, 'n': 9}\n"
          ]
        }
      ]
    },
    {
      "cell_type": "markdown",
      "source": [
        "## 3.3.7 Exceptions\n",
        "\n",
        "Exceptions (errors) can be caught and handled by using the `try-except-else-finally` compound statement. This statement can also catch and handle exceptions you define and raise yourself."
      ],
      "metadata": {
        "id": "WuukV_xPcOp3"
      }
    },
    {
      "cell_type": "code",
      "source": [
        "class EmptyFileError(Exception):     #1\n",
        "    pass\n",
        "filenames = [\"myfile1.txt\", \"non_existent\", \"empty_file\", \"myfile2.txt\"]\n",
        "for file in filenames:\n",
        "    try:                             #2\n",
        "        f = open(file, 'r')\n",
        "        line = f.readline()          #3\n",
        "        if line == \"\":\n",
        "            f.close()\n",
        "            raise EmptyFileError(f\"{file}: is empty\")      #4\n",
        "    except IOError as error:\n",
        "        print(f\"{file}: could not be opened: {error.strerror}\")\n",
        "    except EmptyFileError as error:\n",
        "        print(error)\n",
        "    else:                             #5\n",
        "        print(f\"{file}: {line}\")\n",
        "    finally:\n",
        "        print(\"Done processing\", file)                       #6"
      ],
      "metadata": {
        "id": "etISj5_2lN2U",
        "colab": {
          "base_uri": "https://localhost:8080/"
        },
        "outputId": "5cd3a0ae-a3ba-41db-fd06-fdda769dd787"
      },
      "execution_count": 26,
      "outputs": [
        {
          "output_type": "stream",
          "name": "stdout",
          "text": [
            "myfile1.txt: This is myfile1.txt\n",
            "\n",
            "Done processing myfile1.txt\n",
            "non_existent: could not be opened: No such file or directory\n",
            "Done processing non_existent\n",
            "empty_file: is empty\n",
            "Done processing empty_file\n",
            "myfile2.txt: This is myfile2.txt\n",
            "\n",
            "Done processing myfile2.txt\n"
          ]
        }
      ]
    },
    {
      "cell_type": "markdown",
      "source": [
        "## 3.3.8 Context handling using the `with` keyword\n",
        "\n",
        "A more streamlined way of encapsulating the try-except-finally pattern is to use the with keyword and a context manager. This example shows opening and reading a file by using `with` and a context manager."
      ],
      "metadata": {
        "id": "iu5RSkxHcQNq"
      }
    },
    {
      "cell_type": "code",
      "source": [
        "filename = \"myfile1.txt\"\n",
        "with open(filename, \"r\") as f:\n",
        "    for line in f:\n",
        "        print(line)"
      ],
      "metadata": {
        "colab": {
          "base_uri": "https://localhost:8080/"
        },
        "id": "AxjVvseobz-l",
        "outputId": "22eb12d8-baf8-4328-d519-ff5ac5ff25b0"
      },
      "execution_count": 22,
      "outputs": [
        {
          "output_type": "stream",
          "name": "stdout",
          "text": [
            "This is myfile1.txt\n",
            "\n"
          ]
        }
      ]
    },
    {
      "cell_type": "markdown",
      "source": [
        "That code is equivalent to this code:"
      ],
      "metadata": {
        "id": "_iu27UgUcYkl"
      }
    },
    {
      "cell_type": "code",
      "source": [
        "filename = \"myfile1.txt\"\n",
        "try:\n",
        "    f = open(filename, \"r\")\n",
        "    for line in f:\n",
        "        print(line)\n",
        "except Exception as e:\n",
        "    raise e\n",
        "finally:\n",
        "    f.close()"
      ],
      "metadata": {
        "colab": {
          "base_uri": "https://localhost:8080/"
        },
        "id": "U0C7x2iicVXD",
        "outputId": "ac12c785-3e79-4898-e471-76e61d990b22"
      },
      "execution_count": 24,
      "outputs": [
        {
          "output_type": "stream",
          "name": "stdout",
          "text": [
            "This is myfile1.txt\n",
            "\n"
          ]
        }
      ]
    },
    {
      "cell_type": "markdown",
      "source": [
        "# 3.4 Module creation\n",
        "\n",
        "It’s easy to create your own modules, which can be imported and used in the same way as Python’s built-in library modules. The example in this listing is a deliberately oversimplified module with one function that prompts the user to enter a filename and determines the number of times that words occur in this file."
      ],
      "metadata": {
        "id": "5q5T0jN0cvvA"
      }
    },
    {
      "cell_type": "code",
      "source": [
        "\"\"\"wo module. Contains function: words_occur()\"\"\"      #1\n",
        "# interface functions              #2\n",
        "def words_occur():\n",
        "    \"\"\"words_occur() - count the occurrences of words in a file.\"\"\"\n",
        "    # Prompt user for the name of the file to use.\n",
        "    file_name = input(\"Enter the name of the file: \")\n",
        "    # Open the file, read it and store its words in a list.\n",
        "    f = open(file_name, 'r')\n",
        "    word_list = f.read().split()                              #3\n",
        "    f.close()\n",
        "    # Count the number of occurrences of each word in the file.\n",
        "    occurs_dict = {}\n",
        "    for word in word_list:\n",
        "        # increment the occurrences count for this word\n",
        "        occurs_dict[word] = occurs_dict.get(word, 0) + 1\n",
        "    # Print out the results.\n",
        "    print(f\"File {file_name} has {len(word_list)} words ({len(occurs_dict)} are unique)\")\n",
        "    print(occurs_dict)\n",
        "if __name__ == '__main__':                                     #4\n",
        "    words_occur()\n"
      ],
      "metadata": {
        "colab": {
          "base_uri": "https://localhost:8080/"
        },
        "id": "vqAl4TMkcdrD",
        "outputId": "f1ae2e7e-ad08-4264-b144-4d295501ae12"
      },
      "execution_count": 11,
      "outputs": [
        {
          "output_type": "stream",
          "name": "stdout",
          "text": [
            "Enter the name of the file: wo.py\n",
            "File wo.py has 117 words (81 are unique)\n",
            "{'\"\"\"wo': 1, 'module.': 1, 'Contains': 1, 'function:': 1, 'words_occur()\"\"\"': 1, '#1': 1, '#': 6, 'interface': 1, 'functions': 1, '#2': 1, 'def': 1, 'words_occur():': 1, '\"\"\"words_occur()': 1, '-': 1, 'count': 2, 'the': 10, 'occurrences': 3, 'of': 5, 'words': 3, 'in': 4, 'a': 2, 'file.\"\"\"': 1, 'Prompt': 1, 'user': 1, 'for': 3, 'name': 2, 'file': 1, 'to': 1, 'use.': 1, 'file_name': 1, '=': 5, 'input(\"Enter': 1, 'file:': 1, '\")': 1, 'Open': 1, 'file,': 1, 'read': 1, 'it': 1, 'and': 1, 'store': 1, 'its': 1, 'list.': 1, 'f': 1, 'open(file_name,': 1, \"'r')\": 1, 'word_list': 1, 'f.read().split()': 1, '#3': 1, 'f.close()': 1, 'Count': 1, 'number': 1, 'each': 1, 'word': 3, 'file.': 1, 'occurs_dict': 1, '{}': 1, 'word_list:': 1, 'increment': 1, 'this': 1, 'occurs_dict[word]': 1, 'occurs_dict.get(word,': 1, '0)': 1, '+': 1, '1': 1, 'Print': 1, 'out': 1, 'results.': 1, 'print(f\"File': 1, '{file_name}': 1, 'has': 1, '{len(word_list)}': 1, '({len(occurs_dict)}': 1, 'are': 1, 'unique)\")': 1, 'print(occurs_dict)': 1, 'if': 1, '__name__': 1, '==': 1, \"'__main__':\": 1, '#4': 1, 'words_occur()': 1}\n"
          ]
        }
      ]
    },
    {
      "cell_type": "markdown",
      "source": [
        "If a file is in the current directory or in one of the directories on the module search path, which can be found in sys.path, it can be imported like any of the built-in library modules by using the import statement:\n"
      ],
      "metadata": {
        "id": "ogOmddBreirr"
      }
    },
    {
      "cell_type": "code",
      "source": [
        "import wo\n",
        "wo.words_occur()        #1"
      ],
      "metadata": {
        "id": "hY8Z_V59dMH7",
        "colab": {
          "base_uri": "https://localhost:8080/"
        },
        "outputId": "af8c1482-3f11-4ffa-9a98-b9b18c4c0e6a"
      },
      "execution_count": 10,
      "outputs": [
        {
          "output_type": "stream",
          "name": "stdout",
          "text": [
            "Enter the name of the file: wo.py\n",
            "File wo.py has 117 words (81 are unique)\n",
            "{'\"\"\"wo': 1, 'module.': 1, 'Contains': 1, 'function:': 1, 'words_occur()\"\"\"': 1, '#1': 1, '#': 6, 'interface': 1, 'functions': 1, '#2': 1, 'def': 1, 'words_occur():': 1, '\"\"\"words_occur()': 1, '-': 1, 'count': 2, 'the': 10, 'occurrences': 3, 'of': 5, 'words': 3, 'in': 4, 'a': 2, 'file.\"\"\"': 1, 'Prompt': 1, 'user': 1, 'for': 3, 'name': 2, 'file': 1, 'to': 1, 'use.': 1, 'file_name': 1, '=': 5, 'input(\"Enter': 1, 'file:': 1, '\")': 1, 'Open': 1, 'file,': 1, 'read': 1, 'it': 1, 'and': 1, 'store': 1, 'its': 1, 'list.': 1, 'f': 1, 'open(file_name,': 1, \"'r')\": 1, 'word_list': 1, 'f.read().split()': 1, '#3': 1, 'f.close()': 1, 'Count': 1, 'number': 1, 'each': 1, 'word': 3, 'file.': 1, 'occurs_dict': 1, '{}': 1, 'word_list:': 1, 'increment': 1, 'this': 1, 'occurs_dict[word]': 1, 'occurs_dict.get(word,': 1, '0)': 1, '+': 1, '1': 1, 'Print': 1, 'out': 1, 'results.': 1, 'print(f\"File': 1, '{file_name}': 1, 'has': 1, '{len(word_list)}': 1, '({len(occurs_dict)}': 1, 'are': 1, 'unique)\")': 1, 'print(occurs_dict)': 1, 'if': 1, '__name__': 1, '==': 1, \"'__main__':\": 1, '#4': 1, 'words_occur()': 1}\n"
          ]
        }
      ]
    },
    {
      "cell_type": "markdown",
      "source": [
        "Note that if you change the file wo.py on disk, import won’t bring your changes into the same interactive session. You use the reload function from the imp library in this situation:\n"
      ],
      "metadata": {
        "id": "m9g3fqt6eoM9"
      }
    },
    {
      "cell_type": "code",
      "source": [
        "import imp\n",
        "imp.reload(wo)"
      ],
      "metadata": {
        "colab": {
          "base_uri": "https://localhost:8080/"
        },
        "id": "IDqtNOPbesA8",
        "outputId": "7067ba3c-7d14-44dd-9622-2ce5b24d9499"
      },
      "execution_count": 12,
      "outputs": [
        {
          "output_type": "execute_result",
          "data": {
            "text/plain": [
              "<module 'wo' from '/content/wo.py'>"
            ]
          },
          "metadata": {},
          "execution_count": 12
        }
      ]
    },
    {
      "cell_type": "markdown",
      "source": [
        "#3.4 Object oriented programming\n",
        "\n",
        "Python provides full support for OOP. Listing 3.4 is an example that might be the start of a simple shapes module for a drawing program."
      ],
      "metadata": {
        "id": "WjqpzU_GfE5b"
      }
    },
    {
      "cell_type": "markdown",
      "source": [
        "### Listing 3.4 File shape.py\n"
      ],
      "metadata": {
        "id": "K8Ff6b0RfI7-"
      }
    },
    {
      "cell_type": "code",
      "source": [
        "\"\"\"shape module. Contains classes Shape, Square and Circle\"\"\"\n",
        "class Shape:                         #1\n",
        "    \"\"\"Shape class: has method move\"\"\"\n",
        "    def __init__(self, x, y):       #2\n",
        "        self.x = x         #3\n",
        "        self.y = y         #3\n",
        "    def move(self, deltaX, deltaY):  #4\n",
        "        self.x = self.x + deltaX\n",
        "        self.y = self.y + deltaY\n",
        "class Square(Shape):\n",
        "    \"\"\"Square Class:inherits from Shape\"\"\"\n",
        "    def __init__(self, side=1, x=0, y=0):\n",
        "        Shape.__init__(self, x, y)\n",
        "        self.side = side\n",
        "class Circle(Shape):            #5\n",
        "    \"\"\"Circle Class: inherits from Shape and has method area\"\"\"\n",
        "    pi = 3.14159           #6\n",
        "    def __init__(self, r=1, x=0, y=0):\n",
        "        Shape.__init__(self, x, y)   #7\n",
        "        self.radius = r\n",
        "    def area(self):\n",
        "        \"\"\"Circle area method: returns the area of the circle.\"\"\"\n",
        "        return self.radius * self.radius * self.pi\n",
        "    def __str__(self):                      #8\n",
        "        return \"Circle of radius %s at coordinates (%d, %d)\"\\\n",
        "               % (self.radius, self.x, self.y)\n"
      ],
      "metadata": {
        "id": "E6zUPdjNevCS"
      },
      "execution_count": 3,
      "outputs": []
    },
    {
      "cell_type": "code",
      "source": [
        "import shape\n",
        "c1 = shape.Circle()         #1\n",
        "c2 = shape.Circle(5, 15, 20)\n",
        "print(c1)\n",
        "\n",
        "print(c2)"
      ],
      "metadata": {
        "colab": {
          "base_uri": "https://localhost:8080/"
        },
        "id": "KzLtDjP7e-Iv",
        "outputId": "caaa1fc1-59cc-464d-861f-11e82ca5e784"
      },
      "execution_count": 8,
      "outputs": [
        {
          "output_type": "stream",
          "name": "stdout",
          "text": [
            "Circle of radius 1 at coordinates (0, 0)\n",
            "Circle of radius 5 at coordinates (15, 20)\n"
          ]
        }
      ]
    },
    {
      "cell_type": "code",
      "source": [
        "c2.area()"
      ],
      "metadata": {
        "colab": {
          "base_uri": "https://localhost:8080/"
        },
        "id": "G1fBe5j_frPj",
        "outputId": "12e3ae93-436e-4b37-d09b-698311a6686e"
      },
      "execution_count": null,
      "outputs": [
        {
          "output_type": "execute_result",
          "data": {
            "text/plain": [
              "78.53975"
            ]
          },
          "metadata": {},
          "execution_count": 13
        }
      ]
    },
    {
      "cell_type": "code",
      "source": [
        "c2.move(5,6)                #3\n",
        "print(c2)"
      ],
      "metadata": {
        "colab": {
          "base_uri": "https://localhost:8080/"
        },
        "id": "ekWNnIMtf4LC",
        "outputId": "1de69c9d-1a79-4b24-a45e-ce7d58120692"
      },
      "execution_count": null,
      "outputs": [
        {
          "output_type": "stream",
          "name": "stdout",
          "text": [
            "Circle of radius 5 at coordinates (20, 26)\n"
          ]
        }
      ]
    }
  ]
}