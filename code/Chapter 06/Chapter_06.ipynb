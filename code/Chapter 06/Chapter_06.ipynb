{
  "nbformat": 4,
  "nbformat_minor": 0,
  "metadata": {
    "colab": {
      "provenance": [],
      "include_colab_link": true
    },
    "kernelspec": {
      "name": "python3",
      "display_name": "Python 3"
    },
    "language_info": {
      "name": "python"
    }
  },
  "cells": [
    {
      "cell_type": "markdown",
      "metadata": {
        "id": "view-in-github",
        "colab_type": "text"
      },
      "source": [
        "<a href=\"https://colab.research.google.com/github/nceder/qpb4e/blob/main/code/Chapter%2006/Chapter_06.ipynb\" target=\"_parent\"><img src=\"https://colab.research.google.com/assets/colab-badge.svg\" alt=\"Open In Colab\"/></a>"
      ]
    },
    {
      "cell_type": "markdown",
      "source": [
        "# 6.1 Strings as sequences of characters"
      ],
      "metadata": {
        "id": "JZ14_-OadAV0"
      }
    },
    {
      "cell_type": "code",
      "execution_count": null,
      "metadata": {
        "colab": {
          "base_uri": "https://localhost:8080/",
          "height": 35
        },
        "id": "_aibBBweqVME",
        "outputId": "60fa2582-5401-4f51-b5f4-76eba59280d6"
      },
      "outputs": [
        {
          "output_type": "execute_result",
          "data": {
            "text/plain": [
              "'H'"
            ],
            "application/vnd.google.colaboratory.intrinsic+json": {
              "type": "string"
            }
          },
          "metadata": {},
          "execution_count": 1
        }
      ],
      "source": [
        "x = \"Hello\"\n",
        "x[0]"
      ]
    },
    {
      "cell_type": "code",
      "source": [
        "x[-1]"
      ],
      "metadata": {
        "colab": {
          "base_uri": "https://localhost:8080/",
          "height": 35
        },
        "id": "w5mS2NSvq7Uf",
        "outputId": "11828168-6298-4a5e-88be-a2dfff702df5"
      },
      "execution_count": null,
      "outputs": [
        {
          "output_type": "execute_result",
          "data": {
            "text/plain": [
              "'o'"
            ],
            "application/vnd.google.colaboratory.intrinsic+json": {
              "type": "string"
            }
          },
          "metadata": {},
          "execution_count": 2
        }
      ]
    },
    {
      "cell_type": "code",
      "source": [
        "x[1:]"
      ],
      "metadata": {
        "colab": {
          "base_uri": "https://localhost:8080/",
          "height": 35
        },
        "id": "LOSO2jCqq_So",
        "outputId": "372aed75-c075-479d-db71-80a5311228b8"
      },
      "execution_count": null,
      "outputs": [
        {
          "output_type": "execute_result",
          "data": {
            "text/plain": [
              "'ello'"
            ],
            "application/vnd.google.colaboratory.intrinsic+json": {
              "type": "string"
            }
          },
          "metadata": {},
          "execution_count": 3
        }
      ]
    },
    {
      "cell_type": "code",
      "source": [
        "x = \"Goodbye\\n\"\n",
        "x = x[:-1]\n",
        "x"
      ],
      "metadata": {
        "colab": {
          "base_uri": "https://localhost:8080/",
          "height": 35
        },
        "id": "17FujXUZrBas",
        "outputId": "2468e6cd-4049-4dc0-b109-d6a8d3ae54d1"
      },
      "execution_count": null,
      "outputs": [
        {
          "output_type": "execute_result",
          "data": {
            "text/plain": [
              "'Goodbye'"
            ],
            "application/vnd.google.colaboratory.intrinsic+json": {
              "type": "string"
            }
          },
          "metadata": {},
          "execution_count": 4
        }
      ]
    },
    {
      "cell_type": "code",
      "source": [
        "len(\"Goodbye\")"
      ],
      "metadata": {
        "colab": {
          "base_uri": "https://localhost:8080/"
        },
        "id": "IJwPv7MRrS9m",
        "outputId": "a75819bc-5f86-40b4-dd05-2582ab399a27"
      },
      "execution_count": null,
      "outputs": [
        {
          "output_type": "execute_result",
          "data": {
            "text/plain": [
              "7"
            ]
          },
          "metadata": {},
          "execution_count": 5
        }
      ]
    },
    {
      "cell_type": "markdown",
      "source": [
        "# 6.2 Basic string operations"
      ],
      "metadata": {
        "id": "VC3_h5M2dLWB"
      }
    },
    {
      "cell_type": "code",
      "source": [
        "x = \"Hello \" + \"World\"\n",
        "x"
      ],
      "metadata": {
        "colab": {
          "base_uri": "https://localhost:8080/",
          "height": 35
        },
        "id": "0dBuHywjrff4",
        "outputId": "f0637390-6175-44b9-b58e-b465c2d85c36"
      },
      "execution_count": null,
      "outputs": [
        {
          "output_type": "execute_result",
          "data": {
            "text/plain": [
              "'Hello World'"
            ],
            "application/vnd.google.colaboratory.intrinsic+json": {
              "type": "string"
            }
          },
          "metadata": {},
          "execution_count": 6
        }
      ]
    },
    {
      "cell_type": "code",
      "source": [
        "8 * \"x\""
      ],
      "metadata": {
        "colab": {
          "base_uri": "https://localhost:8080/",
          "height": 35
        },
        "id": "psICcGk_rwUq",
        "outputId": "556e833e-3d88-46cc-acf1-9fa3a9754326"
      },
      "execution_count": null,
      "outputs": [
        {
          "output_type": "execute_result",
          "data": {
            "text/plain": [
              "'xxxxxxxx'"
            ],
            "application/vnd.google.colaboratory.intrinsic+json": {
              "type": "string"
            }
          },
          "metadata": {},
          "execution_count": 7
        }
      ]
    },
    {
      "cell_type": "markdown",
      "source": [
        "# 6.3 Special characters and escape sequences\n",
        "\n",
        "## 6.3.2 Numeric (octal and hexadecimal) and Unicode escape sequences"
      ],
      "metadata": {
        "id": "R9mgP3LfdS06"
      }
    },
    {
      "cell_type": "code",
      "source": [
        "'m'"
      ],
      "metadata": {
        "colab": {
          "base_uri": "https://localhost:8080/",
          "height": 35
        },
        "id": "QVSBx1cWrymA",
        "outputId": "942add27-ab90-43d9-856a-1269a5c8cbc0"
      },
      "execution_count": null,
      "outputs": [
        {
          "output_type": "execute_result",
          "data": {
            "text/plain": [
              "'m'"
            ],
            "application/vnd.google.colaboratory.intrinsic+json": {
              "type": "string"
            }
          },
          "metadata": {},
          "execution_count": 8
        }
      ]
    },
    {
      "cell_type": "code",
      "source": [
        "'\\155'"
      ],
      "metadata": {
        "colab": {
          "base_uri": "https://localhost:8080/",
          "height": 35
        },
        "id": "T-zwj6aFsCcm",
        "outputId": "fd1ed000-d98f-4e9e-e6e6-8743554488ba"
      },
      "execution_count": null,
      "outputs": [
        {
          "output_type": "execute_result",
          "data": {
            "text/plain": [
              "'m'"
            ],
            "application/vnd.google.colaboratory.intrinsic+json": {
              "type": "string"
            }
          },
          "metadata": {},
          "execution_count": 9
        }
      ]
    },
    {
      "cell_type": "code",
      "source": [
        "'\\x6D'"
      ],
      "metadata": {
        "colab": {
          "base_uri": "https://localhost:8080/",
          "height": 35
        },
        "id": "TIDKGCJ_sGVI",
        "outputId": "50851673-4990-45ea-fe1a-2216045fbcc0"
      },
      "execution_count": null,
      "outputs": [
        {
          "output_type": "execute_result",
          "data": {
            "text/plain": [
              "'m'"
            ],
            "application/vnd.google.colaboratory.intrinsic+json": {
              "type": "string"
            }
          },
          "metadata": {},
          "execution_count": 10
        }
      ]
    },
    {
      "cell_type": "code",
      "source": [
        "'\\n'"
      ],
      "metadata": {
        "colab": {
          "base_uri": "https://localhost:8080/",
          "height": 35
        },
        "id": "DmRCu9QesJGU",
        "outputId": "ad24c7e6-903a-4518-b9a0-3052d95cd299"
      },
      "execution_count": null,
      "outputs": [
        {
          "output_type": "execute_result",
          "data": {
            "text/plain": [
              "'\\n'"
            ],
            "application/vnd.google.colaboratory.intrinsic+json": {
              "type": "string"
            }
          },
          "metadata": {},
          "execution_count": 11
        }
      ]
    },
    {
      "cell_type": "code",
      "source": [
        "'\\012'"
      ],
      "metadata": {
        "colab": {
          "base_uri": "https://localhost:8080/",
          "height": 35
        },
        "id": "CepidakCssdu",
        "outputId": "80c2c299-6a26-4a47-fdf9-6a6e561f1fef"
      },
      "execution_count": null,
      "outputs": [
        {
          "output_type": "execute_result",
          "data": {
            "text/plain": [
              "'\\n'"
            ],
            "application/vnd.google.colaboratory.intrinsic+json": {
              "type": "string"
            }
          },
          "metadata": {},
          "execution_count": 12
        }
      ]
    },
    {
      "cell_type": "code",
      "source": [
        "'\\x0A'"
      ],
      "metadata": {
        "colab": {
          "base_uri": "https://localhost:8080/",
          "height": 35
        },
        "id": "46wHu8KwsuP_",
        "outputId": "02fe9ca9-3b39-4200-81ef-e2ab398903a9"
      },
      "execution_count": null,
      "outputs": [
        {
          "output_type": "execute_result",
          "data": {
            "text/plain": [
              "'\\n'"
            ],
            "application/vnd.google.colaboratory.intrinsic+json": {
              "type": "string"
            }
          },
          "metadata": {},
          "execution_count": 13
        }
      ]
    },
    {
      "cell_type": "code",
      "source": [
        "unicode_a ='\\N{LATIN SMALL LETTER A}'           #A\n",
        "unicode_a"
      ],
      "metadata": {
        "colab": {
          "base_uri": "https://localhost:8080/",
          "height": 35
        },
        "id": "CFx7BVO1swAw",
        "outputId": "3ef1124d-20b8-4adf-e74e-f221205d7882"
      },
      "execution_count": null,
      "outputs": [
        {
          "output_type": "execute_result",
          "data": {
            "text/plain": [
              "'a'"
            ],
            "application/vnd.google.colaboratory.intrinsic+json": {
              "type": "string"
            }
          },
          "metadata": {},
          "execution_count": 14
        }
      ]
    },
    {
      "cell_type": "code",
      "source": [
        "unicode_a_with_acute = '\\N{LATIN SMALL LETTER A WITH ACUTE}'\n",
        "unicode_a_with_acute"
      ],
      "metadata": {
        "colab": {
          "base_uri": "https://localhost:8080/",
          "height": 35
        },
        "id": "HcZlFRxmsyR6",
        "outputId": "3bcc6fb8-8663-4ed5-98a1-59d4968f621c"
      },
      "execution_count": null,
      "outputs": [
        {
          "output_type": "execute_result",
          "data": {
            "text/plain": [
              "'á'"
            ],
            "application/vnd.google.colaboratory.intrinsic+json": {
              "type": "string"
            }
          },
          "metadata": {},
          "execution_count": 15
        }
      ]
    },
    {
      "cell_type": "code",
      "source": [
        "\"\\u00E1\"                    #B"
      ],
      "metadata": {
        "colab": {
          "base_uri": "https://localhost:8080/",
          "height": 35
        },
        "id": "QO3mlmGrs0SY",
        "outputId": "79394c07-7ba7-4b30-f454-03f61bd0b4aa"
      },
      "execution_count": null,
      "outputs": [
        {
          "output_type": "execute_result",
          "data": {
            "text/plain": [
              "'á'"
            ],
            "application/vnd.google.colaboratory.intrinsic+json": {
              "type": "string"
            }
          },
          "metadata": {},
          "execution_count": 16
        }
      ]
    },
    {
      "cell_type": "markdown",
      "source": [
        "## 6.3.3 Printing vs. evaluating strings with special characters"
      ],
      "metadata": {
        "id": "MdA67diedkCC"
      }
    },
    {
      "cell_type": "code",
      "source": [
        "'a\\n\\tb'"
      ],
      "metadata": {
        "colab": {
          "base_uri": "https://localhost:8080/",
          "height": 35
        },
        "id": "M_fMG4VSs3K6",
        "outputId": "6a08c0ba-f666-4a66-9da7-638d0210f3a4"
      },
      "execution_count": null,
      "outputs": [
        {
          "output_type": "execute_result",
          "data": {
            "text/plain": [
              "'a\\n\\tb'"
            ],
            "application/vnd.google.colaboratory.intrinsic+json": {
              "type": "string"
            }
          },
          "metadata": {},
          "execution_count": 17
        }
      ]
    },
    {
      "cell_type": "code",
      "source": [
        "print('a\\n\\tb')"
      ],
      "metadata": {
        "colab": {
          "base_uri": "https://localhost:8080/"
        },
        "id": "jIdeqvZNtQyi",
        "outputId": "9601f7fe-7b69-47cd-b8c9-e94767295d70"
      },
      "execution_count": null,
      "outputs": [
        {
          "output_type": "stream",
          "name": "stdout",
          "text": [
            "a\n",
            "\tb\n"
          ]
        }
      ]
    },
    {
      "cell_type": "code",
      "source": [
        "print(\"abc\\n\")"
      ],
      "metadata": {
        "colab": {
          "base_uri": "https://localhost:8080/"
        },
        "id": "h5QGUltptSns",
        "outputId": "c9ad4de3-e0e1-4434-e174-fc5ce5a1e3b5"
      },
      "execution_count": null,
      "outputs": [
        {
          "output_type": "stream",
          "name": "stdout",
          "text": [
            "abc\n",
            "\n"
          ]
        }
      ]
    },
    {
      "cell_type": "code",
      "source": [
        "print(\"abc\\n\", end=\"\")"
      ],
      "metadata": {
        "colab": {
          "base_uri": "https://localhost:8080/"
        },
        "id": "TGnVM2VPtqcY",
        "outputId": "a12461d1-a654-4b24-e235-3ea3c98a52c4"
      },
      "execution_count": null,
      "outputs": [
        {
          "output_type": "stream",
          "name": "stdout",
          "text": [
            "abc\n"
          ]
        }
      ]
    },
    {
      "cell_type": "markdown",
      "source": [
        "# 6.4 String methods\n",
        "\n",
        "## 6.4.1 The split and join string methods\n"
      ],
      "metadata": {
        "id": "A9gUufxpduyx"
      }
    },
    {
      "cell_type": "code",
      "source": [
        "\" \".join([\"join\", \"puts\", \"spaces\", \"between\", \"elements\"])"
      ],
      "metadata": {
        "colab": {
          "base_uri": "https://localhost:8080/",
          "height": 35
        },
        "id": "c3MthxkNtt3E",
        "outputId": "524f45c5-c039-45c1-b2ae-0cb8a2edce22"
      },
      "execution_count": null,
      "outputs": [
        {
          "output_type": "execute_result",
          "data": {
            "text/plain": [
              "'join puts spaces between elements'"
            ],
            "application/vnd.google.colaboratory.intrinsic+json": {
              "type": "string"
            }
          },
          "metadata": {},
          "execution_count": 21
        }
      ]
    },
    {
      "cell_type": "code",
      "source": [
        "\"::\".join([\"Separated\", \"with\", \"colons\"])"
      ],
      "metadata": {
        "colab": {
          "base_uri": "https://localhost:8080/",
          "height": 35
        },
        "id": "IbTxd_9jt9Ow",
        "outputId": "af38c208-9f09-4d9f-a6b9-429c928dbeb7"
      },
      "execution_count": null,
      "outputs": [
        {
          "output_type": "execute_result",
          "data": {
            "text/plain": [
              "'Separated::with::colons'"
            ],
            "application/vnd.google.colaboratory.intrinsic+json": {
              "type": "string"
            }
          },
          "metadata": {},
          "execution_count": 22
        }
      ]
    },
    {
      "cell_type": "code",
      "source": [
        "\"\".join([\"Separated\", \"by\", \"nothing\"])"
      ],
      "metadata": {
        "colab": {
          "base_uri": "https://localhost:8080/",
          "height": 35
        },
        "id": "SMdzeGcTuIYE",
        "outputId": "6bc8b335-835f-4e23-94f1-668501cfc099"
      },
      "execution_count": null,
      "outputs": [
        {
          "output_type": "execute_result",
          "data": {
            "text/plain": [
              "'Separatedbynothing'"
            ],
            "application/vnd.google.colaboratory.intrinsic+json": {
              "type": "string"
            }
          },
          "metadata": {},
          "execution_count": 23
        }
      ]
    },
    {
      "cell_type": "code",
      "source": [
        "x = \"You\\t\\t can have tabs\\t\\n \\t and newlines \\n\\n \" \\\n",
        "               \"mixed in\"\n",
        "x.split()"
      ],
      "metadata": {
        "colab": {
          "base_uri": "https://localhost:8080/"
        },
        "id": "MKyZHACRuYrh",
        "outputId": "51f5e521-19fe-449d-f9df-d002e43c0e37"
      },
      "execution_count": null,
      "outputs": [
        {
          "output_type": "execute_result",
          "data": {
            "text/plain": [
              "['You', 'can', 'have', 'tabs', 'and', 'newlines', 'mixed', 'in']"
            ]
          },
          "metadata": {},
          "execution_count": 24
        }
      ]
    },
    {
      "cell_type": "code",
      "source": [
        "x = \"Mississippi\"\n",
        "x.split(\"ss\")"
      ],
      "metadata": {
        "colab": {
          "base_uri": "https://localhost:8080/"
        },
        "id": "kzZkGOm_u340",
        "outputId": "8b4ec027-07e4-478b-cd4d-86bc2cbc9659"
      },
      "execution_count": null,
      "outputs": [
        {
          "output_type": "execute_result",
          "data": {
            "text/plain": [
              "['Mi', 'i', 'ippi']"
            ]
          },
          "metadata": {},
          "execution_count": 25
        }
      ]
    },
    {
      "cell_type": "code",
      "source": [
        "x = 'a b c d'\n",
        "x.split(' ', 1)"
      ],
      "metadata": {
        "colab": {
          "base_uri": "https://localhost:8080/"
        },
        "id": "JmNrxm9lu8mc",
        "outputId": "3b75e7b6-7ffb-4574-99b3-1e4307681c0f"
      },
      "execution_count": null,
      "outputs": [
        {
          "output_type": "execute_result",
          "data": {
            "text/plain": [
              "['a', 'b c d']"
            ]
          },
          "metadata": {},
          "execution_count": 26
        }
      ]
    },
    {
      "cell_type": "code",
      "source": [
        "x.split(' ', 2)"
      ],
      "metadata": {
        "colab": {
          "base_uri": "https://localhost:8080/"
        },
        "id": "gaC1u_o-vQXX",
        "outputId": "487a5fda-2431-40df-8d2c-f5faa42f851a"
      },
      "execution_count": null,
      "outputs": [
        {
          "output_type": "execute_result",
          "data": {
            "text/plain": [
              "['a', 'b', 'c d']"
            ]
          },
          "metadata": {},
          "execution_count": 27
        }
      ]
    },
    {
      "cell_type": "code",
      "source": [
        "x.split(' ', 9)"
      ],
      "metadata": {
        "colab": {
          "base_uri": "https://localhost:8080/"
        },
        "id": "U3U-NkKJvSbQ",
        "outputId": "4dcb116a-e288-437a-a03e-8acee12a6133"
      },
      "execution_count": null,
      "outputs": [
        {
          "output_type": "execute_result",
          "data": {
            "text/plain": [
              "['a', 'b', 'c', 'd']"
            ]
          },
          "metadata": {},
          "execution_count": 28
        }
      ]
    },
    {
      "cell_type": "markdown",
      "source": [
        "### Quick Check: split and join\n",
        "How could you use split and join to change all the whitespace in string x to dashes, such as changing \"this is a test\" to \"this-is-a-test\"?\n"
      ],
      "metadata": {
        "id": "LCLXZ2TTgJLu"
      }
    },
    {
      "cell_type": "code",
      "source": [],
      "metadata": {
        "id": "CfG5QiDUgRAi"
      },
      "execution_count": null,
      "outputs": []
    },
    {
      "cell_type": "code",
      "source": [
        "x = \"this is a test\"\n",
        "\"-\".join(x.split())"
      ],
      "metadata": {
        "colab": {
          "base_uri": "https://localhost:8080/",
          "height": 35
        },
        "id": "qdRm0d-kgR-m",
        "outputId": "c147b568-efc4-49a3-ea5d-5fe507b10de2"
      },
      "execution_count": null,
      "outputs": [
        {
          "output_type": "execute_result",
          "data": {
            "text/plain": [
              "'this-is-a-test'"
            ],
            "application/vnd.google.colaboratory.intrinsic+json": {
              "type": "string"
            }
          },
          "metadata": {},
          "execution_count": 1
        }
      ]
    },
    {
      "cell_type": "markdown",
      "source": [
        "## 6.4.2 Converting strings to numbers"
      ],
      "metadata": {
        "id": "ef3xjxfgd49K"
      }
    },
    {
      "cell_type": "code",
      "source": [
        "float('123.456')"
      ],
      "metadata": {
        "colab": {
          "base_uri": "https://localhost:8080/"
        },
        "id": "85WO9R3kvXV5",
        "outputId": "1cfa1dcb-cd30-453b-a570-ca9dc6957060"
      },
      "execution_count": null,
      "outputs": [
        {
          "output_type": "execute_result",
          "data": {
            "text/plain": [
              "123.456"
            ]
          },
          "metadata": {},
          "execution_count": 29
        }
      ]
    },
    {
      "cell_type": "code",
      "source": [
        "float('xxyy')"
      ],
      "metadata": {
        "colab": {
          "base_uri": "https://localhost:8080/",
          "height": 176
        },
        "id": "TjzwKwAMvxmY",
        "outputId": "d182ae49-7016-48c0-ce02-d1b43b0d708f"
      },
      "execution_count": null,
      "outputs": [
        {
          "output_type": "error",
          "ename": "ValueError",
          "evalue": "could not convert string to float: 'xxyy'",
          "traceback": [
            "\u001b[0;31m---------------------------------------------------------------------------\u001b[0m",
            "\u001b[0;31mValueError\u001b[0m                                Traceback (most recent call last)",
            "\u001b[0;32m<ipython-input-30-14b25c5b2052>\u001b[0m in \u001b[0;36m<cell line: 1>\u001b[0;34m()\u001b[0m\n\u001b[0;32m----> 1\u001b[0;31m \u001b[0mfloat\u001b[0m\u001b[0;34m(\u001b[0m\u001b[0;34m'xxyy'\u001b[0m\u001b[0;34m)\u001b[0m\u001b[0;34m\u001b[0m\u001b[0;34m\u001b[0m\u001b[0m\n\u001b[0m",
            "\u001b[0;31mValueError\u001b[0m: could not convert string to float: 'xxyy'"
          ]
        }
      ]
    },
    {
      "cell_type": "code",
      "source": [
        "int('3333')"
      ],
      "metadata": {
        "colab": {
          "base_uri": "https://localhost:8080/"
        },
        "id": "joXaUc69v0UA",
        "outputId": "a73506ce-a14c-4ebe-b384-8706971abbea"
      },
      "execution_count": null,
      "outputs": [
        {
          "output_type": "execute_result",
          "data": {
            "text/plain": [
              "3333"
            ]
          },
          "metadata": {},
          "execution_count": 31
        }
      ]
    },
    {
      "cell_type": "code",
      "source": [
        "int('123.456')"
      ],
      "metadata": {
        "colab": {
          "base_uri": "https://localhost:8080/",
          "height": 176
        },
        "id": "bWXJdLjvv8QW",
        "outputId": "9d5c4424-694b-48d1-aaf5-2bb8444c45ec"
      },
      "execution_count": null,
      "outputs": [
        {
          "output_type": "error",
          "ename": "ValueError",
          "evalue": "invalid literal for int() with base 10: '123.456'",
          "traceback": [
            "\u001b[0;31m---------------------------------------------------------------------------\u001b[0m",
            "\u001b[0;31mValueError\u001b[0m                                Traceback (most recent call last)",
            "\u001b[0;32m<ipython-input-32-ed4c46a302ea>\u001b[0m in \u001b[0;36m<cell line: 1>\u001b[0;34m()\u001b[0m\n\u001b[0;32m----> 1\u001b[0;31m \u001b[0mint\u001b[0m\u001b[0;34m(\u001b[0m\u001b[0;34m'123.456'\u001b[0m\u001b[0;34m)\u001b[0m\u001b[0;34m\u001b[0m\u001b[0;34m\u001b[0m\u001b[0m\n\u001b[0m",
            "\u001b[0;31mValueError\u001b[0m: invalid literal for int() with base 10: '123.456'"
          ]
        }
      ]
    },
    {
      "cell_type": "code",
      "source": [
        "int('10000', 8)"
      ],
      "metadata": {
        "colab": {
          "base_uri": "https://localhost:8080/"
        },
        "id": "QsstpvehwBIO",
        "outputId": "7f1b9220-e7c0-4f0f-9418-9c81fa35d65c"
      },
      "execution_count": null,
      "outputs": [
        {
          "output_type": "execute_result",
          "data": {
            "text/plain": [
              "4096"
            ]
          },
          "metadata": {},
          "execution_count": 33
        }
      ]
    },
    {
      "cell_type": "code",
      "source": [
        "int('101', 2)"
      ],
      "metadata": {
        "colab": {
          "base_uri": "https://localhost:8080/"
        },
        "id": "k15vgBOawIiM",
        "outputId": "2a077d16-0cea-4f01-9d19-c6c3dc524229"
      },
      "execution_count": null,
      "outputs": [
        {
          "output_type": "execute_result",
          "data": {
            "text/plain": [
              "5"
            ]
          },
          "metadata": {},
          "execution_count": 34
        }
      ]
    },
    {
      "cell_type": "code",
      "source": [
        "int('ff', 16)"
      ],
      "metadata": {
        "colab": {
          "base_uri": "https://localhost:8080/"
        },
        "id": "A9nf-KX0wKlA",
        "outputId": "086f00c7-b9b5-4abb-9f68-6c078dbd5533"
      },
      "execution_count": null,
      "outputs": [
        {
          "output_type": "execute_result",
          "data": {
            "text/plain": [
              "255"
            ]
          },
          "metadata": {},
          "execution_count": 35
        }
      ]
    },
    {
      "cell_type": "code",
      "source": [
        "int('123456', 6)"
      ],
      "metadata": {
        "colab": {
          "base_uri": "https://localhost:8080/",
          "height": 176
        },
        "id": "yElCj3y9wNQ4",
        "outputId": "11a79284-9233-4244-fb38-bd61efc5fe25"
      },
      "execution_count": null,
      "outputs": [
        {
          "output_type": "error",
          "ename": "ValueError",
          "evalue": "invalid literal for int() with base 6: '123456'",
          "traceback": [
            "\u001b[0;31m---------------------------------------------------------------------------\u001b[0m",
            "\u001b[0;31mValueError\u001b[0m                                Traceback (most recent call last)",
            "\u001b[0;32m<ipython-input-36-bdc1281d81c5>\u001b[0m in \u001b[0;36m<cell line: 1>\u001b[0;34m()\u001b[0m\n\u001b[0;32m----> 1\u001b[0;31m \u001b[0mint\u001b[0m\u001b[0;34m(\u001b[0m\u001b[0;34m'123456'\u001b[0m\u001b[0;34m,\u001b[0m \u001b[0;36m6\u001b[0m\u001b[0;34m)\u001b[0m\u001b[0;34m\u001b[0m\u001b[0;34m\u001b[0m\u001b[0m\n\u001b[0m",
            "\u001b[0;31mValueError\u001b[0m: invalid literal for int() with base 6: '123456'"
          ]
        }
      ]
    },
    {
      "cell_type": "markdown",
      "source": [
        "### Quick Check: Strings to Numbers\n",
        "Which of the following will not be converted to numbers, and why?\n",
        "```\n",
        "int('a1')\n",
        "int('12G', 16)\n",
        "float(\"12345678901234567890\")\n",
        "int(\"12*2\")\n",
        "```"
      ],
      "metadata": {
        "id": "u5daARJZgZ1E"
      }
    },
    {
      "cell_type": "markdown",
      "source": [
        "## 6.4.3 Getting rid of extra whitespace"
      ],
      "metadata": {
        "id": "YC0TEMB7d-Xp"
      }
    },
    {
      "cell_type": "code",
      "source": [
        "x = \"  Hello,    World\\t\\t \"\n",
        "x.strip()"
      ],
      "metadata": {
        "colab": {
          "base_uri": "https://localhost:8080/",
          "height": 35
        },
        "id": "iqm-z5Y9wPPD",
        "outputId": "256bfe56-7566-4ff0-a63a-40970d836efd"
      },
      "execution_count": null,
      "outputs": [
        {
          "output_type": "execute_result",
          "data": {
            "text/plain": [
              "'Hello,    World'"
            ],
            "application/vnd.google.colaboratory.intrinsic+json": {
              "type": "string"
            }
          },
          "metadata": {},
          "execution_count": 37
        }
      ]
    },
    {
      "cell_type": "code",
      "source": [
        "x.lstrip()"
      ],
      "metadata": {
        "colab": {
          "base_uri": "https://localhost:8080/",
          "height": 35
        },
        "id": "HdKqfmDAxqtA",
        "outputId": "6284e794-b320-4ac0-dbba-3b2057e8d3ea"
      },
      "execution_count": null,
      "outputs": [
        {
          "output_type": "execute_result",
          "data": {
            "text/plain": [
              "'Hello,    World\\t\\t '"
            ],
            "application/vnd.google.colaboratory.intrinsic+json": {
              "type": "string"
            }
          },
          "metadata": {},
          "execution_count": 38
        }
      ]
    },
    {
      "cell_type": "code",
      "source": [
        "x.rstrip()"
      ],
      "metadata": {
        "colab": {
          "base_uri": "https://localhost:8080/",
          "height": 35
        },
        "id": "zn61kBUxxs7G",
        "outputId": "416de82c-3438-4b07-87ab-6b10c89d6d57"
      },
      "execution_count": null,
      "outputs": [
        {
          "output_type": "execute_result",
          "data": {
            "text/plain": [
              "'  Hello,    World'"
            ],
            "application/vnd.google.colaboratory.intrinsic+json": {
              "type": "string"
            }
          },
          "metadata": {},
          "execution_count": 39
        }
      ]
    },
    {
      "cell_type": "code",
      "source": [
        "import string\n",
        "string.whitespace"
      ],
      "metadata": {
        "colab": {
          "base_uri": "https://localhost:8080/",
          "height": 35
        },
        "id": "0A5BOdi1xv44",
        "outputId": "23c27ce0-e7e5-40f4-8eec-2b9ba120ef73"
      },
      "execution_count": null,
      "outputs": [
        {
          "output_type": "execute_result",
          "data": {
            "text/plain": [
              "' \\t\\n\\r\\x0b\\x0c'"
            ],
            "application/vnd.google.colaboratory.intrinsic+json": {
              "type": "string"
            }
          },
          "metadata": {},
          "execution_count": 40
        }
      ]
    },
    {
      "cell_type": "code",
      "source": [
        "\" \\t\\n\\r\\v\\f\""
      ],
      "metadata": {
        "colab": {
          "base_uri": "https://localhost:8080/",
          "height": 35
        },
        "id": "gXyXmVNsx8DQ",
        "outputId": "0f60777b-c866-45bc-b054-2249210cd0f9"
      },
      "execution_count": null,
      "outputs": [
        {
          "output_type": "execute_result",
          "data": {
            "text/plain": [
              "' \\t\\n\\r\\x0b\\x0c'"
            ],
            "application/vnd.google.colaboratory.intrinsic+json": {
              "type": "string"
            }
          },
          "metadata": {},
          "execution_count": 41
        }
      ]
    },
    {
      "cell_type": "code",
      "source": [
        "x = \"www.python.org\"\n",
        "x.strip(\"w\")"
      ],
      "metadata": {
        "colab": {
          "base_uri": "https://localhost:8080/",
          "height": 35
        },
        "id": "p4XWRA0Lx_Dk",
        "outputId": "adc6e937-6533-4abf-db8b-0842766ead3a"
      },
      "execution_count": null,
      "outputs": [
        {
          "output_type": "execute_result",
          "data": {
            "text/plain": [
              "'.python.org'"
            ],
            "application/vnd.google.colaboratory.intrinsic+json": {
              "type": "string"
            }
          },
          "metadata": {},
          "execution_count": 42
        }
      ]
    },
    {
      "cell_type": "code",
      "source": [
        "x.strip(\"gor\")"
      ],
      "metadata": {
        "colab": {
          "base_uri": "https://localhost:8080/",
          "height": 35
        },
        "id": "GesTZs0ByLXC",
        "outputId": "3e5f607a-38c3-4d4f-ce9f-0a36c9c73d5c"
      },
      "execution_count": null,
      "outputs": [
        {
          "output_type": "execute_result",
          "data": {
            "text/plain": [
              "'www.python.'"
            ],
            "application/vnd.google.colaboratory.intrinsic+json": {
              "type": "string"
            }
          },
          "metadata": {},
          "execution_count": 43
        }
      ]
    },
    {
      "cell_type": "code",
      "source": [
        "x.strip(\".gorw\")"
      ],
      "metadata": {
        "colab": {
          "base_uri": "https://localhost:8080/",
          "height": 35
        },
        "id": "FtyBhbziyPE0",
        "outputId": "7dcc3268-833d-4a8b-ae3d-9863923ff39f"
      },
      "execution_count": null,
      "outputs": [
        {
          "output_type": "execute_result",
          "data": {
            "text/plain": [
              "'python'"
            ],
            "application/vnd.google.colaboratory.intrinsic+json": {
              "type": "string"
            }
          },
          "metadata": {},
          "execution_count": 44
        }
      ]
    },
    {
      "cell_type": "code",
      "source": [
        "x = \"www.python.org\"\n",
        "x.removeprefix(\"www.\")"
      ],
      "metadata": {
        "colab": {
          "base_uri": "https://localhost:8080/",
          "height": 35
        },
        "id": "YQMJKd0NyRvS",
        "outputId": "97deb841-5e55-46b3-9981-9cbd70853b8f"
      },
      "execution_count": null,
      "outputs": [
        {
          "output_type": "execute_result",
          "data": {
            "text/plain": [
              "'python.org'"
            ],
            "application/vnd.google.colaboratory.intrinsic+json": {
              "type": "string"
            }
          },
          "metadata": {},
          "execution_count": 45
        }
      ]
    },
    {
      "cell_type": "code",
      "source": [
        "x.removesuffix(\".org\")"
      ],
      "metadata": {
        "colab": {
          "base_uri": "https://localhost:8080/",
          "height": 35
        },
        "id": "rmDrQZg4yhCB",
        "outputId": "1a19d63b-cf81-4daf-da61-c06dc87bd869"
      },
      "execution_count": null,
      "outputs": [
        {
          "output_type": "execute_result",
          "data": {
            "text/plain": [
              "'www.python'"
            ],
            "application/vnd.google.colaboratory.intrinsic+json": {
              "type": "string"
            }
          },
          "metadata": {},
          "execution_count": 46
        }
      ]
    },
    {
      "cell_type": "markdown",
      "source": [
        "### Quick Check: strip\n",
        "If the string x equals \"(name, date),\\n\", which of the following returns a string containing \"name, date\" ?\n",
        "```\n",
        "1. x.rstrip(\"),\")\n",
        "2. x.strip(\"),\\n\")\n",
        "3. x.strip(\"\\n)(,\")\n",
        "4. x.strip(\"\\n)(,\") will remove the newline as well as the comma and parentheses.\n",
        "```"
      ],
      "metadata": {
        "id": "RRqFg_SMgj4R"
      }
    },
    {
      "cell_type": "markdown",
      "source": [
        "## 6.4.4 String searching"
      ],
      "metadata": {
        "id": "Hr8ceI80eGp-"
      }
    },
    {
      "cell_type": "code",
      "source": [
        "x = \"Mississippi\"\n",
        "x.find(\"ss\")"
      ],
      "metadata": {
        "colab": {
          "base_uri": "https://localhost:8080/"
        },
        "id": "MEdsdoMEyjvA",
        "outputId": "f497096f-719e-4b97-ec70-7c9193e5fc5e"
      },
      "execution_count": null,
      "outputs": [
        {
          "output_type": "execute_result",
          "data": {
            "text/plain": [
              "2"
            ]
          },
          "metadata": {},
          "execution_count": 47
        }
      ]
    },
    {
      "cell_type": "code",
      "source": [
        "x.find(\"zz\")"
      ],
      "metadata": {
        "colab": {
          "base_uri": "https://localhost:8080/"
        },
        "id": "lpPrG1GRy5Mi",
        "outputId": "e375ba7d-de7f-4e00-a431-5bd47fdcd776"
      },
      "execution_count": null,
      "outputs": [
        {
          "output_type": "execute_result",
          "data": {
            "text/plain": [
              "-1"
            ]
          },
          "metadata": {},
          "execution_count": 48
        }
      ]
    },
    {
      "cell_type": "code",
      "source": [
        "x = \"Mississippi\"\n",
        "x.find(\"ss\", 3)"
      ],
      "metadata": {
        "colab": {
          "base_uri": "https://localhost:8080/"
        },
        "id": "gzzjIQfUy6wc",
        "outputId": "654d65b5-4aef-4e8e-f3db-f0b2a0708f66"
      },
      "execution_count": null,
      "outputs": [
        {
          "output_type": "execute_result",
          "data": {
            "text/plain": [
              "5"
            ]
          },
          "metadata": {},
          "execution_count": 49
        }
      ]
    },
    {
      "cell_type": "code",
      "source": [
        "x.find(\"ss\", 0, 3)"
      ],
      "metadata": {
        "colab": {
          "base_uri": "https://localhost:8080/"
        },
        "id": "BhgN6cjZzPY4",
        "outputId": "7a64e89f-521f-4039-f5e6-816a4d6a6732"
      },
      "execution_count": null,
      "outputs": [
        {
          "output_type": "execute_result",
          "data": {
            "text/plain": [
              "-1"
            ]
          },
          "metadata": {},
          "execution_count": 50
        }
      ]
    },
    {
      "cell_type": "code",
      "source": [
        "x = \"Mississippi\"\n",
        "x.rfind(\"ss\")"
      ],
      "metadata": {
        "colab": {
          "base_uri": "https://localhost:8080/"
        },
        "id": "IQon3i0izQ1q",
        "outputId": "91a65e95-1e68-4e5a-bcef-a1df483be146"
      },
      "execution_count": null,
      "outputs": [
        {
          "output_type": "execute_result",
          "data": {
            "text/plain": [
              "5"
            ]
          },
          "metadata": {},
          "execution_count": 51
        }
      ]
    },
    {
      "cell_type": "code",
      "source": [
        "x = \"Mississippi\"\n",
        "x.count(\"ss\")"
      ],
      "metadata": {
        "colab": {
          "base_uri": "https://localhost:8080/"
        },
        "id": "_-hU9i2jzzmX",
        "outputId": "44bb71ba-0452-48a5-9074-80602a097749"
      },
      "execution_count": null,
      "outputs": [
        {
          "output_type": "execute_result",
          "data": {
            "text/plain": [
              "2"
            ]
          },
          "metadata": {},
          "execution_count": 52
        }
      ]
    },
    {
      "cell_type": "code",
      "source": [
        "x = \"Mississippi\"\n",
        "x.startswith(\"Miss\")"
      ],
      "metadata": {
        "colab": {
          "base_uri": "https://localhost:8080/"
        },
        "id": "b4uPi1_wz_CY",
        "outputId": "347d3bb9-6d0a-42e2-bb9c-a1c0e94d33b1"
      },
      "execution_count": null,
      "outputs": [
        {
          "output_type": "execute_result",
          "data": {
            "text/plain": [
              "True"
            ]
          },
          "metadata": {},
          "execution_count": 53
        }
      ]
    },
    {
      "cell_type": "code",
      "source": [
        "x.startswith(\"Mist\")"
      ],
      "metadata": {
        "colab": {
          "base_uri": "https://localhost:8080/"
        },
        "id": "Sv06PQUk0MIe",
        "outputId": "9fb38bfb-1a02-424f-8520-368d18f3fa39"
      },
      "execution_count": null,
      "outputs": [
        {
          "output_type": "execute_result",
          "data": {
            "text/plain": [
              "False"
            ]
          },
          "metadata": {},
          "execution_count": 54
        }
      ]
    },
    {
      "cell_type": "code",
      "source": [
        "x.endswith(\"pi\")"
      ],
      "metadata": {
        "colab": {
          "base_uri": "https://localhost:8080/"
        },
        "id": "wj3iWLwo0NqQ",
        "outputId": "6603f499-a0f2-4e1e-ea8d-655df60ae251"
      },
      "execution_count": null,
      "outputs": [
        {
          "output_type": "execute_result",
          "data": {
            "text/plain": [
              "True"
            ]
          },
          "metadata": {},
          "execution_count": 55
        }
      ]
    },
    {
      "cell_type": "code",
      "source": [
        "x.endswith(\"p\")"
      ],
      "metadata": {
        "colab": {
          "base_uri": "https://localhost:8080/"
        },
        "id": "AG9Tm8330QBL",
        "outputId": "83762f65-bc7f-4d1b-97b2-7e8affd0318f"
      },
      "execution_count": null,
      "outputs": [
        {
          "output_type": "execute_result",
          "data": {
            "text/plain": [
              "False"
            ]
          },
          "metadata": {},
          "execution_count": 56
        }
      ]
    },
    {
      "cell_type": "code",
      "source": [
        "x.endswith((\"i\", \"u\"))"
      ],
      "metadata": {
        "colab": {
          "base_uri": "https://localhost:8080/"
        },
        "id": "CL7073-20Rw4",
        "outputId": "f5473d74-67c4-43f1-96b1-ffdfc1f84253"
      },
      "execution_count": null,
      "outputs": [
        {
          "output_type": "execute_result",
          "data": {
            "text/plain": [
              "True"
            ]
          },
          "metadata": {},
          "execution_count": 57
        }
      ]
    },
    {
      "cell_type": "markdown",
      "source": [
        "## 6.4.5 Modifying strings"
      ],
      "metadata": {
        "id": "M0MV1w8mePQT"
      }
    },
    {
      "cell_type": "code",
      "source": [
        "x = \"Mississippi\"\n",
        "x.replace(\"ss\", \"+++\")"
      ],
      "metadata": {
        "colab": {
          "base_uri": "https://localhost:8080/",
          "height": 35
        },
        "id": "fIP4byCk0bHQ",
        "outputId": "e78e6451-82a2-4a6a-b294-a6acb8cc4304"
      },
      "execution_count": null,
      "outputs": [
        {
          "output_type": "execute_result",
          "data": {
            "text/plain": [
              "'Mi+++i+++ippi'"
            ],
            "application/vnd.google.colaboratory.intrinsic+json": {
              "type": "string"
            }
          },
          "metadata": {},
          "execution_count": 58
        }
      ]
    },
    {
      "cell_type": "code",
      "source": [
        "x = \"~x ^ (y % z)\"\n",
        "table = x.maketrans(\"~^()\", \"!&[]\")\n",
        "x.translate(table)"
      ],
      "metadata": {
        "colab": {
          "base_uri": "https://localhost:8080/",
          "height": 35
        },
        "id": "Uoz0l1rw0jqs",
        "outputId": "20dbac94-9bdb-4075-a5df-68a8468fd81a"
      },
      "execution_count": null,
      "outputs": [
        {
          "output_type": "execute_result",
          "data": {
            "text/plain": [
              "'!x & [y % z]'"
            ],
            "application/vnd.google.colaboratory.intrinsic+json": {
              "type": "string"
            }
          },
          "metadata": {},
          "execution_count": 59
        }
      ]
    },
    {
      "cell_type": "markdown",
      "source": [
        "### Quick Check: String searching\n",
        "If you want to see whether a line ends with the string \"rejected\", what string method would you use? Are there any other ways you could get the same result?\n"
      ],
      "metadata": {
        "id": "GDp9QhO4hEiR"
      }
    },
    {
      "cell_type": "markdown",
      "source": [
        "## 6.4.6 Modifying strings with list manipulations"
      ],
      "metadata": {
        "id": "JvB1XjVieWQN"
      }
    },
    {
      "cell_type": "code",
      "source": [
        "text = \"Hello, World\"\n",
        "wordList = list(text)\n",
        "wordList[6:] = []\n",
        "wordList.reverse()\n",
        "text = \"\".join(wordList)\n",
        "print(text)"
      ],
      "metadata": {
        "colab": {
          "base_uri": "https://localhost:8080/"
        },
        "id": "Ed8OBKBo0tkI",
        "outputId": "27580b37-c930-4199-83a5-3970adfe851a"
      },
      "execution_count": null,
      "outputs": [
        {
          "output_type": "stream",
          "name": "stdout",
          "text": [
            ",olleH\n"
          ]
        }
      ]
    },
    {
      "cell_type": "markdown",
      "source": [
        "### Quick Check: Modifying strings\n",
        "What would be a quick way to change all punctuation in a string to spaces?\n"
      ],
      "metadata": {
        "id": "xXySVaMMhSpo"
      }
    },
    {
      "cell_type": "code",
      "source": [],
      "metadata": {
        "id": "VSHB-dTEhWdj"
      },
      "execution_count": null,
      "outputs": []
    },
    {
      "cell_type": "code",
      "source": [
        "punct = str.maketrans(\"!.,:;-?\", \"       \")\n",
        "x = \"This is text, with: punctuation! Right?\"\n",
        "x.translate(punct)"
      ],
      "metadata": {
        "colab": {
          "base_uri": "https://localhost:8080/",
          "height": 35
        },
        "id": "7dbNneJthWiu",
        "outputId": "1bb8e95a-8ac1-4907-d342-ce5d201b345d"
      },
      "execution_count": null,
      "outputs": [
        {
          "output_type": "execute_result",
          "data": {
            "text/plain": [
              "'This is text  with  punctuation  Right '"
            ],
            "application/vnd.google.colaboratory.intrinsic+json": {
              "type": "string"
            }
          },
          "metadata": {},
          "execution_count": 2
        }
      ]
    },
    {
      "cell_type": "markdown",
      "source": [
        "# 6.4.7 Useful methods and constants"
      ],
      "metadata": {
        "id": "Q3kx0c7IedzM"
      }
    },
    {
      "cell_type": "code",
      "source": [
        "x = \"123\"\n",
        "x.isdigit()"
      ],
      "metadata": {
        "colab": {
          "base_uri": "https://localhost:8080/"
        },
        "id": "j6VrAxS51AII",
        "outputId": "74660028-1fc0-4893-a84b-c48242c2ea0a"
      },
      "execution_count": null,
      "outputs": [
        {
          "output_type": "execute_result",
          "data": {
            "text/plain": [
              "True"
            ]
          },
          "metadata": {},
          "execution_count": 61
        }
      ]
    },
    {
      "cell_type": "code",
      "source": [
        "x.isalpha()"
      ],
      "metadata": {
        "colab": {
          "base_uri": "https://localhost:8080/"
        },
        "id": "lZEbKG-k1N2Y",
        "outputId": "da8674ea-a4ef-405c-bb4f-977b2e275585"
      },
      "execution_count": null,
      "outputs": [
        {
          "output_type": "execute_result",
          "data": {
            "text/plain": [
              "False"
            ]
          },
          "metadata": {},
          "execution_count": 62
        }
      ]
    },
    {
      "cell_type": "code",
      "source": [
        "x = \"M\"\n",
        "x.islower()"
      ],
      "metadata": {
        "colab": {
          "base_uri": "https://localhost:8080/"
        },
        "id": "Wp8ud4JU1QLu",
        "outputId": "c0a7d8e9-f44c-4635-8ebe-45fa721f1590"
      },
      "execution_count": null,
      "outputs": [
        {
          "output_type": "execute_result",
          "data": {
            "text/plain": [
              "False"
            ]
          },
          "metadata": {},
          "execution_count": 63
        }
      ]
    },
    {
      "cell_type": "code",
      "source": [
        "x.isupper()"
      ],
      "metadata": {
        "colab": {
          "base_uri": "https://localhost:8080/"
        },
        "id": "q5lfH9FP1SbK",
        "outputId": "38e82fe4-d123-400e-ccc9-f9130ea75073"
      },
      "execution_count": null,
      "outputs": [
        {
          "output_type": "execute_result",
          "data": {
            "text/plain": [
              "True"
            ]
          },
          "metadata": {},
          "execution_count": 64
        }
      ]
    },
    {
      "cell_type": "markdown",
      "source": [
        "### Try This: String operations\n",
        "Suppose that you have a list of strings in which some (but not necessarily all) of the strings begin and end with the double quote character:\n",
        "```\n",
        "x = ['\"abc\"', 'def', '\"ghi\"', '\"klm\"', 'nop']\n",
        "```\n",
        "What code would you use on each element to remove just the double quotes?\n"
      ],
      "metadata": {
        "id": "E14GSPNBhhId"
      }
    },
    {
      "cell_type": "code",
      "source": [],
      "metadata": {
        "id": "CCZ_v9XnhnPo"
      },
      "execution_count": null,
      "outputs": []
    },
    {
      "cell_type": "code",
      "source": [
        "x = ['\"abc\"', 'def', '\"ghi\"', '\"klm\"', 'nop']\n",
        "for item in x:\n",
        "    print(item.strip('\"'))"
      ],
      "metadata": {
        "colab": {
          "base_uri": "https://localhost:8080/"
        },
        "id": "ofl6Dr8IhnYC",
        "outputId": "165b9191-8098-44f9-9c38-30c80780d2bc"
      },
      "execution_count": null,
      "outputs": [
        {
          "output_type": "stream",
          "name": "stdout",
          "text": [
            "abc\n",
            "def\n",
            "ghi\n",
            "klm\n",
            "nop\n"
          ]
        }
      ]
    },
    {
      "cell_type": "markdown",
      "source": [
        "# 6.5 Converting from objects to strings"
      ],
      "metadata": {
        "id": "q9il5stjeov_"
      }
    },
    {
      "cell_type": "code",
      "source": [
        "repr([1, 2, 3])"
      ],
      "metadata": {
        "colab": {
          "base_uri": "https://localhost:8080/",
          "height": 35
        },
        "id": "1BDoHHU_1USE",
        "outputId": "c8882279-cf29-4eb5-db0c-4796418deb3b"
      },
      "execution_count": null,
      "outputs": [
        {
          "output_type": "execute_result",
          "data": {
            "text/plain": [
              "'[1, 2, 3]'"
            ],
            "application/vnd.google.colaboratory.intrinsic+json": {
              "type": "string"
            }
          },
          "metadata": {},
          "execution_count": 65
        }
      ]
    },
    {
      "cell_type": "code",
      "source": [
        "x = [1]\n",
        "x.append(2)\n",
        "x.append([3, 4])\n",
        "'the list x is ' + repr(x)"
      ],
      "metadata": {
        "colab": {
          "base_uri": "https://localhost:8080/",
          "height": 35
        },
        "id": "JSsTZ7Gp1syw",
        "outputId": "cca6d04d-a3d6-4cbd-d7ba-fce6e9388882"
      },
      "execution_count": null,
      "outputs": [
        {
          "output_type": "execute_result",
          "data": {
            "text/plain": [
              "'the list x is [1, 2, [3, 4]]'"
            ],
            "application/vnd.google.colaboratory.intrinsic+json": {
              "type": "string"
            }
          },
          "metadata": {},
          "execution_count": 66
        }
      ]
    },
    {
      "cell_type": "code",
      "source": [
        "repr(len)"
      ],
      "metadata": {
        "colab": {
          "base_uri": "https://localhost:8080/",
          "height": 35
        },
        "id": "N_EpP77d1vBE",
        "outputId": "8e67d1b2-a68b-4018-c3c6-33d3af0b62d0"
      },
      "execution_count": null,
      "outputs": [
        {
          "output_type": "execute_result",
          "data": {
            "text/plain": [
              "'<built-in function len>'"
            ],
            "application/vnd.google.colaboratory.intrinsic+json": {
              "type": "string"
            }
          },
          "metadata": {},
          "execution_count": 67
        }
      ]
    },
    {
      "cell_type": "markdown",
      "source": [
        "# 6.6 Using the format method\n",
        "\n",
        "## 6.6.1 The format method and positional parameters"
      ],
      "metadata": {
        "id": "jZdyV22HezQV"
      }
    },
    {
      "cell_type": "code",
      "source": [
        "\"{0} is the {1} of {2}\".format(\"Ambrosia\", \"food\", \"the gods\")"
      ],
      "metadata": {
        "colab": {
          "base_uri": "https://localhost:8080/",
          "height": 35
        },
        "id": "CbaGZkAL12Ho",
        "outputId": "59ef63ec-f27b-4e3f-f9a3-2f62efb4d02f"
      },
      "execution_count": null,
      "outputs": [
        {
          "output_type": "execute_result",
          "data": {
            "text/plain": [
              "'Ambrosia is the food of the gods'"
            ],
            "application/vnd.google.colaboratory.intrinsic+json": {
              "type": "string"
            }
          },
          "metadata": {},
          "execution_count": 68
        }
      ]
    },
    {
      "cell_type": "code",
      "source": [
        "\"{{Ambrosia}} is the {0} of {1}\".format(\"food\", \"the gods\")"
      ],
      "metadata": {
        "colab": {
          "base_uri": "https://localhost:8080/",
          "height": 35
        },
        "id": "ZutYddEJ2HBC",
        "outputId": "4d96dda4-d241-4657-8c78-dc3e800222be"
      },
      "execution_count": null,
      "outputs": [
        {
          "output_type": "execute_result",
          "data": {
            "text/plain": [
              "'{Ambrosia} is the food of the gods'"
            ],
            "application/vnd.google.colaboratory.intrinsic+json": {
              "type": "string"
            }
          },
          "metadata": {},
          "execution_count": 69
        }
      ]
    },
    {
      "cell_type": "markdown",
      "source": [
        "## 6.6.2 The format method and named parameters"
      ],
      "metadata": {
        "id": "P1SHLZu4iBk2"
      }
    },
    {
      "cell_type": "code",
      "source": [
        "\"{food} is the food of {user}\".format(food=\"Ambrosia\",\n",
        "      user=\"the gods\")"
      ],
      "metadata": {
        "colab": {
          "base_uri": "https://localhost:8080/",
          "height": 35
        },
        "id": "uJS2HsWZ2I5A",
        "outputId": "70f3e2e2-7005-49e4-8b63-8740b87b8469"
      },
      "execution_count": null,
      "outputs": [
        {
          "output_type": "execute_result",
          "data": {
            "text/plain": [
              "'Ambrosia is the food of the gods'"
            ],
            "application/vnd.google.colaboratory.intrinsic+json": {
              "type": "string"
            }
          },
          "metadata": {},
          "execution_count": 70
        }
      ]
    },
    {
      "cell_type": "code",
      "source": [
        "\"{0} is the food of {user[1]}\".format(\"Ambrosia\",\n",
        "         user=[\"men\", \"the gods\", \"others\"])"
      ],
      "metadata": {
        "colab": {
          "base_uri": "https://localhost:8080/",
          "height": 35
        },
        "id": "791KIMve2SVQ",
        "outputId": "2be6becb-a494-4841-8fc1-42405adc01af"
      },
      "execution_count": null,
      "outputs": [
        {
          "output_type": "execute_result",
          "data": {
            "text/plain": [
              "'Ambrosia is the food of the gods'"
            ],
            "application/vnd.google.colaboratory.intrinsic+json": {
              "type": "string"
            }
          },
          "metadata": {},
          "execution_count": 71
        }
      ]
    },
    {
      "cell_type": "markdown",
      "source": [
        "## 6.6.3 Format specifiers"
      ],
      "metadata": {
        "id": "p8x77zuNiHNO"
      }
    },
    {
      "cell_type": "code",
      "source": [
        "\"{0:10} is the food of gods\".format(\"Ambrosia\")"
      ],
      "metadata": {
        "colab": {
          "base_uri": "https://localhost:8080/",
          "height": 35
        },
        "id": "vjyHKxR22alt",
        "outputId": "ab3e8e40-affc-4570-fdf4-d89de3a35eab"
      },
      "execution_count": null,
      "outputs": [
        {
          "output_type": "execute_result",
          "data": {
            "text/plain": [
              "'Ambrosia   is the food of gods'"
            ],
            "application/vnd.google.colaboratory.intrinsic+json": {
              "type": "string"
            }
          },
          "metadata": {},
          "execution_count": 72
        }
      ]
    },
    {
      "cell_type": "code",
      "source": [
        "\"{0:{1}} is the food of gods\".format(\"Ambrosia\", 10)"
      ],
      "metadata": {
        "colab": {
          "base_uri": "https://localhost:8080/",
          "height": 35
        },
        "id": "Jxc1xBut2v14",
        "outputId": "5c4a35fc-5383-46dc-e0af-39ef4476a765"
      },
      "execution_count": null,
      "outputs": [
        {
          "output_type": "execute_result",
          "data": {
            "text/plain": [
              "'Ambrosia   is the food of gods'"
            ],
            "application/vnd.google.colaboratory.intrinsic+json": {
              "type": "string"
            }
          },
          "metadata": {},
          "execution_count": 73
        }
      ]
    },
    {
      "cell_type": "code",
      "source": [
        "\"{food:{width}} is the food of gods\".format(food=\"Ambrosia\", width=10)"
      ],
      "metadata": {
        "colab": {
          "base_uri": "https://localhost:8080/",
          "height": 35
        },
        "id": "z_MX_pTr2xkB",
        "outputId": "1c8d0591-c4f1-4a8f-f6e7-45041647ad6e"
      },
      "execution_count": null,
      "outputs": [
        {
          "output_type": "execute_result",
          "data": {
            "text/plain": [
              "'Ambrosia   is the food of gods'"
            ],
            "application/vnd.google.colaboratory.intrinsic+json": {
              "type": "string"
            }
          },
          "metadata": {},
          "execution_count": 74
        }
      ]
    },
    {
      "cell_type": "code",
      "source": [
        "\"{0:>10} is the food of gods\".format(\"Ambrosia\")"
      ],
      "metadata": {
        "colab": {
          "base_uri": "https://localhost:8080/",
          "height": 35
        },
        "id": "CV2AxtKq2zRQ",
        "outputId": "48930f9c-5847-4c6c-abb9-8cb96fb18591"
      },
      "execution_count": null,
      "outputs": [
        {
          "output_type": "execute_result",
          "data": {
            "text/plain": [
              "'  Ambrosia is the food of gods'"
            ],
            "application/vnd.google.colaboratory.intrinsic+json": {
              "type": "string"
            }
          },
          "metadata": {},
          "execution_count": 75
        }
      ]
    },
    {
      "cell_type": "code",
      "source": [
        "\"{0:&>10} is the food of gods\".format(\"Ambrosia\")"
      ],
      "metadata": {
        "colab": {
          "base_uri": "https://localhost:8080/",
          "height": 35
        },
        "id": "LGaEWsun209P",
        "outputId": "69d5f9b5-6837-47cb-c786-687eddf1e60d"
      },
      "execution_count": null,
      "outputs": [
        {
          "output_type": "execute_result",
          "data": {
            "text/plain": [
              "'&&Ambrosia is the food of gods'"
            ],
            "application/vnd.google.colaboratory.intrinsic+json": {
              "type": "string"
            }
          },
          "metadata": {},
          "execution_count": 76
        }
      ]
    },
    {
      "cell_type": "markdown",
      "source": [
        "### Quick Check: the format() method\n",
        "What will be in x when the following snippets of code are executed?:\n",
        "```\n",
        "x = \"{1:{0}}\".format(3, 4)\n",
        "x = \"{0:$>5}\".format(3)\n",
        "x = \"{a:{b}}\".format(a=1, b=5)\n",
        "x = \"{a:{b}}:{0:$>5}\".format(3, 4, a=1, b=5, c=10)\n",
        "```"
      ],
      "metadata": {
        "id": "TZ0u9M_niOGd"
      }
    },
    {
      "cell_type": "markdown",
      "source": [
        "# String interpolation with f-strings"
      ],
      "metadata": {
        "id": "JhiVJyEcfCUo"
      }
    },
    {
      "cell_type": "code",
      "source": [
        "value = 42\n",
        "message = f\"The answer is {value}\"\n",
        "print(message)"
      ],
      "metadata": {
        "colab": {
          "base_uri": "https://localhost:8080/"
        },
        "id": "CEbs0bJ-5KBt",
        "outputId": "576b6872-5aaa-406b-9c29-37ffbec7647c"
      },
      "execution_count": null,
      "outputs": [
        {
          "output_type": "stream",
          "name": "stdout",
          "text": [
            "The answer is 42\n"
          ]
        }
      ]
    },
    {
      "cell_type": "code",
      "source": [
        "primes = [1, 2, 3, 5]\n",
        "f\"sum of first 4 primes is {sum(primes)}\""
      ],
      "metadata": {
        "id": "uW_zV1okkQEF",
        "outputId": "619623ba-df07-4c19-d95e-222e3989e6ec",
        "colab": {
          "base_uri": "https://localhost:8080/",
          "height": 35
        }
      },
      "execution_count": null,
      "outputs": [
        {
          "output_type": "execute_result",
          "data": {
            "text/plain": [
              "'sum of first 4 primes is 11'"
            ],
            "application/vnd.google.colaboratory.intrinsic+json": {
              "type": "string"
            }
          },
          "metadata": {},
          "execution_count": 8
        }
      ]
    },
    {
      "cell_type": "code",
      "source": [
        "pi = 3.1415\n",
        "print(f\"pi is {pi:{10}.{2}}\")"
      ],
      "metadata": {
        "colab": {
          "base_uri": "https://localhost:8080/"
        },
        "id": "-moP9HpC5dzt",
        "outputId": "aeee8db3-9976-4fca-8b8c-dc65a821b476"
      },
      "execution_count": null,
      "outputs": [
        {
          "output_type": "stream",
          "name": "stdout",
          "text": [
            "pi is        3.1\n"
          ]
        }
      ]
    },
    {
      "cell_type": "code",
      "source": [
        "print(f\"{pi=:{10}.{2}}\")"
      ],
      "metadata": {
        "id": "X6dAnMywkGiG",
        "outputId": "dc341d62-c1fe-46bb-d98c-0b8b56304b7a",
        "colab": {
          "base_uri": "https://localhost:8080/"
        }
      },
      "execution_count": null,
      "outputs": [
        {
          "output_type": "stream",
          "name": "stdout",
          "text": [
            "pi=       3.1\n"
          ]
        }
      ]
    },
    {
      "cell_type": "code",
      "source": [
        "primes = [1, 2, 3, 5]\n",
        "f\"sum of first 4 primes is {sum(primes)=}\""
      ],
      "metadata": {
        "id": "__uTDbQGkgSf",
        "outputId": "c1e25ada-252d-48f7-c903-087b0e9ca0a2",
        "colab": {
          "base_uri": "https://localhost:8080/",
          "height": 35
        }
      },
      "execution_count": null,
      "outputs": [
        {
          "output_type": "execute_result",
          "data": {
            "text/plain": [
              "'sum of first 4 primes is sum(primes)=11'"
            ],
            "application/vnd.google.colaboratory.intrinsic+json": {
              "type": "string"
            }
          },
          "metadata": {},
          "execution_count": 9
        }
      ]
    },
    {
      "cell_type": "markdown",
      "source": [
        "# 6.8 Formatting strings with %"
      ],
      "metadata": {
        "id": "orYq71OkfF5v"
      }
    },
    {
      "cell_type": "code",
      "source": [
        "\"%s is the %s of %s\" % (\"Ambrosia\", \"food\", \"the gods\")"
      ],
      "metadata": {
        "colab": {
          "base_uri": "https://localhost:8080/",
          "height": 35
        },
        "id": "auaFXaPP22-i",
        "outputId": "a20ff549-71e2-4e92-cccb-b01ef525eda8"
      },
      "execution_count": null,
      "outputs": [
        {
          "output_type": "execute_result",
          "data": {
            "text/plain": [
              "'Ambrosia is the food of the gods'"
            ],
            "application/vnd.google.colaboratory.intrinsic+json": {
              "type": "string"
            }
          },
          "metadata": {},
          "execution_count": 77
        }
      ]
    },
    {
      "cell_type": "code",
      "source": [
        "\"%s is the %s of %s\" % (\"Nectar\", \"drink\", \"gods\")"
      ],
      "metadata": {
        "colab": {
          "base_uri": "https://localhost:8080/",
          "height": 35
        },
        "id": "DtKOxY3i3WSM",
        "outputId": "4d84f04c-7082-4625-fe2b-6d2d13d75c64"
      },
      "execution_count": null,
      "outputs": [
        {
          "output_type": "execute_result",
          "data": {
            "text/plain": [
              "'Nectar is the drink of gods'"
            ],
            "application/vnd.google.colaboratory.intrinsic+json": {
              "type": "string"
            }
          },
          "metadata": {},
          "execution_count": 78
        }
      ]
    },
    {
      "cell_type": "code",
      "source": [
        "\"%s is the %s of the %s\" % (\"Brussels Sprouts\", \"food\",\n",
        "       \"foolish\")"
      ],
      "metadata": {
        "colab": {
          "base_uri": "https://localhost:8080/",
          "height": 35
        },
        "id": "H8B6JZJz3hDo",
        "outputId": "1cd7610d-e1b6-4999-a8aa-f5226d0d8f53"
      },
      "execution_count": null,
      "outputs": [
        {
          "output_type": "execute_result",
          "data": {
            "text/plain": [
              "'Brussels Sprouts is the food of the foolish'"
            ],
            "application/vnd.google.colaboratory.intrinsic+json": {
              "type": "string"
            }
          },
          "metadata": {},
          "execution_count": 79
        }
      ]
    },
    {
      "cell_type": "code",
      "source": [
        "x = [1, 2, \"three\"]\n",
        "\"The %s contains: %s\" % (\"list\", x)"
      ],
      "metadata": {
        "colab": {
          "base_uri": "https://localhost:8080/",
          "height": 35
        },
        "id": "oohWJhwz3igA",
        "outputId": "5e2a1b17-e5ea-41c7-c5dd-ada6a03514ae"
      },
      "execution_count": null,
      "outputs": [
        {
          "output_type": "execute_result",
          "data": {
            "text/plain": [
              "\"The list contains: [1, 2, 'three']\""
            ],
            "application/vnd.google.colaboratory.intrinsic+json": {
              "type": "string"
            }
          },
          "metadata": {},
          "execution_count": 80
        }
      ]
    },
    {
      "cell_type": "code",
      "source": [
        "\"Pi is <%-6.2f>\" % 3.14159 # use of the formatting sequence: %–6.2f"
      ],
      "metadata": {
        "colab": {
          "base_uri": "https://localhost:8080/",
          "height": 35
        },
        "id": "ZRGHKw6l3va8",
        "outputId": "8ef034a5-1745-4d8e-850d-42bce803a236"
      },
      "execution_count": null,
      "outputs": [
        {
          "output_type": "execute_result",
          "data": {
            "text/plain": [
              "'Pi is <3.14  >'"
            ],
            "application/vnd.google.colaboratory.intrinsic+json": {
              "type": "string"
            }
          },
          "metadata": {},
          "execution_count": 81
        }
      ]
    },
    {
      "cell_type": "markdown",
      "source": [
        "## 6.8.2 Named parameters and formatting sequences"
      ],
      "metadata": {
        "id": "4xa4ppAdibq-"
      }
    },
    {
      "cell_type": "code",
      "source": [
        "\"%(pi).2f\""
      ],
      "metadata": {
        "colab": {
          "base_uri": "https://localhost:8080/",
          "height": 35
        },
        "id": "szm3pA4M37xO",
        "outputId": "a82c2326-18e5-498e-bbd0-f52ab4984a6a"
      },
      "execution_count": null,
      "outputs": [
        {
          "output_type": "execute_result",
          "data": {
            "text/plain": [
              "'%(pi).2f'"
            ],
            "application/vnd.google.colaboratory.intrinsic+json": {
              "type": "string"
            }
          },
          "metadata": {},
          "execution_count": 82
        }
      ]
    },
    {
      "cell_type": "code",
      "source": [
        "num_dict = {'e': 2.718, 'pi': 3.14159}\n",
        "print(\"%(pi).2f - %(pi).4f - %(e).2f\" % num_dict)"
      ],
      "metadata": {
        "colab": {
          "base_uri": "https://localhost:8080/"
        },
        "id": "yNPTayqF4L6l",
        "outputId": "6032490a-54e5-486e-fa64-9dda83c44919"
      },
      "execution_count": null,
      "outputs": [
        {
          "output_type": "stream",
          "name": "stdout",
          "text": [
            "3.14 - 3.1416 - 2.72\n"
          ]
        }
      ]
    },
    {
      "cell_type": "code",
      "source": [
        "print(\"a\")\n",
        "print(\"b\")"
      ],
      "metadata": {
        "colab": {
          "base_uri": "https://localhost:8080/"
        },
        "id": "tyWR0z4d4WoW",
        "outputId": "611b1660-765c-40a9-9e5b-1cb5a05a8b86"
      },
      "execution_count": null,
      "outputs": [
        {
          "output_type": "stream",
          "name": "stdout",
          "text": [
            "a\n",
            "b\n"
          ]
        }
      ]
    },
    {
      "cell_type": "code",
      "source": [
        "print(\"a\", \"b\", \"c\")"
      ],
      "metadata": {
        "colab": {
          "base_uri": "https://localhost:8080/"
        },
        "id": "VXaLgiVK4_5W",
        "outputId": "911e58dd-9d84-46b0-b624-99c05de4a5bb"
      },
      "execution_count": null,
      "outputs": [
        {
          "output_type": "stream",
          "name": "stdout",
          "text": [
            "a b c\n"
          ]
        }
      ]
    },
    {
      "cell_type": "code",
      "source": [
        "print(\"a\", \"b\", \"c\", sep=\"|\")"
      ],
      "metadata": {
        "colab": {
          "base_uri": "https://localhost:8080/"
        },
        "id": "RWe8puoD5Fa7",
        "outputId": "e7d035f0-6626-4ab9-ca3e-f0e7cf0a3c46"
      },
      "execution_count": null,
      "outputs": [
        {
          "output_type": "stream",
          "name": "stdout",
          "text": [
            "a|b|c\n"
          ]
        }
      ]
    },
    {
      "cell_type": "code",
      "source": [
        "print(\"a\", \"b\", \"c\", end=\"\\n\\n\")"
      ],
      "metadata": {
        "colab": {
          "base_uri": "https://localhost:8080/"
        },
        "id": "EEUpy-ik5HsU",
        "outputId": "9c795871-8c99-46ed-e766-f8e72e12234e"
      },
      "execution_count": null,
      "outputs": [
        {
          "output_type": "stream",
          "name": "stdout",
          "text": [
            "a b c\n",
            "\n"
          ]
        }
      ]
    },
    {
      "cell_type": "markdown",
      "source": [
        "### Quick Check: Formatting strings with %\n",
        "What would be in the variable x after the following snippets of code have executed?\n",
        "```\n",
        "x = \"%.2f\" % 1.1111\n",
        "x = \"%(a).2f\" % {'a':1.1111}\n",
        "x = \"%(a).08f\" % {'a':1.1111}\n",
        "```"
      ],
      "metadata": {
        "id": "asGDM3A7ih_-"
      }
    },
    {
      "cell_type": "markdown",
      "source": [
        "# 6.9 Bytes"
      ],
      "metadata": {
        "id": "IidyabC6fPIU"
      }
    },
    {
      "cell_type": "code",
      "source": [
        "unicode_a_with_acute = '\\N{LATIN SMALL LETTER A WITH ACUTE}'\n",
        "unicode_a_with_acute"
      ],
      "metadata": {
        "colab": {
          "base_uri": "https://localhost:8080/",
          "height": 35
        },
        "id": "6Byp2N9q5m_y",
        "outputId": "a8ef3892-424d-4286-e55d-8906cdbdc8f4"
      },
      "execution_count": null,
      "outputs": [
        {
          "output_type": "execute_result",
          "data": {
            "text/plain": [
              "'á'"
            ],
            "application/vnd.google.colaboratory.intrinsic+json": {
              "type": "string"
            }
          },
          "metadata": {},
          "execution_count": 91
        }
      ]
    },
    {
      "cell_type": "code",
      "source": [
        "xb = unicode_a_with_acute.encode()   #A\n",
        "xb"
      ],
      "metadata": {
        "colab": {
          "base_uri": "https://localhost:8080/"
        },
        "id": "CY8GW7FO513R",
        "outputId": "04b9f869-df15-43ce-9b38-2ce5316dba00"
      },
      "execution_count": null,
      "outputs": [
        {
          "output_type": "execute_result",
          "data": {
            "text/plain": [
              "b'\\xc3\\xa1'"
            ]
          },
          "metadata": {},
          "execution_count": 92
        }
      ]
    },
    {
      "cell_type": "code",
      "source": [
        "xb += 'A'"
      ],
      "metadata": {
        "colab": {
          "base_uri": "https://localhost:8080/",
          "height": 176
        },
        "id": "BrmDj8jF54yM",
        "outputId": "ab4882a6-c516-46bc-b1e8-66553c17a203"
      },
      "execution_count": null,
      "outputs": [
        {
          "output_type": "error",
          "ename": "TypeError",
          "evalue": "can't concat str to bytes",
          "traceback": [
            "\u001b[0;31m---------------------------------------------------------------------------\u001b[0m",
            "\u001b[0;31mTypeError\u001b[0m                                 Traceback (most recent call last)",
            "\u001b[0;32m<ipython-input-93-2c4ecee004ef>\u001b[0m in \u001b[0;36m<cell line: 1>\u001b[0;34m()\u001b[0m\n\u001b[0;32m----> 1\u001b[0;31m \u001b[0mxb\u001b[0m \u001b[0;34m+=\u001b[0m \u001b[0;34m'A'\u001b[0m\u001b[0;34m\u001b[0m\u001b[0;34m\u001b[0m\u001b[0m\n\u001b[0m",
            "\u001b[0;31mTypeError\u001b[0m: can't concat str to bytes"
          ]
        }
      ]
    },
    {
      "cell_type": "code",
      "source": [
        "xb.decode()"
      ],
      "metadata": {
        "colab": {
          "base_uri": "https://localhost:8080/",
          "height": 35
        },
        "id": "p2j1wWik57VX",
        "outputId": "20a87666-249b-4914-b179-ca068f7028bd"
      },
      "execution_count": null,
      "outputs": [
        {
          "output_type": "execute_result",
          "data": {
            "text/plain": [
              "'á'"
            ],
            "application/vnd.google.colaboratory.intrinsic+json": {
              "type": "string"
            }
          },
          "metadata": {},
          "execution_count": 94
        }
      ]
    },
    {
      "cell_type": "markdown",
      "source": [
        "### Quick Check: Bytes\n",
        "For which of the following kinds of data would you want to use a string? For which could you use bytes?\n",
        "1. Data file storing binary data\n",
        "2. Text in a language with accented characters\n",
        "3. Text with only uppercase and lowercase roman characters\n",
        "4. A series of integers no larger than 255"
      ],
      "metadata": {
        "id": "1qHBqiddfVjo"
      }
    },
    {
      "cell_type": "markdown",
      "source": [
        "1. Data file storing binary data\n",
        "\n",
        "   Bytes. Because the data is binary, you're more concerned with the contents as numbers rather than text. Therefore, it would make sense to use bytes.\n",
        "2. Text in a language with accented characters\n",
        "\n",
        "   String. Python 3 strings are Unicode, so they can handle accented characters.\n",
        "3. Text with only uppercase and lowercase roman characters\n",
        "\n",
        "   String. Strings should be used for all text in Python 3.\n",
        "4. A series of integers no larger than 255\n",
        "\n",
        "   Bytes. A byte is an integer no larger than 255, so the bytes type is perfect for storing integers like this.\n"
      ],
      "metadata": {
        "id": "Bd7uqFnbizvy"
      }
    },
    {
      "cell_type": "code",
      "source": [],
      "metadata": {
        "id": "ZxKvX04N6FGe"
      },
      "execution_count": null,
      "outputs": []
    }
  ]
}