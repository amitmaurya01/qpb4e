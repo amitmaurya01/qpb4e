{
  "nbformat": 4,
  "nbformat_minor": 0,
  "metadata": {
    "colab": {
      "provenance": [],
      "include_colab_link": true
    },
    "kernelspec": {
      "name": "python3",
      "display_name": "Python 3"
    },
    "language_info": {
      "name": "python"
    }
  },
  "cells": [
    {
      "cell_type": "markdown",
      "metadata": {
        "id": "view-in-github",
        "colab_type": "text"
      },
      "source": [
        "<a href=\"https://colab.research.google.com/github/nceder/qpb4e/blob/main/code/Chapter%2009/Chapter_09.ipynb\" target=\"_parent\"><img src=\"https://colab.research.google.com/assets/colab-badge.svg\" alt=\"Open In Colab\"/></a>"
      ]
    },
    {
      "cell_type": "code",
      "metadata": {
        "id": "Bv1XcKMZQ6Xm",
        "outputId": "77bf25c1-c0ee-42d3-fa0e-19eef29fdf99"
      },
      "source": [
        "def fact(n):\n",
        "    '''Return the factorial of the given number.'''    #A\n",
        "    r = 1\n",
        "    while n > 0:\n",
        "        r = r * n\n",
        "        n = n - 1\n",
        "    return r                #B"
      ],
      "execution_count": null,
      "outputs": [
        {
          "output_type": "stream",
          "name": "stdout",
          "text": []
        }
      ]
    },
    {
      "cell_type": "code",
      "metadata": {
        "id": "g48CzO7tQ6Xo",
        "outputId": "403ccb16-f7ea-4794-e5b4-2c7c3d8bce2f"
      },
      "source": [
        "fact(4)       #A"
      ],
      "execution_count": null,
      "outputs": [
        {
          "output_type": "stream",
          "name": "stdout",
          "text": [
            "24                  #B\n"
          ]
        }
      ]
    },
    {
      "cell_type": "code",
      "metadata": {
        "id": "AWR_M7R6Q6Xp",
        "outputId": "ce63a3ba-4319-4fa4-847c-cff7fe5bb563"
      },
      "source": [
        "x = fact(4)       #C\n",
        "x"
      ],
      "execution_count": null,
      "outputs": [
        {
          "output_type": "stream",
          "name": "stdout",
          "text": [
            "24\n"
          ]
        }
      ]
    },
    {
      "cell_type": "code",
      "metadata": {
        "id": "lHleWL6hQ6Xp",
        "outputId": "271547cd-a6b1-4149-b239-84de92097739"
      },
      "source": [
        "def power(x, y):\n",
        "    r = 1\n",
        "    while y > 0:\n",
        "        r = r * x\n",
        "        y = y - 1\n",
        "    return r\n",
        "\n",
        "power(3, 3)"
      ],
      "execution_count": null,
      "outputs": [
        {
          "output_type": "stream",
          "name": "stdout",
          "text": [
            "27\n"
          ]
        }
      ]
    },
    {
      "cell_type": "code",
      "metadata": {
        "id": "uUZt9wWZQ6Xp",
        "outputId": "25d97006-48dc-4a8b-ab30-ef1c23d747be"
      },
      "source": [
        "power(3)"
      ],
      "execution_count": null,
      "outputs": [
        {
          "output_type": "stream",
          "name": "stdout",
          "text": [
            "Traceback (most recent call last):\n",
            "  File \"<stdin>\", line 1, in <module>\n",
            "TypeError: power() missing 1 required positional argument: 'y'\n"
          ]
        }
      ]
    },
    {
      "cell_type": "code",
      "metadata": {
        "id": "6GTf8fK-Q6Xp",
        "outputId": "26e9f425-82aa-4266-bc1c-3d3afc39962a"
      },
      "source": [
        "def power(x, y=2):\n",
        "    r = 1\n",
        "    while y > 0:\n",
        "        r = r * x\n",
        "        y = y - 1\n",
        "    return r"
      ],
      "execution_count": null,
      "outputs": [
        {
          "output_type": "stream",
          "name": "stdout",
          "text": []
        }
      ]
    },
    {
      "cell_type": "code",
      "metadata": {
        "id": "G8nfvaETQ6Xq",
        "outputId": "95d4a196-b331-4cc9-b2be-2bb4288faa02"
      },
      "source": [
        "power(3, 3)\n"
      ],
      "execution_count": null,
      "outputs": [
        {
          "output_type": "stream",
          "name": "stdout",
          "text": [
            "27\n"
          ]
        }
      ]
    },
    {
      "cell_type": "code",
      "metadata": {
        "id": "zKIAT8KmQ6Xq",
        "outputId": "a96f3030-5f1d-4e32-dd85-00f985327d57"
      },
      "source": [
        "power(3)\n"
      ],
      "execution_count": null,
      "outputs": [
        {
          "output_type": "stream",
          "name": "stdout",
          "text": [
            "9\n"
          ]
        }
      ]
    },
    {
      "cell_type": "code",
      "metadata": {
        "id": "g6j80nsWQ6Xq",
        "outputId": "7854c075-2e5d-40ba-fd45-c2c20ae4376e"
      },
      "source": [
        "def maximum(*numbers):\n",
        "    if len(numbers) == 0:\n",
        "        return None\n",
        "    else:\n",
        "        maxnum = numbers[0]\n",
        "        for n in numbers[1:]:\n",
        "            if n > maxnum:\n",
        "                maxnum = n\n",
        "        return maxnum"
      ],
      "execution_count": null,
      "outputs": [
        {
          "output_type": "stream",
          "name": "stdout",
          "text": []
        }
      ]
    },
    {
      "cell_type": "code",
      "metadata": {
        "id": "Ou4RwAgDQ6Xq",
        "outputId": "af957462-b2d1-4dde-8002-39c166e817c9"
      },
      "source": [
        "maximum(3, 2, 8)"
      ],
      "execution_count": null,
      "outputs": [
        {
          "output_type": "stream",
          "name": "stdout",
          "text": [
            "8\n"
          ]
        }
      ]
    },
    {
      "cell_type": "code",
      "metadata": {
        "id": "3bKmbspYQ6Xq",
        "outputId": "6181774b-8083-409a-cf9a-25ec107dbcea"
      },
      "source": [
        "maximum(1, 5, 9, -2, 2)"
      ],
      "execution_count": null,
      "outputs": [
        {
          "output_type": "stream",
          "name": "stdout",
          "text": [
            "9\n"
          ]
        }
      ]
    },
    {
      "cell_type": "code",
      "metadata": {
        "id": "vGre8Um6Q6Xr",
        "outputId": "5a233e6b-3da1-4c31-c869-d50c79efd764"
      },
      "source": [
        "def example_fun(x, y, **other):\n",
        "    print(\"x: {0}, y: {1}, keys in 'other': {2}\".format(x,\n",
        "          y, list(other.keys())))\n",
        "    other_total = 0\n",
        "    for k in other.keys():\n",
        "        other_total = other_total + other[k]\n",
        "    print(\"The total of values in 'other' is {0}\".format(other_total))"
      ],
      "execution_count": null,
      "outputs": [
        {
          "output_type": "stream",
          "name": "stdout",
          "text": []
        }
      ]
    },
    {
      "cell_type": "code",
      "metadata": {
        "id": "aUpYsFduQ6Xr",
        "outputId": "71cc9602-e24a-403e-df16-a98816080f49"
      },
      "source": [
        "example_fun(2, y=\"1\", foo=3, bar=4)"
      ],
      "execution_count": null,
      "outputs": [
        {
          "output_type": "stream",
          "name": "stdout",
          "text": [
            "x: 2, y: 1, keys in 'other': ['foo', 'bar']\n",
            "The total of values in 'other' is 7\n"
          ]
        }
      ]
    },
    {
      "cell_type": "code",
      "metadata": {
        "id": "sswPrjP2Q6Xr",
        "outputId": "8fd75562-f590-4b8e-a123-64ba5432e9e8"
      },
      "source": [
        "def f(n, list1, list2):\n",
        "   list1.append(3)\n",
        "   list2 = [4, 5, 6]\n",
        "   n = n + 1\n",
        "\n",
        "x = 5\n",
        "y = [1, 2]\n",
        "z = [4, 5]\n",
        "f(x, y, z)\n",
        "x, y, z"
      ],
      "execution_count": null,
      "outputs": [
        {
          "output_type": "stream",
          "name": "stdout",
          "text": [
            "(5, [1, 2, 3], [4, 5])\n"
          ]
        }
      ]
    },
    {
      "cell_type": "code",
      "metadata": {
        "id": "4VnzwSWtQ6Xr",
        "outputId": "12d8f979-4fe4-47c6-bf04-dc08d3fc4e20"
      },
      "source": [
        "def fact(n):\n",
        "    '''Return the factorial of the given number.'''\n",
        "    r = 1\n",
        "    while n > 0:\n",
        "        r = r * n\n",
        "        n = n - 1\n",
        "    return r"
      ],
      "execution_count": null,
      "outputs": [
        {
          "output_type": "stream",
          "name": "stdout",
          "text": []
        }
      ]
    },
    {
      "cell_type": "code",
      "metadata": {
        "id": "Uy0ECbECQ6Xr",
        "outputId": "92451027-8e68-4f46-a177-ed1e36e242bb"
      },
      "source": [
        "def fun():\n",
        "    global a\n",
        "    a = 1\n",
        "    b = 2"
      ],
      "execution_count": null,
      "outputs": [
        {
          "output_type": "stream",
          "name": "stdout",
          "text": []
        }
      ]
    },
    {
      "cell_type": "code",
      "metadata": {
        "id": "w7rc_dfQQ6Xr",
        "outputId": "c2acb994-f4c4-43cb-d6d4-d6e6d2114e7e"
      },
      "source": [
        "a = \"one\"\n",
        "b = \"two\""
      ],
      "execution_count": null,
      "outputs": [
        {
          "output_type": "stream",
          "name": "stdout",
          "text": [
            "\n"
          ]
        }
      ]
    },
    {
      "cell_type": "code",
      "metadata": {
        "id": "qYxh_0GRQ6Xs",
        "outputId": "bb6fd5d9-53c1-4357-9a12-186a8450eda2"
      },
      "source": [
        "fun()\n",
        "a"
      ],
      "execution_count": null,
      "outputs": [
        {
          "output_type": "stream",
          "name": "stdout",
          "text": [
            "1\n"
          ]
        }
      ]
    },
    {
      "cell_type": "code",
      "metadata": {
        "id": "QZRD9G6wQ6Xs",
        "outputId": "0a291a07-babc-47d1-ae57-7fbffbdcf1b3"
      },
      "source": [
        "b"
      ],
      "execution_count": null,
      "outputs": [
        {
          "output_type": "stream",
          "name": "stdout",
          "text": [
            "'two'\n"
          ]
        }
      ]
    },
    {
      "cell_type": "code",
      "metadata": {
        "id": "dvCPJNmmQ6Xs",
        "outputId": "c84a62f8-fa5b-4df4-bfd7-0204c535a086"
      },
      "source": [
        "g_var = 0               #A\n",
        "nl_var = 0               #A\n",
        "print(\"top level-> g_var: {0} nl_var: {1}\".format(g_var, nl_var))\n",
        "def test():\n",
        "    nl_var = 2                            #B\n",
        "    print(\"in test-> g_var: {0} nl_var: {1}\".format(g_var, nl_var))\n",
        "    def inner_test():\n",
        "\n",
        "        global g_var         #A\n",
        "        nonlocal nl_var                   #B\n",
        "        g_var = 1\n",
        "        nl_var = 4\n",
        "        print(\"in inner_test-> g_var: {0} nl_var: {1}\".format(g_var,\n",
        "                                                              nl_var))\n",
        "\n",
        "    inner_test()\n",
        "    print(\"in test-> g_var: {0} nl_var: {1}\".format(g_var, nl_var))\n",
        "\n",
        "test()\n",
        "print(\"top level-> g_var: {0} nl_var: {1}\".format(g_var, nl_var))"
      ],
      "execution_count": null,
      "outputs": [
        {
          "output_type": "stream",
          "name": "stdout",
          "text": []
        }
      ]
    },
    {
      "cell_type": "code",
      "metadata": {
        "id": "6XlW6Z4BQ6Xs",
        "outputId": "46dc98cd-beca-4e73-fc3e-f1b7fef2bb70"
      },
      "source": [
        "def f_to_kelvin(degrees_f):                #A\n",
        "    return 273.15 + (degrees_f - 32) * 5 / 9\n",
        "\n",
        "def c_to_kelvin(degrees_c):                 #B\n",
        "    return 273.15 + degrees_c\n",
        "\n",
        "abs_temperature = f_to_kelvin              #C\n",
        "abs_temperature(32)"
      ],
      "execution_count": null,
      "outputs": [
        {
          "output_type": "stream",
          "name": "stdout",
          "text": [
            "273.15\n"
          ]
        }
      ]
    },
    {
      "cell_type": "code",
      "metadata": {
        "id": "2wGolCA1Q6Xs",
        "outputId": "43a8a487-0d82-44fc-bc7a-11aef3a9f27a"
      },
      "source": [
        "abs_temperature = c_to_kelvin             #C\n",
        "abs_temperature(0)"
      ],
      "execution_count": null,
      "outputs": [
        {
          "output_type": "stream",
          "name": "stdout",
          "text": [
            "273.15\n"
          ]
        }
      ]
    },
    {
      "cell_type": "code",
      "metadata": {
        "id": "wx7aY51qQ6Xt",
        "outputId": "cc04e107-4e01-4129-9558-1b2286971557"
      },
      "source": [
        "t = {'FtoK': f_to_kelvin, 'CtoK': c_to_kelvin}   #A\n",
        "t['FtoK'](32)                      #A"
      ],
      "execution_count": null,
      "outputs": [
        {
          "output_type": "stream",
          "name": "stdout",
          "text": [
            "273.15\n"
          ]
        }
      ]
    },
    {
      "cell_type": "code",
      "metadata": {
        "id": "YOYPAkX1Q6Xt",
        "outputId": "34570943-c3ea-4ada-d80d-82e260ea0053"
      },
      "source": [
        "t['CtoK'](0)  #B"
      ],
      "execution_count": null,
      "outputs": [
        {
          "output_type": "stream",
          "name": "stdout",
          "text": [
            "273.15\n"
          ]
        }
      ]
    },
    {
      "cell_type": "code",
      "metadata": {
        "id": "KG97KGJ6Q6Xt",
        "outputId": "698d1c54-9b9d-43e7-d1d2-132cc7be646a"
      },
      "source": [
        "t2 = {'FtoK': lambda deg_f: 273.15 + (deg_f - 32) * 5 / 9,\n",
        "      'CtoK': lambda deg_c: 273.15 + deg_c}                #A\n",
        "t2['FtoK'](32)"
      ],
      "execution_count": null,
      "outputs": [
        {
          "output_type": "stream",
          "name": "stdout",
          "text": [
            "273.15\n"
          ]
        }
      ]
    },
    {
      "cell_type": "code",
      "metadata": {
        "id": "aZqVAlFoQ6Xt",
        "outputId": "c82965b4-c43c-4701-b3d3-ffa619621653"
      },
      "source": [
        "def four():\n",
        "    x = 0                    #A\n",
        "    while x < 4:\n",
        "        print(\"in generator, x =\", x)\n",
        "        yield x                            #B\n",
        "        x += 1     #C\n",
        "\n",
        "for i in four():\n",
        "    print(i)"
      ],
      "execution_count": null,
      "outputs": [
        {
          "output_type": "stream",
          "name": "stdout",
          "text": [
            "in generator, x = 0\n",
            "0\n",
            "in generator, x = 1\n",
            "1\n",
            "in generator, x = 2\n",
            "2\n",
            "in generator, x = 3\n",
            "3\n"
          ]
        }
      ]
    },
    {
      "cell_type": "code",
      "metadata": {
        "id": "TMDvCYaRQ6Xt",
        "outputId": "ef97f2e6-20c9-4193-ffb0-22bd21ce4605"
      },
      "source": [
        "def subgen(x):\n",
        "    for i in range(x):\n",
        "        yield i\n",
        "\n",
        "def gen(y):\n",
        "    yield from subgen(y)\n",
        "\n",
        "for q in gen(6):\n",
        "    print(q)"
      ],
      "execution_count": null,
      "outputs": [
        {
          "output_type": "stream",
          "name": "stdout",
          "text": [
            "0\n",
            "1\n",
            "2\n",
            "3\n",
            "4\n",
            "5\n"
          ]
        }
      ]
    },
    {
      "cell_type": "code",
      "metadata": {
        "id": "iyYqIPxVQ6Xt",
        "outputId": "f134177f-6f41-427f-a25f-3224501bd79b"
      },
      "source": [
        "2 in four()"
      ],
      "execution_count": null,
      "outputs": [
        {
          "output_type": "stream",
          "name": "stdout",
          "text": [
            "in generator, x = 0\n",
            "in generator, x = 1\n",
            "in generator, x = 2\n",
            "True\n"
          ]
        }
      ]
    },
    {
      "cell_type": "code",
      "metadata": {
        "id": "_qTP0O64Q6Xu",
        "outputId": "4d1963d6-639b-49e7-ca52-8461d3fe1b64"
      },
      "source": [
        "5 in four()"
      ],
      "execution_count": null,
      "outputs": [
        {
          "output_type": "stream",
          "name": "stdout",
          "text": [
            "in generator, x = 0\n",
            "in generator, x = 1\n",
            "in generator, x = 2\n",
            "in generator, x = 3\n",
            "False\n"
          ]
        }
      ]
    },
    {
      "cell_type": "code",
      "metadata": {
        "id": "3QBGxJ0_Q6Xu",
        "outputId": "f74fbd00-690c-4620-e167-9361fe6aeebf"
      },
      "source": [
        "def decorate(func):\n",
        "    print(\"in decorate function, decorating\", func.__name__)\n",
        "    def wrapper_func(*args):\n",
        "        print(\"Executing\", func.__name__)\n",
        "        return func(*args)\n",
        "    return wrapper_func\n",
        "\n",
        "def myfunction(parameter):\n",
        "    print(parameter)\n",
        "\n",
        "myfunction = decorate(myfunction)"
      ],
      "execution_count": null,
      "outputs": [
        {
          "output_type": "stream",
          "name": "stdout",
          "text": [
            "in decorate function, decorating myfunction\n"
          ]
        }
      ]
    },
    {
      "cell_type": "code",
      "metadata": {
        "id": "MG9gROVWQ6Xu",
        "outputId": "65a7aa7e-467d-4688-b322-cca78f629372"
      },
      "source": [
        "myfunction(\"hello\")"
      ],
      "execution_count": null,
      "outputs": [
        {
          "output_type": "stream",
          "name": "stdout",
          "text": [
            "Executing myfunction\n",
            "hello\n"
          ]
        }
      ]
    },
    {
      "cell_type": "code",
      "metadata": {
        "id": "DO9t8oP1Q6Xu",
        "outputId": "fededb8a-3c9c-49a6-e279-f0f6f34bcf54"
      },
      "source": [
        "def decorate(func):\n",
        "    print(\"in decorate function, decorating\", func.__name__)  #A\n",
        "    def wrapper_func(*args):\n",
        "        print(\"Executing\", func.__name__)\n",
        "        return func(*args)\n",
        "    return wrapper_func          #B\n",
        "\n",
        "@decorate                                 #C\n",
        "def myfunction(parameter):\n",
        "    print(parameter)"
      ],
      "execution_count": null,
      "outputs": [
        {
          "output_type": "stream",
          "name": "stdout",
          "text": [
            "in decorate function, decorating myfunction    #D\n"
          ]
        }
      ]
    },
    {
      "cell_type": "code",
      "metadata": {
        "id": "H5yprhW8Q6Xu",
        "outputId": "36c2344b-79db-4336-aea1-32b884e59994"
      },
      "source": [
        "myfunction(\"hello\")"
      ],
      "execution_count": null,
      "outputs": [
        {
          "output_type": "stream",
          "name": "stdout",
          "text": [
            "Executing myfunction\n",
            "hello\n"
          ]
        }
      ]
    }
  ]
}