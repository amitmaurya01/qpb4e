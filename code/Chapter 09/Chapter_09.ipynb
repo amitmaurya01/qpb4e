{
  "nbformat": 4,
  "nbformat_minor": 0,
  "metadata": {
    "colab": {
      "provenance": [],
      "authorship_tag": "ABX9TyNhl8T6EintZQ1dxy9OkF5K",
      "include_colab_link": true
    },
    "kernelspec": {
      "name": "python3",
      "display_name": "Python 3"
    },
    "language_info": {
      "name": "python"
    }
  },
  "cells": [
    {
      "cell_type": "markdown",
      "metadata": {
        "id": "view-in-github",
        "colab_type": "text"
      },
      "source": [
        "<a href=\"https://colab.research.google.com/github/nceder/qpb4e/blob/main/code/Chapter%2009/Chapter_09.ipynb\" target=\"_parent\"><img src=\"https://colab.research.google.com/assets/colab-badge.svg\" alt=\"Open In Colab\"/></a>"
      ]
    },
    {
      "cell_type": "markdown",
      "source": [
        "# 9 Functions"
      ],
      "metadata": {
        "id": "aKXXg4OUANwp"
      }
    },
    {
      "cell_type": "markdown",
      "source": [
        "# Basic function definitions"
      ],
      "metadata": {
        "id": "EMwEz0n4AQdw"
      }
    },
    {
      "cell_type": "code",
      "execution_count": 1,
      "metadata": {
        "id": "6rbPmW6tAHow"
      },
      "outputs": [],
      "source": [
        "def fact(n):\n",
        "    '''Return the factorial of the given number.'''\n",
        "    r = 1\n",
        "    while n > 0:\n",
        "        r = r * n\n",
        "        n = n - 1\n",
        "    return r"
      ]
    },
    {
      "cell_type": "code",
      "source": [
        "fact(4)"
      ],
      "metadata": {
        "colab": {
          "base_uri": "https://localhost:8080/"
        },
        "id": "gP-1o09jAL28",
        "outputId": "de8959ad-9b46-4680-f8ed-0dbca3702ce6"
      },
      "execution_count": 2,
      "outputs": [
        {
          "output_type": "execute_result",
          "data": {
            "text/plain": [
              "24"
            ]
          },
          "metadata": {},
          "execution_count": 2
        }
      ]
    },
    {
      "cell_type": "code",
      "source": [],
      "metadata": {
        "id": "axPZpaBkA1pI"
      },
      "execution_count": null,
      "outputs": []
    },
    {
      "cell_type": "code",
      "source": [
        "x = fact(4)\n",
        "x"
      ],
      "metadata": {
        "colab": {
          "base_uri": "https://localhost:8080/"
        },
        "id": "dxgbSk-3AcO6",
        "outputId": "2dc12294-5d8e-43f7-b6ab-080edfb7c108"
      },
      "execution_count": 3,
      "outputs": [
        {
          "output_type": "execute_result",
          "data": {
            "text/plain": [
              "24"
            ]
          },
          "metadata": {},
          "execution_count": 3
        }
      ]
    },
    {
      "cell_type": "markdown",
      "source": [
        "# 9.2 Function parameter options\n",
        "## 9.2.1 positional parameters"
      ],
      "metadata": {
        "id": "GqMzZMzUAjme"
      }
    },
    {
      "cell_type": "code",
      "source": [
        "def power(x, y):\n",
        "    r = 1\n",
        "    while y > 0:\n",
        "        r = r * x\n",
        "        y = y - 1\n",
        "    return r\n",
        "\n",
        "power(3, 3)"
      ],
      "metadata": {
        "colab": {
          "base_uri": "https://localhost:8080/"
        },
        "id": "Y_j5ypxWAe06",
        "outputId": "57d4969b-70b0-441d-a7ba-db23a3c523be"
      },
      "execution_count": 4,
      "outputs": [
        {
          "output_type": "execute_result",
          "data": {
            "text/plain": [
              "27"
            ]
          },
          "metadata": {},
          "execution_count": 4
        }
      ]
    },
    {
      "cell_type": "code",
      "source": [
        "power(3)"
      ],
      "metadata": {
        "colab": {
          "base_uri": "https://localhost:8080/",
          "height": 141
        },
        "id": "d3VjS_-nAy0k",
        "outputId": "673c240e-b58b-4795-e315-f08c61a38bdb"
      },
      "execution_count": 5,
      "outputs": [
        {
          "output_type": "error",
          "ename": "TypeError",
          "evalue": "power() missing 1 required positional argument: 'y'",
          "traceback": [
            "\u001b[0;31m---------------------------------------------------------------------------\u001b[0m",
            "\u001b[0;31mTypeError\u001b[0m                                 Traceback (most recent call last)",
            "\u001b[0;32m<ipython-input-5-1bbb88d7a603>\u001b[0m in \u001b[0;36m<cell line: 1>\u001b[0;34m()\u001b[0m\n\u001b[0;32m----> 1\u001b[0;31m \u001b[0mpower\u001b[0m\u001b[0;34m(\u001b[0m\u001b[0;36m3\u001b[0m\u001b[0;34m)\u001b[0m\u001b[0;34m\u001b[0m\u001b[0;34m\u001b[0m\u001b[0m\n\u001b[0m",
            "\u001b[0;31mTypeError\u001b[0m: power() missing 1 required positional argument: 'y'"
          ]
        }
      ]
    },
    {
      "cell_type": "code",
      "source": [
        "def power(x, y=2):\n",
        "    r = 1\n",
        "    while y > 0:\n",
        "        r = r * x\n",
        "        y = y - 1\n",
        "    return r\n",
        "\n",
        "power(3, 3)"
      ],
      "metadata": {
        "colab": {
          "base_uri": "https://localhost:8080/"
        },
        "id": "zQUwJ-jOA5ss",
        "outputId": "f628d63e-d34c-4295-b195-13a9b6b98975"
      },
      "execution_count": 6,
      "outputs": [
        {
          "output_type": "execute_result",
          "data": {
            "text/plain": [
              "27"
            ]
          },
          "metadata": {},
          "execution_count": 6
        }
      ]
    },
    {
      "cell_type": "code",
      "source": [
        "power(3)"
      ],
      "metadata": {
        "colab": {
          "base_uri": "https://localhost:8080/"
        },
        "id": "LeRBxx4aBJju",
        "outputId": "c7e73b1e-578e-4445-d26a-ad797ea8f56f"
      },
      "execution_count": 7,
      "outputs": [
        {
          "output_type": "execute_result",
          "data": {
            "text/plain": [
              "9"
            ]
          },
          "metadata": {},
          "execution_count": 7
        }
      ]
    },
    {
      "cell_type": "markdown",
      "source": [
        "## 9.2.2 Passing arguments by parameter name\n"
      ],
      "metadata": {
        "id": "ZQWmaQWqBnWp"
      }
    },
    {
      "cell_type": "code",
      "source": [
        "power(y=2, x=3)\n"
      ],
      "metadata": {
        "colab": {
          "base_uri": "https://localhost:8080/"
        },
        "id": "FgrOUnBcBMWu",
        "outputId": "8e3faa59-e368-4efc-feb8-0b4e3ce94862"
      },
      "execution_count": 8,
      "outputs": [
        {
          "output_type": "execute_result",
          "data": {
            "text/plain": [
              "9"
            ]
          },
          "metadata": {},
          "execution_count": 8
        }
      ]
    },
    {
      "cell_type": "markdown",
      "source": [
        "## 9.2.3 Variable numbers of arguments"
      ],
      "metadata": {
        "id": "APvi7vVnB0F6"
      }
    },
    {
      "cell_type": "code",
      "source": [
        "def maximum(*numbers):    #A\n",
        "    if len(numbers) == 0:\n",
        "        return None\n",
        "    else:\n",
        "        maxnum = numbers[0]   #B\n",
        "        for n in numbers[1:]:\n",
        "            if n > maxnum:\n",
        "                maxnum = n\n",
        "        return maxnum\n",
        "\n",
        "maximum(3, 2, 8)"
      ],
      "metadata": {
        "colab": {
          "base_uri": "https://localhost:8080/"
        },
        "id": "0DHZqwYkBlAi",
        "outputId": "62cdf1ac-3c40-48e2-c74c-ca671243e580"
      },
      "execution_count": 9,
      "outputs": [
        {
          "output_type": "execute_result",
          "data": {
            "text/plain": [
              "8"
            ]
          },
          "metadata": {},
          "execution_count": 9
        }
      ]
    },
    {
      "cell_type": "code",
      "source": [
        "maximum(1, 5, 9, -2, 2)"
      ],
      "metadata": {
        "colab": {
          "base_uri": "https://localhost:8080/"
        },
        "id": "V2lis74xClKS",
        "outputId": "d06a6e72-9645-4888-c6f2-ec39312b34f8"
      },
      "execution_count": 10,
      "outputs": [
        {
          "output_type": "execute_result",
          "data": {
            "text/plain": [
              "9"
            ]
          },
          "metadata": {},
          "execution_count": 10
        }
      ]
    },
    {
      "cell_type": "code",
      "source": [
        "def example_fun(x, y, **other):  #A\n",
        "    print(f\"x: {x}, y: {y}, keys in 'other': {list(other.keys())}\")\n",
        "    other_total = 0\n",
        "    for k in other.keys():\n",
        "        other_total = other_total + other[k]\n",
        "    print(f\"The total of values in 'other' is {other_total}\")\n",
        "\n",
        "example_fun(2, y=\"1\", foo=3, bar=4)"
      ],
      "metadata": {
        "colab": {
          "base_uri": "https://localhost:8080/"
        },
        "id": "8akUOxRYCnpc",
        "outputId": "df77e7d1-2144-4f7a-9f15-4888b15e3d82"
      },
      "execution_count": 16,
      "outputs": [
        {
          "output_type": "stream",
          "name": "stdout",
          "text": [
            "x: 2, y: 1, keys in 'other': ['foo', 'bar']\n",
            "The total of values in 'other' is 7\n"
          ]
        }
      ]
    },
    {
      "cell_type": "markdown",
      "source": [
        "### Quick Check: Functions and parameters\n",
        "How would you write a function that could take any number of unnamed arguments and print their values out in reverse order?\n",
        "\n",
        "What do you need to do to create a procedure or void function—that is, a function with no return value?\n",
        "\n",
        "What happens if you capture the return value of a function with a variable?\n"
      ],
      "metadata": {
        "id": "gSGddssPEnYG"
      }
    },
    {
      "cell_type": "markdown",
      "source": [
        "#9.3 Mutable objects as arguments"
      ],
      "metadata": {
        "id": "C0sRoZcGEwOg"
      }
    },
    {
      "cell_type": "code",
      "source": [
        "def f(n, list1, list2):\n",
        "   list1.append(3)\n",
        "   list2 = [4, 5, 6]\n",
        "   n = n + 1\n",
        "\n",
        "x = 5\n",
        "y = [1, 2]\n",
        "z = [4, 5]\n",
        "f(x, y, z)\n",
        "x, y, z\n"
      ],
      "metadata": {
        "colab": {
          "base_uri": "https://localhost:8080/"
        },
        "id": "NSqVDUSlDBTo",
        "outputId": "24008cf4-4d36-4529-cf75-c9a18fc6904d"
      },
      "execution_count": 17,
      "outputs": [
        {
          "output_type": "execute_result",
          "data": {
            "text/plain": [
              "(5, [1, 2, 3], [4, 5])"
            ]
          },
          "metadata": {},
          "execution_count": 17
        }
      ]
    },
    {
      "cell_type": "code",
      "source": [
        "def odd_numbers(test_list, odds):\n",
        "  for number in test_list:\n",
        "    if number % 2:\n",
        "      odds.append(number)\n",
        "  return odds\n",
        "\n",
        "odds = []\n",
        "odds = odd_numbers([1, 5, 7, 9, 10], odds)\n",
        "odds"
      ],
      "metadata": {
        "colab": {
          "base_uri": "https://localhost:8080/"
        },
        "id": "AXfn2ekqJGUI",
        "outputId": "8fcaa7d4-ddf1-48db-d866-73a0e64f7ce1"
      },
      "execution_count": 21,
      "outputs": [
        {
          "output_type": "execute_result",
          "data": {
            "text/plain": [
              "[1, 5, 7, 9]"
            ]
          },
          "metadata": {},
          "execution_count": 21
        }
      ]
    },
    {
      "cell_type": "code",
      "source": [
        "def odd_numbers(test_list, odds=[]):\n",
        "  for number in test_list:\n",
        "    if number % 2:\n",
        "      odds.append(number)\n",
        "  return odds\n",
        "\n",
        "\n",
        "odds = odd_numbers([1, 5, 7, 9, 10])\n",
        "odds"
      ],
      "metadata": {
        "colab": {
          "base_uri": "https://localhost:8080/"
        },
        "id": "f3vmjg5SJ3ZW",
        "outputId": "6b8dbc0d-3405-44f9-b6c8-44d884365394"
      },
      "execution_count": 24,
      "outputs": [
        {
          "output_type": "execute_result",
          "data": {
            "text/plain": [
              "[1, 5, 7, 9]"
            ]
          },
          "metadata": {},
          "execution_count": 24
        }
      ]
    },
    {
      "cell_type": "code",
      "source": [
        "odds = odd_numbers([1, 5, 7, 9, 10])\n",
        "odds"
      ],
      "metadata": {
        "colab": {
          "base_uri": "https://localhost:8080/"
        },
        "id": "_SB0H3xZKRv9",
        "outputId": "8ee12ba1-40da-4c99-bafb-99e35fa1db7d"
      },
      "execution_count": 25,
      "outputs": [
        {
          "output_type": "execute_result",
          "data": {
            "text/plain": [
              "[1, 5, 7, 9, 1, 5, 7, 9]"
            ]
          },
          "metadata": {},
          "execution_count": 25
        }
      ]
    },
    {
      "cell_type": "markdown",
      "source": [
        "### Quick Check: Mutable function parameters\n",
        "What would be the result of changing a list or dictionary that was passed into a function as a parameter value? Which operations would be likely to create changes that would be visible outside the function? What steps might you take to minimize that risk?\n"
      ],
      "metadata": {
        "id": "4UHGiSN4F3dD"
      }
    },
    {
      "cell_type": "markdown",
      "source": [
        "# 9.4 Local, nonlocal, and global variables"
      ],
      "metadata": {
        "id": "cdVVQ0JfMn9b"
      }
    },
    {
      "cell_type": "code",
      "source": [
        "def fact(n):\n",
        "    \"\"\"Return the factorial of the given number.\"\"\"\n",
        "    r = 1\n",
        "    while n > 0:\n",
        "        r = r * n\n",
        "        n = n - 1\n",
        "    return r"
      ],
      "metadata": {
        "id": "S-67BlmFKPiw"
      },
      "execution_count": 26,
      "outputs": []
    },
    {
      "cell_type": "code",
      "source": [],
      "metadata": {
        "id": "lI1kbPaJE30y"
      },
      "execution_count": null,
      "outputs": []
    }
  ]
}