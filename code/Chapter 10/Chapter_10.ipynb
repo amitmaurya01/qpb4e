{
  "nbformat": 4,
  "nbformat_minor": 0,
  "metadata": {
    "colab": {
      "provenance": [],
      "include_colab_link": true
    },
    "kernelspec": {
      "name": "python3",
      "display_name": "Python 3"
    },
    "language_info": {
      "name": "python"
    }
  },
  "cells": [
    {
      "cell_type": "markdown",
      "metadata": {
        "id": "view-in-github",
        "colab_type": "text"
      },
      "source": [
        "<a href=\"https://colab.research.google.com/github/nceder/qpb4e/blob/main/code/Chapter%2010/Chapter_10.ipynb\" target=\"_parent\"><img src=\"https://colab.research.google.com/assets/colab-badge.svg\" alt=\"Open In Colab\"/></a>"
      ]
    },
    {
      "cell_type": "markdown",
      "source": [
        "# 10 Modules and scoping rules\n",
        "\n",
        "# 10.2 A first module"
      ],
      "metadata": {
        "id": "C-jdZSY2Rc-y"
      }
    },
    {
      "cell_type": "code",
      "source": [
        "open(\"mymath.py\", \"w\").write(\n",
        "'''\"\"\"mymath - our example math module\"\"\"\n",
        "pi = 3.14159\n",
        "def area(r):\n",
        "    \"\"\"area(r): return the area of a circle with radius r.\"\"\"\n",
        "    return(pi * r * r)\n",
        "''')"
      ],
      "metadata": {
        "colab": {
          "base_uri": "https://localhost:8080/"
        },
        "id": "eC41JX_SQJmG",
        "outputId": "89eaf6aa-834c-4b18-89e5-197aeb0b0fb6"
      },
      "execution_count": null,
      "outputs": [
        {
          "output_type": "execute_result",
          "data": {
            "text/plain": [
              "150"
            ]
          },
          "metadata": {},
          "execution_count": 1
        }
      ]
    },
    {
      "cell_type": "code",
      "metadata": {
        "id": "jRgUz_qjQIHb",
        "colab": {
          "base_uri": "https://localhost:8080/",
          "height": 141
        },
        "outputId": "82a1d367-1647-4b9a-dd00-705c9ce0f721"
      },
      "source": [
        "pi"
      ],
      "execution_count": null,
      "outputs": [
        {
          "output_type": "error",
          "ename": "NameError",
          "evalue": "name 'pi' is not defined",
          "traceback": [
            "\u001b[0;31m---------------------------------------------------------------------------\u001b[0m",
            "\u001b[0;31mNameError\u001b[0m                                 Traceback (most recent call last)",
            "\u001b[0;32m<ipython-input-2-f84ab820532c>\u001b[0m in \u001b[0;36m<cell line: 1>\u001b[0;34m()\u001b[0m\n\u001b[0;32m----> 1\u001b[0;31m \u001b[0mpi\u001b[0m\u001b[0;34m\u001b[0m\u001b[0;34m\u001b[0m\u001b[0m\n\u001b[0m",
            "\u001b[0;31mNameError\u001b[0m: name 'pi' is not defined"
          ]
        }
      ]
    },
    {
      "cell_type": "code",
      "metadata": {
        "id": "uvMejn7eQIHd",
        "colab": {
          "base_uri": "https://localhost:8080/",
          "height": 141
        },
        "outputId": "9e21d97c-bd07-4078-a6ec-2a7b3ca54030"
      },
      "source": [
        "area(2)"
      ],
      "execution_count": null,
      "outputs": [
        {
          "output_type": "error",
          "ename": "NameError",
          "evalue": "name 'area' is not defined",
          "traceback": [
            "\u001b[0;31m---------------------------------------------------------------------------\u001b[0m",
            "\u001b[0;31mNameError\u001b[0m                                 Traceback (most recent call last)",
            "\u001b[0;32m<ipython-input-3-8be925061d22>\u001b[0m in \u001b[0;36m<cell line: 1>\u001b[0;34m()\u001b[0m\n\u001b[0;32m----> 1\u001b[0;31m \u001b[0marea\u001b[0m\u001b[0;34m(\u001b[0m\u001b[0;36m2\u001b[0m\u001b[0;34m)\u001b[0m\u001b[0;34m\u001b[0m\u001b[0;34m\u001b[0m\u001b[0m\n\u001b[0m",
            "\u001b[0;31mNameError\u001b[0m: name 'area' is not defined"
          ]
        }
      ]
    },
    {
      "cell_type": "code",
      "metadata": {
        "id": "VIS-iqkKQIHe",
        "colab": {
          "base_uri": "https://localhost:8080/",
          "height": 159
        },
        "outputId": "5443db26-e1db-4ee4-aa92-db4003b07982"
      },
      "source": [
        "import mymath\n",
        "pi"
      ],
      "execution_count": null,
      "outputs": [
        {
          "output_type": "error",
          "ename": "NameError",
          "evalue": "name 'pi' is not defined",
          "traceback": [
            "\u001b[0;31m---------------------------------------------------------------------------\u001b[0m",
            "\u001b[0;31mNameError\u001b[0m                                 Traceback (most recent call last)",
            "\u001b[0;32m<ipython-input-4-85b32257cf04>\u001b[0m in \u001b[0;36m<cell line: 2>\u001b[0;34m()\u001b[0m\n\u001b[1;32m      1\u001b[0m \u001b[0;32mimport\u001b[0m \u001b[0mmymath\u001b[0m\u001b[0;34m\u001b[0m\u001b[0;34m\u001b[0m\u001b[0m\n\u001b[0;32m----> 2\u001b[0;31m \u001b[0mpi\u001b[0m\u001b[0;34m\u001b[0m\u001b[0;34m\u001b[0m\u001b[0m\n\u001b[0m",
            "\u001b[0;31mNameError\u001b[0m: name 'pi' is not defined"
          ]
        }
      ]
    },
    {
      "cell_type": "code",
      "metadata": {
        "id": "12y-aTDMQIHe",
        "colab": {
          "base_uri": "https://localhost:8080/"
        },
        "outputId": "ad2c4318-172d-4649-fdda-fb101d3a9826"
      },
      "source": [
        "mymath.pi"
      ],
      "execution_count": null,
      "outputs": [
        {
          "output_type": "execute_result",
          "data": {
            "text/plain": [
              "3.14159"
            ]
          },
          "metadata": {},
          "execution_count": 5
        }
      ]
    },
    {
      "cell_type": "code",
      "metadata": {
        "id": "ylXhBIlSQIHf",
        "colab": {
          "base_uri": "https://localhost:8080/"
        },
        "outputId": "9c8a2062-23bf-493f-fe7e-07c26325321d"
      },
      "source": [
        "mymath.area(2)"
      ],
      "execution_count": null,
      "outputs": [
        {
          "output_type": "execute_result",
          "data": {
            "text/plain": [
              "12.56636"
            ]
          },
          "metadata": {},
          "execution_count": 6
        }
      ]
    },
    {
      "cell_type": "code",
      "metadata": {
        "id": "YMOolAmLQIHf",
        "colab": {
          "base_uri": "https://localhost:8080/",
          "height": 35
        },
        "outputId": "d4b16868-6284-48a1-eab2-76f5b7e9c557"
      },
      "source": [
        "mymath.__doc__"
      ],
      "execution_count": null,
      "outputs": [
        {
          "output_type": "execute_result",
          "data": {
            "text/plain": [
              "'mymath - our example math module'"
            ],
            "application/vnd.google.colaboratory.intrinsic+json": {
              "type": "string"
            }
          },
          "metadata": {},
          "execution_count": 7
        }
      ]
    },
    {
      "cell_type": "code",
      "metadata": {
        "id": "fBUR1Z_bQIHf",
        "colab": {
          "base_uri": "https://localhost:8080/",
          "height": 35
        },
        "outputId": "bfc126cb-da61-41fd-d024-5c4da6ee58a8"
      },
      "source": [
        "mymath.area.__doc__"
      ],
      "execution_count": null,
      "outputs": [
        {
          "output_type": "execute_result",
          "data": {
            "text/plain": [
              "'area(r): return the area of a circle with radius r.'"
            ],
            "application/vnd.google.colaboratory.intrinsic+json": {
              "type": "string"
            }
          },
          "metadata": {},
          "execution_count": 8
        }
      ]
    },
    {
      "cell_type": "code",
      "metadata": {
        "id": "D2TT6OdjQIHg",
        "colab": {
          "base_uri": "https://localhost:8080/"
        },
        "outputId": "4367b89e-7b3c-47dc-c9ff-c96345e503c8"
      },
      "source": [
        "from mymath import pi\n",
        "pi"
      ],
      "execution_count": null,
      "outputs": [
        {
          "output_type": "execute_result",
          "data": {
            "text/plain": [
              "3.14159"
            ]
          },
          "metadata": {},
          "execution_count": 9
        }
      ]
    },
    {
      "cell_type": "code",
      "metadata": {
        "id": "DtlNqMAFQIHg",
        "colab": {
          "base_uri": "https://localhost:8080/",
          "height": 141
        },
        "outputId": "9ebf9c14-48e3-499b-93a0-b99c710647fb"
      },
      "source": [
        "area(2)"
      ],
      "execution_count": null,
      "outputs": [
        {
          "output_type": "error",
          "ename": "NameError",
          "evalue": "name 'area' is not defined",
          "traceback": [
            "\u001b[0;31m---------------------------------------------------------------------------\u001b[0m",
            "\u001b[0;31mNameError\u001b[0m                                 Traceback (most recent call last)",
            "\u001b[0;32m<ipython-input-10-8be925061d22>\u001b[0m in \u001b[0;36m<cell line: 1>\u001b[0;34m()\u001b[0m\n\u001b[0;32m----> 1\u001b[0;31m \u001b[0marea\u001b[0m\u001b[0;34m(\u001b[0m\u001b[0;36m2\u001b[0m\u001b[0;34m)\u001b[0m\u001b[0;34m\u001b[0m\u001b[0;34m\u001b[0m\u001b[0m\n\u001b[0m",
            "\u001b[0;31mNameError\u001b[0m: name 'area' is not defined"
          ]
        }
      ]
    },
    {
      "cell_type": "code",
      "metadata": {
        "id": "MTMSTiCrQIHh",
        "colab": {
          "base_uri": "https://localhost:8080/"
        },
        "outputId": "ffea53c3-ff4c-464c-8fd9-4dfaa182e6b5"
      },
      "source": [
        "import mymath, importlib\n",
        "importlib.reload(mymath)"
      ],
      "execution_count": null,
      "outputs": [
        {
          "output_type": "execute_result",
          "data": {
            "text/plain": [
              "<module 'mymath' from '/content/mymath.py'>"
            ]
          },
          "metadata": {},
          "execution_count": 10
        }
      ]
    },
    {
      "cell_type": "markdown",
      "source": [
        "# 10.3 The import statement"
      ],
      "metadata": {
        "id": "cxapg7m5kVpi"
      }
    },
    {
      "cell_type": "code",
      "source": [
        "from mymath import *"
      ],
      "metadata": {
        "id": "800bZp6AkcVV"
      },
      "execution_count": null,
      "outputs": []
    },
    {
      "cell_type": "markdown",
      "source": [
        "# 10.4 The module search path"
      ],
      "metadata": {
        "id": "ejwLhgI0SBhi"
      }
    },
    {
      "cell_type": "code",
      "metadata": {
        "id": "C8p-QRLuQIHh",
        "colab": {
          "base_uri": "https://localhost:8080/"
        },
        "outputId": "aacbaccb-1733-482a-ebd2-0218e7904fb4"
      },
      "source": [
        "import sys\n",
        "sys.path"
      ],
      "execution_count": null,
      "outputs": [
        {
          "output_type": "execute_result",
          "data": {
            "text/plain": [
              "['/content',\n",
              " '/env/python',\n",
              " '/usr/lib/python310.zip',\n",
              " '/usr/lib/python3.10',\n",
              " '/usr/lib/python3.10/lib-dynload',\n",
              " '',\n",
              " '/usr/local/lib/python3.10/dist-packages',\n",
              " '/usr/lib/python3/dist-packages',\n",
              " '/usr/local/lib/python3.10/dist-packages/IPython/extensions',\n",
              " '/root/.ipython']"
            ]
          },
          "metadata": {},
          "execution_count": 12
        }
      ]
    },
    {
      "cell_type": "markdown",
      "source": [
        "# 10.5 Private names in modules"
      ],
      "metadata": {
        "id": "8jJwr8D0SwXX"
      }
    },
    {
      "cell_type": "code",
      "metadata": {
        "id": "9fyASMnvQIHi",
        "colab": {
          "base_uri": "https://localhost:8080/"
        },
        "outputId": "b8fb8d6e-2030-4daf-80eb-4eab84ed0d40"
      },
      "source": [
        "open(\"modtest.py\", \"w\").write(\n",
        "'''\"\"\"modtest: our test module\"\"\"\n",
        "def f(x):\n",
        "    return x\n",
        "def _g(x):\n",
        "    return x\n",
        "a = 4\n",
        "_b = 2\n",
        "''')"
      ],
      "execution_count": null,
      "outputs": [
        {
          "output_type": "execute_result",
          "data": {
            "text/plain": [
              "91"
            ]
          },
          "metadata": {},
          "execution_count": 12
        }
      ]
    },
    {
      "cell_type": "code",
      "metadata": {
        "id": "wAYZJv3oQIHi",
        "colab": {
          "base_uri": "https://localhost:8080/"
        },
        "outputId": "7713bca3-16ca-486c-b9d2-22aca4f17fab"
      },
      "source": [
        "from modtest import *\n",
        "f(3)"
      ],
      "execution_count": null,
      "outputs": [
        {
          "output_type": "execute_result",
          "data": {
            "text/plain": [
              "3"
            ]
          },
          "metadata": {},
          "execution_count": 13
        }
      ]
    },
    {
      "cell_type": "code",
      "metadata": {
        "id": "cfw30CZXQIHi",
        "colab": {
          "base_uri": "https://localhost:8080/",
          "height": 141
        },
        "outputId": "e8703fea-4d8b-4063-ddf9-1b950dee6576"
      },
      "source": [
        "_g(3)"
      ],
      "execution_count": null,
      "outputs": [
        {
          "output_type": "error",
          "ename": "NameError",
          "evalue": "name '_g' is not defined",
          "traceback": [
            "\u001b[0;31m---------------------------------------------------------------------------\u001b[0m",
            "\u001b[0;31mNameError\u001b[0m                                 Traceback (most recent call last)",
            "\u001b[0;32m<ipython-input-14-787abdf7161a>\u001b[0m in \u001b[0;36m<cell line: 1>\u001b[0;34m()\u001b[0m\n\u001b[0;32m----> 1\u001b[0;31m \u001b[0m_g\u001b[0m\u001b[0;34m(\u001b[0m\u001b[0;36m3\u001b[0m\u001b[0;34m)\u001b[0m\u001b[0;34m\u001b[0m\u001b[0;34m\u001b[0m\u001b[0m\n\u001b[0m",
            "\u001b[0;31mNameError\u001b[0m: name '_g' is not defined"
          ]
        }
      ]
    },
    {
      "cell_type": "code",
      "metadata": {
        "id": "xqNHiSibQIHi",
        "colab": {
          "base_uri": "https://localhost:8080/"
        },
        "outputId": "efa04618-46a7-43f4-9b83-563cdbd2028d"
      },
      "source": [
        "a"
      ],
      "execution_count": null,
      "outputs": [
        {
          "output_type": "execute_result",
          "data": {
            "text/plain": [
              "4"
            ]
          },
          "metadata": {},
          "execution_count": 15
        }
      ]
    },
    {
      "cell_type": "code",
      "metadata": {
        "id": "pHSASbQZQIHj",
        "colab": {
          "base_uri": "https://localhost:8080/",
          "height": 141
        },
        "outputId": "25d55e23-1e00-4724-ce2f-0990e8a58e93"
      },
      "source": [
        "_b"
      ],
      "execution_count": null,
      "outputs": [
        {
          "output_type": "error",
          "ename": "NameError",
          "evalue": "name '_b' is not defined",
          "traceback": [
            "\u001b[0;31m---------------------------------------------------------------------------\u001b[0m",
            "\u001b[0;31mNameError\u001b[0m                                 Traceback (most recent call last)",
            "\u001b[0;32m<ipython-input-16-8352e74fe22a>\u001b[0m in \u001b[0;36m<cell line: 1>\u001b[0;34m()\u001b[0m\n\u001b[0;32m----> 1\u001b[0;31m \u001b[0m_b\u001b[0m\u001b[0;34m\u001b[0m\u001b[0;34m\u001b[0m\u001b[0m\n\u001b[0m",
            "\u001b[0;31mNameError\u001b[0m: name '_b' is not defined"
          ]
        }
      ]
    },
    {
      "cell_type": "code",
      "metadata": {
        "id": "5DrFissvQIHj",
        "colab": {
          "base_uri": "https://localhost:8080/"
        },
        "outputId": "e447888c-5525-4551-b5f2-77c2754c61bf"
      },
      "source": [
        "import modtest\n",
        "modtest._b"
      ],
      "execution_count": null,
      "outputs": [
        {
          "output_type": "execute_result",
          "data": {
            "text/plain": [
              "2"
            ]
          },
          "metadata": {},
          "execution_count": 18
        }
      ]
    },
    {
      "cell_type": "code",
      "metadata": {
        "id": "Ekeax76XQIHj",
        "colab": {
          "base_uri": "https://localhost:8080/"
        },
        "outputId": "3aaba67d-83f2-4867-8471-8c939fc9bef9"
      },
      "source": [
        "from modtest import _g\n",
        "_g(5)"
      ],
      "execution_count": null,
      "outputs": [
        {
          "output_type": "execute_result",
          "data": {
            "text/plain": [
              "5"
            ]
          },
          "metadata": {},
          "execution_count": 19
        }
      ]
    },
    {
      "cell_type": "markdown",
      "source": [
        "# 10.6 Library and third-party modules"
      ],
      "metadata": {
        "id": "HUz6HBVaT15p"
      }
    },
    {
      "cell_type": "markdown",
      "source": [
        "### Quick Check: Modules\n",
        "Suppose that you have a module called `new_math` that contains a function called `new_divide`. What are the ways that you might import and then use that function? What are the pros and cons of each method?\n",
        "\n",
        "```python\n",
        "import new_math\n",
        "new_math.new_divide(...)\n",
        "```\n",
        "**This solution is often preferred because there won’t be a clash between any identifiers in new_module and the importing namespace. This solution is less convenient to type, however.**\n",
        "\n",
        "```python\n",
        "from new_math import new_divide\n",
        "new_divide(...)\n",
        "```\n",
        "**This version is more convenient to use but increases the chance of name clashes between identifiers in the module and the importing namespace.**\n",
        "\n",
        "Suppose that the new_math module contains a function called `_helper_mat-h()`. How will the underscore character affect the way that `_helper_math()` is imported?\n",
        "\n",
        "**It won’t be imported if you use `from new_math import*`**\n"
      ],
      "metadata": {
        "id": "5BUEPpirT8JQ"
      }
    },
    {
      "cell_type": "markdown",
      "source": [
        "# 10.7 Python scoping rules and namespaces"
      ],
      "metadata": {
        "id": "QroaWNq6UTuj"
      }
    },
    {
      "cell_type": "code",
      "metadata": {
        "id": "-dC1Qb1DQIHj",
        "colab": {
          "base_uri": "https://localhost:8080/"
        },
        "outputId": "87f3b91d-08d9-4aa7-e043-adc1631ec8db"
      },
      "source": [
        "locals()"
      ],
      "execution_count": null,
      "outputs": [
        {
          "output_type": "execute_result",
          "data": {
            "text/plain": [
              "{'__name__': '__main__',\n",
              " '__doc__': 'Automatically created module for IPython interactive environment',\n",
              " '__package__': None,\n",
              " '__loader__': None,\n",
              " '__spec__': None,\n",
              " '__builtin__': <module 'builtins' (built-in)>,\n",
              " '__builtins__': <module 'builtins' (built-in)>,\n",
              " '_ih': ['',\n",
              "  'open(\"mymath.py\", \"w\").write(\\n\\'\\'\\'\"\"\"mymath - our example math module\"\"\"\\npi = 3.14159\\ndef area(r):\\n    \"\"\"area(r): return the area of a circle with radius r.\"\"\"\\n    return(pi * r * r) \\n\\'\\'\\')',\n",
              "  'import mymath\\npi',\n",
              "  'mymath.pi',\n",
              "  'mymath.area(2)',\n",
              "  'mymath.pi',\n",
              "  'mymath.area(2)',\n",
              "  'mymath.__doc__',\n",
              "  'mymath.area.__doc__',\n",
              "  'from mymath import pi\\npi',\n",
              "  'area(2)',\n",
              "  'import mymath, importlib\\nimportlib.reload(mymath)',\n",
              "  'import sys\\nsys.path',\n",
              "  'open(\"modtest.py\", \"w\").write(\\n\\'\\'\\'\"\"\"modtest: our test module\"\"\"\\ndef f(x):\\n    return x\\ndef _g(x):\\n    return x\\na = 4\\n_b = 2\\n\\'\\'\\')',\n",
              "  'from modtest import *\\nf(3)',\n",
              "  '_g(3)',\n",
              "  'a',\n",
              "  '_b',\n",
              "  'import modtest\\nmodtest._b',\n",
              "  'from modtest import _g\\n_g(5)',\n",
              "  'locals()'],\n",
              " '_oh': {1: 151,\n",
              "  3: 3.14159,\n",
              "  4: 12.56636,\n",
              "  5: 3.14159,\n",
              "  6: 12.56636,\n",
              "  7: 'mymath - our example math module',\n",
              "  8: 'area(r): return the area of a circle with radius r.',\n",
              "  9: 3.14159,\n",
              "  11: <module 'mymath' from '/content/mymath.py'>,\n",
              "  12: ['/content',\n",
              "   '/env/python',\n",
              "   '/usr/lib/python310.zip',\n",
              "   '/usr/lib/python3.10',\n",
              "   '/usr/lib/python3.10/lib-dynload',\n",
              "   '',\n",
              "   '/usr/local/lib/python3.10/dist-packages',\n",
              "   '/usr/lib/python3/dist-packages',\n",
              "   '/usr/local/lib/python3.10/dist-packages/IPython/extensions',\n",
              "   '/root/.ipython'],\n",
              "  13: 91,\n",
              "  14: 3,\n",
              "  16: 4,\n",
              "  18: 2,\n",
              "  19: 5},\n",
              " '_dh': ['/content'],\n",
              " 'In': ['',\n",
              "  'open(\"mymath.py\", \"w\").write(\\n\\'\\'\\'\"\"\"mymath - our example math module\"\"\"\\npi = 3.14159\\ndef area(r):\\n    \"\"\"area(r): return the area of a circle with radius r.\"\"\"\\n    return(pi * r * r) \\n\\'\\'\\')',\n",
              "  'import mymath\\npi',\n",
              "  'mymath.pi',\n",
              "  'mymath.area(2)',\n",
              "  'mymath.pi',\n",
              "  'mymath.area(2)',\n",
              "  'mymath.__doc__',\n",
              "  'mymath.area.__doc__',\n",
              "  'from mymath import pi\\npi',\n",
              "  'area(2)',\n",
              "  'import mymath, importlib\\nimportlib.reload(mymath)',\n",
              "  'import sys\\nsys.path',\n",
              "  'open(\"modtest.py\", \"w\").write(\\n\\'\\'\\'\"\"\"modtest: our test module\"\"\"\\ndef f(x):\\n    return x\\ndef _g(x):\\n    return x\\na = 4\\n_b = 2\\n\\'\\'\\')',\n",
              "  'from modtest import *\\nf(3)',\n",
              "  '_g(3)',\n",
              "  'a',\n",
              "  '_b',\n",
              "  'import modtest\\nmodtest._b',\n",
              "  'from modtest import _g\\n_g(5)',\n",
              "  'locals()'],\n",
              " 'Out': {1: 151,\n",
              "  3: 3.14159,\n",
              "  4: 12.56636,\n",
              "  5: 3.14159,\n",
              "  6: 12.56636,\n",
              "  7: 'mymath - our example math module',\n",
              "  8: 'area(r): return the area of a circle with radius r.',\n",
              "  9: 3.14159,\n",
              "  11: <module 'mymath' from '/content/mymath.py'>,\n",
              "  12: ['/content',\n",
              "   '/env/python',\n",
              "   '/usr/lib/python310.zip',\n",
              "   '/usr/lib/python3.10',\n",
              "   '/usr/lib/python3.10/lib-dynload',\n",
              "   '',\n",
              "   '/usr/local/lib/python3.10/dist-packages',\n",
              "   '/usr/lib/python3/dist-packages',\n",
              "   '/usr/local/lib/python3.10/dist-packages/IPython/extensions',\n",
              "   '/root/.ipython'],\n",
              "  13: 91,\n",
              "  14: 3,\n",
              "  16: 4,\n",
              "  18: 2,\n",
              "  19: 5},\n",
              " 'get_ipython': <bound method InteractiveShell.get_ipython of <google.colab._shell.Shell object at 0x79621d7d78b0>>,\n",
              " 'exit': <IPython.core.autocall.ZMQExitAutocall at 0x79621d7d7e50>,\n",
              " 'quit': <IPython.core.autocall.ZMQExitAutocall at 0x79621d7d7e50>,\n",
              " '_': 5,\n",
              " '__': 2,\n",
              " '___': 4,\n",
              " '_i': 'from modtest import _g\\n_g(5)',\n",
              " '_ii': 'import modtest\\nmodtest._b',\n",
              " '_iii': '_b',\n",
              " '_i1': 'open(\"mymath.py\", \"w\").write(\\n\\'\\'\\'\"\"\"mymath - our example math module\"\"\"\\npi = 3.14159\\ndef area(r):\\n    \"\"\"area(r): return the area of a circle with radius r.\"\"\"\\n    return(pi * r * r) \\n\\'\\'\\')',\n",
              " '_1': 151,\n",
              " '_i2': 'import mymath\\npi',\n",
              " 'mymath': <module 'mymath' from '/content/mymath.py'>,\n",
              " '_i3': 'mymath.pi',\n",
              " '_3': 3.14159,\n",
              " '_i4': 'mymath.area(2)',\n",
              " '_4': 12.56636,\n",
              " '_i5': 'mymath.pi',\n",
              " '_5': 3.14159,\n",
              " '_i6': 'mymath.area(2)',\n",
              " '_6': 12.56636,\n",
              " '_i7': 'mymath.__doc__',\n",
              " '_7': 'mymath - our example math module',\n",
              " '_i8': 'mymath.area.__doc__',\n",
              " '_8': 'area(r): return the area of a circle with radius r.',\n",
              " '_i9': 'from mymath import pi\\npi',\n",
              " 'pi': 3.14159,\n",
              " '_9': 3.14159,\n",
              " '_i10': 'area(2)',\n",
              " '_i11': 'import mymath, importlib\\nimportlib.reload(mymath)',\n",
              " 'importlib': <module 'importlib' from '/usr/lib/python3.10/importlib/__init__.py'>,\n",
              " '_11': <module 'mymath' from '/content/mymath.py'>,\n",
              " '_i12': 'import sys\\nsys.path',\n",
              " 'sys': <module 'sys' (built-in)>,\n",
              " '_12': ['/content',\n",
              "  '/env/python',\n",
              "  '/usr/lib/python310.zip',\n",
              "  '/usr/lib/python3.10',\n",
              "  '/usr/lib/python3.10/lib-dynload',\n",
              "  '',\n",
              "  '/usr/local/lib/python3.10/dist-packages',\n",
              "  '/usr/lib/python3/dist-packages',\n",
              "  '/usr/local/lib/python3.10/dist-packages/IPython/extensions',\n",
              "  '/root/.ipython'],\n",
              " '_i13': 'open(\"modtest.py\", \"w\").write(\\n\\'\\'\\'\"\"\"modtest: our test module\"\"\"\\ndef f(x):\\n    return x\\ndef _g(x):\\n    return x\\na = 4\\n_b = 2\\n\\'\\'\\')',\n",
              " '_13': 91,\n",
              " '_i14': 'from modtest import *\\nf(3)',\n",
              " 'f': <function modtest.f(x)>,\n",
              " 'a': 4,\n",
              " '_14': 3,\n",
              " '_i15': '_g(3)',\n",
              " '_i16': 'a',\n",
              " '_16': 4,\n",
              " '_i17': '_b',\n",
              " '_i18': 'import modtest\\nmodtest._b',\n",
              " 'modtest': <module 'modtest' from '/content/modtest.py'>,\n",
              " '_18': 2,\n",
              " '_i19': 'from modtest import _g\\n_g(5)',\n",
              " '_g': <function modtest._g(x)>,\n",
              " '_19': 5,\n",
              " '_i20': 'locals()'}"
            ]
          },
          "metadata": {},
          "execution_count": 20
        }
      ]
    },
    {
      "cell_type": "code",
      "metadata": {
        "id": "Oy4MgtPzQIHk",
        "colab": {
          "base_uri": "https://localhost:8080/"
        },
        "outputId": "fea58e23-33e2-47e9-b47f-419391524095"
      },
      "source": [
        "globals()"
      ],
      "execution_count": null,
      "outputs": [
        {
          "output_type": "execute_result",
          "data": {
            "text/plain": [
              "{'__name__': '__main__',\n",
              " '__doc__': 'Automatically created module for IPython interactive environment',\n",
              " '__package__': None,\n",
              " '__loader__': None,\n",
              " '__spec__': None,\n",
              " '__builtin__': <module 'builtins' (built-in)>,\n",
              " '__builtins__': <module 'builtins' (built-in)>,\n",
              " '_ih': ['',\n",
              "  'open(\"mymath.py\", \"w\").write(\\n\\'\\'\\'\"\"\"mymath - our example math module\"\"\"\\npi = 3.14159\\ndef area(r):\\n    \"\"\"area(r): return the area of a circle with radius r.\"\"\"\\n    return(pi * r * r) \\n\\'\\'\\')',\n",
              "  'import mymath\\npi',\n",
              "  'mymath.pi',\n",
              "  'mymath.area(2)',\n",
              "  'mymath.pi',\n",
              "  'mymath.area(2)',\n",
              "  'mymath.__doc__',\n",
              "  'mymath.area.__doc__',\n",
              "  'from mymath import pi\\npi',\n",
              "  'area(2)',\n",
              "  'import mymath, importlib\\nimportlib.reload(mymath)',\n",
              "  'import sys\\nsys.path',\n",
              "  'open(\"modtest.py\", \"w\").write(\\n\\'\\'\\'\"\"\"modtest: our test module\"\"\"\\ndef f(x):\\n    return x\\ndef _g(x):\\n    return x\\na = 4\\n_b = 2\\n\\'\\'\\')',\n",
              "  'from modtest import *\\nf(3)',\n",
              "  '_g(3)',\n",
              "  'a',\n",
              "  '_b',\n",
              "  'import modtest\\nmodtest._b',\n",
              "  'from modtest import _g\\n_g(5)',\n",
              "  'locals()',\n",
              "  'globals()'],\n",
              " '_oh': {1: 151,\n",
              "  3: 3.14159,\n",
              "  4: 12.56636,\n",
              "  5: 3.14159,\n",
              "  6: 12.56636,\n",
              "  7: 'mymath - our example math module',\n",
              "  8: 'area(r): return the area of a circle with radius r.',\n",
              "  9: 3.14159,\n",
              "  11: <module 'mymath' from '/content/mymath.py'>,\n",
              "  12: ['/content',\n",
              "   '/env/python',\n",
              "   '/usr/lib/python310.zip',\n",
              "   '/usr/lib/python3.10',\n",
              "   '/usr/lib/python3.10/lib-dynload',\n",
              "   '',\n",
              "   '/usr/local/lib/python3.10/dist-packages',\n",
              "   '/usr/lib/python3/dist-packages',\n",
              "   '/usr/local/lib/python3.10/dist-packages/IPython/extensions',\n",
              "   '/root/.ipython'],\n",
              "  13: 91,\n",
              "  14: 3,\n",
              "  16: 4,\n",
              "  18: 2,\n",
              "  19: 5,\n",
              "  20: {...}},\n",
              " '_dh': ['/content'],\n",
              " 'In': ['',\n",
              "  'open(\"mymath.py\", \"w\").write(\\n\\'\\'\\'\"\"\"mymath - our example math module\"\"\"\\npi = 3.14159\\ndef area(r):\\n    \"\"\"area(r): return the area of a circle with radius r.\"\"\"\\n    return(pi * r * r) \\n\\'\\'\\')',\n",
              "  'import mymath\\npi',\n",
              "  'mymath.pi',\n",
              "  'mymath.area(2)',\n",
              "  'mymath.pi',\n",
              "  'mymath.area(2)',\n",
              "  'mymath.__doc__',\n",
              "  'mymath.area.__doc__',\n",
              "  'from mymath import pi\\npi',\n",
              "  'area(2)',\n",
              "  'import mymath, importlib\\nimportlib.reload(mymath)',\n",
              "  'import sys\\nsys.path',\n",
              "  'open(\"modtest.py\", \"w\").write(\\n\\'\\'\\'\"\"\"modtest: our test module\"\"\"\\ndef f(x):\\n    return x\\ndef _g(x):\\n    return x\\na = 4\\n_b = 2\\n\\'\\'\\')',\n",
              "  'from modtest import *\\nf(3)',\n",
              "  '_g(3)',\n",
              "  'a',\n",
              "  '_b',\n",
              "  'import modtest\\nmodtest._b',\n",
              "  'from modtest import _g\\n_g(5)',\n",
              "  'locals()',\n",
              "  'globals()'],\n",
              " 'Out': {1: 151,\n",
              "  3: 3.14159,\n",
              "  4: 12.56636,\n",
              "  5: 3.14159,\n",
              "  6: 12.56636,\n",
              "  7: 'mymath - our example math module',\n",
              "  8: 'area(r): return the area of a circle with radius r.',\n",
              "  9: 3.14159,\n",
              "  11: <module 'mymath' from '/content/mymath.py'>,\n",
              "  12: ['/content',\n",
              "   '/env/python',\n",
              "   '/usr/lib/python310.zip',\n",
              "   '/usr/lib/python3.10',\n",
              "   '/usr/lib/python3.10/lib-dynload',\n",
              "   '',\n",
              "   '/usr/local/lib/python3.10/dist-packages',\n",
              "   '/usr/lib/python3/dist-packages',\n",
              "   '/usr/local/lib/python3.10/dist-packages/IPython/extensions',\n",
              "   '/root/.ipython'],\n",
              "  13: 91,\n",
              "  14: 3,\n",
              "  16: 4,\n",
              "  18: 2,\n",
              "  19: 5,\n",
              "  20: {...}},\n",
              " 'get_ipython': <bound method InteractiveShell.get_ipython of <google.colab._shell.Shell object at 0x79621d7d78b0>>,\n",
              " 'exit': <IPython.core.autocall.ZMQExitAutocall at 0x79621d7d7e50>,\n",
              " 'quit': <IPython.core.autocall.ZMQExitAutocall at 0x79621d7d7e50>,\n",
              " '_': {...},\n",
              " '__': 5,\n",
              " '___': 2,\n",
              " '_i': 'locals()',\n",
              " '_ii': 'from modtest import _g\\n_g(5)',\n",
              " '_iii': 'import modtest\\nmodtest._b',\n",
              " '_i1': 'open(\"mymath.py\", \"w\").write(\\n\\'\\'\\'\"\"\"mymath - our example math module\"\"\"\\npi = 3.14159\\ndef area(r):\\n    \"\"\"area(r): return the area of a circle with radius r.\"\"\"\\n    return(pi * r * r) \\n\\'\\'\\')',\n",
              " '_1': 151,\n",
              " '_i2': 'import mymath\\npi',\n",
              " 'mymath': <module 'mymath' from '/content/mymath.py'>,\n",
              " '_i3': 'mymath.pi',\n",
              " '_3': 3.14159,\n",
              " '_i4': 'mymath.area(2)',\n",
              " '_4': 12.56636,\n",
              " '_i5': 'mymath.pi',\n",
              " '_5': 3.14159,\n",
              " '_i6': 'mymath.area(2)',\n",
              " '_6': 12.56636,\n",
              " '_i7': 'mymath.__doc__',\n",
              " '_7': 'mymath - our example math module',\n",
              " '_i8': 'mymath.area.__doc__',\n",
              " '_8': 'area(r): return the area of a circle with radius r.',\n",
              " '_i9': 'from mymath import pi\\npi',\n",
              " 'pi': 3.14159,\n",
              " '_9': 3.14159,\n",
              " '_i10': 'area(2)',\n",
              " '_i11': 'import mymath, importlib\\nimportlib.reload(mymath)',\n",
              " 'importlib': <module 'importlib' from '/usr/lib/python3.10/importlib/__init__.py'>,\n",
              " '_11': <module 'mymath' from '/content/mymath.py'>,\n",
              " '_i12': 'import sys\\nsys.path',\n",
              " 'sys': <module 'sys' (built-in)>,\n",
              " '_12': ['/content',\n",
              "  '/env/python',\n",
              "  '/usr/lib/python310.zip',\n",
              "  '/usr/lib/python3.10',\n",
              "  '/usr/lib/python3.10/lib-dynload',\n",
              "  '',\n",
              "  '/usr/local/lib/python3.10/dist-packages',\n",
              "  '/usr/lib/python3/dist-packages',\n",
              "  '/usr/local/lib/python3.10/dist-packages/IPython/extensions',\n",
              "  '/root/.ipython'],\n",
              " '_i13': 'open(\"modtest.py\", \"w\").write(\\n\\'\\'\\'\"\"\"modtest: our test module\"\"\"\\ndef f(x):\\n    return x\\ndef _g(x):\\n    return x\\na = 4\\n_b = 2\\n\\'\\'\\')',\n",
              " '_13': 91,\n",
              " '_i14': 'from modtest import *\\nf(3)',\n",
              " 'f': <function modtest.f(x)>,\n",
              " 'a': 4,\n",
              " '_14': 3,\n",
              " '_i15': '_g(3)',\n",
              " '_i16': 'a',\n",
              " '_16': 4,\n",
              " '_i17': '_b',\n",
              " '_i18': 'import modtest\\nmodtest._b',\n",
              " 'modtest': <module 'modtest' from '/content/modtest.py'>,\n",
              " '_18': 2,\n",
              " '_i19': 'from modtest import _g\\n_g(5)',\n",
              " '_g': <function modtest._g(x)>,\n",
              " '_19': 5,\n",
              " '_i20': 'locals()',\n",
              " '_20': {...},\n",
              " '_i21': 'globals()'}"
            ]
          },
          "metadata": {},
          "execution_count": 21
        }
      ]
    },
    {
      "cell_type": "code",
      "metadata": {
        "id": "HE3DRlVAQIHk",
        "colab": {
          "base_uri": "https://localhost:8080/"
        },
        "outputId": "ded12d55-f52e-49c5-dcde-a052aef03ea8"
      },
      "source": [
        "z = 2\n",
        "import math\n",
        "from cmath import cos\n",
        "globals()"
      ],
      "execution_count": null,
      "outputs": [
        {
          "output_type": "execute_result",
          "data": {
            "text/plain": [
              "{'__name__': '__main__',\n",
              " '__doc__': 'Automatically created module for IPython interactive environment',\n",
              " '__package__': None,\n",
              " '__loader__': None,\n",
              " '__spec__': None,\n",
              " '__builtin__': <module 'builtins' (built-in)>,\n",
              " '__builtins__': <module 'builtins' (built-in)>,\n",
              " '_ih': ['',\n",
              "  'open(\"mymath.py\", \"w\").write(\\n\\'\\'\\'\"\"\"mymath - our example math module\"\"\"\\npi = 3.14159\\ndef area(r):\\n    \"\"\"area(r): return the area of a circle with radius r.\"\"\"\\n    return(pi * r * r)\\n\\'\\'\\')',\n",
              "  'pi',\n",
              "  'area(2)',\n",
              "  'import mymath\\npi',\n",
              "  'mymath.pi',\n",
              "  'mymath.area(2)',\n",
              "  'mymath.__doc__',\n",
              "  'mymath.area.__doc__',\n",
              "  'from mymath import pi\\npi',\n",
              "  'import mymath, importlib\\nimportlib.reload(mymath)',\n",
              "  'from mymath import *',\n",
              "  'open(\"modtest.py\", \"w\").write(\\n\\'\\'\\'\"\"\"modtest: our test module\"\"\"\\ndef f(x):\\n    return x\\ndef _g(x):\\n    return x\\na = 4\\n_b = 2\\n\\'\\'\\')',\n",
              "  'from modtest import *\\nf(3)',\n",
              "  '_g(3)',\n",
              "  'a',\n",
              "  '_b',\n",
              "  'z = 2\\nimport math\\nfrom cmath import cos\\nglobals()',\n",
              "  'del z, math, cos\\nlocals()',\n",
              "  'del z, math, cos',\n",
              "  'z = 2\\nimport math\\nfrom cmath import cos\\nglobals()'],\n",
              " '_oh': {1: 150,\n",
              "  5: 3.14159,\n",
              "  6: 12.56636,\n",
              "  7: 'mymath - our example math module',\n",
              "  8: 'area(r): return the area of a circle with radius r.',\n",
              "  9: 3.14159,\n",
              "  10: <module 'mymath' from '/content/mymath.py'>,\n",
              "  12: 91,\n",
              "  13: 3,\n",
              "  15: 4,\n",
              "  17: {...},\n",
              "  18: {...}},\n",
              " '_dh': ['/content'],\n",
              " 'In': ['',\n",
              "  'open(\"mymath.py\", \"w\").write(\\n\\'\\'\\'\"\"\"mymath - our example math module\"\"\"\\npi = 3.14159\\ndef area(r):\\n    \"\"\"area(r): return the area of a circle with radius r.\"\"\"\\n    return(pi * r * r)\\n\\'\\'\\')',\n",
              "  'pi',\n",
              "  'area(2)',\n",
              "  'import mymath\\npi',\n",
              "  'mymath.pi',\n",
              "  'mymath.area(2)',\n",
              "  'mymath.__doc__',\n",
              "  'mymath.area.__doc__',\n",
              "  'from mymath import pi\\npi',\n",
              "  'import mymath, importlib\\nimportlib.reload(mymath)',\n",
              "  'from mymath import *',\n",
              "  'open(\"modtest.py\", \"w\").write(\\n\\'\\'\\'\"\"\"modtest: our test module\"\"\"\\ndef f(x):\\n    return x\\ndef _g(x):\\n    return x\\na = 4\\n_b = 2\\n\\'\\'\\')',\n",
              "  'from modtest import *\\nf(3)',\n",
              "  '_g(3)',\n",
              "  'a',\n",
              "  '_b',\n",
              "  'z = 2\\nimport math\\nfrom cmath import cos\\nglobals()',\n",
              "  'del z, math, cos\\nlocals()',\n",
              "  'del z, math, cos',\n",
              "  'z = 2\\nimport math\\nfrom cmath import cos\\nglobals()'],\n",
              " 'Out': {1: 150,\n",
              "  5: 3.14159,\n",
              "  6: 12.56636,\n",
              "  7: 'mymath - our example math module',\n",
              "  8: 'area(r): return the area of a circle with radius r.',\n",
              "  9: 3.14159,\n",
              "  10: <module 'mymath' from '/content/mymath.py'>,\n",
              "  12: 91,\n",
              "  13: 3,\n",
              "  15: 4,\n",
              "  17: {...},\n",
              "  18: {...}},\n",
              " 'get_ipython': <bound method InteractiveShell.get_ipython of <google.colab._shell.Shell object at 0x7fb9ef097850>>,\n",
              " 'exit': <IPython.core.autocall.ZMQExitAutocall at 0x7fb9ef096e90>,\n",
              " 'quit': <IPython.core.autocall.ZMQExitAutocall at 0x7fb9ef096e90>,\n",
              " '_': {...},\n",
              " '__': {...},\n",
              " '___': 4,\n",
              " '_i': 'del z, math, cos',\n",
              " '_ii': 'del z, math, cos\\nlocals()',\n",
              " '_iii': 'z = 2\\nimport math\\nfrom cmath import cos\\nglobals()',\n",
              " '_i1': 'open(\"mymath.py\", \"w\").write(\\n\\'\\'\\'\"\"\"mymath - our example math module\"\"\"\\npi = 3.14159\\ndef area(r):\\n    \"\"\"area(r): return the area of a circle with radius r.\"\"\"\\n    return(pi * r * r)\\n\\'\\'\\')',\n",
              " '_1': 150,\n",
              " '_i2': 'pi',\n",
              " '_i3': 'area(2)',\n",
              " '_i4': 'import mymath\\npi',\n",
              " 'mymath': <module 'mymath' from '/content/mymath.py'>,\n",
              " '_i5': 'mymath.pi',\n",
              " '_5': 3.14159,\n",
              " '_i6': 'mymath.area(2)',\n",
              " '_6': 12.56636,\n",
              " '_i7': 'mymath.__doc__',\n",
              " '_7': 'mymath - our example math module',\n",
              " '_i8': 'mymath.area.__doc__',\n",
              " '_8': 'area(r): return the area of a circle with radius r.',\n",
              " '_i9': 'from mymath import pi\\npi',\n",
              " 'pi': 3.14159,\n",
              " '_9': 3.14159,\n",
              " '_i10': 'import mymath, importlib\\nimportlib.reload(mymath)',\n",
              " 'importlib': <module 'importlib' from '/usr/lib/python3.10/importlib/__init__.py'>,\n",
              " '_10': <module 'mymath' from '/content/mymath.py'>,\n",
              " '_i11': 'from mymath import *',\n",
              " 'area': <function mymath.area(r)>,\n",
              " '_i12': 'open(\"modtest.py\", \"w\").write(\\n\\'\\'\\'\"\"\"modtest: our test module\"\"\"\\ndef f(x):\\n    return x\\ndef _g(x):\\n    return x\\na = 4\\n_b = 2\\n\\'\\'\\')',\n",
              " '_12': 91,\n",
              " '_i13': 'from modtest import *\\nf(3)',\n",
              " 'f': <function modtest.f(x)>,\n",
              " 'a': 4,\n",
              " '_13': 3,\n",
              " '_i14': '_g(3)',\n",
              " '_i15': 'a',\n",
              " '_15': 4,\n",
              " '_i16': '_b',\n",
              " '_i17': 'z = 2\\nimport math\\nfrom cmath import cos\\nglobals()',\n",
              " '_17': {...},\n",
              " '_i18': 'del z, math, cos\\nlocals()',\n",
              " '_18': {...},\n",
              " '_i19': 'del z, math, cos',\n",
              " '_i20': 'z = 2\\nimport math\\nfrom cmath import cos\\nglobals()',\n",
              " 'z': 2,\n",
              " 'math': <module 'math' (built-in)>,\n",
              " 'cos': <function cmath.cos(z, /)>}"
            ]
          },
          "metadata": {},
          "execution_count": 20
        }
      ]
    },
    {
      "cell_type": "code",
      "metadata": {
        "id": "iYLPjsGAQIHk",
        "colab": {
          "base_uri": "https://localhost:8080/"
        },
        "outputId": "efef0cb7-ba3b-421b-a22c-7acc9e4f884e"
      },
      "source": [
        "locals()"
      ],
      "execution_count": null,
      "outputs": [
        {
          "output_type": "execute_result",
          "data": {
            "text/plain": [
              "{'__name__': '__main__',\n",
              " '__doc__': 'Automatically created module for IPython interactive environment',\n",
              " '__package__': None,\n",
              " '__loader__': None,\n",
              " '__spec__': None,\n",
              " '__builtin__': <module 'builtins' (built-in)>,\n",
              " '__builtins__': <module 'builtins' (built-in)>,\n",
              " '_ih': ['',\n",
              "  'open(\"mymath.py\", \"w\").write(\\n\\'\\'\\'\"\"\"mymath - our example math module\"\"\"\\npi = 3.14159\\ndef area(r):\\n    \"\"\"area(r): return the area of a circle with radius r.\"\"\"\\n    return(pi * r * r) \\n\\'\\'\\')',\n",
              "  'import mymath\\npi',\n",
              "  'mymath.pi',\n",
              "  'mymath.area(2)',\n",
              "  'mymath.pi',\n",
              "  'mymath.area(2)',\n",
              "  'mymath.__doc__',\n",
              "  'mymath.area.__doc__',\n",
              "  'from mymath import pi\\npi',\n",
              "  'area(2)',\n",
              "  'import mymath, importlib\\nimportlib.reload(mymath)',\n",
              "  'import sys\\nsys.path',\n",
              "  'open(\"modtest.py\", \"w\").write(\\n\\'\\'\\'\"\"\"modtest: our test module\"\"\"\\ndef f(x):\\n    return x\\ndef _g(x):\\n    return x\\na = 4\\n_b = 2\\n\\'\\'\\')',\n",
              "  'from modtest import *\\nf(3)',\n",
              "  '_g(3)',\n",
              "  'a',\n",
              "  '_b',\n",
              "  'import modtest\\nmodtest._b',\n",
              "  'from modtest import _g\\n_g(5)',\n",
              "  'locals()',\n",
              "  'globals()',\n",
              "  'z = 2\\nimport math\\nfrom cmath import cos\\nglobals()',\n",
              "  'locals()'],\n",
              " '_oh': {1: 151,\n",
              "  3: 3.14159,\n",
              "  4: 12.56636,\n",
              "  5: 3.14159,\n",
              "  6: 12.56636,\n",
              "  7: 'mymath - our example math module',\n",
              "  8: 'area(r): return the area of a circle with radius r.',\n",
              "  9: 3.14159,\n",
              "  11: <module 'mymath' from '/content/mymath.py'>,\n",
              "  12: ['/content',\n",
              "   '/env/python',\n",
              "   '/usr/lib/python310.zip',\n",
              "   '/usr/lib/python3.10',\n",
              "   '/usr/lib/python3.10/lib-dynload',\n",
              "   '',\n",
              "   '/usr/local/lib/python3.10/dist-packages',\n",
              "   '/usr/lib/python3/dist-packages',\n",
              "   '/usr/local/lib/python3.10/dist-packages/IPython/extensions',\n",
              "   '/root/.ipython'],\n",
              "  13: 91,\n",
              "  14: 3,\n",
              "  16: 4,\n",
              "  18: 2,\n",
              "  19: 5,\n",
              "  20: {...},\n",
              "  21: {...},\n",
              "  22: {...}},\n",
              " '_dh': ['/content'],\n",
              " 'In': ['',\n",
              "  'open(\"mymath.py\", \"w\").write(\\n\\'\\'\\'\"\"\"mymath - our example math module\"\"\"\\npi = 3.14159\\ndef area(r):\\n    \"\"\"area(r): return the area of a circle with radius r.\"\"\"\\n    return(pi * r * r) \\n\\'\\'\\')',\n",
              "  'import mymath\\npi',\n",
              "  'mymath.pi',\n",
              "  'mymath.area(2)',\n",
              "  'mymath.pi',\n",
              "  'mymath.area(2)',\n",
              "  'mymath.__doc__',\n",
              "  'mymath.area.__doc__',\n",
              "  'from mymath import pi\\npi',\n",
              "  'area(2)',\n",
              "  'import mymath, importlib\\nimportlib.reload(mymath)',\n",
              "  'import sys\\nsys.path',\n",
              "  'open(\"modtest.py\", \"w\").write(\\n\\'\\'\\'\"\"\"modtest: our test module\"\"\"\\ndef f(x):\\n    return x\\ndef _g(x):\\n    return x\\na = 4\\n_b = 2\\n\\'\\'\\')',\n",
              "  'from modtest import *\\nf(3)',\n",
              "  '_g(3)',\n",
              "  'a',\n",
              "  '_b',\n",
              "  'import modtest\\nmodtest._b',\n",
              "  'from modtest import _g\\n_g(5)',\n",
              "  'locals()',\n",
              "  'globals()',\n",
              "  'z = 2\\nimport math\\nfrom cmath import cos\\nglobals()',\n",
              "  'locals()'],\n",
              " 'Out': {1: 151,\n",
              "  3: 3.14159,\n",
              "  4: 12.56636,\n",
              "  5: 3.14159,\n",
              "  6: 12.56636,\n",
              "  7: 'mymath - our example math module',\n",
              "  8: 'area(r): return the area of a circle with radius r.',\n",
              "  9: 3.14159,\n",
              "  11: <module 'mymath' from '/content/mymath.py'>,\n",
              "  12: ['/content',\n",
              "   '/env/python',\n",
              "   '/usr/lib/python310.zip',\n",
              "   '/usr/lib/python3.10',\n",
              "   '/usr/lib/python3.10/lib-dynload',\n",
              "   '',\n",
              "   '/usr/local/lib/python3.10/dist-packages',\n",
              "   '/usr/lib/python3/dist-packages',\n",
              "   '/usr/local/lib/python3.10/dist-packages/IPython/extensions',\n",
              "   '/root/.ipython'],\n",
              "  13: 91,\n",
              "  14: 3,\n",
              "  16: 4,\n",
              "  18: 2,\n",
              "  19: 5,\n",
              "  20: {...},\n",
              "  21: {...},\n",
              "  22: {...}},\n",
              " 'get_ipython': <bound method InteractiveShell.get_ipython of <google.colab._shell.Shell object at 0x79621d7d78b0>>,\n",
              " 'exit': <IPython.core.autocall.ZMQExitAutocall at 0x79621d7d7e50>,\n",
              " 'quit': <IPython.core.autocall.ZMQExitAutocall at 0x79621d7d7e50>,\n",
              " '_': {...},\n",
              " '__': {...},\n",
              " '___': {...},\n",
              " '_i': 'z = 2\\nimport math\\nfrom cmath import cos\\nglobals()',\n",
              " '_ii': 'globals()',\n",
              " '_iii': 'locals()',\n",
              " '_i1': 'open(\"mymath.py\", \"w\").write(\\n\\'\\'\\'\"\"\"mymath - our example math module\"\"\"\\npi = 3.14159\\ndef area(r):\\n    \"\"\"area(r): return the area of a circle with radius r.\"\"\"\\n    return(pi * r * r) \\n\\'\\'\\')',\n",
              " '_1': 151,\n",
              " '_i2': 'import mymath\\npi',\n",
              " 'mymath': <module 'mymath' from '/content/mymath.py'>,\n",
              " '_i3': 'mymath.pi',\n",
              " '_3': 3.14159,\n",
              " '_i4': 'mymath.area(2)',\n",
              " '_4': 12.56636,\n",
              " '_i5': 'mymath.pi',\n",
              " '_5': 3.14159,\n",
              " '_i6': 'mymath.area(2)',\n",
              " '_6': 12.56636,\n",
              " '_i7': 'mymath.__doc__',\n",
              " '_7': 'mymath - our example math module',\n",
              " '_i8': 'mymath.area.__doc__',\n",
              " '_8': 'area(r): return the area of a circle with radius r.',\n",
              " '_i9': 'from mymath import pi\\npi',\n",
              " 'pi': 3.14159,\n",
              " '_9': 3.14159,\n",
              " '_i10': 'area(2)',\n",
              " '_i11': 'import mymath, importlib\\nimportlib.reload(mymath)',\n",
              " 'importlib': <module 'importlib' from '/usr/lib/python3.10/importlib/__init__.py'>,\n",
              " '_11': <module 'mymath' from '/content/mymath.py'>,\n",
              " '_i12': 'import sys\\nsys.path',\n",
              " 'sys': <module 'sys' (built-in)>,\n",
              " '_12': ['/content',\n",
              "  '/env/python',\n",
              "  '/usr/lib/python310.zip',\n",
              "  '/usr/lib/python3.10',\n",
              "  '/usr/lib/python3.10/lib-dynload',\n",
              "  '',\n",
              "  '/usr/local/lib/python3.10/dist-packages',\n",
              "  '/usr/lib/python3/dist-packages',\n",
              "  '/usr/local/lib/python3.10/dist-packages/IPython/extensions',\n",
              "  '/root/.ipython'],\n",
              " '_i13': 'open(\"modtest.py\", \"w\").write(\\n\\'\\'\\'\"\"\"modtest: our test module\"\"\"\\ndef f(x):\\n    return x\\ndef _g(x):\\n    return x\\na = 4\\n_b = 2\\n\\'\\'\\')',\n",
              " '_13': 91,\n",
              " '_i14': 'from modtest import *\\nf(3)',\n",
              " 'f': <function modtest.f(x)>,\n",
              " 'a': 4,\n",
              " '_14': 3,\n",
              " '_i15': '_g(3)',\n",
              " '_i16': 'a',\n",
              " '_16': 4,\n",
              " '_i17': '_b',\n",
              " '_i18': 'import modtest\\nmodtest._b',\n",
              " 'modtest': <module 'modtest' from '/content/modtest.py'>,\n",
              " '_18': 2,\n",
              " '_i19': 'from modtest import _g\\n_g(5)',\n",
              " '_g': <function modtest._g(x)>,\n",
              " '_19': 5,\n",
              " '_i20': 'locals()',\n",
              " '_20': {...},\n",
              " '_i21': 'globals()',\n",
              " '_21': {...},\n",
              " '_i22': 'z = 2\\nimport math\\nfrom cmath import cos\\nglobals()',\n",
              " 'z': 2,\n",
              " 'math': <module 'math' (built-in)>,\n",
              " 'cos': <function cmath.cos(z, /)>,\n",
              " '_22': {...},\n",
              " '_i23': 'locals()'}"
            ]
          },
          "metadata": {},
          "execution_count": 23
        }
      ]
    },
    {
      "cell_type": "code",
      "metadata": {
        "id": "cm38XPl5QIHk",
        "colab": {
          "base_uri": "https://localhost:8080/"
        },
        "outputId": "77c3ae03-5c7a-47a6-d1bb-cf7d46aa14e8"
      },
      "source": [
        "math.ceil(3.4)"
      ],
      "execution_count": null,
      "outputs": [
        {
          "output_type": "execute_result",
          "data": {
            "text/plain": [
              "4"
            ]
          },
          "metadata": {},
          "execution_count": 24
        }
      ]
    },
    {
      "cell_type": "code",
      "metadata": {
        "id": "_gQZTN5hQIHk"
      },
      "source": [
        "del z, math, cos"
      ],
      "execution_count": null,
      "outputs": []
    },
    {
      "cell_type": "code",
      "metadata": {
        "id": "ZHr8-BzIQIHl",
        "colab": {
          "base_uri": "https://localhost:8080/",
          "height": 141
        },
        "outputId": "2089cc80-a3a2-4900-a221-c0f166925a9a"
      },
      "source": [
        "math.ceil(3.4)"
      ],
      "execution_count": null,
      "outputs": [
        {
          "output_type": "error",
          "ename": "NameError",
          "evalue": "name 'math' is not defined",
          "traceback": [
            "\u001b[0;31m---------------------------------------------------------------------------\u001b[0m",
            "\u001b[0;31mNameError\u001b[0m                                 Traceback (most recent call last)",
            "\u001b[0;32m<ipython-input-22-307799385d47>\u001b[0m in \u001b[0;36m<cell line: 1>\u001b[0;34m()\u001b[0m\n\u001b[0;32m----> 1\u001b[0;31m \u001b[0mmath\u001b[0m\u001b[0;34m.\u001b[0m\u001b[0mceil\u001b[0m\u001b[0;34m(\u001b[0m\u001b[0;36m3.4\u001b[0m\u001b[0;34m)\u001b[0m\u001b[0;34m\u001b[0m\u001b[0;34m\u001b[0m\u001b[0m\n\u001b[0m",
            "\u001b[0;31mNameError\u001b[0m: name 'math' is not defined"
          ]
        }
      ]
    },
    {
      "cell_type": "code",
      "metadata": {
        "id": "i_H9_JVdQIHl",
        "colab": {
          "base_uri": "https://localhost:8080/"
        },
        "outputId": "b6270626-d147-4870-8eea-23cbcfd4b713"
      },
      "source": [
        "import math\n",
        "math.ceil(3.4)"
      ],
      "execution_count": null,
      "outputs": [
        {
          "output_type": "execute_result",
          "data": {
            "text/plain": [
              "4"
            ]
          },
          "metadata": {},
          "execution_count": 23
        }
      ]
    },
    {
      "cell_type": "code",
      "metadata": {
        "id": "DWAbTbPVQIHl",
        "colab": {
          "base_uri": "https://localhost:8080/"
        },
        "outputId": "f3801ce5-5920-4af4-e2c9-2be25fde6d3c"
      },
      "source": [
        "def f(x):\n",
        "\n",
        "    print(\"Entry local: \", locals())\n",
        "    y = x\n",
        "    print(\"Exit local: \", locals())\n",
        "\n",
        "z = 2\n",
        "\n",
        "f(z)"
      ],
      "execution_count": null,
      "outputs": [
        {
          "output_type": "stream",
          "name": "stdout",
          "text": [
            "Entry local:  {'x': 2}\n",
            "Exit local:  {'x': 2, 'y': 2}\n"
          ]
        }
      ]
    },
    {
      "cell_type": "code",
      "metadata": {
        "id": "gFxCAmTwQIHm",
        "colab": {
          "base_uri": "https://localhost:8080/"
        },
        "outputId": "1edee4a7-ecfe-4bfe-e53d-a5723c83019f"
      },
      "source": [
        "open(\"scopetest.py\", \"w\").write(\n",
        "'''\"\"\"scopetest: our scope test module\"\"\"\n",
        "v = 6\n",
        "def f(x):\n",
        "    \"\"\"f: scope test function\"\"\"\n",
        "    print(\"global: \", list(globals().keys()))\n",
        "    print(\"entry local:\", locals())\n",
        "    y = x\n",
        "    w = v\n",
        "    print(\"exit local:\", locals().keys())\n",
        "''')"
      ],
      "execution_count": null,
      "outputs": [
        {
          "output_type": "execute_result",
          "data": {
            "text/plain": [
              "232"
            ]
          },
          "metadata": {},
          "execution_count": 33
        }
      ]
    },
    {
      "cell_type": "code",
      "metadata": {
        "id": "WB_d6K01QIHm",
        "colab": {
          "base_uri": "https://localhost:8080/"
        },
        "outputId": "446d00d8-68b4-47ed-ee95-a8b1587a77e4"
      },
      "source": [
        "import scopetest\n",
        "z = 2\n",
        "scopetest.f(z)"
      ],
      "execution_count": null,
      "outputs": [
        {
          "output_type": "stream",
          "name": "stdout",
          "text": [
            "global:  ['__name__', '__doc__', '__package__', '__loader__', '__spec__', '__file__', '__cached__', '__builtins__', 'v', 'f']\n",
            "entry local: {'x': 2}\n",
            "exit local: dict_keys(['x', 'y', 'w'])\n"
          ]
        }
      ]
    },
    {
      "cell_type": "markdown",
      "source": [
        "## 10.7.1 The built-in namespace"
      ],
      "metadata": {
        "id": "ePnTfnWEsAkj"
      }
    },
    {
      "cell_type": "code",
      "metadata": {
        "id": "941ncuwjQIHm",
        "colab": {
          "base_uri": "https://localhost:8080/"
        },
        "outputId": "b74c45df-5f5b-42b8-c615-ffa4dbb7e696"
      },
      "source": [
        "dir(__builtins__)"
      ],
      "execution_count": null,
      "outputs": [
        {
          "output_type": "execute_result",
          "data": {
            "text/plain": [
              "['ArithmeticError',\n",
              " 'AssertionError',\n",
              " 'AttributeError',\n",
              " 'BaseException',\n",
              " 'BlockingIOError',\n",
              " 'BrokenPipeError',\n",
              " 'BufferError',\n",
              " 'BytesWarning',\n",
              " 'ChildProcessError',\n",
              " 'ConnectionAbortedError',\n",
              " 'ConnectionError',\n",
              " 'ConnectionRefusedError',\n",
              " 'ConnectionResetError',\n",
              " 'DeprecationWarning',\n",
              " 'EOFError',\n",
              " 'Ellipsis',\n",
              " 'EncodingWarning',\n",
              " 'EnvironmentError',\n",
              " 'Exception',\n",
              " 'False',\n",
              " 'FileExistsError',\n",
              " 'FileNotFoundError',\n",
              " 'FloatingPointError',\n",
              " 'FutureWarning',\n",
              " 'GeneratorExit',\n",
              " 'IOError',\n",
              " 'ImportError',\n",
              " 'ImportWarning',\n",
              " 'IndentationError',\n",
              " 'IndexError',\n",
              " 'InterruptedError',\n",
              " 'IsADirectoryError',\n",
              " 'KeyError',\n",
              " 'KeyboardInterrupt',\n",
              " 'LookupError',\n",
              " 'MemoryError',\n",
              " 'ModuleNotFoundError',\n",
              " 'NameError',\n",
              " 'None',\n",
              " 'NotADirectoryError',\n",
              " 'NotImplemented',\n",
              " 'NotImplementedError',\n",
              " 'OSError',\n",
              " 'OverflowError',\n",
              " 'PendingDeprecationWarning',\n",
              " 'PermissionError',\n",
              " 'ProcessLookupError',\n",
              " 'RecursionError',\n",
              " 'ReferenceError',\n",
              " 'ResourceWarning',\n",
              " 'RuntimeError',\n",
              " 'RuntimeWarning',\n",
              " 'StopAsyncIteration',\n",
              " 'StopIteration',\n",
              " 'SyntaxError',\n",
              " 'SyntaxWarning',\n",
              " 'SystemError',\n",
              " 'SystemExit',\n",
              " 'TabError',\n",
              " 'TimeoutError',\n",
              " 'True',\n",
              " 'TypeError',\n",
              " 'UnboundLocalError',\n",
              " 'UnicodeDecodeError',\n",
              " 'UnicodeEncodeError',\n",
              " 'UnicodeError',\n",
              " 'UnicodeTranslateError',\n",
              " 'UnicodeWarning',\n",
              " 'UserWarning',\n",
              " 'ValueError',\n",
              " 'Warning',\n",
              " 'ZeroDivisionError',\n",
              " '__IPYTHON__',\n",
              " '__build_class__',\n",
              " '__debug__',\n",
              " '__doc__',\n",
              " '__import__',\n",
              " '__loader__',\n",
              " '__name__',\n",
              " '__package__',\n",
              " '__spec__',\n",
              " 'abs',\n",
              " 'aiter',\n",
              " 'all',\n",
              " 'anext',\n",
              " 'any',\n",
              " 'ascii',\n",
              " 'bin',\n",
              " 'bool',\n",
              " 'breakpoint',\n",
              " 'bytearray',\n",
              " 'bytes',\n",
              " 'callable',\n",
              " 'chr',\n",
              " 'classmethod',\n",
              " 'compile',\n",
              " 'complex',\n",
              " 'copyright',\n",
              " 'credits',\n",
              " 'delattr',\n",
              " 'dict',\n",
              " 'dir',\n",
              " 'display',\n",
              " 'divmod',\n",
              " 'enumerate',\n",
              " 'eval',\n",
              " 'exec',\n",
              " 'execfile',\n",
              " 'filter',\n",
              " 'float',\n",
              " 'format',\n",
              " 'frozenset',\n",
              " 'get_ipython',\n",
              " 'getattr',\n",
              " 'globals',\n",
              " 'hasattr',\n",
              " 'hash',\n",
              " 'help',\n",
              " 'hex',\n",
              " 'id',\n",
              " 'input',\n",
              " 'int',\n",
              " 'isinstance',\n",
              " 'issubclass',\n",
              " 'iter',\n",
              " 'len',\n",
              " 'license',\n",
              " 'list',\n",
              " 'locals',\n",
              " 'map',\n",
              " 'max',\n",
              " 'memoryview',\n",
              " 'min',\n",
              " 'next',\n",
              " 'object',\n",
              " 'oct',\n",
              " 'open',\n",
              " 'ord',\n",
              " 'pow',\n",
              " 'print',\n",
              " 'property',\n",
              " 'range',\n",
              " 'repr',\n",
              " 'reversed',\n",
              " 'round',\n",
              " 'runfile',\n",
              " 'set',\n",
              " 'setattr',\n",
              " 'slice',\n",
              " 'sorted',\n",
              " 'staticmethod',\n",
              " 'str',\n",
              " 'sum',\n",
              " 'super',\n",
              " 'tuple',\n",
              " 'type',\n",
              " 'vars',\n",
              " 'zip']"
            ]
          },
          "metadata": {},
          "execution_count": 6
        }
      ]
    },
    {
      "cell_type": "code",
      "metadata": {
        "id": "uokKe7WYQIHn",
        "colab": {
          "base_uri": "https://localhost:8080/"
        },
        "outputId": "96173d53-6e7d-4171-d3f6-d0b1d7ff2944"
      },
      "source": [
        "print(max.__doc__)"
      ],
      "execution_count": null,
      "outputs": [
        {
          "output_type": "stream",
          "name": "stdout",
          "text": [
            "max(iterable, *[, default=obj, key=func]) -> value\n",
            "max(arg1, arg2, *args, *[, key=func]) -> value\n",
            "\n",
            "With a single iterable argument, return its biggest item. The\n",
            "default keyword-only argument specifies an object to return if\n",
            "the provided iterable is empty.\n",
            "With two or more arguments, return the largest argument.\n"
          ]
        }
      ]
    },
    {
      "cell_type": "code",
      "metadata": {
        "id": "p4qJLAQbQIHn",
        "colab": {
          "base_uri": "https://localhost:8080/"
        },
        "outputId": "e426741f-6c07-479c-89a7-f7a48cc6ec58"
      },
      "source": [
        "list(\"Peyto Lake\")"
      ],
      "execution_count": null,
      "outputs": [
        {
          "output_type": "execute_result",
          "data": {
            "text/plain": [
              "['P', 'e', 'y', 't', 'o', ' ', 'L', 'a', 'k', 'e']"
            ]
          },
          "metadata": {},
          "execution_count": 10
        }
      ]
    },
    {
      "cell_type": "code",
      "metadata": {
        "id": "iiQ3vjM_QIHn",
        "colab": {
          "base_uri": "https://localhost:8080/",
          "height": 159
        },
        "outputId": "56ab35ea-6a97-4447-a499-6317c50b4435"
      },
      "source": [
        "list = [1, 3, 5, 7]\n",
        "list(\"Peyto Lake\")"
      ],
      "execution_count": null,
      "outputs": [
        {
          "output_type": "error",
          "ename": "TypeError",
          "evalue": "'list' object is not callable",
          "traceback": [
            "\u001b[0;31m---------------------------------------------------------------------------\u001b[0m",
            "\u001b[0;31mTypeError\u001b[0m                                 Traceback (most recent call last)",
            "\u001b[0;32m<ipython-input-11-7845f2807d9f>\u001b[0m in \u001b[0;36m<cell line: 2>\u001b[0;34m()\u001b[0m\n\u001b[1;32m      1\u001b[0m \u001b[0mlist\u001b[0m \u001b[0;34m=\u001b[0m \u001b[0;34m[\u001b[0m\u001b[0;36m1\u001b[0m\u001b[0;34m,\u001b[0m \u001b[0;36m3\u001b[0m\u001b[0;34m,\u001b[0m \u001b[0;36m5\u001b[0m\u001b[0;34m,\u001b[0m \u001b[0;36m7\u001b[0m\u001b[0;34m]\u001b[0m\u001b[0;34m\u001b[0m\u001b[0;34m\u001b[0m\u001b[0m\n\u001b[0;32m----> 2\u001b[0;31m \u001b[0mlist\u001b[0m\u001b[0;34m(\u001b[0m\u001b[0;34m\"Peyto Lake\"\u001b[0m\u001b[0;34m)\u001b[0m\u001b[0;34m\u001b[0m\u001b[0;34m\u001b[0m\u001b[0m\n\u001b[0m",
            "\u001b[0;31mTypeError\u001b[0m: 'list' object is not callable"
          ]
        }
      ]
    },
    {
      "cell_type": "code",
      "metadata": {
        "id": "pv4tIvVMQIHn",
        "colab": {
          "base_uri": "https://localhost:8080/",
          "height": 176
        },
        "outputId": "0c69dfad-f05c-4c80-bbd0-a7c8540e64ff"
      },
      "source": [
        "import mymath\n",
        "mymath = mymath.area\n",
        "mymath.pi"
      ],
      "execution_count": null,
      "outputs": [
        {
          "output_type": "error",
          "ename": "AttributeError",
          "evalue": "'function' object has no attribute 'pi'",
          "traceback": [
            "\u001b[0;31m---------------------------------------------------------------------------\u001b[0m",
            "\u001b[0;31mAttributeError\u001b[0m                            Traceback (most recent call last)",
            "\u001b[0;32m<ipython-input-8-4e7325de62ae>\u001b[0m in \u001b[0;36m<cell line: 3>\u001b[0;34m()\u001b[0m\n\u001b[1;32m      1\u001b[0m \u001b[0;32mimport\u001b[0m \u001b[0mmymath\u001b[0m\u001b[0;34m\u001b[0m\u001b[0;34m\u001b[0m\u001b[0m\n\u001b[1;32m      2\u001b[0m \u001b[0mmymath\u001b[0m \u001b[0;34m=\u001b[0m \u001b[0mmymath\u001b[0m\u001b[0;34m.\u001b[0m\u001b[0marea\u001b[0m\u001b[0;34m\u001b[0m\u001b[0;34m\u001b[0m\u001b[0m\n\u001b[0;32m----> 3\u001b[0;31m \u001b[0mmymath\u001b[0m\u001b[0;34m.\u001b[0m\u001b[0mpi\u001b[0m\u001b[0;34m\u001b[0m\u001b[0;34m\u001b[0m\u001b[0m\n\u001b[0m",
            "\u001b[0;31mAttributeError\u001b[0m: 'function' object has no attribute 'pi'"
          ]
        }
      ]
    },
    {
      "cell_type": "code",
      "metadata": {
        "id": "OeTpicFdQIHo",
        "colab": {
          "base_uri": "https://localhost:8080/"
        },
        "outputId": "dcdc7545-e940-4270-c485-2ca7f301cd5f"
      },
      "source": [
        "del list\n",
        "list(\"Peyto Lake\")"
      ],
      "execution_count": null,
      "outputs": [
        {
          "output_type": "execute_result",
          "data": {
            "text/plain": [
              "['P', 'e', 'y', 't', 'o', ' ', 'L', 'a', 'k', 'e']"
            ]
          },
          "metadata": {},
          "execution_count": 12
        }
      ]
    },
    {
      "cell_type": "code",
      "metadata": {
        "id": "-iF8TyyGQIHo",
        "colab": {
          "base_uri": "https://localhost:8080/"
        },
        "outputId": "ea7de5a6-2cd6-436e-d2f0-8335f1cd84c8"
      },
      "source": [
        "import mymath\n",
        "mymath.pi"
      ],
      "execution_count": null,
      "outputs": [
        {
          "output_type": "execute_result",
          "data": {
            "text/plain": [
              "3.14159"
            ]
          },
          "metadata": {},
          "execution_count": 13
        }
      ]
    },
    {
      "cell_type": "code",
      "metadata": {
        "id": "IHuiCFjlQIHo",
        "colab": {
          "base_uri": "https://localhost:8080/"
        },
        "outputId": "690ebdd1-2b58-4e1d-8962-019a27055598"
      },
      "source": [
        "x1 = 6\n",
        "xl = x1 - 2\n",
        "x1"
      ],
      "execution_count": null,
      "outputs": [
        {
          "output_type": "execute_result",
          "data": {
            "text/plain": [
              "6"
            ]
          },
          "metadata": {},
          "execution_count": 14
        }
      ]
    },
    {
      "cell_type": "code",
      "metadata": {
        "id": "X8N9Ef5CQIH0",
        "colab": {
          "base_uri": "https://localhost:8080/"
        },
        "outputId": "eda51fc1-111a-4e62-c9a2-71e0c98bdf90"
      },
      "source": [
        "dir()"
      ],
      "execution_count": null,
      "outputs": [
        {
          "output_type": "execute_result",
          "data": {
            "text/plain": [
              "['In',\n",
              " 'Out',\n",
              " '_',\n",
              " '_1',\n",
              " '_10',\n",
              " '_12',\n",
              " '_13',\n",
              " '_14',\n",
              " '_6',\n",
              " '__',\n",
              " '___',\n",
              " '__builtin__',\n",
              " '__builtins__',\n",
              " '__doc__',\n",
              " '__loader__',\n",
              " '__name__',\n",
              " '__package__',\n",
              " '__spec__',\n",
              " '_dh',\n",
              " '_i',\n",
              " '_i1',\n",
              " '_i10',\n",
              " '_i11',\n",
              " '_i12',\n",
              " '_i13',\n",
              " '_i14',\n",
              " '_i15',\n",
              " '_i2',\n",
              " '_i3',\n",
              " '_i4',\n",
              " '_i5',\n",
              " '_i6',\n",
              " '_i7',\n",
              " '_i8',\n",
              " '_i9',\n",
              " '_ih',\n",
              " '_ii',\n",
              " '_iii',\n",
              " '_oh',\n",
              " 'exit',\n",
              " 'f',\n",
              " 'get_ipython',\n",
              " 'mymath',\n",
              " 'quit',\n",
              " 'x1',\n",
              " 'xl',\n",
              " 'z']"
            ]
          },
          "metadata": {},
          "execution_count": 15
        }
      ]
    },
    {
      "cell_type": "markdown",
      "source": [
        "### Quick Check: Namespaces and scope\n",
        "Consider a variable width that's in the module `make_window.py`. In which of the following contexts is width in scope?:\n",
        "\n",
        " 1. within the module itself\n",
        " 2. inside the `resize()` function in the module\n",
        " 3. within the script that imported the `make_window.py` module\n",
        "\n",
        " **A and B but not C**"
      ],
      "metadata": {
        "id": "M6fLXJSnXqVD"
      }
    },
    {
      "cell_type": "markdown",
      "source": [
        "# Lab 10: Create a module\n",
        "Package the functions created at the end of chapter 9 as a standalone module. Although you can include code to run the module as the main program, the goal should be for the functions to be completely usable from another script. To test, create a new Jupyter notebook and write the code to load and use the module to get the same results as the code in Chapter 9."
      ],
      "metadata": {
        "id": "wfOT4BQhYLEf"
      }
    },
    {
      "cell_type": "code",
      "source": [
        "!wget https://raw.githubusercontent.com/nceder/qpb4e/main/code/Chapter%2006/moby_01.txt &> null  && echo Downloaded"
      ],
      "metadata": {
        "id": "Wp2veTKTp2Nj",
        "outputId": "239a821a-b740-4f4f-abdc-1d76a2784417",
        "colab": {
          "base_uri": "https://localhost:8080/"
        }
      },
      "execution_count": null,
      "outputs": [
        {
          "output_type": "stream",
          "name": "stdout",
          "text": [
            "Downloaded\n"
          ]
        }
      ]
    },
    {
      "cell_type": "code",
      "source": [
        "with open(\"text_processing_author.py\", \"w\") as f:\n",
        "    f.write(r'''\n",
        "# Author's version\n",
        "import string\n",
        "punct = str.maketrans('', '', string.punctuation)\n",
        "\n",
        "def clean_line(line):\n",
        "    \"\"\"changes case and removes punctuation\"\"\"\n",
        "    # make all one case\n",
        "    cleaned_line = line.lower()\n",
        "\n",
        "    # remove punctuation\n",
        "    cleaned_line = cleaned_line.translate(punct)\n",
        "    return cleaned_line\n",
        "\n",
        "\n",
        "def get_words(line):\n",
        "    \"\"\"splits line into words, and rejoins with newlines\"\"\"\n",
        "    words = line.split()\n",
        "    return \"\\n\".join(words) + \"\\n\"\n",
        "\n",
        "\n",
        "def count_words(words):\n",
        "    \"\"\"takes list of cleaned words, returns count dictionary\"\"\"\n",
        "    word_count = {}\n",
        "    for word in words:\n",
        "        count = word_count.setdefault(word, 0)\n",
        "        word_count[word] += 1\n",
        "    return word_count\n",
        "\n",
        "\n",
        "def word_stats(word_count):\n",
        "    \"\"\"Takes word count dictionary and returns top and bottom five entries\"\"\"\n",
        "    word_list = list(word_count.items())\n",
        "    word_list.sort(key=lambda x: x[1])\n",
        "    least_common = word_list[:5]\n",
        "    most_common = word_list[-1:-6:-1]\n",
        "    return most_common, least_common\n",
        "'''\n",
        "    )\n",
        "\n",
        "import text_processing_author\n",
        "\n",
        "\n",
        "with open(\"moby_01.txt\") as infile, open(\"moby_01_clean.txt\", \"w\") as outfile:\n",
        "    for line in infile:\n",
        "        cleaned_line = text_processing_author.clean_line(line)\n",
        "\n",
        "        cleaned_words = text_processing_author.get_words(cleaned_line)\n",
        "\n",
        "        # write all words for line\n",
        "        outfile.write(cleaned_words)\n",
        "\n",
        "moby_words = []\n",
        "with open('moby_01_clean.txt') as infile:\n",
        "    for word in infile:\n",
        "        if word.strip():\n",
        "            moby_words.append(word.strip())\n",
        "\n",
        "\n",
        "word_count = text_processing_author.count_words(moby_words)\n",
        "\n",
        "most, least = text_processing_author.word_stats(word_count)\n",
        "print(\"Most common words:\")\n",
        "for word in most:\n",
        "    print(word)\n",
        "print(\"\\nLeast common words:\")\n",
        "for word in least:\n",
        "    print(word)"
      ],
      "metadata": {
        "id": "Q2zjjWSX02Za",
        "outputId": "37dc84c3-9e6a-4668-b28e-909ab6641b87",
        "colab": {
          "base_uri": "https://localhost:8080/"
        }
      },
      "execution_count": null,
      "outputs": [
        {
          "output_type": "stream",
          "name": "stdout",
          "text": [
            "Most common words:\n",
            "('the', 14)\n",
            "('i', 9)\n",
            "('and', 9)\n",
            "('of', 8)\n",
            "('is', 7)\n",
            "\n",
            "Least common words:\n",
            "('call', 1)\n",
            "('ishmael', 1)\n",
            "('years', 1)\n",
            "('ago', 1)\n",
            "('never', 1)\n"
          ]
        }
      ]
    },
    {
      "cell_type": "code",
      "source": [
        "# refactored code from Copilot\n",
        "import string\n",
        "\n",
        "def clean_line(line):\n",
        "    # Convert the line to lowercase\n",
        "    line = line.lower()\n",
        "\n",
        "    # Remove punctuation from the line\n",
        "    line = line.translate(str.maketrans('', '', string.punctuation))\n",
        "\n",
        "    return line\n",
        "\n",
        "def write_words_to_file(words, output_file):\n",
        "    # Write each word to the output file\n",
        "    for word in words:\n",
        "        output_file.write(word + '\\n')\n",
        "\n",
        "def count_word_occurrences(words):\n",
        "    # Count the occurrences of each word using a dictionary\n",
        "    word_counts = {}\n",
        "    for word in words:\n",
        "        if word in word_counts:\n",
        "            word_counts[word] += 1\n",
        "        else:\n",
        "            word_counts[word] = 1\n",
        "\n",
        "    return word_counts\n",
        "\n",
        "def print_common_words(word_counts, n):\n",
        "    # Sort the word counts in descending order\n",
        "    sorted_word_counts = sorted(word_counts.items(), key=lambda x: x[1], reverse=True)\n",
        "\n",
        "    # Print the n most common words and their occurrences\n",
        "    print(f\"{n} most common words:\")\n",
        "    for word, count in sorted_word_counts[:n]:\n",
        "        print(f\"{word}: {count}\")\n",
        "\n",
        "def print_least_common_words(word_counts, n):\n",
        "    # Sort the word counts in descending order\n",
        "    sorted_word_counts = sorted(word_counts.items(), key=lambda x: x[1], reverse=True)\n",
        "\n",
        "    # Print the n least common words and their occurrences\n",
        "    print(f\"{n} least common words:\")\n",
        "    for word, count in sorted_word_counts[-n:]:\n",
        "        print(f\"{word}: {count}\")\n",
        "\n",
        "def process_file(input_file_path, output_file_path):\n",
        "    # Open the input file for reading\n",
        "    with open(input_file_path, 'r') as input_file:\n",
        "        # Open the output file for writing\n",
        "        with open(output_file_path, 'w') as output_file:\n",
        "            # Iterate over each line in the input file\n",
        "            for line in input_file:\n",
        "                # Clean the line\n",
        "                cleaned_line = clean_line(line)\n",
        "\n",
        "                # Split the line into words\n",
        "                words = cleaned_line.split()\n",
        "\n",
        "                # Write the words to the output file\n",
        "                write_words_to_file(words, output_file)\n",
        "\n",
        "def main():\n",
        "    input_file_path = 'moby_01.txt'\n",
        "    output_file_path = 'moby_01_clean.txt'\n",
        "\n",
        "    # Process the file\n",
        "    process_file(input_file_path, output_file_path)\n",
        "\n",
        "    # Open the file\n",
        "    with open(output_file_path, 'r') as file:\n",
        "        # Read the file content\n",
        "        content = file.read()\n",
        "\n",
        "    # Split the content into words\n",
        "    words = content.split()\n",
        "\n",
        "    # Count word occurrences\n",
        "    word_counts = count_word_occurrences(words)\n",
        "\n",
        "    # Print the five most common words and their occurrences\n",
        "    print_common_words(word_counts, 5)\n",
        "\n",
        "    # Print the five least common words and their occurrences\n",
        "    print_least_common_words(word_counts, 5)\n",
        "\n",
        "if __name__ == \"__main__\":\n",
        "    main()"
      ],
      "metadata": {
        "id": "8fX3Mk7CXklB",
        "colab": {
          "base_uri": "https://localhost:8080/"
        },
        "outputId": "775361a5-9f56-4543-f229-61921a31d823"
      },
      "execution_count": null,
      "outputs": [
        {
          "output_type": "stream",
          "name": "stdout",
          "text": [
            "5 most common words:\n",
            "the: 14\n",
            "and: 9\n",
            "i: 9\n",
            "of: 8\n",
            "is: 7\n",
            "5 least common words:\n",
            "land: 1\n",
            "look: 1\n",
            "at: 1\n",
            "crowds: 1\n",
            "watergazers: 1\n"
          ]
        }
      ]
    },
    {
      "cell_type": "code",
      "source": [
        "# Generated by colaboratory\n",
        "# prompt: Package the functions in the cell above as a standalone module so that\n",
        "#         the module can be used by other code. Then write the code to use the\n",
        "#         module to achieve the same result as the cell above.\n",
        "\n",
        "# Save the functions as a module named \"text_processing.py\"\n",
        "with open(\"text_processing.py\", \"w\") as f:\n",
        "    f.write(r\"\"\"\n",
        "def clean_line(line):\n",
        "    # Convert the line to lowercase\n",
        "    line = line.lower()\n",
        "\n",
        "    # Remove punctuation from the line\n",
        "    line = line.translate(str.maketrans('', '', string.punctuation))\n",
        "\n",
        "    return line\n",
        "\n",
        "def write_words_to_file(words, output_file):\n",
        "    # Write each word to the output file\n",
        "    for word in words:\n",
        "        output_file.write(word + '\\n')\n",
        "\n",
        "def count_word_occurrences(words):\n",
        "    # Count the occurrences of each word using a dictionary\n",
        "    word_counts = {}\n",
        "    for word in words:\n",
        "        if word in word_counts:\n",
        "            word_counts[word] += 1\n",
        "        else:\n",
        "            word_counts[word] = 1\n",
        "\n",
        "    return word_counts\n",
        "\n",
        "def print_common_words(word_counts, n):\n",
        "    # Sort the word counts in descending order\n",
        "    sorted_word_counts = sorted(word_counts.items(), key=lambda x: x[1], reverse=True)\n",
        "\n",
        "    # Print the n most common words and their occurrences\n",
        "    print(f\"{n} most common words:\")\n",
        "    for word, count in sorted_word_counts[:n]:\n",
        "        print(f\"{word}: {count}\")\n",
        "\n",
        "def print_least_common_words(word_counts, n):\n",
        "    # Sort the word counts in descending order\n",
        "    sorted_word_counts = sorted(word_counts.items(), key=lambda x: x[1], reverse=True)\n",
        "\n",
        "    # Print the n least common words and their occurrences\n",
        "    print(f\"{n} least common words:\")\n",
        "    for word, count in sorted_word_counts[-n:]:\n",
        "        print(f\"{word}: {count}\")\n",
        "\n",
        "def process_file(input_file_path, output_file_path):\n",
        "    # Open the input file for reading\n",
        "    with open(input_file_path, 'r') as input_file:\n",
        "        # Open the output file for writing\n",
        "        with open(output_file_path, 'w') as output_file:\n",
        "            # Iterate over each line in the input file\n",
        "            for line in input_file:\n",
        "                # Clean the line\n",
        "                cleaned_line = clean_line(line)\n",
        "\n",
        "                # Split the line into words\n",
        "                words = cleaned_line.split()\n",
        "\n",
        "                # Write the words to the output file\n",
        "                write_words_to_file(words, output_file)\n",
        "\"\"\")\n",
        "\n",
        "# Use the module\n",
        "import text_processing\n",
        "\n",
        "input_file_path = 'moby_01.txt'\n",
        "output_file_path = 'moby_01_clean.txt'\n",
        "\n",
        "# Process the file\n",
        "text_processing.process_file(input_file_path, output_file_path)\n",
        "\n",
        "# Open the file\n",
        "with open(output_file_path, 'r') as file:\n",
        "    # Read the file content\n",
        "    content = file.read()\n",
        "\n",
        "# Split the content into words\n",
        "words = content.split()\n",
        "\n",
        "# Count word occurrences\n",
        "word_counts = text_processing.count_word_occurrences(words)\n",
        "\n",
        "# Print the five most common words and their occurrences\n",
        "text_processing.print_common_words(word_counts, 5)\n",
        "\n",
        "# Print the five least common words and their occurrences\n",
        "text_processing.print_least_common_words(word_counts, 5)\n"
      ],
      "metadata": {
        "id": "MT3L-QMVpQ3M",
        "outputId": "77bdc942-8e95-47d2-8366-5f21a99dfe68",
        "colab": {
          "base_uri": "https://localhost:8080/",
          "height": 356
        }
      },
      "execution_count": null,
      "outputs": [
        {
          "output_type": "error",
          "ename": "NameError",
          "evalue": "name 'string' is not defined",
          "traceback": [
            "\u001b[0;31m---------------------------------------------------------------------------\u001b[0m",
            "\u001b[0;31mNameError\u001b[0m                                 Traceback (most recent call last)",
            "\u001b[0;32m<ipython-input-2-472b2a5e47db>\u001b[0m in \u001b[0;36m<cell line: 76>\u001b[0;34m()\u001b[0m\n\u001b[1;32m     74\u001b[0m \u001b[0;34m\u001b[0m\u001b[0m\n\u001b[1;32m     75\u001b[0m \u001b[0;31m# Process the file\u001b[0m\u001b[0;34m\u001b[0m\u001b[0;34m\u001b[0m\u001b[0m\n\u001b[0;32m---> 76\u001b[0;31m \u001b[0mtext_processing\u001b[0m\u001b[0;34m.\u001b[0m\u001b[0mprocess_file\u001b[0m\u001b[0;34m(\u001b[0m\u001b[0minput_file_path\u001b[0m\u001b[0;34m,\u001b[0m \u001b[0moutput_file_path\u001b[0m\u001b[0;34m)\u001b[0m\u001b[0;34m\u001b[0m\u001b[0;34m\u001b[0m\u001b[0m\n\u001b[0m\u001b[1;32m     77\u001b[0m \u001b[0;34m\u001b[0m\u001b[0m\n\u001b[1;32m     78\u001b[0m \u001b[0;31m# Open the file\u001b[0m\u001b[0;34m\u001b[0m\u001b[0;34m\u001b[0m\u001b[0m\n",
            "\u001b[0;32m/content/text_processing.py\u001b[0m in \u001b[0;36mprocess_file\u001b[0;34m(input_file_path, output_file_path)\u001b[0m\n\u001b[1;32m     51\u001b[0m             \u001b[0;32mfor\u001b[0m \u001b[0mline\u001b[0m \u001b[0;32min\u001b[0m \u001b[0minput_file\u001b[0m\u001b[0;34m:\u001b[0m\u001b[0;34m\u001b[0m\u001b[0;34m\u001b[0m\u001b[0m\n\u001b[1;32m     52\u001b[0m                 \u001b[0;31m# Clean the line\u001b[0m\u001b[0;34m\u001b[0m\u001b[0;34m\u001b[0m\u001b[0m\n\u001b[0;32m---> 53\u001b[0;31m                 \u001b[0mcleaned_line\u001b[0m \u001b[0;34m=\u001b[0m \u001b[0mclean_line\u001b[0m\u001b[0;34m(\u001b[0m\u001b[0mline\u001b[0m\u001b[0;34m)\u001b[0m\u001b[0;34m\u001b[0m\u001b[0;34m\u001b[0m\u001b[0m\n\u001b[0m\u001b[1;32m     54\u001b[0m \u001b[0;34m\u001b[0m\u001b[0m\n\u001b[1;32m     55\u001b[0m                 \u001b[0;31m# Split the line into words\u001b[0m\u001b[0;34m\u001b[0m\u001b[0;34m\u001b[0m\u001b[0m\n",
            "\u001b[0;32m/content/text_processing.py\u001b[0m in \u001b[0;36mclean_line\u001b[0;34m(line)\u001b[0m\n\u001b[1;32m      5\u001b[0m \u001b[0;34m\u001b[0m\u001b[0m\n\u001b[1;32m      6\u001b[0m     \u001b[0;31m# Remove punctuation from the line\u001b[0m\u001b[0;34m\u001b[0m\u001b[0;34m\u001b[0m\u001b[0m\n\u001b[0;32m----> 7\u001b[0;31m     \u001b[0mline\u001b[0m \u001b[0;34m=\u001b[0m \u001b[0mline\u001b[0m\u001b[0;34m.\u001b[0m\u001b[0mtranslate\u001b[0m\u001b[0;34m(\u001b[0m\u001b[0mstr\u001b[0m\u001b[0;34m.\u001b[0m\u001b[0mmaketrans\u001b[0m\u001b[0;34m(\u001b[0m\u001b[0;34m''\u001b[0m\u001b[0;34m,\u001b[0m \u001b[0;34m''\u001b[0m\u001b[0;34m,\u001b[0m \u001b[0mstring\u001b[0m\u001b[0;34m.\u001b[0m\u001b[0mpunctuation\u001b[0m\u001b[0;34m)\u001b[0m\u001b[0;34m)\u001b[0m\u001b[0;34m\u001b[0m\u001b[0;34m\u001b[0m\u001b[0m\n\u001b[0m\u001b[1;32m      8\u001b[0m \u001b[0;34m\u001b[0m\u001b[0m\n\u001b[1;32m      9\u001b[0m     \u001b[0;32mreturn\u001b[0m \u001b[0mline\u001b[0m\u001b[0;34m\u001b[0m\u001b[0;34m\u001b[0m\u001b[0m\n",
            "\u001b[0;31mNameError\u001b[0m: name 'string' is not defined"
          ]
        }
      ]
    },
    {
      "cell_type": "markdown",
      "source": [
        "* add r before file string (otherwise \\\\n in line 14 is written as linefeed).\n",
        "* import string in line 1 of module."
      ],
      "metadata": {
        "id": "t2oUzZAGrqwB"
      }
    },
    {
      "cell_type": "markdown",
      "source": [
        "The Copilot chatbot did not produce any code that matched the requirements in the prompt."
      ],
      "metadata": {
        "id": "X61DA4oGss9-"
      }
    },
    {
      "cell_type": "code",
      "source": [],
      "metadata": {
        "id": "S0aU1YkdszFc"
      },
      "execution_count": null,
      "outputs": []
    }
  ]
}