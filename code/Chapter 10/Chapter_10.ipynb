{
  "nbformat": 4,
  "nbformat_minor": 0,
  "metadata": {
    "colab": {
      "provenance": [],
      "include_colab_link": true
    },
    "kernelspec": {
      "name": "python3",
      "display_name": "Python 3"
    },
    "language_info": {
      "name": "python"
    }
  },
  "cells": [
    {
      "cell_type": "markdown",
      "metadata": {
        "id": "view-in-github",
        "colab_type": "text"
      },
      "source": [
        "<a href=\"https://colab.research.google.com/github/nceder/qpb4e/blob/main/code/Chapter%2010/Chapter_10.ipynb\" target=\"_parent\"><img src=\"https://colab.research.google.com/assets/colab-badge.svg\" alt=\"Open In Colab\"/></a>"
      ]
    },
    {
      "cell_type": "markdown",
      "source": [
        "# 10 Modules and scoping rules\n",
        "\n",
        "# 10.2 A first module"
      ],
      "metadata": {
        "id": "C-jdZSY2Rc-y"
      }
    },
    {
      "cell_type": "code",
      "source": [
        "open(\"mymath.py\", \"w\").write(\n",
        "'''\"\"\"mymath - our example math module\"\"\"\n",
        "pi = 3.14159\n",
        "def area(r):\n",
        "    \"\"\"area(r): return the area of a circle with radius r.\"\"\"\n",
        "    return(pi * r * r)\n",
        "''')"
      ],
      "metadata": {
        "colab": {
          "base_uri": "https://localhost:8080/"
        },
        "id": "eC41JX_SQJmG",
        "outputId": "3fa51875-927d-472a-c720-aa0cdc8b2338"
      },
      "execution_count": 1,
      "outputs": [
        {
          "output_type": "execute_result",
          "data": {
            "text/plain": [
              "151"
            ]
          },
          "metadata": {},
          "execution_count": 1
        }
      ]
    },
    {
      "cell_type": "code",
      "metadata": {
        "id": "jRgUz_qjQIHb",
        "colab": {
          "base_uri": "https://localhost:8080/",
          "height": 141
        },
        "outputId": "c68f0fa3-34c4-409a-da3d-5a10f65019f5"
      },
      "source": [
        "pi"
      ],
      "execution_count": 1,
      "outputs": [
        {
          "output_type": "error",
          "ename": "NameError",
          "evalue": "name 'pi' is not defined",
          "traceback": [
            "\u001b[0;31m---------------------------------------------------------------------------\u001b[0m",
            "\u001b[0;31mNameError\u001b[0m                                 Traceback (most recent call last)",
            "\u001b[0;32m<ipython-input-1-f84ab820532c>\u001b[0m in \u001b[0;36m<cell line: 1>\u001b[0;34m()\u001b[0m\n\u001b[0;32m----> 1\u001b[0;31m \u001b[0mpi\u001b[0m\u001b[0;34m\u001b[0m\u001b[0;34m\u001b[0m\u001b[0m\n\u001b[0m",
            "\u001b[0;31mNameError\u001b[0m: name 'pi' is not defined"
          ]
        }
      ]
    },
    {
      "cell_type": "code",
      "metadata": {
        "id": "uvMejn7eQIHd",
        "colab": {
          "base_uri": "https://localhost:8080/",
          "height": 141
        },
        "outputId": "0c0ef5b8-04db-4b32-84f5-33c1f70c3895"
      },
      "source": [
        "area(2)"
      ],
      "execution_count": 2,
      "outputs": [
        {
          "output_type": "error",
          "ename": "NameError",
          "evalue": "name 'area' is not defined",
          "traceback": [
            "\u001b[0;31m---------------------------------------------------------------------------\u001b[0m",
            "\u001b[0;31mNameError\u001b[0m                                 Traceback (most recent call last)",
            "\u001b[0;32m<ipython-input-2-8be925061d22>\u001b[0m in \u001b[0;36m<cell line: 1>\u001b[0;34m()\u001b[0m\n\u001b[0;32m----> 1\u001b[0;31m \u001b[0marea\u001b[0m\u001b[0;34m(\u001b[0m\u001b[0;36m2\u001b[0m\u001b[0;34m)\u001b[0m\u001b[0;34m\u001b[0m\u001b[0;34m\u001b[0m\u001b[0m\n\u001b[0m",
            "\u001b[0;31mNameError\u001b[0m: name 'area' is not defined"
          ]
        }
      ]
    },
    {
      "cell_type": "code",
      "metadata": {
        "id": "VIS-iqkKQIHe",
        "colab": {
          "base_uri": "https://localhost:8080/",
          "height": 159
        },
        "outputId": "35651994-a473-4e44-fcfd-d333da8877f7"
      },
      "source": [
        "import mymath\n",
        "pi"
      ],
      "execution_count": 2,
      "outputs": [
        {
          "output_type": "error",
          "ename": "NameError",
          "evalue": "name 'pi' is not defined",
          "traceback": [
            "\u001b[0;31m---------------------------------------------------------------------------\u001b[0m",
            "\u001b[0;31mNameError\u001b[0m                                 Traceback (most recent call last)",
            "\u001b[0;32m<ipython-input-2-85b32257cf04>\u001b[0m in \u001b[0;36m<cell line: 2>\u001b[0;34m()\u001b[0m\n\u001b[1;32m      1\u001b[0m \u001b[0;32mimport\u001b[0m \u001b[0mmymath\u001b[0m\u001b[0;34m\u001b[0m\u001b[0;34m\u001b[0m\u001b[0m\n\u001b[0;32m----> 2\u001b[0;31m \u001b[0mpi\u001b[0m\u001b[0;34m\u001b[0m\u001b[0;34m\u001b[0m\u001b[0m\n\u001b[0m",
            "\u001b[0;31mNameError\u001b[0m: name 'pi' is not defined"
          ]
        }
      ]
    },
    {
      "cell_type": "code",
      "metadata": {
        "id": "12y-aTDMQIHe",
        "colab": {
          "base_uri": "https://localhost:8080/"
        },
        "outputId": "abae4c7c-7695-4ac7-92c9-f83e534c1ae6"
      },
      "source": [
        "mymath.pi"
      ],
      "execution_count": 5,
      "outputs": [
        {
          "output_type": "execute_result",
          "data": {
            "text/plain": [
              "3.14159"
            ]
          },
          "metadata": {},
          "execution_count": 5
        }
      ]
    },
    {
      "cell_type": "code",
      "metadata": {
        "id": "ylXhBIlSQIHf",
        "colab": {
          "base_uri": "https://localhost:8080/"
        },
        "outputId": "7996ee4d-6c16-4b57-f1b8-16d2b75228e7"
      },
      "source": [
        "mymath.area(2)"
      ],
      "execution_count": 6,
      "outputs": [
        {
          "output_type": "execute_result",
          "data": {
            "text/plain": [
              "12.56636"
            ]
          },
          "metadata": {},
          "execution_count": 6
        }
      ]
    },
    {
      "cell_type": "code",
      "metadata": {
        "id": "YMOolAmLQIHf",
        "colab": {
          "base_uri": "https://localhost:8080/",
          "height": 35
        },
        "outputId": "2f8f89ee-3460-4967-fbce-2b9003702e1a"
      },
      "source": [
        "mymath.__doc__"
      ],
      "execution_count": 7,
      "outputs": [
        {
          "output_type": "execute_result",
          "data": {
            "text/plain": [
              "'mymath - our example math module'"
            ],
            "application/vnd.google.colaboratory.intrinsic+json": {
              "type": "string"
            }
          },
          "metadata": {},
          "execution_count": 7
        }
      ]
    },
    {
      "cell_type": "code",
      "metadata": {
        "id": "fBUR1Z_bQIHf",
        "colab": {
          "base_uri": "https://localhost:8080/",
          "height": 35
        },
        "outputId": "25f7d3b2-bc0e-4957-c11e-3308e0dd2bf9"
      },
      "source": [
        "mymath.area.__doc__"
      ],
      "execution_count": 8,
      "outputs": [
        {
          "output_type": "execute_result",
          "data": {
            "text/plain": [
              "'area(r): return the area of a circle with radius r.'"
            ],
            "application/vnd.google.colaboratory.intrinsic+json": {
              "type": "string"
            }
          },
          "metadata": {},
          "execution_count": 8
        }
      ]
    },
    {
      "cell_type": "code",
      "metadata": {
        "id": "D2TT6OdjQIHg",
        "colab": {
          "base_uri": "https://localhost:8080/"
        },
        "outputId": "e5c04cb4-8a17-450f-9d16-94c53d526348"
      },
      "source": [
        "from mymath import pi\n",
        "pi"
      ],
      "execution_count": 9,
      "outputs": [
        {
          "output_type": "execute_result",
          "data": {
            "text/plain": [
              "3.14159"
            ]
          },
          "metadata": {},
          "execution_count": 9
        }
      ]
    },
    {
      "cell_type": "code",
      "metadata": {
        "id": "DtlNqMAFQIHg",
        "colab": {
          "base_uri": "https://localhost:8080/",
          "height": 141
        },
        "outputId": "9ebf9c14-48e3-499b-93a0-b99c710647fb"
      },
      "source": [
        "area(2)"
      ],
      "execution_count": 10,
      "outputs": [
        {
          "output_type": "error",
          "ename": "NameError",
          "evalue": "name 'area' is not defined",
          "traceback": [
            "\u001b[0;31m---------------------------------------------------------------------------\u001b[0m",
            "\u001b[0;31mNameError\u001b[0m                                 Traceback (most recent call last)",
            "\u001b[0;32m<ipython-input-10-8be925061d22>\u001b[0m in \u001b[0;36m<cell line: 1>\u001b[0;34m()\u001b[0m\n\u001b[0;32m----> 1\u001b[0;31m \u001b[0marea\u001b[0m\u001b[0;34m(\u001b[0m\u001b[0;36m2\u001b[0m\u001b[0;34m)\u001b[0m\u001b[0;34m\u001b[0m\u001b[0;34m\u001b[0m\u001b[0m\n\u001b[0m",
            "\u001b[0;31mNameError\u001b[0m: name 'area' is not defined"
          ]
        }
      ]
    },
    {
      "cell_type": "code",
      "metadata": {
        "id": "MTMSTiCrQIHh",
        "colab": {
          "base_uri": "https://localhost:8080/"
        },
        "outputId": "8783f351-05c7-44d4-debd-d247591a8679"
      },
      "source": [
        "import mymath, importlib\n",
        "importlib.reload(mymath)"
      ],
      "execution_count": 11,
      "outputs": [
        {
          "output_type": "execute_result",
          "data": {
            "text/plain": [
              "<module 'mymath' from '/content/mymath.py'>"
            ]
          },
          "metadata": {},
          "execution_count": 11
        }
      ]
    },
    {
      "cell_type": "markdown",
      "source": [
        "# 10.4 The module search path"
      ],
      "metadata": {
        "id": "ejwLhgI0SBhi"
      }
    },
    {
      "cell_type": "code",
      "metadata": {
        "id": "C8p-QRLuQIHh",
        "colab": {
          "base_uri": "https://localhost:8080/"
        },
        "outputId": "aacbaccb-1733-482a-ebd2-0218e7904fb4"
      },
      "source": [
        "import sys\n",
        "sys.path"
      ],
      "execution_count": 12,
      "outputs": [
        {
          "output_type": "execute_result",
          "data": {
            "text/plain": [
              "['/content',\n",
              " '/env/python',\n",
              " '/usr/lib/python310.zip',\n",
              " '/usr/lib/python3.10',\n",
              " '/usr/lib/python3.10/lib-dynload',\n",
              " '',\n",
              " '/usr/local/lib/python3.10/dist-packages',\n",
              " '/usr/lib/python3/dist-packages',\n",
              " '/usr/local/lib/python3.10/dist-packages/IPython/extensions',\n",
              " '/root/.ipython']"
            ]
          },
          "metadata": {},
          "execution_count": 12
        }
      ]
    },
    {
      "cell_type": "markdown",
      "source": [
        "# 10.5 Private names in modules"
      ],
      "metadata": {
        "id": "8jJwr8D0SwXX"
      }
    },
    {
      "cell_type": "code",
      "metadata": {
        "id": "9fyASMnvQIHi",
        "colab": {
          "base_uri": "https://localhost:8080/"
        },
        "outputId": "f3be1125-349c-4c68-e992-c8cf5a3eefc5"
      },
      "source": [
        "open(\"modtest.py\", \"w\").write(\n",
        "'''\"\"\"modtest: our test module\"\"\"\n",
        "def f(x):\n",
        "    return x\n",
        "def _g(x):\n",
        "    return x\n",
        "a = 4\n",
        "_b = 2\n",
        "''')"
      ],
      "execution_count": 13,
      "outputs": [
        {
          "output_type": "execute_result",
          "data": {
            "text/plain": [
              "91"
            ]
          },
          "metadata": {},
          "execution_count": 13
        }
      ]
    },
    {
      "cell_type": "code",
      "metadata": {
        "id": "wAYZJv3oQIHi",
        "colab": {
          "base_uri": "https://localhost:8080/"
        },
        "outputId": "68ce3585-f9c9-431f-923e-d9d3cdf5833f"
      },
      "source": [
        "from modtest import *\n",
        "f(3)"
      ],
      "execution_count": 14,
      "outputs": [
        {
          "output_type": "execute_result",
          "data": {
            "text/plain": [
              "3"
            ]
          },
          "metadata": {},
          "execution_count": 14
        }
      ]
    },
    {
      "cell_type": "code",
      "metadata": {
        "id": "cfw30CZXQIHi",
        "colab": {
          "base_uri": "https://localhost:8080/",
          "height": 141
        },
        "outputId": "1691184a-48fd-4f54-eb97-9e6c1a7da47b"
      },
      "source": [
        "_g(3)"
      ],
      "execution_count": 15,
      "outputs": [
        {
          "output_type": "error",
          "ename": "NameError",
          "evalue": "name '_g' is not defined",
          "traceback": [
            "\u001b[0;31m---------------------------------------------------------------------------\u001b[0m",
            "\u001b[0;31mNameError\u001b[0m                                 Traceback (most recent call last)",
            "\u001b[0;32m<ipython-input-15-787abdf7161a>\u001b[0m in \u001b[0;36m<cell line: 1>\u001b[0;34m()\u001b[0m\n\u001b[0;32m----> 1\u001b[0;31m \u001b[0m_g\u001b[0m\u001b[0;34m(\u001b[0m\u001b[0;36m3\u001b[0m\u001b[0;34m)\u001b[0m\u001b[0;34m\u001b[0m\u001b[0;34m\u001b[0m\u001b[0m\n\u001b[0m",
            "\u001b[0;31mNameError\u001b[0m: name '_g' is not defined"
          ]
        }
      ]
    },
    {
      "cell_type": "code",
      "metadata": {
        "id": "xqNHiSibQIHi",
        "colab": {
          "base_uri": "https://localhost:8080/"
        },
        "outputId": "27bb3b8c-afa8-4d6a-8627-c48ca3f036b8"
      },
      "source": [
        "a"
      ],
      "execution_count": 16,
      "outputs": [
        {
          "output_type": "execute_result",
          "data": {
            "text/plain": [
              "4"
            ]
          },
          "metadata": {},
          "execution_count": 16
        }
      ]
    },
    {
      "cell_type": "code",
      "metadata": {
        "id": "pHSASbQZQIHj",
        "colab": {
          "base_uri": "https://localhost:8080/",
          "height": 141
        },
        "outputId": "d85972a8-3c78-44a7-ba1f-73386adb6bb8"
      },
      "source": [
        "_b"
      ],
      "execution_count": 17,
      "outputs": [
        {
          "output_type": "error",
          "ename": "NameError",
          "evalue": "name '_b' is not defined",
          "traceback": [
            "\u001b[0;31m---------------------------------------------------------------------------\u001b[0m",
            "\u001b[0;31mNameError\u001b[0m                                 Traceback (most recent call last)",
            "\u001b[0;32m<ipython-input-17-8352e74fe22a>\u001b[0m in \u001b[0;36m<cell line: 1>\u001b[0;34m()\u001b[0m\n\u001b[0;32m----> 1\u001b[0;31m \u001b[0m_b\u001b[0m\u001b[0;34m\u001b[0m\u001b[0;34m\u001b[0m\u001b[0m\n\u001b[0m",
            "\u001b[0;31mNameError\u001b[0m: name '_b' is not defined"
          ]
        }
      ]
    },
    {
      "cell_type": "code",
      "metadata": {
        "id": "5DrFissvQIHj",
        "colab": {
          "base_uri": "https://localhost:8080/"
        },
        "outputId": "e447888c-5525-4551-b5f2-77c2754c61bf"
      },
      "source": [
        "import modtest\n",
        "modtest._b"
      ],
      "execution_count": 18,
      "outputs": [
        {
          "output_type": "execute_result",
          "data": {
            "text/plain": [
              "2"
            ]
          },
          "metadata": {},
          "execution_count": 18
        }
      ]
    },
    {
      "cell_type": "code",
      "metadata": {
        "id": "Ekeax76XQIHj",
        "colab": {
          "base_uri": "https://localhost:8080/"
        },
        "outputId": "3aaba67d-83f2-4867-8471-8c939fc9bef9"
      },
      "source": [
        "from modtest import _g\n",
        "_g(5)"
      ],
      "execution_count": 19,
      "outputs": [
        {
          "output_type": "execute_result",
          "data": {
            "text/plain": [
              "5"
            ]
          },
          "metadata": {},
          "execution_count": 19
        }
      ]
    },
    {
      "cell_type": "markdown",
      "source": [
        "# 10.6 Library and third-party modules"
      ],
      "metadata": {
        "id": "HUz6HBVaT15p"
      }
    },
    {
      "cell_type": "markdown",
      "source": [
        "### Quick Check: Modules\n",
        "Suppose that you have a module called `new_math` that contains a function called `new_divide`. What are the ways that you might import and then use that function? What are the pros and cons of each method?\n",
        "\n",
        "Suppose that the new_math module contains a function called `_helper_mat-h()`. How will the underscore character affect the way that `_helper_math()` is imported?"
      ],
      "metadata": {
        "id": "5BUEPpirT8JQ"
      }
    },
    {
      "cell_type": "markdown",
      "source": [
        "# 10.7 Python scoping rules and namespaces"
      ],
      "metadata": {
        "id": "QroaWNq6UTuj"
      }
    },
    {
      "cell_type": "code",
      "metadata": {
        "id": "-dC1Qb1DQIHj",
        "colab": {
          "base_uri": "https://localhost:8080/"
        },
        "outputId": "87f3b91d-08d9-4aa7-e043-adc1631ec8db"
      },
      "source": [
        "locals()"
      ],
      "execution_count": 20,
      "outputs": [
        {
          "output_type": "execute_result",
          "data": {
            "text/plain": [
              "{'__name__': '__main__',\n",
              " '__doc__': 'Automatically created module for IPython interactive environment',\n",
              " '__package__': None,\n",
              " '__loader__': None,\n",
              " '__spec__': None,\n",
              " '__builtin__': <module 'builtins' (built-in)>,\n",
              " '__builtins__': <module 'builtins' (built-in)>,\n",
              " '_ih': ['',\n",
              "  'open(\"mymath.py\", \"w\").write(\\n\\'\\'\\'\"\"\"mymath - our example math module\"\"\"\\npi = 3.14159\\ndef area(r):\\n    \"\"\"area(r): return the area of a circle with radius r.\"\"\"\\n    return(pi * r * r) \\n\\'\\'\\')',\n",
              "  'import mymath\\npi',\n",
              "  'mymath.pi',\n",
              "  'mymath.area(2)',\n",
              "  'mymath.pi',\n",
              "  'mymath.area(2)',\n",
              "  'mymath.__doc__',\n",
              "  'mymath.area.__doc__',\n",
              "  'from mymath import pi\\npi',\n",
              "  'area(2)',\n",
              "  'import mymath, importlib\\nimportlib.reload(mymath)',\n",
              "  'import sys\\nsys.path',\n",
              "  'open(\"modtest.py\", \"w\").write(\\n\\'\\'\\'\"\"\"modtest: our test module\"\"\"\\ndef f(x):\\n    return x\\ndef _g(x):\\n    return x\\na = 4\\n_b = 2\\n\\'\\'\\')',\n",
              "  'from modtest import *\\nf(3)',\n",
              "  '_g(3)',\n",
              "  'a',\n",
              "  '_b',\n",
              "  'import modtest\\nmodtest._b',\n",
              "  'from modtest import _g\\n_g(5)',\n",
              "  'locals()'],\n",
              " '_oh': {1: 151,\n",
              "  3: 3.14159,\n",
              "  4: 12.56636,\n",
              "  5: 3.14159,\n",
              "  6: 12.56636,\n",
              "  7: 'mymath - our example math module',\n",
              "  8: 'area(r): return the area of a circle with radius r.',\n",
              "  9: 3.14159,\n",
              "  11: <module 'mymath' from '/content/mymath.py'>,\n",
              "  12: ['/content',\n",
              "   '/env/python',\n",
              "   '/usr/lib/python310.zip',\n",
              "   '/usr/lib/python3.10',\n",
              "   '/usr/lib/python3.10/lib-dynload',\n",
              "   '',\n",
              "   '/usr/local/lib/python3.10/dist-packages',\n",
              "   '/usr/lib/python3/dist-packages',\n",
              "   '/usr/local/lib/python3.10/dist-packages/IPython/extensions',\n",
              "   '/root/.ipython'],\n",
              "  13: 91,\n",
              "  14: 3,\n",
              "  16: 4,\n",
              "  18: 2,\n",
              "  19: 5},\n",
              " '_dh': ['/content'],\n",
              " 'In': ['',\n",
              "  'open(\"mymath.py\", \"w\").write(\\n\\'\\'\\'\"\"\"mymath - our example math module\"\"\"\\npi = 3.14159\\ndef area(r):\\n    \"\"\"area(r): return the area of a circle with radius r.\"\"\"\\n    return(pi * r * r) \\n\\'\\'\\')',\n",
              "  'import mymath\\npi',\n",
              "  'mymath.pi',\n",
              "  'mymath.area(2)',\n",
              "  'mymath.pi',\n",
              "  'mymath.area(2)',\n",
              "  'mymath.__doc__',\n",
              "  'mymath.area.__doc__',\n",
              "  'from mymath import pi\\npi',\n",
              "  'area(2)',\n",
              "  'import mymath, importlib\\nimportlib.reload(mymath)',\n",
              "  'import sys\\nsys.path',\n",
              "  'open(\"modtest.py\", \"w\").write(\\n\\'\\'\\'\"\"\"modtest: our test module\"\"\"\\ndef f(x):\\n    return x\\ndef _g(x):\\n    return x\\na = 4\\n_b = 2\\n\\'\\'\\')',\n",
              "  'from modtest import *\\nf(3)',\n",
              "  '_g(3)',\n",
              "  'a',\n",
              "  '_b',\n",
              "  'import modtest\\nmodtest._b',\n",
              "  'from modtest import _g\\n_g(5)',\n",
              "  'locals()'],\n",
              " 'Out': {1: 151,\n",
              "  3: 3.14159,\n",
              "  4: 12.56636,\n",
              "  5: 3.14159,\n",
              "  6: 12.56636,\n",
              "  7: 'mymath - our example math module',\n",
              "  8: 'area(r): return the area of a circle with radius r.',\n",
              "  9: 3.14159,\n",
              "  11: <module 'mymath' from '/content/mymath.py'>,\n",
              "  12: ['/content',\n",
              "   '/env/python',\n",
              "   '/usr/lib/python310.zip',\n",
              "   '/usr/lib/python3.10',\n",
              "   '/usr/lib/python3.10/lib-dynload',\n",
              "   '',\n",
              "   '/usr/local/lib/python3.10/dist-packages',\n",
              "   '/usr/lib/python3/dist-packages',\n",
              "   '/usr/local/lib/python3.10/dist-packages/IPython/extensions',\n",
              "   '/root/.ipython'],\n",
              "  13: 91,\n",
              "  14: 3,\n",
              "  16: 4,\n",
              "  18: 2,\n",
              "  19: 5},\n",
              " 'get_ipython': <bound method InteractiveShell.get_ipython of <google.colab._shell.Shell object at 0x79621d7d78b0>>,\n",
              " 'exit': <IPython.core.autocall.ZMQExitAutocall at 0x79621d7d7e50>,\n",
              " 'quit': <IPython.core.autocall.ZMQExitAutocall at 0x79621d7d7e50>,\n",
              " '_': 5,\n",
              " '__': 2,\n",
              " '___': 4,\n",
              " '_i': 'from modtest import _g\\n_g(5)',\n",
              " '_ii': 'import modtest\\nmodtest._b',\n",
              " '_iii': '_b',\n",
              " '_i1': 'open(\"mymath.py\", \"w\").write(\\n\\'\\'\\'\"\"\"mymath - our example math module\"\"\"\\npi = 3.14159\\ndef area(r):\\n    \"\"\"area(r): return the area of a circle with radius r.\"\"\"\\n    return(pi * r * r) \\n\\'\\'\\')',\n",
              " '_1': 151,\n",
              " '_i2': 'import mymath\\npi',\n",
              " 'mymath': <module 'mymath' from '/content/mymath.py'>,\n",
              " '_i3': 'mymath.pi',\n",
              " '_3': 3.14159,\n",
              " '_i4': 'mymath.area(2)',\n",
              " '_4': 12.56636,\n",
              " '_i5': 'mymath.pi',\n",
              " '_5': 3.14159,\n",
              " '_i6': 'mymath.area(2)',\n",
              " '_6': 12.56636,\n",
              " '_i7': 'mymath.__doc__',\n",
              " '_7': 'mymath - our example math module',\n",
              " '_i8': 'mymath.area.__doc__',\n",
              " '_8': 'area(r): return the area of a circle with radius r.',\n",
              " '_i9': 'from mymath import pi\\npi',\n",
              " 'pi': 3.14159,\n",
              " '_9': 3.14159,\n",
              " '_i10': 'area(2)',\n",
              " '_i11': 'import mymath, importlib\\nimportlib.reload(mymath)',\n",
              " 'importlib': <module 'importlib' from '/usr/lib/python3.10/importlib/__init__.py'>,\n",
              " '_11': <module 'mymath' from '/content/mymath.py'>,\n",
              " '_i12': 'import sys\\nsys.path',\n",
              " 'sys': <module 'sys' (built-in)>,\n",
              " '_12': ['/content',\n",
              "  '/env/python',\n",
              "  '/usr/lib/python310.zip',\n",
              "  '/usr/lib/python3.10',\n",
              "  '/usr/lib/python3.10/lib-dynload',\n",
              "  '',\n",
              "  '/usr/local/lib/python3.10/dist-packages',\n",
              "  '/usr/lib/python3/dist-packages',\n",
              "  '/usr/local/lib/python3.10/dist-packages/IPython/extensions',\n",
              "  '/root/.ipython'],\n",
              " '_i13': 'open(\"modtest.py\", \"w\").write(\\n\\'\\'\\'\"\"\"modtest: our test module\"\"\"\\ndef f(x):\\n    return x\\ndef _g(x):\\n    return x\\na = 4\\n_b = 2\\n\\'\\'\\')',\n",
              " '_13': 91,\n",
              " '_i14': 'from modtest import *\\nf(3)',\n",
              " 'f': <function modtest.f(x)>,\n",
              " 'a': 4,\n",
              " '_14': 3,\n",
              " '_i15': '_g(3)',\n",
              " '_i16': 'a',\n",
              " '_16': 4,\n",
              " '_i17': '_b',\n",
              " '_i18': 'import modtest\\nmodtest._b',\n",
              " 'modtest': <module 'modtest' from '/content/modtest.py'>,\n",
              " '_18': 2,\n",
              " '_i19': 'from modtest import _g\\n_g(5)',\n",
              " '_g': <function modtest._g(x)>,\n",
              " '_19': 5,\n",
              " '_i20': 'locals()'}"
            ]
          },
          "metadata": {},
          "execution_count": 20
        }
      ]
    },
    {
      "cell_type": "code",
      "metadata": {
        "id": "Oy4MgtPzQIHk",
        "colab": {
          "base_uri": "https://localhost:8080/"
        },
        "outputId": "fea58e23-33e2-47e9-b47f-419391524095"
      },
      "source": [
        "globals()"
      ],
      "execution_count": 21,
      "outputs": [
        {
          "output_type": "execute_result",
          "data": {
            "text/plain": [
              "{'__name__': '__main__',\n",
              " '__doc__': 'Automatically created module for IPython interactive environment',\n",
              " '__package__': None,\n",
              " '__loader__': None,\n",
              " '__spec__': None,\n",
              " '__builtin__': <module 'builtins' (built-in)>,\n",
              " '__builtins__': <module 'builtins' (built-in)>,\n",
              " '_ih': ['',\n",
              "  'open(\"mymath.py\", \"w\").write(\\n\\'\\'\\'\"\"\"mymath - our example math module\"\"\"\\npi = 3.14159\\ndef area(r):\\n    \"\"\"area(r): return the area of a circle with radius r.\"\"\"\\n    return(pi * r * r) \\n\\'\\'\\')',\n",
              "  'import mymath\\npi',\n",
              "  'mymath.pi',\n",
              "  'mymath.area(2)',\n",
              "  'mymath.pi',\n",
              "  'mymath.area(2)',\n",
              "  'mymath.__doc__',\n",
              "  'mymath.area.__doc__',\n",
              "  'from mymath import pi\\npi',\n",
              "  'area(2)',\n",
              "  'import mymath, importlib\\nimportlib.reload(mymath)',\n",
              "  'import sys\\nsys.path',\n",
              "  'open(\"modtest.py\", \"w\").write(\\n\\'\\'\\'\"\"\"modtest: our test module\"\"\"\\ndef f(x):\\n    return x\\ndef _g(x):\\n    return x\\na = 4\\n_b = 2\\n\\'\\'\\')',\n",
              "  'from modtest import *\\nf(3)',\n",
              "  '_g(3)',\n",
              "  'a',\n",
              "  '_b',\n",
              "  'import modtest\\nmodtest._b',\n",
              "  'from modtest import _g\\n_g(5)',\n",
              "  'locals()',\n",
              "  'globals()'],\n",
              " '_oh': {1: 151,\n",
              "  3: 3.14159,\n",
              "  4: 12.56636,\n",
              "  5: 3.14159,\n",
              "  6: 12.56636,\n",
              "  7: 'mymath - our example math module',\n",
              "  8: 'area(r): return the area of a circle with radius r.',\n",
              "  9: 3.14159,\n",
              "  11: <module 'mymath' from '/content/mymath.py'>,\n",
              "  12: ['/content',\n",
              "   '/env/python',\n",
              "   '/usr/lib/python310.zip',\n",
              "   '/usr/lib/python3.10',\n",
              "   '/usr/lib/python3.10/lib-dynload',\n",
              "   '',\n",
              "   '/usr/local/lib/python3.10/dist-packages',\n",
              "   '/usr/lib/python3/dist-packages',\n",
              "   '/usr/local/lib/python3.10/dist-packages/IPython/extensions',\n",
              "   '/root/.ipython'],\n",
              "  13: 91,\n",
              "  14: 3,\n",
              "  16: 4,\n",
              "  18: 2,\n",
              "  19: 5,\n",
              "  20: {...}},\n",
              " '_dh': ['/content'],\n",
              " 'In': ['',\n",
              "  'open(\"mymath.py\", \"w\").write(\\n\\'\\'\\'\"\"\"mymath - our example math module\"\"\"\\npi = 3.14159\\ndef area(r):\\n    \"\"\"area(r): return the area of a circle with radius r.\"\"\"\\n    return(pi * r * r) \\n\\'\\'\\')',\n",
              "  'import mymath\\npi',\n",
              "  'mymath.pi',\n",
              "  'mymath.area(2)',\n",
              "  'mymath.pi',\n",
              "  'mymath.area(2)',\n",
              "  'mymath.__doc__',\n",
              "  'mymath.area.__doc__',\n",
              "  'from mymath import pi\\npi',\n",
              "  'area(2)',\n",
              "  'import mymath, importlib\\nimportlib.reload(mymath)',\n",
              "  'import sys\\nsys.path',\n",
              "  'open(\"modtest.py\", \"w\").write(\\n\\'\\'\\'\"\"\"modtest: our test module\"\"\"\\ndef f(x):\\n    return x\\ndef _g(x):\\n    return x\\na = 4\\n_b = 2\\n\\'\\'\\')',\n",
              "  'from modtest import *\\nf(3)',\n",
              "  '_g(3)',\n",
              "  'a',\n",
              "  '_b',\n",
              "  'import modtest\\nmodtest._b',\n",
              "  'from modtest import _g\\n_g(5)',\n",
              "  'locals()',\n",
              "  'globals()'],\n",
              " 'Out': {1: 151,\n",
              "  3: 3.14159,\n",
              "  4: 12.56636,\n",
              "  5: 3.14159,\n",
              "  6: 12.56636,\n",
              "  7: 'mymath - our example math module',\n",
              "  8: 'area(r): return the area of a circle with radius r.',\n",
              "  9: 3.14159,\n",
              "  11: <module 'mymath' from '/content/mymath.py'>,\n",
              "  12: ['/content',\n",
              "   '/env/python',\n",
              "   '/usr/lib/python310.zip',\n",
              "   '/usr/lib/python3.10',\n",
              "   '/usr/lib/python3.10/lib-dynload',\n",
              "   '',\n",
              "   '/usr/local/lib/python3.10/dist-packages',\n",
              "   '/usr/lib/python3/dist-packages',\n",
              "   '/usr/local/lib/python3.10/dist-packages/IPython/extensions',\n",
              "   '/root/.ipython'],\n",
              "  13: 91,\n",
              "  14: 3,\n",
              "  16: 4,\n",
              "  18: 2,\n",
              "  19: 5,\n",
              "  20: {...}},\n",
              " 'get_ipython': <bound method InteractiveShell.get_ipython of <google.colab._shell.Shell object at 0x79621d7d78b0>>,\n",
              " 'exit': <IPython.core.autocall.ZMQExitAutocall at 0x79621d7d7e50>,\n",
              " 'quit': <IPython.core.autocall.ZMQExitAutocall at 0x79621d7d7e50>,\n",
              " '_': {...},\n",
              " '__': 5,\n",
              " '___': 2,\n",
              " '_i': 'locals()',\n",
              " '_ii': 'from modtest import _g\\n_g(5)',\n",
              " '_iii': 'import modtest\\nmodtest._b',\n",
              " '_i1': 'open(\"mymath.py\", \"w\").write(\\n\\'\\'\\'\"\"\"mymath - our example math module\"\"\"\\npi = 3.14159\\ndef area(r):\\n    \"\"\"area(r): return the area of a circle with radius r.\"\"\"\\n    return(pi * r * r) \\n\\'\\'\\')',\n",
              " '_1': 151,\n",
              " '_i2': 'import mymath\\npi',\n",
              " 'mymath': <module 'mymath' from '/content/mymath.py'>,\n",
              " '_i3': 'mymath.pi',\n",
              " '_3': 3.14159,\n",
              " '_i4': 'mymath.area(2)',\n",
              " '_4': 12.56636,\n",
              " '_i5': 'mymath.pi',\n",
              " '_5': 3.14159,\n",
              " '_i6': 'mymath.area(2)',\n",
              " '_6': 12.56636,\n",
              " '_i7': 'mymath.__doc__',\n",
              " '_7': 'mymath - our example math module',\n",
              " '_i8': 'mymath.area.__doc__',\n",
              " '_8': 'area(r): return the area of a circle with radius r.',\n",
              " '_i9': 'from mymath import pi\\npi',\n",
              " 'pi': 3.14159,\n",
              " '_9': 3.14159,\n",
              " '_i10': 'area(2)',\n",
              " '_i11': 'import mymath, importlib\\nimportlib.reload(mymath)',\n",
              " 'importlib': <module 'importlib' from '/usr/lib/python3.10/importlib/__init__.py'>,\n",
              " '_11': <module 'mymath' from '/content/mymath.py'>,\n",
              " '_i12': 'import sys\\nsys.path',\n",
              " 'sys': <module 'sys' (built-in)>,\n",
              " '_12': ['/content',\n",
              "  '/env/python',\n",
              "  '/usr/lib/python310.zip',\n",
              "  '/usr/lib/python3.10',\n",
              "  '/usr/lib/python3.10/lib-dynload',\n",
              "  '',\n",
              "  '/usr/local/lib/python3.10/dist-packages',\n",
              "  '/usr/lib/python3/dist-packages',\n",
              "  '/usr/local/lib/python3.10/dist-packages/IPython/extensions',\n",
              "  '/root/.ipython'],\n",
              " '_i13': 'open(\"modtest.py\", \"w\").write(\\n\\'\\'\\'\"\"\"modtest: our test module\"\"\"\\ndef f(x):\\n    return x\\ndef _g(x):\\n    return x\\na = 4\\n_b = 2\\n\\'\\'\\')',\n",
              " '_13': 91,\n",
              " '_i14': 'from modtest import *\\nf(3)',\n",
              " 'f': <function modtest.f(x)>,\n",
              " 'a': 4,\n",
              " '_14': 3,\n",
              " '_i15': '_g(3)',\n",
              " '_i16': 'a',\n",
              " '_16': 4,\n",
              " '_i17': '_b',\n",
              " '_i18': 'import modtest\\nmodtest._b',\n",
              " 'modtest': <module 'modtest' from '/content/modtest.py'>,\n",
              " '_18': 2,\n",
              " '_i19': 'from modtest import _g\\n_g(5)',\n",
              " '_g': <function modtest._g(x)>,\n",
              " '_19': 5,\n",
              " '_i20': 'locals()',\n",
              " '_20': {...},\n",
              " '_i21': 'globals()'}"
            ]
          },
          "metadata": {},
          "execution_count": 21
        }
      ]
    },
    {
      "cell_type": "code",
      "metadata": {
        "id": "HE3DRlVAQIHk",
        "colab": {
          "base_uri": "https://localhost:8080/"
        },
        "outputId": "2eb1bc6a-0fa6-4d91-bf83-4b26aba5fe26"
      },
      "source": [
        "z = 2\n",
        "import math\n",
        "from cmath import cos\n",
        "globals()"
      ],
      "execution_count": 22,
      "outputs": [
        {
          "output_type": "execute_result",
          "data": {
            "text/plain": [
              "{'__name__': '__main__',\n",
              " '__doc__': 'Automatically created module for IPython interactive environment',\n",
              " '__package__': None,\n",
              " '__loader__': None,\n",
              " '__spec__': None,\n",
              " '__builtin__': <module 'builtins' (built-in)>,\n",
              " '__builtins__': <module 'builtins' (built-in)>,\n",
              " '_ih': ['',\n",
              "  'open(\"mymath.py\", \"w\").write(\\n\\'\\'\\'\"\"\"mymath - our example math module\"\"\"\\npi = 3.14159\\ndef area(r):\\n    \"\"\"area(r): return the area of a circle with radius r.\"\"\"\\n    return(pi * r * r) \\n\\'\\'\\')',\n",
              "  'import mymath\\npi',\n",
              "  'mymath.pi',\n",
              "  'mymath.area(2)',\n",
              "  'mymath.pi',\n",
              "  'mymath.area(2)',\n",
              "  'mymath.__doc__',\n",
              "  'mymath.area.__doc__',\n",
              "  'from mymath import pi\\npi',\n",
              "  'area(2)',\n",
              "  'import mymath, importlib\\nimportlib.reload(mymath)',\n",
              "  'import sys\\nsys.path',\n",
              "  'open(\"modtest.py\", \"w\").write(\\n\\'\\'\\'\"\"\"modtest: our test module\"\"\"\\ndef f(x):\\n    return x\\ndef _g(x):\\n    return x\\na = 4\\n_b = 2\\n\\'\\'\\')',\n",
              "  'from modtest import *\\nf(3)',\n",
              "  '_g(3)',\n",
              "  'a',\n",
              "  '_b',\n",
              "  'import modtest\\nmodtest._b',\n",
              "  'from modtest import _g\\n_g(5)',\n",
              "  'locals()',\n",
              "  'globals()',\n",
              "  'z = 2\\nimport math\\nfrom cmath import cos\\nglobals()'],\n",
              " '_oh': {1: 151,\n",
              "  3: 3.14159,\n",
              "  4: 12.56636,\n",
              "  5: 3.14159,\n",
              "  6: 12.56636,\n",
              "  7: 'mymath - our example math module',\n",
              "  8: 'area(r): return the area of a circle with radius r.',\n",
              "  9: 3.14159,\n",
              "  11: <module 'mymath' from '/content/mymath.py'>,\n",
              "  12: ['/content',\n",
              "   '/env/python',\n",
              "   '/usr/lib/python310.zip',\n",
              "   '/usr/lib/python3.10',\n",
              "   '/usr/lib/python3.10/lib-dynload',\n",
              "   '',\n",
              "   '/usr/local/lib/python3.10/dist-packages',\n",
              "   '/usr/lib/python3/dist-packages',\n",
              "   '/usr/local/lib/python3.10/dist-packages/IPython/extensions',\n",
              "   '/root/.ipython'],\n",
              "  13: 91,\n",
              "  14: 3,\n",
              "  16: 4,\n",
              "  18: 2,\n",
              "  19: 5,\n",
              "  20: {...},\n",
              "  21: {...}},\n",
              " '_dh': ['/content'],\n",
              " 'In': ['',\n",
              "  'open(\"mymath.py\", \"w\").write(\\n\\'\\'\\'\"\"\"mymath - our example math module\"\"\"\\npi = 3.14159\\ndef area(r):\\n    \"\"\"area(r): return the area of a circle with radius r.\"\"\"\\n    return(pi * r * r) \\n\\'\\'\\')',\n",
              "  'import mymath\\npi',\n",
              "  'mymath.pi',\n",
              "  'mymath.area(2)',\n",
              "  'mymath.pi',\n",
              "  'mymath.area(2)',\n",
              "  'mymath.__doc__',\n",
              "  'mymath.area.__doc__',\n",
              "  'from mymath import pi\\npi',\n",
              "  'area(2)',\n",
              "  'import mymath, importlib\\nimportlib.reload(mymath)',\n",
              "  'import sys\\nsys.path',\n",
              "  'open(\"modtest.py\", \"w\").write(\\n\\'\\'\\'\"\"\"modtest: our test module\"\"\"\\ndef f(x):\\n    return x\\ndef _g(x):\\n    return x\\na = 4\\n_b = 2\\n\\'\\'\\')',\n",
              "  'from modtest import *\\nf(3)',\n",
              "  '_g(3)',\n",
              "  'a',\n",
              "  '_b',\n",
              "  'import modtest\\nmodtest._b',\n",
              "  'from modtest import _g\\n_g(5)',\n",
              "  'locals()',\n",
              "  'globals()',\n",
              "  'z = 2\\nimport math\\nfrom cmath import cos\\nglobals()'],\n",
              " 'Out': {1: 151,\n",
              "  3: 3.14159,\n",
              "  4: 12.56636,\n",
              "  5: 3.14159,\n",
              "  6: 12.56636,\n",
              "  7: 'mymath - our example math module',\n",
              "  8: 'area(r): return the area of a circle with radius r.',\n",
              "  9: 3.14159,\n",
              "  11: <module 'mymath' from '/content/mymath.py'>,\n",
              "  12: ['/content',\n",
              "   '/env/python',\n",
              "   '/usr/lib/python310.zip',\n",
              "   '/usr/lib/python3.10',\n",
              "   '/usr/lib/python3.10/lib-dynload',\n",
              "   '',\n",
              "   '/usr/local/lib/python3.10/dist-packages',\n",
              "   '/usr/lib/python3/dist-packages',\n",
              "   '/usr/local/lib/python3.10/dist-packages/IPython/extensions',\n",
              "   '/root/.ipython'],\n",
              "  13: 91,\n",
              "  14: 3,\n",
              "  16: 4,\n",
              "  18: 2,\n",
              "  19: 5,\n",
              "  20: {...},\n",
              "  21: {...}},\n",
              " 'get_ipython': <bound method InteractiveShell.get_ipython of <google.colab._shell.Shell object at 0x79621d7d78b0>>,\n",
              " 'exit': <IPython.core.autocall.ZMQExitAutocall at 0x79621d7d7e50>,\n",
              " 'quit': <IPython.core.autocall.ZMQExitAutocall at 0x79621d7d7e50>,\n",
              " '_': {...},\n",
              " '__': {...},\n",
              " '___': 5,\n",
              " '_i': 'globals()',\n",
              " '_ii': 'locals()',\n",
              " '_iii': 'from modtest import _g\\n_g(5)',\n",
              " '_i1': 'open(\"mymath.py\", \"w\").write(\\n\\'\\'\\'\"\"\"mymath - our example math module\"\"\"\\npi = 3.14159\\ndef area(r):\\n    \"\"\"area(r): return the area of a circle with radius r.\"\"\"\\n    return(pi * r * r) \\n\\'\\'\\')',\n",
              " '_1': 151,\n",
              " '_i2': 'import mymath\\npi',\n",
              " 'mymath': <module 'mymath' from '/content/mymath.py'>,\n",
              " '_i3': 'mymath.pi',\n",
              " '_3': 3.14159,\n",
              " '_i4': 'mymath.area(2)',\n",
              " '_4': 12.56636,\n",
              " '_i5': 'mymath.pi',\n",
              " '_5': 3.14159,\n",
              " '_i6': 'mymath.area(2)',\n",
              " '_6': 12.56636,\n",
              " '_i7': 'mymath.__doc__',\n",
              " '_7': 'mymath - our example math module',\n",
              " '_i8': 'mymath.area.__doc__',\n",
              " '_8': 'area(r): return the area of a circle with radius r.',\n",
              " '_i9': 'from mymath import pi\\npi',\n",
              " 'pi': 3.14159,\n",
              " '_9': 3.14159,\n",
              " '_i10': 'area(2)',\n",
              " '_i11': 'import mymath, importlib\\nimportlib.reload(mymath)',\n",
              " 'importlib': <module 'importlib' from '/usr/lib/python3.10/importlib/__init__.py'>,\n",
              " '_11': <module 'mymath' from '/content/mymath.py'>,\n",
              " '_i12': 'import sys\\nsys.path',\n",
              " 'sys': <module 'sys' (built-in)>,\n",
              " '_12': ['/content',\n",
              "  '/env/python',\n",
              "  '/usr/lib/python310.zip',\n",
              "  '/usr/lib/python3.10',\n",
              "  '/usr/lib/python3.10/lib-dynload',\n",
              "  '',\n",
              "  '/usr/local/lib/python3.10/dist-packages',\n",
              "  '/usr/lib/python3/dist-packages',\n",
              "  '/usr/local/lib/python3.10/dist-packages/IPython/extensions',\n",
              "  '/root/.ipython'],\n",
              " '_i13': 'open(\"modtest.py\", \"w\").write(\\n\\'\\'\\'\"\"\"modtest: our test module\"\"\"\\ndef f(x):\\n    return x\\ndef _g(x):\\n    return x\\na = 4\\n_b = 2\\n\\'\\'\\')',\n",
              " '_13': 91,\n",
              " '_i14': 'from modtest import *\\nf(3)',\n",
              " 'f': <function modtest.f(x)>,\n",
              " 'a': 4,\n",
              " '_14': 3,\n",
              " '_i15': '_g(3)',\n",
              " '_i16': 'a',\n",
              " '_16': 4,\n",
              " '_i17': '_b',\n",
              " '_i18': 'import modtest\\nmodtest._b',\n",
              " 'modtest': <module 'modtest' from '/content/modtest.py'>,\n",
              " '_18': 2,\n",
              " '_i19': 'from modtest import _g\\n_g(5)',\n",
              " '_g': <function modtest._g(x)>,\n",
              " '_19': 5,\n",
              " '_i20': 'locals()',\n",
              " '_20': {...},\n",
              " '_i21': 'globals()',\n",
              " '_21': {...},\n",
              " '_i22': 'z = 2\\nimport math\\nfrom cmath import cos\\nglobals()',\n",
              " 'z': 2,\n",
              " 'math': <module 'math' (built-in)>,\n",
              " 'cos': <function cmath.cos(z, /)>}"
            ]
          },
          "metadata": {},
          "execution_count": 22
        }
      ]
    },
    {
      "cell_type": "code",
      "metadata": {
        "id": "iYLPjsGAQIHk",
        "colab": {
          "base_uri": "https://localhost:8080/"
        },
        "outputId": "efef0cb7-ba3b-421b-a22c-7acc9e4f884e"
      },
      "source": [
        "locals()"
      ],
      "execution_count": 23,
      "outputs": [
        {
          "output_type": "execute_result",
          "data": {
            "text/plain": [
              "{'__name__': '__main__',\n",
              " '__doc__': 'Automatically created module for IPython interactive environment',\n",
              " '__package__': None,\n",
              " '__loader__': None,\n",
              " '__spec__': None,\n",
              " '__builtin__': <module 'builtins' (built-in)>,\n",
              " '__builtins__': <module 'builtins' (built-in)>,\n",
              " '_ih': ['',\n",
              "  'open(\"mymath.py\", \"w\").write(\\n\\'\\'\\'\"\"\"mymath - our example math module\"\"\"\\npi = 3.14159\\ndef area(r):\\n    \"\"\"area(r): return the area of a circle with radius r.\"\"\"\\n    return(pi * r * r) \\n\\'\\'\\')',\n",
              "  'import mymath\\npi',\n",
              "  'mymath.pi',\n",
              "  'mymath.area(2)',\n",
              "  'mymath.pi',\n",
              "  'mymath.area(2)',\n",
              "  'mymath.__doc__',\n",
              "  'mymath.area.__doc__',\n",
              "  'from mymath import pi\\npi',\n",
              "  'area(2)',\n",
              "  'import mymath, importlib\\nimportlib.reload(mymath)',\n",
              "  'import sys\\nsys.path',\n",
              "  'open(\"modtest.py\", \"w\").write(\\n\\'\\'\\'\"\"\"modtest: our test module\"\"\"\\ndef f(x):\\n    return x\\ndef _g(x):\\n    return x\\na = 4\\n_b = 2\\n\\'\\'\\')',\n",
              "  'from modtest import *\\nf(3)',\n",
              "  '_g(3)',\n",
              "  'a',\n",
              "  '_b',\n",
              "  'import modtest\\nmodtest._b',\n",
              "  'from modtest import _g\\n_g(5)',\n",
              "  'locals()',\n",
              "  'globals()',\n",
              "  'z = 2\\nimport math\\nfrom cmath import cos\\nglobals()',\n",
              "  'locals()'],\n",
              " '_oh': {1: 151,\n",
              "  3: 3.14159,\n",
              "  4: 12.56636,\n",
              "  5: 3.14159,\n",
              "  6: 12.56636,\n",
              "  7: 'mymath - our example math module',\n",
              "  8: 'area(r): return the area of a circle with radius r.',\n",
              "  9: 3.14159,\n",
              "  11: <module 'mymath' from '/content/mymath.py'>,\n",
              "  12: ['/content',\n",
              "   '/env/python',\n",
              "   '/usr/lib/python310.zip',\n",
              "   '/usr/lib/python3.10',\n",
              "   '/usr/lib/python3.10/lib-dynload',\n",
              "   '',\n",
              "   '/usr/local/lib/python3.10/dist-packages',\n",
              "   '/usr/lib/python3/dist-packages',\n",
              "   '/usr/local/lib/python3.10/dist-packages/IPython/extensions',\n",
              "   '/root/.ipython'],\n",
              "  13: 91,\n",
              "  14: 3,\n",
              "  16: 4,\n",
              "  18: 2,\n",
              "  19: 5,\n",
              "  20: {...},\n",
              "  21: {...},\n",
              "  22: {...}},\n",
              " '_dh': ['/content'],\n",
              " 'In': ['',\n",
              "  'open(\"mymath.py\", \"w\").write(\\n\\'\\'\\'\"\"\"mymath - our example math module\"\"\"\\npi = 3.14159\\ndef area(r):\\n    \"\"\"area(r): return the area of a circle with radius r.\"\"\"\\n    return(pi * r * r) \\n\\'\\'\\')',\n",
              "  'import mymath\\npi',\n",
              "  'mymath.pi',\n",
              "  'mymath.area(2)',\n",
              "  'mymath.pi',\n",
              "  'mymath.area(2)',\n",
              "  'mymath.__doc__',\n",
              "  'mymath.area.__doc__',\n",
              "  'from mymath import pi\\npi',\n",
              "  'area(2)',\n",
              "  'import mymath, importlib\\nimportlib.reload(mymath)',\n",
              "  'import sys\\nsys.path',\n",
              "  'open(\"modtest.py\", \"w\").write(\\n\\'\\'\\'\"\"\"modtest: our test module\"\"\"\\ndef f(x):\\n    return x\\ndef _g(x):\\n    return x\\na = 4\\n_b = 2\\n\\'\\'\\')',\n",
              "  'from modtest import *\\nf(3)',\n",
              "  '_g(3)',\n",
              "  'a',\n",
              "  '_b',\n",
              "  'import modtest\\nmodtest._b',\n",
              "  'from modtest import _g\\n_g(5)',\n",
              "  'locals()',\n",
              "  'globals()',\n",
              "  'z = 2\\nimport math\\nfrom cmath import cos\\nglobals()',\n",
              "  'locals()'],\n",
              " 'Out': {1: 151,\n",
              "  3: 3.14159,\n",
              "  4: 12.56636,\n",
              "  5: 3.14159,\n",
              "  6: 12.56636,\n",
              "  7: 'mymath - our example math module',\n",
              "  8: 'area(r): return the area of a circle with radius r.',\n",
              "  9: 3.14159,\n",
              "  11: <module 'mymath' from '/content/mymath.py'>,\n",
              "  12: ['/content',\n",
              "   '/env/python',\n",
              "   '/usr/lib/python310.zip',\n",
              "   '/usr/lib/python3.10',\n",
              "   '/usr/lib/python3.10/lib-dynload',\n",
              "   '',\n",
              "   '/usr/local/lib/python3.10/dist-packages',\n",
              "   '/usr/lib/python3/dist-packages',\n",
              "   '/usr/local/lib/python3.10/dist-packages/IPython/extensions',\n",
              "   '/root/.ipython'],\n",
              "  13: 91,\n",
              "  14: 3,\n",
              "  16: 4,\n",
              "  18: 2,\n",
              "  19: 5,\n",
              "  20: {...},\n",
              "  21: {...},\n",
              "  22: {...}},\n",
              " 'get_ipython': <bound method InteractiveShell.get_ipython of <google.colab._shell.Shell object at 0x79621d7d78b0>>,\n",
              " 'exit': <IPython.core.autocall.ZMQExitAutocall at 0x79621d7d7e50>,\n",
              " 'quit': <IPython.core.autocall.ZMQExitAutocall at 0x79621d7d7e50>,\n",
              " '_': {...},\n",
              " '__': {...},\n",
              " '___': {...},\n",
              " '_i': 'z = 2\\nimport math\\nfrom cmath import cos\\nglobals()',\n",
              " '_ii': 'globals()',\n",
              " '_iii': 'locals()',\n",
              " '_i1': 'open(\"mymath.py\", \"w\").write(\\n\\'\\'\\'\"\"\"mymath - our example math module\"\"\"\\npi = 3.14159\\ndef area(r):\\n    \"\"\"area(r): return the area of a circle with radius r.\"\"\"\\n    return(pi * r * r) \\n\\'\\'\\')',\n",
              " '_1': 151,\n",
              " '_i2': 'import mymath\\npi',\n",
              " 'mymath': <module 'mymath' from '/content/mymath.py'>,\n",
              " '_i3': 'mymath.pi',\n",
              " '_3': 3.14159,\n",
              " '_i4': 'mymath.area(2)',\n",
              " '_4': 12.56636,\n",
              " '_i5': 'mymath.pi',\n",
              " '_5': 3.14159,\n",
              " '_i6': 'mymath.area(2)',\n",
              " '_6': 12.56636,\n",
              " '_i7': 'mymath.__doc__',\n",
              " '_7': 'mymath - our example math module',\n",
              " '_i8': 'mymath.area.__doc__',\n",
              " '_8': 'area(r): return the area of a circle with radius r.',\n",
              " '_i9': 'from mymath import pi\\npi',\n",
              " 'pi': 3.14159,\n",
              " '_9': 3.14159,\n",
              " '_i10': 'area(2)',\n",
              " '_i11': 'import mymath, importlib\\nimportlib.reload(mymath)',\n",
              " 'importlib': <module 'importlib' from '/usr/lib/python3.10/importlib/__init__.py'>,\n",
              " '_11': <module 'mymath' from '/content/mymath.py'>,\n",
              " '_i12': 'import sys\\nsys.path',\n",
              " 'sys': <module 'sys' (built-in)>,\n",
              " '_12': ['/content',\n",
              "  '/env/python',\n",
              "  '/usr/lib/python310.zip',\n",
              "  '/usr/lib/python3.10',\n",
              "  '/usr/lib/python3.10/lib-dynload',\n",
              "  '',\n",
              "  '/usr/local/lib/python3.10/dist-packages',\n",
              "  '/usr/lib/python3/dist-packages',\n",
              "  '/usr/local/lib/python3.10/dist-packages/IPython/extensions',\n",
              "  '/root/.ipython'],\n",
              " '_i13': 'open(\"modtest.py\", \"w\").write(\\n\\'\\'\\'\"\"\"modtest: our test module\"\"\"\\ndef f(x):\\n    return x\\ndef _g(x):\\n    return x\\na = 4\\n_b = 2\\n\\'\\'\\')',\n",
              " '_13': 91,\n",
              " '_i14': 'from modtest import *\\nf(3)',\n",
              " 'f': <function modtest.f(x)>,\n",
              " 'a': 4,\n",
              " '_14': 3,\n",
              " '_i15': '_g(3)',\n",
              " '_i16': 'a',\n",
              " '_16': 4,\n",
              " '_i17': '_b',\n",
              " '_i18': 'import modtest\\nmodtest._b',\n",
              " 'modtest': <module 'modtest' from '/content/modtest.py'>,\n",
              " '_18': 2,\n",
              " '_i19': 'from modtest import _g\\n_g(5)',\n",
              " '_g': <function modtest._g(x)>,\n",
              " '_19': 5,\n",
              " '_i20': 'locals()',\n",
              " '_20': {...},\n",
              " '_i21': 'globals()',\n",
              " '_21': {...},\n",
              " '_i22': 'z = 2\\nimport math\\nfrom cmath import cos\\nglobals()',\n",
              " 'z': 2,\n",
              " 'math': <module 'math' (built-in)>,\n",
              " 'cos': <function cmath.cos(z, /)>,\n",
              " '_22': {...},\n",
              " '_i23': 'locals()'}"
            ]
          },
          "metadata": {},
          "execution_count": 23
        }
      ]
    },
    {
      "cell_type": "code",
      "metadata": {
        "id": "cm38XPl5QIHk",
        "colab": {
          "base_uri": "https://localhost:8080/"
        },
        "outputId": "77c3ae03-5c7a-47a6-d1bb-cf7d46aa14e8"
      },
      "source": [
        "math.ceil(3.4)"
      ],
      "execution_count": 24,
      "outputs": [
        {
          "output_type": "execute_result",
          "data": {
            "text/plain": [
              "4"
            ]
          },
          "metadata": {},
          "execution_count": 24
        }
      ]
    },
    {
      "cell_type": "code",
      "metadata": {
        "id": "_gQZTN5hQIHk",
        "colab": {
          "base_uri": "https://localhost:8080/"
        },
        "outputId": "64a846fb-33dc-4f37-b8cb-b4636840f09e"
      },
      "source": [
        "del z, math, cos\n",
        "locals()"
      ],
      "execution_count": 25,
      "outputs": [
        {
          "output_type": "execute_result",
          "data": {
            "text/plain": [
              "{'__name__': '__main__',\n",
              " '__doc__': 'Automatically created module for IPython interactive environment',\n",
              " '__package__': None,\n",
              " '__loader__': None,\n",
              " '__spec__': None,\n",
              " '__builtin__': <module 'builtins' (built-in)>,\n",
              " '__builtins__': <module 'builtins' (built-in)>,\n",
              " '_ih': ['',\n",
              "  'open(\"mymath.py\", \"w\").write(\\n\\'\\'\\'\"\"\"mymath - our example math module\"\"\"\\npi = 3.14159\\ndef area(r):\\n    \"\"\"area(r): return the area of a circle with radius r.\"\"\"\\n    return(pi * r * r) \\n\\'\\'\\')',\n",
              "  'import mymath\\npi',\n",
              "  'mymath.pi',\n",
              "  'mymath.area(2)',\n",
              "  'mymath.pi',\n",
              "  'mymath.area(2)',\n",
              "  'mymath.__doc__',\n",
              "  'mymath.area.__doc__',\n",
              "  'from mymath import pi\\npi',\n",
              "  'area(2)',\n",
              "  'import mymath, importlib\\nimportlib.reload(mymath)',\n",
              "  'import sys\\nsys.path',\n",
              "  'open(\"modtest.py\", \"w\").write(\\n\\'\\'\\'\"\"\"modtest: our test module\"\"\"\\ndef f(x):\\n    return x\\ndef _g(x):\\n    return x\\na = 4\\n_b = 2\\n\\'\\'\\')',\n",
              "  'from modtest import *\\nf(3)',\n",
              "  '_g(3)',\n",
              "  'a',\n",
              "  '_b',\n",
              "  'import modtest\\nmodtest._b',\n",
              "  'from modtest import _g\\n_g(5)',\n",
              "  'locals()',\n",
              "  'globals()',\n",
              "  'z = 2\\nimport math\\nfrom cmath import cos\\nglobals()',\n",
              "  'locals()',\n",
              "  'math.ceil(3.4)',\n",
              "  'del z, math, cos\\nlocals()'],\n",
              " '_oh': {1: 151,\n",
              "  3: 3.14159,\n",
              "  4: 12.56636,\n",
              "  5: 3.14159,\n",
              "  6: 12.56636,\n",
              "  7: 'mymath - our example math module',\n",
              "  8: 'area(r): return the area of a circle with radius r.',\n",
              "  9: 3.14159,\n",
              "  11: <module 'mymath' from '/content/mymath.py'>,\n",
              "  12: ['/content',\n",
              "   '/env/python',\n",
              "   '/usr/lib/python310.zip',\n",
              "   '/usr/lib/python3.10',\n",
              "   '/usr/lib/python3.10/lib-dynload',\n",
              "   '',\n",
              "   '/usr/local/lib/python3.10/dist-packages',\n",
              "   '/usr/lib/python3/dist-packages',\n",
              "   '/usr/local/lib/python3.10/dist-packages/IPython/extensions',\n",
              "   '/root/.ipython'],\n",
              "  13: 91,\n",
              "  14: 3,\n",
              "  16: 4,\n",
              "  18: 2,\n",
              "  19: 5,\n",
              "  20: {...},\n",
              "  21: {...},\n",
              "  22: {...},\n",
              "  23: {...},\n",
              "  24: 4},\n",
              " '_dh': ['/content'],\n",
              " 'In': ['',\n",
              "  'open(\"mymath.py\", \"w\").write(\\n\\'\\'\\'\"\"\"mymath - our example math module\"\"\"\\npi = 3.14159\\ndef area(r):\\n    \"\"\"area(r): return the area of a circle with radius r.\"\"\"\\n    return(pi * r * r) \\n\\'\\'\\')',\n",
              "  'import mymath\\npi',\n",
              "  'mymath.pi',\n",
              "  'mymath.area(2)',\n",
              "  'mymath.pi',\n",
              "  'mymath.area(2)',\n",
              "  'mymath.__doc__',\n",
              "  'mymath.area.__doc__',\n",
              "  'from mymath import pi\\npi',\n",
              "  'area(2)',\n",
              "  'import mymath, importlib\\nimportlib.reload(mymath)',\n",
              "  'import sys\\nsys.path',\n",
              "  'open(\"modtest.py\", \"w\").write(\\n\\'\\'\\'\"\"\"modtest: our test module\"\"\"\\ndef f(x):\\n    return x\\ndef _g(x):\\n    return x\\na = 4\\n_b = 2\\n\\'\\'\\')',\n",
              "  'from modtest import *\\nf(3)',\n",
              "  '_g(3)',\n",
              "  'a',\n",
              "  '_b',\n",
              "  'import modtest\\nmodtest._b',\n",
              "  'from modtest import _g\\n_g(5)',\n",
              "  'locals()',\n",
              "  'globals()',\n",
              "  'z = 2\\nimport math\\nfrom cmath import cos\\nglobals()',\n",
              "  'locals()',\n",
              "  'math.ceil(3.4)',\n",
              "  'del z, math, cos\\nlocals()'],\n",
              " 'Out': {1: 151,\n",
              "  3: 3.14159,\n",
              "  4: 12.56636,\n",
              "  5: 3.14159,\n",
              "  6: 12.56636,\n",
              "  7: 'mymath - our example math module',\n",
              "  8: 'area(r): return the area of a circle with radius r.',\n",
              "  9: 3.14159,\n",
              "  11: <module 'mymath' from '/content/mymath.py'>,\n",
              "  12: ['/content',\n",
              "   '/env/python',\n",
              "   '/usr/lib/python310.zip',\n",
              "   '/usr/lib/python3.10',\n",
              "   '/usr/lib/python3.10/lib-dynload',\n",
              "   '',\n",
              "   '/usr/local/lib/python3.10/dist-packages',\n",
              "   '/usr/lib/python3/dist-packages',\n",
              "   '/usr/local/lib/python3.10/dist-packages/IPython/extensions',\n",
              "   '/root/.ipython'],\n",
              "  13: 91,\n",
              "  14: 3,\n",
              "  16: 4,\n",
              "  18: 2,\n",
              "  19: 5,\n",
              "  20: {...},\n",
              "  21: {...},\n",
              "  22: {...},\n",
              "  23: {...},\n",
              "  24: 4},\n",
              " 'get_ipython': <bound method InteractiveShell.get_ipython of <google.colab._shell.Shell object at 0x79621d7d78b0>>,\n",
              " 'exit': <IPython.core.autocall.ZMQExitAutocall at 0x79621d7d7e50>,\n",
              " 'quit': <IPython.core.autocall.ZMQExitAutocall at 0x79621d7d7e50>,\n",
              " '_': 4,\n",
              " '__': {...},\n",
              " '___': {...},\n",
              " '_i': 'math.ceil(3.4)',\n",
              " '_ii': 'locals()',\n",
              " '_iii': 'z = 2\\nimport math\\nfrom cmath import cos\\nglobals()',\n",
              " '_i1': 'open(\"mymath.py\", \"w\").write(\\n\\'\\'\\'\"\"\"mymath - our example math module\"\"\"\\npi = 3.14159\\ndef area(r):\\n    \"\"\"area(r): return the area of a circle with radius r.\"\"\"\\n    return(pi * r * r) \\n\\'\\'\\')',\n",
              " '_1': 151,\n",
              " '_i2': 'import mymath\\npi',\n",
              " 'mymath': <module 'mymath' from '/content/mymath.py'>,\n",
              " '_i3': 'mymath.pi',\n",
              " '_3': 3.14159,\n",
              " '_i4': 'mymath.area(2)',\n",
              " '_4': 12.56636,\n",
              " '_i5': 'mymath.pi',\n",
              " '_5': 3.14159,\n",
              " '_i6': 'mymath.area(2)',\n",
              " '_6': 12.56636,\n",
              " '_i7': 'mymath.__doc__',\n",
              " '_7': 'mymath - our example math module',\n",
              " '_i8': 'mymath.area.__doc__',\n",
              " '_8': 'area(r): return the area of a circle with radius r.',\n",
              " '_i9': 'from mymath import pi\\npi',\n",
              " 'pi': 3.14159,\n",
              " '_9': 3.14159,\n",
              " '_i10': 'area(2)',\n",
              " '_i11': 'import mymath, importlib\\nimportlib.reload(mymath)',\n",
              " 'importlib': <module 'importlib' from '/usr/lib/python3.10/importlib/__init__.py'>,\n",
              " '_11': <module 'mymath' from '/content/mymath.py'>,\n",
              " '_i12': 'import sys\\nsys.path',\n",
              " 'sys': <module 'sys' (built-in)>,\n",
              " '_12': ['/content',\n",
              "  '/env/python',\n",
              "  '/usr/lib/python310.zip',\n",
              "  '/usr/lib/python3.10',\n",
              "  '/usr/lib/python3.10/lib-dynload',\n",
              "  '',\n",
              "  '/usr/local/lib/python3.10/dist-packages',\n",
              "  '/usr/lib/python3/dist-packages',\n",
              "  '/usr/local/lib/python3.10/dist-packages/IPython/extensions',\n",
              "  '/root/.ipython'],\n",
              " '_i13': 'open(\"modtest.py\", \"w\").write(\\n\\'\\'\\'\"\"\"modtest: our test module\"\"\"\\ndef f(x):\\n    return x\\ndef _g(x):\\n    return x\\na = 4\\n_b = 2\\n\\'\\'\\')',\n",
              " '_13': 91,\n",
              " '_i14': 'from modtest import *\\nf(3)',\n",
              " 'f': <function modtest.f(x)>,\n",
              " 'a': 4,\n",
              " '_14': 3,\n",
              " '_i15': '_g(3)',\n",
              " '_i16': 'a',\n",
              " '_16': 4,\n",
              " '_i17': '_b',\n",
              " '_i18': 'import modtest\\nmodtest._b',\n",
              " 'modtest': <module 'modtest' from '/content/modtest.py'>,\n",
              " '_18': 2,\n",
              " '_i19': 'from modtest import _g\\n_g(5)',\n",
              " '_g': <function modtest._g(x)>,\n",
              " '_19': 5,\n",
              " '_i20': 'locals()',\n",
              " '_20': {...},\n",
              " '_i21': 'globals()',\n",
              " '_21': {...},\n",
              " '_i22': 'z = 2\\nimport math\\nfrom cmath import cos\\nglobals()',\n",
              " '_22': {...},\n",
              " '_i23': 'locals()',\n",
              " '_23': {...},\n",
              " '_i24': 'math.ceil(3.4)',\n",
              " '_24': 4,\n",
              " '_i25': 'del z, math, cos\\nlocals()'}"
            ]
          },
          "metadata": {},
          "execution_count": 25
        }
      ]
    },
    {
      "cell_type": "code",
      "metadata": {
        "id": "ZHr8-BzIQIHl",
        "colab": {
          "base_uri": "https://localhost:8080/",
          "height": 141
        },
        "outputId": "3e0e3ffa-9d6c-4117-f095-fb97d373948f"
      },
      "source": [
        "math.ceil(3.4)"
      ],
      "execution_count": 26,
      "outputs": [
        {
          "output_type": "error",
          "ename": "NameError",
          "evalue": "name 'math' is not defined",
          "traceback": [
            "\u001b[0;31m---------------------------------------------------------------------------\u001b[0m",
            "\u001b[0;31mNameError\u001b[0m                                 Traceback (most recent call last)",
            "\u001b[0;32m<ipython-input-26-307799385d47>\u001b[0m in \u001b[0;36m<cell line: 1>\u001b[0;34m()\u001b[0m\n\u001b[0;32m----> 1\u001b[0;31m \u001b[0mmath\u001b[0m\u001b[0;34m.\u001b[0m\u001b[0mceil\u001b[0m\u001b[0;34m(\u001b[0m\u001b[0;36m3.4\u001b[0m\u001b[0;34m)\u001b[0m\u001b[0;34m\u001b[0m\u001b[0;34m\u001b[0m\u001b[0m\n\u001b[0m",
            "\u001b[0;31mNameError\u001b[0m: name 'math' is not defined"
          ]
        }
      ]
    },
    {
      "cell_type": "code",
      "metadata": {
        "id": "i_H9_JVdQIHl",
        "colab": {
          "base_uri": "https://localhost:8080/"
        },
        "outputId": "2f0f068a-57d7-4bd7-e6c0-3394caae6b52"
      },
      "source": [
        "import math\n",
        "math.ceil(3.4)"
      ],
      "execution_count": 27,
      "outputs": [
        {
          "output_type": "execute_result",
          "data": {
            "text/plain": [
              "4"
            ]
          },
          "metadata": {},
          "execution_count": 27
        }
      ]
    },
    {
      "cell_type": "code",
      "metadata": {
        "id": "DWAbTbPVQIHl",
        "colab": {
          "base_uri": "https://localhost:8080/"
        },
        "outputId": "797756d5-d889-46e0-d420-534f5c4c7d65"
      },
      "source": [
        "def f(x):\n",
        "    print(\"global: \", globals())\n",
        "    print(\"Entry local: \", locals())\n",
        "    y = x\n",
        "    print(\"Exit local: \", locals())\n",
        "\n",
        "z = 2\n",
        "globals()"
      ],
      "execution_count": 28,
      "outputs": [
        {
          "output_type": "execute_result",
          "data": {
            "text/plain": [
              "{'__name__': '__main__',\n",
              " '__doc__': 'Automatically created module for IPython interactive environment',\n",
              " '__package__': None,\n",
              " '__loader__': None,\n",
              " '__spec__': None,\n",
              " '__builtin__': <module 'builtins' (built-in)>,\n",
              " '__builtins__': <module 'builtins' (built-in)>,\n",
              " '_ih': ['',\n",
              "  'open(\"mymath.py\", \"w\").write(\\n\\'\\'\\'\"\"\"mymath - our example math module\"\"\"\\npi = 3.14159\\ndef area(r):\\n    \"\"\"area(r): return the area of a circle with radius r.\"\"\"\\n    return(pi * r * r) \\n\\'\\'\\')',\n",
              "  'import mymath\\npi',\n",
              "  'mymath.pi',\n",
              "  'mymath.area(2)',\n",
              "  'mymath.pi',\n",
              "  'mymath.area(2)',\n",
              "  'mymath.__doc__',\n",
              "  'mymath.area.__doc__',\n",
              "  'from mymath import pi\\npi',\n",
              "  'area(2)',\n",
              "  'import mymath, importlib\\nimportlib.reload(mymath)',\n",
              "  'import sys\\nsys.path',\n",
              "  'open(\"modtest.py\", \"w\").write(\\n\\'\\'\\'\"\"\"modtest: our test module\"\"\"\\ndef f(x):\\n    return x\\ndef _g(x):\\n    return x\\na = 4\\n_b = 2\\n\\'\\'\\')',\n",
              "  'from modtest import *\\nf(3)',\n",
              "  '_g(3)',\n",
              "  'a',\n",
              "  '_b',\n",
              "  'import modtest\\nmodtest._b',\n",
              "  'from modtest import _g\\n_g(5)',\n",
              "  'locals()',\n",
              "  'globals()',\n",
              "  'z = 2\\nimport math\\nfrom cmath import cos\\nglobals()',\n",
              "  'locals()',\n",
              "  'math.ceil(3.4)',\n",
              "  'del z, math, cos\\nlocals()',\n",
              "  'math.ceil(3.4)',\n",
              "  'import math\\nmath.ceil(3.4)',\n",
              "  'def f(x):\\n    print(\"global: \", globals())\\n    print(\"Entry local: \", locals())\\n    y = x\\n    print(\"Exit local: \", locals())\\n\\nz = 2\\nglobals()'],\n",
              " '_oh': {1: 151,\n",
              "  3: 3.14159,\n",
              "  4: 12.56636,\n",
              "  5: 3.14159,\n",
              "  6: 12.56636,\n",
              "  7: 'mymath - our example math module',\n",
              "  8: 'area(r): return the area of a circle with radius r.',\n",
              "  9: 3.14159,\n",
              "  11: <module 'mymath' from '/content/mymath.py'>,\n",
              "  12: ['/content',\n",
              "   '/env/python',\n",
              "   '/usr/lib/python310.zip',\n",
              "   '/usr/lib/python3.10',\n",
              "   '/usr/lib/python3.10/lib-dynload',\n",
              "   '',\n",
              "   '/usr/local/lib/python3.10/dist-packages',\n",
              "   '/usr/lib/python3/dist-packages',\n",
              "   '/usr/local/lib/python3.10/dist-packages/IPython/extensions',\n",
              "   '/root/.ipython'],\n",
              "  13: 91,\n",
              "  14: 3,\n",
              "  16: 4,\n",
              "  18: 2,\n",
              "  19: 5,\n",
              "  20: {...},\n",
              "  21: {...},\n",
              "  22: {...},\n",
              "  23: {...},\n",
              "  24: 4,\n",
              "  25: {...},\n",
              "  27: 4},\n",
              " '_dh': ['/content'],\n",
              " 'In': ['',\n",
              "  'open(\"mymath.py\", \"w\").write(\\n\\'\\'\\'\"\"\"mymath - our example math module\"\"\"\\npi = 3.14159\\ndef area(r):\\n    \"\"\"area(r): return the area of a circle with radius r.\"\"\"\\n    return(pi * r * r) \\n\\'\\'\\')',\n",
              "  'import mymath\\npi',\n",
              "  'mymath.pi',\n",
              "  'mymath.area(2)',\n",
              "  'mymath.pi',\n",
              "  'mymath.area(2)',\n",
              "  'mymath.__doc__',\n",
              "  'mymath.area.__doc__',\n",
              "  'from mymath import pi\\npi',\n",
              "  'area(2)',\n",
              "  'import mymath, importlib\\nimportlib.reload(mymath)',\n",
              "  'import sys\\nsys.path',\n",
              "  'open(\"modtest.py\", \"w\").write(\\n\\'\\'\\'\"\"\"modtest: our test module\"\"\"\\ndef f(x):\\n    return x\\ndef _g(x):\\n    return x\\na = 4\\n_b = 2\\n\\'\\'\\')',\n",
              "  'from modtest import *\\nf(3)',\n",
              "  '_g(3)',\n",
              "  'a',\n",
              "  '_b',\n",
              "  'import modtest\\nmodtest._b',\n",
              "  'from modtest import _g\\n_g(5)',\n",
              "  'locals()',\n",
              "  'globals()',\n",
              "  'z = 2\\nimport math\\nfrom cmath import cos\\nglobals()',\n",
              "  'locals()',\n",
              "  'math.ceil(3.4)',\n",
              "  'del z, math, cos\\nlocals()',\n",
              "  'math.ceil(3.4)',\n",
              "  'import math\\nmath.ceil(3.4)',\n",
              "  'def f(x):\\n    print(\"global: \", globals())\\n    print(\"Entry local: \", locals())\\n    y = x\\n    print(\"Exit local: \", locals())\\n\\nz = 2\\nglobals()'],\n",
              " 'Out': {1: 151,\n",
              "  3: 3.14159,\n",
              "  4: 12.56636,\n",
              "  5: 3.14159,\n",
              "  6: 12.56636,\n",
              "  7: 'mymath - our example math module',\n",
              "  8: 'area(r): return the area of a circle with radius r.',\n",
              "  9: 3.14159,\n",
              "  11: <module 'mymath' from '/content/mymath.py'>,\n",
              "  12: ['/content',\n",
              "   '/env/python',\n",
              "   '/usr/lib/python310.zip',\n",
              "   '/usr/lib/python3.10',\n",
              "   '/usr/lib/python3.10/lib-dynload',\n",
              "   '',\n",
              "   '/usr/local/lib/python3.10/dist-packages',\n",
              "   '/usr/lib/python3/dist-packages',\n",
              "   '/usr/local/lib/python3.10/dist-packages/IPython/extensions',\n",
              "   '/root/.ipython'],\n",
              "  13: 91,\n",
              "  14: 3,\n",
              "  16: 4,\n",
              "  18: 2,\n",
              "  19: 5,\n",
              "  20: {...},\n",
              "  21: {...},\n",
              "  22: {...},\n",
              "  23: {...},\n",
              "  24: 4,\n",
              "  25: {...},\n",
              "  27: 4},\n",
              " 'get_ipython': <bound method InteractiveShell.get_ipython of <google.colab._shell.Shell object at 0x79621d7d78b0>>,\n",
              " 'exit': <IPython.core.autocall.ZMQExitAutocall at 0x79621d7d7e50>,\n",
              " 'quit': <IPython.core.autocall.ZMQExitAutocall at 0x79621d7d7e50>,\n",
              " '_': 4,\n",
              " '__': {...},\n",
              " '___': 4,\n",
              " '_i': 'import math\\nmath.ceil(3.4)',\n",
              " '_ii': 'math.ceil(3.4)',\n",
              " '_iii': 'del z, math, cos\\nlocals()',\n",
              " '_i1': 'open(\"mymath.py\", \"w\").write(\\n\\'\\'\\'\"\"\"mymath - our example math module\"\"\"\\npi = 3.14159\\ndef area(r):\\n    \"\"\"area(r): return the area of a circle with radius r.\"\"\"\\n    return(pi * r * r) \\n\\'\\'\\')',\n",
              " '_1': 151,\n",
              " '_i2': 'import mymath\\npi',\n",
              " 'mymath': <module 'mymath' from '/content/mymath.py'>,\n",
              " '_i3': 'mymath.pi',\n",
              " '_3': 3.14159,\n",
              " '_i4': 'mymath.area(2)',\n",
              " '_4': 12.56636,\n",
              " '_i5': 'mymath.pi',\n",
              " '_5': 3.14159,\n",
              " '_i6': 'mymath.area(2)',\n",
              " '_6': 12.56636,\n",
              " '_i7': 'mymath.__doc__',\n",
              " '_7': 'mymath - our example math module',\n",
              " '_i8': 'mymath.area.__doc__',\n",
              " '_8': 'area(r): return the area of a circle with radius r.',\n",
              " '_i9': 'from mymath import pi\\npi',\n",
              " 'pi': 3.14159,\n",
              " '_9': 3.14159,\n",
              " '_i10': 'area(2)',\n",
              " '_i11': 'import mymath, importlib\\nimportlib.reload(mymath)',\n",
              " 'importlib': <module 'importlib' from '/usr/lib/python3.10/importlib/__init__.py'>,\n",
              " '_11': <module 'mymath' from '/content/mymath.py'>,\n",
              " '_i12': 'import sys\\nsys.path',\n",
              " 'sys': <module 'sys' (built-in)>,\n",
              " '_12': ['/content',\n",
              "  '/env/python',\n",
              "  '/usr/lib/python310.zip',\n",
              "  '/usr/lib/python3.10',\n",
              "  '/usr/lib/python3.10/lib-dynload',\n",
              "  '',\n",
              "  '/usr/local/lib/python3.10/dist-packages',\n",
              "  '/usr/lib/python3/dist-packages',\n",
              "  '/usr/local/lib/python3.10/dist-packages/IPython/extensions',\n",
              "  '/root/.ipython'],\n",
              " '_i13': 'open(\"modtest.py\", \"w\").write(\\n\\'\\'\\'\"\"\"modtest: our test module\"\"\"\\ndef f(x):\\n    return x\\ndef _g(x):\\n    return x\\na = 4\\n_b = 2\\n\\'\\'\\')',\n",
              " '_13': 91,\n",
              " '_i14': 'from modtest import *\\nf(3)',\n",
              " 'f': <function __main__.f(x)>,\n",
              " 'a': 4,\n",
              " '_14': 3,\n",
              " '_i15': '_g(3)',\n",
              " '_i16': 'a',\n",
              " '_16': 4,\n",
              " '_i17': '_b',\n",
              " '_i18': 'import modtest\\nmodtest._b',\n",
              " 'modtest': <module 'modtest' from '/content/modtest.py'>,\n",
              " '_18': 2,\n",
              " '_i19': 'from modtest import _g\\n_g(5)',\n",
              " '_g': <function modtest._g(x)>,\n",
              " '_19': 5,\n",
              " '_i20': 'locals()',\n",
              " '_20': {...},\n",
              " '_i21': 'globals()',\n",
              " '_21': {...},\n",
              " '_i22': 'z = 2\\nimport math\\nfrom cmath import cos\\nglobals()',\n",
              " '_22': {...},\n",
              " '_i23': 'locals()',\n",
              " '_23': {...},\n",
              " '_i24': 'math.ceil(3.4)',\n",
              " '_24': 4,\n",
              " '_i25': 'del z, math, cos\\nlocals()',\n",
              " '_25': {...},\n",
              " '_i26': 'math.ceil(3.4)',\n",
              " '_i27': 'import math\\nmath.ceil(3.4)',\n",
              " 'math': <module 'math' (built-in)>,\n",
              " '_27': 4,\n",
              " '_i28': 'def f(x):\\n    print(\"global: \", globals())\\n    print(\"Entry local: \", locals())\\n    y = x\\n    print(\"Exit local: \", locals())\\n\\nz = 2\\nglobals()',\n",
              " 'z': 2}"
            ]
          },
          "metadata": {},
          "execution_count": 28
        }
      ]
    },
    {
      "cell_type": "code",
      "metadata": {
        "id": "jBIqLBCTQIHl",
        "colab": {
          "base_uri": "https://localhost:8080/"
        },
        "outputId": "3d4995b4-a19d-4348-b373-f9ff029952d0"
      },
      "source": [
        "f(z)"
      ],
      "execution_count": 29,
      "outputs": [
        {
          "output_type": "stream",
          "name": "stdout",
          "text": [
            "global:  {'__name__': '__main__', '__doc__': 'Automatically created module for IPython interactive environment', '__package__': None, '__loader__': None, '__spec__': None, '__builtin__': <module 'builtins' (built-in)>, '__builtins__': <module 'builtins' (built-in)>, '_ih': ['', 'open(\"mymath.py\", \"w\").write(\\n\\'\\'\\'\"\"\"mymath - our example math module\"\"\"\\npi = 3.14159\\ndef area(r):\\n    \"\"\"area(r): return the area of a circle with radius r.\"\"\"\\n    return(pi * r * r) \\n\\'\\'\\')', 'import mymath\\npi', 'mymath.pi', 'mymath.area(2)', 'mymath.pi', 'mymath.area(2)', 'mymath.__doc__', 'mymath.area.__doc__', 'from mymath import pi\\npi', 'area(2)', 'import mymath, importlib\\nimportlib.reload(mymath)', 'import sys\\nsys.path', 'open(\"modtest.py\", \"w\").write(\\n\\'\\'\\'\"\"\"modtest: our test module\"\"\"\\ndef f(x):\\n    return x\\ndef _g(x):\\n    return x\\na = 4\\n_b = 2\\n\\'\\'\\')', 'from modtest import *\\nf(3)', '_g(3)', 'a', '_b', 'import modtest\\nmodtest._b', 'from modtest import _g\\n_g(5)', 'locals()', 'globals()', 'z = 2\\nimport math\\nfrom cmath import cos\\nglobals()', 'locals()', 'math.ceil(3.4)', 'del z, math, cos\\nlocals()', 'math.ceil(3.4)', 'import math\\nmath.ceil(3.4)', 'def f(x):\\n    print(\"global: \", globals())\\n    print(\"Entry local: \", locals())\\n    y = x\\n    print(\"Exit local: \", locals())\\n\\nz = 2\\nglobals()', 'f(z)'], '_oh': {1: 151, 3: 3.14159, 4: 12.56636, 5: 3.14159, 6: 12.56636, 7: 'mymath - our example math module', 8: 'area(r): return the area of a circle with radius r.', 9: 3.14159, 11: <module 'mymath' from '/content/mymath.py'>, 12: ['/content', '/env/python', '/usr/lib/python310.zip', '/usr/lib/python3.10', '/usr/lib/python3.10/lib-dynload', '', '/usr/local/lib/python3.10/dist-packages', '/usr/lib/python3/dist-packages', '/usr/local/lib/python3.10/dist-packages/IPython/extensions', '/root/.ipython'], 13: 91, 14: 3, 16: 4, 18: 2, 19: 5, 20: {...}, 21: {...}, 22: {...}, 23: {...}, 24: 4, 25: {...}, 27: 4, 28: {...}}, '_dh': ['/content'], 'In': ['', 'open(\"mymath.py\", \"w\").write(\\n\\'\\'\\'\"\"\"mymath - our example math module\"\"\"\\npi = 3.14159\\ndef area(r):\\n    \"\"\"area(r): return the area of a circle with radius r.\"\"\"\\n    return(pi * r * r) \\n\\'\\'\\')', 'import mymath\\npi', 'mymath.pi', 'mymath.area(2)', 'mymath.pi', 'mymath.area(2)', 'mymath.__doc__', 'mymath.area.__doc__', 'from mymath import pi\\npi', 'area(2)', 'import mymath, importlib\\nimportlib.reload(mymath)', 'import sys\\nsys.path', 'open(\"modtest.py\", \"w\").write(\\n\\'\\'\\'\"\"\"modtest: our test module\"\"\"\\ndef f(x):\\n    return x\\ndef _g(x):\\n    return x\\na = 4\\n_b = 2\\n\\'\\'\\')', 'from modtest import *\\nf(3)', '_g(3)', 'a', '_b', 'import modtest\\nmodtest._b', 'from modtest import _g\\n_g(5)', 'locals()', 'globals()', 'z = 2\\nimport math\\nfrom cmath import cos\\nglobals()', 'locals()', 'math.ceil(3.4)', 'del z, math, cos\\nlocals()', 'math.ceil(3.4)', 'import math\\nmath.ceil(3.4)', 'def f(x):\\n    print(\"global: \", globals())\\n    print(\"Entry local: \", locals())\\n    y = x\\n    print(\"Exit local: \", locals())\\n\\nz = 2\\nglobals()', 'f(z)'], 'Out': {1: 151, 3: 3.14159, 4: 12.56636, 5: 3.14159, 6: 12.56636, 7: 'mymath - our example math module', 8: 'area(r): return the area of a circle with radius r.', 9: 3.14159, 11: <module 'mymath' from '/content/mymath.py'>, 12: ['/content', '/env/python', '/usr/lib/python310.zip', '/usr/lib/python3.10', '/usr/lib/python3.10/lib-dynload', '', '/usr/local/lib/python3.10/dist-packages', '/usr/lib/python3/dist-packages', '/usr/local/lib/python3.10/dist-packages/IPython/extensions', '/root/.ipython'], 13: 91, 14: 3, 16: 4, 18: 2, 19: 5, 20: {...}, 21: {...}, 22: {...}, 23: {...}, 24: 4, 25: {...}, 27: 4, 28: {...}}, 'get_ipython': <bound method InteractiveShell.get_ipython of <google.colab._shell.Shell object at 0x79621d7d78b0>>, 'exit': <IPython.core.autocall.ZMQExitAutocall object at 0x79621d7d7e50>, 'quit': <IPython.core.autocall.ZMQExitAutocall object at 0x79621d7d7e50>, '_': {...}, '__': 4, '___': {...}, '_i': 'def f(x):\\n    print(\"global: \", globals())\\n    print(\"Entry local: \", locals())\\n    y = x\\n    print(\"Exit local: \", locals())\\n\\nz = 2\\nglobals()', '_ii': 'import math\\nmath.ceil(3.4)', '_iii': 'math.ceil(3.4)', '_i1': 'open(\"mymath.py\", \"w\").write(\\n\\'\\'\\'\"\"\"mymath - our example math module\"\"\"\\npi = 3.14159\\ndef area(r):\\n    \"\"\"area(r): return the area of a circle with radius r.\"\"\"\\n    return(pi * r * r) \\n\\'\\'\\')', '_1': 151, '_i2': 'import mymath\\npi', 'mymath': <module 'mymath' from '/content/mymath.py'>, '_i3': 'mymath.pi', '_3': 3.14159, '_i4': 'mymath.area(2)', '_4': 12.56636, '_i5': 'mymath.pi', '_5': 3.14159, '_i6': 'mymath.area(2)', '_6': 12.56636, '_i7': 'mymath.__doc__', '_7': 'mymath - our example math module', '_i8': 'mymath.area.__doc__', '_8': 'area(r): return the area of a circle with radius r.', '_i9': 'from mymath import pi\\npi', 'pi': 3.14159, '_9': 3.14159, '_i10': 'area(2)', '_i11': 'import mymath, importlib\\nimportlib.reload(mymath)', 'importlib': <module 'importlib' from '/usr/lib/python3.10/importlib/__init__.py'>, '_11': <module 'mymath' from '/content/mymath.py'>, '_i12': 'import sys\\nsys.path', 'sys': <module 'sys' (built-in)>, '_12': ['/content', '/env/python', '/usr/lib/python310.zip', '/usr/lib/python3.10', '/usr/lib/python3.10/lib-dynload', '', '/usr/local/lib/python3.10/dist-packages', '/usr/lib/python3/dist-packages', '/usr/local/lib/python3.10/dist-packages/IPython/extensions', '/root/.ipython'], '_i13': 'open(\"modtest.py\", \"w\").write(\\n\\'\\'\\'\"\"\"modtest: our test module\"\"\"\\ndef f(x):\\n    return x\\ndef _g(x):\\n    return x\\na = 4\\n_b = 2\\n\\'\\'\\')', '_13': 91, '_i14': 'from modtest import *\\nf(3)', 'f': <function f at 0x7961e3b2e3b0>, 'a': 4, '_14': 3, '_i15': '_g(3)', '_i16': 'a', '_16': 4, '_i17': '_b', '_i18': 'import modtest\\nmodtest._b', 'modtest': <module 'modtest' from '/content/modtest.py'>, '_18': 2, '_i19': 'from modtest import _g\\n_g(5)', '_g': <function _g at 0x7961e3b2f010>, '_19': 5, '_i20': 'locals()', '_20': {...}, '_i21': 'globals()', '_21': {...}, '_i22': 'z = 2\\nimport math\\nfrom cmath import cos\\nglobals()', '_22': {...}, '_i23': 'locals()', '_23': {...}, '_i24': 'math.ceil(3.4)', '_24': 4, '_i25': 'del z, math, cos\\nlocals()', '_25': {...}, '_i26': 'math.ceil(3.4)', '_i27': 'import math\\nmath.ceil(3.4)', 'math': <module 'math' (built-in)>, '_27': 4, '_i28': 'def f(x):\\n    print(\"global: \", globals())\\n    print(\"Entry local: \", locals())\\n    y = x\\n    print(\"Exit local: \", locals())\\n\\nz = 2\\nglobals()', 'z': 2, '_28': {...}, '_i29': 'f(z)'}\n",
            "Entry local:  {'x': 2}\n",
            "Exit local:  {'x': 2, 'y': 2}\n"
          ]
        }
      ]
    },
    {
      "cell_type": "code",
      "metadata": {
        "id": "gFxCAmTwQIHm",
        "colab": {
          "base_uri": "https://localhost:8080/"
        },
        "outputId": "1edee4a7-ecfe-4bfe-e53d-a5723c83019f"
      },
      "source": [
        "open(\"scopetest.py\", \"w\").write(\n",
        "'''\"\"\"scopetest: our scope test module\"\"\"\n",
        "v = 6\n",
        "def f(x):\n",
        "    \"\"\"f: scope test function\"\"\"\n",
        "    print(\"global: \", list(globals().keys()))\n",
        "    print(\"entry local:\", locals())\n",
        "    y = x\n",
        "    w = v\n",
        "    print(\"exit local:\", locals().keys())\n",
        "''')"
      ],
      "execution_count": 33,
      "outputs": [
        {
          "output_type": "execute_result",
          "data": {
            "text/plain": [
              "232"
            ]
          },
          "metadata": {},
          "execution_count": 33
        }
      ]
    },
    {
      "cell_type": "code",
      "metadata": {
        "id": "WB_d6K01QIHm",
        "colab": {
          "base_uri": "https://localhost:8080/"
        },
        "outputId": "446d00d8-68b4-47ed-ee95-a8b1587a77e4"
      },
      "source": [
        "import scopetest\n",
        "z = 2\n",
        "scopetest.f(z)"
      ],
      "execution_count": 34,
      "outputs": [
        {
          "output_type": "stream",
          "name": "stdout",
          "text": [
            "global:  ['__name__', '__doc__', '__package__', '__loader__', '__spec__', '__file__', '__cached__', '__builtins__', 'v', 'f']\n",
            "entry local: {'x': 2}\n",
            "exit local: dict_keys(['x', 'y', 'w'])\n"
          ]
        }
      ]
    },
    {
      "cell_type": "code",
      "metadata": {
        "id": "941ncuwjQIHm",
        "colab": {
          "base_uri": "https://localhost:8080/"
        },
        "outputId": "5aa3afbc-354f-4385-efb7-4de5f0f9d523"
      },
      "source": [
        "dir(__builtins__)"
      ],
      "execution_count": 35,
      "outputs": [
        {
          "output_type": "execute_result",
          "data": {
            "text/plain": [
              "['ArithmeticError',\n",
              " 'AssertionError',\n",
              " 'AttributeError',\n",
              " 'BaseException',\n",
              " 'BlockingIOError',\n",
              " 'BrokenPipeError',\n",
              " 'BufferError',\n",
              " 'BytesWarning',\n",
              " 'ChildProcessError',\n",
              " 'ConnectionAbortedError',\n",
              " 'ConnectionError',\n",
              " 'ConnectionRefusedError',\n",
              " 'ConnectionResetError',\n",
              " 'DeprecationWarning',\n",
              " 'EOFError',\n",
              " 'Ellipsis',\n",
              " 'EncodingWarning',\n",
              " 'EnvironmentError',\n",
              " 'Exception',\n",
              " 'False',\n",
              " 'FileExistsError',\n",
              " 'FileNotFoundError',\n",
              " 'FloatingPointError',\n",
              " 'FutureWarning',\n",
              " 'GeneratorExit',\n",
              " 'IOError',\n",
              " 'ImportError',\n",
              " 'ImportWarning',\n",
              " 'IndentationError',\n",
              " 'IndexError',\n",
              " 'InterruptedError',\n",
              " 'IsADirectoryError',\n",
              " 'KeyError',\n",
              " 'KeyboardInterrupt',\n",
              " 'LookupError',\n",
              " 'MemoryError',\n",
              " 'ModuleNotFoundError',\n",
              " 'NameError',\n",
              " 'None',\n",
              " 'NotADirectoryError',\n",
              " 'NotImplemented',\n",
              " 'NotImplementedError',\n",
              " 'OSError',\n",
              " 'OverflowError',\n",
              " 'PendingDeprecationWarning',\n",
              " 'PermissionError',\n",
              " 'ProcessLookupError',\n",
              " 'RecursionError',\n",
              " 'ReferenceError',\n",
              " 'ResourceWarning',\n",
              " 'RuntimeError',\n",
              " 'RuntimeWarning',\n",
              " 'StopAsyncIteration',\n",
              " 'StopIteration',\n",
              " 'SyntaxError',\n",
              " 'SyntaxWarning',\n",
              " 'SystemError',\n",
              " 'SystemExit',\n",
              " 'TabError',\n",
              " 'TimeoutError',\n",
              " 'True',\n",
              " 'TypeError',\n",
              " 'UnboundLocalError',\n",
              " 'UnicodeDecodeError',\n",
              " 'UnicodeEncodeError',\n",
              " 'UnicodeError',\n",
              " 'UnicodeTranslateError',\n",
              " 'UnicodeWarning',\n",
              " 'UserWarning',\n",
              " 'ValueError',\n",
              " 'Warning',\n",
              " 'ZeroDivisionError',\n",
              " '__IPYTHON__',\n",
              " '__build_class__',\n",
              " '__debug__',\n",
              " '__doc__',\n",
              " '__import__',\n",
              " '__loader__',\n",
              " '__name__',\n",
              " '__package__',\n",
              " '__spec__',\n",
              " 'abs',\n",
              " 'aiter',\n",
              " 'all',\n",
              " 'anext',\n",
              " 'any',\n",
              " 'ascii',\n",
              " 'bin',\n",
              " 'bool',\n",
              " 'breakpoint',\n",
              " 'bytearray',\n",
              " 'bytes',\n",
              " 'callable',\n",
              " 'chr',\n",
              " 'classmethod',\n",
              " 'compile',\n",
              " 'complex',\n",
              " 'copyright',\n",
              " 'credits',\n",
              " 'delattr',\n",
              " 'dict',\n",
              " 'dir',\n",
              " 'display',\n",
              " 'divmod',\n",
              " 'enumerate',\n",
              " 'eval',\n",
              " 'exec',\n",
              " 'execfile',\n",
              " 'filter',\n",
              " 'float',\n",
              " 'format',\n",
              " 'frozenset',\n",
              " 'get_ipython',\n",
              " 'getattr',\n",
              " 'globals',\n",
              " 'hasattr',\n",
              " 'hash',\n",
              " 'help',\n",
              " 'hex',\n",
              " 'id',\n",
              " 'input',\n",
              " 'int',\n",
              " 'isinstance',\n",
              " 'issubclass',\n",
              " 'iter',\n",
              " 'len',\n",
              " 'license',\n",
              " 'list',\n",
              " 'locals',\n",
              " 'map',\n",
              " 'max',\n",
              " 'memoryview',\n",
              " 'min',\n",
              " 'next',\n",
              " 'object',\n",
              " 'oct',\n",
              " 'open',\n",
              " 'ord',\n",
              " 'pow',\n",
              " 'print',\n",
              " 'property',\n",
              " 'range',\n",
              " 'repr',\n",
              " 'reversed',\n",
              " 'round',\n",
              " 'runfile',\n",
              " 'set',\n",
              " 'setattr',\n",
              " 'slice',\n",
              " 'sorted',\n",
              " 'staticmethod',\n",
              " 'str',\n",
              " 'sum',\n",
              " 'super',\n",
              " 'tuple',\n",
              " 'type',\n",
              " 'vars',\n",
              " 'zip']"
            ]
          },
          "metadata": {},
          "execution_count": 35
        }
      ]
    },
    {
      "cell_type": "code",
      "metadata": {
        "id": "uokKe7WYQIHn",
        "colab": {
          "base_uri": "https://localhost:8080/"
        },
        "outputId": "6d9999dd-b13d-4c4e-89d1-4dfe48df2108"
      },
      "source": [
        "print(max.__doc__)"
      ],
      "execution_count": 36,
      "outputs": [
        {
          "output_type": "stream",
          "name": "stdout",
          "text": [
            "max(iterable, *[, default=obj, key=func]) -> value\n",
            "max(arg1, arg2, *args, *[, key=func]) -> value\n",
            "\n",
            "With a single iterable argument, return its biggest item. The\n",
            "default keyword-only argument specifies an object to return if\n",
            "the provided iterable is empty.\n",
            "With two or more arguments, return the largest argument.\n"
          ]
        }
      ]
    },
    {
      "cell_type": "code",
      "metadata": {
        "id": "p4qJLAQbQIHn",
        "colab": {
          "base_uri": "https://localhost:8080/"
        },
        "outputId": "92321f33-c196-424d-dd5e-31283e093b3b"
      },
      "source": [
        "list(\"Peyto Lake\")"
      ],
      "execution_count": 38,
      "outputs": [
        {
          "output_type": "execute_result",
          "data": {
            "text/plain": [
              "['P', 'e', 'y', 't', 'o', ' ', 'L', 'a', 'k', 'e']"
            ]
          },
          "metadata": {},
          "execution_count": 38
        }
      ]
    },
    {
      "cell_type": "code",
      "metadata": {
        "id": "iiQ3vjM_QIHn",
        "colab": {
          "base_uri": "https://localhost:8080/",
          "height": 159
        },
        "outputId": "c666a52d-9241-4947-d2d6-5f0ae8e8a1c1"
      },
      "source": [
        "list = [1, 3, 5, 7]\n",
        "list(\"Peyto Lake\")"
      ],
      "execution_count": 39,
      "outputs": [
        {
          "output_type": "error",
          "ename": "TypeError",
          "evalue": "'list' object is not callable",
          "traceback": [
            "\u001b[0;31m---------------------------------------------------------------------------\u001b[0m",
            "\u001b[0;31mTypeError\u001b[0m                                 Traceback (most recent call last)",
            "\u001b[0;32m<ipython-input-39-7845f2807d9f>\u001b[0m in \u001b[0;36m<cell line: 2>\u001b[0;34m()\u001b[0m\n\u001b[1;32m      1\u001b[0m \u001b[0mlist\u001b[0m \u001b[0;34m=\u001b[0m \u001b[0;34m[\u001b[0m\u001b[0;36m1\u001b[0m\u001b[0;34m,\u001b[0m \u001b[0;36m3\u001b[0m\u001b[0;34m,\u001b[0m \u001b[0;36m5\u001b[0m\u001b[0;34m,\u001b[0m \u001b[0;36m7\u001b[0m\u001b[0;34m]\u001b[0m\u001b[0;34m\u001b[0m\u001b[0;34m\u001b[0m\u001b[0m\n\u001b[0;32m----> 2\u001b[0;31m \u001b[0mlist\u001b[0m\u001b[0;34m(\u001b[0m\u001b[0;34m\"Peyto Lake\"\u001b[0m\u001b[0;34m)\u001b[0m\u001b[0;34m\u001b[0m\u001b[0;34m\u001b[0m\u001b[0m\n\u001b[0m",
            "\u001b[0;31mTypeError\u001b[0m: 'list' object is not callable"
          ]
        }
      ]
    },
    {
      "cell_type": "code",
      "metadata": {
        "id": "pv4tIvVMQIHn",
        "colab": {
          "base_uri": "https://localhost:8080/",
          "height": 176
        },
        "outputId": "d6cd1ede-ccb3-4d36-a83b-8c01883df024"
      },
      "source": [
        "import mymath\n",
        "mymath = mymath.area\n",
        "mymath.pi"
      ],
      "execution_count": 40,
      "outputs": [
        {
          "output_type": "error",
          "ename": "AttributeError",
          "evalue": "'function' object has no attribute 'pi'",
          "traceback": [
            "\u001b[0;31m---------------------------------------------------------------------------\u001b[0m",
            "\u001b[0;31mAttributeError\u001b[0m                            Traceback (most recent call last)",
            "\u001b[0;32m<ipython-input-40-4e7325de62ae>\u001b[0m in \u001b[0;36m<cell line: 3>\u001b[0;34m()\u001b[0m\n\u001b[1;32m      1\u001b[0m \u001b[0;32mimport\u001b[0m \u001b[0mmymath\u001b[0m\u001b[0;34m\u001b[0m\u001b[0;34m\u001b[0m\u001b[0m\n\u001b[1;32m      2\u001b[0m \u001b[0mmymath\u001b[0m \u001b[0;34m=\u001b[0m \u001b[0mmymath\u001b[0m\u001b[0;34m.\u001b[0m\u001b[0marea\u001b[0m\u001b[0;34m\u001b[0m\u001b[0;34m\u001b[0m\u001b[0m\n\u001b[0;32m----> 3\u001b[0;31m \u001b[0mmymath\u001b[0m\u001b[0;34m.\u001b[0m\u001b[0mpi\u001b[0m\u001b[0;34m\u001b[0m\u001b[0;34m\u001b[0m\u001b[0m\n\u001b[0m",
            "\u001b[0;31mAttributeError\u001b[0m: 'function' object has no attribute 'pi'"
          ]
        }
      ]
    },
    {
      "cell_type": "code",
      "metadata": {
        "id": "OeTpicFdQIHo",
        "colab": {
          "base_uri": "https://localhost:8080/"
        },
        "outputId": "dee30ca4-f5e9-48a5-b199-1e270a3b44c5"
      },
      "source": [
        "del list\n",
        "list(\"Peyto Lake\")"
      ],
      "execution_count": 41,
      "outputs": [
        {
          "output_type": "execute_result",
          "data": {
            "text/plain": [
              "['P', 'e', 'y', 't', 'o', ' ', 'L', 'a', 'k', 'e']"
            ]
          },
          "metadata": {},
          "execution_count": 41
        }
      ]
    },
    {
      "cell_type": "code",
      "metadata": {
        "id": "-iF8TyyGQIHo",
        "colab": {
          "base_uri": "https://localhost:8080/"
        },
        "outputId": "e7ea1428-0751-4d36-8b9a-729c2f84cd00"
      },
      "source": [
        "import mymath\n",
        "mymath.pi"
      ],
      "execution_count": 42,
      "outputs": [
        {
          "output_type": "execute_result",
          "data": {
            "text/plain": [
              "3.14159"
            ]
          },
          "metadata": {},
          "execution_count": 42
        }
      ]
    },
    {
      "cell_type": "code",
      "metadata": {
        "id": "IHuiCFjlQIHo",
        "colab": {
          "base_uri": "https://localhost:8080/"
        },
        "outputId": "f8b3df11-86e6-4881-c467-a308438b9cba"
      },
      "source": [
        "x1 = 6\n",
        "xl = x1 - 2\n",
        "x1"
      ],
      "execution_count": 43,
      "outputs": [
        {
          "output_type": "execute_result",
          "data": {
            "text/plain": [
              "6"
            ]
          },
          "metadata": {},
          "execution_count": 43
        }
      ]
    },
    {
      "cell_type": "code",
      "metadata": {
        "id": "X8N9Ef5CQIH0",
        "colab": {
          "base_uri": "https://localhost:8080/"
        },
        "outputId": "3bc4515f-b013-4a17-dda2-46e9f3d320b4"
      },
      "source": [
        "dir()"
      ],
      "execution_count": 44,
      "outputs": [
        {
          "output_type": "execute_result",
          "data": {
            "text/plain": [
              "['In',\n",
              " 'Out',\n",
              " '_',\n",
              " '_1',\n",
              " '_11',\n",
              " '_12',\n",
              " '_13',\n",
              " '_14',\n",
              " '_16',\n",
              " '_18',\n",
              " '_19',\n",
              " '_20',\n",
              " '_21',\n",
              " '_22',\n",
              " '_23',\n",
              " '_24',\n",
              " '_25',\n",
              " '_27',\n",
              " '_28',\n",
              " '_3',\n",
              " '_33',\n",
              " '_35',\n",
              " '_37',\n",
              " '_38',\n",
              " '_4',\n",
              " '_41',\n",
              " '_42',\n",
              " '_43',\n",
              " '_5',\n",
              " '_6',\n",
              " '_7',\n",
              " '_8',\n",
              " '_9',\n",
              " '__',\n",
              " '___',\n",
              " '__builtin__',\n",
              " '__builtins__',\n",
              " '__doc__',\n",
              " '__loader__',\n",
              " '__name__',\n",
              " '__package__',\n",
              " '__spec__',\n",
              " '_dh',\n",
              " '_g',\n",
              " '_i',\n",
              " '_i1',\n",
              " '_i10',\n",
              " '_i11',\n",
              " '_i12',\n",
              " '_i13',\n",
              " '_i14',\n",
              " '_i15',\n",
              " '_i16',\n",
              " '_i17',\n",
              " '_i18',\n",
              " '_i19',\n",
              " '_i2',\n",
              " '_i20',\n",
              " '_i21',\n",
              " '_i22',\n",
              " '_i23',\n",
              " '_i24',\n",
              " '_i25',\n",
              " '_i26',\n",
              " '_i27',\n",
              " '_i28',\n",
              " '_i29',\n",
              " '_i3',\n",
              " '_i30',\n",
              " '_i31',\n",
              " '_i32',\n",
              " '_i33',\n",
              " '_i34',\n",
              " '_i35',\n",
              " '_i36',\n",
              " '_i37',\n",
              " '_i38',\n",
              " '_i39',\n",
              " '_i4',\n",
              " '_i40',\n",
              " '_i41',\n",
              " '_i42',\n",
              " '_i43',\n",
              " '_i44',\n",
              " '_i5',\n",
              " '_i6',\n",
              " '_i7',\n",
              " '_i8',\n",
              " '_i9',\n",
              " '_ih',\n",
              " '_ii',\n",
              " '_iii',\n",
              " '_oh',\n",
              " 'a',\n",
              " 'exit',\n",
              " 'f',\n",
              " 'get_ipython',\n",
              " 'importlib',\n",
              " 'math',\n",
              " 'modtest',\n",
              " 'mymath',\n",
              " 'pi',\n",
              " 'quit',\n",
              " 'scopetest',\n",
              " 'sys',\n",
              " 'v',\n",
              " 'x1',\n",
              " 'xl',\n",
              " 'z']"
            ]
          },
          "metadata": {},
          "execution_count": 44
        }
      ]
    },
    {
      "cell_type": "markdown",
      "source": [
        "### Quick Check: Namespaces and scope\n",
        "Consider a variable width that's in the module `make_window.py`. In which of the following contexts is width in scope?:\n",
        "\n",
        " 1. within the module itself\n",
        " 2. inside the `resize()` function in the module\n",
        " 3. within the script that imported the `make_window.py` module"
      ],
      "metadata": {
        "id": "M6fLXJSnXqVD"
      }
    },
    {
      "cell_type": "markdown",
      "source": [
        "# Lab 10: Create a module\n",
        "Package the functions created at the end of chapter 9 as a standalone module. Although you can include code to run the module as the main program, the goal should be for the functions to be completely usable from another script."
      ],
      "metadata": {
        "id": "wfOT4BQhYLEf"
      }
    },
    {
      "cell_type": "code",
      "source": [],
      "metadata": {
        "id": "8fX3Mk7CXklB"
      },
      "execution_count": null,
      "outputs": []
    }
  ]
}