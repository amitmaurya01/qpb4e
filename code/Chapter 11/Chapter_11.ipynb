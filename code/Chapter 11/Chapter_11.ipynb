{
  "nbformat": 4,
  "nbformat_minor": 0,
  "metadata": {
    "colab": {
      "provenance": [],
      "authorship_tag": "ABX9TyM46R9Aoj9v3wr+Ku8cGREJ",
      "include_colab_link": true
    },
    "kernelspec": {
      "name": "python3",
      "display_name": "Python 3"
    },
    "language_info": {
      "name": "python"
    }
  },
  "cells": [
    {
      "cell_type": "markdown",
      "metadata": {
        "id": "view-in-github",
        "colab_type": "text"
      },
      "source": [
        "<a href=\"https://colab.research.google.com/github/nceder/qpb4e/blob/main/code/Chapter%2011/Chapter_11.ipynb\" target=\"_parent\"><img src=\"https://colab.research.google.com/assets/colab-badge.svg\" alt=\"Open In Colab\"/></a>"
      ]
    },
    {
      "cell_type": "markdown",
      "source": [
        "# 11 Python programs"
      ],
      "metadata": {
        "id": "reyZ3JJDBYsw"
      }
    },
    {
      "cell_type": "markdown",
      "source": [
        "# 11.1 Creating a very basic program"
      ],
      "metadata": {
        "id": "n1TIhuWIBk3i"
      }
    },
    {
      "cell_type": "code",
      "source": [
        "!wget https://raw.githubusercontent.com/nceder/qpb4e/main/code/Chapter%2011/script1.py &> null  && echo Downloaded"
      ],
      "metadata": {
        "id": "6rQ7I-A6xbQc",
        "outputId": "1feacec0-50c5-4791-dafe-7951cf89d0bc",
        "colab": {
          "base_uri": "https://localhost:8080/"
        }
      },
      "execution_count": null,
      "outputs": [
        {
          "output_type": "stream",
          "name": "stdout",
          "text": [
            "Downloaded\n"
          ]
        }
      ]
    },
    {
      "cell_type": "code",
      "execution_count": null,
      "metadata": {
        "id": "YZfFO8MHjB98"
      },
      "outputs": [],
      "source": [
        "# Listing 11.1 File script1.py\n",
        "\n",
        "def main():                              #A\n",
        "    print(\"this is our first test script file\")\n",
        "main()"
      ]
    },
    {
      "cell_type": "code",
      "source": [
        "! python script1.py"
      ],
      "metadata": {
        "id": "Ws3d0AaJ1M37",
        "outputId": "b708f833-25c5-4c90-da2a-f90dd77a58f9",
        "colab": {
          "base_uri": "https://localhost:8080/"
        }
      },
      "execution_count": null,
      "outputs": [
        {
          "output_type": "stream",
          "name": "stdout",
          "text": [
            "this is our first test script file\n"
          ]
        }
      ]
    },
    {
      "cell_type": "markdown",
      "source": [
        "## 11.1.2 Command-line arguments"
      ],
      "metadata": {
        "id": "Yr2QiEZDBxzB"
      }
    },
    {
      "cell_type": "code",
      "source": [
        "!wget https://raw.githubusercontent.com/nceder/qpb4e/main/code/Chapter%2011/script2.py &> null  && echo Downloaded"
      ],
      "metadata": {
        "id": "MqCA_s8S1SWd",
        "outputId": "ab6069ed-60b9-49cc-e6a3-d32fe3f30b7c",
        "colab": {
          "base_uri": "https://localhost:8080/"
        }
      },
      "execution_count": 4,
      "outputs": [
        {
          "output_type": "stream",
          "name": "stdout",
          "text": [
            "Downloaded\n"
          ]
        }
      ]
    },
    {
      "cell_type": "markdown",
      "source": [
        "```python\n",
        "# Listing 11.2 File script2.py\n",
        "\n",
        "import sys\n",
        "def main():\n",
        "    print(\"this is our second test script file\")\n",
        "    print(sys.argv)\n",
        "main()\n",
        "```"
      ],
      "metadata": {
        "id": "hmtrHPFlJTfH"
      }
    },
    {
      "cell_type": "code",
      "source": [
        "! python script2.py arg1 arg2 3"
      ],
      "metadata": {
        "id": "XeT40bLv1W7e",
        "outputId": "7f048a3a-a4e8-49be-c9be-e36281295d96",
        "colab": {
          "base_uri": "https://localhost:8080/"
        }
      },
      "execution_count": 5,
      "outputs": [
        {
          "output_type": "stream",
          "name": "stdout",
          "text": [
            "this is our second test script file\n",
            "['script2.py', 'arg1', 'arg2', '3']\n"
          ]
        }
      ]
    },
    {
      "cell_type": "markdown",
      "source": [
        "## 11.1.3 Redirecting the input and output of a script"
      ],
      "metadata": {
        "id": "twLeeUMXB58x"
      }
    },
    {
      "cell_type": "code",
      "source": [
        "!wget https://raw.githubusercontent.com/nceder/qpb4e/main/code/Chapter%2011/replace.py &> null  && echo Downloaded"
      ],
      "metadata": {
        "id": "fBh8doS91g5w",
        "outputId": "77b5390e-c06a-4c12-9394-13840307b235",
        "colab": {
          "base_uri": "https://localhost:8080/"
        }
      },
      "execution_count": 6,
      "outputs": [
        {
          "output_type": "stream",
          "name": "stdout",
          "text": [
            "Downloaded\n"
          ]
        }
      ]
    },
    {
      "cell_type": "markdown",
      "source": [
        "```python\n",
        "#Listing 11.3 File replace.py\n",
        "\n",
        "import sys\n",
        "def main():\n",
        "   contents = sys.stdin.read()                     #A\n",
        "   sys.stdout.write(contents.replace(sys.argv[1], sys.argv[2]))  #B\n",
        "main()\n",
        "```\n"
      ],
      "metadata": {
        "id": "UFAvhdcfJJwT"
      }
    },
    {
      "cell_type": "code",
      "source": [
        "! python replace.py zero 0 < infile > outfile\n"
      ],
      "metadata": {
        "id": "Wqx_sSWr15Gx",
        "outputId": "0f9b6790-bbab-4a60-a60c-2e65809fcf55",
        "colab": {
          "base_uri": "https://localhost:8080/"
        }
      },
      "execution_count": null,
      "outputs": [
        {
          "output_type": "stream",
          "name": "stdout",
          "text": [
            "\n",
            "^C\n"
          ]
        }
      ]
    },
    {
      "cell_type": "markdown",
      "source": [
        "# 11.4 The argparse module"
      ],
      "metadata": {
        "id": "ZyC1NkQMIvat"
      }
    },
    {
      "cell_type": "code",
      "source": [
        "!wget https://raw.githubusercontent.com/nceder/qpb4e/main/code/Chapter%2011/opts.py &> null  && echo Downloaded"
      ],
      "metadata": {
        "id": "m-NW2dWy16I0",
        "outputId": "d3404e23-5e99-4b55-8f1d-82b11ba29715",
        "colab": {
          "base_uri": "https://localhost:8080/"
        }
      },
      "execution_count": null,
      "outputs": [
        {
          "output_type": "stream",
          "name": "stdout",
          "text": [
            "Downloaded\n"
          ]
        }
      ]
    },
    {
      "cell_type": "markdown",
      "source": [
        "```python\n",
        "# Listing 11.4 File opts.py\n",
        "\n",
        "from argparse import ArgumentParser\n",
        "\n",
        "def main():\n",
        "    parser = ArgumentParser()\n",
        "    parser.add_argument(\"indent\", type=int, help=\"indent for report\")\n",
        "    parser.add_argument(\"input_file\", help=\"read data from this file\")   #1\n",
        "    parser.add_argument(\"-f\", \"--file\", dest=\"filename\",             #2\n",
        "                  help=\"write report to FILE\", metavar=\"FILE\")\n",
        "    parser.add_argument(\"-x\", \"--xray\",\n",
        "                  help=\"specify xray strength factor\")\n",
        "    parser.add_argument(\"-q\", \"--quiet\",\n",
        "                  action=\"store_false\", dest=\"verbose\", default=True, #3\n",
        "                  help=\"don't print status messages to stdout\")\n",
        "\n",
        "    args = parser.parse_args()\n",
        "\n",
        "    print(\"arguments:\", args)\n",
        "\n",
        "main()\n",
        "```"
      ],
      "metadata": {
        "id": "-JeD7bDQI51b"
      }
    },
    {
      "cell_type": "code",
      "source": [
        "! python opts.py 4 infile -f outfile -x 3"
      ],
      "metadata": {
        "id": "utsB4KIL2Xhc",
        "outputId": "401d01ba-37bb-4a91-852e-590ee6802b8c",
        "colab": {
          "base_uri": "https://localhost:8080/"
        }
      },
      "execution_count": null,
      "outputs": [
        {
          "output_type": "stream",
          "name": "stdout",
          "text": [
            "arguments: Namespace(indent=4, input_file='infile', filename='outfile', xray='3', verbose=True)\n"
          ]
        }
      ]
    },
    {
      "cell_type": "markdown",
      "source": [
        "## 11.1.5 Using the fileinput module"
      ],
      "metadata": {
        "id": "kZgJ9klbJn-O"
      }
    },
    {
      "cell_type": "code",
      "source": [
        "open(\"sole1.tst\", \"w\").write(\n",
        "    \"\"\"## sole1.tst: test data for the sole function\n",
        "0 0 0\n",
        "0 100 0\n",
        "##\"\"\"\n",
        ")\n",
        "open(\"sole2.tst\", \"w\").write(\n",
        "    \"\"\"## sole2.tst: more test data for the sole function\n",
        "12 15 0\n",
        "##\n",
        "100 100 0\"\"\"\n",
        ")\n",
        "\n",
        "!wget https://raw.githubusercontent.com/nceder/qpb4e/main/code/Chapter%2011/script4.py  &> null  && echo Downloaded"
      ],
      "metadata": {
        "colab": {
          "base_uri": "https://localhost:8080/"
        },
        "id": "Bwwf7Mzgkikg",
        "outputId": "af481f30-f55b-418c-e6ab-0673dad2cb32"
      },
      "execution_count": 7,
      "outputs": [
        {
          "output_type": "stream",
          "name": "stdout",
          "text": [
            "Downloaded\n"
          ]
        }
      ]
    },
    {
      "cell_type": "markdown",
      "source": [
        "```python\n",
        "# Listing 11.5 File script4.py\n",
        "\n",
        "import fileinput\n",
        "def main():\n",
        "    for line in fileinput.input():\n",
        "        if not line.startswith('##'):\n",
        "            print(line, end=\"\")\n",
        "main()\n",
        "```"
      ],
      "metadata": {
        "id": "P1DG6KcRKNLj"
      }
    },
    {
      "cell_type": "code",
      "source": [
        "! python script4.py sole1.tst sole2.tst"
      ],
      "metadata": {
        "id": "WU8HQMOU5gy3",
        "outputId": "8ff1d347-7185-4c8e-de7f-9750cb273346",
        "colab": {
          "base_uri": "https://localhost:8080/"
        }
      },
      "execution_count": 8,
      "outputs": [
        {
          "output_type": "stream",
          "name": "stdout",
          "text": [
            "0 0 0\n",
            "0 100 0\n",
            "12 15 0\n",
            "100 100 0"
          ]
        }
      ]
    },
    {
      "cell_type": "code",
      "source": [
        "!wget https://raw.githubusercontent.com/nceder/qpb4e/main/code/Chapter%2011/script5.py &> null  && echo Downloaded"
      ],
      "metadata": {
        "id": "y7qQkQkW8l81",
        "outputId": "28a9547d-7292-4668-afd7-53d26fe897ce",
        "colab": {
          "base_uri": "https://localhost:8080/"
        }
      },
      "execution_count": 10,
      "outputs": [
        {
          "output_type": "stream",
          "name": "stdout",
          "text": [
            "Downloaded\n"
          ]
        }
      ]
    },
    {
      "cell_type": "markdown",
      "source": [
        "```python\n",
        "# Listing 11.8 File script5.py\n",
        "\n",
        "import fileinput\n",
        "def main():\n",
        "    for line in fileinput.input():\n",
        "        if fileinput.isfirstline():\n",
        "            print(\"<start of file {0}>\".format(fileinput.filename()))\n",
        "        print(line, end=\"\")\n",
        "main()\n",
        "```"
      ],
      "metadata": {
        "id": "A7TDd8bIKa4j"
      }
    },
    {
      "cell_type": "code",
      "source": [
        "! python script5.py sole1.tst sole2.tst"
      ],
      "metadata": {
        "id": "jAriJUQm8qFR",
        "outputId": "92dc259a-3d03-4afc-e250-5adf2e549c35",
        "colab": {
          "base_uri": "https://localhost:8080/"
        }
      },
      "execution_count": 11,
      "outputs": [
        {
          "output_type": "stream",
          "name": "stdout",
          "text": [
            "<start of file sole1.tst>\n",
            "## sole1.tst: test data for the sole function\n",
            "0 0 0\n",
            "0 100 0\n",
            "##<start of file sole2.tst>\n",
            "## sole2.tst: more test data for the sole function\n",
            "12 15 0\n",
            "##\n",
            "100 100 0"
          ]
        }
      ]
    },
    {
      "cell_type": "markdown",
      "source": [
        "# 11.6 Programs and modules"
      ],
      "metadata": {
        "id": "JmkQ4V8qK1pv"
      }
    },
    {
      "cell_type": "code",
      "source": [
        "!wget https://raw.githubusercontent.com/nceder/qpb4e/main/code/Chapter%2011/script6.py  &> null  && echo Downloaded"
      ],
      "metadata": {
        "id": "C22VSUUF9PVn",
        "outputId": "40fcd18b-aeeb-4242-c3a2-8d1cc5f4e63e",
        "colab": {
          "base_uri": "https://localhost:8080/"
        }
      },
      "execution_count": 12,
      "outputs": [
        {
          "output_type": "stream",
          "name": "stdout",
          "text": [
            "Downloaded\n"
          ]
        }
      ]
    },
    {
      "cell_type": "markdown",
      "source": [
        "```python\n",
        "# Listing 11.9 File script6.py\n",
        "\n",
        "#! /usr/bin/env python3\n",
        "import sys\n",
        "# conversion mappings\n",
        "_1to9dict = {'0': '', '1': 'one', '2': 'two', '3': 'three', '4': 'four',\n",
        "             '5': 'five', '6': 'six', '7': 'seven', '8': 'eight',\n",
        "             '9': 'nine'}\n",
        "_10to19dict = {'0': 'ten', '1': 'eleven', '2': 'twelve',\n",
        "               '3': 'thirteen', '4': 'fourteen', '5': 'fifteen',\n",
        "               '6': 'sixteen', '7': 'seventeen', '8': 'eighteen',\n",
        "               '9': 'nineteen'}\n",
        "_20to90dict = {'2': 'twenty', '3': 'thirty', '4': 'forty', '5': 'fifty',\n",
        "               '6': 'sixty', '7': 'seventy', '8': 'eighty', '9': 'ninety'}\n",
        "def num2words(num_string):\n",
        "    if num_string == '0':\n",
        "        return'zero'\n",
        "    if len(num_string) > 2:\n",
        "        return \"Sorry can only handle 1 or 2 digit numbers\"\n",
        "    num_string = '0' + num_string                   #A\n",
        "    tens, ones = num_string[-2], num_string[-1]\n",
        "    if tens == '0':\n",
        "        return _1to9dict[ones]\n",
        "    elif tens == '1':\n",
        "        return _10to19dict[ones]\n",
        "    else:\n",
        "        return _20to90dict[tens] + ' ' + _1to9dict[ones]\n",
        "def main():\n",
        "    print(num2words(sys.argv[1]))        #1\n",
        "main()\n",
        "```"
      ],
      "metadata": {
        "id": "_NtxH4xjLClY"
      }
    },
    {
      "cell_type": "code",
      "source": [
        "!python script6.py 59"
      ],
      "metadata": {
        "id": "if7F-mIM-i_A",
        "outputId": "a6ba465c-38c9-4b11-8a53-3ff7059e02b0",
        "colab": {
          "base_uri": "https://localhost:8080/"
        }
      },
      "execution_count": null,
      "outputs": [
        {
          "output_type": "stream",
          "name": "stdout",
          "text": [
            "fifty nine\n"
          ]
        }
      ]
    },
    {
      "cell_type": "code",
      "source": [
        "!wget https://raw.githubusercontent.com/nceder/qpb4e/main/code/Chapter%2011/n2w.py &> null   && echo Downloaded\n"
      ],
      "metadata": {
        "id": "7HdgL6Wplxnp",
        "outputId": "6d45f447-dd75-4a6c-d686-830013e706a4",
        "colab": {
          "base_uri": "https://localhost:8080/"
        }
      },
      "execution_count": 14,
      "outputs": [
        {
          "output_type": "stream",
          "name": "stdout",
          "text": [
            "Downloaded\n"
          ]
        }
      ]
    },
    {
      "cell_type": "markdown",
      "source": [
        "```python\n",
        "# Listing 11.10 File n2w.py\n",
        "\n",
        "#! /usr/bin/env python3\n",
        "\"\"\"n2w: number to words conversion module: contains function\n",
        "   num2words. Can also be run as a script\n",
        "usage as a script: n2w num\n",
        "           (Convert a number to its English word description)\n",
        "           num: whole integer from 0 and 999,999,999,999,999 (commas are\n",
        "           optional)\n",
        "example: n2w 10,003,103\n",
        "           for 10,003,103 say: ten million three thousand one hundred three\n",
        "\"\"\"\n",
        "import sys, string, argparse\n",
        "_1to9dict = {'0': '', '1': 'one', '2': 'two', '3': 'three', '4': 'four',\n",
        "             '5': 'five', '6': 'six', '7': 'seven', '8': 'eight',\n",
        "             '9': 'nine'}\n",
        "_10to19dict = {'0': 'ten', '1': 'eleven', '2': 'twelve',\n",
        "               '3': 'thirteen', '4': 'fourteen', '5': 'fifteen',\n",
        "               '6': 'sixteen', '7': 'seventeen', '8': 'eighteen',\n",
        "               '9': 'nineteen'}\n",
        "_20to90dict = {'2': 'twenty', '3': 'thirty', '4': 'forty', '5': 'fifty',\n",
        "               '6': 'sixty', '7': 'seventy', '8': 'eighty', '9': 'ninety'}\n",
        "_magnitude_list = [(0, ''), (3, ' thousand '), (6, ' million '),\n",
        "                  (9, ' billion '), (12, ' trillion '),(15, '')]\n",
        "def num2words(num_string):\n",
        "    \"\"\"num2words(num_string): convert number to English words\"\"\"\n",
        "    if num_string == '0':\n",
        "        return 'zero'\n",
        "    num_string = num_string.replace(\",\", \"\")\n",
        "    num_length = len(num_string)\n",
        "    max_digits = _magnitude_list[-1][0]\n",
        "    if num_length > max_digits:\n",
        "\n",
        "        return \"Sorry, can't handle numbers with more than  \" \\\n",
        "               \"{0} digits\".format(max_digits)\n",
        "\n",
        "    num_string = '00' + num_string\n",
        "    word_string = ''\n",
        "    for mag, name in _magnitude_list:\n",
        "        if mag >= num_length:\n",
        "            return word_string\n",
        "        else:\n",
        "            hundreds, tens, ones = num_string[-mag-3], \\\n",
        "                 num_string[-mag-2], num_string[-mag-1]\n",
        "            if not (hundreds == tens == ones == '0'):\n",
        "                word_string = _handle1to999(hundreds, tens, ones) + \\\n",
        "                                            name + word_string\n",
        "def _handle1to999(hundreds, tens, ones):\n",
        "    if hundreds == '0':\n",
        "        return _handle1to99(tens, ones)\n",
        "    else:\n",
        "        return _1to9dict[hundreds] + ' hundred ' + _handle1to99(tens, ones)\n",
        "def _handle1to99(tens, ones):\n",
        "    if tens == '0':\n",
        "        return _1to9dict[ones]\n",
        "    elif tens == '1':\n",
        "        return _10to19dict[ones]\n",
        "    else:\n",
        "        return _20to90dict[tens] + ' ' + _1to9dict[ones]\n",
        "def test():\n",
        "    values = sys.stdin.read().split()\n",
        "    for val in values:\n",
        "        print(\"{0} = {1}\".format(val, num2words(val)))\n",
        "def main():\n",
        "    parser = argparse.ArgumentParser(usage=__doc__)\n",
        "    parser.add_argument(\"num\", nargs='*')\n",
        "    parser.add_argument(\"-t\", \"--test\", dest=\"test\",\n",
        "                      action='store_true', default=False,\n",
        "                      help=\"Test mode: reads from stdin\")\n",
        "    args = parser.parse_args()\n",
        "    if args.test:\n",
        "        test()\n",
        "    else:\n",
        "        try:\n",
        "            result = num2words(args.num[0])\n",
        "        except KeyError:\n",
        "            parser.error('argument contains non-digits')\n",
        "        else:\n",
        "            print(\"For {0}, say: {1}\".format(args.num[0], result))\n",
        "if __name__ == '__main__':\n",
        "    main()\n",
        "else:\n",
        "    print(\"n2w  loaded as a module\")\n",
        "```"
      ],
      "metadata": {
        "id": "fWe0kxu6LpHT"
      }
    },
    {
      "cell_type": "code",
      "source": [
        "# Listing 11.11 File n2w.tst\n",
        "open(\"n2w.tst\", \"w\").write(\n",
        "    \"\"\"0 1 2 3 4 5 6 7 8 9 10 11 12 13 14 15 16 17 18 19 20 21 98 99 100\n",
        "101 102 900 901 999\n",
        "999,999,999,999,999\n",
        "1,000,000,000,000,000\"\"\"\n",
        ")"
      ],
      "metadata": {
        "colab": {
          "base_uri": "https://localhost:8080/"
        },
        "id": "5ax5OjkcmBFl",
        "outputId": "ac117846-7b6e-4dd8-ea83-6c1abb690f72"
      },
      "execution_count": 15,
      "outputs": [
        {
          "output_type": "execute_result",
          "data": {
            "text/plain": [
              "127"
            ]
          },
          "metadata": {},
          "execution_count": 15
        }
      ]
    },
    {
      "cell_type": "code",
      "source": [
        "! python n2w.py --test < n2w.tst"
      ],
      "metadata": {
        "id": "1BHhwTmImLJW",
        "outputId": "92642eec-9955-4bc3-a8a3-94645b91ea0b",
        "colab": {
          "base_uri": "https://localhost:8080/"
        }
      },
      "execution_count": 16,
      "outputs": [
        {
          "output_type": "stream",
          "name": "stdout",
          "text": [
            "0 = zero\n",
            "1 = one\n",
            "2 = two\n",
            "3 = three\n",
            "4 = four\n",
            "5 = five\n",
            "6 = six\n",
            "7 = seven\n",
            "8 = eight\n",
            "9 = nine\n",
            "10 = ten\n",
            "11 = eleven\n",
            "12 = twelve\n",
            "13 = thirteen\n",
            "14 = fourteen\n",
            "15 = fifteen\n",
            "16 = sixteen\n",
            "17 = seventeen\n",
            "18 = eighteen\n",
            "19 = nineteen\n",
            "20 = twenty \n",
            "21 = twenty one\n",
            "98 = ninety eight\n",
            "99 = ninety nine\n",
            "100 = one hundred \n",
            "101 = one hundred one\n",
            "102 = one hundred two\n",
            "900 = nine hundred \n",
            "901 = nine hundred one\n",
            "999 = nine hundred ninety nine\n",
            "999,999,999,999,999 = nine hundred ninety nine trillion nine hundred ninety nine billion nine hundred ninety nine million nine hundred ninety nine thousand nine hundred ninety nine\n",
            "1,000,000,000,000,000 = Sorry, can't handle numbers with more than  15 digits\n"
          ]
        }
      ]
    },
    {
      "cell_type": "code",
      "source": [],
      "metadata": {
        "id": "3olLhj__F5_7"
      },
      "execution_count": null,
      "outputs": []
    }
  ]
}