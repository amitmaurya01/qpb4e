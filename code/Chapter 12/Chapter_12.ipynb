{
  "nbformat": 4,
  "nbformat_minor": 0,
  "metadata": {
    "colab": {
      "provenance": [],
      "include_colab_link": true
    },
    "kernelspec": {
      "name": "python3",
      "display_name": "Python 3"
    },
    "language_info": {
      "name": "python"
    }
  },
  "cells": [
    {
      "cell_type": "markdown",
      "metadata": {
        "id": "view-in-github",
        "colab_type": "text"
      },
      "source": [
        "<a href=\"https://colab.research.google.com/github/nceder/qpb4e/blob/main/code/Chapter%2012/Chapter_12.ipynb\" target=\"_parent\"><img src=\"https://colab.research.google.com/assets/colab-badge.svg\" alt=\"Open In Colab\"/></a>"
      ]
    },
    {
      "cell_type": "code",
      "metadata": {
        "id": "Di3aNYV9jF_W",
        "outputId": "f7ecddfc-c829-406c-a971-c956318783b2"
      },
      "source": [
        "import os\n",
        "os.getcwd()"
      ],
      "execution_count": null,
      "outputs": [
        {
          "output_type": "stream",
          "name": "stdout",
          "text": []
        }
      ]
    },
    {
      "cell_type": "code",
      "metadata": {
        "id": "JQiAo-nRjF_X",
        "outputId": "bfee6326-a2d0-4341-b120-9063cb32122a"
      },
      "source": [
        "os.listdir(os.curdir)"
      ],
      "execution_count": null,
      "outputs": [
        {
          "output_type": "stream",
          "name": "stdout",
          "text": []
        }
      ]
    },
    {
      "cell_type": "code",
      "metadata": {
        "id": "1dDODadvjF_Y",
        "outputId": "a820cdd5-ef25-4b73-8bfc-7a38d9b5d6ba"
      },
      "source": [
        "os.chdir(folder name)    #A\n",
        "os.getcwd()"
      ],
      "execution_count": null,
      "outputs": [
        {
          "output_type": "stream",
          "name": "stdout",
          "text": []
        }
      ]
    },
    {
      "cell_type": "code",
      "metadata": {
        "id": "y3pGbxLijF_Y",
        "outputId": "f9bc1df9-84a3-4093-8173-fe69ca5b054d"
      },
      "source": [
        "import pathlib\n",
        "cur_path = pathlib.Path()\n",
        "cur_path.cwd()"
      ],
      "execution_count": null,
      "outputs": [
        {
          "output_type": "stream",
          "name": "stdout",
          "text": [
            "PosixPath('/home/naomi')\n"
          ]
        }
      ]
    },
    {
      "cell_type": "code",
      "metadata": {
        "id": "ZSxWNsjXjF_Z",
        "outputId": "63efbbbe-079b-4a4e-c135-1df1413b16c1"
      },
      "source": [
        "import os\n",
        "print(os.path.join('bin', 'utils', 'disktools'))"
      ],
      "execution_count": null,
      "outputs": [
        {
          "output_type": "stream",
          "name": "stdout",
          "text": [
            "bin\\utils\\disktools\n"
          ]
        }
      ]
    },
    {
      "cell_type": "code",
      "metadata": {
        "id": "yYywynQYjF_Z",
        "outputId": "eabbe29e-a0db-43c8-d23c-ea4bca6266d6"
      },
      "source": [
        "import os\n",
        "print(os.path.join('bin', 'utils', 'disktools'))"
      ],
      "execution_count": null,
      "outputs": [
        {
          "output_type": "stream",
          "name": "stdout",
          "text": [
            "bin/utils/disktools\n"
          ]
        }
      ]
    },
    {
      "cell_type": "code",
      "metadata": {
        "id": "uIt5-VYZjF_Z",
        "outputId": "9f0b009b-6f8e-4187-8f5a-46f73c10cd25"
      },
      "source": [
        "import os\n",
        "print(os.path.join('mydir\\\\bin', 'utils\\\\disktools\\\\chkdisk'))"
      ],
      "execution_count": null,
      "outputs": [
        {
          "output_type": "stream",
          "name": "stdout",
          "text": [
            "mydir\\bin\\utils\\disktools\\chkdisk\n"
          ]
        }
      ]
    },
    {
      "cell_type": "code",
      "metadata": {
        "id": "ahtKFVyPjF_Z",
        "outputId": "ded13a51-b293-4518-8802-35c137d37a79"
      },
      "source": [
        "path1 = os.path.join('mydir', 'bin');\n",
        "path2 = os.path.join('utils', 'disktools', 'chkdisk')\n",
        "print(os.path.join(path1, path2))"
      ],
      "execution_count": null,
      "outputs": [
        {
          "output_type": "stream",
          "name": "stdout",
          "text": [
            "mydir\\bin\\utils\\disktools\\chkdisk\n"
          ]
        }
      ]
    },
    {
      "cell_type": "code",
      "metadata": {
        "id": "v0OJBpurjF_a",
        "outputId": "1d2bef6a-150e-46b1-b225-0531eda7f165"
      },
      "source": [
        "import os\n",
        "print(os.path.split(os.path.join('some', 'directory', 'path')))"
      ],
      "execution_count": null,
      "outputs": [
        {
          "output_type": "stream",
          "name": "stdout",
          "text": [
            "('some\\\\directory', 'path')\n"
          ]
        }
      ]
    },
    {
      "cell_type": "code",
      "metadata": {
        "id": "dqRx560xjF_a",
        "outputId": "82d749e5-aa46-454a-a0c5-1d18877605e4"
      },
      "source": [
        "import os\n",
        "os.path.basename(os.path.join('some', 'directory', 'path.jpg'))"
      ],
      "execution_count": null,
      "outputs": [
        {
          "output_type": "stream",
          "name": "stdout",
          "text": [
            "'path.jpg'\n"
          ]
        }
      ]
    },
    {
      "cell_type": "code",
      "metadata": {
        "id": "3ZhkAn2sjF_a",
        "outputId": "fb624745-3346-4b99-eaff-3073aa558e0c"
      },
      "source": [
        "os.path.dirname(os.path.join('some', 'directory', 'path.jpg'))"
      ],
      "execution_count": null,
      "outputs": [
        {
          "output_type": "stream",
          "name": "stdout",
          "text": [
            "'some\\\\directory'\n"
          ]
        }
      ]
    },
    {
      "cell_type": "code",
      "metadata": {
        "id": "JWrNwV5CjF_a",
        "outputId": "b1876e69-6f48-4f10-e0eb-9fc1bf6aeb58"
      },
      "source": [
        "os.path.splitext(os.path.join('some', 'directory', 'path.jpg'))"
      ],
      "execution_count": null,
      "outputs": [
        {
          "output_type": "stream",
          "name": "stdout",
          "text": [
            "('some/directory/path', '.jpg')\n"
          ]
        }
      ]
    },
    {
      "cell_type": "code",
      "metadata": {
        "id": "1UhR8qBbjF_a",
        "outputId": "5a2b4e82-f273-4e6b-8fda-5107806fb8bc"
      },
      "source": [
        "import os\n",
        "os.path.expandvars('$HOME\\\\temp')"
      ],
      "execution_count": null,
      "outputs": [
        {
          "output_type": "stream",
          "name": "stdout",
          "text": [
            "'C:\\\\Users\\\\administrator\\\\personal\\\\temp'\n"
          ]
        }
      ]
    },
    {
      "cell_type": "code",
      "metadata": {
        "id": "aZNBQqazjF_b",
        "outputId": "4197f0be-e491-488d-96aa-e22b5d70129d"
      },
      "source": [
        "from pathlib import Path\n",
        "cur_path = Path()\n",
        "print(cur_path.joinpath('bin', 'utils', 'disktools'))"
      ],
      "execution_count": null,
      "outputs": [
        {
          "output_type": "stream",
          "name": "stdout",
          "text": [
            "bin\\utils\\disktools\n"
          ]
        }
      ]
    },
    {
      "cell_type": "code",
      "metadata": {
        "id": "i5gq69N4jF_b",
        "outputId": "70f35234-2547-4cc5-ce6f-5c99e9d4aee9"
      },
      "source": [
        "cur_path / 'bin' / 'utils' / 'disktools'"
      ],
      "execution_count": null,
      "outputs": [
        {
          "output_type": "stream",
          "name": "stdout",
          "text": [
            "WindowsPath('bin/utils/disktools')\n"
          ]
        }
      ]
    },
    {
      "cell_type": "code",
      "metadata": {
        "id": "4gwfJfg6jF_b",
        "outputId": "16962eb5-04db-4bbb-af46-c7bd07bf9fae"
      },
      "source": [
        "cur_path = Path()\n",
        "print(cur_path.joinpath('bin', 'utils', 'disktools'))"
      ],
      "execution_count": null,
      "outputs": [
        {
          "output_type": "stream",
          "name": "stdout",
          "text": [
            "bin/utils/disktools\n"
          ]
        }
      ]
    },
    {
      "cell_type": "code",
      "metadata": {
        "id": "NcCAVNFVjF_b",
        "outputId": "a23b41de-ae78-41a5-8bdd-6d12e1e1b5bd"
      },
      "source": [
        "a_path = WindowsPath('bin/utils/disktools')\n",
        "print(a_path.parts)"
      ],
      "execution_count": null,
      "outputs": [
        {
          "output_type": "stream",
          "name": "stdout",
          "text": [
            "('bin', 'utils', 'disktools')\n"
          ]
        }
      ]
    },
    {
      "cell_type": "code",
      "metadata": {
        "id": "weNtyD6BjF_b",
        "outputId": "fdba0554-afe8-4e58-d5ab-af82b6f58459"
      },
      "source": [
        "a_path = Path('some', 'directory', 'path.jpg')\n",
        "a_path.name"
      ],
      "execution_count": null,
      "outputs": [
        {
          "output_type": "stream",
          "name": "stdout",
          "text": [
            "'path.jpg'\n"
          ]
        }
      ]
    },
    {
      "cell_type": "code",
      "metadata": {
        "id": "OgZlegy0jF_b",
        "outputId": "fe15f9d4-127c-48a4-f749-cc269d918a2e"
      },
      "source": [
        "print(a_path.parent)"
      ],
      "execution_count": null,
      "outputs": [
        {
          "output_type": "stream",
          "name": "stdout",
          "text": [
            "some\\directory\n"
          ]
        }
      ]
    },
    {
      "cell_type": "code",
      "metadata": {
        "id": "drQ_PqQCjF_b",
        "outputId": "4dfaa42f-e6b3-4632-853a-ef30a44faea8"
      },
      "source": [
        "a_path.suffix"
      ],
      "execution_count": null,
      "outputs": [
        {
          "output_type": "stream",
          "name": "stdout",
          "text": [
            "'.jpg'\n"
          ]
        }
      ]
    },
    {
      "cell_type": "code",
      "metadata": {
        "id": "2VeNyXfXjF_b",
        "outputId": "78a5c8c6-9415-4f23-9afd-50051aae1819"
      },
      "source": [
        "import os\n",
        "os.name"
      ],
      "execution_count": null,
      "outputs": [
        {
          "output_type": "stream",
          "name": "stdout",
          "text": [
            "'nt'\n"
          ]
        }
      ]
    },
    {
      "cell_type": "code",
      "metadata": {
        "id": "qQEXHyxHjF_c",
        "outputId": "ea9c7326-9c95-4732-d1f6-f99941b4ce3a"
      },
      "source": [
        "import os\n",
        "os.path.exists('C:\\\\Users\\\\myuser\\\\My Documents')"
      ],
      "execution_count": null,
      "outputs": [
        {
          "output_type": "stream",
          "name": "stdout",
          "text": [
            "True\n"
          ]
        }
      ]
    },
    {
      "cell_type": "code",
      "metadata": {
        "id": "Sxp3yG_IjF_c",
        "outputId": "21e3646a-52e1-49c3-fc21-ca203615502c"
      },
      "source": [
        "os.path.exists('C:\\\\Users\\\\myuser\\\\My Documents\\\\Letter.doc')"
      ],
      "execution_count": null,
      "outputs": [
        {
          "output_type": "stream",
          "name": "stdout",
          "text": [
            "True\n"
          ]
        }
      ]
    },
    {
      "cell_type": "code",
      "metadata": {
        "id": "E-WZ9IL-jF_c",
        "outputId": "e88b1b3f-0a3f-4983-c18b-46603b7b5335"
      },
      "source": [
        "os.path.exists('C:\\\\Users\\\\myuser\\\\\\My Documents\\\\ljsljkflkjs')"
      ],
      "execution_count": null,
      "outputs": [
        {
          "output_type": "stream",
          "name": "stdout",
          "text": [
            "False\n"
          ]
        }
      ]
    },
    {
      "cell_type": "code",
      "metadata": {
        "id": "AyEq5taIjF_c",
        "outputId": "3d45fc54-80a6-40fd-9a07-e0f478684081"
      },
      "source": [
        "os.path.isdir('C:\\\\Users\\\\myuser\\\\My Documents')"
      ],
      "execution_count": null,
      "outputs": [
        {
          "output_type": "stream",
          "name": "stdout",
          "text": [
            "True\n"
          ]
        }
      ]
    },
    {
      "cell_type": "code",
      "metadata": {
        "id": "cmKctXdBjF_c",
        "outputId": "5a2b130b-48c9-461b-8172-5f64f998e573"
      },
      "source": [
        "\tos.path.isfile('C:\\\\Users\\\\ myuser\\\\My Documents')"
      ],
      "execution_count": null,
      "outputs": [
        {
          "output_type": "stream",
          "name": "stdout",
          "text": [
            "False\n"
          ]
        }
      ]
    },
    {
      "cell_type": "code",
      "metadata": {
        "id": "Wn0cn2YEjF_c",
        "outputId": "346a8712-9860-4dac-a9ae-8514faec907e"
      },
      "source": [
        "os.path.isdir('C:\\\\Users\\\\ myuser\\\\My Documents"
      ],
      "execution_count": null,
      "outputs": [
        {
          "output_type": "stream",
          "name": "stdout",
          "text": [
            "\\\\Letter.doc')\n",
            "False\n"
          ]
        }
      ]
    },
    {
      "cell_type": "code",
      "metadata": {
        "id": "C5pwfe9mjF_c",
        "outputId": "4f6cdfb2-455e-49c8-d1f4-d5f327ca0534"
      },
      "source": [
        "os.path.isfile('C:\\\\Users\\\\ myuser\\\\My Documents\\\\Letter.doc')"
      ],
      "execution_count": null,
      "outputs": [
        {
          "output_type": "stream",
          "name": "stdout",
          "text": [
            "True\n"
          ]
        }
      ]
    },
    {
      "cell_type": "code",
      "metadata": {
        "id": "SOUMHfgejF_c",
        "outputId": "5d7c8c01-eee5-46cc-e8a3-b510b4e8fc32"
      },
      "source": [
        "with os.scandir(\".\") as my_dir:\n",
        "    for entry in my_dir:\n",
        "        print(entry.name, entry.is_file())\n"
      ],
      "execution_count": null,
      "outputs": [
        {
          "output_type": "stream",
          "name": "stdout",
          "text": [
            "pip-selfcheck.json True\n",
            "pyvenv.cfg True\n",
            "include False\n",
            "test.py True\n",
            "lib False\n",
            "lib64 False\n",
            "bin False\n"
          ]
        }
      ]
    },
    {
      "cell_type": "code",
      "metadata": {
        "id": "Qf_nuBBmjF_d",
        "outputId": "bd8d433e-d65f-498f-af4a-b3ae284d870e"
      },
      "source": [
        "os.chdir(os.path.join('C:', 'my documents', 'tmp'))\n",
        "os.listdir(os.curdir)"
      ],
      "execution_count": null,
      "outputs": [
        {
          "output_type": "stream",
          "name": "stdout",
          "text": [
            "['book1.doc.tmp', 'a.tmp', '1.tmp', '7.tmp', '9.tmp', 'registry.bkp']\n"
          ]
        }
      ]
    },
    {
      "cell_type": "code",
      "metadata": {
        "id": "uTQGuG_gjF_d",
        "outputId": "c5820683-b699-43a3-ebf1-dd4f6d52b5a7"
      },
      "source": [
        "import glob\n",
        "glob.glob(\"*\")"
      ],
      "execution_count": null,
      "outputs": [
        {
          "output_type": "stream",
          "name": "stdout",
          "text": [
            "['book1.doc.tmp', 'a.tmp', '1.tmp', '7.tmp', '9.tmp', 'registry.bkp']\n"
          ]
        }
      ]
    },
    {
      "cell_type": "code",
      "metadata": {
        "id": "ohMOngnyjF_d",
        "outputId": "edb81345-8cd5-467d-fe67-a967c13ca76d"
      },
      "source": [
        "glob.glob(\"*bkp\")"
      ],
      "execution_count": null,
      "outputs": [
        {
          "output_type": "stream",
          "name": "stdout",
          "text": [
            "['registry.bkp']\n"
          ]
        }
      ]
    },
    {
      "cell_type": "code",
      "metadata": {
        "id": "AXghqidcjF_d",
        "outputId": "890f317a-4aab-4a29-9b88-b08a7fd1a049"
      },
      "source": [
        "glob.glob(\"?.tmp\")"
      ],
      "execution_count": null,
      "outputs": [
        {
          "output_type": "stream",
          "name": "stdout",
          "text": [
            "['a.tmp', '1.tmp', '7.tmp', '9.tmp']\n"
          ]
        }
      ]
    },
    {
      "cell_type": "code",
      "metadata": {
        "id": "LZbRh01EjF_d",
        "outputId": "06fe2a37-59a4-40ea-aaf4-1e7d477a1d93"
      },
      "source": [
        "glob.glob(\"[0-9].tmp\")"
      ],
      "execution_count": null,
      "outputs": [
        {
          "output_type": "stream",
          "name": "stdout",
          "text": [
            "['1.tmp', '7.tmp', '9.tmp']\n"
          ]
        }
      ]
    },
    {
      "cell_type": "code",
      "metadata": {
        "id": "TF9NNGGBjF_d",
        "outputId": "4913c408-cc67-4d6c-8669-f6273cacb9ac"
      },
      "source": [
        "os.rename('registry.bkp', 'registry.bkp.old')\n",
        "os.listdir(os.curdir)"
      ],
      "execution_count": null,
      "outputs": [
        {
          "output_type": "stream",
          "name": "stdout",
          "text": [
            "['book1.doc.tmp', 'a.tmp', '1.tmp', '7.tmp', '9.tmp', 'registry.bkp.old']\n"
          ]
        }
      ]
    },
    {
      "cell_type": "code",
      "metadata": {
        "id": "1QkjFVQUjF_e",
        "outputId": "5beba404-6472-4d6b-cc1c-ca040c55e099"
      },
      "source": [
        "os.remove('book1.doc.tmp')\n",
        "os.listdir(os.curdir)"
      ],
      "execution_count": null,
      "outputs": [
        {
          "output_type": "stream",
          "name": "stdout",
          "text": [
            "['a.tmp', '1.tmp', '7.tmp', '9.tmp', 'registry.bkp.old']\n"
          ]
        }
      ]
    },
    {
      "cell_type": "code",
      "metadata": {
        "id": "YZZ72kJAjF_e",
        "outputId": "7a50bca0-0b5d-483c-a5e4-172d2058c0a2"
      },
      "source": [
        "os.makedirs('mydir')\n",
        "os.listdir(os.curdir)"
      ],
      "execution_count": null,
      "outputs": [
        {
          "output_type": "stream",
          "name": "stdout",
          "text": [
            "['mydir', 'a.tmp', '1.tmp', '7.tmp', '9.tmp', 'registry.bkp.old']\n"
          ]
        }
      ]
    },
    {
      "cell_type": "code",
      "metadata": {
        "id": "Lk_36lnEjF_e",
        "outputId": "dda1e23f-4f8f-4e43-c81e-49a7f93da538"
      },
      "source": [
        "os.path.isdir('mydir')"
      ],
      "execution_count": null,
      "outputs": [
        {
          "output_type": "stream",
          "name": "stdout",
          "text": [
            "True\n"
          ]
        }
      ]
    },
    {
      "cell_type": "code",
      "metadata": {
        "id": "TtG2IVb-jF_e",
        "outputId": "4575a1b2-67b0-4908-a0f2-870f479dc8c1"
      },
      "source": [
        "os.rmdir('mydir')\n",
        "os.listdir(os.curdir)"
      ],
      "execution_count": null,
      "outputs": [
        {
          "output_type": "stream",
          "name": "stdout",
          "text": [
            "['a.tmp', '1.tmp', '7.tmp', '9.tmp', 'registry.bkp.old']\n"
          ]
        }
      ]
    },
    {
      "cell_type": "code",
      "metadata": {
        "id": "R6mVryZujF_e",
        "outputId": "735beb13-819b-4a66-e243-94abbcabeab3"
      },
      "source": [
        "new_path = cur_path.joinpath('C:', 'my documents', 'tmp'))\n",
        "list(new_path.iterdir())"
      ],
      "execution_count": null,
      "outputs": [
        {
          "output_type": "stream",
          "name": "stdout",
          "text": [
            "[WindowsPath('book1.doc.tmp'), WindowsPath('a.tmp'), WindowsPath('1.tmp'), WindowsPath('7.tmp'), WindowsPath('9.tmp'), WindowsPath('registry.bkp')]\n"
          ]
        }
      ]
    },
    {
      "cell_type": "code",
      "metadata": {
        "id": "MWv8RyHzjF_e",
        "outputId": "da05fa18-a0e5-4c31-b0ed-693fb7961b58"
      },
      "source": [
        "list(cur_path.glob(\"*\"))"
      ],
      "execution_count": null,
      "outputs": [
        {
          "output_type": "stream",
          "name": "stdout",
          "text": [
            "[WindowsPath('book1.doc.tmp'), WindowsPath('a.tmp'), WindowsPath('1.tmp'), WindowsPath('7.tmp'), WindowsPath('9.tmp'), WindowsPath('registry.bkp')]\n"
          ]
        }
      ]
    },
    {
      "cell_type": "code",
      "metadata": {
        "id": "MvgVRj8VjF_f",
        "outputId": "53597754-5bc8-405b-eff7-2e1d5b71aea4"
      },
      "source": [
        "list(cur_path.glob(\"*bkp\"))"
      ],
      "execution_count": null,
      "outputs": [
        {
          "output_type": "stream",
          "name": "stdout",
          "text": [
            "[WindowsPath('registry.bkp')]\n"
          ]
        }
      ]
    },
    {
      "cell_type": "code",
      "metadata": {
        "id": "jbfXfCi3jF_f",
        "outputId": "47419332-f0c1-43d8-c2f2-7be8d09fe033"
      },
      "source": [
        "list(cur_path.glob(\"?.tmp\"))"
      ],
      "execution_count": null,
      "outputs": [
        {
          "output_type": "stream",
          "name": "stdout",
          "text": [
            "[WindowsPath('a.tmp'), WindowsPath('1.tmp'), WindowsPath('7.tmp'), WindowsPath('9.tmp')]\n"
          ]
        }
      ]
    },
    {
      "cell_type": "code",
      "metadata": {
        "id": "YB97NCu7jF_f",
        "outputId": "b30514d8-a329-4ab7-f444-013af33012a5"
      },
      "source": [
        "list(cur_path.glob(\"[0-9].tmp\"))"
      ],
      "execution_count": null,
      "outputs": [
        {
          "output_type": "stream",
          "name": "stdout",
          "text": [
            "[WindowsPath('1.tmp'), WindowsPath('7.tmp'), WindowsPath('9.tmp')]\n"
          ]
        }
      ]
    },
    {
      "cell_type": "code",
      "metadata": {
        "id": "MowaxuXyjF_f",
        "outputId": "534911dc-67aa-4511-8028-f60d1fd14977"
      },
      "source": [
        "old_path = Path('registry.bkp')\n",
        "new_path = Path('registry.bkp.old')\n",
        "old_path.rename(new_path)\n",
        "list(cur_path.iterdir())"
      ],
      "execution_count": null,
      "outputs": [
        {
          "output_type": "stream",
          "name": "stdout",
          "text": [
            "[WindowsPath('book1.doc.tmp'), WindowsPath('a.tmp'), WindowsPath('1.tmp'), WindowsPath('7.tmp'), WindowsPath('9.tmp'), WindowsPath('registry.bkp.old')]\n"
          ]
        }
      ]
    },
    {
      "cell_type": "code",
      "metadata": {
        "id": "T2WsyjCKjF_f",
        "outputId": "0a1d9b97-35ba-4113-dd59-b071d68c9e75"
      },
      "source": [
        "new_path = Path('book1.doc.tmp')\n",
        "new_path.unlink()\n",
        "list(cur_path.iterdir())"
      ],
      "execution_count": null,
      "outputs": [
        {
          "output_type": "stream",
          "name": "stdout",
          "text": [
            "[WindowsPath('a.tmp'), WindowsPath('1.tmp'), WindowsPath('7.tmp'), WindowsPath('9.tmp'), WindowsPath('registry.bkp.old')]\n"
          ]
        }
      ]
    },
    {
      "cell_type": "code",
      "metadata": {
        "id": "gBo9RxZvjF_f",
        "outputId": "044d6cda-4981-48cb-e64a-09ad3550f7d9"
      },
      "source": [
        "new_path = Path ('mydir')\n",
        "new_path.mkdir(parents=True)\n",
        "list(cur_path.iterdir())"
      ],
      "execution_count": null,
      "outputs": [
        {
          "output_type": "stream",
          "name": "stdout",
          "text": [
            "[WindowsPath('mydir'), WindowsPath('a.tmp'), WindowsPath('1.tmp'), WindowsPath('7.tmp'), WindowsPath('9.tmp'), WindowsPath('registry.bkp.old')]]\n"
          ]
        }
      ]
    },
    {
      "cell_type": "code",
      "metadata": {
        "id": "p7eLMx8BjF_f",
        "outputId": "3f025e91-a52e-4c3f-c4e3-f8d2579b9603"
      },
      "source": [
        "new_path.is_dir('mydir')"
      ],
      "execution_count": null,
      "outputs": [
        {
          "output_type": "stream",
          "name": "stdout",
          "text": [
            "True\n"
          ]
        }
      ]
    },
    {
      "cell_type": "code",
      "metadata": {
        "id": "G03O87s1jF_g",
        "outputId": "e8f34825-ebc1-4602-bac7-cd02f0eec4bb"
      },
      "source": [
        "new_path = Path('mydir')\n",
        "new_path.rmdir()\n",
        "list(cur_path.iterdir())"
      ],
      "execution_count": null,
      "outputs": [
        {
          "output_type": "stream",
          "name": "stdout",
          "text": [
            "[WindowsPath('a.tmp'), WindowsPath('1.tmp'), WindowsPath('7.tmp'), WindowsPath('9.tmp'), WindowsPath('registry.bkp.old']\n"
          ]
        }
      ]
    }
  ]
}