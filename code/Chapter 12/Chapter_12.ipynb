{
  "nbformat": 4,
  "nbformat_minor": 0,
  "metadata": {
    "colab": {
      "provenance": [],
      "include_colab_link": true
    },
    "kernelspec": {
      "name": "python3",
      "display_name": "Python 3"
    },
    "language_info": {
      "name": "python"
    }
  },
  "cells": [
    {
      "cell_type": "markdown",
      "metadata": {
        "id": "view-in-github",
        "colab_type": "text"
      },
      "source": [
        "<a href=\"https://colab.research.google.com/github/nceder/qpb4e/blob/main/code/Chapter%2012/Chapter_12.ipynb\" target=\"_parent\"><img src=\"https://colab.research.google.com/assets/colab-badge.svg\" alt=\"Open In Colab\"/></a>"
      ]
    },
    {
      "cell_type": "markdown",
      "source": [
        "# Using the filesystem"
      ],
      "metadata": {
        "id": "6Njl2UlmXJ9A"
      }
    },
    {
      "cell_type": "markdown",
      "source": [
        "## 12.2.2 The current working directory"
      ],
      "metadata": {
        "id": "A-Coi3vRXUxG"
      }
    },
    {
      "cell_type": "code",
      "metadata": {
        "id": "Di3aNYV9jF_W",
        "outputId": "fa8389f9-67a1-4cf6-afac-6ab0744c1e54",
        "colab": {
          "base_uri": "https://localhost:8080/",
          "height": 35
        }
      },
      "source": [
        "import os\n",
        "os.getcwd()"
      ],
      "execution_count": null,
      "outputs": [
        {
          "output_type": "execute_result",
          "data": {
            "text/plain": [
              "'/content'"
            ],
            "application/vnd.google.colaboratory.intrinsic+json": {
              "type": "string"
            }
          },
          "metadata": {},
          "execution_count": 2
        }
      ]
    },
    {
      "cell_type": "code",
      "metadata": {
        "id": "JQiAo-nRjF_X",
        "outputId": "b2b4d7b5-541a-441e-95ea-3119e1881153",
        "colab": {
          "base_uri": "https://localhost:8080/"
        }
      },
      "source": [
        "os.listdir(os.curdir)"
      ],
      "execution_count": null,
      "outputs": [
        {
          "output_type": "execute_result",
          "data": {
            "text/plain": [
              "['.config', 'sample_data']"
            ]
          },
          "metadata": {},
          "execution_count": 3
        }
      ]
    },
    {
      "cell_type": "code",
      "metadata": {
        "id": "1dDODadvjF_Y",
        "outputId": "2c40650b-a479-4587-be3f-1aea65fe40df",
        "colab": {
          "base_uri": "https://localhost:8080/",
          "height": 35
        }
      },
      "source": [
        "os.chdir('sample_data')    #A\n",
        "os.getcwd()"
      ],
      "execution_count": null,
      "outputs": [
        {
          "output_type": "execute_result",
          "data": {
            "text/plain": [
              "'/content/sample_data'"
            ],
            "application/vnd.google.colaboratory.intrinsic+json": {
              "type": "string"
            }
          },
          "metadata": {},
          "execution_count": 4
        }
      ]
    },
    {
      "cell_type": "markdown",
      "source": [
        "## 12.2.3 Accessing directories with pathlib"
      ],
      "metadata": {
        "id": "tBp6X0W2XafS"
      }
    },
    {
      "cell_type": "code",
      "metadata": {
        "id": "y3pGbxLijF_Y",
        "outputId": "155b62d3-7b24-45c8-a0c5-a32ba410471a",
        "colab": {
          "base_uri": "https://localhost:8080/"
        }
      },
      "source": [
        "import pathlib\n",
        "cur_path = pathlib.Path()\n",
        "cur_path.cwd()"
      ],
      "execution_count": null,
      "outputs": [
        {
          "output_type": "execute_result",
          "data": {
            "text/plain": [
              "PosixPath('/content/sample_data')"
            ]
          },
          "metadata": {},
          "execution_count": 5
        }
      ]
    },
    {
      "cell_type": "markdown",
      "source": [
        "## 12.2.4 Manipulating pathnames"
      ],
      "metadata": {
        "id": "n9yp6JdyYGeS"
      }
    },
    {
      "cell_type": "code",
      "metadata": {
        "id": "ZSxWNsjXjF_Z",
        "outputId": "e2094326-ad75-4e59-e36b-78f0b05c12a9",
        "colab": {
          "base_uri": "https://localhost:8080/"
        }
      },
      "source": [
        "import os\n",
        "print(os.path.join('bin', 'utils', 'disktools'))"
      ],
      "execution_count": null,
      "outputs": [
        {
          "output_type": "stream",
          "name": "stdout",
          "text": [
            "bin/utils/disktools\n"
          ]
        }
      ]
    },
    {
      "cell_type": "code",
      "metadata": {
        "id": "ahtKFVyPjF_Z",
        "outputId": "78c9095a-0cdc-44bb-a94f-727a69713637",
        "colab": {
          "base_uri": "https://localhost:8080/"
        }
      },
      "source": [
        "path1 = os.path.join('mydir', 'bin');\n",
        "path2 = os.path.join('utils', 'disktools', 'chkdisk')\n",
        "print(os.path.join(path1, path2))"
      ],
      "execution_count": null,
      "outputs": [
        {
          "output_type": "stream",
          "name": "stdout",
          "text": [
            "mydir/bin/utils/disktools/chkdisk\n"
          ]
        }
      ]
    },
    {
      "cell_type": "code",
      "metadata": {
        "id": "v0OJBpurjF_a",
        "outputId": "23d4532d-2f8c-43ed-f567-b4b02cb595da",
        "colab": {
          "base_uri": "https://localhost:8080/"
        }
      },
      "source": [
        "import os\n",
        "print(os.path.split(os.path.join('some', 'directory', 'path')))"
      ],
      "execution_count": null,
      "outputs": [
        {
          "output_type": "stream",
          "name": "stdout",
          "text": [
            "('some/directory', 'path')\n"
          ]
        }
      ]
    },
    {
      "cell_type": "code",
      "metadata": {
        "id": "dqRx560xjF_a",
        "outputId": "a4211028-fe16-4b5a-c900-2570e7247bb0",
        "colab": {
          "base_uri": "https://localhost:8080/",
          "height": 35
        }
      },
      "source": [
        "import os\n",
        "os.path.basename(os.path.join('some', 'directory', 'path.jpg'))"
      ],
      "execution_count": null,
      "outputs": [
        {
          "output_type": "execute_result",
          "data": {
            "text/plain": [
              "'path.jpg'"
            ],
            "application/vnd.google.colaboratory.intrinsic+json": {
              "type": "string"
            }
          },
          "metadata": {},
          "execution_count": 10
        }
      ]
    },
    {
      "cell_type": "code",
      "metadata": {
        "id": "3ZhkAn2sjF_a",
        "outputId": "0b7ee62f-ac67-4f24-a482-40b9507fe97c",
        "colab": {
          "base_uri": "https://localhost:8080/",
          "height": 35
        }
      },
      "source": [
        "os.path.dirname(os.path.join('some', 'directory', 'path.jpg'))"
      ],
      "execution_count": null,
      "outputs": [
        {
          "output_type": "execute_result",
          "data": {
            "text/plain": [
              "'some/directory'"
            ],
            "application/vnd.google.colaboratory.intrinsic+json": {
              "type": "string"
            }
          },
          "metadata": {},
          "execution_count": 11
        }
      ]
    },
    {
      "cell_type": "code",
      "metadata": {
        "id": "JWrNwV5CjF_a",
        "outputId": "de7b2f9f-9993-4bd1-ee5d-1e21bac51982",
        "colab": {
          "base_uri": "https://localhost:8080/"
        }
      },
      "source": [
        "os.path.splitext(os.path.join('some', 'directory', 'path.jpg'))"
      ],
      "execution_count": null,
      "outputs": [
        {
          "output_type": "execute_result",
          "data": {
            "text/plain": [
              "('some/directory/path', '.jpg')"
            ]
          },
          "metadata": {},
          "execution_count": 12
        }
      ]
    },
    {
      "cell_type": "code",
      "metadata": {
        "id": "1UhR8qBbjF_a",
        "outputId": "5a2b4e82-f273-4e6b-8fda-5107806fb8bc"
      },
      "source": [
        "import os\n",
        "os.path.expandvars('$HOME\\\\temp')"
      ],
      "execution_count": null,
      "outputs": [
        {
          "output_type": "stream",
          "name": "stdout",
          "text": [
            "'C:\\\\Users\\\\administrator\\\\personal\\\\temp'\n"
          ]
        }
      ]
    },
    {
      "cell_type": "markdown",
      "source": [
        "## 12.2.5 Manipulating pathnames with pathlib"
      ],
      "metadata": {
        "id": "WRnInY86YzOj"
      }
    },
    {
      "cell_type": "code",
      "metadata": {
        "id": "aZNBQqazjF_b",
        "outputId": "dd7aa5ee-7e83-4ccd-9177-d9029976a9fa",
        "colab": {
          "base_uri": "https://localhost:8080/"
        }
      },
      "source": [
        "from pathlib import Path\n",
        "cur_path = Path()\n",
        "print(cur_path.joinpath('bin', 'utils', 'disktools'))"
      ],
      "execution_count": null,
      "outputs": [
        {
          "output_type": "stream",
          "name": "stdout",
          "text": [
            "bin/utils/disktools\n"
          ]
        }
      ]
    },
    {
      "cell_type": "code",
      "metadata": {
        "id": "i5gq69N4jF_b",
        "outputId": "dbb33c0c-65a3-44eb-87b1-69c47896410a",
        "colab": {
          "base_uri": "https://localhost:8080/"
        }
      },
      "source": [
        "cur_path / 'bin' / 'utils' / 'disktools'"
      ],
      "execution_count": null,
      "outputs": [
        {
          "output_type": "execute_result",
          "data": {
            "text/plain": [
              "PosixPath('bin/utils/disktools')"
            ]
          },
          "metadata": {},
          "execution_count": 14
        }
      ]
    },
    {
      "cell_type": "code",
      "metadata": {
        "id": "4gwfJfg6jF_b",
        "outputId": "3c9e9860-f342-4889-e556-d276075d9e0c",
        "colab": {
          "base_uri": "https://localhost:8080/"
        }
      },
      "source": [
        "cur_path = Path()\n",
        "print(cur_path.joinpath('bin', 'utils', 'disktools'))"
      ],
      "execution_count": null,
      "outputs": [
        {
          "output_type": "stream",
          "name": "stdout",
          "text": [
            "bin/utils/disktools\n"
          ]
        }
      ]
    },
    {
      "cell_type": "code",
      "metadata": {
        "id": "NcCAVNFVjF_b",
        "outputId": "6212e7fb-6b36-476f-e3a1-3265b4dd68c6",
        "colab": {
          "base_uri": "https://localhost:8080/"
        }
      },
      "source": [
        "a_path = Path('bin/utils/disktools')\n",
        "print(a_path.parts)"
      ],
      "execution_count": null,
      "outputs": [
        {
          "output_type": "stream",
          "name": "stdout",
          "text": [
            "('bin', 'utils', 'disktools')\n"
          ]
        }
      ]
    },
    {
      "cell_type": "code",
      "metadata": {
        "id": "weNtyD6BjF_b",
        "outputId": "3638bd40-58d7-4da8-f950-a9cf7796a927",
        "colab": {
          "base_uri": "https://localhost:8080/",
          "height": 35
        }
      },
      "source": [
        "a_path = Path('some', 'directory', 'path.jpg')\n",
        "a_path.name"
      ],
      "execution_count": null,
      "outputs": [
        {
          "output_type": "execute_result",
          "data": {
            "text/plain": [
              "'path.jpg'"
            ],
            "application/vnd.google.colaboratory.intrinsic+json": {
              "type": "string"
            }
          },
          "metadata": {},
          "execution_count": 18
        }
      ]
    },
    {
      "cell_type": "code",
      "metadata": {
        "id": "OgZlegy0jF_b",
        "outputId": "a47ccb37-c3c4-42ae-98e7-6d4bd6dd88a5",
        "colab": {
          "base_uri": "https://localhost:8080/"
        }
      },
      "source": [
        "print(a_path.parent)"
      ],
      "execution_count": null,
      "outputs": [
        {
          "output_type": "stream",
          "name": "stdout",
          "text": [
            "some/directory\n"
          ]
        }
      ]
    },
    {
      "cell_type": "code",
      "metadata": {
        "id": "drQ_PqQCjF_b",
        "outputId": "185029ef-5252-499f-b10c-1624b0ba2b5d",
        "colab": {
          "base_uri": "https://localhost:8080/",
          "height": 35
        }
      },
      "source": [
        "a_path.suffix"
      ],
      "execution_count": null,
      "outputs": [
        {
          "output_type": "execute_result",
          "data": {
            "text/plain": [
              "'.jpg'"
            ],
            "application/vnd.google.colaboratory.intrinsic+json": {
              "type": "string"
            }
          },
          "metadata": {},
          "execution_count": 20
        }
      ]
    },
    {
      "cell_type": "markdown",
      "source": [
        "##12.2.6 Useful constants and functions"
      ],
      "metadata": {
        "id": "Lg4BdXmrZMVq"
      }
    },
    {
      "cell_type": "code",
      "metadata": {
        "id": "2VeNyXfXjF_b",
        "outputId": "fb8198cf-06ff-4e49-a329-003601153a38",
        "colab": {
          "base_uri": "https://localhost:8080/",
          "height": 35
        }
      },
      "source": [
        "import os\n",
        "os.name"
      ],
      "execution_count": null,
      "outputs": [
        {
          "output_type": "execute_result",
          "data": {
            "text/plain": [
              "'posix'"
            ],
            "application/vnd.google.colaboratory.intrinsic+json": {
              "type": "string"
            }
          },
          "metadata": {},
          "execution_count": 21
        }
      ]
    },
    {
      "cell_type": "markdown",
      "source": [
        "# 12.3 Getting information about files"
      ],
      "metadata": {
        "id": "1X9rbQ9dZbCm"
      }
    },
    {
      "cell_type": "code",
      "metadata": {
        "id": "qQEXHyxHjF_c",
        "outputId": "c79569ca-62ff-4a0f-9bf4-4044a6b71f0b",
        "colab": {
          "base_uri": "https://localhost:8080/"
        }
      },
      "source": [
        "import os\n",
        "os.path.exists('/content/sample_data/')"
      ],
      "execution_count": null,
      "outputs": [
        {
          "output_type": "execute_result",
          "data": {
            "text/plain": [
              "True"
            ]
          },
          "metadata": {},
          "execution_count": 22
        }
      ]
    },
    {
      "cell_type": "code",
      "metadata": {
        "id": "Sxp3yG_IjF_c",
        "outputId": "3de9af64-75ed-4c29-8c80-fd643c106cef",
        "colab": {
          "base_uri": "https://localhost:8080/"
        }
      },
      "source": [
        "os.path.exists('/content/sample_data/README.md')"
      ],
      "execution_count": null,
      "outputs": [
        {
          "output_type": "execute_result",
          "data": {
            "text/plain": [
              "True"
            ]
          },
          "metadata": {},
          "execution_count": 23
        }
      ]
    },
    {
      "cell_type": "code",
      "metadata": {
        "id": "E-WZ9IL-jF_c",
        "outputId": "7b9ffaa8-413b-4be7-a422-89187ac1834d",
        "colab": {
          "base_uri": "https://localhost:8080/"
        }
      },
      "source": [
        "os.path.exists('/content/sample_data/ljsljkflkjs')"
      ],
      "execution_count": null,
      "outputs": [
        {
          "output_type": "execute_result",
          "data": {
            "text/plain": [
              "False"
            ]
          },
          "metadata": {},
          "execution_count": 27
        }
      ]
    },
    {
      "cell_type": "code",
      "metadata": {
        "id": "AyEq5taIjF_c",
        "outputId": "a2501ce8-83da-4ae0-e22a-6561172621e5",
        "colab": {
          "base_uri": "https://localhost:8080/"
        }
      },
      "source": [
        "os.path.isdir('/content/sample_data/')"
      ],
      "execution_count": null,
      "outputs": [
        {
          "output_type": "execute_result",
          "data": {
            "text/plain": [
              "True"
            ]
          },
          "metadata": {},
          "execution_count": 26
        }
      ]
    },
    {
      "cell_type": "code",
      "metadata": {
        "id": "cmKctXdBjF_c",
        "outputId": "bbd64964-5d0f-4fd3-e92c-b4ec97b5dee8",
        "colab": {
          "base_uri": "https://localhost:8080/"
        }
      },
      "source": [
        "os.path.isdir('/content/sample_data/README.md')"
      ],
      "execution_count": null,
      "outputs": [
        {
          "output_type": "execute_result",
          "data": {
            "text/plain": [
              "False"
            ]
          },
          "metadata": {},
          "execution_count": 28
        }
      ]
    },
    {
      "cell_type": "code",
      "metadata": {
        "id": "Wn0cn2YEjF_c",
        "outputId": "d1678f9a-7f4f-4966-ed93-ec7bcf78b581",
        "colab": {
          "base_uri": "https://localhost:8080/"
        }
      },
      "source": [
        "os.path.isfile('/content/sample_data/README.md')"
      ],
      "execution_count": null,
      "outputs": [
        {
          "output_type": "execute_result",
          "data": {
            "text/plain": [
              "True"
            ]
          },
          "metadata": {},
          "execution_count": 30
        }
      ]
    },
    {
      "cell_type": "markdown",
      "source": [
        "## 12.3.1 Getting information about files with scandir"
      ],
      "metadata": {
        "id": "y_w0SCk5aMxC"
      }
    },
    {
      "cell_type": "code",
      "metadata": {
        "id": "SOUMHfgejF_c",
        "outputId": "9b7f9676-bac2-42a8-e85a-22975799dfd6",
        "colab": {
          "base_uri": "https://localhost:8080/"
        }
      },
      "source": [
        "with os.scandir(\"..\") as my_dir:\n",
        "    for entry in my_dir:\n",
        "        print(entry.name, entry.is_file())\n"
      ],
      "execution_count": null,
      "outputs": [
        {
          "output_type": "stream",
          "name": "stdout",
          "text": [
            ".config False\n",
            "sample_data False\n"
          ]
        }
      ]
    },
    {
      "cell_type": "markdown",
      "source": [
        "# 12.4 More filesystem operations"
      ],
      "metadata": {
        "id": "l4bqrqkbaaIL"
      }
    },
    {
      "cell_type": "code",
      "metadata": {
        "id": "Qf_nuBBmjF_d",
        "outputId": "231ba076-7292-48ad-d266-80f50aacdcef",
        "colab": {
          "base_uri": "https://localhost:8080/"
        }
      },
      "source": [
        "os.chdir('/content/sample_data')\n",
        "os.listdir(os.curdir)"
      ],
      "execution_count": null,
      "outputs": [
        {
          "output_type": "execute_result",
          "data": {
            "text/plain": [
              "['anscombe.json',\n",
              " 'README.md',\n",
              " 'california_housing_train.csv',\n",
              " 'california_housing_test.csv',\n",
              " 'mnist_test.csv',\n",
              " 'mnist_train_small.csv']"
            ]
          },
          "metadata": {},
          "execution_count": 35
        }
      ]
    },
    {
      "cell_type": "code",
      "metadata": {
        "id": "uTQGuG_gjF_d",
        "outputId": "7f4cb283-5ab5-4bf0-8e28-7791d3d96a21",
        "colab": {
          "base_uri": "https://localhost:8080/"
        }
      },
      "source": [
        "import glob\n",
        "glob.glob(\"*\")"
      ],
      "execution_count": null,
      "outputs": [
        {
          "output_type": "execute_result",
          "data": {
            "text/plain": [
              "['anscombe.json',\n",
              " 'README.md',\n",
              " 'california_housing_train.csv',\n",
              " 'california_housing_test.csv',\n",
              " 'mnist_test.csv',\n",
              " 'mnist_train_small.csv']"
            ]
          },
          "metadata": {},
          "execution_count": 36
        }
      ]
    },
    {
      "cell_type": "code",
      "metadata": {
        "id": "ohMOngnyjF_d",
        "outputId": "e726a4b2-be6d-4185-f180-929e130d6d4f",
        "colab": {
          "base_uri": "https://localhost:8080/"
        }
      },
      "source": [
        "glob.glob(\"*json\")"
      ],
      "execution_count": null,
      "outputs": [
        {
          "output_type": "execute_result",
          "data": {
            "text/plain": [
              "['anscombe.json']"
            ]
          },
          "metadata": {},
          "execution_count": 37
        }
      ]
    },
    {
      "cell_type": "code",
      "source": [
        "! touch a.tmp 1.tmp 2.tmp"
      ],
      "metadata": {
        "id": "hXtpV5QEbt6I"
      },
      "execution_count": null,
      "outputs": []
    },
    {
      "cell_type": "code",
      "metadata": {
        "id": "AXghqidcjF_d",
        "outputId": "82d78155-23f1-43b2-e968-b0fbeb2d2af1",
        "colab": {
          "base_uri": "https://localhost:8080/"
        }
      },
      "source": [
        "glob.glob(\"?.tmp\")"
      ],
      "execution_count": null,
      "outputs": [
        {
          "output_type": "execute_result",
          "data": {
            "text/plain": [
              "['1.tmp', '2.tmp', 'a.tmp']"
            ]
          },
          "metadata": {},
          "execution_count": 42
        }
      ]
    },
    {
      "cell_type": "code",
      "metadata": {
        "id": "LZbRh01EjF_d",
        "outputId": "afef5a67-b224-46fc-c6aa-ea940411b732",
        "colab": {
          "base_uri": "https://localhost:8080/"
        }
      },
      "source": [
        "glob.glob(\"[0-9].tmp\")"
      ],
      "execution_count": null,
      "outputs": [
        {
          "output_type": "execute_result",
          "data": {
            "text/plain": [
              "['1.tmp', '2.tmp']"
            ]
          },
          "metadata": {},
          "execution_count": 43
        }
      ]
    },
    {
      "cell_type": "code",
      "metadata": {
        "id": "TF9NNGGBjF_d",
        "outputId": "05cacbe4-485f-46dc-a940-23260cb0cc45",
        "colab": {
          "base_uri": "https://localhost:8080/"
        }
      },
      "source": [
        "os.rename('README.md', 'README.md.old')\n",
        "os.listdir(os.curdir)"
      ],
      "execution_count": null,
      "outputs": [
        {
          "output_type": "execute_result",
          "data": {
            "text/plain": [
              "['anscombe.json',\n",
              " 'README.md.old',\n",
              " '1.tmp',\n",
              " '2.tmp',\n",
              " 'a.tmp',\n",
              " '2.tm',\n",
              " '2.tme',\n",
              " 'california_housing_train.csv',\n",
              " 'california_housing_test.csv',\n",
              " 'mnist_test.csv',\n",
              " 'mnist_train_small.csv']"
            ]
          },
          "metadata": {},
          "execution_count": 45
        }
      ]
    },
    {
      "cell_type": "code",
      "metadata": {
        "id": "1QkjFVQUjF_e",
        "outputId": "30185ec0-2e4d-40ff-a8e6-1c064c1bbcd0",
        "colab": {
          "base_uri": "https://localhost:8080/"
        }
      },
      "source": [
        "os.remove('a.tmp')\n",
        "os.listdir(os.curdir)"
      ],
      "execution_count": null,
      "outputs": [
        {
          "output_type": "execute_result",
          "data": {
            "text/plain": [
              "['anscombe.json',\n",
              " '.ipynb_checkpoints',\n",
              " 'README.md.old',\n",
              " '1.tmp',\n",
              " '2.tmp',\n",
              " 'california_housing_train.csv',\n",
              " 'california_housing_test.csv',\n",
              " 'mnist_test.csv',\n",
              " 'mnist_train_small.csv']"
            ]
          },
          "metadata": {},
          "execution_count": 46
        }
      ]
    },
    {
      "cell_type": "code",
      "metadata": {
        "id": "YZZ72kJAjF_e",
        "outputId": "5dc5134c-7648-4758-cfe1-bc91dde9773c",
        "colab": {
          "base_uri": "https://localhost:8080/"
        }
      },
      "source": [
        "os.makedirs('mydir')\n",
        "os.listdir(os.curdir)"
      ],
      "execution_count": null,
      "outputs": [
        {
          "output_type": "execute_result",
          "data": {
            "text/plain": [
              "['anscombe.json',\n",
              " '.ipynb_checkpoints',\n",
              " 'README.md.old',\n",
              " 'mydir',\n",
              " '1.tmp',\n",
              " '2.tmp',\n",
              " 'california_housing_train.csv',\n",
              " 'california_housing_test.csv',\n",
              " 'mnist_test.csv',\n",
              " 'mnist_train_small.csv']"
            ]
          },
          "metadata": {},
          "execution_count": 47
        }
      ]
    },
    {
      "cell_type": "code",
      "metadata": {
        "id": "Lk_36lnEjF_e",
        "outputId": "1cf160c4-6c7b-4c10-e8cd-f5c97de39f1f",
        "colab": {
          "base_uri": "https://localhost:8080/"
        }
      },
      "source": [
        "os.path.isdir('mydir')"
      ],
      "execution_count": null,
      "outputs": [
        {
          "output_type": "execute_result",
          "data": {
            "text/plain": [
              "True"
            ]
          },
          "metadata": {},
          "execution_count": 48
        }
      ]
    },
    {
      "cell_type": "code",
      "metadata": {
        "id": "TtG2IVb-jF_e",
        "outputId": "58d868d9-e357-4a92-d450-4495ac3b1126",
        "colab": {
          "base_uri": "https://localhost:8080/"
        }
      },
      "source": [
        "os.rmdir('mydir')\n",
        "os.listdir(os.curdir)"
      ],
      "execution_count": null,
      "outputs": [
        {
          "output_type": "execute_result",
          "data": {
            "text/plain": [
              "['anscombe.json',\n",
              " '.ipynb_checkpoints',\n",
              " 'README.md.old',\n",
              " '1.tmp',\n",
              " '2.tmp',\n",
              " 'california_housing_train.csv',\n",
              " 'california_housing_test.csv',\n",
              " 'mnist_test.csv',\n",
              " 'mnist_train_small.csv']"
            ]
          },
          "metadata": {},
          "execution_count": 49
        }
      ]
    },
    {
      "cell_type": "markdown",
      "source": [
        "## 12.4.1 More filesystem operations with pathlib\n"
      ],
      "metadata": {
        "id": "0OvJ8AuUetd4"
      }
    },
    {
      "cell_type": "code",
      "metadata": {
        "id": "R6mVryZujF_e",
        "outputId": "89039490-0543-4108-c516-a15fa51324d4",
        "colab": {
          "base_uri": "https://localhost:8080/"
        }
      },
      "source": [
        "new_path = cur_path.joinpath('/content', 'sample_data')\n",
        "list(new_path.iterdir())"
      ],
      "execution_count": null,
      "outputs": [
        {
          "output_type": "execute_result",
          "data": {
            "text/plain": [
              "[PosixPath('/content/sample_data/anscombe.json'),\n",
              " PosixPath('/content/sample_data/.ipynb_checkpoints'),\n",
              " PosixPath('/content/sample_data/README.md.old'),\n",
              " PosixPath('/content/sample_data/1.tmp'),\n",
              " PosixPath('/content/sample_data/2.tmp'),\n",
              " PosixPath('/content/sample_data/california_housing_train.csv'),\n",
              " PosixPath('/content/sample_data/california_housing_test.csv'),\n",
              " PosixPath('/content/sample_data/mnist_test.csv'),\n",
              " PosixPath('/content/sample_data/mnist_train_small.csv')]"
            ]
          },
          "metadata": {},
          "execution_count": 53
        }
      ]
    },
    {
      "cell_type": "code",
      "metadata": {
        "id": "MWv8RyHzjF_e",
        "outputId": "1686041b-7561-4b62-dc74-d35c54c1b6d1",
        "colab": {
          "base_uri": "https://localhost:8080/"
        }
      },
      "source": [
        "list(cur_path.glob(\"*\"))"
      ],
      "execution_count": null,
      "outputs": [
        {
          "output_type": "execute_result",
          "data": {
            "text/plain": [
              "[PosixPath('anscombe.json'),\n",
              " PosixPath('.ipynb_checkpoints'),\n",
              " PosixPath('README.md.old'),\n",
              " PosixPath('1.tmp'),\n",
              " PosixPath('2.tmp'),\n",
              " PosixPath('california_housing_train.csv'),\n",
              " PosixPath('california_housing_test.csv'),\n",
              " PosixPath('mnist_test.csv'),\n",
              " PosixPath('mnist_train_small.csv')]"
            ]
          },
          "metadata": {},
          "execution_count": 54
        }
      ]
    },
    {
      "cell_type": "code",
      "metadata": {
        "id": "MvgVRj8VjF_f",
        "outputId": "7620678b-e8fb-433e-ee58-5cd32834fb9c",
        "colab": {
          "base_uri": "https://localhost:8080/"
        }
      },
      "source": [
        "list(cur_path.glob(\"*json\"))"
      ],
      "execution_count": null,
      "outputs": [
        {
          "output_type": "execute_result",
          "data": {
            "text/plain": [
              "[PosixPath('anscombe.json')]"
            ]
          },
          "metadata": {},
          "execution_count": 57
        }
      ]
    },
    {
      "cell_type": "code",
      "metadata": {
        "id": "jbfXfCi3jF_f",
        "outputId": "0d73fc92-2636-491a-e8af-aea04357a272",
        "colab": {
          "base_uri": "https://localhost:8080/"
        }
      },
      "source": [
        "list(cur_path.glob(\"?.tmp\"))"
      ],
      "execution_count": null,
      "outputs": [
        {
          "output_type": "execute_result",
          "data": {
            "text/plain": [
              "[PosixPath('1.tmp'), PosixPath('2.tmp')]"
            ]
          },
          "metadata": {},
          "execution_count": 58
        }
      ]
    },
    {
      "cell_type": "code",
      "metadata": {
        "id": "YB97NCu7jF_f",
        "outputId": "199973c9-0baa-4d3e-b0b4-b0b59545f4b8",
        "colab": {
          "base_uri": "https://localhost:8080/"
        }
      },
      "source": [
        "list(cur_path.glob(\"[0-9].tmp\"))"
      ],
      "execution_count": null,
      "outputs": [
        {
          "output_type": "execute_result",
          "data": {
            "text/plain": [
              "[PosixPath('1.tmp'), PosixPath('2.tmp')]"
            ]
          },
          "metadata": {},
          "execution_count": 59
        }
      ]
    },
    {
      "cell_type": "code",
      "metadata": {
        "id": "MowaxuXyjF_f",
        "outputId": "50558919-673c-4ab5-fa89-c1b51644485f",
        "colab": {
          "base_uri": "https://localhost:8080/"
        }
      },
      "source": [
        "old_path = Path('README.md.old')\n",
        "new_path = Path('README.md')\n",
        "old_path.rename(new_path)\n",
        "list(cur_path.iterdir())"
      ],
      "execution_count": null,
      "outputs": [
        {
          "output_type": "execute_result",
          "data": {
            "text/plain": [
              "[PosixPath('anscombe.json'),\n",
              " PosixPath('README.md'),\n",
              " PosixPath('.ipynb_checkpoints'),\n",
              " PosixPath('1.tmp'),\n",
              " PosixPath('2.tmp'),\n",
              " PosixPath('california_housing_train.csv'),\n",
              " PosixPath('california_housing_test.csv'),\n",
              " PosixPath('mnist_test.csv'),\n",
              " PosixPath('mnist_train_small.csv')]"
            ]
          },
          "metadata": {},
          "execution_count": 60
        }
      ]
    },
    {
      "cell_type": "code",
      "metadata": {
        "id": "T2WsyjCKjF_f",
        "outputId": "d8cf97fd-5ab8-46e8-ef24-50b55a422fae",
        "colab": {
          "base_uri": "https://localhost:8080/"
        }
      },
      "source": [
        "new_path = Path('1.tmp')\n",
        "new_path.unlink()\n",
        "list(cur_path.iterdir())"
      ],
      "execution_count": null,
      "outputs": [
        {
          "output_type": "execute_result",
          "data": {
            "text/plain": [
              "[PosixPath('anscombe.json'),\n",
              " PosixPath('README.md'),\n",
              " PosixPath('.ipynb_checkpoints'),\n",
              " PosixPath('2.tmp'),\n",
              " PosixPath('california_housing_train.csv'),\n",
              " PosixPath('california_housing_test.csv'),\n",
              " PosixPath('mnist_test.csv'),\n",
              " PosixPath('mnist_train_small.csv')]"
            ]
          },
          "metadata": {},
          "execution_count": 61
        }
      ]
    },
    {
      "cell_type": "code",
      "metadata": {
        "id": "gBo9RxZvjF_f",
        "outputId": "4159a250-2bd6-4dfe-f513-6cac5441b641",
        "colab": {
          "base_uri": "https://localhost:8080/"
        }
      },
      "source": [
        "new_path = Path ('mydir')\n",
        "new_path.mkdir(parents=True)\n",
        "list(cur_path.iterdir())"
      ],
      "execution_count": null,
      "outputs": [
        {
          "output_type": "execute_result",
          "data": {
            "text/plain": [
              "[PosixPath('anscombe.json'),\n",
              " PosixPath('README.md'),\n",
              " PosixPath('.ipynb_checkpoints'),\n",
              " PosixPath('mydir'),\n",
              " PosixPath('2.tmp'),\n",
              " PosixPath('california_housing_train.csv'),\n",
              " PosixPath('california_housing_test.csv'),\n",
              " PosixPath('mnist_test.csv'),\n",
              " PosixPath('mnist_train_small.csv')]"
            ]
          },
          "metadata": {},
          "execution_count": 62
        }
      ]
    },
    {
      "cell_type": "code",
      "metadata": {
        "id": "p7eLMx8BjF_f",
        "outputId": "2dd4af76-45bf-4eb1-907b-213b4e3309ce",
        "colab": {
          "base_uri": "https://localhost:8080/"
        }
      },
      "source": [
        "new_path.is_dir()"
      ],
      "execution_count": null,
      "outputs": [
        {
          "output_type": "execute_result",
          "data": {
            "text/plain": [
              "True"
            ]
          },
          "metadata": {},
          "execution_count": 64
        }
      ]
    },
    {
      "cell_type": "code",
      "metadata": {
        "id": "G03O87s1jF_g",
        "outputId": "59dfc60c-60d4-44bf-ff5e-fdd9e5c81d7d",
        "colab": {
          "base_uri": "https://localhost:8080/"
        }
      },
      "source": [
        "new_path = Path('mydir')\n",
        "new_path.rmdir()\n",
        "list(cur_path.iterdir())"
      ],
      "execution_count": null,
      "outputs": [
        {
          "output_type": "execute_result",
          "data": {
            "text/plain": [
              "[PosixPath('anscombe.json'),\n",
              " PosixPath('README.md'),\n",
              " PosixPath('.ipynb_checkpoints'),\n",
              " PosixPath('2.tmp'),\n",
              " PosixPath('california_housing_train.csv'),\n",
              " PosixPath('california_housing_test.csv'),\n",
              " PosixPath('mnist_test.csv'),\n",
              " PosixPath('mnist_train_small.csv')]"
            ]
          },
          "metadata": {},
          "execution_count": 65
        }
      ]
    },
    {
      "cell_type": "code",
      "source": [
        "# create directory structure for below"
      ],
      "metadata": {
        "id": "ZmIn0ePtiy-n"
      },
      "execution_count": null,
      "outputs": []
    },
    {
      "cell_type": "code",
      "source": [
        "import os\n",
        "for root, dirs, files in os.walk(os.curdir):\n",
        "    print(\"{0} has {1} files\".format(root, len(files)))\n",
        "    if \".git\" in dirs:                          #A\n",
        "        print(dirs)\n",
        "        #dirs.remove(\".git\")        #B"
      ],
      "metadata": {
        "id": "BRLzCRUJhA9V",
        "outputId": "da70bbbf-668b-4842-b473-e63c6576edb6",
        "colab": {
          "base_uri": "https://localhost:8080/"
        }
      },
      "execution_count": 1,
      "outputs": [
        {
          "output_type": "stream",
          "name": "stdout",
          "text": [
            ". has 0 files\n",
            "./.config has 7 files\n",
            "./.config/configurations has 1 files\n",
            "./.config/logs has 0 files\n",
            "./.config/logs/2024.05.08 has 6 files\n",
            "./sample_data has 6 files\n"
          ]
        }
      ]
    },
    {
      "cell_type": "markdown",
      "source": [
        "# 12.6 Lab 12: More file operations"
      ],
      "metadata": {
        "id": "Yc9J7eNoUiGo"
      }
    },
    {
      "cell_type": "code",
      "source": [
        "import pathlib\n",
        "cur_path = pathlib.Path(\".\")\n",
        "\n",
        "size = 0\n",
        "for text_path in cur_path.glob(\"*.txt\"):\n",
        "    if not text_path.is_symlink():\n",
        "        size += text_path.stat().st_size\n",
        "\n",
        "print(size)\n"
      ],
      "metadata": {
        "id": "8jmoXVydiuUb"
      },
      "execution_count": null,
      "outputs": []
    }
  ]
}