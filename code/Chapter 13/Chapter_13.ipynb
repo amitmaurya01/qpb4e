{
  "nbformat": 4,
  "nbformat_minor": 0,
  "metadata": {
    "colab": {
      "provenance": [],
      "include_colab_link": true
    },
    "kernelspec": {
      "name": "python3",
      "display_name": "Python 3"
    },
    "language_info": {
      "name": "python"
    }
  },
  "cells": [
    {
      "cell_type": "markdown",
      "metadata": {
        "id": "view-in-github",
        "colab_type": "text"
      },
      "source": [
        "<a href=\"https://colab.research.google.com/github/nceder/qpb4e/blob/main/code/Chapter%2013/Chapter_13.ipynb\" target=\"_parent\"><img src=\"https://colab.research.google.com/assets/colab-badge.svg\" alt=\"Open In Colab\"/></a>"
      ]
    },
    {
      "cell_type": "markdown",
      "source": [
        "# 13 Reading and writing files"
      ],
      "metadata": {
        "id": "j5RZrXkHmOEU"
      }
    },
    {
      "cell_type": "markdown",
      "source": [
        "# 13.3 Opening files in write or other modes"
      ],
      "metadata": {
        "id": "NYNYihP7OsEe"
      }
    },
    {
      "cell_type": "code",
      "metadata": {
        "id": "YC8KD7B1O1Ex"
      },
      "source": [
        "file_object = open(\"myfile\", 'w')\n",
        "file_object.write(\"Hello, World\\n\")\n",
        "file_object.close()"
      ],
      "execution_count": null,
      "outputs": []
    },
    {
      "cell_type": "markdown",
      "source": [
        "# 13.4 Functions to read and write text or binary data"
      ],
      "metadata": {
        "id": "uih_m9cbPAST"
      }
    },
    {
      "cell_type": "code",
      "metadata": {
        "id": "aYw0jt7RO1Ex",
        "outputId": "f90f8902-e1d3-45d0-ab32-b128ca3443f0",
        "colab": {
          "base_uri": "https://localhost:8080/"
        }
      },
      "source": [
        "file_object = open(\"myfile\", 'r')\n",
        "count = 0\n",
        "while file_object.readline() != \"\":\n",
        "    count = count + 1\n",
        "print(count)\n",
        "file_object.close()"
      ],
      "execution_count": null,
      "outputs": [
        {
          "output_type": "stream",
          "name": "stdout",
          "text": [
            "1\n"
          ]
        }
      ]
    },
    {
      "cell_type": "code",
      "metadata": {
        "id": "_-li9jGFO1Ey",
        "outputId": "e872a885-af08-4ace-fde9-8abe940de8ae",
        "colab": {
          "base_uri": "https://localhost:8080/"
        }
      },
      "source": [
        "file_object = open(\"myfile\", 'r')\n",
        "print(len(file_object.readlines()))\n",
        "file_object.close()"
      ],
      "execution_count": null,
      "outputs": [
        {
          "output_type": "stream",
          "name": "stdout",
          "text": [
            "1\n"
          ]
        }
      ]
    },
    {
      "cell_type": "code",
      "metadata": {
        "id": "gddwq_waO1Ey",
        "outputId": "fdf03f75-89b3-4b68-955e-5d86a7bc50a1",
        "colab": {
          "base_uri": "https://localhost:8080/"
        }
      },
      "source": [
        "file_object = open(\"myfile\", 'r')\n",
        "count = 0\n",
        "for line in file_object:\n",
        "    count = count + 1\n",
        "print(count)\n",
        "file_object.close()"
      ],
      "execution_count": null,
      "outputs": [
        {
          "output_type": "stream",
          "name": "stdout",
          "text": [
            "1\n"
          ]
        }
      ]
    },
    {
      "cell_type": "code",
      "metadata": {
        "id": "6qPmdY-6O1Ey",
        "outputId": "84600122-532e-4975-8dd8-b2c1ce74a8c9"
      },
      "source": [
        "input_file = open(\"myfile.txt\", 'r')\n",
        "lines = input_file.readlines()\n",
        "input_file.close()\n",
        "output = open(\"myfile2.txt\", 'w')\n",
        "output.writelines(lines)\n",
        "output.close()"
      ],
      "execution_count": null,
      "outputs": [
        {
          "output_type": "stream",
          "name": "stdout",
          "text": []
        }
      ]
    },
    {
      "cell_type": "markdown",
      "source": [
        "## 13.4.1 Using binary mode"
      ],
      "metadata": {
        "id": "XXsNzbNyPKEC"
      }
    },
    {
      "cell_type": "code",
      "metadata": {
        "id": "_tvehZNtO1Ey"
      },
      "source": [
        "input_file = open(\"myfile\", 'rb')\n",
        "header = input_file.read(4)\n",
        "data = input_file.read()\n",
        "input_file.close()"
      ],
      "execution_count": null,
      "outputs": []
    },
    {
      "cell_type": "markdown",
      "source": [
        "# 13.5 Reading and writing with pathlib"
      ],
      "metadata": {
        "id": "fbZLb7K3PWiA"
      }
    },
    {
      "cell_type": "code",
      "metadata": {
        "id": "P9kXS3YGO1Ey",
        "outputId": "86479271-bec3-4601-fc33-30f82b24b4fe",
        "colab": {
          "base_uri": "https://localhost:8080/"
        }
      },
      "source": [
        "from pathlib import Path\n",
        "p_text = Path('my_text_file')\n",
        "p_text.write_text('Text file contents')"
      ],
      "execution_count": null,
      "outputs": [
        {
          "output_type": "execute_result",
          "data": {
            "text/plain": [
              "18"
            ]
          },
          "metadata": {},
          "execution_count": 10
        }
      ]
    },
    {
      "cell_type": "code",
      "metadata": {
        "id": "GARTQuqbO1Ez",
        "outputId": "b50db882-59f9-401d-9b10-25af74effdfe",
        "colab": {
          "base_uri": "https://localhost:8080/",
          "height": 35
        }
      },
      "source": [
        "p_text.read_text()"
      ],
      "execution_count": null,
      "outputs": [
        {
          "output_type": "execute_result",
          "data": {
            "text/plain": [
              "'Text file contents'"
            ],
            "application/vnd.google.colaboratory.intrinsic+json": {
              "type": "string"
            }
          },
          "metadata": {},
          "execution_count": 11
        }
      ]
    },
    {
      "cell_type": "code",
      "metadata": {
        "id": "7ZXbH8Y6O1Ez",
        "outputId": "f109163d-ed66-4665-c3a5-bd6b46f8bcfb"
      },
      "source": [
        "p_binary = Path('my_binary_file')\n",
        "p_binary.write_bytes(b'Binary file contents')"
      ],
      "execution_count": null,
      "outputs": [
        {
          "output_type": "stream",
          "name": "stdout",
          "text": [
            "20\n"
          ]
        }
      ]
    },
    {
      "cell_type": "code",
      "metadata": {
        "id": "YH-YhBYgO1Ez",
        "outputId": "5507eed3-32f7-4dad-a721-723ebe21341e"
      },
      "source": [
        "p_binary.read_bytes()"
      ],
      "execution_count": null,
      "outputs": [
        {
          "output_type": "stream",
          "name": "stdout",
          "text": [
            "b'Binary file contents'\n"
          ]
        }
      ]
    },
    {
      "cell_type": "markdown",
      "source": [
        "# 13.6 Screen input/output and redirection"
      ],
      "metadata": {
        "id": "-o1Drh6sPj2q"
      }
    },
    {
      "cell_type": "code",
      "metadata": {
        "id": "Z4m86e-NO1Ez",
        "outputId": "044ba69b-5968-425c-f810-339a259e8cb7"
      },
      "source": [
        "x = input(\"enter file name to use: \")"
      ],
      "execution_count": null,
      "outputs": [
        {
          "output_type": "stream",
          "name": "stdout",
          "text": [
            "enter file name to use: myfile\n"
          ]
        }
      ]
    },
    {
      "cell_type": "code",
      "metadata": {
        "id": "11vn1h_0O1Ez",
        "outputId": "9276dfbe-8298-4ec7-9db5-995970438fb7"
      },
      "source": [
        "x"
      ],
      "execution_count": null,
      "outputs": [
        {
          "output_type": "stream",
          "name": "stdout",
          "text": [
            "'myfile'\n"
          ]
        }
      ]
    },
    {
      "cell_type": "code",
      "metadata": {
        "id": "BwF1e9MQO1Ez",
        "outputId": "f39dd560-3f3f-4d4f-8d26-a0020432eb0c"
      },
      "source": [
        "x = int(input(\"enter your number: \"))"
      ],
      "execution_count": null,
      "outputs": [
        {
          "output_type": "stream",
          "name": "stdout",
          "text": [
            "enter your number: 39\n"
          ]
        }
      ]
    },
    {
      "cell_type": "code",
      "metadata": {
        "id": "aScIWTDVO1E0",
        "outputId": "73684365-0d8c-4baa-ed21-3d8bd37564c2"
      },
      "source": [
        "x"
      ],
      "execution_count": null,
      "outputs": [
        {
          "output_type": "stream",
          "name": "stdout",
          "text": [
            "39\n"
          ]
        }
      ]
    },
    {
      "cell_type": "code",
      "metadata": {
        "id": "XoTuxf7LO1E0",
        "outputId": "8319c466-9a4d-46fc-948c-b57c1fa3092d",
        "colab": {
          "base_uri": "https://localhost:8080/"
        }
      },
      "source": [
        "import sys\n",
        "print(\"Write to the standard output.\")"
      ],
      "execution_count": null,
      "outputs": [
        {
          "output_type": "stream",
          "name": "stdout",
          "text": [
            "Write to the standard output.\n"
          ]
        }
      ]
    },
    {
      "cell_type": "code",
      "metadata": {
        "id": "gFqZTad3O1E0",
        "outputId": "425086d9-743a-4fa5-8027-bed9472219f6",
        "colab": {
          "base_uri": "https://localhost:8080/"
        }
      },
      "source": [
        "sys.stdout.write(\"Write to the standard output.\\n\")"
      ],
      "execution_count": null,
      "outputs": [
        {
          "output_type": "stream",
          "name": "stdout",
          "text": [
            "Write to the standard output.\n"
          ]
        }
      ]
    },
    {
      "cell_type": "markdown",
      "source": [
        "## Warning about Colaboratory and Jupyter\n",
        "\n",
        " Since Colaboratory (and Jupyter in general) takes more control of standard input and output, these examples using `sys.__stdout__` won’t work as indicated; you would have to use an interpreter’s interactive mode directly for them to work.\n",
        "\n",
        " Therefore the rest of the code in section 13.6 not executable in this notebook.\n"
      ],
      "metadata": {
        "id": "lCu1LL3OP3H8"
      }
    },
    {
      "cell_type": "markdown",
      "source": [
        "```python\n",
        "import sys\n",
        "print(\"Write to the standard output.\")\n",
        "\n",
        "Write to the standard output.\n",
        "\n",
        "sys.stdout.write(\"Write to the standard output.\\n\")\n",
        "\n",
        "Write to the standard output.\n",
        "30                                             #A\n",
        "\n",
        "s = sys.stdin.readline()\n",
        "```\n",
        "\n",
        "```python\n",
        "import sys\n",
        "f = open(\"outfile.txt\", 'w')   #A\n",
        "sys.stdout = f     #B\n",
        "sys.stdout.writelines([\"A first line.\\n\", \"A second line.\\n\"])  #C\n",
        "print(\"A line from the print function\") #C\n",
        "3 + 4                  \n",
        "\n",
        "sys.stdout = sys.__stdout__\n",
        "f.close()\n",
        "3 + 4\n",
        "```\n",
        "\n",
        "\n",
        "\n"
      ],
      "metadata": {
        "id": "o11BHeG_Qc4S"
      }
    },
    {
      "cell_type": "code",
      "source": [
        "f = open(\"outfile.txt\", 'w')  #A\n",
        "print(\"A first line.\\n\", \"A second line.\\n\", file=f)  #B\n",
        "f.close()\n",
        "\n",
        "!cat outfile.txt"
      ],
      "metadata": {
        "id": "10xvGB9aQ684",
        "outputId": "2c5589bb-8f09-4c48-c880-0b422be8da48",
        "colab": {
          "base_uri": "https://localhost:8080/"
        }
      },
      "execution_count": null,
      "outputs": [
        {
          "output_type": "stream",
          "name": "stdout",
          "text": [
            "A first line.\n",
            " A second line.\n",
            "\n"
          ]
        }
      ]
    },
    {
      "cell_type": "markdown",
      "source": [
        "### Listing 13.1 File mio.py"
      ],
      "metadata": {
        "id": "EaRSijCgRT0i"
      }
    },
    {
      "cell_type": "markdown",
      "source": [
        "```python\n",
        "\n",
        "'''mio: module, (contains functions capture_output, restore_output,\n",
        "     print_file, and clear_file )'''\n",
        "import sys\n",
        "_file_object = None\n",
        "def capture_output(file=\"capture_file.txt\"):\n",
        "    '''capture_output(file='capture_file.txt'): redirect the standard\n",
        "    output to 'file'.'''\n",
        "    global _file_object\n",
        "    print(\"output will be sent to file: {0}\".format(file))\n",
        "    print(\"restore to normal by calling 'mio.restore_output()'\")\n",
        "    _file_object = open(file, 'w')\n",
        "    sys.stdout = _file_object\n",
        "\n",
        "def restore_output():\n",
        "    '''restore_output(): restore the standard output back to the\n",
        "             default (also closes the capture file)'''\n",
        "    global _file_object\n",
        "    sys.stdout = sys.__stdout__\n",
        "    _file_object.close()\n",
        "    print(\"standard output has been restored back to normal\")\n",
        "\n",
        "def print_file(file=\"capture_file.txt\"):\n",
        "    '''print_file(file=\"capture_file.txt\"): print the given file to the\n",
        "         standard output'''\n",
        "    f = open(file, 'r')\n",
        "    print(f.read())\n",
        "    f.close()\n",
        "\n",
        "def clear_file(file=\"capture_file.txt\"):\n",
        "    '''clear_file(file=\"capture_file.txt\"): clears the contents of the\n",
        "         given file'''\n",
        "    f = open(file, 'w')\n",
        "    f.close()\n",
        "```"
      ],
      "metadata": {
        "id": "6h_9kCxgRdwr"
      }
    },
    {
      "cell_type": "markdown",
      "source": [
        "# 13.7 Handling structured binary data with the struct module"
      ],
      "metadata": {
        "id": "Doh0jdZDRxja"
      }
    },
    {
      "cell_type": "code",
      "source": [
        "import struct\n",
        "record_format = 'hd7s'\n",
        "data_record = struct.pack(record_format, 42, 3.14, b'goodbye')\n",
        "with open(\"data\", \"wb\") as data_file:\n",
        "    data_file.write(data_record)\n",
        "\n",
        "data_record"
      ],
      "metadata": {
        "id": "ZWnxEdzvSACM",
        "outputId": "4285cb78-7417-410c-8414-df293a5db035",
        "colab": {
          "base_uri": "https://localhost:8080/"
        }
      },
      "execution_count": null,
      "outputs": [
        {
          "output_type": "execute_result",
          "data": {
            "text/plain": [
              "b'*\\x00\\x00\\x00\\x00\\x00\\x00\\x00\\x1f\\x85\\xebQ\\xb8\\x1e\\t@goodbye'"
            ]
          },
          "metadata": {},
          "execution_count": 11
        }
      ]
    },
    {
      "cell_type": "code",
      "metadata": {
        "id": "yLl7tW2bO1E1",
        "outputId": "6fa51923-40ed-4bfa-915d-7ae895391430",
        "colab": {
          "base_uri": "https://localhost:8080/"
        }
      },
      "source": [
        "import struct\n",
        "\n",
        "record_format = 'hd7s'\n",
        "record_size = struct.calcsize(record_format)\n",
        "result_list = []\n",
        "with open(\"data\", 'rb') as input:\n",
        "    while True:\n",
        "        record = input.read(record_size)  #A\n",
        "        if not record:  #B\n",
        "            break\n",
        "        result_list.append(struct.unpack(record_format, record))  #C\n",
        "\n",
        "print(result_list)"
      ],
      "execution_count": null,
      "outputs": [
        {
          "output_type": "stream",
          "name": "stdout",
          "text": [
            "[(42, 3.14, b'goodbye')]\n"
          ]
        }
      ]
    },
    {
      "cell_type": "markdown",
      "source": [
        "# 13.8 Pickling objects to files"
      ],
      "metadata": {
        "id": "ETStmi44SgHn"
      }
    },
    {
      "cell_type": "code",
      "source": [
        "import pickle\n",
        "a = 42\n",
        "b = 3.14\n",
        "c = \"test\"\n",
        "file = open(\"state\", 'wb')\n",
        "pickle.dump(a, file)\n",
        "pickle.dump(b, file)\n",
        "pickle.dump(c, file)\n",
        "file.close()"
      ],
      "metadata": {
        "id": "_RbrmHLWSnGe"
      },
      "execution_count": null,
      "outputs": []
    },
    {
      "cell_type": "code",
      "metadata": {
        "id": "Fwvsta5DO1E1",
        "outputId": "6388d4c3-7411-40c1-b713-08b15bd522c1",
        "colab": {
          "base_uri": "https://localhost:8080/"
        }
      },
      "source": [
        "import pickle\n",
        "file = open(\"state\", 'rb')\n",
        "a = pickle.load(file)\n",
        "b = pickle.load(file)\n",
        "c = pickle.load(file)\n",
        "file.close()\n",
        "print(f\"{a=} {b=} {c=}\")"
      ],
      "execution_count": null,
      "outputs": [
        {
          "output_type": "stream",
          "name": "stdout",
          "text": [
            "a=42 b=3.14 c='test'\n"
          ]
        }
      ]
    },
    {
      "cell_type": "code",
      "source": [
        "import pickle\n",
        "\n",
        "def save_data(data_dict):\n",
        "    with open(\"state\", 'wb') as file:\n",
        "        pickle.dump(data_dict, file)\n",
        "\n",
        "def restore_data():\n",
        "    with open(\"state\", 'rb') as file:\n",
        "        data_dict = pickle.load(file)\n",
        "    return data_dict\n",
        "\n",
        "if __name__ == '__main__':\n",
        "    data_dict = {'a': 42,\n",
        "                'b': 3.14,\n",
        "                'c': \"test\"\n",
        "                }\n",
        "    save_data(data_dict)\n",
        "    restored_data = restore_data()\n",
        "    print(restored_data)"
      ],
      "metadata": {
        "id": "4O18117jSuH9",
        "outputId": "82250325-1492-4a6f-d29f-eb501aca8e02",
        "colab": {
          "base_uri": "https://localhost:8080/"
        }
      },
      "execution_count": null,
      "outputs": [
        {
          "output_type": "stream",
          "name": "stdout",
          "text": [
            "{'a': 42, 'b': 3.14, 'c': 'test'}\n"
          ]
        }
      ]
    },
    {
      "cell_type": "markdown",
      "source": [
        "### Listing 13.2 File sole.py"
      ],
      "metadata": {
        "id": "Xy1GWcVpS15I"
      }
    },
    {
      "cell_type": "code",
      "metadata": {
        "id": "0pQRayxJO1E1"
      },
      "source": [
        "\"\"\"sole module: contains functions sole, save, show\"\"\"\n",
        "import pickle\n",
        "_sole_mem_cache_d = {}\n",
        "_sole_disk_file_s = \"solecache\"\n",
        "file = open(_sole_disk_file_s, 'rb')          #A\n",
        "_sole_mem_cache_d = pickle.load(file)\n",
        "file.close()\n",
        "\n",
        "def sole(m, n, t):                            #B\n",
        "    \"\"\"sole(m, n, t): perform the sole calculation using the cache.\"\"\"\n",
        "    global _sole_mem_cache_d\n",
        "    if (m, n, t) in _sole_mem_cache_d:\n",
        "        return _sole_mem_cache_d[(m, n, t)]\n",
        "    else:\n",
        "        # . . . do some time-consuming calculations . . .\n",
        "        result = f\"{m=}, {n=}, {t=}\"   #C\n",
        "        _sole_mem_cache_d[(m, n, t)] = result\n",
        "        return result\n",
        "\n",
        "def save():\n",
        "    \"\"\"save(): save the updated cache to disk.\"\"\"\n",
        "    global _sole_mem_cache_d, _sole_disk_file_s\n",
        "    file = open(_sole_disk_file_s, 'wb')\n",
        "    pickle.dump(_sole_mem_cache_d, file)\n",
        "    file.close()\n",
        "\n",
        "def show():\n",
        "    \"\"\"show(): print the cache\"\"\"\n",
        "    global _sole_mem_cache_d\n",
        "    print(_sole_mem_cache_d)"
      ],
      "execution_count": null,
      "outputs": []
    },
    {
      "cell_type": "code",
      "metadata": {
        "id": "_Ak-p6PTO1E2"
      },
      "source": [
        "# TO CREATE CACHE FILE - execute before using above\n",
        "\n",
        "import pickle\n",
        "file = open(\"solecache\",'wb')\n",
        "pickle.dump({}, file)\n",
        "file.close()"
      ],
      "execution_count": null,
      "outputs": []
    },
    {
      "cell_type": "code",
      "source": [
        "# Experiments with sole.py\n",
        "sole(1, 2, 3)\n",
        "sole(11, 22, 33)\n",
        "show()\n",
        "save()\n"
      ],
      "metadata": {
        "id": "FIJ_oaG4TRTT",
        "outputId": "823e30c8-f85f-463c-8b30-dd86040b9122",
        "colab": {
          "base_uri": "https://localhost:8080/"
        }
      },
      "execution_count": null,
      "outputs": [
        {
          "output_type": "stream",
          "name": "stdout",
          "text": [
            "{(1, 2, 3): 'm=1, n=2, t=3', (11, 22, 33): 'm=11, n=22, t=33'}\n"
          ]
        }
      ]
    },
    {
      "cell_type": "markdown",
      "source": [
        "# 13.9 Shelving objects"
      ],
      "metadata": {
        "id": "vAwIoI-wTsDa"
      }
    },
    {
      "cell_type": "code",
      "metadata": {
        "id": "SS_hjJMEO1E2"
      },
      "source": [
        "import shelve\n",
        "book = shelve.open(\"addresses\")"
      ],
      "execution_count": null,
      "outputs": []
    },
    {
      "cell_type": "code",
      "metadata": {
        "id": "gyHVq7ybO1E2"
      },
      "source": [
        "book['flintstone'] = ('fred', '555-1234', '1233 Bedrock Place')\n",
        "book['rubble'] = ('barney', '555-4321', '1235 Bedrock Place')"
      ],
      "execution_count": null,
      "outputs": []
    },
    {
      "cell_type": "code",
      "metadata": {
        "id": "rAGzmd5TO1E2"
      },
      "source": [
        "book.close()"
      ],
      "execution_count": null,
      "outputs": []
    },
    {
      "cell_type": "code",
      "metadata": {
        "id": "ptwVhRSSO1E3"
      },
      "source": [
        "import shelve\n",
        "book = shelve.open(\"addresses\")"
      ],
      "execution_count": null,
      "outputs": []
    },
    {
      "cell_type": "code",
      "metadata": {
        "id": "5B92C7prO1E3",
        "outputId": "a482e00c-a781-4ad7-f701-7a67cade8d6d",
        "colab": {
          "base_uri": "https://localhost:8080/"
        }
      },
      "source": [
        "book['flintstone']"
      ],
      "execution_count": null,
      "outputs": [
        {
          "output_type": "execute_result",
          "data": {
            "text/plain": [
              "('fred', '555-1234', '1233 Bedrock Place')"
            ]
          },
          "metadata": {},
          "execution_count": 26
        }
      ]
    },
    {
      "cell_type": "markdown",
      "source": [
        "# Lab 13: Final fixes to wc\n",
        "If you look at the man page for the `wc` utility, you see two command-line options that do very similar things. `-c` makes the utility count the bytes in the file, and `-m` makes it count characters (which in the case of some Unicode characters can be two or more bytes long). In addition, if a file is given, it should read from and process that file, but if no file is given, it should read from and process stdin.\n",
        "\n",
        "Rewrite your version of the `wc` utility to implement both the distinction between bytes and characters and the ability to read from files and standard input.\n",
        "\n",
        "**HINT:** if you use the argparse library you have to have a value for positional arguments like the filename. You can use a dash (`-`) as the filename to indicate that `std.in` should be used instead of a file."
      ],
      "metadata": {
        "id": "kHYZ7QQxIhab"
      }
    },
    {
      "cell_type": "markdown",
      "source": [
        "## Author's solution"
      ],
      "metadata": {
        "id": "q48BLPJyKuoi"
      }
    },
    {
      "cell_type": "code",
      "source": [
        "#!/usr/bin/env python3\n",
        "# File: word_count_program.py\n",
        "\"\"\" Reads a file and returns the number of lines, words,\n",
        "    and characters - similar to the UNIX wc utility\n",
        "\"\"\"\n",
        "import sys\n",
        "import argparse\n",
        "\n",
        "\n",
        "def main():\n",
        "    # initialze counts\n",
        "    line_count = 0\n",
        "    word_count = 0\n",
        "    char_count = 0\n",
        "    byte_count = 0\n",
        "    longest_line = 0\n",
        "\n",
        "    parser = argparse.ArgumentParser(usage=__doc__)\n",
        "    parser.add_argument(\"-c\", \"--chars\",\n",
        "                  action=\"store_true\", dest=\"chars\", default=False,\n",
        "                  help=\"display number of characters\")\n",
        "    parser.add_argument(\"-w\", \"--words\",\n",
        "                  action=\"store_true\", dest=\"words\", default=False,\n",
        "                  help=\"display number of words\")\n",
        "    parser.add_argument(\"-l\", \"--lines\",\n",
        "                  action=\"store_true\", dest=\"lines\", default=False,\n",
        "                  help=\"display number of lines\")\n",
        "    parser.add_argument(\"-L\", \"--longest\",\n",
        "                  action=\"store_true\", dest=\"longest\", default=False,\n",
        "                  help=\"display longest line length\")\n",
        "    parser.add_argument(\"file\", nargs='?', type=argparse.FileType('r'), default=sys.stdin.buffer,\n",
        "                         help=\"read data from this file\")\n",
        "    args = parser.parse_args()\n",
        "\n",
        "    with  args.file  as infile:\n",
        "        for line in infile.readlines():\n",
        "            line_count += 1\n",
        "            char_count += len(line)\n",
        "            words = line.split()\n",
        "            word_count += len(words)\n",
        "            if len(line) > longest_line:\n",
        "                longest_line = len(line)\n",
        "\n",
        "    default_args = any([getattr(args, _) for _ in ('chars', 'words', 'lines', 'longest')])\n",
        "\n",
        "    if not default_args:\n",
        "        args.chars = args.lines = args.words = True\n",
        "\n",
        "    if args.lines:\n",
        "        print(f\"{line_count:3}\", end=\" \")\n",
        "    if args.words:\n",
        "        print(f\"{word_count:4}\", end=\" \")\n",
        "    if args.chars:\n",
        "        print(f\"{char_count:4}\", end=\" \")\n",
        "    if args.longest:\n",
        "        print(f'{longest_line}', end=\" \")\n",
        "    if args.file.name != '<stdin>':\n",
        "        print(f'{args.file.name}', end=\" \")\n",
        "    print()\n",
        "\n",
        "if __name__ == '__main__':\n",
        "    main()"
      ],
      "metadata": {
        "id": "ycsqAXokJlkP"
      },
      "execution_count": null,
      "outputs": []
    },
    {
      "cell_type": "code",
      "source": [
        "# wc_redirect_copilot.py\n",
        "\n",
        "import argparse\n",
        "import os\n",
        "import sys\n",
        "\n",
        "def count_stats(file_path):\n",
        "    with open(file_path, 'rb') as infile:\n",
        "        content = infile.read()\n",
        "\n",
        "    lines = content.split(b'\\n')\n",
        "    line_count = len(lines)\n",
        "    word_count = sum(len(line.split()) for line in lines)\n",
        "    byte_count = len(content)\n",
        "    char_count = len(content.decode(errors='ignore'))\n",
        "    max_line_length = max(len(line) for line in lines)\n",
        "\n",
        "    return line_count, word_count, byte_count, char_count, max_line_length\n",
        "\n",
        "def main():\n",
        "    parser = argparse.ArgumentParser(description='Count lines, words, bytes, and characters in a file.')\n",
        "    parser.add_argument('file', nargs='?', type=argparse.FileType('rb'), default=sys.stdin.buffer, help='File to count')\n",
        "    parser.add_argument('-l', '--lines', action='store_true', help='Count lines')\n",
        "    parser.add_argument('-w', '--words', action='store_true', help='Count words')\n",
        "    parser.add_argument('-c', '--bytes', action='store_true', help='Count bytes')\n",
        "    parser.add_argument('-m', '--chars', action='store_true', help='Count characters')\n",
        "    parser.add_argument('-L', '--max-line-length', action='store_true', help='Print length of the longest line')\n",
        "    args = parser.parse_args()\n",
        "\n",
        "    line_count, word_count, byte_count, char_count, max_line_length = count_stats(args.file)\n",
        "\n",
        "    if args.lines:\n",
        "        print(f'Lines: {line_count}')\n",
        "    if args.words:\n",
        "        print(f'Words: {word_count}')\n",
        "    if args.bytes:\n",
        "        print(f'Bytes: {byte_count}')\n",
        "    if args.chars:\n",
        "        print(f'Characters: {char_count}')\n",
        "    if args.max_line_length:\n",
        "        print(f'Max line length: {max_line_length}')\n",
        "\n",
        "if __name__ == '__main__':\n",
        "    main()"
      ],
      "metadata": {
        "id": "O3ZMqhTnlB1n"
      },
      "execution_count": null,
      "outputs": []
    },
    {
      "cell_type": "code",
      "source": [
        "# prompt: Refactor the cell above to make the script support input/output\n",
        "#         redirection. Output should be similar to that of wc utility.\n",
        "\n",
        "import argparse\n",
        "import sys\n",
        "\n",
        "def count_stats(file_path):\n",
        "    with open(file_path) as infile:\n",
        "        lines = infile.readlines()\n",
        "\n",
        "    line_count = len(lines)\n",
        "    word_count = sum(len(line.split()) for line in lines)\n",
        "    char_count = sum(len(line) for line in lines)\n",
        "    max_line_length = max(len(line) for line in lines)\n",
        "\n",
        "    return line_count, word_count, char_count, max_line_length\n",
        "\n",
        "def main():\n",
        "    parser = argparse.ArgumentParser(description='Count lines, words, and characters in a file.')\n",
        "    parser.add_argument('file', nargs='?', type=argparse.FileType('r'), default=sys.stdin,\n",
        "                        help='File to count (default: stdin)')\n",
        "    parser.add_argument('-l', '--lines', action='store_true', help='Count lines')\n",
        "    parser.add_argument('-w', '--words', action='store_true', help='Count words')\n",
        "    parser.add_argument('-c', '--chars', action='store_true', help='Count characters')\n",
        "    parser.add_argument('-L', '--max-line-length', action='store_true', help='Print length of the longest line')\n",
        "    args = parser.parse_args()\n",
        "\n",
        "    line_count, word_count, char_count, max_line_length = count_stats(args.file.name)\n",
        "\n",
        "    if args.lines:\n",
        "        print(f'{line_count}')\n",
        "    if args.words:\n",
        "        print(f'{word_count}')\n",
        "    if args.chars:\n",
        "        print(f'{char_count}')\n",
        "    if args.max_line_length:\n",
        "        print(f'{max_line_length}')\n",
        "\n",
        "if __name__ == '__main__':\n",
        "    main()"
      ],
      "metadata": {
        "id": "h-tmhjz4rDqe"
      },
      "execution_count": null,
      "outputs": []
    }
  ]
}