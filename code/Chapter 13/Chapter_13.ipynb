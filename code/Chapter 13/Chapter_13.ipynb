{
  "nbformat": 4,
  "nbformat_minor": 0,
  "metadata": {
    "colab": {
      "provenance": [],
      "include_colab_link": true
    },
    "kernelspec": {
      "name": "python3",
      "display_name": "Python 3"
    },
    "language_info": {
      "name": "python"
    }
  },
  "cells": [
    {
      "cell_type": "markdown",
      "metadata": {
        "id": "view-in-github",
        "colab_type": "text"
      },
      "source": [
        "<a href=\"https://colab.research.google.com/github/nceder/qpb4e/blob/main/code/Chapter%2013/Chapter_13.ipynb\" target=\"_parent\"><img src=\"https://colab.research.google.com/assets/colab-badge.svg\" alt=\"Open In Colab\"/></a>"
      ]
    },
    {
      "cell_type": "code",
      "metadata": {
        "id": "pppIsuLWO1Ev",
        "outputId": "4f0d5b01-7825-4ba5-a443-d3c94cde7a8a"
      },
      "source": [
        "with open('myfile', 'r') as file_object:\n",
        "    line = file_object.readline()"
      ],
      "execution_count": null,
      "outputs": [
        {
          "output_type": "stream",
          "name": "stdout",
          "text": []
        }
      ]
    },
    {
      "cell_type": "code",
      "metadata": {
        "id": "2k8o1A-AO1Ew",
        "outputId": "c060a611-9711-4bb1-ed50-ee3b90c85112"
      },
      "source": [
        "import os\n",
        "file_name = os.path.join(\"c:\", \"My Documents\", \"test\", \"myfile\")\n",
        "file_object = open(file_name, 'r')"
      ],
      "execution_count": null,
      "outputs": [
        {
          "output_type": "stream",
          "name": "stdout",
          "text": []
        }
      ]
    },
    {
      "cell_type": "code",
      "metadata": {
        "id": "Wn75w6ZKO1Ex",
        "outputId": "b9bc33c6-c284-4b76-9052-2506f8999834"
      },
      "source": [
        "file_object = open(\"myfile\", 'r')\n",
        "line = file_object.readline()\n",
        "# . . . any further reading on the file_object . . .\n",
        "file_object.close()"
      ],
      "execution_count": null,
      "outputs": [
        {
          "output_type": "stream",
          "name": "stdout",
          "text": []
        }
      ]
    },
    {
      "cell_type": "code",
      "metadata": {
        "id": "YC8KD7B1O1Ex",
        "outputId": "d5bc0237-4a2a-4453-b5cc-c2c83743cea8"
      },
      "source": [
        "file_object = open(\"myfile\", 'w')\n",
        "file_object.write(“Hello, World\\n”)\n",
        "file_object.close()"
      ],
      "execution_count": null,
      "outputs": [
        {
          "output_type": "stream",
          "name": "stdout",
          "text": []
        }
      ]
    },
    {
      "cell_type": "code",
      "metadata": {
        "id": "aYw0jt7RO1Ex",
        "outputId": "bfd20470-0e80-448e-f993-1a5ee4b46b8a"
      },
      "source": [
        "file_object = open(\"myfile\", 'r')\n",
        "count = 0\n",
        "while file_object.readline() != \"\":\n",
        "    count = count + 1\n",
        "print(count)\n",
        "file_object.close()"
      ],
      "execution_count": null,
      "outputs": [
        {
          "output_type": "stream",
          "name": "stdout",
          "text": []
        }
      ]
    },
    {
      "cell_type": "code",
      "metadata": {
        "id": "_-li9jGFO1Ey",
        "outputId": "9754776a-c607-4e19-9159-9f7588572929"
      },
      "source": [
        "file_object = open(\"myfile\", 'r')\n",
        "print(len(file_object.readlines()))\n",
        "file_object.close()"
      ],
      "execution_count": null,
      "outputs": [
        {
          "output_type": "stream",
          "name": "stdout",
          "text": []
        }
      ]
    },
    {
      "cell_type": "code",
      "metadata": {
        "id": "gddwq_waO1Ey",
        "outputId": "78a87e12-1816-474a-b566-efc1a9a53193"
      },
      "source": [
        "file_object = open(\"myfile\", 'r')\n",
        "count = 0\n",
        "for line in file_object:\n",
        "    count = count + 1\n",
        "print(count)\n",
        "file_object.close()"
      ],
      "execution_count": null,
      "outputs": [
        {
          "output_type": "stream",
          "name": "stdout",
          "text": []
        }
      ]
    },
    {
      "cell_type": "code",
      "metadata": {
        "id": "6qPmdY-6O1Ey",
        "outputId": "84600122-532e-4975-8dd8-b2c1ce74a8c9"
      },
      "source": [
        "input_file = open(\"myfile.txt\", 'r')\n",
        "lines = input_file.readlines()\n",
        "input_file.close()\n",
        "output = open(\"myfile2.txt\", 'w')\n",
        "output.writelines(lines)\n",
        "output.close()"
      ],
      "execution_count": null,
      "outputs": [
        {
          "output_type": "stream",
          "name": "stdout",
          "text": []
        }
      ]
    },
    {
      "cell_type": "code",
      "metadata": {
        "id": "_tvehZNtO1Ey",
        "outputId": "9a0704da-bb0e-401f-898d-dbbec2d02cd9"
      },
      "source": [
        "input_file = open(\"myfile\", 'rb')\n",
        "header = input_file.read(4)\n",
        "data = input_file.read()\n",
        "input_file.close()"
      ],
      "execution_count": null,
      "outputs": [
        {
          "output_type": "stream",
          "name": "stdout",
          "text": []
        }
      ]
    },
    {
      "cell_type": "code",
      "metadata": {
        "id": "P9kXS3YGO1Ey",
        "outputId": "0b89672e-9b01-421f-c952-3db3e5b76e0f"
      },
      "source": [
        "from pathlib import Path\n",
        "p_text = Path('my_text_file')\n",
        "p_text.write_text('Text file contents')"
      ],
      "execution_count": null,
      "outputs": [
        {
          "output_type": "stream",
          "name": "stdout",
          "text": [
            "18\n"
          ]
        }
      ]
    },
    {
      "cell_type": "code",
      "metadata": {
        "id": "GARTQuqbO1Ez",
        "outputId": "332f6dee-e96d-4a4c-f6dc-a307cb6dc340"
      },
      "source": [
        "p_text.read_text()"
      ],
      "execution_count": null,
      "outputs": [
        {
          "output_type": "stream",
          "name": "stdout",
          "text": [
            "'Text file contents'\n"
          ]
        }
      ]
    },
    {
      "cell_type": "code",
      "metadata": {
        "id": "7ZXbH8Y6O1Ez",
        "outputId": "f109163d-ed66-4665-c3a5-bd6b46f8bcfb"
      },
      "source": [
        "p_binary = Path('my_binary_file')\n",
        "p_binary.write_bytes(b'Binary file contents')"
      ],
      "execution_count": null,
      "outputs": [
        {
          "output_type": "stream",
          "name": "stdout",
          "text": [
            "20\n"
          ]
        }
      ]
    },
    {
      "cell_type": "code",
      "metadata": {
        "id": "YH-YhBYgO1Ez",
        "outputId": "5507eed3-32f7-4dad-a721-723ebe21341e"
      },
      "source": [
        "p_binary.read_bytes()"
      ],
      "execution_count": null,
      "outputs": [
        {
          "output_type": "stream",
          "name": "stdout",
          "text": [
            "b'Binary file contents'\n"
          ]
        }
      ]
    },
    {
      "cell_type": "code",
      "metadata": {
        "id": "Z4m86e-NO1Ez",
        "outputId": "044ba69b-5968-425c-f810-339a259e8cb7"
      },
      "source": [
        "x = input(\"enter file name to use: \")"
      ],
      "execution_count": null,
      "outputs": [
        {
          "output_type": "stream",
          "name": "stdout",
          "text": [
            "enter file name to use: myfile\n"
          ]
        }
      ]
    },
    {
      "cell_type": "code",
      "metadata": {
        "id": "11vn1h_0O1Ez",
        "outputId": "9276dfbe-8298-4ec7-9db5-995970438fb7"
      },
      "source": [
        "x"
      ],
      "execution_count": null,
      "outputs": [
        {
          "output_type": "stream",
          "name": "stdout",
          "text": [
            "'myfile'\n"
          ]
        }
      ]
    },
    {
      "cell_type": "code",
      "metadata": {
        "id": "BwF1e9MQO1Ez",
        "outputId": "f39dd560-3f3f-4d4f-8d26-a0020432eb0c"
      },
      "source": [
        "x = int(input(\"enter your number: \"))"
      ],
      "execution_count": null,
      "outputs": [
        {
          "output_type": "stream",
          "name": "stdout",
          "text": [
            "enter your number: 39\n"
          ]
        }
      ]
    },
    {
      "cell_type": "code",
      "metadata": {
        "id": "aScIWTDVO1E0",
        "outputId": "73684365-0d8c-4baa-ed21-3d8bd37564c2"
      },
      "source": [
        "x"
      ],
      "execution_count": null,
      "outputs": [
        {
          "output_type": "stream",
          "name": "stdout",
          "text": [
            "39\n"
          ]
        }
      ]
    },
    {
      "cell_type": "code",
      "metadata": {
        "id": "XoTuxf7LO1E0",
        "outputId": "b36063c2-6351-45a0-bea7-18deb5c08973"
      },
      "source": [
        "import sys\n",
        "print(\"Write to the standard output.\")"
      ],
      "execution_count": null,
      "outputs": [
        {
          "output_type": "stream",
          "name": "stdout",
          "text": [
            "Write to the standard output.\n"
          ]
        }
      ]
    },
    {
      "cell_type": "code",
      "metadata": {
        "id": "gFqZTad3O1E0",
        "outputId": "e58bd5ec-11bb-4f38-9cbb-e63513235f2f"
      },
      "source": [
        "sys.stdout.write(\"Write to the standard output.\\n\")"
      ],
      "execution_count": null,
      "outputs": [
        {
          "output_type": "stream",
          "name": "stdout",
          "text": [
            "Write to the standard output.\n",
            "30                                             #A\n"
          ]
        }
      ]
    },
    {
      "cell_type": "code",
      "metadata": {
        "id": "4sfo6FFKO1E0",
        "outputId": "4eb7d679-f634-42b0-96e8-1ccb9a0bd3e5"
      },
      "source": [
        "s = sys.stdin.readline()"
      ],
      "execution_count": null,
      "outputs": [
        {
          "output_type": "stream",
          "name": "stdout",
          "text": [
            "An input line\n"
          ]
        }
      ]
    },
    {
      "cell_type": "code",
      "metadata": {
        "id": "XQCm8LaoO1E0",
        "outputId": "fc0fe704-98b0-4248-bcda-aca71fd6f33f"
      },
      "source": [
        "s"
      ],
      "execution_count": null,
      "outputs": [
        {
          "output_type": "stream",
          "name": "stdout",
          "text": [
            "'An input line\\n'\n"
          ]
        }
      ]
    },
    {
      "cell_type": "code",
      "metadata": {
        "id": "XWU9_HogO1E0",
        "outputId": "aba3f9aa-9f2f-48fc-886c-ca896525a059"
      },
      "source": [
        "import sys\n",
        "f = open(\"outfile.txt\", 'w')\n",
        "sys.stdout = f\n",
        "sys.stdout.writelines([\"A first line.\\n\", \"A second line.\\n\"])  #A\n",
        "print(\"A line from the print function\")\n",
        "3 + 4                   #B\n",
        "sys.stdout = sys.__stdout__\n",
        "f.close()\n",
        "3 + 4"
      ],
      "execution_count": null,
      "outputs": [
        {
          "output_type": "stream",
          "name": "stdout",
          "text": [
            "7\n"
          ]
        }
      ]
    },
    {
      "cell_type": "code",
      "metadata": {
        "id": "-Se9mtbZO1E0",
        "outputId": "671729da-27af-4f1c-80fe-0fd682508cf7"
      },
      "source": [
        "import sys\n",
        "f = open(\"outfile.txt\", 'w')\n",
        "print(\"A first line.\\n\", \"A second line.\\n\", file=f)  #A\n",
        "3 + 4"
      ],
      "execution_count": null,
      "outputs": [
        {
          "output_type": "stream",
          "name": "stdout",
          "text": [
            "7\n"
          ]
        }
      ]
    },
    {
      "cell_type": "code",
      "metadata": {
        "id": "bvVfp03jO1E1",
        "outputId": "942aabf4-1b9f-4864-9841-ab3800ce0a92"
      },
      "source": [
        "f.close()\n",
        "3 + 4"
      ],
      "execution_count": null,
      "outputs": [
        {
          "output_type": "stream",
          "name": "stdout",
          "text": [
            "7\n"
          ]
        }
      ]
    },
    {
      "cell_type": "code",
      "metadata": {
        "id": "MVFqDOV9O1E1",
        "outputId": "a13d3fc3-9273-46c9-8248-0c4b904b7e1d"
      },
      "source": [
        "'''mio: module, (contains functions capture_output, restore_output,\n",
        "     print_file, and clear_file )'''\n",
        "import sys\n",
        "_file_object = None\n",
        "def capture_output(file=\"capture_file.txt\"):\n",
        "    '''capture_output(file='capture_file.txt'): redirect the standard\n",
        "    output to 'file'.'''\n",
        "    global _file_object\n",
        "    print(\"output will be sent to file: {0}\".format(file))\n",
        "    print(\"restore to normal by calling 'mio.restore_output()'\")\n",
        "    _file_object = open(file, 'w')\n",
        "    sys.stdout = _file_object\n",
        "\n",
        "def restore_output():\n",
        "    '''restore_output(): restore the standard output back to the\n",
        "             default (also closes the capture file)'''\n",
        "    global _file_object\n",
        "    sys.stdout = sys.__stdout__\n",
        "    _file_object.close()\n",
        "    print(\"standard output has been restored back to normal\")\n",
        "\n",
        "def print_file(file=\"capture_file.txt\"):\n",
        "    '''print_file(file=\"capture_file.txt\"): print the given file to the\n",
        "         standard output'''\n",
        "    f = open(file, 'r')\n",
        "    print(f.read())\n",
        "    f.close()\n",
        "\n",
        "def clear_file(file=\"capture_file.txt\"):\n",
        "    '''clear_file(file=\"capture_file.txt\"): clears the contents of the\n",
        "         given file'''\n",
        "    f = open(file, 'w')\n",
        "    f.close()"
      ],
      "execution_count": null,
      "outputs": [
        {
          "output_type": "stream",
          "name": "stdout",
          "text": []
        }
      ]
    },
    {
      "cell_type": "code",
      "metadata": {
        "id": "yLl7tW2bO1E1",
        "outputId": "208b8215-8d36-4e97-fa70-3591d975abc8"
      },
      "source": [
        "import struct\n",
        "record_format = 'hd4s'\n",
        "record_size = struct.calcsize(record_format)\n",
        "result_list = []\n",
        "input = open(\"data\", 'rb')\n",
        "while 1:\n",
        "    record = input.read(record_size)           #A\n",
        "    if record == '':           #A\n",
        "        input.close()\n",
        "        break\n",
        "    result_list.append(struct.unpack(record_format, record))   #B"
      ],
      "execution_count": null,
      "outputs": [
        {
          "output_type": "stream",
          "name": "stdout",
          "text": []
        }
      ]
    },
    {
      "cell_type": "code",
      "metadata": {
        "id": "Ose9raQBO1E1",
        "outputId": "416b3908-79c7-41ca-a2e7-3fd0ab0d39bd"
      },
      "source": [
        "import struct\n",
        "record_format = 'hd4s'\n",
        "struct.pack(record_format, 7, 3.14, b'gbye')"
      ],
      "execution_count": null,
      "outputs": [
        {
          "output_type": "stream",
          "name": "stdout",
          "text": [
            "b'\\x07\\x00\\x00\\x00\\x00\\x00\\x00\\x00\\x1f\\x85\\xebQ\\xb8\\x1e\\t@gbye'\n"
          ]
        }
      ]
    },
    {
      "cell_type": "code",
      "metadata": {
        "id": "Fwvsta5DO1E1",
        "outputId": "2f210a89-f0b4-4986-ea4b-a1d18767cc78"
      },
      "source": [
        "import pickle\n",
        "file = open(\"state\", 'rb')\n",
        "a = pickle.load(file)\n",
        "b = pickle.load(file)\n",
        "c = pickle.load(file)\n",
        "file.close()"
      ],
      "execution_count": null,
      "outputs": [
        {
          "output_type": "stream",
          "name": "stdout",
          "text": []
        }
      ]
    },
    {
      "cell_type": "code",
      "metadata": {
        "id": "0pQRayxJO1E1",
        "outputId": "d4d1490c-d149-43ca-c3e6-63ab093b1fd4"
      },
      "source": [
        "'''sole module: contains functions sole, save, show'''\n",
        "import pickle\n",
        "_sole_mem_cache_d = {}\n",
        "_sole_disk_file_s = \"solecache\"\n",
        "file = open(_sole_disk_file_s, 'rb')          #A\n",
        "_sole_mem_cache_d = pickle.load(file)\n",
        "file.close()\n",
        "\n",
        "def sole(m, n, t):                            #B\n",
        "    '''sole(m, n, t): perform the sole calculation using the cache.'''\n",
        "    global _sole_mem_cache_d\n",
        "    if _sole_mem_cache_d.has_key((m, n, t)):\n",
        "        return _sole_mem_cache_d[(m, n, t)]\n",
        "    else:\n",
        "        # . . . do some time-consuming calculations . . .\n",
        "        _sole_mem_cache_d[(m, n, t)] = result\n",
        "        return result\n",
        "\n",
        "def save():\n",
        "    '''save(): save the updated cache to disk.'''\n",
        "    global _sole_mem_cache_d, _sole_disk_file_s\n",
        "    file = open(_sole_disk_file_s, 'wb')\n",
        "    pickle.dump(_sole_mem_cache_d, file)\n",
        "    file.close()\n",
        "\n",
        "def show():\n",
        "    '''show(): print the cache'''\n",
        "    global _sole_mem_cache_d\n",
        "    print(_sole_mem_cache_d)"
      ],
      "execution_count": null,
      "outputs": [
        {
          "output_type": "stream",
          "name": "stdout",
          "text": []
        }
      ]
    },
    {
      "cell_type": "code",
      "metadata": {
        "id": "_Ak-p6PTO1E2",
        "outputId": "b5cc3bed-f1d7-40eb-d9d3-807ff75679ee"
      },
      "source": [
        "import pickle\n",
        "file = open(\"solecache\",'wb')\n",
        "pickle.dump({}, file)\n",
        "file.close()"
      ],
      "execution_count": null,
      "outputs": [
        {
          "output_type": "stream",
          "name": "stdout",
          "text": []
        }
      ]
    },
    {
      "cell_type": "code",
      "metadata": {
        "id": "SS_hjJMEO1E2",
        "outputId": "edc81eca-ce23-4c94-e943-42e692cb7153"
      },
      "source": [
        "import shelve\n",
        "book = shelve.open(\"addresses\")"
      ],
      "execution_count": null,
      "outputs": [
        {
          "output_type": "stream",
          "name": "stdout",
          "text": []
        }
      ]
    },
    {
      "cell_type": "code",
      "metadata": {
        "id": "gyHVq7ybO1E2",
        "outputId": "3a254e77-9462-4f52-afa7-8a42f16ac568"
      },
      "source": [
        "book['flintstone'] = ('fred', '555-1234', '1233 Bedrock Place')\n",
        "book['rubble'] = ('barney', '555-4321', '1235 Bedrock Place')"
      ],
      "execution_count": null,
      "outputs": [
        {
          "output_type": "stream",
          "name": "stdout",
          "text": []
        }
      ]
    },
    {
      "cell_type": "code",
      "metadata": {
        "id": "rAGzmd5TO1E2",
        "outputId": "f2b17ea6-c33a-4e10-81ab-c94e6ec3e193"
      },
      "source": [
        "book.close()"
      ],
      "execution_count": null,
      "outputs": [
        {
          "output_type": "stream",
          "name": "stdout",
          "text": []
        }
      ]
    },
    {
      "cell_type": "code",
      "metadata": {
        "id": "ptwVhRSSO1E3",
        "outputId": "0bc27676-ef7f-4d6a-d394-c3485a376c9b"
      },
      "source": [
        "import shelve\n",
        "book = shelve.open(\"addresses\")"
      ],
      "execution_count": null,
      "outputs": [
        {
          "output_type": "stream",
          "name": "stdout",
          "text": []
        }
      ]
    },
    {
      "cell_type": "code",
      "metadata": {
        "id": "5B92C7prO1E3",
        "outputId": "654c1eb8-e630-4c0c-fd14-a3f2d372d0a9"
      },
      "source": [
        "book['flintstone']"
      ],
      "execution_count": null,
      "outputs": [
        {
          "output_type": "stream",
          "name": "stdout",
          "text": [
            "('fred', '555-1234', '1233 Bedrock Place')\n"
          ]
        }
      ]
    }
  ]
}