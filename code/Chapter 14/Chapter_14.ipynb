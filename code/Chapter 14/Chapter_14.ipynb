{
  "nbformat": 4,
  "nbformat_minor": 0,
  "metadata": {
    "colab": {
      "provenance": [],
      "include_colab_link": true
    },
    "kernelspec": {
      "name": "python3",
      "display_name": "Python 3"
    },
    "language_info": {
      "name": "python"
    }
  },
  "cells": [
    {
      "cell_type": "markdown",
      "metadata": {
        "id": "view-in-github",
        "colab_type": "text"
      },
      "source": [
        "<a href=\"https://colab.research.google.com/github/nceder/qpb4e/blob/main/code/Chapter%2014/Chapter_14.ipynb\" target=\"_parent\"><img src=\"https://colab.research.google.com/assets/colab-badge.svg\" alt=\"Open In Colab\"/></a>"
      ]
    },
    {
      "cell_type": "markdown",
      "source": [
        "# 14 Exceptions"
      ],
      "metadata": {
        "id": "OtEGRlOpyNPc"
      }
    },
    {
      "cell_type": "markdown",
      "source": [
        "### Python built-in exceptions\n",
        "\n",
        "```python\n",
        "BaseException\n",
        "    BaseExceptionGroup\n",
        "    GeneratorExit\n",
        "    KeyboardInterrupt\n",
        "    SystemExit\n",
        "    Exception\n",
        "        ArithmeticError\n",
        "            FloatingPointError\n",
        "            OverflowError\n",
        "            ZeroDivisionError\n",
        "        AssertionError\n",
        "        AttributeError\n",
        "        BufferError\n",
        "        EOFError\n",
        "        ExceptionGroup [BaseExceptionGroup]\n",
        "        ImportError\n",
        "            ModuleNotFoundError\n",
        "        LookupError\n",
        "            IndexError\n",
        "            KeyError\n",
        "        MemoryError\n",
        "        NameError\n",
        "            UnboundLocalError\n",
        "        OSError\n",
        "            BlockingIOError\n",
        "            ChildProcessError\n",
        "            ConnectionError\n",
        "                BrokenPipeError\n",
        "                ConnectionAbortedError\n",
        "                ConnectionRefusedError\n",
        "                ConnectionResetError\n",
        "            FileExistsError\n",
        "            FileNotFoundError\n",
        "            InterruptedError\n",
        "            IsADirectoryError\n",
        "            NotADirectoryError\n",
        "            PermissionError\n",
        "            ProcessLookupError\n",
        "            TimeoutError\n",
        "        ReferenceError\n",
        "        RuntimeError\n",
        "            NotImplementedError\n",
        "            PythonFinalizationError\n",
        "            RecursionError\n",
        "        StopAsyncIteration\n",
        "        StopIteration\n",
        "        SyntaxError\n",
        "            IncompleteInputError\n",
        "            IndentationError\n",
        "                TabError\n",
        "        SystemError\n",
        "        TypeError\n",
        "        ValueError\n",
        "            UnicodeError\n",
        "                UnicodeDecodeError\n",
        "                UnicodeEncodeError\n",
        "                UnicodeTranslateError\n",
        "        Warning\n",
        "            BytesWarning\n",
        "            DeprecationWarning\n",
        "            EncodingWarning\n",
        "            FutureWarning\n",
        "            ImportWarning\n",
        "            PendingDeprecationWarning\n",
        "            ResourceWarning\n",
        "            RuntimeWarning\n",
        "            SyntaxWarning\n",
        "            UnicodeWarning\n",
        "            UserWarning\n",
        "```"
      ],
      "metadata": {
        "id": "34HldUlryX3L"
      }
    },
    {
      "cell_type": "markdown",
      "source": [
        "## 14.2.2 Raising exceptions"
      ],
      "metadata": {
        "id": "Ciy2_KQqyR0D"
      }
    },
    {
      "cell_type": "code",
      "metadata": {
        "id": "lSPNjdSrfF6W",
        "outputId": "f355d62a-312f-4c54-e124-574e3bd82750"
      },
      "source": [
        "alist = [1, 2, 3]\n",
        "element = alist[7]"
      ],
      "execution_count": null,
      "outputs": [
        {
          "output_type": "stream",
          "name": "stdout",
          "text": [
            "Traceback (innermost last):\n",
            "  File \"<stdin>\", line 1, in ?\n",
            "IndexError: list index out of range\n"
          ]
        }
      ]
    },
    {
      "cell_type": "code",
      "metadata": {
        "id": "Rfu17Q3EfF6Y",
        "outputId": "f5286cd3-577e-4a82-dba8-d893131b678f"
      },
      "source": [
        "raise IndexError(\"Just kidding\")"
      ],
      "execution_count": null,
      "outputs": [
        {
          "output_type": "stream",
          "name": "stdout",
          "text": [
            "Traceback (innermost last):\n",
            "  File \"<stdin>\", line 1, in ?\n",
            "IndexError: Just kidding\n"
          ]
        }
      ]
    },
    {
      "cell_type": "markdown",
      "source": [
        "### Try This: Catching exceptions\n",
        "\n",
        "Write code that gets two numbers from the user and divides the first number by the second. Check for and catch the exception that occurs if the second number is zero (`ZeroDivisionError`)."
      ],
      "metadata": {
        "id": "eEa_4myByynz"
      }
    },
    {
      "cell_type": "code",
      "source": [],
      "metadata": {
        "id": "0WfboNejzfku"
      },
      "execution_count": null,
      "outputs": []
    },
    {
      "cell_type": "markdown",
      "source": [
        "## 14.2.4 Defining new exceptions"
      ],
      "metadata": {
        "id": "Yhcz0KBnziO6"
      }
    },
    {
      "cell_type": "code",
      "metadata": {
        "id": "9wAuhqTmfF6Y",
        "outputId": "75933f4e-fa7d-4f06-e1f5-d200a01dd42a"
      },
      "source": [
        "class MyError(Exception):\n",
        "    pass"
      ],
      "execution_count": null,
      "outputs": [
        {
          "output_type": "stream",
          "name": "stdout",
          "text": []
        }
      ]
    },
    {
      "cell_type": "code",
      "metadata": {
        "id": "oqSNcJjFfF6Y",
        "outputId": "a67ebf96-8233-4775-9fc3-73d805e9af49"
      },
      "source": [
        "raise MyError(\"Some information about what went wrong\")"
      ],
      "execution_count": null,
      "outputs": [
        {
          "output_type": "stream",
          "name": "stdout",
          "text": [
            "Traceback (most recent call last):\n",
            "  File \"<stdin>\", line 1, in <module>\n",
            "__main__.MyError: Some information about what went wrong\n"
          ]
        }
      ]
    },
    {
      "cell_type": "code",
      "metadata": {
        "id": "hzKfVqDmfF6Y",
        "outputId": "51a5ebe6-4958-4995-b7d7-ac048005b3d3"
      },
      "source": [
        "try:\n",
        "    raise MyError(\"Some information about what went wrong\")\n",
        "except MyError as error:\n",
        "    print(\"Situation:\", error)"
      ],
      "execution_count": null,
      "outputs": [
        {
          "output_type": "stream",
          "name": "stdout",
          "text": []
        }
      ]
    },
    {
      "cell_type": "code",
      "metadata": {
        "id": "P75sYqYFfF6Z",
        "outputId": "a48ecd27-4273-49a9-d57c-d8aef5fab5a5"
      },
      "source": [
        "try:\n",
        "    raise MyError(\"Some information\", \"my_filename\", 3)\n",
        "except MyError as error:\n",
        "    print(\"Situation: {0} with file {1}\\n error code: {2}\".format(\n",
        "        error.args[0],\n",
        " error.args[1], error.args[2]))"
      ],
      "execution_count": null,
      "outputs": [
        {
          "output_type": "stream",
          "name": "stdout",
          "text": []
        }
      ]
    },
    {
      "cell_type": "markdown",
      "source": [
        "## 14.2.5 Debugging programs with the assert statement"
      ],
      "metadata": {
        "id": "KgixTYoFzulS"
      }
    },
    {
      "cell_type": "code",
      "metadata": {
        "id": "0PEOMi-6fF6Z",
        "outputId": "a0255943-2c6e-4f8a-9d50-2322f2c86b9d"
      },
      "source": [
        "x = (1, 2, 3)\n",
        "assert len(x) > 5, \"len(x) not > 5\""
      ],
      "execution_count": null,
      "outputs": [
        {
          "output_type": "stream",
          "name": "stdout",
          "text": [
            "Traceback (most recent call last):\n",
            "  File \"<stdin>\", line 1, in <module>\n",
            "AssertionError: len(x) not > 5\n"
          ]
        }
      ]
    },
    {
      "cell_type": "markdown",
      "source": [
        "### Try This: The assert statement\n",
        "\n",
        "Write a simple program that gets a number from the user and then uses the assert statement to raise an exception if the number is zero. Test to make sure that the assert statement fires; then turn it off, using one of the methods mentioned in this section."
      ],
      "metadata": {
        "id": "nRyX_Du_z4IH"
      }
    },
    {
      "cell_type": "code",
      "source": [],
      "metadata": {
        "id": "IFxBP8Gyz94z"
      },
      "execution_count": null,
      "outputs": []
    },
    {
      "cell_type": "markdown",
      "source": [
        "## 14.2.8 Example: exceptions in normal evaluation"
      ],
      "metadata": {
        "id": "7xa9Sxmm0FoF"
      }
    },
    {
      "cell_type": "code",
      "metadata": {
        "id": "4x7_sO7zfF6Z",
        "outputId": "2d2b1e4f-48ea-4b04-d1d4-c6f6e7700ea1"
      },
      "source": [
        "def cell_value(string):\n",
        "    try:\n",
        "        return float(string)\n",
        "    except ValueError:\n",
        "        if string == \"\":\n",
        "            return 0\n",
        "        else:\n",
        "            return None"
      ],
      "execution_count": null,
      "outputs": [
        {
          "output_type": "stream",
          "name": "stdout",
          "text": []
        }
      ]
    },
    {
      "cell_type": "code",
      "metadata": {
        "id": "9Gg6rs6ifF6Z",
        "outputId": "511a326f-aeae-46d8-9071-4ab26dfcf0c8"
      },
      "source": [
        "def safe_apply(function, x, y, spreadsheet):\n",
        "    try:\n",
        "        return function(x, y, spreadsheet)\n",
        "    except TypeError:\n",
        "        return None"
      ],
      "execution_count": null,
      "outputs": [
        {
          "output_type": "stream",
          "name": "stdout",
          "text": []
        }
      ]
    },
    {
      "cell_type": "markdown",
      "source": [
        "### Try This: Exceptions\n",
        "What code would you use to create a custom `ValueTooLarge` exception and raise that exception if the variable `x` is over 1000?"
      ],
      "metadata": {
        "id": "eGrfd0wK0MJ0"
      }
    },
    {
      "cell_type": "code",
      "source": [],
      "metadata": {
        "id": "N7LO9lP70cIS"
      },
      "execution_count": null,
      "outputs": []
    },
    {
      "cell_type": "markdown",
      "source": [
        "# 14.3 Context managers using the `with` keyword"
      ],
      "metadata": {
        "id": "XHS8McSv0eGn"
      }
    },
    {
      "cell_type": "code",
      "metadata": {
        "id": "buE8HONlfF6a",
        "outputId": "2fd0eaf1-517a-4b7c-d945-4a4be0dbee59"
      },
      "source": [
        "try:\n",
        "    infile = open(filename)\n",
        "    data = infile.read()\n",
        "finally:\n",
        "    infile.close()"
      ],
      "execution_count": null,
      "outputs": [
        {
          "output_type": "stream",
          "name": "stdout",
          "text": []
        }
      ]
    },
    {
      "cell_type": "code",
      "metadata": {
        "id": "GZJJSjrTfF6a",
        "outputId": "cdd36d44-b41b-4c01-8481-3fc51bfc04ac"
      },
      "source": [
        "with open(filename) as infile:\n",
        "    data = infile.read()"
      ],
      "execution_count": null,
      "outputs": [
        {
          "output_type": "stream",
          "name": "stdout",
          "text": []
        }
      ]
    },
    {
      "cell_type": "markdown",
      "source": [
        "# 14.4 Custom exceptions\n",
        "\n",
        "Think about the module you wrote in chapter 9 to count word frequencies. What errors might reasonably occur in those functions? Refactor those functions to handle those exception conditions appropriately."
      ],
      "metadata": {
        "id": "bTeo9gJn0tG4"
      }
    },
    {
      "cell_type": "code",
      "source": [],
      "metadata": {
        "id": "v2DGFtxs2pHE"
      },
      "execution_count": null,
      "outputs": []
    }
  ]
}