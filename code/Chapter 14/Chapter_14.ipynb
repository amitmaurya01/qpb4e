{
  "nbformat": 4,
  "nbformat_minor": 0,
  "metadata": {
    "colab": {
      "provenance": [],
      "include_colab_link": true
    },
    "kernelspec": {
      "name": "python3",
      "display_name": "Python 3"
    },
    "language_info": {
      "name": "python"
    }
  },
  "cells": [
    {
      "cell_type": "markdown",
      "metadata": {
        "id": "view-in-github",
        "colab_type": "text"
      },
      "source": [
        "<a href=\"https://colab.research.google.com/github/nceder/qpb4e/blob/main/code/Chapter%2014/Chapter_14.ipynb\" target=\"_parent\"><img src=\"https://colab.research.google.com/assets/colab-badge.svg\" alt=\"Open In Colab\"/></a>"
      ]
    },
    {
      "cell_type": "markdown",
      "source": [
        "# 14 Exceptions"
      ],
      "metadata": {
        "id": "OtEGRlOpyNPc"
      }
    },
    {
      "cell_type": "markdown",
      "source": [
        "### Python built-in exceptions\n",
        "\n",
        "```python\n",
        "BaseException\n",
        "    BaseExceptionGroup\n",
        "    GeneratorExit\n",
        "    KeyboardInterrupt\n",
        "    SystemExit\n",
        "    Exception\n",
        "        ArithmeticError\n",
        "            FloatingPointError\n",
        "            OverflowError\n",
        "            ZeroDivisionError\n",
        "        AssertionError\n",
        "        AttributeError\n",
        "        BufferError\n",
        "        EOFError\n",
        "        ExceptionGroup [BaseExceptionGroup]\n",
        "        ImportError\n",
        "            ModuleNotFoundError\n",
        "        LookupError\n",
        "            IndexError\n",
        "            KeyError\n",
        "        MemoryError\n",
        "        NameError\n",
        "            UnboundLocalError\n",
        "        OSError\n",
        "            BlockingIOError\n",
        "            ChildProcessError\n",
        "            ConnectionError\n",
        "                BrokenPipeError\n",
        "                ConnectionAbortedError\n",
        "                ConnectionRefusedError\n",
        "                ConnectionResetError\n",
        "            FileExistsError\n",
        "            FileNotFoundError\n",
        "            InterruptedError\n",
        "            IsADirectoryError\n",
        "            NotADirectoryError\n",
        "            PermissionError\n",
        "            ProcessLookupError\n",
        "            TimeoutError\n",
        "        ReferenceError\n",
        "        RuntimeError\n",
        "            NotImplementedError\n",
        "            PythonFinalizationError\n",
        "            RecursionError\n",
        "        StopAsyncIteration\n",
        "        StopIteration\n",
        "        SyntaxError\n",
        "            IncompleteInputError\n",
        "            IndentationError\n",
        "                TabError\n",
        "        SystemError\n",
        "        TypeError\n",
        "        ValueError\n",
        "            UnicodeError\n",
        "                UnicodeDecodeError\n",
        "                UnicodeEncodeError\n",
        "                UnicodeTranslateError\n",
        "        Warning\n",
        "            BytesWarning\n",
        "            DeprecationWarning\n",
        "            EncodingWarning\n",
        "            FutureWarning\n",
        "            ImportWarning\n",
        "            PendingDeprecationWarning\n",
        "            ResourceWarning\n",
        "            RuntimeWarning\n",
        "            SyntaxWarning\n",
        "            UnicodeWarning\n",
        "            UserWarning\n",
        "```"
      ],
      "metadata": {
        "id": "34HldUlryX3L"
      }
    },
    {
      "cell_type": "markdown",
      "source": [
        "## 14.2.2 Raising exceptions"
      ],
      "metadata": {
        "id": "Ciy2_KQqyR0D"
      }
    },
    {
      "cell_type": "code",
      "metadata": {
        "id": "lSPNjdSrfF6W",
        "outputId": "da5d997d-b935-4c82-d48e-a7ca5bb2b03f",
        "colab": {
          "base_uri": "https://localhost:8080/",
          "height": 159
        }
      },
      "source": [
        "alist = [1, 2, 3]\n",
        "element = alist[7]"
      ],
      "execution_count": 7,
      "outputs": [
        {
          "output_type": "error",
          "ename": "IndexError",
          "evalue": "list index out of range",
          "traceback": [
            "\u001b[0;31m---------------------------------------------------------------------------\u001b[0m",
            "\u001b[0;31mIndexError\u001b[0m                                Traceback (most recent call last)",
            "\u001b[0;32m<ipython-input-7-189983935c4d>\u001b[0m in \u001b[0;36m<cell line: 2>\u001b[0;34m()\u001b[0m\n\u001b[1;32m      1\u001b[0m \u001b[0malist\u001b[0m \u001b[0;34m=\u001b[0m \u001b[0;34m[\u001b[0m\u001b[0;36m1\u001b[0m\u001b[0;34m,\u001b[0m \u001b[0;36m2\u001b[0m\u001b[0;34m,\u001b[0m \u001b[0;36m3\u001b[0m\u001b[0;34m]\u001b[0m\u001b[0;34m\u001b[0m\u001b[0;34m\u001b[0m\u001b[0m\n\u001b[0;32m----> 2\u001b[0;31m \u001b[0melement\u001b[0m \u001b[0;34m=\u001b[0m \u001b[0malist\u001b[0m\u001b[0;34m[\u001b[0m\u001b[0;36m7\u001b[0m\u001b[0;34m]\u001b[0m\u001b[0;34m\u001b[0m\u001b[0;34m\u001b[0m\u001b[0m\n\u001b[0m",
            "\u001b[0;31mIndexError\u001b[0m: list index out of range"
          ]
        }
      ]
    },
    {
      "cell_type": "code",
      "metadata": {
        "id": "Rfu17Q3EfF6Y",
        "outputId": "de4799f9-b732-4afa-f2de-b8f516f620c6",
        "colab": {
          "base_uri": "https://localhost:8080/",
          "height": 141
        }
      },
      "source": [
        "raise IndexError(\"Just kidding\")"
      ],
      "execution_count": 8,
      "outputs": [
        {
          "output_type": "error",
          "ename": "IndexError",
          "evalue": "Just kidding",
          "traceback": [
            "\u001b[0;31m---------------------------------------------------------------------------\u001b[0m",
            "\u001b[0;31mIndexError\u001b[0m                                Traceback (most recent call last)",
            "\u001b[0;32m<ipython-input-8-680ffd4ba189>\u001b[0m in \u001b[0;36m<cell line: 1>\u001b[0;34m()\u001b[0m\n\u001b[0;32m----> 1\u001b[0;31m \u001b[0;32mraise\u001b[0m \u001b[0mIndexError\u001b[0m\u001b[0;34m(\u001b[0m\u001b[0;34m\"Just kidding\"\u001b[0m\u001b[0;34m)\u001b[0m\u001b[0;34m\u001b[0m\u001b[0;34m\u001b[0m\u001b[0m\n\u001b[0m",
            "\u001b[0;31mIndexError\u001b[0m: Just kidding"
          ]
        }
      ]
    },
    {
      "cell_type": "markdown",
      "source": [
        "### Try This: Catching exceptions\n",
        "\n",
        "Write code that gets two numbers from the user and divides the first number by the second. Check for and catch the exception that occurs if the second number is zero (`ZeroDivisionError`)."
      ],
      "metadata": {
        "id": "eEa_4myByynz"
      }
    },
    {
      "cell_type": "code",
      "source": [],
      "metadata": {
        "id": "0WfboNejzfku"
      },
      "execution_count": null,
      "outputs": []
    },
    {
      "cell_type": "markdown",
      "source": [
        "## 14.2.4 Defining new exceptions"
      ],
      "metadata": {
        "id": "Yhcz0KBnziO6"
      }
    },
    {
      "cell_type": "code",
      "metadata": {
        "id": "9wAuhqTmfF6Y"
      },
      "source": [
        "class MyError(Exception):\n",
        "    pass"
      ],
      "execution_count": 9,
      "outputs": []
    },
    {
      "cell_type": "code",
      "metadata": {
        "id": "oqSNcJjFfF6Y",
        "outputId": "c64f1c16-4c21-4597-98eb-48483a50e192",
        "colab": {
          "base_uri": "https://localhost:8080/",
          "height": 141
        }
      },
      "source": [
        "raise MyError(\"Some information about what went wrong\")"
      ],
      "execution_count": 10,
      "outputs": [
        {
          "output_type": "error",
          "ename": "MyError",
          "evalue": "Some information about what went wrong",
          "traceback": [
            "\u001b[0;31m---------------------------------------------------------------------------\u001b[0m",
            "\u001b[0;31mMyError\u001b[0m                                   Traceback (most recent call last)",
            "\u001b[0;32m<ipython-input-10-04991f64f605>\u001b[0m in \u001b[0;36m<cell line: 1>\u001b[0;34m()\u001b[0m\n\u001b[0;32m----> 1\u001b[0;31m \u001b[0;32mraise\u001b[0m \u001b[0mMyError\u001b[0m\u001b[0;34m(\u001b[0m\u001b[0;34m\"Some information about what went wrong\"\u001b[0m\u001b[0;34m)\u001b[0m\u001b[0;34m\u001b[0m\u001b[0;34m\u001b[0m\u001b[0m\n\u001b[0m",
            "\u001b[0;31mMyError\u001b[0m: Some information about what went wrong"
          ]
        }
      ]
    },
    {
      "cell_type": "code",
      "metadata": {
        "id": "hzKfVqDmfF6Y",
        "outputId": "4c8de215-9e0a-4967-a720-48a33689830c",
        "colab": {
          "base_uri": "https://localhost:8080/"
        }
      },
      "source": [
        "try:\n",
        "    raise MyError(\"Some information about what went wrong\")\n",
        "except MyError as error:\n",
        "    print(\"Situation:\", error)"
      ],
      "execution_count": 11,
      "outputs": [
        {
          "output_type": "stream",
          "name": "stdout",
          "text": [
            "Situation: Some information about what went wrong\n"
          ]
        }
      ]
    },
    {
      "cell_type": "code",
      "metadata": {
        "id": "P75sYqYFfF6Z",
        "outputId": "d66d57e0-35af-45d2-fd3c-a6a7b575043b",
        "colab": {
          "base_uri": "https://localhost:8080/"
        }
      },
      "source": [
        "try:\n",
        "    raise MyError(\"Some information\", \"my_filename\", 3)\n",
        "except MyError as error:\n",
        "    print(\"Situation: {0} with file {1}\\n error code: {2}\".format(\n",
        "        error.args[0],\n",
        " error.args[1], error.args[2]))"
      ],
      "execution_count": 12,
      "outputs": [
        {
          "output_type": "stream",
          "name": "stdout",
          "text": [
            "Situation: Some information with file my_filename\n",
            " error code: 3\n"
          ]
        }
      ]
    },
    {
      "cell_type": "markdown",
      "source": [
        "## 14.2.5 Debugging programs with the assert statement"
      ],
      "metadata": {
        "id": "KgixTYoFzulS"
      }
    },
    {
      "cell_type": "code",
      "metadata": {
        "id": "0PEOMi-6fF6Z",
        "outputId": "2403d4df-66eb-4873-87b2-40558a76ada7",
        "colab": {
          "base_uri": "https://localhost:8080/",
          "height": 159
        }
      },
      "source": [
        "x = (1, 2, 3)\n",
        "assert len(x) > 5, \"len(x) not > 5\""
      ],
      "execution_count": 13,
      "outputs": [
        {
          "output_type": "error",
          "ename": "AssertionError",
          "evalue": "len(x) not > 5",
          "traceback": [
            "\u001b[0;31m---------------------------------------------------------------------------\u001b[0m",
            "\u001b[0;31mAssertionError\u001b[0m                            Traceback (most recent call last)",
            "\u001b[0;32m<ipython-input-13-52a42f33655e>\u001b[0m in \u001b[0;36m<cell line: 2>\u001b[0;34m()\u001b[0m\n\u001b[1;32m      1\u001b[0m \u001b[0mx\u001b[0m \u001b[0;34m=\u001b[0m \u001b[0;34m(\u001b[0m\u001b[0;36m1\u001b[0m\u001b[0;34m,\u001b[0m \u001b[0;36m2\u001b[0m\u001b[0;34m,\u001b[0m \u001b[0;36m3\u001b[0m\u001b[0;34m)\u001b[0m\u001b[0;34m\u001b[0m\u001b[0;34m\u001b[0m\u001b[0m\n\u001b[0;32m----> 2\u001b[0;31m \u001b[0;32massert\u001b[0m \u001b[0mlen\u001b[0m\u001b[0;34m(\u001b[0m\u001b[0mx\u001b[0m\u001b[0;34m)\u001b[0m \u001b[0;34m>\u001b[0m \u001b[0;36m5\u001b[0m\u001b[0;34m,\u001b[0m \u001b[0;34m\"len(x) not > 5\"\u001b[0m\u001b[0;34m\u001b[0m\u001b[0;34m\u001b[0m\u001b[0m\n\u001b[0m",
            "\u001b[0;31mAssertionError\u001b[0m: len(x) not > 5"
          ]
        }
      ]
    },
    {
      "cell_type": "markdown",
      "source": [
        "### Try This: The assert statement\n",
        "\n",
        "Write a simple program that gets a number from the user and then uses the assert statement to raise an exception if the number is zero. Test to make sure that the assert statement fires; then turn it off, using one of the methods mentioned in this section."
      ],
      "metadata": {
        "id": "nRyX_Du_z4IH"
      }
    },
    {
      "cell_type": "code",
      "source": [],
      "metadata": {
        "id": "IFxBP8Gyz94z"
      },
      "execution_count": null,
      "outputs": []
    },
    {
      "cell_type": "markdown",
      "source": [
        "## 14.2.8 Example: exceptions in normal evaluation"
      ],
      "metadata": {
        "id": "7xa9Sxmm0FoF"
      }
    },
    {
      "cell_type": "code",
      "metadata": {
        "id": "4x7_sO7zfF6Z"
      },
      "source": [
        "def cell_value(string):\n",
        "    try:\n",
        "        return float(string)\n",
        "    except ValueError:\n",
        "        if string == \"\":\n",
        "            return 0\n",
        "        else:\n",
        "            return None"
      ],
      "execution_count": 14,
      "outputs": []
    },
    {
      "cell_type": "code",
      "metadata": {
        "id": "9Gg6rs6ifF6Z"
      },
      "source": [
        "def safe_apply(function, x, y, spreadsheet):\n",
        "    try:\n",
        "        return function(x, y, spreadsheet)\n",
        "    except TypeError:\n",
        "        return None"
      ],
      "execution_count": 15,
      "outputs": []
    },
    {
      "cell_type": "markdown",
      "source": [
        "### Try This: Exceptions\n",
        "What code would you use to create a custom `ValueTooLarge` exception and raise that exception if the variable `x` is over 1000?"
      ],
      "metadata": {
        "id": "eGrfd0wK0MJ0"
      }
    },
    {
      "cell_type": "code",
      "source": [],
      "metadata": {
        "id": "N7LO9lP70cIS"
      },
      "execution_count": null,
      "outputs": []
    },
    {
      "cell_type": "markdown",
      "source": [
        "# 14.3 Context managers using the `with` keyword"
      ],
      "metadata": {
        "id": "XHS8McSv0eGn"
      }
    },
    {
      "cell_type": "code",
      "metadata": {
        "id": "buE8HONlfF6a"
      },
      "source": [
        "! touch empty.txt\n",
        "filename = \"empty.txt\"\n",
        "try:\n",
        "    infile = open(filename)\n",
        "    data = infile.read()\n",
        "finally:\n",
        "    infile.close()"
      ],
      "execution_count": 18,
      "outputs": []
    },
    {
      "cell_type": "code",
      "metadata": {
        "id": "GZJJSjrTfF6a"
      },
      "source": [
        "with open(filename) as infile:\n",
        "    data = infile.read()"
      ],
      "execution_count": 19,
      "outputs": []
    },
    {
      "cell_type": "markdown",
      "source": [
        "# 14.4 Custom exceptions\n",
        "\n",
        "Think about the module you wrote in chapter 9 to count word frequencies. What errors might reasonably occur in those functions? Refactor those functions to handle those exception conditions appropriately."
      ],
      "metadata": {
        "id": "bTeo9gJn0tG4"
      }
    },
    {
      "cell_type": "code",
      "source": [
        "!wget https://raw.githubusercontent.com/nceder/qpb4e/main/code/Chapter%2006/moby_01.txt &> /dev/null  && echo Downloaded"
      ],
      "metadata": {
        "id": "5YtXs7MKDCee",
        "outputId": "4c2f2f93-79be-4b7b-ee3c-07d37bad5283",
        "colab": {
          "base_uri": "https://localhost:8080/"
        }
      },
      "execution_count": 26,
      "outputs": [
        {
          "output_type": "stream",
          "name": "stdout",
          "text": [
            "Downloaded\n"
          ]
        }
      ]
    },
    {
      "cell_type": "code",
      "source": [
        "# Author's version\n",
        "import string\n",
        "punct = str.maketrans('', '', string.punctuation)\n",
        "\n",
        "def clean_line(line):\n",
        "    \"\"\"changes case and removes punctuation\"\"\"\n",
        "    # make all one case\n",
        "    cleaned_line = line.lower()\n",
        "\n",
        "    # remove punctuation\n",
        "    cleaned_line = cleaned_line.translate(punct)\n",
        "    return cleaned_line\n",
        "\n",
        "\n",
        "def get_words(line):\n",
        "    \"\"\"splits line into words, and rejoins with newlines\"\"\"\n",
        "    words = line.split()\n",
        "    return \"\\n\".join(words) + \"\\n\"\n",
        "\n",
        "\n",
        "def count_words(words):\n",
        "    \"\"\"takes list of cleaned words, returns count dictionary\"\"\"\n",
        "    word_count = {}\n",
        "    for word in words:\n",
        "        count = word_count.setdefault(word, 0)\n",
        "        word_count[word] += 1\n",
        "    return word_count\n",
        "\n",
        "\n",
        "def word_stats(word_count):\n",
        "    \"\"\"Takes word count dictionary and returns top and bottom five entries\"\"\"\n",
        "    word_list = list(word_count.items())\n",
        "    word_list.sort(key=lambda x: x[1])\n",
        "    least_common = word_list[:5]\n",
        "    most_common = word_list[-1:-6:-1]\n",
        "    return most_common, least_common\n",
        "\n",
        "def clean_file(filename, outfilename):\n",
        "    with open(filename) as infile, open(outfilename, \"w\") as outfile:\n",
        "        for line in infile:\n",
        "            cleaned_line = clean_line(line)\n",
        "\n",
        "            cleaned_words = get_words(cleaned_line)\n",
        "\n",
        "            # write all words for line\n",
        "            outfile.write(cleaned_words)\n",
        "\n",
        "def load_words(cleaned_filename):\n",
        "    words = []\n",
        "    print(cleaned_filename)\n",
        "    with open(cleaned_filename) as infile:\n",
        "        for word in infile:\n",
        "            if word.strip():\n",
        "                words.append(word.strip())\n",
        "    return words\n",
        "\n",
        "clean_file(\"moby_01.txt\", \"moby_clean.txt\")\n",
        "moby_words = load_words(\"moby_clean.txt\")\n",
        "word_count = count_words(moby_words)\n",
        "\n",
        "most, least = word_stats(word_count)\n",
        "print(\"Most common words:\")\n",
        "for word in most:\n",
        "    print(word)\n",
        "print(\"\\nLeast common words:\")\n",
        "for word in least:\n",
        "    print(word)"
      ],
      "metadata": {
        "id": "_bCs7hlE3-Mv",
        "outputId": "70d34b02-2fe1-4486-95c0-9db81ba1eb45",
        "colab": {
          "base_uri": "https://localhost:8080/"
        }
      },
      "execution_count": 34,
      "outputs": [
        {
          "output_type": "stream",
          "name": "stdout",
          "text": [
            "empty.txt\n",
            "Most common words:\n",
            "\n",
            "Least common words:\n"
          ]
        }
      ]
    },
    {
      "cell_type": "code",
      "source": [
        "class EmptyStringError(Exception):\n",
        "    pass\n",
        "def clean_line(line):\n",
        "    \"\"\"changes case and removes punctuation\"\"\"\n",
        "\n",
        "    # raise exception if line is empty\n",
        "    if not line.strip():\n",
        "        raise EmptyStringError()\n",
        "    # make all one case\n",
        "    cleaned_line = line.lower()\n",
        "\n",
        "    # remove punctuation\n",
        "    cleaned_line = cleaned_line.translate(punct)\n",
        "    return cleaned_line\n",
        "def count_words(words):\n",
        "    \"\"\"takes list of cleaned words, returns count dictionary\"\"\"\n",
        "    word_count = {}\n",
        "    for word in words:\n",
        "        try:\n",
        "            count = word_count.setdefault(word, 0)\n",
        "        except TypeError:\n",
        "            #if 'word' is not hashable, skip to next word.\n",
        "            pass\n",
        "        word_count[word] += 1\n",
        "    return word_count\n",
        "\n",
        "def word_stats(word_count):\n",
        "    \"\"\"Takes word count dictionary and returns top and bottom five entries\"\"\"\n",
        "    word_list = list(word_count.items())\n",
        "    word_list.sort(key=lambda x: x[1])\n",
        "    try:\n",
        "        least_common = word_list[:5]\n",
        "        most_common = word_list[-1:-6:-1]\n",
        "    except IndexError as e:\n",
        "        # if list is empty or too short, just return list\n",
        "        least_common = word_list\n",
        "        most_common = list(reversed(word_list))\n",
        "\n",
        "    return most_common, least_common"
      ],
      "metadata": {
        "id": "v2DGFtxs2pHE"
      },
      "execution_count": null,
      "outputs": []
    }
  ]
}