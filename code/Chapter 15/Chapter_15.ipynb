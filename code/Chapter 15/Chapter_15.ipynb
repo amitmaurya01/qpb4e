{
  "nbformat": 4,
  "nbformat_minor": 0,
  "metadata": {
    "colab": {
      "provenance": [],
      "include_colab_link": true
    },
    "kernelspec": {
      "name": "python3",
      "display_name": "Python 3"
    },
    "language_info": {
      "name": "python"
    }
  },
  "cells": [
    {
      "cell_type": "markdown",
      "metadata": {
        "id": "view-in-github",
        "colab_type": "text"
      },
      "source": [
        "<a href=\"https://colab.research.google.com/github/nceder/qpb4e/blob/main/code/Chapter%2015/Chapter_15.ipynb\" target=\"_parent\"><img src=\"https://colab.research.google.com/assets/colab-badge.svg\" alt=\"Open In Colab\"/></a>"
      ]
    },
    {
      "cell_type": "markdown",
      "source": [
        "# 15 Classes and object-oriented programming"
      ],
      "metadata": {
        "id": "2wG8NWI7F9DI"
      }
    },
    {
      "cell_type": "markdown",
      "source": [
        "## 15.1.1 Using a class instance as a structure or record"
      ],
      "metadata": {
        "id": "HXEESOpRGGSH"
      }
    },
    {
      "cell_type": "code",
      "metadata": {
        "id": "E60NgT-in0HZ",
        "outputId": "560ee4ac-832e-4e5d-be29-d1568a3ff03c",
        "colab": {
          "base_uri": "https://localhost:8080/"
        }
      },
      "source": [
        "class Circle:\n",
        "    pass\n",
        "\n",
        "my_circle = Circle()\n",
        "my_circle.radius = 5\n",
        "print(2 * 3.14 * my_circle.radius)"
      ],
      "execution_count": null,
      "outputs": [
        {
          "output_type": "stream",
          "name": "stdout",
          "text": [
            "31.400000000000002\n"
          ]
        }
      ]
    },
    {
      "cell_type": "code",
      "metadata": {
        "id": "9_szHCxQn0Hb",
        "outputId": "59c7a769-9b0e-4d21-f395-5177f94a014f",
        "colab": {
          "base_uri": "https://localhost:8080/"
        }
      },
      "source": [
        "class Circle:\n",
        "    def __init__(self):          #A\n",
        "        self.radius = 1\n",
        "my_circle = Circle()                  #B\n",
        "print(2 * 3.14 * my_circle.radius)    #C\n",
        "\n",
        "my_circle.radius = 5                 #D\n",
        "print(2 * 3.14 * my_circle.radius)   #E\n"
      ],
      "execution_count": null,
      "outputs": [
        {
          "output_type": "stream",
          "name": "stdout",
          "text": [
            "6.28\n",
            "31.400000000000002\n"
          ]
        }
      ]
    },
    {
      "cell_type": "markdown",
      "source": [
        "# 15.2 Instance variables"
      ],
      "metadata": {
        "id": "wU2C0rmoGffd"
      }
    },
    {
      "cell_type": "code",
      "metadata": {
        "id": "n0t9yRUhn0Hc"
      },
      "source": [
        "class Circle:\n",
        "    def __init__(self):\n",
        "        self.radius = 1"
      ],
      "execution_count": null,
      "outputs": []
    },
    {
      "cell_type": "markdown",
      "source": [
        "### Try This: Instance Variables\n",
        "\n",
        "What code would you use to create a Rectangle class?"
      ],
      "metadata": {
        "id": "iAVgQtl7L-bq"
      }
    },
    {
      "cell_type": "code",
      "source": [],
      "metadata": {
        "id": "q144pp5-MAfr"
      },
      "execution_count": null,
      "outputs": []
    },
    {
      "cell_type": "code",
      "source": [
        "# @title\n",
        "class Rectangle:\n",
        "    def __init__(self, height, width):\n",
        "        self.height = height\n",
        "        self.width = width"
      ],
      "metadata": {
        "cellView": "form",
        "id": "EEEzCnfTMAkT"
      },
      "execution_count": 1,
      "outputs": []
    },
    {
      "cell_type": "markdown",
      "source": [
        "## 15.3 Methods"
      ],
      "metadata": {
        "id": "vJx3g65QGk3O"
      }
    },
    {
      "cell_type": "code",
      "metadata": {
        "id": "ApNXLNCen0Hc",
        "outputId": "2543105c-f671-4ada-880b-5440211fdb24",
        "colab": {
          "base_uri": "https://localhost:8080/"
        }
      },
      "source": [
        "class Circle:\n",
        "    def __init__(self):\n",
        "        self.radius = 1\n",
        "    def area(self):\n",
        "        return self.radius * self.radius * 3.14159\n",
        "\n",
        "c = Circle()\n",
        "c.radius = 3\n",
        "print(c.area())"
      ],
      "execution_count": null,
      "outputs": [
        {
          "output_type": "stream",
          "name": "stdout",
          "text": [
            "28.27431\n"
          ]
        }
      ]
    },
    {
      "cell_type": "code",
      "metadata": {
        "id": "vFu3AiTNn0Hd",
        "outputId": "9463e58b-361a-4369-993b-08ddd7c3afc1",
        "colab": {
          "base_uri": "https://localhost:8080/"
        }
      },
      "source": [
        "print(Circle.area(c))"
      ],
      "execution_count": null,
      "outputs": [
        {
          "output_type": "stream",
          "name": "stdout",
          "text": [
            "28.27431\n"
          ]
        }
      ]
    },
    {
      "cell_type": "code",
      "metadata": {
        "id": "bGDhszaLn0Hd"
      },
      "source": [
        "class Circle:\n",
        "    def __init__(self, radius):\n",
        "        self.radius = radius\n",
        "    def area(self):\n",
        "        return self.radius * self.radius * 3.14159"
      ],
      "execution_count": null,
      "outputs": []
    },
    {
      "cell_type": "markdown",
      "source": [
        "### Try This: Instance variables and Methods\n",
        "\n",
        "Update the code for a `Rectangle` class so that you can set the dimensions when an instance is created, just as for the `Circle` class above. Also, add an `area()` method."
      ],
      "metadata": {
        "id": "qC1e1rK6MYnP"
      }
    },
    {
      "cell_type": "code",
      "source": [],
      "metadata": {
        "id": "RmzzidtdMW8W"
      },
      "execution_count": null,
      "outputs": []
    },
    {
      "cell_type": "code",
      "source": [
        "# @title\n",
        "class Rectangle:\n",
        "    def __init__(self, height, width):\n",
        "        self.height = height\n",
        "        self.width = width\n",
        "\n",
        "    def area(self):\n",
        "        return self.height * self.width"
      ],
      "metadata": {
        "cellView": "form",
        "id": "njczXfxHMXFW"
      },
      "execution_count": 2,
      "outputs": []
    },
    {
      "cell_type": "markdown",
      "source": [
        "# 15.4 Class variables"
      ],
      "metadata": {
        "id": "AFNHOZPoG72t"
      }
    },
    {
      "cell_type": "code",
      "metadata": {
        "id": "rk2qUS_in0Hd"
      },
      "source": [
        "class Circle:\n",
        "    pi = 3.14159\n",
        "    def __init__(self, radius):\n",
        "        self.radius = radius\n",
        "    def area(self):\n",
        "        return self.radius * self.radius * Circle.pi"
      ],
      "execution_count": null,
      "outputs": []
    },
    {
      "cell_type": "code",
      "metadata": {
        "id": "2Ehp-92in0He",
        "outputId": "a8c2cad9-414b-489b-8755-a02934eec231",
        "colab": {
          "base_uri": "https://localhost:8080/"
        }
      },
      "source": [
        "Circle.pi"
      ],
      "execution_count": null,
      "outputs": [
        {
          "output_type": "execute_result",
          "data": {
            "text/plain": [
              "3.14159"
            ]
          },
          "metadata": {},
          "execution_count": 9
        }
      ]
    },
    {
      "cell_type": "code",
      "metadata": {
        "id": "R_VL4BL7n0He",
        "outputId": "8d23542e-54a0-41aa-dd7c-2bcaf1ffa813",
        "colab": {
          "base_uri": "https://localhost:8080/"
        }
      },
      "source": [
        "Circle.pi = 4\n",
        "Circle.pi"
      ],
      "execution_count": null,
      "outputs": [
        {
          "output_type": "execute_result",
          "data": {
            "text/plain": [
              "4"
            ]
          },
          "metadata": {},
          "execution_count": 10
        }
      ]
    },
    {
      "cell_type": "code",
      "metadata": {
        "id": "g-ufUUIen0He",
        "outputId": "80069320-e9b5-4d1f-d412-06ac972545f1",
        "colab": {
          "base_uri": "https://localhost:8080/"
        }
      },
      "source": [
        "Circle.pi = 3.14159\n",
        "Circle.pi"
      ],
      "execution_count": null,
      "outputs": [
        {
          "output_type": "execute_result",
          "data": {
            "text/plain": [
              "3.14159"
            ]
          },
          "metadata": {},
          "execution_count": 11
        }
      ]
    },
    {
      "cell_type": "code",
      "metadata": {
        "id": "zgahQ7a3n0Hf",
        "outputId": "511cf866-5d3b-47a9-a349-515dcd4a5c3a",
        "colab": {
          "base_uri": "https://localhost:8080/"
        }
      },
      "source": [
        "c = Circle(3)\n",
        "c.area()"
      ],
      "execution_count": null,
      "outputs": [
        {
          "output_type": "execute_result",
          "data": {
            "text/plain": [
              "28.27431"
            ]
          },
          "metadata": {},
          "execution_count": 13
        }
      ]
    },
    {
      "cell_type": "code",
      "metadata": {
        "id": "UdANorTfn0Hf",
        "outputId": "219e4145-4c5f-4b82-9f45-44827b655fc6",
        "colab": {
          "base_uri": "https://localhost:8080/"
        }
      },
      "source": [
        "print(Circle)"
      ],
      "execution_count": null,
      "outputs": [
        {
          "output_type": "stream",
          "name": "stdout",
          "text": [
            "<class '__main__.Circle'>\n"
          ]
        }
      ]
    },
    {
      "cell_type": "code",
      "metadata": {
        "id": "h6kzJ0dgn0Hg",
        "outputId": "dfd0aec9-1e1a-48d8-bd52-156763ae128a",
        "colab": {
          "base_uri": "https://localhost:8080/"
        }
      },
      "source": [
        "print(c.__class__)"
      ],
      "execution_count": null,
      "outputs": [
        {
          "output_type": "stream",
          "name": "stdout",
          "text": [
            "<class '__main__.Circle'>\n"
          ]
        }
      ]
    },
    {
      "cell_type": "code",
      "metadata": {
        "id": "rb-b-NgNn0Hg",
        "outputId": "76810e2a-08c1-44dd-f1d2-4289b648f246",
        "colab": {
          "base_uri": "https://localhost:8080/"
        }
      },
      "source": [
        "c.__class__.pi"
      ],
      "execution_count": null,
      "outputs": [
        {
          "output_type": "execute_result",
          "data": {
            "text/plain": [
              "3.14159"
            ]
          },
          "metadata": {},
          "execution_count": 19
        }
      ]
    },
    {
      "cell_type": "markdown",
      "source": [
        "## 15.4.1 An oddity with class variables"
      ],
      "metadata": {
        "id": "GmXRVJ_lHuG6"
      }
    },
    {
      "cell_type": "code",
      "metadata": {
        "id": "P45Thmb7n0Hg",
        "outputId": "1211d27d-3865-47de-85b0-444a76fe9224",
        "colab": {
          "base_uri": "https://localhost:8080/"
        }
      },
      "source": [
        "c = Circle(3)\n",
        "c.pi"
      ],
      "execution_count": null,
      "outputs": [
        {
          "output_type": "execute_result",
          "data": {
            "text/plain": [
              "3.14159"
            ]
          },
          "metadata": {},
          "execution_count": 21
        }
      ]
    },
    {
      "cell_type": "code",
      "metadata": {
        "id": "K7kYNTjTn0Hh",
        "outputId": "f543af30-1968-4ecc-cb8a-94900b6fb464",
        "colab": {
          "base_uri": "https://localhost:8080/"
        }
      },
      "source": [
        "c1 = Circle(1)\n",
        "c2 = Circle(2)\n",
        "c1.pi = 3.14\n",
        "c1.pi"
      ],
      "execution_count": null,
      "outputs": [
        {
          "output_type": "execute_result",
          "data": {
            "text/plain": [
              "3.14"
            ]
          },
          "metadata": {},
          "execution_count": 22
        }
      ]
    },
    {
      "cell_type": "code",
      "metadata": {
        "id": "NP0oXUW-n0Hh",
        "outputId": "a3ba5e60-d2da-4e17-b0ac-a0a64657ef40",
        "colab": {
          "base_uri": "https://localhost:8080/"
        }
      },
      "source": [
        "c2.pi"
      ],
      "execution_count": null,
      "outputs": [
        {
          "output_type": "execute_result",
          "data": {
            "text/plain": [
              "3.14159"
            ]
          },
          "metadata": {},
          "execution_count": 23
        }
      ]
    },
    {
      "cell_type": "code",
      "metadata": {
        "id": "TYsLYMR0n0Hh",
        "outputId": "726ae5d6-f43c-46a6-fe62-97584e5eda25",
        "colab": {
          "base_uri": "https://localhost:8080/"
        }
      },
      "source": [
        "Circle.pi"
      ],
      "execution_count": null,
      "outputs": [
        {
          "output_type": "execute_result",
          "data": {
            "text/plain": [
              "3.14159"
            ]
          },
          "metadata": {},
          "execution_count": 24
        }
      ]
    },
    {
      "cell_type": "markdown",
      "source": [
        "### Listing 15.1 File circle.py"
      ],
      "metadata": {
        "id": "MgjaJ_u3IHrb"
      }
    },
    {
      "cell_type": "code",
      "source": [
        "!wget https://raw.githubusercontent.com/nceder/qpb4e/main/code/Chapter%2015/circle.py &> /dev/null  && echo Downloaded"
      ],
      "metadata": {
        "id": "CiuNzvMCJyiU",
        "outputId": "d125d4cd-c668-4465-b7f3-dbd8a936c6d9",
        "colab": {
          "base_uri": "https://localhost:8080/"
        }
      },
      "execution_count": null,
      "outputs": [
        {
          "output_type": "stream",
          "name": "stdout",
          "text": [
            "Downloaded\n"
          ]
        }
      ]
    },
    {
      "cell_type": "code",
      "metadata": {
        "id": "mY6eRHkon0Hh",
        "outputId": "7b92d07b-b1c5-4751-f12e-5813b5e62fe1",
        "colab": {
          "base_uri": "https://localhost:8080/"
        }
      },
      "source": [
        "\"\"\"circle module: contains the Circle class.\"\"\"\n",
        "class Circle:\n",
        "    \"\"\"Circle class\"\"\"\n",
        "    all_circles = []             #A\n",
        "    pi = 3.14159\n",
        "    def __init__(self, r=1):\n",
        "        \"\"\"Create a Circle with the given radius\"\"\"\n",
        "        self.radius = r\n",
        "        self.__class__.all_circles.append(self)   #B\n",
        "    def area(self):\n",
        "        \"\"\"determine the area of the Circle\"\"\"\n",
        "        return self.__class__.pi * self.radius * self.radius\n",
        "\n",
        "    @staticmethod\n",
        "    def total_area():\n",
        "        \"\"\"Static method to total the areas of all Circles \"\"\"\n",
        "        total = 0\n",
        "        for c in Circle.all_circles:\n",
        "            total = total + c.area()\n",
        "        return total"
      ],
      "execution_count": null,
      "outputs": [
        {
          "output_type": "execute_result",
          "data": {
            "text/plain": [
              "653"
            ]
          },
          "metadata": {},
          "execution_count": 27
        }
      ]
    },
    {
      "cell_type": "code",
      "metadata": {
        "id": "jKiDJY2Jn0Hi",
        "outputId": "cf1c190d-95ba-4398-9a1a-0e829346a50b",
        "colab": {
          "base_uri": "https://localhost:8080/"
        }
      },
      "source": [
        "import circle\n",
        "c1 = circle.Circle(1)\n",
        "c2 = circle.Circle(2)\n",
        "circle.Circle.total_area()"
      ],
      "execution_count": null,
      "outputs": [
        {
          "output_type": "execute_result",
          "data": {
            "text/plain": [
              "15.70795"
            ]
          },
          "metadata": {},
          "execution_count": 28
        }
      ]
    },
    {
      "cell_type": "code",
      "metadata": {
        "id": "zCwEncdfn0Hi",
        "outputId": "1cbff51c-03ee-48af-c607-6fd8d2f6424e",
        "colab": {
          "base_uri": "https://localhost:8080/"
        }
      },
      "source": [
        "c2.radius = 3\n",
        "circle.Circle.total_area()"
      ],
      "execution_count": null,
      "outputs": [
        {
          "output_type": "execute_result",
          "data": {
            "text/plain": [
              "31.415899999999997"
            ]
          },
          "metadata": {},
          "execution_count": 29
        }
      ]
    },
    {
      "cell_type": "code",
      "metadata": {
        "id": "hj1cObkkn0Hi",
        "outputId": "c0193152-5a17-4002-8a1a-7a656eb1f2e4",
        "colab": {
          "base_uri": "https://localhost:8080/",
          "height": 35
        }
      },
      "source": [
        "circle.__doc__"
      ],
      "execution_count": null,
      "outputs": [
        {
          "output_type": "execute_result",
          "data": {
            "text/plain": [
              "'circle module: contains the Circle class.'"
            ],
            "application/vnd.google.colaboratory.intrinsic+json": {
              "type": "string"
            }
          },
          "metadata": {},
          "execution_count": 30
        }
      ]
    },
    {
      "cell_type": "code",
      "metadata": {
        "id": "Kv2u_29Mn0Hj",
        "outputId": "2f2aada9-4324-4216-d02e-075266884a89",
        "colab": {
          "base_uri": "https://localhost:8080/",
          "height": 35
        }
      },
      "source": [
        "circle.Circle.__doc__"
      ],
      "execution_count": null,
      "outputs": [
        {
          "output_type": "execute_result",
          "data": {
            "text/plain": [
              "'Circle class'"
            ],
            "application/vnd.google.colaboratory.intrinsic+json": {
              "type": "string"
            }
          },
          "metadata": {},
          "execution_count": 31
        }
      ]
    },
    {
      "cell_type": "code",
      "metadata": {
        "id": "lDTIBQ3En0Hj",
        "outputId": "a2d27be2-155b-42fe-d3d6-c3f81774a454",
        "colab": {
          "base_uri": "https://localhost:8080/",
          "height": 35
        }
      },
      "source": [
        "circle.Circle.area.__doc__"
      ],
      "execution_count": null,
      "outputs": [
        {
          "output_type": "execute_result",
          "data": {
            "text/plain": [
              "'determine the area of the Circle'"
            ],
            "application/vnd.google.colaboratory.intrinsic+json": {
              "type": "string"
            }
          },
          "metadata": {},
          "execution_count": 32
        }
      ]
    },
    {
      "cell_type": "markdown",
      "source": [
        "## 15.5.2 Class methods"
      ],
      "metadata": {
        "id": "x_iLz47mI31S"
      }
    },
    {
      "cell_type": "code",
      "source": [
        "!wget https://raw.githubusercontent.com/nceder/qpb4e/main/code/Chapter%2015/circle_cm.py &> /dev/null  && echo Downloaded"
      ],
      "metadata": {
        "id": "lb4SIOxZJ7vF",
        "outputId": "46bf6022-7e7a-4668-d5c1-e71b4836783d",
        "colab": {
          "base_uri": "https://localhost:8080/"
        }
      },
      "execution_count": null,
      "outputs": [
        {
          "output_type": "stream",
          "name": "stdout",
          "text": [
            "Downloaded\n"
          ]
        }
      ]
    },
    {
      "cell_type": "markdown",
      "source": [
        "### Listing 15.2 File circle_cm.py"
      ],
      "metadata": {
        "id": "XQxgXMoyI91K"
      }
    },
    {
      "cell_type": "code",
      "metadata": {
        "id": "gVUMS8Hsn0Hj",
        "outputId": "de692459-7050-4322-90ea-629ccf5b6bdc",
        "colab": {
          "base_uri": "https://localhost:8080/"
        }
      },
      "source": [
        "\"\"\"circle_cm module: contains the Circle class.\"\"\"\n",
        "class Circle:\n",
        "    \"\"\"Circle class\"\"\"\n",
        "    all_circles = []              #A\n",
        "    pi = 3.14159\n",
        "    def __init__(self, r=1):\n",
        "        \"\"\"Create a Circle with the given radius\"\"\"\n",
        "        self.radius = r\n",
        "        self.__class__.all_circles.append(self)\n",
        "    def area(self):\n",
        "        \"\"\"determine the area of the Circle\"\"\"\n",
        "        return self.__class__.pi * self.radius * self.radius\n",
        "\n",
        "    @classmethod             #A\n",
        "    def total_area(cls):              #B\n",
        "        total = 0\n",
        "        for c in cls.all_circles:          #C\n",
        "            total = total + c.area()\n",
        "        return total\n"
      ],
      "execution_count": null,
      "outputs": [
        {
          "output_type": "execute_result",
          "data": {
            "text/plain": [
              "627"
            ]
          },
          "metadata": {},
          "execution_count": 33
        }
      ]
    },
    {
      "cell_type": "code",
      "metadata": {
        "id": "AnXIP9hLn0Hj",
        "outputId": "9a64f34e-7e2e-4319-98df-9d206524af03",
        "colab": {
          "base_uri": "https://localhost:8080/"
        }
      },
      "source": [
        "import circle_cm\n",
        "c1 = circle_cm.Circle(1)\n",
        "c2 = circle_cm.Circle(2)\n",
        "circle_cm.Circle.total_area()"
      ],
      "execution_count": null,
      "outputs": [
        {
          "output_type": "execute_result",
          "data": {
            "text/plain": [
              "15.70795"
            ]
          },
          "metadata": {},
          "execution_count": 34
        }
      ]
    },
    {
      "cell_type": "code",
      "metadata": {
        "id": "jadsSIYxn0Hk",
        "outputId": "eda1f384-2b41-41be-f2d4-30659326761e"
      },
      "source": [
        "c2.radius = 3\n",
        "circle_cm.Circle.total_area()"
      ],
      "execution_count": null,
      "outputs": [
        {
          "output_type": "stream",
          "name": "stdout",
          "text": [
            "31.415899999999997\n"
          ]
        }
      ]
    },
    {
      "cell_type": "markdown",
      "source": [
        "### Try This: Class methods\n",
        "\n",
        "Write a class method similar to `total_area()` that returns the total circumference of all circles."
      ],
      "metadata": {
        "id": "1h8XWMS-MxjA"
      }
    },
    {
      "cell_type": "code",
      "source": [],
      "metadata": {
        "id": "XYF88xSHM4ZS"
      },
      "execution_count": null,
      "outputs": []
    },
    {
      "cell_type": "code",
      "source": [
        "# @title\n",
        "class Circle:\n",
        "    pi = 3.14159\n",
        "    all_circles = []\n",
        "    def __init__(self, radius):\n",
        "        self.radius = radius\n",
        "        self.__class__.all_circles.append(self)\n",
        "\n",
        "    def area(self):\n",
        "        return self.radius * self.radius * Circle.pi\n",
        "\n",
        "    def circumference(self):\n",
        "        return 2 * self.radius * Circle.pi\n",
        "\n",
        "    @classmethod\n",
        "    def total_circumference(cls):\n",
        "        \"\"\"class method to total the circumference of all Circles \"\"\"\n",
        "        total = 0\n",
        "        for c in cls.all_circles:\n",
        "            total = total + c.circumference()\n",
        "        return total"
      ],
      "metadata": {
        "cellView": "form",
        "id": "TFrUs3Q7M4gl"
      },
      "execution_count": 3,
      "outputs": []
    },
    {
      "cell_type": "markdown",
      "source": [
        "# 15.6 Inheritance"
      ],
      "metadata": {
        "id": "2Jz9jTl3KFby"
      }
    },
    {
      "cell_type": "code",
      "metadata": {
        "id": "ZzwOg-pqn0Hk"
      },
      "source": [
        "class Square:\n",
        "    def __init__(self, side=1):\n",
        "        self.side = side                     #A"
      ],
      "execution_count": null,
      "outputs": []
    },
    {
      "cell_type": "code",
      "metadata": {
        "id": "fWyVbS5Sn0Hk"
      },
      "source": [
        "class Square:\n",
        "    def __init__(self, side=1, x=0, y=0):\n",
        "        self.side = side\n",
        "        self.x = x\n",
        "        self.y = y\n",
        "class Circle:\n",
        "    def __init__(self, radius=1, x=0, y=0):\n",
        "        self.radius = radius\n",
        "        self.x = x\n",
        "        self.y = y"
      ],
      "execution_count": null,
      "outputs": []
    },
    {
      "cell_type": "code",
      "metadata": {
        "id": "vr9lBzDCn0Hk"
      },
      "source": [
        "class Shape:\n",
        "    def __init__(self, x, y):\n",
        "        self.x = x\n",
        "        self.y = y\n",
        "class Square(Shape):                                #A\n",
        "    def __init__(self, side=1, x=0, y=0):\n",
        "        super().__init__(x, y)                      #B\n",
        "        self.side = side\n",
        "class Circle(Shape):                                #C\n",
        "    def __init__(self, r=1, x=0, y=0):\n",
        "        super().__init__(x, y)            #B\n",
        "        self.radius = r"
      ],
      "execution_count": null,
      "outputs": []
    },
    {
      "cell_type": "code",
      "metadata": {
        "id": "2ASXcCFTn0Hl"
      },
      "source": [
        "class Shape:\n",
        "    def __init__(self, x, y):\n",
        "        self.x = x\n",
        "        self.y = y\n",
        "    def move(self, delta_x, delta_y):\n",
        "        self.x = self.x + delta_x\n",
        "        self.y = self.y + delta_y\n",
        "class Square(Shape):\n",
        "    def __init__(self, side=1, x=0, y=0):\n",
        "        super().__init__(x, y)\n",
        "        self.side = side\n",
        "class Circle(Shape):\n",
        "    def __init__(self, r=1, x=0, y=0):\n",
        "        super().__init__(x, y)\n",
        "        self.radius = r"
      ],
      "execution_count": null,
      "outputs": []
    },
    {
      "cell_type": "code",
      "metadata": {
        "id": "7eteKFGxn0Hl",
        "outputId": "984a0d4f-02c4-4ca0-cc6c-ced0697a50c2",
        "colab": {
          "base_uri": "https://localhost:8080/",
          "height": 35
        }
      },
      "source": [
        "c = Circle(1)\n",
        "c.move(3, 4)\n",
        "f\"c.x = {c.x}, c.y = {c.y}\""
      ],
      "execution_count": null,
      "outputs": [
        {
          "output_type": "execute_result",
          "data": {
            "text/plain": [
              "'c.x = 3, c.y = 4'"
            ],
            "application/vnd.google.colaboratory.intrinsic+json": {
              "type": "string"
            }
          },
          "metadata": {},
          "execution_count": 48
        }
      ]
    },
    {
      "cell_type": "markdown",
      "source": [
        "### Try This: Inheritance\n",
        "\n",
        "Rewrite the code for a `Rectangle` class to inherit from `Shape`. Because squares and rectangles are related, would it make sense to inherit one from the other? If so, which would be the base class, and which would inherit?\n",
        "\n",
        "How would you write the code to add an `area()` method for the `Square` class? Should the `area` method be moved into the base `Shape` class and inherited by `Circle`, `Square`, and `Rectangle`? If so, what issues would result?"
      ],
      "metadata": {
        "id": "4auYIAe6K8Xn"
      }
    },
    {
      "cell_type": "code",
      "source": [],
      "metadata": {
        "id": "ofpyzVH3LfKc"
      },
      "execution_count": null,
      "outputs": []
    },
    {
      "cell_type": "code",
      "source": [
        "# @title\n",
        "class Shape:\n",
        "    def __init__(self, x, y):\n",
        "        self.x = x\n",
        "        self.y = y\n",
        "\n",
        "class Rectangle(Shape):\n",
        "    def __init__(self, x, y):\n",
        "        super().__init__(x, y)"
      ],
      "metadata": {
        "cellView": "form",
        "id": "HV_p7blCNFoy"
      },
      "execution_count": 5,
      "outputs": []
    },
    {
      "cell_type": "markdown",
      "source": [
        "# 15.7 Inheritance with class and instance variables"
      ],
      "metadata": {
        "id": "TFPLMli7Lf-w"
      }
    },
    {
      "cell_type": "code",
      "metadata": {
        "id": "1fArG-6nn0Hm"
      },
      "source": [
        "class P:\n",
        "    z = \"Hello\"\n",
        "    def set_p(self):\n",
        "        self.x = \"Class P\"\n",
        "    def print_p(self):\n",
        "         print(self.x)\n",
        "class C(P):\n",
        "    def set_c(self):\n",
        "        self.x = \"Class C\"\n",
        "    def print_c(self):\n",
        "        print(self.x)"
      ],
      "execution_count": null,
      "outputs": []
    },
    {
      "cell_type": "code",
      "metadata": {
        "id": "fDeBZA_8n0Hm",
        "outputId": "573ee5b4-126a-4e1d-ca83-467e2cf380e0",
        "colab": {
          "base_uri": "https://localhost:8080/"
        }
      },
      "source": [
        "c = C()\n",
        "c.set_p()\n",
        "c.print_p()"
      ],
      "execution_count": null,
      "outputs": [
        {
          "output_type": "stream",
          "name": "stdout",
          "text": [
            "Class P\n"
          ]
        }
      ]
    },
    {
      "cell_type": "code",
      "metadata": {
        "id": "LRLdeOPSn0Hm",
        "outputId": "59c7fc33-ef07-478a-91bd-a88790a01ae0",
        "colab": {
          "base_uri": "https://localhost:8080/"
        }
      },
      "source": [
        "c.print_c()"
      ],
      "execution_count": null,
      "outputs": [
        {
          "output_type": "stream",
          "name": "stdout",
          "text": [
            "Class P\n"
          ]
        }
      ]
    },
    {
      "cell_type": "code",
      "metadata": {
        "id": "NoBet1UCn0Hm",
        "outputId": "eaccd55b-695a-41dd-928a-22e55c12d01c",
        "colab": {
          "base_uri": "https://localhost:8080/"
        }
      },
      "source": [
        "c.set_c()\n",
        "c.print_c()"
      ],
      "execution_count": null,
      "outputs": [
        {
          "output_type": "stream",
          "name": "stdout",
          "text": [
            "Class C\n"
          ]
        }
      ]
    },
    {
      "cell_type": "code",
      "metadata": {
        "id": "3r4HHoTrn0Hn",
        "outputId": "5a79c381-f27f-4762-9866-aa8560e337fd",
        "colab": {
          "base_uri": "https://localhost:8080/"
        }
      },
      "source": [
        "c.print_p()"
      ],
      "execution_count": null,
      "outputs": [
        {
          "output_type": "stream",
          "name": "stdout",
          "text": [
            "Class C\n"
          ]
        }
      ]
    },
    {
      "cell_type": "code",
      "metadata": {
        "id": "hTgYkJNrn0Hn",
        "outputId": "14b809ab-274a-459d-b707-d8a0596f6142",
        "colab": {
          "base_uri": "https://localhost:8080/",
          "height": 35
        }
      },
      "source": [
        "f\"{c.z=} {C.z=} {P.z=}\""
      ],
      "execution_count": null,
      "outputs": [
        {
          "output_type": "execute_result",
          "data": {
            "text/plain": [
              "\"c.z='Hello' C.z='Hello' P.z='Hello'\""
            ],
            "application/vnd.google.colaboratory.intrinsic+json": {
              "type": "string"
            }
          },
          "metadata": {},
          "execution_count": 56
        }
      ]
    },
    {
      "cell_type": "markdown",
      "source": [],
      "metadata": {
        "id": "IH0hHz7HL_OX"
      }
    },
    {
      "cell_type": "code",
      "metadata": {
        "id": "DJgPAnlOn0Ho",
        "outputId": "5412b3d0-c80e-470c-e09c-0128d2c0b12f",
        "colab": {
          "base_uri": "https://localhost:8080/",
          "height": 35
        }
      },
      "source": [
        "C.z = \"Bonjour\"\n",
        "f\"{c.z=} {C.z=} {P.z=}\""
      ],
      "execution_count": null,
      "outputs": [
        {
          "output_type": "execute_result",
          "data": {
            "text/plain": [
              "\"c.z='Bonjour' C.z='Bonjour' P.z='Hello'\""
            ],
            "application/vnd.google.colaboratory.intrinsic+json": {
              "type": "string"
            }
          },
          "metadata": {},
          "execution_count": 58
        }
      ]
    },
    {
      "cell_type": "code",
      "metadata": {
        "id": "OY4mRAl4n0Ho",
        "outputId": "e52b9737-90cf-4ba9-9939-ba7f44103693",
        "colab": {
          "base_uri": "https://localhost:8080/",
          "height": 35
        }
      },
      "source": [
        "c.z = \"Ciao\"\n",
        "f\"{c.z=} {C.z=} {P.z=}\""
      ],
      "execution_count": null,
      "outputs": [
        {
          "output_type": "execute_result",
          "data": {
            "text/plain": [
              "\"c.z='Ciao' C.z='Bonjour' P.z='Hello'\""
            ],
            "application/vnd.google.colaboratory.intrinsic+json": {
              "type": "string"
            }
          },
          "metadata": {},
          "execution_count": 59
        }
      ]
    },
    {
      "cell_type": "markdown",
      "source": [
        "# 15.8 Recap: Basics of Python classes"
      ],
      "metadata": {
        "id": "2LTbdnL0MpdQ"
      }
    },
    {
      "cell_type": "code",
      "metadata": {
        "id": "C_nfjsJnn0Hp"
      },
      "source": [
        "class Shape:\n",
        "    def __init__(self, x, y):        #A\n",
        "        self.x = x                 #B\n",
        "        self.y = y                 #B\n",
        "    def move(self, delta_x, delta_y):  #C\n",
        "        self.x = self.x + delta_x    #D\n",
        "        self.y = self.y + delta_y"
      ],
      "execution_count": null,
      "outputs": []
    },
    {
      "cell_type": "code",
      "metadata": {
        "id": "_3bpOVaHn0Hp"
      },
      "source": [
        "class Circle(Shape):                                #A\n",
        "    pi = 3.14159           #B\n",
        "    all_circles = []       #B\n",
        "    def __init__(self, r=1, x=0, y=0):                  #C\n",
        "        super().__init__(x, y)   #D\n",
        "        self.radius = r\n",
        "        self.__class__.all_circles.append(self)     #E\n",
        "    @classmethod       #F\n",
        "    def total_area(cls):\n",
        "        area = 0\n",
        "        for circle in cls.all_circles:\n",
        "            area += cls.circle_area(circle.radius)     #G\n",
        "        return area\n",
        "    @staticmethod\n",
        "    def circle_area(radius):               #H\n",
        "        return Circle.pi * radius * radius           #I"
      ],
      "execution_count": null,
      "outputs": []
    },
    {
      "cell_type": "code",
      "metadata": {
        "id": "fb_oPHCWn0Hp",
        "outputId": "ff9e97f8-55b2-41a1-90ae-cf5bd3776c5e",
        "colab": {
          "base_uri": "https://localhost:8080/"
        }
      },
      "source": [
        "c1 = Circle()\n",
        "c1.radius, c1.x, c1.y"
      ],
      "execution_count": null,
      "outputs": [
        {
          "output_type": "execute_result",
          "data": {
            "text/plain": [
              "(1, 0, 0)"
            ]
          },
          "metadata": {},
          "execution_count": 62
        }
      ]
    },
    {
      "cell_type": "code",
      "metadata": {
        "id": "1QtVCB48n0Hp",
        "outputId": "303ab2a2-e1e1-4a47-e8a6-a38b775af979",
        "colab": {
          "base_uri": "https://localhost:8080/"
        }
      },
      "source": [
        "c2 = Circle(2, 1, 1)\n",
        "c2.radius, c2.x, c2.y"
      ],
      "execution_count": null,
      "outputs": [
        {
          "output_type": "execute_result",
          "data": {
            "text/plain": [
              "(2, 1, 1)"
            ]
          },
          "metadata": {},
          "execution_count": 63
        }
      ]
    },
    {
      "cell_type": "code",
      "metadata": {
        "id": "UATYtv9Hn0Hq",
        "outputId": "6c07c584-6716-490c-ee77-fa573afeebef",
        "colab": {
          "base_uri": "https://localhost:8080/"
        }
      },
      "source": [
        "c2.move(2, 2)\n",
        "c2.radius, c2.x, c2.y"
      ],
      "execution_count": null,
      "outputs": [
        {
          "output_type": "execute_result",
          "data": {
            "text/plain": [
              "(2, 3, 3)"
            ]
          },
          "metadata": {},
          "execution_count": 64
        }
      ]
    },
    {
      "cell_type": "code",
      "metadata": {
        "id": "zwzEZss5n0Hq",
        "outputId": "afb9a3d2-fb92-45ce-eda8-7c44b08e2494",
        "colab": {
          "base_uri": "https://localhost:8080/"
        }
      },
      "source": [
        "Circle.all_circles"
      ],
      "execution_count": null,
      "outputs": [
        {
          "output_type": "execute_result",
          "data": {
            "text/plain": [
              "[<__main__.Circle at 0x7c4e172d9480>, <__main__.Circle at 0x7c4e172da500>]"
            ]
          },
          "metadata": {},
          "execution_count": 65
        }
      ]
    },
    {
      "cell_type": "code",
      "metadata": {
        "id": "Ozveyvoyn0Hq",
        "outputId": "5351127e-0074-4527-b0dd-5e7c3bf81a6d",
        "colab": {
          "base_uri": "https://localhost:8080/"
        }
      },
      "source": [
        "[c1, c2]"
      ],
      "execution_count": null,
      "outputs": [
        {
          "output_type": "execute_result",
          "data": {
            "text/plain": [
              "[<__main__.Circle at 0x7c4e172d9480>, <__main__.Circle at 0x7c4e172da500>]"
            ]
          },
          "metadata": {},
          "execution_count": 66
        }
      ]
    },
    {
      "cell_type": "code",
      "metadata": {
        "id": "MfRRCeSdn0Hq",
        "outputId": "c9da6470-ac30-46d0-c901-c2da81f93a59",
        "colab": {
          "base_uri": "https://localhost:8080/"
        }
      },
      "source": [
        "Circle.total_area()"
      ],
      "execution_count": null,
      "outputs": [
        {
          "output_type": "execute_result",
          "data": {
            "text/plain": [
              "15.70795"
            ]
          },
          "metadata": {},
          "execution_count": 67
        }
      ]
    },
    {
      "cell_type": "code",
      "metadata": {
        "id": "b0BnanpOn0Hr",
        "outputId": "23d9b292-8d64-4935-d2c5-9f2686a9c9ca",
        "colab": {
          "base_uri": "https://localhost:8080/"
        }
      },
      "source": [
        "c2.total_area()"
      ],
      "execution_count": null,
      "outputs": [
        {
          "output_type": "execute_result",
          "data": {
            "text/plain": [
              "15.70795"
            ]
          },
          "metadata": {},
          "execution_count": 68
        }
      ]
    },
    {
      "cell_type": "code",
      "metadata": {
        "id": "N_Sxpk0qn0Hr",
        "outputId": "859528aa-f1f5-4725-988d-55cc88b98e28",
        "colab": {
          "base_uri": "https://localhost:8080/"
        }
      },
      "source": [
        "Circle.circle_area(c1.radius)"
      ],
      "execution_count": null,
      "outputs": [
        {
          "output_type": "execute_result",
          "data": {
            "text/plain": [
              "3.14159"
            ]
          },
          "metadata": {},
          "execution_count": 69
        }
      ]
    },
    {
      "cell_type": "code",
      "metadata": {
        "id": "1qAmN4KXn0Hr",
        "outputId": "e2880418-5784-4ec3-d455-85e58cea5f6d",
        "colab": {
          "base_uri": "https://localhost:8080/"
        }
      },
      "source": [
        "c1.circle_area(c1.radius)"
      ],
      "execution_count": null,
      "outputs": [
        {
          "output_type": "execute_result",
          "data": {
            "text/plain": [
              "3.14159"
            ]
          },
          "metadata": {},
          "execution_count": 70
        }
      ]
    },
    {
      "cell_type": "markdown",
      "source": [
        "# 15.9 Private variables and private methods"
      ],
      "metadata": {
        "id": "cQL6Yt9HM-6J"
      }
    },
    {
      "cell_type": "code",
      "metadata": {
        "id": "UiY_S0dXn0Hr"
      },
      "source": [
        "class Mine:\n",
        "    def __init__(self):\n",
        "        self.x = 2\n",
        "        self.__y = 3                    #A\n",
        "    def print_y(self):\n",
        "        print(self.__y)"
      ],
      "execution_count": null,
      "outputs": []
    },
    {
      "cell_type": "code",
      "metadata": {
        "id": "CojcMvQJn0Hs"
      },
      "source": [
        "m = Mine()"
      ],
      "execution_count": null,
      "outputs": []
    },
    {
      "cell_type": "code",
      "metadata": {
        "id": "G1WM65fln0Hs",
        "outputId": "4966ee23-aa06-4db7-bb00-c46d891da584",
        "colab": {
          "base_uri": "https://localhost:8080/"
        }
      },
      "source": [
        "print(m.x)"
      ],
      "execution_count": null,
      "outputs": [
        {
          "output_type": "stream",
          "name": "stdout",
          "text": [
            "2\n"
          ]
        }
      ]
    },
    {
      "cell_type": "code",
      "metadata": {
        "id": "nML3xDCjn0Hs",
        "outputId": "f2cf9d3e-d955-4de8-ec3b-7cb1803b06c0",
        "colab": {
          "base_uri": "https://localhost:8080/",
          "height": 141
        }
      },
      "source": [
        "print(m.__y)"
      ],
      "execution_count": null,
      "outputs": [
        {
          "output_type": "error",
          "ename": "AttributeError",
          "evalue": "'Mine' object has no attribute '__y'",
          "traceback": [
            "\u001b[0;31m---------------------------------------------------------------------------\u001b[0m",
            "\u001b[0;31mAttributeError\u001b[0m                            Traceback (most recent call last)",
            "\u001b[0;32m<ipython-input-74-c09dfe1cad43>\u001b[0m in \u001b[0;36m<cell line: 1>\u001b[0;34m()\u001b[0m\n\u001b[0;32m----> 1\u001b[0;31m \u001b[0mprint\u001b[0m\u001b[0;34m(\u001b[0m\u001b[0mm\u001b[0m\u001b[0;34m.\u001b[0m\u001b[0m__y\u001b[0m\u001b[0;34m)\u001b[0m\u001b[0;34m\u001b[0m\u001b[0;34m\u001b[0m\u001b[0m\n\u001b[0m",
            "\u001b[0;31mAttributeError\u001b[0m: 'Mine' object has no attribute '__y'"
          ]
        }
      ]
    },
    {
      "cell_type": "code",
      "metadata": {
        "id": "EKgxxWsTn0Ht",
        "outputId": "d2c387d4-0b54-4d0d-92a7-4444c57f0fb8",
        "colab": {
          "base_uri": "https://localhost:8080/"
        }
      },
      "source": [
        "m.print_y()"
      ],
      "execution_count": null,
      "outputs": [
        {
          "output_type": "stream",
          "name": "stdout",
          "text": [
            "3\n"
          ]
        }
      ]
    },
    {
      "cell_type": "code",
      "metadata": {
        "id": "DZNDioOUn0Ht",
        "outputId": "8e2f2f39-ad0c-4f76-ab07-d78ebf0b4cae",
        "colab": {
          "base_uri": "https://localhost:8080/"
        }
      },
      "source": [
        "dir(m)"
      ],
      "execution_count": null,
      "outputs": [
        {
          "output_type": "execute_result",
          "data": {
            "text/plain": [
              "['_Mine__y',\n",
              " '__class__',\n",
              " '__delattr__',\n",
              " '__dict__',\n",
              " '__dir__',\n",
              " '__doc__',\n",
              " '__eq__',\n",
              " '__format__',\n",
              " '__ge__',\n",
              " '__getattribute__',\n",
              " '__gt__',\n",
              " '__hash__',\n",
              " '__init__',\n",
              " '__init_subclass__',\n",
              " '__le__',\n",
              " '__lt__',\n",
              " '__module__',\n",
              " '__ne__',\n",
              " '__new__',\n",
              " '__reduce__',\n",
              " '__reduce_ex__',\n",
              " '__repr__',\n",
              " '__setattr__',\n",
              " '__sizeof__',\n",
              " '__str__',\n",
              " '__subclasshook__',\n",
              " '__weakref__',\n",
              " 'print_y',\n",
              " 'x']"
            ]
          },
          "metadata": {},
          "execution_count": 76
        }
      ]
    },
    {
      "cell_type": "markdown",
      "source": [
        "###Try This: Private instance variables\n",
        "\n",
        "Modify the Rectangle class's code to make the dimension variables private. What restriction will this modification impose on using the class?\n"
      ],
      "metadata": {
        "id": "r5E3NBFANfGk"
      }
    },
    {
      "cell_type": "code",
      "source": [],
      "metadata": {
        "id": "BBchg9QuNmhB"
      },
      "execution_count": null,
      "outputs": []
    },
    {
      "cell_type": "code",
      "source": [
        "# @title\n",
        "class Rectangle():\n",
        "    def __init__(self, x, y):\n",
        "        self.__x = x\n",
        "        self.__y = y"
      ],
      "metadata": {
        "cellView": "form",
        "id": "60a4OQB0Ny6i"
      },
      "execution_count": 6,
      "outputs": []
    },
    {
      "cell_type": "markdown",
      "source": [
        "# 15.10 Using @property for more flexible instance variables"
      ],
      "metadata": {
        "id": "-_iwJEmiNoO6"
      }
    },
    {
      "cell_type": "code",
      "metadata": {
        "id": "JjagDXIqn0Ht"
      },
      "source": [
        "class Temperature:\n",
        "    def __init__(self):\n",
        "        self._temp_fahr = 0\n",
        "    @property\n",
        "    def temp(self):\n",
        "        return (self._temp_fahr - 32) * 5 / 9"
      ],
      "execution_count": null,
      "outputs": []
    },
    {
      "cell_type": "code",
      "metadata": {
        "id": "BcXCT46Vn0Ht"
      },
      "source": [
        "class Temperature:\n",
        "    def __init__(self):\n",
        "        self._temp_fahr = 0\n",
        "    @property\n",
        "    def temp(self):\n",
        "        return (self._temp_fahr - 32) * 5 / 9\n",
        "    @temp.setter\n",
        "    def temp(self, new_temp):\n",
        "        self._temp_fahr = new_temp * 9 / 5 + 32"
      ],
      "execution_count": null,
      "outputs": []
    },
    {
      "cell_type": "code",
      "metadata": {
        "id": "BlLxnjYSn0Hu",
        "outputId": "791ea23e-27f4-42af-dfb5-78df23454666",
        "colab": {
          "base_uri": "https://localhost:8080/"
        }
      },
      "source": [
        "t = Temperature()\n",
        "t._temp_fahr"
      ],
      "execution_count": null,
      "outputs": [
        {
          "output_type": "execute_result",
          "data": {
            "text/plain": [
              "0"
            ]
          },
          "metadata": {},
          "execution_count": 80
        }
      ]
    },
    {
      "cell_type": "code",
      "metadata": {
        "id": "egKzMVtSn0Hu",
        "outputId": "0ae8cbf6-7432-45b6-bc18-e3e040c83844",
        "colab": {
          "base_uri": "https://localhost:8080/"
        }
      },
      "source": [
        "t.temp"
      ],
      "execution_count": null,
      "outputs": [
        {
          "output_type": "execute_result",
          "data": {
            "text/plain": [
              "-17.77777777777778"
            ]
          },
          "metadata": {},
          "execution_count": 81
        }
      ]
    },
    {
      "cell_type": "code",
      "metadata": {
        "id": "wBv3L-yVn0Hu",
        "outputId": "2751b2d4-ee40-4b12-af26-7cdc8d319ffd",
        "colab": {
          "base_uri": "https://localhost:8080/"
        }
      },
      "source": [
        "t.temp = 34      #A\n",
        "t._temp_fahr"
      ],
      "execution_count": null,
      "outputs": [
        {
          "output_type": "execute_result",
          "data": {
            "text/plain": [
              "93.2"
            ]
          },
          "metadata": {},
          "execution_count": 82
        }
      ]
    },
    {
      "cell_type": "code",
      "metadata": {
        "id": "Uv4MN8DRn0Hu",
        "outputId": "8af3bcbb-dd87-489c-e077-905c1071d717",
        "colab": {
          "base_uri": "https://localhost:8080/"
        }
      },
      "source": [
        "t.temp     #B"
      ],
      "execution_count": null,
      "outputs": [
        {
          "output_type": "execute_result",
          "data": {
            "text/plain": [
              "34.0"
            ]
          },
          "metadata": {},
          "execution_count": 83
        }
      ]
    },
    {
      "cell_type": "markdown",
      "source": [
        "### Try This: Properties\n",
        "\n",
        "Update the dimensions of the Rectangle class to be properties with getters and setters that don't allow negative sizes."
      ],
      "metadata": {
        "id": "OYaOmDGbOJqr"
      }
    },
    {
      "cell_type": "code",
      "source": [],
      "metadata": {
        "id": "GMBYuwvYN6YM"
      },
      "execution_count": null,
      "outputs": []
    },
    {
      "cell_type": "code",
      "source": [
        "# @title\n",
        "class Rectangle():\n",
        "    def __init__(self, x, y):\n",
        "        self.__x = x\n",
        "        self.__y = y\n",
        "\n",
        "    @property\n",
        "    def x(self):\n",
        "        return self.__x\n",
        "\n",
        "    @x.setter\n",
        "    def x(self, new_x):\n",
        "        if new_x >= 0:\n",
        "            self.__x = new_x\n",
        "\n",
        "    @property\n",
        "    def y(self):\n",
        "        return self.__y\n",
        "\n",
        "    @y.setter\n",
        "    def y(self, new_y):\n",
        "        if new_y >= 0:\n",
        "            self.__y = new_y\n",
        "\n",
        "# test\n",
        "my_rect = Rectangle(1,2)\n",
        "print(my_rect.x, my_rect.y)\n",
        "my_rect.x = 4\n",
        "my_rect.y = 5\n",
        "print(my_rect.x, my_rect.y)"
      ],
      "metadata": {
        "cellView": "form",
        "id": "wRFLbWLON6hP"
      },
      "execution_count": null,
      "outputs": []
    },
    {
      "cell_type": "markdown",
      "source": [
        "\n",
        "# 15.11 Scoping rules and namespaces for class instances"
      ],
      "metadata": {
        "id": "pdCoNvnCONNX"
      }
    },
    {
      "cell_type": "markdown",
      "source": [
        "### Listing 15.3 File cs.py"
      ],
      "metadata": {
        "id": "2KkEjNTYOYHD"
      }
    },
    {
      "cell_type": "code",
      "source": [
        "!wget https://raw.githubusercontent.com/nceder/qpb4e/main/code/Chapter%2015/cs.py &> /dev/null  && echo Downloaded"
      ],
      "metadata": {
        "id": "97fhAon5O42e",
        "outputId": "b6904365-5e08-494a-853f-0c8f6b4c2f3c",
        "colab": {
          "base_uri": "https://localhost:8080/"
        }
      },
      "execution_count": null,
      "outputs": [
        {
          "output_type": "stream",
          "name": "stdout",
          "text": [
            "Downloaded\n"
          ]
        }
      ]
    },
    {
      "cell_type": "code",
      "metadata": {
        "id": "cAuNqvj5n0Hv"
      },
      "source": [
        "\"\"\"cs module: class scope demonstration module.\"\"\"\n",
        "mv =\"module variable: mv\"\n",
        "def mf():\n",
        "    return \"module function (can be used like a class method in \" \\\n",
        "           \"other languages): mf()\"\n",
        "class SC:\n",
        "    scv = \"superclass class variable: self.scv\"\n",
        "    __pscv = \"private superclass class variable: no access\"\n",
        "    def __init__(self):\n",
        "        self.siv = \"superclass instance variable: self.siv \" \\\n",
        "                   \"(but use SC.siv for assignment)\"\n",
        "        self.__psiv = \"private superclass instance variable: \" \\\n",
        "                       \"no access\"\n",
        "    def sm(self):\n",
        "        return \"superclass method: self.sm()\"\n",
        "    def __spm(self):\n",
        "        return \"superclass private method: no access\"\n",
        "class C(SC):\n",
        "    cv = \"class variable: self.cv (but use C.cv for assignment)\"\n",
        "    __pcv = \"class private variable: self.__pcv (but use C.__pcv \" \\\n",
        "            \"for assignment)\"\n",
        "    def __init__(self):\n",
        "        SC.__init__(self)\n",
        "        self.__piv = \"private instance variable: self.__piv\"\n",
        "    def m2(self):\n",
        "        return \"method: self.m2()\"\n",
        "    def __pm(self):\n",
        "        return \"private method: self.__pm()\"\n",
        "    def m(self, p=\"parameter: p\"):\n",
        "        lv = \"local variable: lv\"\n",
        "        self.iv = \"instance variable: self.xi\"\n",
        "        print(\"Access local, global and built-in \" \\\n",
        "              \"namespaces directly\")\n",
        "        print(\"local namespace:\", list(locals().keys()))\n",
        "        print(p)                                               #A\n",
        "\n",
        "        print(lv)                                         #B\n",
        "        print(\"global namespace:\", list(globals().keys()))\n",
        "\n",
        "        print(mv)                         #C\n",
        "\n",
        "        print(mf())                                              #D\n",
        "        print(\"Access instance, class, and superclass namespaces \"\n",
        "              \"through 'self'\")\n",
        "        print(\"Instance namespace:\",dir(self))\n",
        "\n",
        "        print(self.iv)                                       #E\n",
        "\n",
        "        print(self.__piv)                    #F\n",
        "\n",
        "        print(self.siv)                                         #G\n",
        "        print(\"Class namespace:\",dir(C))\n",
        "        print(self.cv)                                          #H\n",
        "\n",
        "        print(self.m2())                       #I\n",
        "\n",
        "        print(self.__pcv)                                   #J\n",
        "\n",
        "        print(self.__pm())                            #K\n",
        "        print(\"Superclass namespace:\",dir(SC))\n",
        "        print(self.sm())                        #L\n",
        "\n",
        "        print(self.scv)                #M\n"
      ],
      "execution_count": null,
      "outputs": []
    },
    {
      "cell_type": "code",
      "metadata": {
        "id": "bbrJK4P1n0Hv",
        "outputId": "e98106b7-e9af-4cb0-f65e-98d51f4e46bc",
        "colab": {
          "base_uri": "https://localhost:8080/"
        }
      },
      "source": [
        "import cs\n",
        "c = cs.C()\n",
        "c.m()"
      ],
      "execution_count": null,
      "outputs": [
        {
          "output_type": "stream",
          "name": "stdout",
          "text": [
            "Access local, global and built-in namespaces directly\n",
            "local namespace: ['self', 'p', 'lv']\n",
            "parameter: p\n",
            "local variable: lv\n",
            "global namespace: ['__name__', '__doc__', '__package__', '__loader__', '__spec__', '__file__', '__cached__', '__builtins__', 'mv', 'mf', 'SC', 'C']\n",
            "module variable: mv\n",
            "module function (can be used like a class method in other languages): mf()\n",
            "Access instance, class, and superclass namespaces through 'self'\n",
            "Instance namespace: ['_C__pcv', '_C__piv', '_C__pm', '_SC__pscv', '_SC__psiv', '_SC__spm', '__class__', '__delattr__', '__dict__', '__dir__', '__doc__', '__eq__', '__format__', '__ge__', '__getattribute__', '__gt__', '__hash__', '__init__', '__init_subclass__', '__le__', '__lt__', '__module__', '__ne__', '__new__', '__reduce__', '__reduce_ex__', '__repr__', '__setattr__', '__sizeof__', '__str__', '__subclasshook__', '__weakref__', 'cv', 'iv', 'm', 'm2', 'scv', 'siv', 'sm']\n",
            "instance variable: self.xi\n",
            "private instance variable: self.__piv\n",
            "superclass instance variable: self.siv (but use SC.siv for assignment)\n",
            "Class namespace: ['_C__pcv', '_C__pm', '_SC__pscv', '_SC__spm', '__class__', '__delattr__', '__dict__', '__dir__', '__doc__', '__eq__', '__format__', '__ge__', '__getattribute__', '__gt__', '__hash__', '__init__', '__init_subclass__', '__le__', '__lt__', '__module__', '__ne__', '__new__', '__reduce__', '__reduce_ex__', '__repr__', '__setattr__', '__sizeof__', '__str__', '__subclasshook__', '__weakref__', 'cv', 'm', 'm2', 'scv', 'sm']\n",
            "class variable: self.cv (but use C.cv for assignment)\n",
            "method: self.m2()\n",
            "class private variable: self.__pcv (but use C.__pcv for assignment)\n",
            "private method: self.__pm()\n",
            "Superclass namespace: ['_SC__pscv', '_SC__spm', '__class__', '__delattr__', '__dict__', '__dir__', '__doc__', '__eq__', '__format__', '__ge__', '__getattribute__', '__gt__', '__hash__', '__init__', '__init_subclass__', '__le__', '__lt__', '__module__', '__ne__', '__new__', '__reduce__', '__reduce_ex__', '__repr__', '__setattr__', '__sizeof__', '__str__', '__subclasshook__', '__weakref__', 'scv', 'sm']\n",
            "superclass method: self.sm()\n",
            "superclass class variable: self.scv\n"
          ]
        }
      ]
    },
    {
      "cell_type": "code",
      "source": [],
      "metadata": {
        "id": "hIGk_0zvO9Il"
      },
      "execution_count": null,
      "outputs": []
    },
    {
      "cell_type": "markdown",
      "source": [
        "# 15.14 Lab 15: HTML classes\n",
        "\n",
        "In this lab, you create classes to represent an HTML document. To keep things simple, assume that each element can contain only text and one subelement. So the `<html>` element contains only a `<body>` element, and the `<body>` element contains (optional) text and a `<p>` element that contains only text.\n",
        "\n",
        "The key feature to implement is the `__str__()` method, which in turn calls its subelement's `__str__()` method, so that the entire document is returned when the `str()` function is called on an `<html>` element. You can assume that any text comes before the subelement.\n",
        "\n",
        "Here's example output from using the classes:\n",
        "```python\n",
        "para = p(text=\"this is some body text\")\n",
        "doc_body = body(text=\"This is the body\", subelement=para)\n",
        "doc = html(subelement=doc_body)\n",
        "print(doc)\n",
        "```\n",
        "```html\n",
        "<html>\n",
        "<body>\n",
        "This is the body\n",
        "<p>\n",
        "this is some body text\n",
        "</p>\n",
        "</body>\n",
        "</html>\n",
        "```"
      ],
      "metadata": {
        "id": "pPfdQQ7LPsen"
      }
    },
    {
      "cell_type": "markdown",
      "source": [
        "### Author's solution"
      ],
      "metadata": {
        "id": "C-GMzdXCOPu1"
      }
    },
    {
      "cell_type": "code",
      "source": [
        "class element:\n",
        "    def __init__(self, text=None, subelement=None):\n",
        "        self.subelement = subelement\n",
        "        self.text = text\n",
        "\n",
        "    def __str__(self):\n",
        "        value = f\"<{self.__class__.__name__}>\\n\"\n",
        "        if self.text:\n",
        "            value += f\"{self.text}\\n\"\n",
        "        if self.subelement:\n",
        "            value += str(self.subelement)\n",
        "        value += f\"</{self.__class__.__name__}>\\n\"\n",
        "        return value\n",
        "\n",
        "class html(element):\n",
        "    pass\n",
        "\n",
        "class body(element):\n",
        "    pass\n",
        "\n",
        "class p(element):\n",
        "    pass\n",
        "\n",
        "#test\n",
        "para = p(text=\"this is some body text\")\n",
        "doc_body = body(text=\"This is the body\", subelement=para)\n",
        "doc = html(subelement=doc_body)\n",
        "print(doc)"
      ],
      "metadata": {
        "id": "W1YonYoqPxzi",
        "outputId": "de552b04-c276-49cd-b6d7-9c5f3a61907b",
        "colab": {
          "base_uri": "https://localhost:8080/"
        }
      },
      "execution_count": 14,
      "outputs": [
        {
          "output_type": "stream",
          "name": "stdout",
          "text": [
            "<html>\n",
            "<body>\n",
            "This is the body\n",
            "<p>\n",
            "this is some body text\n",
            "</p>\n",
            "</body>\n",
            "</html>\n",
            "\n"
          ]
        }
      ]
    },
    {
      "cell_type": "markdown",
      "source": [
        "### Copilot solution"
      ],
      "metadata": {
        "id": "h-LGXQcZQ970"
      }
    },
    {
      "cell_type": "code",
      "source": [
        "class Element:\n",
        "    tag = \"\"\n",
        "\n",
        "    def __init__(self, text=\"\", subelement=None):\n",
        "        self.text = text\n",
        "        self.subelement = subelement\n",
        "\n",
        "    def __str__(self):\n",
        "        result = f\"<{self.tag}>\\n\"\n",
        "        if self.text:\n",
        "            result += self.text + \"\\n\"\n",
        "        if self.subelement:\n",
        "            result += str(self.subelement)\n",
        "        result += f\"</{self.tag}>\\n\"\n",
        "        return result\n",
        "\n",
        "class Html(Element):\n",
        "    tag = \"html\"\n",
        "\n",
        "class Body(Element):\n",
        "    tag = \"body\"\n",
        "\n",
        "class P(Element):\n",
        "    tag = \"p\"\n",
        "\n",
        "# Usage:\n",
        "para = P(text=\"this is some body text\")\n",
        "doc_body = Body(text=\"This is the body\", subelement=para)\n",
        "doc = Html(subelement=doc_body)\n",
        "print(doc)"
      ],
      "metadata": {
        "id": "YRzlaYGQOXPs",
        "outputId": "fff1fcfd-b5b5-408c-f2b5-7ec8fceed6db",
        "colab": {
          "base_uri": "https://localhost:8080/"
        }
      },
      "execution_count": 13,
      "outputs": [
        {
          "output_type": "stream",
          "name": "stdout",
          "text": [
            "<html>\n",
            "<body>\n",
            "This is the body\n",
            "<p>\n",
            "this is some body text\n",
            "</p>\n",
            "</body>\n",
            "</html>\n",
            "\n"
          ]
        }
      ]
    },
    {
      "cell_type": "markdown",
      "source": [
        "### Colaboratory solution\n",
        "\n",
        "(generated when immediately below problem statement)"
      ],
      "metadata": {
        "id": "nx8LgB5fdI4u"
      }
    },
    {
      "cell_type": "code",
      "source": [
        "# prompt: Generate the code described in the cell above.\n",
        "\n",
        "class html:\n",
        "    def __init__(self, subelement):\n",
        "        self.subelement = subelement\n",
        "    def __str__(self):\n",
        "        return f'<html>\\n{str(self.subelement)}\\n</html>'\n",
        "\n",
        "class body:\n",
        "    def __init__(self, text, subelement=None):\n",
        "        self.text = text\n",
        "        self.subelement = subelement\n",
        "    def __str__(self):\n",
        "        sub = ''\n",
        "        if self.subelement:\n",
        "            sub = f'\\n{str(self.subelement)}'\n",
        "        return f'<body>\\n{self.text}{sub}\\n</body>'\n",
        "\n",
        "class p:\n",
        "    def __init__(self, text):\n",
        "        self.text = text\n",
        "    def __str__(self):\n",
        "        return f'<p>\\n{self.text}\\n</p>'\n",
        "\n",
        "para = p(text=\"this is some body text\")\n",
        "doc_body = body(text=\"This is the body\", subelement=para)\n",
        "doc = html(subelement=doc_body)\n",
        "print(doc)\n"
      ],
      "metadata": {
        "id": "dkq-HGljY4Qm",
        "outputId": "3068b7c7-05b1-46ed-c5e7-c5eeec6b4576",
        "colab": {
          "base_uri": "https://localhost:8080/"
        }
      },
      "execution_count": 15,
      "outputs": [
        {
          "output_type": "stream",
          "name": "stdout",
          "text": [
            "<html>\n",
            "<body>\n",
            "This is the body\n",
            "<p>\n",
            "this is some body text\n",
            "</p>\n",
            "</body>\n",
            "</html>\n"
          ]
        }
      ]
    },
    {
      "cell_type": "code",
      "source": [],
      "metadata": {
        "id": "VEzyr_5Vai-_"
      },
      "execution_count": null,
      "outputs": []
    }
  ]
}