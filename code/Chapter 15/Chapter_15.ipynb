{
  "nbformat": 4,
  "nbformat_minor": 0,
  "metadata": {
    "colab": {
      "provenance": [],
      "include_colab_link": true
    },
    "kernelspec": {
      "name": "python3",
      "display_name": "Python 3"
    },
    "language_info": {
      "name": "python"
    }
  },
  "cells": [
    {
      "cell_type": "markdown",
      "metadata": {
        "id": "view-in-github",
        "colab_type": "text"
      },
      "source": [
        "<a href=\"https://colab.research.google.com/github/nceder/qpb4e/blob/main/code/Chapter%2015/Chapter_15.ipynb\" target=\"_parent\"><img src=\"https://colab.research.google.com/assets/colab-badge.svg\" alt=\"Open In Colab\"/></a>"
      ]
    },
    {
      "cell_type": "code",
      "metadata": {
        "id": "E60NgT-in0HZ",
        "outputId": "b48b7df6-247e-4347-ff7b-326f91389d9d"
      },
      "source": [
        "class Circle:\n",
        "    pass\n",
        "\n",
        "my_circle = Circle()\n",
        "my_circle.radius = 5\n",
        "print(2 * 3.14 * my_circle.radius)"
      ],
      "execution_count": null,
      "outputs": [
        {
          "output_type": "stream",
          "name": "stdout",
          "text": [
            "31.4\n"
          ]
        }
      ]
    },
    {
      "cell_type": "code",
      "metadata": {
        "id": "9_szHCxQn0Hb",
        "outputId": "d7bbf565-7523-4daa-ad89-cf93ec0e24a1"
      },
      "source": [
        "class Circle:\n",
        "    def __init__(self):          #A\n",
        "        self.radius = 1\n",
        "my_circle = Circle()                  #B\n",
        "print(2 * 3.14 * my_circle.radius)    #C\n",
        "6.28\n",
        "my_circle.radius = 5                 #D\n",
        "print(2 * 3.14 * my_circle.radius)   #E\n",
        "31.400000000000002"
      ],
      "execution_count": null,
      "outputs": [
        {
          "output_type": "stream",
          "name": "stdout",
          "text": []
        }
      ]
    },
    {
      "cell_type": "code",
      "metadata": {
        "id": "n0t9yRUhn0Hc",
        "outputId": "480c89f5-5108-46d1-db4f-6bd93199d3da"
      },
      "source": [
        "class Circle:\n",
        "    def __init__(self):\n",
        "        self.radius = 1"
      ],
      "execution_count": null,
      "outputs": [
        {
          "output_type": "stream",
          "name": "stdout",
          "text": []
        }
      ]
    },
    {
      "cell_type": "code",
      "metadata": {
        "id": "ApNXLNCen0Hc",
        "outputId": "4fb49801-1b14-45d2-d018-8217ea92da77"
      },
      "source": [
        "class Circle:\n",
        "    def __init__(self):\n",
        "        self.radius = 1\n",
        "    def area(self):\n",
        "        return self.radius * self.radius * 3.14159\n",
        "\n",
        "c = Circle()\n",
        "c.radius = 3\n",
        "print(c.area())"
      ],
      "execution_count": null,
      "outputs": [
        {
          "output_type": "stream",
          "name": "stdout",
          "text": [
            "28.27431\n"
          ]
        }
      ]
    },
    {
      "cell_type": "code",
      "metadata": {
        "id": "vFu3AiTNn0Hd",
        "outputId": "560cf70e-65cb-4e56-841e-32a88c44047d"
      },
      "source": [
        "print(Circle.area(c))"
      ],
      "execution_count": null,
      "outputs": [
        {
          "output_type": "stream",
          "name": "stdout",
          "text": [
            "28.27431\n"
          ]
        }
      ]
    },
    {
      "cell_type": "code",
      "metadata": {
        "id": "bGDhszaLn0Hd",
        "outputId": "2c59d5d6-0ab4-4377-b375-4188683b94e4"
      },
      "source": [
        "class Circle:\n",
        "    def __init__(self, radius):\n",
        "        self.radius = radius\n",
        "    def area(self):\n",
        "        return self.radius * self.radius * 3.14159"
      ],
      "execution_count": null,
      "outputs": [
        {
          "output_type": "stream",
          "name": "stdout",
          "text": []
        }
      ]
    },
    {
      "cell_type": "code",
      "metadata": {
        "id": "rk2qUS_in0Hd",
        "outputId": "e8e6d40c-8311-473d-c254-cff3152a75d6"
      },
      "source": [
        "class Circle:\n",
        "    pi = 3.14159\n",
        "    def __init__(self, radius):\n",
        "        self.radius = radius\n",
        "    def area(self):\n",
        "        return self.radius * self.radius * Circle.pi"
      ],
      "execution_count": null,
      "outputs": [
        {
          "output_type": "stream",
          "name": "stdout",
          "text": []
        }
      ]
    },
    {
      "cell_type": "code",
      "metadata": {
        "id": "2Ehp-92in0He",
        "outputId": "93703efc-178f-425b-8fa6-f94c68d16476"
      },
      "source": [
        "Circle.pi"
      ],
      "execution_count": null,
      "outputs": [
        {
          "output_type": "stream",
          "name": "stdout",
          "text": [
            "3.14159\n"
          ]
        }
      ]
    },
    {
      "cell_type": "code",
      "metadata": {
        "id": "R_VL4BL7n0He",
        "outputId": "f91cd284-102d-41cd-e69f-211876f254f3"
      },
      "source": [
        "Circle.pi = 4\n",
        "Circle.pi"
      ],
      "execution_count": null,
      "outputs": [
        {
          "output_type": "stream",
          "name": "stdout",
          "text": [
            "4\n"
          ]
        }
      ]
    },
    {
      "cell_type": "code",
      "metadata": {
        "id": "g-ufUUIen0He",
        "outputId": "b55284d0-4519-4ee0-ac0f-b1bcaf6aa9b4"
      },
      "source": [
        "Circle.pi = 3.14159\n",
        "Circle.pi"
      ],
      "execution_count": null,
      "outputs": [
        {
          "output_type": "stream",
          "name": "stdout",
          "text": [
            "3.14159\n"
          ]
        }
      ]
    },
    {
      "cell_type": "code",
      "metadata": {
        "id": "zgahQ7a3n0Hf",
        "outputId": "6906e833-9c68-45d5-c466-b5cd3181f481"
      },
      "source": [
        "c = Circle(3)\n",
        "c.area()"
      ],
      "execution_count": null,
      "outputs": [
        {
          "output_type": "stream",
          "name": "stdout",
          "text": [
            "28.27431\n"
          ]
        }
      ]
    },
    {
      "cell_type": "code",
      "metadata": {
        "id": "UdANorTfn0Hf",
        "outputId": "c635c071-bea4-4bd4-f074-34a4647c279f"
      },
      "source": [
        "Circle"
      ],
      "execution_count": null,
      "outputs": [
        {
          "output_type": "stream",
          "name": "stdout",
          "text": [
            "<class '__main__.Circle'>\n"
          ]
        }
      ]
    },
    {
      "cell_type": "code",
      "metadata": {
        "id": "h6kzJ0dgn0Hg",
        "outputId": "59cc5cda-002e-463d-8945-3d052d8205d0"
      },
      "source": [
        "c.__class__"
      ],
      "execution_count": null,
      "outputs": [
        {
          "output_type": "stream",
          "name": "stdout",
          "text": [
            "<class '__main__.Circle'>\n"
          ]
        }
      ]
    },
    {
      "cell_type": "code",
      "metadata": {
        "id": "rb-b-NgNn0Hg",
        "outputId": "62734ba7-685e-40d8-f7bd-ca3187bf5e83"
      },
      "source": [
        "c.__class__.pi"
      ],
      "execution_count": null,
      "outputs": [
        {
          "output_type": "stream",
          "name": "stdout",
          "text": [
            "3.14159\n"
          ]
        }
      ]
    },
    {
      "cell_type": "code",
      "metadata": {
        "id": "P45Thmb7n0Hg",
        "outputId": "35532dc3-05ae-4bb2-d53c-46bb6f6a1ed3"
      },
      "source": [
        "c = Circle(3)\n",
        "c.pi"
      ],
      "execution_count": null,
      "outputs": [
        {
          "output_type": "stream",
          "name": "stdout",
          "text": [
            "3.14159\n"
          ]
        }
      ]
    },
    {
      "cell_type": "code",
      "metadata": {
        "id": "K7kYNTjTn0Hh",
        "outputId": "f82f3b74-4c8b-4c29-d70f-b7eceb8763a9"
      },
      "source": [
        "c1 = Circle(1)\n",
        "c2 = Circle(2)\n",
        "c1.pi = 3.14\n",
        "c1.pi"
      ],
      "execution_count": null,
      "outputs": [
        {
          "output_type": "stream",
          "name": "stdout",
          "text": [
            "3.14\n"
          ]
        }
      ]
    },
    {
      "cell_type": "code",
      "metadata": {
        "id": "NP0oXUW-n0Hh",
        "outputId": "05c037ef-6172-4a0d-99f7-78437290f13b"
      },
      "source": [
        "c2.pi"
      ],
      "execution_count": null,
      "outputs": [
        {
          "output_type": "stream",
          "name": "stdout",
          "text": [
            "3.14159\n"
          ]
        }
      ]
    },
    {
      "cell_type": "code",
      "metadata": {
        "id": "TYsLYMR0n0Hh",
        "outputId": "136ee681-2262-4ae9-eb22-3299e9503542"
      },
      "source": [
        "Circle.pi"
      ],
      "execution_count": null,
      "outputs": [
        {
          "output_type": "stream",
          "name": "stdout",
          "text": [
            "3.14159\n"
          ]
        }
      ]
    },
    {
      "cell_type": "code",
      "metadata": {
        "id": "mY6eRHkon0Hh",
        "outputId": "81e847ab-a423-43d3-d29b-2c6b9a1cb71a"
      },
      "source": [
        "'''circle module: contains the Circle class.'''\n",
        "class Circle:\n",
        "    '''Circle class'''\n",
        "    all_circles = []             #A\n",
        "    pi = 3.14159\n",
        "    def __init__(self, r=1):\n",
        "        '''Create a Circle with the given radius'''\n",
        "        self.radius = r\n",
        "        self.__class__.all_circles.append(self)   #B\n",
        "    def area(self):\n",
        "        '''determine the area of the Circle'''\n",
        "        return self.__class__.pi * self.radius * self.radius\n",
        "\n",
        "    @staticmethod\n",
        "    def total_area():\n",
        "        '''Static method to total the areas of all Circles '''\n",
        "        total = 0\n",
        "        for c in Circle.all_circles:\n",
        "            total = total + c.area()\n",
        "        return total"
      ],
      "execution_count": null,
      "outputs": [
        {
          "output_type": "stream",
          "name": "stdout",
          "text": []
        }
      ]
    },
    {
      "cell_type": "code",
      "metadata": {
        "id": "jKiDJY2Jn0Hi",
        "outputId": "d48d0d33-1dc0-450d-8d2e-16d9576d3711"
      },
      "source": [
        "import circle\n",
        "c1 = circle.Circle(1)\n",
        "c2 = circle.Circle(2)\n",
        "circle.Circle.total_area()"
      ],
      "execution_count": null,
      "outputs": [
        {
          "output_type": "stream",
          "name": "stdout",
          "text": [
            "15.70795\n"
          ]
        }
      ]
    },
    {
      "cell_type": "code",
      "metadata": {
        "id": "zCwEncdfn0Hi",
        "outputId": "3c82b8c7-7840-4a39-c0a8-949a34e59536"
      },
      "source": [
        "c2.radius = 3\n",
        "circle.Circle.total_area()"
      ],
      "execution_count": null,
      "outputs": [
        {
          "output_type": "stream",
          "name": "stdout",
          "text": [
            "31.415899999999997\n"
          ]
        }
      ]
    },
    {
      "cell_type": "code",
      "metadata": {
        "id": "hj1cObkkn0Hi",
        "outputId": "6ea63ae3-3146-4b20-d925-7023bd2fd5bd"
      },
      "source": [
        "circle.__doc__"
      ],
      "execution_count": null,
      "outputs": [
        {
          "output_type": "stream",
          "name": "stdout",
          "text": [
            "'circle module: contains the Circle class.'\n"
          ]
        }
      ]
    },
    {
      "cell_type": "code",
      "metadata": {
        "id": "Kv2u_29Mn0Hj",
        "outputId": "bf376918-575b-4978-e2dd-028546c947e9"
      },
      "source": [
        "circle.Circle.__doc__"
      ],
      "execution_count": null,
      "outputs": [
        {
          "output_type": "stream",
          "name": "stdout",
          "text": [
            "'Circle class'\n"
          ]
        }
      ]
    },
    {
      "cell_type": "code",
      "metadata": {
        "id": "lDTIBQ3En0Hj",
        "outputId": "f05d00f6-2c29-4e80-c090-eaaf91666a0f"
      },
      "source": [
        "circle.Circle.area.__doc__"
      ],
      "execution_count": null,
      "outputs": [
        {
          "output_type": "stream",
          "name": "stdout",
          "text": [
            "'determine the area of the Circle'\n"
          ]
        }
      ]
    },
    {
      "cell_type": "code",
      "metadata": {
        "id": "gVUMS8Hsn0Hj",
        "outputId": "9e908695-6b71-4bf4-fc1e-26688311ce32"
      },
      "source": [
        "'''circle_cm module: contains the Circle class.'''\n",
        "class Circle:\n",
        "    '''Circle class'''\n",
        "    all_circles = []              #A\n",
        "    pi = 3.14159\n",
        "    def __init__(self, r=1):\n",
        "        '''Create a Circle with the given radius'''\n",
        "        self.radius = r\n",
        "        self.__class__.all_circles.append(self)\n",
        "    def area(self):\n",
        "        '''determine the area of the Circle'''\n",
        "        return self.__class__.pi * self.radius * self.radius\n",
        "\n",
        "    @classmethod             #A\n",
        "    def total_area(cls):              #B\n",
        "        total = 0\n",
        "        for c in cls.all_circles:          #C\n",
        "            total = total + c.area()\n",
        "        return total"
      ],
      "execution_count": null,
      "outputs": [
        {
          "output_type": "stream",
          "name": "stdout",
          "text": []
        }
      ]
    },
    {
      "cell_type": "code",
      "metadata": {
        "id": "AnXIP9hLn0Hj",
        "outputId": "e69db7be-1170-412e-b331-ea3ff67efb20"
      },
      "source": [
        "import circle_cm\n",
        "c1 = circle_cm.Circle(1)\n",
        "c2 = circle_cm.Circle(2)\n",
        "circle_cm.Circle.total_area()"
      ],
      "execution_count": null,
      "outputs": [
        {
          "output_type": "stream",
          "name": "stdout",
          "text": [
            "15.70795\n"
          ]
        }
      ]
    },
    {
      "cell_type": "code",
      "metadata": {
        "id": "jadsSIYxn0Hk",
        "outputId": "eda1f384-2b41-41be-f2d4-30659326761e"
      },
      "source": [
        "c2.radius = 3\n",
        "circle_cm.Circle.total_area()"
      ],
      "execution_count": null,
      "outputs": [
        {
          "output_type": "stream",
          "name": "stdout",
          "text": [
            "31.415899999999997\n"
          ]
        }
      ]
    },
    {
      "cell_type": "code",
      "metadata": {
        "id": "ZzwOg-pqn0Hk",
        "outputId": "4d15e8b8-b5b9-4ff0-9176-85765e83cc9e"
      },
      "source": [
        "class Square:\n",
        "    def __init__(self, side=1):\n",
        "        self.side = side                     #A"
      ],
      "execution_count": null,
      "outputs": [
        {
          "output_type": "stream",
          "name": "stdout",
          "text": []
        }
      ]
    },
    {
      "cell_type": "code",
      "metadata": {
        "id": "fWyVbS5Sn0Hk",
        "outputId": "36aa75b0-e311-46c9-bc8f-26fab3d123be"
      },
      "source": [
        "class Square:\n",
        "    def __init__(self, side=1, x=0, y=0):\n",
        "        self.side = side\n",
        "        self.x = x\n",
        "        self.y = y\n",
        "class Circle:\n",
        "    def __init__(self, radius=1, x=0, y=0):\n",
        "        self.radius = radius\n",
        "        self.x = x\n",
        "        self.y = y"
      ],
      "execution_count": null,
      "outputs": [
        {
          "output_type": "stream",
          "name": "stdout",
          "text": []
        }
      ]
    },
    {
      "cell_type": "code",
      "metadata": {
        "id": "vr9lBzDCn0Hk",
        "outputId": "f56c98ec-8ab5-4178-a101-be94dca1fb9a"
      },
      "source": [
        "class Shape:\n",
        "    def __init__(self, x, y):\n",
        "        self.x = x\n",
        "        self.y = y\n",
        "class Square(Shape):                                #A\n",
        "    def __init__(self, side=1, x=0, y=0):\n",
        "        super().__init__(x, y)                      #B\n",
        "        self.side = side\n",
        "class Circle(Shape):                                #C\n",
        "    def __init__(self, r=1, x=0, y=0):\n",
        "        super().__init__(x, y)            #B\n",
        "        self.radius = r"
      ],
      "execution_count": null,
      "outputs": [
        {
          "output_type": "stream",
          "name": "stdout",
          "text": []
        }
      ]
    },
    {
      "cell_type": "code",
      "metadata": {
        "id": "2ASXcCFTn0Hl",
        "outputId": "5ef4b7b8-31fa-47d3-cbf3-81c4fed21b86"
      },
      "source": [
        "class Shape:\n",
        "    def __init__(self, x, y):\n",
        "        self.x = x\n",
        "        self.y = y\n",
        "    def move(self, delta_x, delta_y):\n",
        "        self.x = self.x + delta_x\n",
        "        self.y = self.y + delta_y"
      ],
      "execution_count": null,
      "outputs": [
        {
          "output_type": "stream",
          "name": "stdout",
          "text": []
        }
      ]
    },
    {
      "cell_type": "code",
      "metadata": {
        "id": "7eteKFGxn0Hl",
        "outputId": "5b46a092-e5cd-4476-f1b0-4f810903ea6c"
      },
      "source": [
        "c = Circle(1)\n",
        "c.move(3, 4)\n",
        "c.x"
      ],
      "execution_count": null,
      "outputs": [
        {
          "output_type": "stream",
          "name": "stdout",
          "text": [
            "3\n"
          ]
        }
      ]
    },
    {
      "cell_type": "code",
      "metadata": {
        "id": "peIyuK-en0Hl",
        "outputId": "10ac1336-abcb-41b6-98cb-dba41e8483a2"
      },
      "source": [
        "c.y"
      ],
      "execution_count": null,
      "outputs": [
        {
          "output_type": "stream",
          "name": "stdout",
          "text": [
            "4\n"
          ]
        }
      ]
    },
    {
      "cell_type": "code",
      "metadata": {
        "id": "1fArG-6nn0Hm",
        "outputId": "2c433e8c-7b86-429f-c109-6a47636cd34d"
      },
      "source": [
        "class P:\n",
        "    z = \"Hello\"\n",
        "    def set_p(self):\n",
        "        self.x = \"Class P\"\n",
        "    def print_p(self):\n",
        "         print(self.x)\n",
        "class C(P):\n",
        "    def set_c(self):\n",
        "        self.x = \"Class C\"\n",
        "    def print_c(self):\n",
        "        print(self.x)"
      ],
      "execution_count": null,
      "outputs": [
        {
          "output_type": "stream",
          "name": "stdout",
          "text": []
        }
      ]
    },
    {
      "cell_type": "code",
      "metadata": {
        "id": "fDeBZA_8n0Hm",
        "outputId": "a008bea9-068f-43bb-c22b-d5d742b9eeb8"
      },
      "source": [
        "c = C()\n",
        "c.set_p()\n",
        "c.print_p()"
      ],
      "execution_count": null,
      "outputs": [
        {
          "output_type": "stream",
          "name": "stdout",
          "text": [
            "Class P\n"
          ]
        }
      ]
    },
    {
      "cell_type": "code",
      "metadata": {
        "id": "LRLdeOPSn0Hm",
        "outputId": "f46eca73-3efa-46bc-a8bf-9ad75db2081e"
      },
      "source": [
        "c.print_c()"
      ],
      "execution_count": null,
      "outputs": [
        {
          "output_type": "stream",
          "name": "stdout",
          "text": [
            "Class P\n"
          ]
        }
      ]
    },
    {
      "cell_type": "code",
      "metadata": {
        "id": "NoBet1UCn0Hm",
        "outputId": "087117fd-06bf-4671-c193-2da228a403ad"
      },
      "source": [
        "c.set_c()\n",
        "c.print_c()"
      ],
      "execution_count": null,
      "outputs": [
        {
          "output_type": "stream",
          "name": "stdout",
          "text": [
            "Class C\n"
          ]
        }
      ]
    },
    {
      "cell_type": "code",
      "metadata": {
        "id": "3r4HHoTrn0Hn",
        "outputId": "53ad7eb7-6e4f-4378-e87d-bb850702c289"
      },
      "source": [
        "c.print_p()"
      ],
      "execution_count": null,
      "outputs": [
        {
          "output_type": "stream",
          "name": "stdout",
          "text": [
            "Class C\n"
          ]
        }
      ]
    },
    {
      "cell_type": "code",
      "metadata": {
        "id": "hTgYkJNrn0Hn",
        "outputId": "e1672719-8c8c-465a-90d4-3e7758d983f5"
      },
      "source": [
        "c.z; C.z; P.z"
      ],
      "execution_count": null,
      "outputs": [
        {
          "output_type": "stream",
          "name": "stdout",
          "text": [
            "'Hello'\n",
            "'Hello'\n",
            "'Hello'\n"
          ]
        }
      ]
    },
    {
      "cell_type": "code",
      "metadata": {
        "id": "DJgPAnlOn0Ho",
        "outputId": "5ed39cb3-1aa7-4e0b-bf92-5c99eefd314d"
      },
      "source": [
        "C.z = \"Bonjour\"\n",
        "c.z; C.z; P.z"
      ],
      "execution_count": null,
      "outputs": [
        {
          "output_type": "stream",
          "name": "stdout",
          "text": [
            "'Bonjour'\n",
            "'Bonjour'\n",
            "'Hello'\n"
          ]
        }
      ]
    },
    {
      "cell_type": "code",
      "metadata": {
        "id": "OY4mRAl4n0Ho",
        "outputId": "39a609d3-19f9-4cbf-bc8d-0751fe065c10"
      },
      "source": [
        "c.z = \"Ciao\"\n",
        "c.z; C.z; P.z"
      ],
      "execution_count": null,
      "outputs": [
        {
          "output_type": "stream",
          "name": "stdout",
          "text": [
            "'Ciao'\n",
            "'Bonjour'\n",
            "'Hello'\n"
          ]
        }
      ]
    },
    {
      "cell_type": "code",
      "metadata": {
        "id": "C_nfjsJnn0Hp",
        "outputId": "d60fad17-671a-4e9e-d3bb-3a69f32ce6ce"
      },
      "source": [
        "class Shape:\n",
        "    def __init__(self, x, y):        #A\n",
        "        self.x = x                 #B\n",
        "        self.y = y                 #B\n",
        "    def move(self, delta_x, delta_y):  #C\n",
        "        self.x = self.x + delta_x    #D\n",
        "        self.y = self.y + delta_y"
      ],
      "execution_count": null,
      "outputs": [
        {
          "output_type": "stream",
          "name": "stdout",
          "text": []
        }
      ]
    },
    {
      "cell_type": "code",
      "metadata": {
        "id": "_3bpOVaHn0Hp",
        "outputId": "da4effd9-a584-40b2-d0a6-7b796ae116a8"
      },
      "source": [
        "class Circle(Shape):                                #A\n",
        "    pi = 3.14159           #B\n",
        "    all_circles = []       #B\n",
        "    def __init__(self, r=1, x=0, y=0):                  #C\n",
        "        super().__init__(x, y)   #D\n",
        "        self.radius = r\n",
        "        self.__class__.all_circles.append(self)     #E\n",
        "    @classmethod       #F\n",
        "    def total_area(cls):\n",
        "        area = 0\n",
        "        for circle in cls.all_circles:\n",
        "            area += cls.circle_area(circle.radius)     #G\n",
        "        return area\n",
        "    @staticmethod\n",
        "    def circle_area(radius):               #H\n",
        "        return Circle.pi * radius * radius           #I"
      ],
      "execution_count": null,
      "outputs": [
        {
          "output_type": "stream",
          "name": "stdout",
          "text": []
        }
      ]
    },
    {
      "cell_type": "code",
      "metadata": {
        "id": "fb_oPHCWn0Hp",
        "outputId": "509b0c87-9cb6-4bf3-9ae6-9553acbaa711"
      },
      "source": [
        "c1 = Circle()\n",
        "c1.radius, c1.x, c1.y"
      ],
      "execution_count": null,
      "outputs": [
        {
          "output_type": "stream",
          "name": "stdout",
          "text": [
            "(1, 0, 0)\n"
          ]
        }
      ]
    },
    {
      "cell_type": "code",
      "metadata": {
        "id": "1QtVCB48n0Hp",
        "outputId": "369f348c-92c7-4c5f-a750-2877f656ac3e"
      },
      "source": [
        "c2 = Circle(2, 1, 1)\n",
        "c2.radius, c2.x, c2.y"
      ],
      "execution_count": null,
      "outputs": [
        {
          "output_type": "stream",
          "name": "stdout",
          "text": [
            "(2, 1, 1)\n"
          ]
        }
      ]
    },
    {
      "cell_type": "code",
      "metadata": {
        "id": "UATYtv9Hn0Hq",
        "outputId": "641cf52c-e66f-412e-b0f3-92683e856837"
      },
      "source": [
        "c2.move(2, 2)\n",
        "c2.radius, c2.x, c2.y"
      ],
      "execution_count": null,
      "outputs": [
        {
          "output_type": "stream",
          "name": "stdout",
          "text": [
            "(2, 3, 3)\n"
          ]
        }
      ]
    },
    {
      "cell_type": "code",
      "metadata": {
        "id": "zwzEZss5n0Hq",
        "outputId": "56273b8c-30bf-4a8a-cb68-bc60e85802c3"
      },
      "source": [
        "Circle.all_circles"
      ],
      "execution_count": null,
      "outputs": [
        {
          "output_type": "stream",
          "name": "stdout",
          "text": [
            "[<__main__.Circle object at 0x7fa88835e9e8>, <__main__.Circle object at 0x7fa88835eb00>]\n"
          ]
        }
      ]
    },
    {
      "cell_type": "code",
      "metadata": {
        "id": "Ozveyvoyn0Hq",
        "outputId": "7d5fe614-c1c2-4de1-c34e-59477bd277f3"
      },
      "source": [
        "[c1, c2]"
      ],
      "execution_count": null,
      "outputs": [
        {
          "output_type": "stream",
          "name": "stdout",
          "text": [
            "[<__main__.Circle object at 0x7fa88835e9e8>, <__main__.Circle object at 0x7fa88835eb00>]\n"
          ]
        }
      ]
    },
    {
      "cell_type": "code",
      "metadata": {
        "id": "MfRRCeSdn0Hq",
        "outputId": "1110595f-57a0-498a-a207-c56a16132451"
      },
      "source": [
        "Circle.total_area()"
      ],
      "execution_count": null,
      "outputs": [
        {
          "output_type": "stream",
          "name": "stdout",
          "text": [
            "15.70795\n"
          ]
        }
      ]
    },
    {
      "cell_type": "code",
      "metadata": {
        "id": "b0BnanpOn0Hr",
        "outputId": "025cd6f3-850a-4f71-85bc-d0de7ab56385"
      },
      "source": [
        "c2.total_area()"
      ],
      "execution_count": null,
      "outputs": [
        {
          "output_type": "stream",
          "name": "stdout",
          "text": [
            "15.70795\n"
          ]
        }
      ]
    },
    {
      "cell_type": "code",
      "metadata": {
        "id": "N_Sxpk0qn0Hr",
        "outputId": "aefaf4dd-9588-4f4d-d36e-2a8787763a6b"
      },
      "source": [
        "Circle.circle_area(c1.radius)"
      ],
      "execution_count": null,
      "outputs": [
        {
          "output_type": "stream",
          "name": "stdout",
          "text": [
            "3.14159\n"
          ]
        }
      ]
    },
    {
      "cell_type": "code",
      "metadata": {
        "id": "1qAmN4KXn0Hr",
        "outputId": "1535fedc-fe0e-42fe-9da1-b38d32458ebb"
      },
      "source": [
        "c1.circle_area(c1.radius)"
      ],
      "execution_count": null,
      "outputs": [
        {
          "output_type": "stream",
          "name": "stdout",
          "text": [
            "3.14159\n"
          ]
        }
      ]
    },
    {
      "cell_type": "code",
      "metadata": {
        "id": "UiY_S0dXn0Hr",
        "outputId": "11debfd4-8eb8-4396-936b-a95ac616679f"
      },
      "source": [
        "class Mine:\n",
        "    def __init__(self):\n",
        "        self.x = 2\n",
        "        self.__y = 3                    #A\n",
        "    def print_y(self):\n",
        "        print(self.__y)"
      ],
      "execution_count": null,
      "outputs": [
        {
          "output_type": "stream",
          "name": "stdout",
          "text": []
        }
      ]
    },
    {
      "cell_type": "code",
      "metadata": {
        "id": "CojcMvQJn0Hs",
        "outputId": "f5cf7311-2bbf-4554-c96d-8b385950016f"
      },
      "source": [
        "m = Mine()"
      ],
      "execution_count": null,
      "outputs": [
        {
          "output_type": "stream",
          "name": "stdout",
          "text": []
        }
      ]
    },
    {
      "cell_type": "code",
      "metadata": {
        "id": "G1WM65fln0Hs",
        "outputId": "6c134b79-0563-4cc7-e2a9-7369025e928a"
      },
      "source": [
        "print(m.x)"
      ],
      "execution_count": null,
      "outputs": [
        {
          "output_type": "stream",
          "name": "stdout",
          "text": [
            "2\n"
          ]
        }
      ]
    },
    {
      "cell_type": "code",
      "metadata": {
        "id": "nML3xDCjn0Hs",
        "outputId": "8a15411a-e3aa-4c70-bb64-88c610576b6e"
      },
      "source": [
        "print(m.__y)"
      ],
      "execution_count": null,
      "outputs": [
        {
          "output_type": "stream",
          "name": "stdout",
          "text": [
            "Traceback (innermost last):\n",
            "  File \"<stdin>\", line 1, in ?\n",
            "AttributeError: 'Mine' object has no attribute '__y'\n"
          ]
        }
      ]
    },
    {
      "cell_type": "code",
      "metadata": {
        "id": "EKgxxWsTn0Ht",
        "outputId": "189a7f79-6544-421d-cfd9-78274185cacb"
      },
      "source": [
        "m.print_y()"
      ],
      "execution_count": null,
      "outputs": [
        {
          "output_type": "stream",
          "name": "stdout",
          "text": [
            "3\n"
          ]
        }
      ]
    },
    {
      "cell_type": "code",
      "metadata": {
        "id": "DZNDioOUn0Ht",
        "outputId": "effb797a-ca4b-49d2-c9bc-1d84546f4f67"
      },
      "source": [
        "dir(m)"
      ],
      "execution_count": null,
      "outputs": [
        {
          "output_type": "stream",
          "name": "stdout",
          "text": [
            "['_Mine__y', 'x', ...]\n"
          ]
        }
      ]
    },
    {
      "cell_type": "code",
      "metadata": {
        "id": "JjagDXIqn0Ht",
        "outputId": "707e394c-8f05-4242-a920-98b8f3bbd4d8"
      },
      "source": [
        "class Temperature:\n",
        "    def __init__(self):\n",
        "        self._temp_fahr = 0\n",
        "    @property\n",
        "    def temp(self):\n",
        "        return (self._temp_fahr - 32) * 5 / 9"
      ],
      "execution_count": null,
      "outputs": [
        {
          "output_type": "stream",
          "name": "stdout",
          "text": []
        }
      ]
    },
    {
      "cell_type": "code",
      "metadata": {
        "id": "BcXCT46Vn0Ht",
        "outputId": "82668c34-a73a-4f6c-aed0-8ad94699d6c0"
      },
      "source": [
        "@temp.setter\n",
        "    def temp(self, new_temp):\n",
        "        self._temp_fahr = new_temp * 9 / 5 + 32"
      ],
      "execution_count": null,
      "outputs": [
        {
          "output_type": "stream",
          "name": "stdout",
          "text": []
        }
      ]
    },
    {
      "cell_type": "code",
      "metadata": {
        "id": "BlLxnjYSn0Hu",
        "outputId": "4dfb75a4-129f-410f-c529-4b17f6ffe80d"
      },
      "source": [
        "t = Temperature()\n",
        "t._temp_fahr"
      ],
      "execution_count": null,
      "outputs": [
        {
          "output_type": "stream",
          "name": "stdout",
          "text": [
            "0\n"
          ]
        }
      ]
    },
    {
      "cell_type": "code",
      "metadata": {
        "id": "egKzMVtSn0Hu",
        "outputId": "cf627b61-1f71-40e5-ffa1-76a59f1f2cd3"
      },
      "source": [
        "t.temp"
      ],
      "execution_count": null,
      "outputs": [
        {
          "output_type": "stream",
          "name": "stdout",
          "text": [
            "-17.77777777777778\n",
            "\n"
          ]
        }
      ]
    },
    {
      "cell_type": "code",
      "metadata": {
        "id": "wBv3L-yVn0Hu",
        "outputId": "e08eeb5b-43d6-4dc0-b938-1e8e30ee7bd2"
      },
      "source": [
        "t.temp = 34      #A\n",
        "t._temp_fahr"
      ],
      "execution_count": null,
      "outputs": [
        {
          "output_type": "stream",
          "name": "stdout",
          "text": [
            "93.2\n",
            "\n"
          ]
        }
      ]
    },
    {
      "cell_type": "code",
      "metadata": {
        "id": "Uv4MN8DRn0Hu",
        "outputId": "a42701a9-b89e-404e-ad64-011ad4beb9e9"
      },
      "source": [
        "t.temp     #B"
      ],
      "execution_count": null,
      "outputs": [
        {
          "output_type": "stream",
          "name": "stdout",
          "text": [
            "34.0\n"
          ]
        }
      ]
    },
    {
      "cell_type": "code",
      "metadata": {
        "id": "cAuNqvj5n0Hv",
        "outputId": "aa0812f2-81a9-4c2c-f082-73ffd6475b0a"
      },
      "source": [
        "'''cs module: class scope demonstration module.'''\n",
        "mv =\"module variable: mv\"\n",
        "def mf():\n",
        "    return \"module function (can be used like a class method in \" \\\n",
        "           \"other languages): mf()\"\n",
        "class SC:\n",
        "    scv = \"superclass class variable: self.scv\"\n",
        "    __pscv = \"private superclass class variable: no access\"\n",
        "    def __init__(self):\n",
        "        self.siv = \"superclass instance variable: self.siv \" \\\n",
        "                   \"(but use SC.siv for assignment)\"\n",
        "        self.__psiv = \"private superclass instance variable: \" \\\n",
        "                       \"no access\"\n",
        "    def sm(self):\n",
        "        return \"superclass method: self.sm()\"\n",
        "    def __spm(self):\n",
        "        return \"superclass private method: no access\"\n",
        "class C(SC):\n",
        "    cv = \"class variable: self.cv (but use C.cv for assignment)\"\n",
        "    __pcv = \"class private variable: self.__pcv (but use C.__pcv \" \\\n",
        "            \"for assignment)\"\n",
        "    def __init__(self):\n",
        "        SC.__init__(self)\n",
        "        self.__piv = \"private instance variable: self.__piv\"\n",
        "    def m2(self):\n",
        "        return \"method: self.m2()\"\n",
        "    def __pm(self):\n",
        "        return \"private method: self.__pm()\"\n",
        "    def m(self, p=\"parameter: p\"):\n",
        "        lv = \"local variable: lv\"\n",
        "        self.iv = \"instance variable: self.xi\"\n",
        "        print(\"Access local, global and built-in \" \\\n",
        "              \"namespaces directly\")\n",
        "        print(\"local namespace:\", list(locals().keys()))\n",
        "        print(p)                                               #A\n",
        "\n",
        "        print(lv)                                         #B\n",
        "        print(\"global namespace:\", list(globals().keys()))\n",
        "\n",
        "        print(mv)                         #C\n",
        "\n",
        "        print(mf())                                              #D\n",
        "        print(\"Access instance, class, and superclass namespaces \" \\\n",
        "\n",
        "\n",
        "              \"through 'self'\")\n",
        "        print(\"Instance namespace:\",dir(self))\n",
        "\n",
        "        print(self.iv)                                       #E\n",
        "\n",
        "        print(self.__piv)                    #F\n",
        "\n",
        "        print(self.siv)                                         #G\n",
        "        print(\"Class namespace:\",dir(C))\n",
        "        print(self.cv)                                          #H\n",
        "\n",
        "        print(self.m2())                       #I\n",
        "\n",
        "        print(self.__pcv)                                   #J\n",
        "\n",
        "        print(self.__pm())                            #K\n",
        "        print(\"Superclass namespace:\",dir(SC))\n",
        "        print(self.sm())                        #L\n",
        "\n",
        "        print(self.scv)                #M"
      ],
      "execution_count": null,
      "outputs": [
        {
          "output_type": "stream",
          "name": "stdout",
          "text": []
        }
      ]
    },
    {
      "cell_type": "code",
      "metadata": {
        "id": "bbrJK4P1n0Hv",
        "outputId": "4930d062-b8f3-4f35-908d-b583568be13e"
      },
      "source": [
        "import cs\n",
        "c = cs.C()\n",
        "c.m()"
      ],
      "execution_count": null,
      "outputs": [
        {
          "output_type": "stream",
          "name": "stdout",
          "text": [
            "Access local, global and built-in namespaces directly\n",
            "local namespace: ['lv', 'p', 'self']\n",
            "parameter: p\n",
            "local variable: lv\n"
          ]
        }
      ]
    }
  ]
}