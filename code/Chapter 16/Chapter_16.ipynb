{
  "nbformat": 4,
  "nbformat_minor": 0,
  "metadata": {
    "colab": {
      "provenance": [],
      "include_colab_link": true
    },
    "kernelspec": {
      "name": "python3",
      "display_name": "Python 3"
    },
    "language_info": {
      "name": "python"
    }
  },
  "cells": [
    {
      "cell_type": "markdown",
      "metadata": {
        "id": "view-in-github",
        "colab_type": "text"
      },
      "source": [
        "<a href=\"https://colab.research.google.com/github/nceder/qpb4e/blob/main/code/Chapter%2016/Chapter_16.ipynb\" target=\"_parent\"><img src=\"https://colab.research.google.com/assets/colab-badge.svg\" alt=\"Open In Colab\"/></a>"
      ]
    },
    {
      "cell_type": "code",
      "metadata": {
        "id": "6rOG-8nYrAfv",
        "outputId": "5a2835f5-b102-4580-8935-8968911f4520"
      },
      "source": [
        "import re\n",
        "regexp = re.compile(\"hello\")\n",
        "count = 0\n",
        "file = open(\"textfile\", 'r')\n",
        "for line in file.readlines():\n",
        "    if regexp.search(line):\n",
        "        count = count + 1\n",
        "file.close()\n",
        "print(count)"
      ],
      "execution_count": null,
      "outputs": [
        {
          "output_type": "stream",
          "name": "stdout",
          "text": []
        }
      ]
    },
    {
      "cell_type": "code",
      "metadata": {
        "id": "6QIpxWdLrAfw",
        "outputId": "a93353db-45a3-4389-e0fc-ac53a52d6aa0"
      },
      "source": [
        "r\"Hello\" == \"Hello\""
      ],
      "execution_count": null,
      "outputs": [
        {
          "output_type": "stream",
          "name": "stdout",
          "text": [
            "True\n"
          ]
        }
      ]
    },
    {
      "cell_type": "code",
      "metadata": {
        "id": "SdwfViT5rAfx",
        "outputId": "4cd48549-3d1b-4197-de65-79678919f68d"
      },
      "source": [
        "r\"\\the\" == \"\\\\the\""
      ],
      "execution_count": null,
      "outputs": [
        {
          "output_type": "stream",
          "name": "stdout",
          "text": [
            "True\n"
          ]
        }
      ]
    },
    {
      "cell_type": "code",
      "metadata": {
        "id": "oTFmlYxprAfx",
        "outputId": "aec5338c-e6c2-4603-da1d-aa6f675d5952"
      },
      "source": [
        "r\"\\the\" == \"\\the\""
      ],
      "execution_count": null,
      "outputs": [
        {
          "output_type": "stream",
          "name": "stdout",
          "text": [
            "False\n"
          ]
        }
      ]
    },
    {
      "cell_type": "code",
      "metadata": {
        "id": "PzVfZ0mFrAfx",
        "outputId": "4bbcc993-b479-4f84-b652-bb7d267b9925"
      },
      "source": [
        "print(r\"\\the\")"
      ],
      "execution_count": null,
      "outputs": [
        {
          "output_type": "stream",
          "name": "stdout",
          "text": [
            "\\the\n"
          ]
        }
      ]
    },
    {
      "cell_type": "code",
      "metadata": {
        "id": "Ztx09Gi4rAfx",
        "outputId": "e45bb45c-60b3-4fe4-cb9c-7e68daf1c449"
      },
      "source": [
        "print(\"\\the\")"
      ],
      "execution_count": null,
      "outputs": [
        {
          "output_type": "stream",
          "name": "stdout",
          "text": [
            "        he\n"
          ]
        }
      ]
    },
    {
      "cell_type": "code",
      "metadata": {
        "id": "q735tm1OrAfx",
        "outputId": "15fe9e31-011e-45da-b6c4-3a34f0ba1434"
      },
      "source": [
        "import re\n",
        "regexp = re.compile(r\"[-a-zA-Z]+,\"                 #A\n",
        "                    r\" [-a-zA-Z]+\"                            #B\n",
        "                    r\"( [-a-zA-Z]+)?\"                         #C\n",
        "                    r\": (\\d{3}-)?\\d{3}-\\d{4}\"      #D\n",
        "                   )\n",
        "file = open(\"textfile\", 'r')\n",
        "for line in file.readlines():\n",
        "    if regexp.search(line):\n",
        "        print(\"Yeah, I found a line with a name and number. So what?\")\n",
        "file.close()"
      ],
      "execution_count": null,
      "outputs": [
        {
          "output_type": "stream",
          "name": "stdout",
          "text": []
        }
      ]
    },
    {
      "cell_type": "code",
      "metadata": {
        "id": "A0o5Vm_7rAfx",
        "outputId": "54298314-36f4-4149-885e-d82fd54d30cc"
      },
      "source": [
        "import re\n",
        "regexp = re.compile(r\"(?P<last>[-a-zA-Z]+),\"                #A\n",
        "                    r\" (?P<first>[-a-zA-Z]+)\"               #B\n",
        "                    r\"( (?P<middle>([-a-zA-Z]+)))?\"           #C\n",
        "                    r\": (?P<phone>(\\(\\d{3}-)?\\d{3}-\\d{4})\"    #D\n",
        "                   )\n",
        "file = open(\"textfile\", 'r')\n",
        "for line in file.readlines():\n",
        "    result = regexp.search(line)\n",
        "    if result == None:\n",
        "        print(\"Oops, I don't think this is a record\")\n",
        "    else:\n",
        "        lastname = result.group('last')\n",
        "        firstname = result.group('first')\n",
        "        middlename = result.group('middle')\n",
        "        if middlename == None:\n",
        "            \tmiddlename = \"\"\n",
        "        phonenumber = result.group('phone')\n",
        "    print('Name:', firstname, middlename, lastname,' Number:', phonenumber)\n",
        "file.close()"
      ],
      "execution_count": null,
      "outputs": [
        {
          "output_type": "stream",
          "name": "stdout",
          "text": []
        }
      ]
    },
    {
      "cell_type": "code",
      "metadata": {
        "id": "hIAPoPnnrAfy",
        "outputId": "0165eb78-61ec-4be5-874e-c66f88b4444c"
      },
      "source": [
        "import re\n",
        "string = \"If the the problem is textual, use the the re module\"\n",
        "pattern = r\"the the\"\n",
        "regexp = re.compile(pattern)\n",
        "regexp.sub(\"the\", string)"
      ],
      "execution_count": null,
      "outputs": [
        {
          "output_type": "stream",
          "name": "stdout",
          "text": [
            "'If the problem is textual, use the re module'\n"
          ]
        }
      ]
    },
    {
      "cell_type": "code",
      "metadata": {
        "id": "Rjbfa-wJrAfy",
        "outputId": "82fc022b-8654-491a-d960-b49abd9f38c6"
      },
      "source": [
        "import re\n",
        "int_string = \"1 2 3 4 5\"\n",
        "def int_match_to_float(match_obj):\n",
        "    return(match_obj.group('num') + \".0\")\n",
        "\n",
        "pattern = r\"(?P<num>[0-9]+)\"\n",
        "regexp = re.compile(pattern)\n",
        "regexp.sub(int_match_to_float, int_string)"
      ],
      "execution_count": null,
      "outputs": [
        {
          "output_type": "stream",
          "name": "stdout",
          "text": [
            "'1.0 2.0 3.0 4.0 5.0'\n"
          ]
        }
      ]
    }
  ]
}