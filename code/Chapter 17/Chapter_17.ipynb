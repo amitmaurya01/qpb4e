{
  "nbformat": 4,
  "nbformat_minor": 0,
  "metadata": {
    "colab": {
      "provenance": [],
      "include_colab_link": true
    },
    "kernelspec": {
      "name": "python3",
      "display_name": "Python 3"
    },
    "language_info": {
      "name": "python"
    }
  },
  "cells": [
    {
      "cell_type": "markdown",
      "metadata": {
        "id": "view-in-github",
        "colab_type": "text"
      },
      "source": [
        "<a href=\"https://colab.research.google.com/github/nceder/qpb4e/blob/main/code/Chapter%2017/Chapter_17.ipynb\" target=\"_parent\"><img src=\"https://colab.research.google.com/assets/colab-badge.svg\" alt=\"Open In Colab\"/></a>"
      ]
    },
    {
      "cell_type": "markdown",
      "source": [
        "# 17 Data types as objects"
      ],
      "metadata": {
        "id": "DtyhVMydZqLT"
      }
    },
    {
      "cell_type": "markdown",
      "source": [
        "# 17.1 Types are objects, too"
      ],
      "metadata": {
        "id": "qbo-UASVZuRD"
      }
    },
    {
      "cell_type": "code",
      "metadata": {
        "id": "02s0Oda5ZCV4",
        "outputId": "52c6ab0c-da4b-4a92-c956-2526f752646b"
      },
      "source": [
        "type(5)"
      ],
      "execution_count": null,
      "outputs": [
        {
          "output_type": "stream",
          "name": "stdout",
          "text": [
            "<class 'int'>\n"
          ]
        }
      ]
    },
    {
      "cell_type": "code",
      "metadata": {
        "id": "HhNE4wLrZCV9",
        "outputId": "d6a80605-e4f8-4b81-9f3e-9256d7a1658c"
      },
      "source": [
        "type(['hello', 'goodbye'])"
      ],
      "execution_count": null,
      "outputs": [
        {
          "output_type": "stream",
          "name": "stdout",
          "text": [
            "<class 'list'>\n"
          ]
        }
      ]
    },
    {
      "cell_type": "code",
      "metadata": {
        "id": "4QomHdQJZCWB",
        "outputId": "2c1aa9d4-0c9c-415b-89f4-f7861112425c",
        "colab": {
          "base_uri": "https://localhost:8080/"
        }
      },
      "source": [
        "type_result = type(5)\n",
        "type(type_result)"
      ],
      "execution_count": 1,
      "outputs": [
        {
          "output_type": "execute_result",
          "data": {
            "text/plain": [
              "type"
            ]
          },
          "metadata": {},
          "execution_count": 1
        }
      ]
    },
    {
      "cell_type": "markdown",
      "source": [
        "# 17.2 Using types"
      ],
      "metadata": {
        "id": "Lhfs2nAxaBAx"
      }
    },
    {
      "cell_type": "code",
      "metadata": {
        "id": "rUza_usLZCWC",
        "outputId": "475fec52-afbe-487b-bdb9-bcae03a058b4"
      },
      "source": [
        "type(\"Hello\") == type(\"Goodbye\")"
      ],
      "execution_count": null,
      "outputs": [
        {
          "output_type": "stream",
          "name": "stdout",
          "text": [
            "True\n"
          ]
        }
      ]
    },
    {
      "cell_type": "code",
      "metadata": {
        "id": "A0B2El77ZCWD",
        "outputId": "e93e7485-c7f2-4fa8-f3c2-ea02c24d13eb"
      },
      "source": [
        "type(\"Hello\") == type(5)"
      ],
      "execution_count": null,
      "outputs": [
        {
          "output_type": "stream",
          "name": "stdout",
          "text": [
            "False\n"
          ]
        }
      ]
    },
    {
      "cell_type": "markdown",
      "source": [
        "# 17.3 Types and user-defined classes"
      ],
      "metadata": {
        "id": "B7jnB7sZafjD"
      }
    },
    {
      "cell_type": "code",
      "metadata": {
        "id": "Cf4l2fb3ZCWD",
        "outputId": "eaa81d12-4d1e-4380-fcda-933cebe00ff5"
      },
      "source": [
        "class A:\n",
        "    pass\n",
        "\n",
        "class B(A):\n",
        "    pass\n"
      ],
      "execution_count": null,
      "outputs": [
        {
          "output_type": "stream",
          "name": "stdout",
          "text": []
        }
      ]
    },
    {
      "cell_type": "code",
      "metadata": {
        "id": "wDBdW8EFZCWJ",
        "outputId": "f6675ffe-2165-40a8-e77e-9554ac707b24"
      },
      "source": [
        "b = B()\n",
        "type(b)"
      ],
      "execution_count": null,
      "outputs": [
        {
          "output_type": "stream",
          "name": "stdout",
          "text": [
            "<class '__main__.B'>\n"
          ]
        }
      ]
    },
    {
      "cell_type": "code",
      "metadata": {
        "id": "4ympjMW9ZCWK",
        "outputId": "33c1825f-1db7-4299-84d6-62870ad018fc"
      },
      "source": [
        "b.__class__"
      ],
      "execution_count": null,
      "outputs": [
        {
          "output_type": "stream",
          "name": "stdout",
          "text": [
            "<class '__main__.B'>\n"
          ]
        }
      ]
    },
    {
      "cell_type": "code",
      "metadata": {
        "id": "i2O-0k7nZCWL",
        "outputId": "34dbe763-fd74-468c-d69b-612f2b3cfa9a"
      },
      "source": [
        "b_class = b.__class__\n",
        "b_class == B"
      ],
      "execution_count": null,
      "outputs": [
        {
          "output_type": "stream",
          "name": "stdout",
          "text": [
            "True\n"
          ]
        }
      ]
    },
    {
      "cell_type": "code",
      "metadata": {
        "id": "7g8cFIQaZCWO",
        "outputId": "ae46dd9a-4185-41a1-9a12-64ba2fa4b81b"
      },
      "source": [
        "b_class.__name__"
      ],
      "execution_count": null,
      "outputs": [
        {
          "output_type": "stream",
          "name": "stdout",
          "text": [
            "'B'\n"
          ]
        }
      ]
    },
    {
      "cell_type": "code",
      "metadata": {
        "id": "l5fmQKvpZCWP",
        "outputId": "004413bc-0969-49ba-97f8-a3fd9aed67f1"
      },
      "source": [
        "b_class.__bases__"
      ],
      "execution_count": null,
      "outputs": [
        {
          "output_type": "stream",
          "name": "stdout",
          "text": [
            "(<class '__main__.A'>,)\n"
          ]
        }
      ]
    },
    {
      "cell_type": "code",
      "metadata": {
        "id": "VSjkbtuUZCWQ",
        "outputId": "be611fe3-c934-487b-c488-d7f0efcd8ec2"
      },
      "source": [
        "class C:\n",
        "    pass\n",
        "\n",
        "class D:\n",
        "    pass\n",
        "\n",
        "class E(D):\n",
        "    pass\n",
        "\n",
        "x = 12\n",
        "c = C()\n",
        "d = D()\n",
        "e = E()\n",
        "isinstance(x, E)"
      ],
      "execution_count": null,
      "outputs": [
        {
          "output_type": "stream",
          "name": "stdout",
          "text": [
            "False\n"
          ]
        }
      ]
    },
    {
      "cell_type": "code",
      "metadata": {
        "id": "st8h4CvXZCWR",
        "outputId": "2f320ca6-8d50-445b-e17e-c9f68807d0ce"
      },
      "source": [
        "isinstance(c, E)             #A"
      ],
      "execution_count": null,
      "outputs": [
        {
          "output_type": "stream",
          "name": "stdout",
          "text": [
            "False\n"
          ]
        }
      ]
    },
    {
      "cell_type": "code",
      "metadata": {
        "id": "WFLGxVuRZCWS",
        "outputId": "e298df8b-0e8b-4b5b-f1da-2fa55c835290"
      },
      "source": [
        "isinstance(e, E)"
      ],
      "execution_count": null,
      "outputs": [
        {
          "output_type": "stream",
          "name": "stdout",
          "text": [
            "True\n"
          ]
        }
      ]
    },
    {
      "cell_type": "code",
      "metadata": {
        "id": "XsMGGptxZCWT",
        "outputId": "fe61abe2-907c-4907-b918-a186a6731f19"
      },
      "source": [
        "isinstance(e, D)             #B"
      ],
      "execution_count": null,
      "outputs": [
        {
          "output_type": "stream",
          "name": "stdout",
          "text": [
            "True\n"
          ]
        }
      ]
    },
    {
      "cell_type": "code",
      "metadata": {
        "id": "A9hMr9uqZCWT",
        "outputId": "946aa6b0-c0ed-4f75-8148-c56508712345"
      },
      "source": [
        "isinstance(d, E)                #C"
      ],
      "execution_count": null,
      "outputs": [
        {
          "output_type": "stream",
          "name": "stdout",
          "text": [
            "False\n"
          ]
        }
      ]
    },
    {
      "cell_type": "code",
      "metadata": {
        "id": "7DZxlt5eZCWU",
        "outputId": "a731c9ef-b489-45c2-dc86-66091da9eae3"
      },
      "source": [
        "y = 12\n",
        "isinstance(y, type(5))             #D"
      ],
      "execution_count": null,
      "outputs": [
        {
          "output_type": "stream",
          "name": "stdout",
          "text": [
            "True\n"
          ]
        }
      ]
    },
    {
      "cell_type": "code",
      "metadata": {
        "id": "X7tsVWnKZCWX",
        "outputId": "479a2d2b-b0f7-4874-93e4-2d3600d6a467"
      },
      "source": [
        "issubclass(C, D)"
      ],
      "execution_count": null,
      "outputs": [
        {
          "output_type": "stream",
          "name": "stdout",
          "text": [
            "False\n"
          ]
        }
      ]
    },
    {
      "cell_type": "code",
      "metadata": {
        "id": "jkgYoZm0ZCWY",
        "outputId": "7599fed6-5292-4056-c6c6-3454330e3b51"
      },
      "source": [
        "issubclass(E, D)"
      ],
      "execution_count": null,
      "outputs": [
        {
          "output_type": "stream",
          "name": "stdout",
          "text": [
            "True\n"
          ]
        }
      ]
    },
    {
      "cell_type": "code",
      "metadata": {
        "id": "bxoxkRffZCWY",
        "outputId": "432e2276-827a-415b-b163-33c69a4e2b42"
      },
      "source": [
        "issubclass(D, D)           #E"
      ],
      "execution_count": null,
      "outputs": [
        {
          "output_type": "stream",
          "name": "stdout",
          "text": [
            "True\n"
          ]
        }
      ]
    },
    {
      "cell_type": "code",
      "metadata": {
        "id": "FvAKpQoHZCWY",
        "outputId": "1491c7ef-2bce-4230-c3d6-b1f19ba13e72"
      },
      "source": [
        "issubclass(e.__class__, D)"
      ],
      "execution_count": null,
      "outputs": [
        {
          "output_type": "stream",
          "name": "stdout",
          "text": [
            "True\n"
          ]
        }
      ]
    },
    {
      "cell_type": "markdown",
      "source": [
        "# 17.5 What is a special method attribute?"
      ],
      "metadata": {
        "id": "14hmijhHaqNp"
      }
    },
    {
      "cell_type": "markdown",
      "source": [
        "### Listing 17.1 File color_module.py"
      ],
      "metadata": {
        "id": "zWzhvXeQatdv"
      }
    },
    {
      "cell_type": "code",
      "metadata": {
        "id": "x5ayVBN4ZCWZ",
        "outputId": "51e548fa-d46e-4f71-835a-4a2421a2c6fb"
      },
      "source": [
        "# Listing 17.1 File color_module.py\n",
        "\n",
        "class Color:\n",
        "    def __init__(self, red, green, blue):\n",
        "        self._red = red\n",
        "        self._green = green\n",
        "        self._blue = blue\n",
        "    def __str__(self):\n",
        "        return \"Color: R={0:d}, G={1:d}, B={2:d}\".format (self._red,\n",
        "                                             self._green, self._blue)"
      ],
      "execution_count": null,
      "outputs": [
        {
          "output_type": "stream",
          "name": "stdout",
          "text": []
        }
      ]
    },
    {
      "cell_type": "code",
      "metadata": {
        "id": "SZI8UtNeZCWa",
        "outputId": "30e76b4a-2ddb-42bd-803b-7530dff26543"
      },
      "source": [
        "from color_module import Color\n",
        "c = Color(15, 35, 3)"
      ],
      "execution_count": null,
      "outputs": [
        {
          "output_type": "stream",
          "name": "stdout",
          "text": []
        }
      ]
    },
    {
      "cell_type": "code",
      "metadata": {
        "id": "VD2FAJ8lZCWc",
        "outputId": "0e54c1f2-ef3a-41eb-f21c-1234317c8f9a"
      },
      "source": [
        "print(c)"
      ],
      "execution_count": null,
      "outputs": [
        {
          "output_type": "stream",
          "name": "stdout",
          "text": [
            "Color: R=15, G=35, B=3\n"
          ]
        }
      ]
    },
    {
      "cell_type": "markdown",
      "source": [
        "# 17.7 The `__getitem__` special method attribute"
      ],
      "metadata": {
        "id": "1SEC9NMKa3qG"
      }
    },
    {
      "cell_type": "code",
      "source": [
        "class LineReader:\n",
        "    def __init__(self, filename):\n",
        "        self.fileobject = open(filename, 'r')              #A\n",
        "    def __getitem__(self, index):\n",
        "        line = self.fileobject.readline()                  #B\n",
        "        if line == \"\":                                #C\n",
        "            \tself.fileobject.close()      #D\n",
        "            raise IndexError         #E\n",
        "\n",
        "        else:\n",
        "            return line.split(\"::\")[:2]                    #F\n"
      ],
      "metadata": {
        "id": "5lGIk9RybSuv"
      },
      "execution_count": null,
      "outputs": []
    },
    {
      "cell_type": "markdown",
      "source": [
        "# 17.8 Giving an object full list capability"
      ],
      "metadata": {
        "id": "2bA10U1MbZdw"
      }
    },
    {
      "cell_type": "code",
      "metadata": {
        "id": "v72QEH4HZCWc",
        "outputId": "cef7ee5e-f742-48ef-fccb-3eabe992434b"
      },
      "source": [
        "class TypedList:\n",
        "    def __init__(self, example_element, initial_list=[]):\n",
        "        self.type = type(example_element)                     #A\n",
        "        if not isinstance(initial_list, list):\n",
        "            raise TypeError(\"Second argument of TypedList must \"\n",
        "                          \"be a list.\")\n",
        "        for element in initial_list:\n",
        "                if not isinstance(element, self.type):\n",
        "                    raise TypeError(\"Attempted to add an element of \"\n",
        "                                  \"incorrect type to a typed list.\")\n",
        "        self.elements = initial_list[:]"
      ],
      "execution_count": null,
      "outputs": [
        {
          "output_type": "stream",
          "name": "stdout",
          "text": []
        }
      ]
    },
    {
      "cell_type": "code",
      "metadata": {
        "id": "JTUjXTl6ZCWd",
        "outputId": "efd94a50-94c4-4e0a-cf85-c1201abcd27b"
      },
      "source": [
        "class TypedList:\n",
        "    def __init__(self, example_element, initial_list=[]):\n",
        "        self.type = type(example_element)\n",
        "        if not isinstance(initial_list, list):\n",
        "            raise TypeError(\"Second argument of TypedList must \"\n",
        "                            \"be a list.\")\n",
        "        for element in initial_list:\n",
        "            self.__check(element)\n",
        "        self.elements = initial_list[:]\n",
        "    def __check(self, element):\n",
        "        if type(element) != self.type:\n",
        "            raise TypeError(\"Attempted to add an element of \"\n",
        "                            \"incorrect type to a typed list.\")\n",
        "    def __setitem__(self, i, element):\n",
        "        self.__check(element)\n",
        "        self.elements[i] = element\n",
        "    def __getitem__(self, i):\n",
        "        return self.elements[i]"
      ],
      "execution_count": null,
      "outputs": [
        {
          "output_type": "stream",
          "name": "stdout",
          "text": []
        }
      ]
    },
    {
      "cell_type": "code",
      "metadata": {
        "id": "LiZoKb6lZCWe",
        "outputId": "75a4cf80-c5c5-4150-c255-6b93cbbb051d"
      },
      "source": [
        "x = TypedList(\"\", 5 * [\"\"])\n",
        "x[2] = \"Hello\"\n",
        "x[3] = \"There\"\n",
        "print(x[2] + ' ' + x[3])"
      ],
      "execution_count": null,
      "outputs": [
        {
          "output_type": "stream",
          "name": "stdout",
          "text": [
            "Hello There\n"
          ]
        }
      ]
    },
    {
      "cell_type": "code",
      "metadata": {
        "id": "bNCiKR14ZCWf",
        "outputId": "d0a77851-8399-47db-dd51-cbc484840c3e"
      },
      "source": [
        "a, b, c, d, e = x\n",
        "a, b, c, d"
      ],
      "execution_count": null,
      "outputs": [
        {
          "output_type": "stream",
          "name": "stdout",
          "text": [
            "('', '', 'Hello', 'There')\n"
          ]
        }
      ]
    },
    {
      "cell_type": "markdown",
      "source": [
        "## 17.9.1 Subclassing list"
      ],
      "metadata": {
        "id": "23CoGTIgbjot"
      }
    },
    {
      "cell_type": "code",
      "metadata": {
        "id": "NjKaEHORZCWg",
        "outputId": "9198eb7e-aecf-4096-a251-3a7e1632b582"
      },
      "source": [
        "class TypedListList(list):\n",
        "    def __init__(self, example_element, initial_list=[]):\n",
        "        self.type = type(example_element)\n",
        "        if not isinstance(initial_list, list):\n",
        "            raise TypeError(\"Second argument of TypedList must \"\n",
        "                            \"be a list.\")\n",
        "        for element in initial_list:\n",
        "            self.__check(element)\n",
        "        super().__init__(initial_list)\n",
        "\n",
        "    def __check(self, element):\n",
        "        if type(element) != self.type:\n",
        "            raise TypeError(\"Attempted to add an element of \"\n",
        "                            \"incorrect type to a typed list.\")\n",
        "\n",
        "    def __setitem__(self, i, element):\n",
        "        self.__check(element)\n",
        "        super().__setitem__(i, element)"
      ],
      "execution_count": null,
      "outputs": [
        {
          "output_type": "stream",
          "name": "stdout",
          "text": []
        }
      ]
    },
    {
      "cell_type": "code",
      "metadata": {
        "id": "ivIfaTavZCWh",
        "outputId": "9d4e4e0a-c4b5-486e-f0e5-815df7aaa690"
      },
      "source": [
        "x = TypedListList(\"\", 5 * [\"\"])\n",
        "x[2] = \"Hello\"\n",
        "x[3] = \"There\"\n",
        "print(x[2] + ' ' + x[3])"
      ],
      "execution_count": null,
      "outputs": [
        {
          "output_type": "stream",
          "name": "stdout",
          "text": [
            "Hello There\n"
          ]
        }
      ]
    },
    {
      "cell_type": "code",
      "metadata": {
        "id": "uYy5FrOJZCWh",
        "outputId": "b713b0e0-8488-40a1-fe28-0a135cc06aa6"
      },
      "source": [
        "a, b, c, d, e = x\n",
        "a, b, c, d"
      ],
      "execution_count": null,
      "outputs": [
        {
          "output_type": "stream",
          "name": "stdout",
          "text": [
            "('', '', 'Hello', 'There')\n"
          ]
        }
      ]
    },
    {
      "cell_type": "code",
      "metadata": {
        "id": "CbrdEi8kZCWi",
        "outputId": "db84518b-2184-41ff-da3f-b9598667006c"
      },
      "source": [
        "x[:]"
      ],
      "execution_count": null,
      "outputs": [
        {
          "output_type": "stream",
          "name": "stdout",
          "text": [
            "['', '', 'Hello', 'There', '']\n"
          ]
        }
      ]
    },
    {
      "cell_type": "code",
      "metadata": {
        "id": "hQaT-pr0ZCWj",
        "outputId": "84ba9f0e-0fd4-478e-897c-686b06a09c56"
      },
      "source": [
        "del x[2]\n",
        "x[:]"
      ],
      "execution_count": null,
      "outputs": [
        {
          "output_type": "stream",
          "name": "stdout",
          "text": [
            "['', '', 'There', '']\n"
          ]
        }
      ]
    },
    {
      "cell_type": "code",
      "metadata": {
        "id": "GKRPScrzZCWj",
        "outputId": "edb087cb-acac-45ba-c54c-094652e5d3a3"
      },
      "source": [
        "x.sort()\n",
        "x[:]"
      ],
      "execution_count": null,
      "outputs": [
        {
          "output_type": "stream",
          "name": "stdout",
          "text": [
            "['', '', '', 'There']\n"
          ]
        }
      ]
    },
    {
      "cell_type": "markdown",
      "source": [
        "## 17.9.2 Subclassing UserList"
      ],
      "metadata": {
        "id": "PMHdAjZtb0OF"
      }
    },
    {
      "cell_type": "code",
      "metadata": {
        "id": "K92YwdpGZCWk",
        "outputId": "894b6f6a-6f30-4209-acdc-d435c0c385d9"
      },
      "source": [
        "from collections import UserList\n",
        "class TypedUserList(UserList):\n",
        "    def __init__(self, example_element, initial_list=[]):\n",
        "        self.type = type(example_element)\n",
        "        if not isinstance(initial_list, list):\n",
        "            raise TypeError(\"Second argument of TypedList must \"\n",
        "                            \"be a list.\")\n",
        "        for element in initial_list:\n",
        "            self.__check(element)\n",
        "        super().__init__(initial_list)\n",
        "\n",
        "    def __check(self, element):\n",
        "        if type(element) != self.type:\n",
        "            raise TypeError(\"Attempted to add an element of \"\n",
        "                            \"incorrect type to a typed list.\")\n",
        "    def __setitem__(self, i, element):\n",
        "        self.__check(element)\n",
        "        self.data[i] = element\n",
        "    def __getitem__(self, i):\n",
        "        return self.data[i]"
      ],
      "execution_count": null,
      "outputs": [
        {
          "output_type": "stream",
          "name": "stdout",
          "text": []
        }
      ]
    },
    {
      "cell_type": "code",
      "metadata": {
        "id": "_m8knXi3ZCWl",
        "outputId": "c65d76ec-70f8-412d-c7f4-d22a97a17bc2"
      },
      "source": [
        "x = TypedUserList(\"\", 5 * [\"\"])\n",
        "x[2] = \"Hello\"\n",
        "x[3] = \"There\"\n",
        "print(x[2] + ' ' + x[3])"
      ],
      "execution_count": null,
      "outputs": [
        {
          "output_type": "stream",
          "name": "stdout",
          "text": [
            "Hello There\n"
          ]
        }
      ]
    },
    {
      "cell_type": "code",
      "metadata": {
        "id": "gj2wLRj3ZCWl",
        "outputId": "388c471d-eefb-43d8-a78f-34215a3a1be1"
      },
      "source": [
        "a, b, c, d, e = x\n",
        "a, b, c, d"
      ],
      "execution_count": null,
      "outputs": [
        {
          "output_type": "stream",
          "name": "stdout",
          "text": [
            "('', '', 'Hello', 'There')\n"
          ]
        }
      ]
    },
    {
      "cell_type": "code",
      "metadata": {
        "id": "vDCFSO66ZCWm",
        "outputId": "28a89da5-71d2-42a6-e229-c377fcebc953"
      },
      "source": [
        "x[:]"
      ],
      "execution_count": null,
      "outputs": [
        {
          "output_type": "stream",
          "name": "stdout",
          "text": [
            "['', '', 'Hello', 'There', '']\n"
          ]
        }
      ]
    },
    {
      "cell_type": "code",
      "metadata": {
        "id": "jSafP6u1ZCWm",
        "outputId": "2fe5b04e-f7ee-478e-c8ef-299dc2a7594b"
      },
      "source": [
        "del x[2]\n",
        "x[:]"
      ],
      "execution_count": null,
      "outputs": [
        {
          "output_type": "stream",
          "name": "stdout",
          "text": [
            "['', '', 'There', '']\n"
          ]
        }
      ]
    },
    {
      "cell_type": "code",
      "metadata": {
        "id": "cZMkerJMZCWp",
        "outputId": "cb4cb32d-6d33-4860-fe29-918a42fc0284"
      },
      "source": [
        "x.sort()\n",
        "x[:]"
      ],
      "execution_count": null,
      "outputs": [
        {
          "output_type": "stream",
          "name": "stdout",
          "text": [
            "['', '', '', 'There']\n"
          ]
        }
      ]
    }
  ]
}