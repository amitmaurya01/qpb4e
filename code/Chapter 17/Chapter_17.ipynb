{
  "nbformat": 4,
  "nbformat_minor": 0,
  "metadata": {
    "colab": {
      "provenance": [],
      "include_colab_link": true
    },
    "kernelspec": {
      "name": "python3",
      "display_name": "Python 3"
    },
    "language_info": {
      "name": "python"
    }
  },
  "cells": [
    {
      "cell_type": "markdown",
      "metadata": {
        "id": "view-in-github",
        "colab_type": "text"
      },
      "source": [
        "<a href=\"https://colab.research.google.com/github/nceder/qpb4e/blob/main/code/Chapter%2017/Chapter_17.ipynb\" target=\"_parent\"><img src=\"https://colab.research.google.com/assets/colab-badge.svg\" alt=\"Open In Colab\"/></a>"
      ]
    },
    {
      "cell_type": "markdown",
      "source": [
        "# 17 Data types as objects"
      ],
      "metadata": {
        "id": "DtyhVMydZqLT"
      }
    },
    {
      "cell_type": "markdown",
      "source": [
        "# 17.1 Types are objects, too"
      ],
      "metadata": {
        "id": "qbo-UASVZuRD"
      }
    },
    {
      "cell_type": "code",
      "metadata": {
        "id": "02s0Oda5ZCV4",
        "outputId": "52c6ab0c-da4b-4a92-c956-2526f752646b"
      },
      "source": [
        "type(5)"
      ],
      "execution_count": null,
      "outputs": [
        {
          "output_type": "stream",
          "name": "stdout",
          "text": [
            "<class 'int'>\n"
          ]
        }
      ]
    },
    {
      "cell_type": "code",
      "metadata": {
        "id": "HhNE4wLrZCV9",
        "outputId": "d6a80605-e4f8-4b81-9f3e-9256d7a1658c"
      },
      "source": [
        "type(['hello', 'goodbye'])"
      ],
      "execution_count": null,
      "outputs": [
        {
          "output_type": "stream",
          "name": "stdout",
          "text": [
            "<class 'list'>\n"
          ]
        }
      ]
    },
    {
      "cell_type": "code",
      "metadata": {
        "id": "4QomHdQJZCWB",
        "outputId": "2c1aa9d4-0c9c-415b-89f4-f7861112425c",
        "colab": {
          "base_uri": "https://localhost:8080/"
        }
      },
      "source": [
        "type_result = type(5)\n",
        "type(type_result)"
      ],
      "execution_count": null,
      "outputs": [
        {
          "output_type": "execute_result",
          "data": {
            "text/plain": [
              "type"
            ]
          },
          "metadata": {},
          "execution_count": 1
        }
      ]
    },
    {
      "cell_type": "markdown",
      "source": [
        "# 17.2 Using types"
      ],
      "metadata": {
        "id": "Lhfs2nAxaBAx"
      }
    },
    {
      "cell_type": "code",
      "metadata": {
        "id": "rUza_usLZCWC",
        "outputId": "475fec52-afbe-487b-bdb9-bcae03a058b4"
      },
      "source": [
        "type(\"Hello\") == type(\"Goodbye\")"
      ],
      "execution_count": null,
      "outputs": [
        {
          "output_type": "stream",
          "name": "stdout",
          "text": [
            "True\n"
          ]
        }
      ]
    },
    {
      "cell_type": "code",
      "metadata": {
        "id": "A0B2El77ZCWD",
        "outputId": "e93e7485-c7f2-4fa8-f3c2-ea02c24d13eb"
      },
      "source": [
        "type(\"Hello\") == type(5)"
      ],
      "execution_count": null,
      "outputs": [
        {
          "output_type": "stream",
          "name": "stdout",
          "text": [
            "False\n"
          ]
        }
      ]
    },
    {
      "cell_type": "markdown",
      "source": [
        "# 17.3 Types and user-defined classes"
      ],
      "metadata": {
        "id": "B7jnB7sZafjD"
      }
    },
    {
      "cell_type": "code",
      "metadata": {
        "id": "Cf4l2fb3ZCWD",
        "outputId": "eaa81d12-4d1e-4380-fcda-933cebe00ff5"
      },
      "source": [
        "class A:\n",
        "    pass\n",
        "\n",
        "class B(A):\n",
        "    pass\n"
      ],
      "execution_count": null,
      "outputs": [
        {
          "output_type": "stream",
          "name": "stdout",
          "text": []
        }
      ]
    },
    {
      "cell_type": "code",
      "metadata": {
        "id": "wDBdW8EFZCWJ",
        "outputId": "f6675ffe-2165-40a8-e77e-9554ac707b24"
      },
      "source": [
        "b = B()\n",
        "type(b)"
      ],
      "execution_count": null,
      "outputs": [
        {
          "output_type": "stream",
          "name": "stdout",
          "text": [
            "<class '__main__.B'>\n"
          ]
        }
      ]
    },
    {
      "cell_type": "code",
      "metadata": {
        "id": "4ympjMW9ZCWK",
        "outputId": "33c1825f-1db7-4299-84d6-62870ad018fc"
      },
      "source": [
        "b.__class__"
      ],
      "execution_count": null,
      "outputs": [
        {
          "output_type": "stream",
          "name": "stdout",
          "text": [
            "<class '__main__.B'>\n"
          ]
        }
      ]
    },
    {
      "cell_type": "code",
      "metadata": {
        "id": "i2O-0k7nZCWL",
        "outputId": "34dbe763-fd74-468c-d69b-612f2b3cfa9a"
      },
      "source": [
        "b_class = b.__class__\n",
        "b_class == B"
      ],
      "execution_count": null,
      "outputs": [
        {
          "output_type": "stream",
          "name": "stdout",
          "text": [
            "True\n"
          ]
        }
      ]
    },
    {
      "cell_type": "code",
      "metadata": {
        "id": "7g8cFIQaZCWO",
        "outputId": "ae46dd9a-4185-41a1-9a12-64ba2fa4b81b"
      },
      "source": [
        "b_class.__name__"
      ],
      "execution_count": null,
      "outputs": [
        {
          "output_type": "stream",
          "name": "stdout",
          "text": [
            "'B'\n"
          ]
        }
      ]
    },
    {
      "cell_type": "code",
      "metadata": {
        "id": "l5fmQKvpZCWP",
        "outputId": "004413bc-0969-49ba-97f8-a3fd9aed67f1"
      },
      "source": [
        "b_class.__bases__"
      ],
      "execution_count": null,
      "outputs": [
        {
          "output_type": "stream",
          "name": "stdout",
          "text": [
            "(<class '__main__.A'>,)\n"
          ]
        }
      ]
    },
    {
      "cell_type": "code",
      "metadata": {
        "id": "VSjkbtuUZCWQ",
        "outputId": "be611fe3-c934-487b-c488-d7f0efcd8ec2"
      },
      "source": [
        "class C:\n",
        "    pass\n",
        "\n",
        "class D:\n",
        "    pass\n",
        "\n",
        "class E(D):\n",
        "    pass\n",
        "\n",
        "x = 12\n",
        "c = C()\n",
        "d = D()\n",
        "e = E()\n",
        "isinstance(x, E)"
      ],
      "execution_count": null,
      "outputs": [
        {
          "output_type": "stream",
          "name": "stdout",
          "text": [
            "False\n"
          ]
        }
      ]
    },
    {
      "cell_type": "code",
      "metadata": {
        "id": "st8h4CvXZCWR",
        "outputId": "2f320ca6-8d50-445b-e17e-c9f68807d0ce"
      },
      "source": [
        "isinstance(c, E)             #A"
      ],
      "execution_count": null,
      "outputs": [
        {
          "output_type": "stream",
          "name": "stdout",
          "text": [
            "False\n"
          ]
        }
      ]
    },
    {
      "cell_type": "code",
      "metadata": {
        "id": "WFLGxVuRZCWS",
        "outputId": "e298df8b-0e8b-4b5b-f1da-2fa55c835290"
      },
      "source": [
        "isinstance(e, E)"
      ],
      "execution_count": null,
      "outputs": [
        {
          "output_type": "stream",
          "name": "stdout",
          "text": [
            "True\n"
          ]
        }
      ]
    },
    {
      "cell_type": "code",
      "metadata": {
        "id": "XsMGGptxZCWT",
        "outputId": "fe61abe2-907c-4907-b918-a186a6731f19"
      },
      "source": [
        "isinstance(e, D)             #B"
      ],
      "execution_count": null,
      "outputs": [
        {
          "output_type": "stream",
          "name": "stdout",
          "text": [
            "True\n"
          ]
        }
      ]
    },
    {
      "cell_type": "code",
      "metadata": {
        "id": "A9hMr9uqZCWT",
        "outputId": "946aa6b0-c0ed-4f75-8148-c56508712345"
      },
      "source": [
        "isinstance(d, E)                #C"
      ],
      "execution_count": null,
      "outputs": [
        {
          "output_type": "stream",
          "name": "stdout",
          "text": [
            "False\n"
          ]
        }
      ]
    },
    {
      "cell_type": "code",
      "metadata": {
        "id": "7DZxlt5eZCWU",
        "outputId": "a731c9ef-b489-45c2-dc86-66091da9eae3"
      },
      "source": [
        "y = 12\n",
        "isinstance(y, type(5))             #D"
      ],
      "execution_count": null,
      "outputs": [
        {
          "output_type": "stream",
          "name": "stdout",
          "text": [
            "True\n"
          ]
        }
      ]
    },
    {
      "cell_type": "code",
      "metadata": {
        "id": "X7tsVWnKZCWX",
        "outputId": "479a2d2b-b0f7-4874-93e4-2d3600d6a467"
      },
      "source": [
        "issubclass(C, D)"
      ],
      "execution_count": null,
      "outputs": [
        {
          "output_type": "stream",
          "name": "stdout",
          "text": [
            "False\n"
          ]
        }
      ]
    },
    {
      "cell_type": "code",
      "metadata": {
        "id": "jkgYoZm0ZCWY",
        "outputId": "7599fed6-5292-4056-c6c6-3454330e3b51"
      },
      "source": [
        "issubclass(E, D)"
      ],
      "execution_count": null,
      "outputs": [
        {
          "output_type": "stream",
          "name": "stdout",
          "text": [
            "True\n"
          ]
        }
      ]
    },
    {
      "cell_type": "code",
      "metadata": {
        "id": "bxoxkRffZCWY",
        "outputId": "432e2276-827a-415b-b163-33c69a4e2b42"
      },
      "source": [
        "issubclass(D, D)           #E"
      ],
      "execution_count": null,
      "outputs": [
        {
          "output_type": "stream",
          "name": "stdout",
          "text": [
            "True\n"
          ]
        }
      ]
    },
    {
      "cell_type": "code",
      "metadata": {
        "id": "FvAKpQoHZCWY",
        "outputId": "1491c7ef-2bce-4230-c3d6-b1f19ba13e72"
      },
      "source": [
        "issubclass(e.__class__, D)"
      ],
      "execution_count": null,
      "outputs": [
        {
          "output_type": "stream",
          "name": "stdout",
          "text": [
            "True\n"
          ]
        }
      ]
    },
    {
      "cell_type": "markdown",
      "source": [
        "# 17.5 What is a special method attribute?"
      ],
      "metadata": {
        "id": "14hmijhHaqNp"
      }
    },
    {
      "cell_type": "markdown",
      "source": [
        "### Listing 17.1 File color_module.py"
      ],
      "metadata": {
        "id": "zWzhvXeQatdv"
      }
    },
    {
      "cell_type": "code",
      "metadata": {
        "id": "x5ayVBN4ZCWZ"
      },
      "source": [
        "# Listing 17.1 File color_module.py\n",
        "\n",
        "class Color:\n",
        "    def __init__(self, red, green, blue):\n",
        "        self._red = red\n",
        "        self._green = green\n",
        "        self._blue = blue\n",
        "    def __str__(self):\n",
        "        return f\"Color: R={self._red:d}, G={self._green:d}, B={self._blue:d}\""
      ],
      "execution_count": null,
      "outputs": []
    },
    {
      "cell_type": "code",
      "metadata": {
        "id": "SZI8UtNeZCWa"
      },
      "source": [
        "#from color_module import Color\n",
        "c = Color(15, 35, 3)"
      ],
      "execution_count": null,
      "outputs": []
    },
    {
      "cell_type": "code",
      "metadata": {
        "id": "VD2FAJ8lZCWc",
        "outputId": "7d445b1e-e622-4203-d473-251f0ee08172",
        "colab": {
          "base_uri": "https://localhost:8080/"
        }
      },
      "source": [
        "print(c)"
      ],
      "execution_count": null,
      "outputs": [
        {
          "output_type": "stream",
          "name": "stdout",
          "text": [
            "Color: R=15, G=35, B=3\n"
          ]
        }
      ]
    },
    {
      "cell_type": "markdown",
      "source": [
        "# 17.7 The `__getitem__` special method attribute"
      ],
      "metadata": {
        "id": "1SEC9NMKa3qG"
      }
    },
    {
      "cell_type": "code",
      "source": [
        "class LineReader:\n",
        "    def __init__(self, filename):\n",
        "        self.fileobject = open(filename, 'r')              #A\n",
        "    def __getitem__(self, index):\n",
        "        line = self.fileobject.readline()                  #B\n",
        "        if line == \"\":                                #C\n",
        "            \tself.fileobject.close()      #D\n",
        "            raise IndexError         #E\n",
        "\n",
        "        else:\n",
        "            return line.split(\"::\")[:2]                    #F\n"
      ],
      "metadata": {
        "id": "5lGIk9RybSuv"
      },
      "execution_count": null,
      "outputs": []
    },
    {
      "cell_type": "markdown",
      "source": [
        "# 17.8 Giving an object full list capability"
      ],
      "metadata": {
        "id": "2bA10U1MbZdw"
      }
    },
    {
      "cell_type": "code",
      "metadata": {
        "id": "v72QEH4HZCWc"
      },
      "source": [
        "class TypedList:\n",
        "    def __init__(self, example_element, initial_list=[]):\n",
        "        self.type = type(example_element)                     #A\n",
        "        if not isinstance(initial_list, list):\n",
        "            raise TypeError(\"Second argument of TypedList must \"\n",
        "                          \"be a list.\")\n",
        "        for element in initial_list:\n",
        "                if not isinstance(element, self.type):\n",
        "                    raise TypeError(\"Attempted to add an element of \"\n",
        "                                  \"incorrect type to a typed list.\")\n",
        "        self.elements = initial_list[:]"
      ],
      "execution_count": null,
      "outputs": []
    },
    {
      "cell_type": "code",
      "metadata": {
        "id": "JTUjXTl6ZCWd"
      },
      "source": [
        "class TypedList:\n",
        "    def __init__(self, example_element, initial_list=[]):\n",
        "        self.type = type(example_element)\n",
        "        if not isinstance(initial_list, list):\n",
        "            raise TypeError(\"Second argument of TypedList must \"\n",
        "                            \"be a list.\")\n",
        "        for element in initial_list:\n",
        "            self.__check(element)\n",
        "        self.elements = initial_list[:]\n",
        "    def __check(self, element):\n",
        "        if type(element) != self.type:\n",
        "            raise TypeError(\"Attempted to add an element of \"\n",
        "                            \"incorrect type to a typed list.\")\n",
        "    def __setitem__(self, i, element):\n",
        "        self.__check(element)\n",
        "        self.elements[i] = element\n",
        "    def __getitem__(self, i):\n",
        "        return self.elements[i]"
      ],
      "execution_count": null,
      "outputs": []
    },
    {
      "cell_type": "code",
      "metadata": {
        "id": "LiZoKb6lZCWe",
        "outputId": "3d1f224e-0315-4665-d161-9676387f5f48",
        "colab": {
          "base_uri": "https://localhost:8080/"
        }
      },
      "source": [
        "x = TypedList(\"\", 5 * [\"\"])\n",
        "x[2] = \"Hello\"\n",
        "x[3] = \"There\"\n",
        "print(x[2] + ' ' + x[3])"
      ],
      "execution_count": null,
      "outputs": [
        {
          "output_type": "stream",
          "name": "stdout",
          "text": [
            "Hello There\n"
          ]
        }
      ]
    },
    {
      "cell_type": "code",
      "metadata": {
        "id": "bNCiKR14ZCWf",
        "outputId": "bd79f1c6-2065-4e53-eb4f-e18546dba820",
        "colab": {
          "base_uri": "https://localhost:8080/"
        }
      },
      "source": [
        "a, b, c, d, e = x\n",
        "a, b, c, d"
      ],
      "execution_count": null,
      "outputs": [
        {
          "output_type": "execute_result",
          "data": {
            "text/plain": [
              "('', '', 'Hello', 'There')"
            ]
          },
          "metadata": {},
          "execution_count": 7
        }
      ]
    },
    {
      "cell_type": "markdown",
      "source": [
        "## 17.9.1 Subclassing list"
      ],
      "metadata": {
        "id": "23CoGTIgbjot"
      }
    },
    {
      "cell_type": "code",
      "metadata": {
        "id": "NjKaEHORZCWg"
      },
      "source": [
        "class TypedListList(list):\n",
        "    def __init__(self, example_element, initial_list=[]):\n",
        "        self.type = type(example_element)\n",
        "        if not isinstance(initial_list, list):\n",
        "            raise TypeError(\"Second argument of TypedList must \"\n",
        "                            \"be a list.\")\n",
        "        for element in initial_list:\n",
        "            self.__check(element)\n",
        "        super().__init__(initial_list)\n",
        "\n",
        "    def __check(self, element):\n",
        "        if type(element) != self.type:\n",
        "            raise TypeError(\"Attempted to add an element of \"\n",
        "                            \"incorrect type to a typed list.\")\n",
        "\n",
        "    def __setitem__(self, i, element):\n",
        "        self.__check(element)\n",
        "        super().__setitem__(i, element)"
      ],
      "execution_count": null,
      "outputs": []
    },
    {
      "cell_type": "code",
      "metadata": {
        "id": "ivIfaTavZCWh",
        "outputId": "54d5e545-3ef9-4599-daaa-09362fdbe2a5",
        "colab": {
          "base_uri": "https://localhost:8080/"
        }
      },
      "source": [
        "x = TypedListList(\"\", 5 * [\"\"])\n",
        "x[2] = \"Hello\"\n",
        "x[3] = \"There\"\n",
        "print(x[2] + ' ' + x[3])"
      ],
      "execution_count": null,
      "outputs": [
        {
          "output_type": "stream",
          "name": "stdout",
          "text": [
            "Hello There\n"
          ]
        }
      ]
    },
    {
      "cell_type": "code",
      "metadata": {
        "id": "uYy5FrOJZCWh",
        "outputId": "d68570cb-7213-478d-a0eb-e79e4f7f6e0f",
        "colab": {
          "base_uri": "https://localhost:8080/"
        }
      },
      "source": [
        "a, b, c, d, e = x\n",
        "a, b, c, d"
      ],
      "execution_count": null,
      "outputs": [
        {
          "output_type": "execute_result",
          "data": {
            "text/plain": [
              "('', '', 'Hello', 'There')"
            ]
          },
          "metadata": {},
          "execution_count": 10
        }
      ]
    },
    {
      "cell_type": "code",
      "metadata": {
        "id": "CbrdEi8kZCWi",
        "outputId": "7d88fce8-053a-4433-e588-69c5d34ef9bb",
        "colab": {
          "base_uri": "https://localhost:8080/"
        }
      },
      "source": [
        "x[:]"
      ],
      "execution_count": null,
      "outputs": [
        {
          "output_type": "execute_result",
          "data": {
            "text/plain": [
              "['', '', 'Hello', 'There', '']"
            ]
          },
          "metadata": {},
          "execution_count": 11
        }
      ]
    },
    {
      "cell_type": "code",
      "metadata": {
        "id": "hQaT-pr0ZCWj",
        "outputId": "164bfe29-e776-4727-d893-f3f65483a36e",
        "colab": {
          "base_uri": "https://localhost:8080/"
        }
      },
      "source": [
        "del x[2]\n",
        "x[:]"
      ],
      "execution_count": null,
      "outputs": [
        {
          "output_type": "execute_result",
          "data": {
            "text/plain": [
              "['', '', 'There', '']"
            ]
          },
          "metadata": {},
          "execution_count": 12
        }
      ]
    },
    {
      "cell_type": "code",
      "metadata": {
        "id": "GKRPScrzZCWj",
        "outputId": "07830e03-3227-451c-ec29-7ab41f56b6dc",
        "colab": {
          "base_uri": "https://localhost:8080/"
        }
      },
      "source": [
        "x.sort()\n",
        "x[:]"
      ],
      "execution_count": null,
      "outputs": [
        {
          "output_type": "execute_result",
          "data": {
            "text/plain": [
              "['', '', '', 'There']"
            ]
          },
          "metadata": {},
          "execution_count": 13
        }
      ]
    },
    {
      "cell_type": "markdown",
      "source": [
        "## 17.9.2 Subclassing UserList"
      ],
      "metadata": {
        "id": "PMHdAjZtb0OF"
      }
    },
    {
      "cell_type": "code",
      "metadata": {
        "id": "K92YwdpGZCWk"
      },
      "source": [
        "from collections import UserList\n",
        "class TypedUserList(UserList):\n",
        "    def __init__(self, example_element, initial_list=[]):\n",
        "        self.type = type(example_element)\n",
        "        if not isinstance(initial_list, list):\n",
        "            raise TypeError(\"Second argument of TypedList must \"\n",
        "                            \"be a list.\")\n",
        "        for element in initial_list:\n",
        "            self.__check(element)\n",
        "        super().__init__(initial_list)\n",
        "\n",
        "    def __check(self, element):\n",
        "        if type(element) != self.type:\n",
        "            raise TypeError(\"Attempted to add an element of \"\n",
        "                            \"incorrect type to a typed list.\")\n",
        "    def __setitem__(self, i, element):\n",
        "        self.__check(element)\n",
        "        self.data[i] = element\n",
        "    def __getitem__(self, i):\n",
        "        return self.data[i]"
      ],
      "execution_count": null,
      "outputs": []
    },
    {
      "cell_type": "code",
      "metadata": {
        "id": "_m8knXi3ZCWl",
        "outputId": "86b81082-ccd9-49a1-8d28-c44c135e58d2",
        "colab": {
          "base_uri": "https://localhost:8080/"
        }
      },
      "source": [
        "x = TypedUserList(\"\", 5 * [\"\"])\n",
        "x[2] = \"Hello\"\n",
        "x[3] = \"There\"\n",
        "print(x[2] + ' ' + x[3])"
      ],
      "execution_count": null,
      "outputs": [
        {
          "output_type": "stream",
          "name": "stdout",
          "text": [
            "Hello There\n"
          ]
        }
      ]
    },
    {
      "cell_type": "code",
      "metadata": {
        "id": "gj2wLRj3ZCWl",
        "outputId": "eb4567b3-4435-4143-8296-1801ea282733",
        "colab": {
          "base_uri": "https://localhost:8080/"
        }
      },
      "source": [
        "a, b, c, d, e = x\n",
        "a, b, c, d"
      ],
      "execution_count": null,
      "outputs": [
        {
          "output_type": "execute_result",
          "data": {
            "text/plain": [
              "('', '', 'Hello', 'There')"
            ]
          },
          "metadata": {},
          "execution_count": 16
        }
      ]
    },
    {
      "cell_type": "code",
      "metadata": {
        "id": "vDCFSO66ZCWm",
        "outputId": "eeeb5b6c-4fff-4114-b37e-e02dfcab5ea8",
        "colab": {
          "base_uri": "https://localhost:8080/"
        }
      },
      "source": [
        "x[:]"
      ],
      "execution_count": null,
      "outputs": [
        {
          "output_type": "execute_result",
          "data": {
            "text/plain": [
              "['', '', 'Hello', 'There', '']"
            ]
          },
          "metadata": {},
          "execution_count": 17
        }
      ]
    },
    {
      "cell_type": "code",
      "metadata": {
        "id": "jSafP6u1ZCWm",
        "outputId": "b2e26f67-7220-4455-8c00-7edd42cafc62",
        "colab": {
          "base_uri": "https://localhost:8080/"
        }
      },
      "source": [
        "del x[2]\n",
        "x[:]"
      ],
      "execution_count": null,
      "outputs": [
        {
          "output_type": "execute_result",
          "data": {
            "text/plain": [
              "['', '', 'There', '']"
            ]
          },
          "metadata": {},
          "execution_count": 18
        }
      ]
    },
    {
      "cell_type": "code",
      "metadata": {
        "id": "cZMkerJMZCWp",
        "outputId": "7622450e-2a3b-4e6e-f95f-fa9c5863a058",
        "colab": {
          "base_uri": "https://localhost:8080/"
        }
      },
      "source": [
        "x.sort()\n",
        "x[:]"
      ],
      "execution_count": null,
      "outputs": [
        {
          "output_type": "execute_result",
          "data": {
            "text/plain": [
              "['', '', '', 'There']"
            ]
          },
          "metadata": {},
          "execution_count": 19
        }
      ]
    },
    {
      "cell_type": "markdown",
      "source": [
        "# Lab 17: Creating a string only key:value dictionary\n",
        "\n",
        "The quick check above mentions creating a dictionary that only allows strings as keys. Let's that idea a step further and actually implement a dictionary that only allows strings for both the keys and values. This sort of dictionary might be useful for example to cache URL's and web pages in a web application.\n",
        "\n",
        "As mentioned in discussing lists above, you would have three possible approaches - write a class from scratch, inherit from the built-in dictionary, or inherit from UserDictionary. I would suggest for the best combination of simplicity and functionality that you inherit from the built-in `dict` type and override the  `__setitem__()` method.  "
      ],
      "metadata": {
        "id": "pYdQ40fHxGzz"
      }
    },
    {
      "cell_type": "code",
      "source": [
        "\"\"\" Create a dictionary that allows only strings for keys and values\"\"\"\n",
        "\n",
        "class StringDict(dict):\n",
        "    def __setitem__(self, key, value):\n",
        "        if not isinstance(key, str):\n",
        "            raise TypeError('keys must be strings')\n",
        "        if not isinstance(value, str):\n",
        "            raise TypeError('values must be strings')\n",
        "        super().__setitem__(key, value)\n",
        "    def __init__(self, *args, **kwargs):\n",
        "        super().__init__(*args, **kwargs)\n",
        "        keys = any(not isinstance(_, str) for _ in self.keys())\n",
        "        if keys:\n",
        "            raise TypeError('keys must be strings')\n",
        "        values = any(not isinstance(_, str) for _ in self.values())\n",
        "        if values:\n",
        "            raise TypeError('values must be strings')\n"
      ],
      "metadata": {
        "id": "Id7yeRk8m6Zc"
      },
      "execution_count": 15,
      "outputs": []
    },
    {
      "cell_type": "code",
      "source": [
        "test_dict = StringDict()\n",
        "test_dict['a'] = 'b'\n",
        "test_dict['c'] = 'd'\n",
        "print(test_dict)\n"
      ],
      "metadata": {
        "id": "-XM2ONOHxaWF",
        "outputId": "175d5b04-b83c-4796-c8e8-5e2d4bd39513",
        "colab": {
          "base_uri": "https://localhost:8080/"
        }
      },
      "execution_count": 26,
      "outputs": [
        {
          "output_type": "stream",
          "name": "stdout",
          "text": [
            "() {}\n",
            "{'a': 'b', 'c': 'd'}\n"
          ]
        }
      ]
    },
    {
      "cell_type": "code",
      "source": [
        "test_dict = StringDict()\n",
        "test_dict['a'] = 1\n",
        "test_dict[2] = 'd'\n",
        "print(test_dict)"
      ],
      "metadata": {
        "id": "XPXrO2ezxd3a",
        "outputId": "da960f87-57aa-4205-a834-c1bf7d562195",
        "colab": {
          "base_uri": "https://localhost:8080/"
        }
      },
      "execution_count": 5,
      "outputs": [
        {
          "output_type": "stream",
          "name": "stdout",
          "text": [
            "{'a': '1', '2': 'd'}\n"
          ]
        }
      ]
    },
    {
      "cell_type": "code",
      "source": [
        "test_dict = StringDict([(1,2), (\"a\", \"b\")])\n",
        "print(test_dict)"
      ],
      "metadata": {
        "id": "aIajfXcsxhMF",
        "outputId": "0445585c-9c85-4330-8c2c-9d5668a48277",
        "colab": {
          "base_uri": "https://localhost:8080/",
          "height": 297
        }
      },
      "execution_count": 24,
      "outputs": [
        {
          "output_type": "stream",
          "name": "stdout",
          "text": [
            "([(1, 2), ('a', 'b')],) {}\n"
          ]
        },
        {
          "output_type": "error",
          "ename": "TypeError",
          "evalue": "keys must be strings",
          "traceback": [
            "\u001b[0;31m---------------------------------------------------------------------------\u001b[0m",
            "\u001b[0;31mTypeError\u001b[0m                                 Traceback (most recent call last)",
            "\u001b[0;32m<ipython-input-24-0461419d35bb>\u001b[0m in \u001b[0;36m<cell line: 1>\u001b[0;34m()\u001b[0m\n\u001b[0;32m----> 1\u001b[0;31m \u001b[0mtest_dict\u001b[0m \u001b[0;34m=\u001b[0m \u001b[0mStringDict\u001b[0m\u001b[0;34m(\u001b[0m\u001b[0;34m[\u001b[0m\u001b[0;34m(\u001b[0m\u001b[0;36m1\u001b[0m\u001b[0;34m,\u001b[0m\u001b[0;36m2\u001b[0m\u001b[0;34m)\u001b[0m\u001b[0;34m,\u001b[0m \u001b[0;34m(\u001b[0m\u001b[0;34m\"a\"\u001b[0m\u001b[0;34m,\u001b[0m \u001b[0;34m\"b\"\u001b[0m\u001b[0;34m)\u001b[0m\u001b[0;34m]\u001b[0m\u001b[0;34m)\u001b[0m\u001b[0;34m\u001b[0m\u001b[0;34m\u001b[0m\u001b[0m\n\u001b[0m\u001b[1;32m      2\u001b[0m \u001b[0mprint\u001b[0m\u001b[0;34m(\u001b[0m\u001b[0mtest_dict\u001b[0m\u001b[0;34m)\u001b[0m\u001b[0;34m\u001b[0m\u001b[0;34m\u001b[0m\u001b[0m\n",
            "\u001b[0;32m<ipython-input-15-be9fa3ced9b7>\u001b[0m in \u001b[0;36m__init__\u001b[0;34m(self, *args, **kwargs)\u001b[0m\n\u001b[1;32m     13\u001b[0m         \u001b[0mkeys\u001b[0m \u001b[0;34m=\u001b[0m \u001b[0many\u001b[0m\u001b[0;34m(\u001b[0m\u001b[0;32mnot\u001b[0m \u001b[0misinstance\u001b[0m\u001b[0;34m(\u001b[0m\u001b[0m_\u001b[0m\u001b[0;34m,\u001b[0m \u001b[0mstr\u001b[0m\u001b[0;34m)\u001b[0m \u001b[0;32mfor\u001b[0m \u001b[0m_\u001b[0m \u001b[0;32min\u001b[0m \u001b[0mself\u001b[0m\u001b[0;34m.\u001b[0m\u001b[0mkeys\u001b[0m\u001b[0;34m(\u001b[0m\u001b[0;34m)\u001b[0m\u001b[0;34m)\u001b[0m\u001b[0;34m\u001b[0m\u001b[0;34m\u001b[0m\u001b[0m\n\u001b[1;32m     14\u001b[0m         \u001b[0;32mif\u001b[0m \u001b[0mkeys\u001b[0m\u001b[0;34m:\u001b[0m\u001b[0;34m\u001b[0m\u001b[0;34m\u001b[0m\u001b[0m\n\u001b[0;32m---> 15\u001b[0;31m             \u001b[0;32mraise\u001b[0m \u001b[0mTypeError\u001b[0m\u001b[0;34m(\u001b[0m\u001b[0;34m'keys must be strings'\u001b[0m\u001b[0;34m)\u001b[0m\u001b[0;34m\u001b[0m\u001b[0;34m\u001b[0m\u001b[0m\n\u001b[0m\u001b[1;32m     16\u001b[0m         \u001b[0mvalues\u001b[0m \u001b[0;34m=\u001b[0m \u001b[0many\u001b[0m\u001b[0;34m(\u001b[0m\u001b[0;32mnot\u001b[0m \u001b[0misinstance\u001b[0m\u001b[0;34m(\u001b[0m\u001b[0m_\u001b[0m\u001b[0;34m,\u001b[0m \u001b[0mstr\u001b[0m\u001b[0;34m)\u001b[0m \u001b[0;32mfor\u001b[0m \u001b[0m_\u001b[0m \u001b[0;32min\u001b[0m \u001b[0mself\u001b[0m\u001b[0;34m.\u001b[0m\u001b[0mvalues\u001b[0m\u001b[0;34m(\u001b[0m\u001b[0;34m)\u001b[0m\u001b[0;34m)\u001b[0m\u001b[0;34m\u001b[0m\u001b[0;34m\u001b[0m\u001b[0m\n\u001b[1;32m     17\u001b[0m         \u001b[0;32mif\u001b[0m \u001b[0mvalues\u001b[0m\u001b[0;34m:\u001b[0m\u001b[0;34m\u001b[0m\u001b[0;34m\u001b[0m\u001b[0m\n",
            "\u001b[0;31mTypeError\u001b[0m: keys must be strings"
          ]
        }
      ]
    },
    {
      "cell_type": "code",
      "source": [
        "test_dict = StringDict({1:2, \"a\": \"b\"})\n",
        "print(test_dict)"
      ],
      "metadata": {
        "id": "-xcduFlHxn-m",
        "outputId": "dfb0a715-b0a4-4c57-df54-ed688d121d1e",
        "colab": {
          "base_uri": "https://localhost:8080/"
        }
      },
      "execution_count": 18,
      "outputs": [
        {
          "output_type": "stream",
          "name": "stdout",
          "text": [
            "({'1': '2', 'a': 'b'},) {}\n",
            "{'1': '2', 'a': 'b'}\n"
          ]
        }
      ]
    },
    {
      "cell_type": "code",
      "source": [
        "test_dict"
      ],
      "metadata": {
        "id": "6AKZV1RnyAgs",
        "outputId": "274d358b-5c9d-4ed6-82b6-c5690803eeb7",
        "colab": {
          "base_uri": "https://localhost:8080/"
        }
      },
      "execution_count": 25,
      "outputs": [
        {
          "output_type": "execute_result",
          "data": {
            "text/plain": [
              "{'1': '2', 'a': 'b'}"
            ]
          },
          "metadata": {},
          "execution_count": 25
        }
      ]
    },
    {
      "cell_type": "code",
      "source": [],
      "metadata": {
        "id": "DVxOotv21DYO"
      },
      "execution_count": null,
      "outputs": []
    }
  ]
}