{
  "nbformat": 4,
  "nbformat_minor": 0,
  "metadata": {
    "colab": {
      "provenance": [],
      "include_colab_link": true
    },
    "kernelspec": {
      "name": "python3",
      "display_name": "Python 3"
    },
    "language_info": {
      "name": "python"
    }
  },
  "cells": [
    {
      "cell_type": "markdown",
      "metadata": {
        "id": "view-in-github",
        "colab_type": "text"
      },
      "source": [
        "<a href=\"https://colab.research.google.com/github/nceder/qpb4e/blob/main/code/Chapter%2018/Chapter_18.ipynb\" target=\"_parent\"><img src=\"https://colab.research.google.com/assets/colab-badge.svg\" alt=\"Open In Colab\"/></a>"
      ]
    },
    {
      "cell_type": "markdown",
      "source": [
        "# 18. Packages"
      ],
      "metadata": {
        "id": "PY8jjVh-NErJ"
      }
    },
    {
      "cell_type": "markdown",
      "source": [
        "# A concrete example"
      ],
      "metadata": {
        "id": "Slvy4720NdS6"
      }
    },
    {
      "cell_type": "code",
      "source": [
        "# File mathproj/__init__.py\n",
        "\n",
        "print(\"Hello from mathproj init\")\n",
        "__all__ = ['comp']\n",
        "version = 1.03"
      ],
      "metadata": {
        "id": "9vhuVTwpNNZb"
      },
      "execution_count": null,
      "outputs": []
    },
    {
      "cell_type": "code",
      "source": [
        "# File mathproj/comp/__init__.py\n",
        "\n",
        "__all__ = ['c1']\n",
        "print(\"Hello from mathproj.comp init\")"
      ],
      "metadata": {
        "id": "uuM4tXDUNNl6"
      },
      "execution_count": null,
      "outputs": []
    },
    {
      "cell_type": "code",
      "source": [
        "# File mathproj/comp/c1.py\n",
        "\n",
        "x = 1.00"
      ],
      "metadata": {
        "id": "hQbr-xgNNNp2"
      },
      "execution_count": null,
      "outputs": []
    },
    {
      "cell_type": "code",
      "source": [
        "# File mathproj/comp/numeric/__init__.py\n",
        "\n",
        "print(\"Hello from numeric init\")"
      ],
      "metadata": {
        "id": "yfB2WOmANNtS"
      },
      "execution_count": null,
      "outputs": []
    },
    {
      "cell_type": "code",
      "source": [
        "# File mathproj/comp/numeric/n1.py\n",
        "\n",
        "from mathproj import version\n",
        "from mathproj.comp import c1\n",
        "from mathproj.comp.numeric.n2 import h\n",
        "def g():\n",
        "    print(\"version is\", version)\n",
        "    print(h())"
      ],
      "metadata": {
        "id": "jNmtWtrdNNxJ"
      },
      "execution_count": null,
      "outputs": []
    },
    {
      "cell_type": "code",
      "source": [
        "# File mathproj/comp/numeric/n2.py\n",
        "\n",
        "def h():\n",
        "    return \"Called function h in module n2\""
      ],
      "metadata": {
        "id": "75zvlxQCNN0j"
      },
      "execution_count": null,
      "outputs": []
    },
    {
      "cell_type": "markdown",
      "source": [
        "## 18.3.2 Basic use of the mathproj package"
      ],
      "metadata": {
        "id": "1Xa5ZwRAMohY"
      }
    },
    {
      "cell_type": "code",
      "metadata": {
        "id": "1OxVpde9MEaG",
        "outputId": "ffaaff3c-16bb-4c5a-e687-fc3697cc5c30"
      },
      "source": [
        "import mathproj"
      ],
      "execution_count": null,
      "outputs": [
        {
          "output_type": "stream",
          "name": "stdout",
          "text": [
            "Hello from mathproj init\n"
          ]
        }
      ]
    },
    {
      "cell_type": "code",
      "metadata": {
        "id": "694X2FQ0MEaI",
        "outputId": "8437fd2e-8a89-42fb-a16f-67bfe3409389"
      },
      "source": [
        "mathproj.version"
      ],
      "execution_count": null,
      "outputs": [
        {
          "output_type": "stream",
          "name": "stdout",
          "text": [
            "1.03\n"
          ]
        }
      ]
    },
    {
      "cell_type": "code",
      "metadata": {
        "id": "HJrJA7H1MEaJ",
        "outputId": "916ec8ee-449d-4786-c417-4a09e69509dd"
      },
      "source": [
        "mathproj.comp.numeric.n1"
      ],
      "execution_count": null,
      "outputs": [
        {
          "output_type": "stream",
          "name": "stdout",
          "text": [
            "Traceback (most recent call last):\n",
            "  File \"<stdin>\", line 1, in <module>\n",
            "AttributeError: module 'mathproj' has no attribute 'comp'\n"
          ]
        }
      ]
    },
    {
      "cell_type": "code",
      "metadata": {
        "id": "OQltADMyMEaJ",
        "outputId": "a2bbaf00-b632-4649-f1a6-48eafb9804aa"
      },
      "source": [
        "import mathproj.comp.numeric.n1"
      ],
      "execution_count": null,
      "outputs": [
        {
          "output_type": "stream",
          "name": "stdout",
          "text": [
            "Hello from mathproj.comp init\n",
            "Hello from numeric init\n"
          ]
        }
      ]
    },
    {
      "cell_type": "code",
      "metadata": {
        "id": "ZPsBE4p6MEaJ",
        "outputId": "15686e95-c1ba-40be-dd02-c237ffc87157"
      },
      "source": [
        "mathproj.comp.numeric.n1.g()"
      ],
      "execution_count": null,
      "outputs": [
        {
          "output_type": "stream",
          "name": "stdout",
          "text": [
            "version is 1.03\n",
            "Called function h in module n2\n"
          ]
        }
      ]
    },
    {
      "cell_type": "code",
      "metadata": {
        "id": "zgsK5uOBMEaK",
        "outputId": "bc537af1-0b54-41a2-e238-780923e2abd5"
      },
      "source": [
        "mathproj.comp"
      ],
      "execution_count": null,
      "outputs": [
        {
          "output_type": "stream",
          "name": "stdout",
          "text": [
            "<module 'mathproj.comp' from 'mathproj/comp/__init__.py'>\n"
          ]
        }
      ]
    },
    {
      "cell_type": "code",
      "metadata": {
        "id": "n-fb-GRdMEaK",
        "outputId": "e2aa765a-46b1-430d-b74e-a5111d01b4df"
      },
      "source": [
        "mathproj.comp.numeric"
      ],
      "execution_count": null,
      "outputs": [
        {
          "output_type": "stream",
          "name": "stdout",
          "text": [
            "<module 'mathproj.comp.numeric'  from 'mathproj/comp/numeric/__init__.py'>\n"
          ]
        }
      ]
    },
    {
      "cell_type": "code",
      "metadata": {
        "id": "9gOZmosCMEaK",
        "outputId": "18d96ad9-fd56-488c-c0d4-f9ebe251691b"
      },
      "source": [
        "from mathproj import version\n",
        "from mathproj.comp import c1\n",
        "from mathproj.comp.numeric.n2 import h\n",
        "def g():\n",
        "    print(\"version is\", version)\n",
        "    print(h())"
      ],
      "execution_count": null,
      "outputs": [
        {
          "output_type": "stream",
          "name": "stdout",
          "text": []
        }
      ]
    },
    {
      "cell_type": "code",
      "metadata": {
        "id": "tYDwAg5AMEaL",
        "outputId": "191ac5e4-9f24-4cfa-e06b-234062aeb935"
      },
      "source": [
        "from mathproj import *"
      ],
      "execution_count": null,
      "outputs": [
        {
          "output_type": "stream",
          "name": "stdout",
          "text": [
            "Hello from mathproj init\n",
            "Hello from mathproj.comp init\n"
          ]
        }
      ]
    },
    {
      "cell_type": "code",
      "metadata": {
        "id": "fxmdVe4sMEaL",
        "outputId": "4b89a6c8-dfb6-4561-cee6-4d64a77022b9"
      },
      "source": [
        "comp"
      ],
      "execution_count": null,
      "outputs": [
        {
          "output_type": "stream",
          "name": "stdout",
          "text": [
            "<module 'mathproj.comp' from 'mathproj/comp/__init__.py'>\n"
          ]
        }
      ]
    },
    {
      "cell_type": "code",
      "metadata": {
        "id": "9TN_L0eWMEaM",
        "outputId": "e9770219-23b4-4a12-a979-abd9c732cc88"
      },
      "source": [
        "c1"
      ],
      "execution_count": null,
      "outputs": [
        {
          "output_type": "stream",
          "name": "stdout",
          "text": [
            "Traceback (most recent call last):\n",
            "  File \"<stdin>\", line 1, in <module>\n",
            "NameError: name 'c1' is not defined\n"
          ]
        }
      ]
    },
    {
      "cell_type": "code",
      "metadata": {
        "id": "QVDnndHmMEaN",
        "outputId": "da4edabc-791d-4105-82de-99460a885bb5"
      },
      "source": [
        "from mathproj.comp import c1\n",
        "c1"
      ],
      "execution_count": null,
      "outputs": [
        {
          "output_type": "stream",
          "name": "stdout",
          "text": [
            "<module 'mathproj.comp.c1' from 'mathproj/comp/c1.py'>\n"
          ]
        }
      ]
    }
  ]
}