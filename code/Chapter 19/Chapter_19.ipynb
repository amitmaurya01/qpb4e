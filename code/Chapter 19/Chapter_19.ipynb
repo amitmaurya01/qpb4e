{
  "nbformat": 4,
  "nbformat_minor": 0,
  "metadata": {
    "colab": {
      "provenance": [],
      "include_colab_link": true
    },
    "kernelspec": {
      "name": "python3",
      "display_name": "Python 3"
    },
    "language_info": {
      "name": "python"
    }
  },
  "cells": [
    {
      "cell_type": "markdown",
      "metadata": {
        "id": "view-in-github",
        "colab_type": "text"
      },
      "source": [
        "<a href=\"https://colab.research.google.com/github/nceder/qpb4e/blob/main/code/Chapter%2019/Chapter_19.ipynb\" target=\"_parent\"><img src=\"https://colab.research.google.com/assets/colab-badge.svg\" alt=\"Open In Colab\"/></a>"
      ]
    },
    {
      "cell_type": "markdown",
      "source": [
        "# 19. Packages"
      ],
      "metadata": {
        "id": "PY8jjVh-NErJ"
      }
    },
    {
      "cell_type": "markdown",
      "source": [
        "# Implementing the mathproj package"
      ],
      "metadata": {
        "id": "Slvy4720NdS6"
      }
    },
    {
      "cell_type": "code",
      "source": [
        "! mkdir mathproj\n",
        "! mkdir mathproj/comp\n",
        "! mkdir mathproj/comp/numeric\n",
        "open(\"mathproj/__init__.py\", \"w\").write(\"\"\"print(\"Hello from mathproj init\")\n",
        "__all__ = ['comp']\n",
        "version = 1.03\"\"\")\n",
        "\n",
        "open(\"mathproj/comp/__init__.py\", \"w\").write(\"\"\"__all__ = ['c1']\n",
        "print(\"Hello from mathproj.comp init\")\"\"\")\n",
        "open(\"mathproj/comp/numeric/__init__.py\", \"w\").write(\"\"\"print(\"Hello from numeric init\")\"\"\")\n",
        "open(\"mathproj/comp/c1.py\", \"w\").write(\"\"\"x = 1.00\"\"\")\n",
        "open(\"mathproj/comp/numeric/n1.py\", \"w\").write(\"\"\"# File mathproj/comp/numeric/n1.py\n",
        "\n",
        "from mathproj import version\n",
        "from mathproj.comp import c1\n",
        "from mathproj.comp.numeric.n2 import h\n",
        "def g():\n",
        "    print(\"version is\", version)\n",
        "    print(h())  \"\"\")\n",
        "open(\"mathproj/comp/numeric/n2.py\", \"w\").write(\"\"\"def h():\n",
        "    return \"Called function h in module n2\"\n",
        "\"\"\")\n",
        "\n"
      ],
      "metadata": {
        "id": "UZwPtA1ZRkuy",
        "outputId": "715a47de-0b87-4975-dfb7-e80850dec842",
        "colab": {
          "base_uri": "https://localhost:8080/"
        }
      },
      "execution_count": 1,
      "outputs": [
        {
          "output_type": "stream",
          "name": "stdout",
          "text": [
            "mkdir: cannot create directory ‘mathproj’: File exists\n",
            "mkdir: cannot create directory ‘mathproj/comp’: File exists\n",
            "mkdir: cannot create directory ‘mathproj/comp/numeric’: File exists\n"
          ]
        },
        {
          "output_type": "execute_result",
          "data": {
            "text/plain": [
              "53"
            ]
          },
          "metadata": {},
          "execution_count": 1
        }
      ]
    },
    {
      "cell_type": "code",
      "source": [
        "# File mathproj/__init__.py\n",
        "\n",
        "print(\"Hello from mathproj init\")\n",
        "__all__ = ['comp']\n",
        "version = 1.03"
      ],
      "metadata": {
        "id": "9vhuVTwpNNZb",
        "outputId": "39d451ab-5641-4cdf-dc64-9cd283ddbec5",
        "colab": {
          "base_uri": "https://localhost:8080/"
        }
      },
      "execution_count": 2,
      "outputs": [
        {
          "output_type": "stream",
          "name": "stdout",
          "text": [
            "Hello from mathproj init\n"
          ]
        }
      ]
    },
    {
      "cell_type": "code",
      "source": [
        "# File mathproj/comp/__init__.py\n",
        "\n",
        "__all__ = ['c1']\n",
        "print(\"Hello from mathproj.comp init\")"
      ],
      "metadata": {
        "id": "uuM4tXDUNNl6",
        "outputId": "3d3d51de-0cf6-4282-ef14-664fe45640ca",
        "colab": {
          "base_uri": "https://localhost:8080/"
        }
      },
      "execution_count": 3,
      "outputs": [
        {
          "output_type": "stream",
          "name": "stdout",
          "text": [
            "Hello from mathproj.comp init\n"
          ]
        }
      ]
    },
    {
      "cell_type": "code",
      "source": [
        "# File mathproj/comp/c1.py\n",
        "\n",
        "x = 1.00"
      ],
      "metadata": {
        "id": "hQbr-xgNNNp2"
      },
      "execution_count": 4,
      "outputs": []
    },
    {
      "cell_type": "code",
      "source": [
        "# File mathproj/comp/numeric/__init__.py\n",
        "\n",
        "print(\"Hello from numeric init\")"
      ],
      "metadata": {
        "id": "yfB2WOmANNtS",
        "outputId": "e4774c5a-58cd-4cf9-ca69-fefd1223748b",
        "colab": {
          "base_uri": "https://localhost:8080/"
        }
      },
      "execution_count": 5,
      "outputs": [
        {
          "output_type": "stream",
          "name": "stdout",
          "text": [
            "Hello from numeric init\n"
          ]
        }
      ]
    },
    {
      "cell_type": "code",
      "source": [
        "# File mathproj/comp/numeric/n1.py\n",
        "\n",
        "from mathproj import version\n",
        "from mathproj.comp import c1\n",
        "from mathproj.comp.numeric.n2 import h\n",
        "def g():\n",
        "    print(\"version is\", version)\n",
        "    print(h())"
      ],
      "metadata": {
        "id": "jNmtWtrdNNxJ",
        "outputId": "01edee50-dc36-4982-ce2b-a71916389682",
        "colab": {
          "base_uri": "https://localhost:8080/"
        }
      },
      "execution_count": 6,
      "outputs": [
        {
          "output_type": "stream",
          "name": "stdout",
          "text": [
            "Hello from mathproj init\n",
            "Hello from mathproj.comp init\n",
            "Hello from numeric init\n"
          ]
        }
      ]
    },
    {
      "cell_type": "code",
      "source": [
        "# File mathproj/comp/numeric/n2.py\n",
        "\n",
        "def h():\n",
        "    return \"Called function h in module n2\""
      ],
      "metadata": {
        "id": "75zvlxQCNN0j"
      },
      "execution_count": 7,
      "outputs": []
    },
    {
      "cell_type": "markdown",
      "source": [
        "## 19.3.2 Basic use of the mathproj package"
      ],
      "metadata": {
        "id": "1Xa5ZwRAMohY"
      }
    },
    {
      "cell_type": "code",
      "metadata": {
        "id": "1OxVpde9MEaG"
      },
      "source": [
        "import mathproj"
      ],
      "execution_count": 8,
      "outputs": []
    },
    {
      "cell_type": "code",
      "metadata": {
        "id": "694X2FQ0MEaI",
        "outputId": "668d6c85-4300-4e75-d834-ae1e828a81aa",
        "colab": {
          "base_uri": "https://localhost:8080/"
        }
      },
      "source": [
        "mathproj.version"
      ],
      "execution_count": 9,
      "outputs": [
        {
          "output_type": "execute_result",
          "data": {
            "text/plain": [
              "1.03"
            ]
          },
          "metadata": {},
          "execution_count": 9
        }
      ]
    },
    {
      "cell_type": "markdown",
      "source": [
        "## 19.3.3 Loading subpackages and submodules"
      ],
      "metadata": {
        "id": "ZeQ7KvvnfEfX"
      }
    },
    {
      "cell_type": "code",
      "metadata": {
        "id": "HJrJA7H1MEaJ",
        "outputId": "f8487639-f39f-46be-dbeb-9724f510ff94",
        "colab": {
          "base_uri": "https://localhost:8080/",
          "height": 141
        }
      },
      "source": [
        "mathproj.comp.numeric.n1"
      ],
      "execution_count": 10,
      "outputs": [
        {
          "output_type": "error",
          "ename": "AttributeError",
          "evalue": "module 'mathproj.comp.numeric' has no attribute 'n1'",
          "traceback": [
            "\u001b[0;31m---------------------------------------------------------------------------\u001b[0m",
            "\u001b[0;31mAttributeError\u001b[0m                            Traceback (most recent call last)",
            "\u001b[0;32m<ipython-input-10-1f477095b948>\u001b[0m in \u001b[0;36m<cell line: 1>\u001b[0;34m()\u001b[0m\n\u001b[0;32m----> 1\u001b[0;31m \u001b[0mmathproj\u001b[0m\u001b[0;34m.\u001b[0m\u001b[0mcomp\u001b[0m\u001b[0;34m.\u001b[0m\u001b[0mnumeric\u001b[0m\u001b[0;34m.\u001b[0m\u001b[0mn1\u001b[0m\u001b[0;34m\u001b[0m\u001b[0;34m\u001b[0m\u001b[0m\n\u001b[0m",
            "\u001b[0;31mAttributeError\u001b[0m: module 'mathproj.comp.numeric' has no attribute 'n1'"
          ]
        }
      ]
    },
    {
      "cell_type": "code",
      "metadata": {
        "id": "OQltADMyMEaJ"
      },
      "source": [
        "import mathproj.comp.numeric.n1"
      ],
      "execution_count": null,
      "outputs": []
    },
    {
      "cell_type": "code",
      "metadata": {
        "id": "ZPsBE4p6MEaJ"
      },
      "source": [
        "mathproj.comp.numeric.n1.g()"
      ],
      "execution_count": null,
      "outputs": []
    },
    {
      "cell_type": "code",
      "metadata": {
        "id": "zgsK5uOBMEaK"
      },
      "source": [
        "mathproj.comp"
      ],
      "execution_count": null,
      "outputs": []
    },
    {
      "cell_type": "code",
      "metadata": {
        "id": "n-fb-GRdMEaK"
      },
      "source": [
        "mathproj.comp.numeric"
      ],
      "execution_count": null,
      "outputs": []
    },
    {
      "cell_type": "markdown",
      "source": [
        "# 19.4 The __all__ attribute"
      ],
      "metadata": {
        "id": "a7ep4uage460"
      }
    },
    {
      "cell_type": "code",
      "metadata": {
        "id": "tYDwAg5AMEaL",
        "outputId": "54651278-1d1f-474e-a49d-d8b341c935f8",
        "colab": {
          "base_uri": "https://localhost:8080/"
        }
      },
      "source": [
        "# use the Runtime menu, and Restart session\n",
        "\n",
        "from mathproj import *"
      ],
      "execution_count": 1,
      "outputs": [
        {
          "output_type": "stream",
          "name": "stdout",
          "text": [
            "Hello from mathproj init\n",
            "Hello from mathproj.comp init\n"
          ]
        }
      ]
    },
    {
      "cell_type": "code",
      "metadata": {
        "id": "fxmdVe4sMEaL",
        "outputId": "905709a6-fa04-4459-93e8-fcd0bdac01cb",
        "colab": {
          "base_uri": "https://localhost:8080/"
        }
      },
      "source": [
        "comp"
      ],
      "execution_count": 2,
      "outputs": [
        {
          "output_type": "execute_result",
          "data": {
            "text/plain": [
              "<module 'mathproj.comp' from '/content/mathproj/comp/__init__.py'>"
            ]
          },
          "metadata": {},
          "execution_count": 2
        }
      ]
    },
    {
      "cell_type": "code",
      "metadata": {
        "id": "9TN_L0eWMEaM",
        "outputId": "3594375b-df37-4522-e1a5-60157aeacd5a",
        "colab": {
          "base_uri": "https://localhost:8080/",
          "height": 141
        }
      },
      "source": [
        "c1"
      ],
      "execution_count": 3,
      "outputs": [
        {
          "output_type": "error",
          "ename": "NameError",
          "evalue": "name 'c1' is not defined",
          "traceback": [
            "\u001b[0;31m---------------------------------------------------------------------------\u001b[0m",
            "\u001b[0;31mNameError\u001b[0m                                 Traceback (most recent call last)",
            "\u001b[0;32m<ipython-input-3-5348681b35c2>\u001b[0m in \u001b[0;36m<cell line: 1>\u001b[0;34m()\u001b[0m\n\u001b[0;32m----> 1\u001b[0;31m \u001b[0mc1\u001b[0m\u001b[0;34m\u001b[0m\u001b[0;34m\u001b[0m\u001b[0m\n\u001b[0m",
            "\u001b[0;31mNameError\u001b[0m: name 'c1' is not defined"
          ]
        }
      ]
    },
    {
      "cell_type": "code",
      "metadata": {
        "id": "QVDnndHmMEaN",
        "outputId": "97864e19-d5d5-4537-da47-f8bf20f4be79",
        "colab": {
          "base_uri": "https://localhost:8080/"
        }
      },
      "source": [
        "from mathproj.comp import c1\n",
        "c1"
      ],
      "execution_count": 4,
      "outputs": [
        {
          "output_type": "execute_result",
          "data": {
            "text/plain": [
              "<module 'mathproj.comp.c1' from '/content/mathproj/comp/c1.py'>"
            ]
          },
          "metadata": {},
          "execution_count": 4
        }
      ]
    },
    {
      "cell_type": "code",
      "source": [],
      "metadata": {
        "id": "iNjyoFZebE37"
      },
      "execution_count": 10,
      "outputs": []
    }
  ]
}