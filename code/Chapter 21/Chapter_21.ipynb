{
  "nbformat": 4,
  "nbformat_minor": 0,
  "metadata": {
    "colab": {
      "provenance": [],
      "include_colab_link": true
    },
    "kernelspec": {
      "name": "python3",
      "display_name": "Python 3"
    },
    "language_info": {
      "name": "python"
    }
  },
  "cells": [
    {
      "cell_type": "markdown",
      "metadata": {
        "id": "view-in-github",
        "colab_type": "text"
      },
      "source": [
        "<a href=\"https://colab.research.google.com/github/nceder/qpb4e/blob/main/code/Chapter%2021/Chapter_21.ipynb\" target=\"_parent\"><img src=\"https://colab.research.google.com/assets/colab-badge.svg\" alt=\"Open In Colab\"/></a>"
      ]
    },
    {
      "cell_type": "markdown",
      "source": [
        "# 21 Basic file wrangling"
      ],
      "metadata": {
        "id": "6qxyG0sHdLeY"
      }
    },
    {
      "cell_type": "markdown",
      "source": [
        "# 21.2 Scenario: The product feed from hell"
      ],
      "metadata": {
        "id": "uVs8Rx9zjH3L"
      }
    },
    {
      "cell_type": "code",
      "source": [
        "# run this cell first to create files\n",
        "\n",
        "! touch item_info.txt item_attributes.txt related_items.txt"
      ],
      "metadata": {
        "id": "meqnci66d9bM"
      },
      "execution_count": 1,
      "outputs": []
    },
    {
      "cell_type": "code",
      "metadata": {
        "id": "yT1uhmvgdI3t",
        "colab": {
          "base_uri": "https://localhost:8080/"
        },
        "outputId": "5bd0ac34-5aa9-4834-a17b-8c15da330a7b"
      },
      "source": [
        "import pathlib\n",
        "cur_path = pathlib.Path(\".\")\n",
        "FILE_PATTERN = \"*.txt\"\n",
        "path_list = cur_path.glob(FILE_PATTERN)\n",
        "print(list(path_list))"
      ],
      "execution_count": 2,
      "outputs": [
        {
          "output_type": "stream",
          "name": "stdout",
          "text": [
            "[PosixPath('item_info.txt'), PosixPath('related_items.txt'), PosixPath('item_attributes.txt')]\n"
          ]
        }
      ]
    },
    {
      "cell_type": "markdown",
      "source": [
        "### Listing 20.1 File files_01.py\n"
      ],
      "metadata": {
        "id": "VwNrUdWRjowv"
      }
    },
    {
      "cell_type": "code",
      "metadata": {
        "id": "R3GCOVyudI3u"
      },
      "source": [
        "# Listing 20.1 File files_01.py\n",
        "\n",
        "import datetime\n",
        "import pathlib\n",
        "\n",
        "FILE_PATTERN = \"*.txt\"             #A\n",
        "ARCHIVE = \"archive\"\n",
        "\n",
        "if __name__ == '__main__':\n",
        "\n",
        "    date_string = datetime.date.today().strftime(\"%Y-%m-%d\")    #B\n",
        "\n",
        "    cur_path = pathlib.Path(\".\")\n",
        "    archive_path = cur_path.joinpath(ARCHIVE)\n",
        "    archive_path.mkdir(exist_ok=True)        #C\n",
        "\n",
        "    paths = cur_path.glob(FILE_PATTERN)\n",
        "\n",
        "    for path in paths:\n",
        "        new_filename = f\"{path.stem}_{date_string}{path.suffix}\"\n",
        "        new_path = archive_path.joinpath(new_filename)        #D\n",
        "        path.rename(new_path)                      #E"
      ],
      "execution_count": 3,
      "outputs": []
    },
    {
      "cell_type": "markdown",
      "source": [
        "# 21.3 More organization"
      ],
      "metadata": {
        "id": "HmO4egz5jYyg"
      }
    },
    {
      "cell_type": "markdown",
      "source": [
        "### Listing 20.2 File files_02.py"
      ],
      "metadata": {
        "id": "41SzjZxJjkGc"
      }
    },
    {
      "cell_type": "code",
      "source": [
        "# clear files from archive directory\n",
        "\n",
        "! rm archive/*\n",
        "! touch item_info.txt item_attributes.txt related_items.txt"
      ],
      "metadata": {
        "id": "_LXEcAAeIrzX"
      },
      "execution_count": 4,
      "outputs": []
    },
    {
      "cell_type": "code",
      "metadata": {
        "id": "tAHWMGcEdI3v"
      },
      "source": [
        "# Listing 20.2 File files_02.py\n",
        "\n",
        "import datetime\n",
        "import pathlib\n",
        "\n",
        "FILE_PATTERN = \"*.txt\"\n",
        "ARCHIVE = \"archive\"\n",
        "\n",
        "if __name__ == '__main__':\n",
        "\n",
        "    date_string = datetime.date.today().strftime(\"%Y-%m-%d\")\n",
        "\n",
        "    cur_path = pathlib.Path(\".\")\n",
        "\n",
        "    archive_path = cur_path.joinpath(ARCHIVE)\n",
        "    archive_path.mkdir(exist_ok=True)                             #A\n",
        "    new_path = archive_path.joinpath(date_string)\n",
        "    new_path.mkdir(exist_ok=True)            #B\n",
        "\n",
        "    paths = cur_path.glob(FILE_PATTERN)\n",
        "\n",
        "    for path in paths:\n",
        "        path.rename(new_path.joinpath(path.name))"
      ],
      "execution_count": 5,
      "outputs": []
    },
    {
      "cell_type": "markdown",
      "source": [
        "## 21.4.1 Compressing files"
      ],
      "metadata": {
        "id": "hklAeSftjxwD"
      }
    },
    {
      "cell_type": "markdown",
      "source": [
        "### Listing 20.3 File files_03.py"
      ],
      "metadata": {
        "id": "uGJnCxqsj5Jm"
      }
    },
    {
      "cell_type": "code",
      "source": [
        "# clear files from archive directory\n",
        "\n",
        "! rm -rfr archive/*\n",
        "! touch item_info.txt item_attributes.txt related_items.txt"
      ],
      "metadata": {
        "id": "qFGqQ9pLJAq3"
      },
      "execution_count": 6,
      "outputs": []
    },
    {
      "cell_type": "code",
      "metadata": {
        "id": "DdMt_0AcdI3v"
      },
      "source": [
        "# Listing 20.3 File files_03.py\n",
        "\n",
        "import datetime\n",
        "import pathlib\n",
        "import zipfile          #A\n",
        "\n",
        "FILE_PATTERN = \"*.txt\"\n",
        "ARCHIVE = \"archive\"\n",
        "\n",
        "if __name__ == '__main__':\n",
        "\n",
        "    date_string = datetime.date.today().strftime(\"%Y-%m-%d\")\n",
        "\n",
        "    cur_path = pathlib.Path(\".\")\n",
        "    archive_path = cur_path.joinpath(ARCHIVE)\n",
        "    archive_path.mkdir(exist_ok=True)\n",
        "\n",
        "    paths = cur_path.glob(FILE_PATTERN)\n",
        "\n",
        "    zip_file_path = cur_path.joinpath(ARCHIVE, date_string + \".zip\")   #B\n",
        "    zip_file = zipfile.ZipFile(str(zip_file_path), \"w\")       #C\n",
        "\n",
        "    for path in paths:\n",
        "        zip_file.write(str(path))                                 #D\n",
        "        path.unlink()             #E"
      ],
      "execution_count": 7,
      "outputs": []
    },
    {
      "cell_type": "markdown",
      "source": [
        "## 21.4.2 Grooming files"
      ],
      "metadata": {
        "id": "cQrO5qVCk_5v"
      }
    },
    {
      "cell_type": "markdown",
      "source": [
        "### Listing 20.4 File files_04.py"
      ],
      "metadata": {
        "id": "CSiT0khclC0e"
      }
    },
    {
      "cell_type": "code",
      "source": [
        "# create zip files in archive directory\n",
        "from datetime import datetime, timedelta\n",
        "\n",
        "\n",
        "def populate_archive(zip_file_path, current_date):\n",
        "    for days in range(30, 40):\n",
        "        zip_date = current_date - timedelta(days=days)\n",
        "        new_zip_path = zip_file_path.joinpath(f\"{zip_date.strftime('%Y-%m-%d')}.zip\")\n",
        "        zip_file = new_zip_path.write_text(\"Test\")\n",
        "\n",
        "cur_path = pathlib.Path(\".\")\n",
        "zip_file_path = cur_path.joinpath(ARCHIVE)\n",
        "current_date = datetime.today()\n",
        "populate_archive(zip_file_path, current_date)"
      ],
      "metadata": {
        "id": "zfiyyAKJJLvN"
      },
      "execution_count": 24,
      "outputs": []
    },
    {
      "cell_type": "code",
      "metadata": {
        "id": "wQq4s_RqdI3v"
      },
      "source": [
        "# Listing 20.4 File files_04.py\n",
        "\n",
        "from datetime import datetime, timedelta\n",
        "import pathlib\n",
        "import zipfile\n",
        "\n",
        "FILE_PATTERN = \"*.zip\"\n",
        "ARCHIVE = \"archive\"\n",
        "ARCHIVE_WEEKDAY = 1\n",
        "if __name__ == '__main__':\n",
        "    cur_path = pathlib.Path(\".\")\n",
        "    zip_file_path = cur_path.joinpath(ARCHIVE)\n",
        "\n",
        "    paths = zip_file_path.glob(FILE_PATTERN)\n",
        "    current_date = datetime.today()    #A\n",
        "\n",
        "    for path in paths:\n",
        "        name = path.stem              #B\n",
        "        path_date = datetime.strptime(name, \"%Y-%m-%d\")     #C\n",
        "        path_timedelta = current_date - path_date          #D\n",
        "        if (path_timedelta > timedelta(days=30)\n",
        "                and path_date.weekday() != ARCHIVE_WEEKDAY):    #E\n",
        "            path.unlink()"
      ],
      "execution_count": 25,
      "outputs": []
    }
  ]
}