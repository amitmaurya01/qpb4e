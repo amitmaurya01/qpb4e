{
  "nbformat": 4,
  "nbformat_minor": 0,
  "metadata": {
    "colab": {
      "provenance": [],
      "include_colab_link": true
    },
    "kernelspec": {
      "name": "python3",
      "display_name": "Python 3"
    },
    "language_info": {
      "name": "python"
    }
  },
  "cells": [
    {
      "cell_type": "markdown",
      "metadata": {
        "id": "view-in-github",
        "colab_type": "text"
      },
      "source": [
        "<a href=\"https://colab.research.google.com/github/nceder/qpb4e/blob/main/code/Chapter%2022/Chapter_22.ipynb\" target=\"_parent\"><img src=\"https://colab.research.google.com/assets/colab-badge.svg\" alt=\"Open In Colab\"/></a>"
      ]
    },
    {
      "cell_type": "markdown",
      "source": [
        "# 22 Processing data files"
      ],
      "metadata": {
        "id": "9nRSlzZq3Orp"
      }
    },
    {
      "cell_type": "markdown",
      "source": [
        "### 22.2.1 Text encoding: ASCII, Unicode, and others"
      ],
      "metadata": {
        "id": "-cCz9Vai3vt8"
      }
    },
    {
      "cell_type": "code",
      "metadata": {
        "id": "1X_KDMImqK6O",
        "outputId": "bf20c0bd-0225-49ba-a028-796cc2ab0759",
        "colab": {
          "base_uri": "https://localhost:8080/"
        }
      },
      "source": [
        "open('test.txt', 'wb').write(bytes([65, 66, 67, 255, 192,193]))"
      ],
      "execution_count": null,
      "outputs": [
        {
          "output_type": "execute_result",
          "data": {
            "text/plain": [
              "6"
            ]
          },
          "metadata": {},
          "execution_count": 1
        }
      ]
    },
    {
      "cell_type": "code",
      "metadata": {
        "id": "FoKQn2rOqK6U",
        "outputId": "2caff6a4-acd4-46a4-83d4-793cb8714689",
        "colab": {
          "base_uri": "https://localhost:8080/",
          "height": 263
        }
      },
      "source": [
        "x = open('test.txt').read()"
      ],
      "execution_count": null,
      "outputs": [
        {
          "output_type": "error",
          "ename": "UnicodeDecodeError",
          "evalue": "'utf-8' codec can't decode byte 0xff in position 3: invalid start byte",
          "traceback": [
            "\u001b[0;31m---------------------------------------------------------------------------\u001b[0m",
            "\u001b[0;31mUnicodeDecodeError\u001b[0m                        Traceback (most recent call last)",
            "\u001b[0;32m<ipython-input-2-2cb3105c1e5f>\u001b[0m in \u001b[0;36m<cell line: 1>\u001b[0;34m()\u001b[0m\n\u001b[0;32m----> 1\u001b[0;31m \u001b[0mx\u001b[0m \u001b[0;34m=\u001b[0m \u001b[0mopen\u001b[0m\u001b[0;34m(\u001b[0m\u001b[0;34m'test.txt'\u001b[0m\u001b[0;34m)\u001b[0m\u001b[0;34m.\u001b[0m\u001b[0mread\u001b[0m\u001b[0;34m(\u001b[0m\u001b[0;34m)\u001b[0m\u001b[0;34m\u001b[0m\u001b[0;34m\u001b[0m\u001b[0m\n\u001b[0m",
            "\u001b[0;32m/usr/lib/python3.10/codecs.py\u001b[0m in \u001b[0;36mdecode\u001b[0;34m(self, input, final)\u001b[0m\n\u001b[1;32m    320\u001b[0m         \u001b[0;31m# decode input (taking the buffer into account)\u001b[0m\u001b[0;34m\u001b[0m\u001b[0;34m\u001b[0m\u001b[0m\n\u001b[1;32m    321\u001b[0m         \u001b[0mdata\u001b[0m \u001b[0;34m=\u001b[0m \u001b[0mself\u001b[0m\u001b[0;34m.\u001b[0m\u001b[0mbuffer\u001b[0m \u001b[0;34m+\u001b[0m \u001b[0minput\u001b[0m\u001b[0;34m\u001b[0m\u001b[0;34m\u001b[0m\u001b[0m\n\u001b[0;32m--> 322\u001b[0;31m         \u001b[0;34m(\u001b[0m\u001b[0mresult\u001b[0m\u001b[0;34m,\u001b[0m \u001b[0mconsumed\u001b[0m\u001b[0;34m)\u001b[0m \u001b[0;34m=\u001b[0m \u001b[0mself\u001b[0m\u001b[0;34m.\u001b[0m\u001b[0m_buffer_decode\u001b[0m\u001b[0;34m(\u001b[0m\u001b[0mdata\u001b[0m\u001b[0;34m,\u001b[0m \u001b[0mself\u001b[0m\u001b[0;34m.\u001b[0m\u001b[0merrors\u001b[0m\u001b[0;34m,\u001b[0m \u001b[0mfinal\u001b[0m\u001b[0;34m)\u001b[0m\u001b[0;34m\u001b[0m\u001b[0;34m\u001b[0m\u001b[0m\n\u001b[0m\u001b[1;32m    323\u001b[0m         \u001b[0;31m# keep undecoded input until the next call\u001b[0m\u001b[0;34m\u001b[0m\u001b[0;34m\u001b[0m\u001b[0m\n\u001b[1;32m    324\u001b[0m         \u001b[0mself\u001b[0m\u001b[0;34m.\u001b[0m\u001b[0mbuffer\u001b[0m \u001b[0;34m=\u001b[0m \u001b[0mdata\u001b[0m\u001b[0;34m[\u001b[0m\u001b[0mconsumed\u001b[0m\u001b[0;34m:\u001b[0m\u001b[0;34m]\u001b[0m\u001b[0;34m\u001b[0m\u001b[0;34m\u001b[0m\u001b[0m\n",
            "\u001b[0;31mUnicodeDecodeError\u001b[0m: 'utf-8' codec can't decode byte 0xff in position 3: invalid start byte"
          ]
        }
      ]
    },
    {
      "cell_type": "code",
      "source": [],
      "metadata": {
        "id": "t7-ujjlvJaXf"
      },
      "execution_count": null,
      "outputs": []
    },
    {
      "cell_type": "code",
      "metadata": {
        "id": "xsIfwuypqK6U",
        "outputId": "498ae8ff-969a-4d25-dc22-b280575dca43",
        "colab": {
          "base_uri": "https://localhost:8080/",
          "height": 35
        }
      },
      "source": [
        "open('test.txt', errors='ignore').read()"
      ],
      "execution_count": null,
      "outputs": [
        {
          "output_type": "execute_result",
          "data": {
            "text/plain": [
              "'ABC'"
            ],
            "application/vnd.google.colaboratory.intrinsic+json": {
              "type": "string"
            }
          },
          "metadata": {},
          "execution_count": 3
        }
      ]
    },
    {
      "cell_type": "code",
      "metadata": {
        "id": "DG0wRRhnqK6V",
        "outputId": "63b2f617-f3e7-413b-a4fc-02366fba3739",
        "colab": {
          "base_uri": "https://localhost:8080/"
        }
      },
      "source": [
        "open('test.txt', errors='replace').read()"
      ],
      "execution_count": null,
      "outputs": [
        {
          "output_type": "execute_result",
          "data": {
            "text/plain": [
              "65533"
            ]
          },
          "metadata": {},
          "execution_count": 8
        }
      ]
    },
    {
      "cell_type": "code",
      "metadata": {
        "id": "11WfIcnGqK6W",
        "outputId": "3c1740bb-ba96-415e-eca3-6250fb42b7e5",
        "colab": {
          "base_uri": "https://localhost:8080/",
          "height": 35
        }
      },
      "source": [
        "open('test.txt', errors='surrogateescape').read()"
      ],
      "execution_count": null,
      "outputs": [
        {
          "output_type": "execute_result",
          "data": {
            "text/plain": [
              "'ABC\\udcff\\udcc0\\udcc1'"
            ],
            "application/vnd.google.colaboratory.intrinsic+json": {
              "type": "string"
            }
          },
          "metadata": {},
          "execution_count": 5
        }
      ]
    },
    {
      "cell_type": "code",
      "metadata": {
        "id": "W-2MWiRkqK6X",
        "outputId": "ba7bd5e0-86bc-4f21-8a07-f94d25b1e121",
        "colab": {
          "base_uri": "https://localhost:8080/",
          "height": 35
        }
      },
      "source": [
        "open('test.txt', errors='backslashreplace').read()"
      ],
      "execution_count": null,
      "outputs": [
        {
          "output_type": "execute_result",
          "data": {
            "text/plain": [
              "'ABC\\\\xff\\\\xc0\\\\xc1'"
            ],
            "application/vnd.google.colaboratory.intrinsic+json": {
              "type": "string"
            }
          },
          "metadata": {},
          "execution_count": 6
        }
      ]
    },
    {
      "cell_type": "markdown",
      "source": [
        "### 22.2.2 Unstructured text"
      ],
      "metadata": {
        "id": "JE-RISW05BIa"
      }
    },
    {
      "cell_type": "code",
      "source": [
        "!wget https://raw.githubusercontent.com/nceder/qpb4e/main/code/Chapter%2022/moby_01.txt &> null  && echo Downloaded\n"
      ],
      "metadata": {
        "colab": {
          "base_uri": "https://localhost:8080/"
        },
        "id": "MBxzaLj06dnw",
        "outputId": "12446f57-bff9-4732-e887-d3587c956a58"
      },
      "execution_count": null,
      "outputs": [
        {
          "output_type": "stream",
          "name": "stdout",
          "text": [
            "Downloaded\n"
          ]
        }
      ]
    },
    {
      "cell_type": "code",
      "metadata": {
        "id": "58PlUJcDqK6Z",
        "outputId": "59fc67c0-cb05-41dc-d6ba-95b2ce3d3d16",
        "colab": {
          "base_uri": "https://localhost:8080/"
        }
      },
      "source": [
        "moby_text = open(\"moby_01.txt\").read()         #A\n",
        "moby_paragraphs = moby_text.split(\"\\n\\n\")     #B\n",
        "print(moby_paragraphs[1])"
      ],
      "execution_count": null,
      "outputs": [
        {
          "output_type": "stream",
          "name": "stdout",
          "text": [
            "There now is your insular city of the Manhattoes, belted round by wharves\n",
            "as Indian isles by coral reefs -commerce surrounds it with her surf.\n",
            "Right and left, the streets take you waterward.  Its extreme downtown\n",
            "is the battery, where that noble mole is washed by waves, and cooled\n",
            "by breezes, which a few hours previous were out of sight of land.\n",
            "Look at the crowds of water-gazers there.\n",
            "\n"
          ]
        }
      ]
    },
    {
      "cell_type": "code",
      "metadata": {
        "id": "QDSPfWRJqK6a",
        "outputId": "cd1f1dfa-c176-4e2d-c0b9-863a5889e557",
        "colab": {
          "base_uri": "https://localhost:8080/"
        }
      },
      "source": [
        "moby_text = open(\"moby_01.txt\").read()        #A\n",
        "moby_paragraphs = moby_text.split(\"\\n\\n\")\n",
        "moby = moby_paragraphs[1].lower()             #B\n",
        "moby = moby.replace(\".\", \"\")                  #C\n",
        "moby = moby.replace(\",\", \"\")                  #D\n",
        "moby_words = moby.split()\n",
        "print(moby_words)"
      ],
      "execution_count": null,
      "outputs": [
        {
          "output_type": "stream",
          "name": "stdout",
          "text": [
            "['there', 'now', 'is', 'your', 'insular', 'city', 'of', 'the', 'manhattoes', 'belted', 'round', 'by', 'wharves', 'as', 'indian', 'isles', 'by', 'coral', 'reefs', '-commerce', 'surrounds', 'it', 'with', 'her', 'surf', 'right', 'and', 'left', 'the', 'streets', 'take', 'you', 'waterward', 'its', 'extreme', 'downtown', 'is', 'the', 'battery', 'where', 'that', 'noble', 'mole', 'is', 'washed', 'by', 'waves', 'and', 'cooled', 'by', 'breezes', 'which', 'a', 'few', 'hours', 'previous', 'were', 'out', 'of', 'sight', 'of', 'land', 'look', 'at', 'the', 'crowds', 'of', 'water-gazers', 'there']\n"
          ]
        }
      ]
    },
    {
      "cell_type": "markdown",
      "source": [
        "### 22.2.3 Delimited flat files"
      ],
      "metadata": {
        "id": "RtwkWMDd7j_M"
      }
    },
    {
      "cell_type": "markdown",
      "source": [
        "#### File 22.1 temp_data_ pipes_00a.txt"
      ],
      "metadata": {
        "id": "PBprDO7Wk2de"
      }
    },
    {
      "cell_type": "code",
      "source": [
        "%%writefile temp_data_pipes_00a.txt\n",
        "Notes\n",
        "State|Month Day, Year Code|Avg Daily Max Air Temperature (F)|Record Count for Daily Max Air Temp (F)\n",
        "Illinois|1979/01/01|17.48|994\n",
        "Illinois|1979/01/02|4.64|994\n",
        "Illinois|1979/01/03|11.05|994\n",
        "Illinois|1979/01/04|9.51|994\n",
        "Illinois|1979/05/15|68.42|994\n",
        "Illinois|1979/05/16|70.29|994\n",
        "Illinois|1979/05/17|75.34|994\n",
        "Illinois|1979/05/18|79.13|994\n",
        "Illinois|1979/05/19|74.94|994\n"
      ],
      "metadata": {
        "id": "cwWsDlLykqlb",
        "colab": {
          "base_uri": "https://localhost:8080/"
        },
        "outputId": "91233f24-e665-4b0f-b897-e6e83f05bbc0"
      },
      "execution_count": null,
      "outputs": [
        {
          "output_type": "stream",
          "name": "stdout",
          "text": [
            "Writing temp_data_pipes_00a.txt\n"
          ]
        }
      ]
    },
    {
      "cell_type": "code",
      "metadata": {
        "id": "HP4ZL0skqK6b",
        "outputId": "5d44bd29-a098-43a1-ae6c-156952b6c3ff",
        "colab": {
          "base_uri": "https://localhost:8080/"
        }
      },
      "source": [
        "line = \"Illinois|1979/01/01|17.48|994\"\n",
        "print(line.split(\"|\"))"
      ],
      "execution_count": null,
      "outputs": [
        {
          "output_type": "stream",
          "name": "stdout",
          "text": [
            "['Illinois', '1979/01/01', '17.48', '994']\n"
          ]
        }
      ]
    },
    {
      "cell_type": "markdown",
      "source": [
        "### 22.2.4 The csv module"
      ],
      "metadata": {
        "id": "bIPW3nMI70gT"
      }
    },
    {
      "cell_type": "code",
      "metadata": {
        "id": "x_Zxe87dqK6b",
        "outputId": "96f2bb1c-4052-492d-d094-937261c2fa43",
        "colab": {
          "base_uri": "https://localhost:8080/"
        }
      },
      "source": [
        "results = []\n",
        "for line in open(\"temp_data_pipes_00a.txt\"):\n",
        "    fields = line.strip().split(\"|\")\n",
        "    results.append(fields)\n",
        "\n",
        "results"
      ],
      "execution_count": null,
      "outputs": [
        {
          "output_type": "execute_result",
          "data": {
            "text/plain": [
              "[['Notes'],\n",
              " ['State',\n",
              "  'Month Day, Year Code',\n",
              "  'Avg Daily Max Air Temperature (F)',\n",
              "  'Record Count for Daily Max Air Temp (F)'],\n",
              " ['Illinois', '1979/01/01', '17.48', '994'],\n",
              " ['Illinois', '1979/01/02', '4.64', '994'],\n",
              " ['Illinois', '1979/01/03', '11.05', '994'],\n",
              " ['Illinois', '1979/01/04', '9.51', '994'],\n",
              " ['Illinois', '1979/05/15', '68.42', '994'],\n",
              " ['Illinois', '1979/05/16', '70.29', '994'],\n",
              " ['Illinois', '1979/05/17', '75.34', '994'],\n",
              " ['Illinois', '1979/05/18', '79.13', '994'],\n",
              " ['Illinois', '1979/05/19', '74.94', '994']]"
            ]
          },
          "metadata": {},
          "execution_count": 18
        }
      ]
    },
    {
      "cell_type": "code",
      "metadata": {
        "id": "Nq9ABJoiqK6c",
        "outputId": "117646ca-7975-49bf-a2ec-32aed9430f96",
        "colab": {
          "base_uri": "https://localhost:8080/"
        }
      },
      "source": [
        "import csv\n",
        "results = [fields for fields in csv.reader(open(\"temp_data_pipes_00a.txt\", newline=''), delimiter=\"|\")]\n",
        "results"
      ],
      "execution_count": null,
      "outputs": [
        {
          "output_type": "execute_result",
          "data": {
            "text/plain": [
              "[['Notes'],\n",
              " ['State',\n",
              "  'Month Day, Year Code',\n",
              "  'Avg Daily Max Air Temperature (F)',\n",
              "  'Record Count for Daily Max Air Temp (F)'],\n",
              " ['Illinois', '1979/01/01', '17.48', '994'],\n",
              " ['Illinois', '1979/01/02', '4.64', '994'],\n",
              " ['Illinois', '1979/01/03', '11.05', '994'],\n",
              " ['Illinois', '1979/01/04', '9.51', '994'],\n",
              " ['Illinois', '1979/05/15', '68.42', '994'],\n",
              " ['Illinois', '1979/05/16', '70.29', '994'],\n",
              " ['Illinois', '1979/05/17', '75.34', '994'],\n",
              " ['Illinois', '1979/05/18', '79.13', '994'],\n",
              " ['Illinois', '1979/05/19', '74.94', '994']]"
            ]
          },
          "metadata": {},
          "execution_count": 21
        }
      ]
    },
    {
      "cell_type": "markdown",
      "source": [
        "#### File 22.2 temp_data_01.csv"
      ],
      "metadata": {
        "id": "cKP42Iejlbd3"
      }
    },
    {
      "cell_type": "code",
      "source": [
        "%%writefile temp_data_01.csv\n",
        "\"Notes\",\"State\",\"State Code\",\"Month Day, Year\",\"Month Day, Year Code\",Avg Daily Max Air Temperature (F),Record Count for Daily Max Air Temp (F),Min Temp for Daily Max Air Temp (F),Max Temp for Daily Max Air Temp (F),Avg Daily Max Heat Index (F),Record Count for Daily Max Heat Index (F),Min for Daily Max Heat Index (F),Max for Daily Max Heat Index (F),Daily Max Heat Index (F) % Coverage\n",
        "\n",
        ",\"Illinois\",\"17\",\"Jan 01, 1979\",\"1979/01/01\",17.48,994,6.00,30.50,Missing,0,Missing,Missing,0.00%\n",
        ",\"Illinois\",\"17\",\"Jan 02, 1979\",\"1979/01/02\",4.64,994,-6.40,15.80,Missing,0,Missing,Missing,0.00%\n",
        ",\"Illinois\",\"17\",\"Jan 03, 1979\",\"1979/01/03\",11.05,994,-0.70,24.70,Missing,0,Missing,Missing,0.00%\n",
        ",\"Illinois\",\"17\",\"Jan 04, 1979\",\"1979/01/04\",9.51,994,0.20,27.60,Missing,0,Missing,Missing,0.00%\n",
        ",\"Illinois\",\"17\",\"May 15, 1979\",\"1979/05/15\",68.42,994,61.00,75.10,Missing,0,Missing,Missing,0.00%\n",
        ",\"Illinois\",\"17\",\"May 16, 1979\",\"1979/05/16\",70.29,994,63.40,73.50,Missing,0,Missing,Missing,0.00%\n",
        ",\"Illinois\",\"17\",\"May 17, 1979\",\"1979/05/17\",75.34,994,64.00,80.50,82.60,2,82.40,82.80,0.20%\n",
        ",\"Illinois\",\"17\",\"May 18, 1979\",\"1979/05/18\",79.13,994,75.50,82.10,81.42,349,80.20,83.40,35.11%\n",
        ",\"Illinois\",\"17\",\"May 19, 1979\",\"1979/05/19\",74.94,994,66.90,83.10,82.87,78,81.60,85.20,7.85%\n"
      ],
      "metadata": {
        "id": "ZIoTZz2flgFq",
        "colab": {
          "base_uri": "https://localhost:8080/"
        },
        "outputId": "1bc44cb1-1289-472d-ba18-e17b4ba62667"
      },
      "execution_count": null,
      "outputs": [
        {
          "output_type": "stream",
          "name": "stdout",
          "text": [
            "Writing temp_data_01.csv\n"
          ]
        }
      ]
    },
    {
      "cell_type": "code",
      "metadata": {
        "id": "R3MlmrpwqK6c",
        "outputId": "281f1c8f-36a0-476e-8fb3-598a6bcc030c",
        "colab": {
          "base_uri": "https://localhost:8080/"
        }
      },
      "source": [
        "results2 = [fields for fields in csv.reader(open(\"temp_data_01.csv\", newline=''))]\n",
        "print(results2)"
      ],
      "execution_count": null,
      "outputs": [
        {
          "output_type": "stream",
          "name": "stdout",
          "text": [
            "[['Notes', 'State', 'State Code', 'Month Day, Year', 'Month Day, Year Code', 'Avg Daily Max Air Temperature (F)', 'Record Count for Daily Max Air Temp (F)', 'Min Temp for Daily Max Air Temp (F)', 'Max Temp for Daily Max Air Temp (F)', 'Avg Daily Max Heat Index (F)', 'Record Count for Daily Max Heat Index (F)', 'Min for Daily Max Heat Index (F)', 'Max for Daily Max Heat Index (F)', 'Daily Max Heat Index (F) % Coverage'], [], ['', 'Illinois', '17', 'Jan 01, 1979', '1979/01/01', '17.48', '994', '6.00', '30.50', 'Missing', '0', 'Missing', 'Missing', '0.00%'], ['', 'Illinois', '17', 'Jan 02, 1979', '1979/01/02', '4.64', '994', '-6.40', '15.80', 'Missing', '0', 'Missing', 'Missing', '0.00%'], ['', 'Illinois', '17', 'Jan 03, 1979', '1979/01/03', '11.05', '994', '-0.70', '24.70', 'Missing', '0', 'Missing', 'Missing', '0.00%'], ['', 'Illinois', '17', 'Jan 04, 1979', '1979/01/04', '9.51', '994', '0.20', '27.60', 'Missing', '0', 'Missing', 'Missing', '0.00%'], ['', 'Illinois', '17', 'May 15, 1979', '1979/05/15', '68.42', '994', '61.00', '75.10', 'Missing', '0', 'Missing', 'Missing', '0.00%'], ['', 'Illinois', '17', 'May 16, 1979', '1979/05/16', '70.29', '994', '63.40', '73.50', 'Missing', '0', 'Missing', 'Missing', '0.00%'], ['', 'Illinois', '17', 'May 17, 1979', '1979/05/17', '75.34', '994', '64.00', '80.50', '82.60', '2', '82.40', '82.80', '0.20%'], ['', 'Illinois', '17', 'May 18, 1979', '1979/05/18', '79.13', '994', '75.50', '82.10', '81.42', '349', '80.20', '83.40', '35.11%'], ['', 'Illinois', '17', 'May 19, 1979', '1979/05/19', '74.94', '994', '66.90', '83.10', '82.87', '78', '81.60', '85.20', '7.85%']]\n"
          ]
        }
      ]
    },
    {
      "cell_type": "markdown",
      "source": [
        "### 22.2.5 Reading a csv file as a list of dictionaries"
      ],
      "metadata": {
        "id": "_7ivKvFF8hMd"
      }
    },
    {
      "cell_type": "code",
      "metadata": {
        "id": "QsPNKnsBqK6c",
        "outputId": "5feeac8f-2132-428d-d580-8395a5c3e01a",
        "colab": {
          "base_uri": "https://localhost:8080/"
        }
      },
      "source": [
        "results = [fields for fields in csv.DictReader(open(\"temp_data_01.csv\", newline=''))]\n",
        "results[0]"
      ],
      "execution_count": null,
      "outputs": [
        {
          "output_type": "execute_result",
          "data": {
            "text/plain": [
              "{'Notes': '',\n",
              " 'State': 'Illinois',\n",
              " 'State Code': '17',\n",
              " 'Month Day, Year': 'Jan 01, 1979',\n",
              " 'Month Day, Year Code': '1979/01/01',\n",
              " 'Avg Daily Max Air Temperature (F)': '17.48',\n",
              " 'Record Count for Daily Max Air Temp (F)': '994',\n",
              " 'Min Temp for Daily Max Air Temp (F)': '6.00',\n",
              " 'Max Temp for Daily Max Air Temp (F)': '30.50',\n",
              " 'Avg Daily Max Heat Index (F)': 'Missing',\n",
              " 'Record Count for Daily Max Heat Index (F)': '0',\n",
              " 'Min for Daily Max Heat Index (F)': 'Missing',\n",
              " 'Max for Daily Max Heat Index (F)': 'Missing',\n",
              " 'Daily Max Heat Index (F) % Coverage': '0.00%'}"
            ]
          },
          "metadata": {},
          "execution_count": 24
        }
      ]
    },
    {
      "cell_type": "code",
      "metadata": {
        "id": "uuujDBGfqK6d",
        "outputId": "135e73c2-be27-4852-fb93-f32d189f2c02"
      },
      "source": [
        "results[0]['State']"
      ],
      "execution_count": null,
      "outputs": [
        {
          "output_type": "stream",
          "name": "stdout",
          "text": [
            "'Illinois'\n"
          ]
        }
      ]
    },
    {
      "cell_type": "markdown",
      "source": [
        "# 22.3 Excel files"
      ],
      "metadata": {
        "id": "8FJrAH3t9J8c"
      }
    },
    {
      "cell_type": "code",
      "source": [
        "!wget https://raw.githubusercontent.com/nceder/qpb4e/main/code/Chapter%2022/temp_data_01.xlsx &> null  && echo Downloaded\n"
      ],
      "metadata": {
        "colab": {
          "base_uri": "https://localhost:8080/"
        },
        "id": "LsOIZVaD-5Th",
        "outputId": "3142f944-f8a6-40d6-8bc7-e6027a0049b0"
      },
      "execution_count": null,
      "outputs": [
        {
          "output_type": "stream",
          "name": "stdout",
          "text": [
            "Downloaded\n"
          ]
        }
      ]
    },
    {
      "cell_type": "markdown",
      "source": [],
      "metadata": {
        "id": "XMYtmdkZAxcN"
      }
    },
    {
      "cell_type": "code",
      "metadata": {
        "id": "eOzbYKq1qK6g",
        "outputId": "1e0cc738-1289-4546-d77b-74d81a2f75ce",
        "colab": {
          "base_uri": "https://localhost:8080/"
        }
      },
      "source": [
        "from openpyxl import load_workbook\n",
        "wb = load_workbook('temp_data_01.xlsx')\n",
        "results = []\n",
        "ws = wb.worksheets[0]\n",
        "for row in ws.iter_rows():\n",
        "    results.append([cell.value for cell in row])\n",
        "\n",
        "print(results)"
      ],
      "execution_count": null,
      "outputs": [
        {
          "output_type": "stream",
          "name": "stdout",
          "text": [
            "[['Notes', 'State', 'State Code', 'Month Day, Year', 'Month Day, Year Code', 'Avg Daily Max Air Temperature (F)', 'Record Count for Daily Max Air Temp (F)', 'Min Temp for Daily Max Air Temp (F)', 'Max Temp for Daily Max Air Temp (F)', 'Avg Daily Max Heat Index (F)', 'Record Count for Daily Max Heat Index (F)', 'Min for Daily Max Heat Index (F)', 'Max for Daily Max Heat Index (F)', 'Daily Max Heat Index (F) % Coverage'], [None, 'Illinois', 17, 'Jan 01, 1979', '1979/01/01', 17.48, 994, 6, 30.5, 'Missing', 0, 'Missing', 'Missing', '0.00%'], [None, 'Illinois', 17, 'Jan 02, 1979', '1979/01/02', 4.64, 994, -6.4, 15.8, 'Missing', 0, 'Missing', 'Missing', '0.00%'], [None, 'Illinois', 17, 'Jan 03, 1979', '1979/01/03', 11.05, 994, -0.7, 24.7, 'Missing', 0, 'Missing', 'Missing', '0.00%'], [None, 'Illinois', 17, 'Jan 04, 1979', '1979/01/04', 9.51, 994, 0.2, 27.6, 'Missing', 0, 'Missing', 'Missing', '0.00%'], [None, 'Illinois', 17, 'May 15, 1979', '1979/05/15', 68.42, 994, 61, 75.1, 'Missing', 0, 'Missing', 'Missing', '0.00%'], [None, 'Illinois', 17, 'May 16, 1979', '1979/05/16', 70.29, 994, 63.4, 73.5, 'Missing', 0, 'Missing', 'Missing', '0.00%'], [None, 'Illinois', 17, 'May 17, 1979', '1979/05/17', 75.34, 994, 64, 80.5, 82.6, 2, 82.4, 82.8, '0.20%'], [None, 'Illinois', 17, 'May 18, 1979', '1979/05/18', 79.13, 994, 75.5, 82.1, 81.42, 349, 80.2, 83.4, '35.11%'], [None, 'Illinois', 17, 'May 19, 1979', '1979/05/19', 74.94, 994, 66.9, 83.1, 82.87, 78, 81.6, 85.2, '7.85%']]\n"
          ]
        }
      ]
    },
    {
      "cell_type": "markdown",
      "source": [
        "## 22.4.2 Sorting"
      ],
      "metadata": {
        "id": "-pJyAYk5Afgq"
      }
    },
    {
      "cell_type": "code",
      "source": [
        "%%writefile datafile\n",
        "ZZZZZZ\n",
        "CCCCCC\n",
        "QQQQQQ\n",
        "AAAAAA"
      ],
      "metadata": {
        "colab": {
          "base_uri": "https://localhost:8080/"
        },
        "id": "Jay4MGu5Ai4A",
        "outputId": "bd405c22-f85e-4dc2-cdf3-942b866de40f"
      },
      "execution_count": null,
      "outputs": [
        {
          "output_type": "stream",
          "name": "stdout",
          "text": [
            "Writing datafile\n"
          ]
        }
      ]
    },
    {
      "cell_type": "code",
      "metadata": {
        "id": "3ghp1MuuqK6h",
        "outputId": "1446eb5d-841a-447a-ce0f-d582bd52e7be",
        "colab": {
          "base_uri": "https://localhost:8080/"
        }
      },
      "source": [
        "lines = open(\"datafile\").readlines()\n",
        "lines.sort()\n",
        "print(lines)"
      ],
      "execution_count": null,
      "outputs": [
        {
          "output_type": "stream",
          "name": "stdout",
          "text": [
            "['AAAAAA\\n', 'CCCCCC\\n', 'QQQQQQ\\n', 'ZZZZZZ\\n']\n"
          ]
        }
      ]
    },
    {
      "cell_type": "code",
      "metadata": {
        "id": "sAL1WPHMqK6h",
        "outputId": "99ef7ee9-fe77-4f0e-bd8c-d83eaee43b04",
        "colab": {
          "base_uri": "https://localhost:8080/"
        }
      },
      "source": [
        "! sort datafile > datafile.srt\n",
        "! cat datafile.srt"
      ],
      "execution_count": null,
      "outputs": [
        {
          "output_type": "stream",
          "name": "stdout",
          "text": [
            "AAAAAA\n",
            "CCCCCC\n",
            "QQQQQQ\n",
            "ZZZZZZ\n"
          ]
        }
      ]
    },
    {
      "cell_type": "code",
      "metadata": {
        "id": "KZxjtCpCqK6h",
        "outputId": "8aa2bc13-a0a6-4e9b-c0a4-484fa4125cc2"
      },
      "source": [
        "lines.sort(key=str.lower)"
      ],
      "execution_count": null,
      "outputs": [
        {
          "output_type": "stream",
          "name": "stdout",
          "text": []
        }
      ]
    },
    {
      "cell_type": "code",
      "metadata": {
        "id": "HVr676nNqK6k",
        "outputId": "71bdc71b-b662-4c94-adb1-3f59d40e3d09"
      },
      "source": [
        "lines.sort(key=lambda x: x[5:])"
      ],
      "execution_count": null,
      "outputs": [
        {
          "output_type": "stream",
          "name": "stdout",
          "text": []
        }
      ]
    },
    {
      "cell_type": "markdown",
      "source": [
        "# 22.5 Writing data files"
      ],
      "metadata": {
        "id": "1dLHdywTB2ip"
      }
    },
    {
      "cell_type": "markdown",
      "source": [
        "## 22.5.1 CSV and other delimited files"
      ],
      "metadata": {
        "id": "vGI9NEFKB7__"
      }
    },
    {
      "cell_type": "code",
      "metadata": {
        "id": "w-r4FN5yqK6k"
      },
      "source": [
        "temperature_data = [['State', 'Month Day, Year Code', 'Avg Daily Max Air Temperature (F)', 'Record Count for Daily Max Air Temp (F)'], ['Illinois', '1979/01/01', '17.48', '994'], ['Illinois', '1979/01/02', '4.64', '994'], ['Illinois', '1979/01/03', '11.05', '994'], ['Illinois', '1979/01/04', '9.51', '994'], ['Illinois', '1979/05/15', '68.42', '994'], ['Illinois', '1979/05/16', '70.29', '994'], ['Illinois', '1979/05/17', '75.34', '994'], ['Illinois', '1979/05/18', '79.13', '994'], ['Illinois', '1979/05/19', '74.94', '994']]\n",
        "csv.writer(open(\"temp_data_03.csv\", \"w\", newline='')).writerows(temperature_data)"
      ],
      "execution_count": null,
      "outputs": []
    },
    {
      "cell_type": "code",
      "metadata": {
        "id": "y4MYSpcDqK6l",
        "outputId": "d3aab212-0c8b-416a-b3e7-2380c9e47c95",
        "colab": {
          "base_uri": "https://localhost:8080/"
        }
      },
      "source": [
        "data = [{'State': 'Illinois',\n",
        " 'Month Day, Year Code': '1979/01/01',\n",
        " 'Avg Daily Max Air Temperature (F)': '17.48',\n",
        " 'Record Count for Daily Max Air Temp (F)': '994'}]\n",
        "fields = ['State', 'Month Day, Year Code', 'Avg Daily Max Air Temperature (F)', 'Record Count for Daily Max Air Temp (F)']\n",
        "dict_writer = csv.DictWriter(open(\"temp_data_04.csv\", \"w\"), fieldnames=fields)\n",
        "dict_writer.writeheader()\n",
        "dict_writer.writerows(data)\n",
        "del dict_writer"
      ],
      "execution_count": null,
      "outputs": [
        {
          "output_type": "stream",
          "name": "stdout",
          "text": [
            "[{'State': 'Illinois', 'Month Day, Year Code': '1979/01/01', 'Avg Daily Max Air Temperature (F)': '17.48', 'Record Count for Daily Max Air Temp (F)': '994'}]\n"
          ]
        }
      ]
    },
    {
      "cell_type": "markdown",
      "source": [
        "## 22.5.2 Writing Excel files."
      ],
      "metadata": {
        "id": "4uSBRap3FR_4"
      }
    },
    {
      "cell_type": "code",
      "metadata": {
        "id": "14lo2B4gqK6l",
        "outputId": "7e7244a7-699c-4161-bc50-94583605c762"
      },
      "source": [
        "from openpyxl import Workbook\n",
        "data_rows = [fields for fields in csv.reader(open(\"temp_data_01.csv\"))]\n",
        "wb = Workbook()\n",
        "ws = wb.active\n",
        "ws.title = \"temperature data\"\n",
        "for row in data_rows:\n",
        "    ws.append(row)\n",
        "\n",
        "wb.save(\"temp_data_02.xlsx\")"
      ],
      "execution_count": null,
      "outputs": [
        {
          "output_type": "stream",
          "name": "stdout",
          "text": []
        }
      ]
    },
    {
      "cell_type": "markdown",
      "source": [
        "# 22.6 Lab 22 Weather observations\n",
        "\n",
        "The file of weather observations provided here (`Illinois_weather_1979-2011.txt`) is by month and then by county for the state of Illinois from 1979 to 2011. Write the code to process this file to extract the data for Chicago (Cook County) into a single CSV or spreadsheet file. This process includes replacing the `'Missing'` strings with empty strings and translating the percentage to a decimal. You may also consider what fields are repetitive (and therefore can be omitted or stored elsewhere). The proof that you’ve got it right occurs when you load the file into a spreadsheet. You can download a solution with the book’s source code.\n"
      ],
      "metadata": {
        "id": "OKH9KncpFW9o"
      }
    },
    {
      "cell_type": "code",
      "source": [
        "!wget https://raw.githubusercontent.com/nceder/qpb4e/main/code/Chapter%2022/Illinois_weather_1979-2011.txt &> null  && echo Downloaded"
      ],
      "metadata": {
        "colab": {
          "base_uri": "https://localhost:8080/"
        },
        "id": "Syy-Rge_GEFn",
        "outputId": "118416f0-3355-46ae-ed8c-dcf57c28490a"
      },
      "execution_count": null,
      "outputs": [
        {
          "output_type": "stream",
          "name": "stdout",
          "text": [
            "Downloaded\n"
          ]
        }
      ]
    },
    {
      "cell_type": "markdown",
      "source": [
        "## Human solution"
      ],
      "metadata": {
        "id": "qm-AYC2GGokc"
      }
    },
    {
      "cell_type": "code",
      "source": [
        "data = open(\"Illinois_weather_1979-2011.txt\").readlines()\n",
        "data[:11]"
      ],
      "metadata": {
        "colab": {
          "base_uri": "https://localhost:8080/"
        },
        "id": "u1muOL1RGQ4a",
        "outputId": "8e60f6cc-9a35-41a3-f020-a5634622502d"
      },
      "execution_count": null,
      "outputs": [
        {
          "output_type": "execute_result",
          "data": {
            "text/plain": [
              "['\"Notes\"\\t\"Month\"\\t\"Month Code\"\\t\"County\"\\t\"County Code\"\\tAvg Daily Max Air Temperature (F)\\tRecord Count for Daily Max Air Temp (F)\\tMin Temp for Daily Max Air Temp (F)\\tMax Temp for Daily Max Air Temp (F)\\tAvg Daily Min Air Temperature (F)\\tRecord Count for Daily Min Air Temp (F)\\tMin Temp for Daily Min Air Temp (F)\\tMax Temp for Daily Min Air Temp (F)\\tAvg Daily Max Heat Index (F)\\tRecord Count for Daily Max Heat Index (F)\\tMin for Daily Max Heat Index (F)\\tMax for Daily Max Heat Index (F)\\tDaily Max Heat Index (F) % Coverage\\n',\n",
              " '\\t\"Jan\"\\t\"1\"\\t\"Adams County, IL\"\\t\"17001\"\\t31.89\\t19437\\t-10.00\\t68.90\\t18.01\\t19437\\t-26.20\\t50.30\\tMissing\\t0\\tMissing\\tMissing\\t0.00%\\n',\n",
              " '\\t\"Jan\"\\t\"1\"\\t\"Alexander County, IL\"\\t\"17003\"\\t41.07\\t6138\\t2.60\\t73.20\\t26.48\\t6138\\t-14.00\\t60.30\\tMissing\\t0\\tMissing\\tMissing\\t0.00%\\n',\n",
              " '\\t\"Jan\"\\t\"1\"\\t\"Bond County, IL\"\\t\"17005\"\\t35.71\\t6138\\t-2.70\\t69.50\\t22.18\\t6138\\t-17.90\\t57.20\\tMissing\\t0\\tMissing\\tMissing\\t0.00%\\n',\n",
              " '\\t\"Jan\"\\t\"1\"\\t\"Boone County, IL\"\\t\"17007\"\\t25.10\\t6138\\t-13.90\\t55.20\\t11.70\\t6138\\t-29.10\\t40.00\\tMissing\\t0\\tMissing\\tMissing\\t0.00%\\n',\n",
              " '\\t\"Jan\"\\t\"1\"\\t\"Brown County, IL\"\\t\"17009\"\\t32.22\\t5115\\t-10.10\\t69.00\\t18.49\\t5115\\t-25.70\\t51.40\\tMissing\\t0\\tMissing\\tMissing\\t0.00%\\n',\n",
              " '\\t\"Jan\"\\t\"1\"\\t\"Bureau County, IL\"\\t\"17011\"\\t27.61\\t18414\\t-11.40\\t63.40\\t14.73\\t18414\\t-35.00\\t43.90\\tMissing\\t0\\tMissing\\tMissing\\t0.00%\\n',\n",
              " '\\t\"Jan\"\\t\"1\"\\t\"Calhoun County, IL\"\\t\"17013\"\\t35.10\\t4092\\t-6.10\\t70.50\\t20.97\\t4092\\t-21.90\\t55.40\\tMissing\\t0\\tMissing\\tMissing\\t0.00%\\n',\n",
              " '\\t\"Jan\"\\t\"1\"\\t\"Carroll County, IL\"\\t\"17015\"\\t25.07\\t10230\\t-11.90\\t56.80\\t11.45\\t10230\\t-38.30\\t37.50\\tMissing\\t0\\tMissing\\tMissing\\t0.00%\\n',\n",
              " '\\t\"Jan\"\\t\"1\"\\t\"Cass County, IL\"\\t\"17017\"\\t32.35\\t7161\\t-10.30\\t68.90\\t18.94\\t7161\\t-25.10\\t51.50\\tMissing\\t0\\tMissing\\tMissing\\t0.00%\\n',\n",
              " '\\t\"Jan\"\\t\"1\"\\t\"Champaign County, IL\"\\t\"17019\"\\t31.13\\t17391\\t-13.30\\t67.70\\t17.97\\t17391\\t-29.20\\t52.30\\tMissing\\t0\\tMissing\\tMissing\\t0.00%\\n']"
            ]
          },
          "metadata": {},
          "execution_count": 61
        }
      ]
    },
    {
      "cell_type": "code",
      "source": [
        "import csv\n",
        "\n",
        "with (open(\"Illinois_weather_1979-2011.txt\") as infile,\n",
        "      open(\"Illinois_weather_1979-2011.csv\", \"w\") as outfile):\n",
        "    for row in csv.reader(infile, delimiter=\"\\t\"):\n",
        "        if row[0] == '---':\n",
        "            break\n",
        "        del row[0:2]\n",
        "        row = [item.replace(\"Missing\", \"\") for item in row]\n",
        "        row[-1] = row[-1].replace(\"%\", \"\")\n",
        "        row[-1] = float(row[-1]) / 100  if str.isdigit(row[-1]) else row[-1]\n",
        "        csv.writer(outfile).writerow(row)\n"
      ],
      "metadata": {
        "id": "d6UYmNebJoB-",
        "outputId": "bbde7ce7-4283-438c-d655-de5c43c8cf1e",
        "colab": {
          "base_uri": "https://localhost:8080/"
        }
      },
      "execution_count": null,
      "outputs": [
        {
          "output_type": "stream",
          "name": "stdout",
          "text": [
            "Month Code,County,County Code,Avg Daily Max Air Temperature (F),Record Count for Daily Max Air Temp (F),Min Temp for Daily Max Air Temp (F),Max Temp for Daily Max Air Temp (F),Avg Daily Min Air Temperature (F),Record Count for Daily Min Air Temp (F),Min Temp for Daily Min Air Temp (F),Max Temp for Daily Min Air Temp (F),Avg Daily Max Heat Index (F),Record Count for Daily Max Heat Index (F),Min for Daily Max Heat Index (F),Max for Daily Max Heat Index (F),Daily Max Heat Index (F)  Coverage\n",
            "1,\"Adams County, IL\",17001,31.89,19437,-10.00,68.90,18.01,19437,-26.20,50.30,,0,,,0.00\n",
            "1,\"Alexander County, IL\",17003,41.07,6138,2.60,73.20,26.48,6138,-14.00,60.30,,0,,,0.00\n",
            "1,\"Bond County, IL\",17005,35.71,6138,-2.70,69.50,22.18,6138,-17.90,57.20,,0,,,0.00\n",
            "1,\"Boone County, IL\",17007,25.10,6138,-13.90,55.20,11.70,6138,-29.10,40.00,,0,,,0.00\n",
            "1,\"Brown County, IL\",17009,32.22,5115,-10.10,69.00,18.49,5115,-25.70,51.40,,0,,,0.00\n",
            "1,\"Bureau County, IL\",17011,27.61,18414,-11.40,63.40,14.73,18414,-35.00,43.90,,0,,,0.00\n",
            "1,\"Calhoun County, IL\",17013,35.10,4092,-6.10,70.50,20.97,4092,-21.90,55.40,,0,,,0.00\n",
            "1,\"Carroll County, IL\",17015,25.07,10230,-11.90,56.80,11.45,10230,-38.30,37.50,,0,,,0.00\n",
            "1,\"Cass County, IL\",17017,32.35,7161,-10.30,68.90,18.94,7161,-25.10,51.50,,0,,,0.00\n",
            "1,\"Champaign County, IL\",17019,31.13,17391,-13.30,67.70,17.97,17391,-29.20,52.30,,0,,,0.00\n",
            "1,\"Christian County, IL\",17021,33.27,11253,-9.10,68.60,20.05,11253,-25.60,53.90,,0,,,0.00\n",
            "1,\"Clark County, IL\",17023,34.12,10230,-7.70,69.00,20.84,10230,-21.70,57.40,,0,,,0.00\n",
            "1,\"Clay County, IL\",17025,36.41,8184,-2.50,69.90,23.14,8184,-18.40,58.70,,0,,,0.00\n",
            "1,\"Clinton County, IL\",17027,36.70,10230,-1.20,70.30,22.82,10230,-17.60,58.50,,0,,,0.00\n",
            "1,\"Coles County, IL\",17029,33.09,8184,-9.00,68.30,19.90,8184,-24.20,54.10,,0,,,0.00\n",
            "1,\"Cook County, IL\",17031,27.85,15345,-11.80,64.00,15.73,15345,-28.60,45.30,,0,,,0.00\n",
            "1,\"Crawford County, IL\",17033,35.31,7161,-4.10,69.40,22.13,7161,-19.80,57.50,,0,,,0.00\n",
            "1,\"Cumberland County, IL\",17035,34.30,8184,-6.40,69.00,21.15,8184,-22.60,56.30,,0,,,0.00\n",
            "1,\"DeKalb County, IL\",17037,26.34,12276,-12.40,62.60,13.61,12276,-26.40,43.40,,0,,,0.00\n",
            "1,\"De Witt County, IL\",17039,31.14,7161,-12.50,66.90,17.97,7161,-28.10,49.90,,0,,,0.00\n",
            "1,\"Douglas County, IL\",17041,32.55,8184,-10.80,68.20,19.43,8184,-25.20,53.50,,0,,,0.00\n",
            "1,\"DuPage County, IL\",17043,27.21,6138,-11.70,62.70,14.85,6138,-27.70,44.00,,0,,,0.00\n",
            "1,\"Edgar County, IL\",17045,32.72,12276,-10.80,68.40,19.53,12276,-24.60,54.00,,0,,,0.00\n",
            "1,\"Edwards County, IL\",17047,37.32,3069,-1.40,70.50,23.77,3069,-16.60,58.00,,0,,,0.00\n",
            "1,\"Effingham County, IL\",17049,35.03,8184,-5.70,69.30,21.84,8184,-21.50,58.40,,0,,,0.00\n",
            "1,\"Fayette County, IL\",17051,35.07,13299,-5.40,69.70,21.67,13299,-21.50,57.60,,0,,,0.00\n",
            "1,\"Ford County, IL\",17053,29.77,10230,-13.70,65.70,17.11,10230,-27.20,51.60,,0,,,0.00\n",
            "1,\"Franklin County, IL\",17055,38.51,6138,-1.10,71.10,24.41,6138,-18.30,59.80,,0,,,0.00\n",
            "1,\"Fulton County, IL\",17057,30.59,16368,-11.70,67.20,17.27,16368,-29.40,49.50,,0,,,0.00\n",
            "1,\"Gallatin County, IL\",17059,39.50,4092,-0.40,71.90,25.41,4092,-16.60,60.80,,0,,,0.00\n",
            "1,\"Greene County, IL\",17061,34.29,10230,-6.40,70.20,20.50,10230,-22.20,54.40,,0,,,0.00\n",
            "1,\"Grundy County, IL\",17063,28.77,9207,-11.60,64.70,16.17,9207,-28.00,46.00,,0,,,0.00\n",
            "1,\"Hamilton County, IL\",17065,38.46,9207,-1.20,71.70,24.43,9207,-18.30,60.20,,0,,,0.00\n",
            "1,\"Hancock County, IL\",17067,30.75,13299,-10.70,67.80,16.83,13299,-28.00,47.40,,0,,,0.00\n",
            "1,\"Hardin County, IL\",17069,39.77,2046,-0.30,71.70,25.54,2046,-15.90,60.50,,0,,,0.00\n",
            "1,\"Henderson County, IL\",17071,29.28,10230,-11.00,65.00,15.43,10230,-30.00,44.60,,0,,,0.00\n",
            "1,\"Henry County, IL\",17073,27.40,16368,-11.20,63.10,13.93,16368,-35.30,41.20,,0,,,0.00\n",
            "1,\"Iroquois County, IL\",17075,29.67,20460,-13.40,65.40,16.82,20460,-26.90,50.20,,0,,,0.00\n",
            "1,\"Jackson County, IL\",17077,38.89,12276,0.20,71.30,24.46,12276,-17.20,59.40,,0,,,0.00\n",
            "1,\"Jasper County, IL\",17079,35.41,6138,-4.10,69.30,22.38,6138,-18.50,57.60,,0,,,0.00\n",
            "1,\"Jefferson County, IL\",17081,37.43,9207,-1.20,70.60,23.72,9207,-18.50,59.10,,0,,,0.00\n",
            "1,\"Jersey County, IL\",17083,35.29,7161,-3.90,70.20,21.44,7161,-20.90,56.00,,0,,,0.00\n",
            "1,\"Jo Daviess County, IL\",17085,24.34,10230,-13.20,55.10,10.81,10230,-31.70,36.30,,0,,,0.00\n",
            "1,\"Johnson County, IL\",17087,39.63,5115,0.10,72.00,25.67,5115,-17.30,59.60,,0,,,0.00\n",
            "1,\"Kane County, IL\",17089,26.55,9207,-12.50,62.60,13.89,9207,-25.80,43.40,,0,,,0.00\n",
            "1,\"Kankakee County, IL\",17091,29.00,12276,-12.70,65.00,16.24,12276,-26.70,49.60,,0,,,0.00\n",
            "1,\"Kendall County, IL\",17093,27.58,6138,-11.60,63.60,14.86,6138,-27.10,45.20,,0,,,0.00\n",
            "1,\"Knox County, IL\",17095,28.84,12276,-11.30,65.10,15.50,12276,-31.70,45.60,,0,,,0.00\n",
            "1,\"Lake County, IL\",17097,26.45,11253,-13.50,61.10,14.33,11253,-28.10,42.70,,0,,,0.00\n",
            "1,\"LaSalle County, IL\",17099,28.38,18414,-11.80,65.10,15.88,18414,-29.10,46.40,,0,,,0.00\n",
            "1,\"Lawrence County, IL\",17101,36.62,6138,-2.10,70.10,23.14,6138,-17.70,56.50,,0,,,0.00\n",
            "1,\"Lee County, IL\",17103,26.57,10230,-12.00,61.70,13.97,10230,-34.80,42.00,,0,,,0.00\n",
            "1,\"Livingston County, IL\",17105,29.22,18414,-13.50,65.40,16.44,18414,-28.50,51.90,,0,,,0.00\n",
            "1,\"Logan County, IL\",17107,31.44,14322,-12.00,67.70,18.25,14322,-30.30,51.70,,0,,,0.00\n",
            "1,\"McDonough County, IL\",17109,30.58,9207,-11.10,67.40,17.02,9207,-28.20,48.20,,0,,,0.00\n",
            "1,\"McHenry County, IL\",17111,25.42,12276,-14.70,60.30,12.24,12276,-29.60,41.60,,0,,,0.00\n",
            "1,\"McLean County, IL\",17113,29.91,21483,-13.70,66.30,17.27,21483,-30.50,53.40,,0,,,0.00\n",
            "1,\"Macon County, IL\",17115,31.97,8184,-10.70,67.80,18.82,8184,-27.00,52.30,,0,,,0.00\n",
            "1,\"Macoupin County, IL\",17117,34.25,12276,-5.40,69.60,20.60,12276,-22.80,55.00,,0,,,0.00\n",
            "1,\"Madison County, IL\",17119,36.04,14322,-2.50,70.50,22.37,14322,-19.00,57.60,,0,,,0.00\n",
            "1,\"Marion County, IL\",17121,36.39,9207,-2.30,69.90,22.97,9207,-18.40,58.80,,0,,,0.00\n",
            "1,\"Marshall County, IL\",17123,29.01,9207,-11.80,65.00,16.23,9207,-29.80,46.20,,0,,,0.00\n",
            "1,\"Mason County, IL\",17125,31.61,11253,-11.40,67.80,18.44,11253,-28.10,50.50,,0,,,0.00\n",
            "1,\"Massac County, IL\",17127,40.98,5115,1.50,73.50,26.35,5115,-14.70,60.40,,0,,,0.00\n",
            "1,\"Menard County, IL\",17129,32.13,5115,-10.50,67.80,18.93,5115,-25.70,51.00,,0,,,0.00\n",
            "1,\"Mercer County, IL\",17131,27.85,10230,-10.40,63.50,14.28,10230,-33.60,40.20,,0,,,0.00\n",
            "1,\"Monroe County, IL\",17133,37.79,7161,1.10,71.00,23.33,7161,-15.80,58.40,,0,,,0.00\n",
            "1,\"Montgomery County, IL\",17135,34.18,15345,-5.90,69.00,20.72,15345,-23.70,55.40,,0,,,0.00\n",
            "1,\"Morgan County, IL\",17137,32.82,11253,-10.10,69.50,19.22,11253,-24.90,52.80,,0,,,0.00\n",
            "1,\"Moultrie County, IL\",17139,32.88,5115,-8.40,68.30,19.74,5115,-25.00,53.40,,0,,,0.00\n",
            "1,\"Ogle County, IL\",17141,25.30,17391,-12.30,60.30,12.16,17391,-34.50,41.00,,0,,,0.00\n",
            "1,\"Peoria County, IL\",17143,29.31,12276,-11.50,66.10,16.23,12276,-31.90,48.00,,0,,,0.00\n",
            "1,\"Perry County, IL\",17145,37.93,8184,0.00,70.60,23.40,8184,-17.70,58.60,,0,,,0.00\n",
            "1,\"Piatt County, IL\",17147,31.61,7161,-12.80,67.80,18.41,7161,-29.00,52.40,,0,,,0.00\n",
            "1,\"Pike County, IL\",17149,33.10,15345,-8.60,70.50,19.22,15345,-24.60,53.10,,0,,,0.00\n",
            "1,\"Pope County, IL\",17151,39.86,7161,-0.20,72.80,25.35,7161,-16.40,60.10,,0,,,0.00\n",
            "1,\"Pulaski County, IL\",17153,40.73,4092,2.20,72.60,26.20,4092,-14.60,59.80,,0,,,0.00\n",
            "1,\"Putnam County, IL\",17155,28.67,4092,-10.90,63.80,16.01,4092,-29.50,43.90,,0,,,0.00\n",
            "1,\"Randolph County, IL\",17157,38.49,10230,0.60,71.30,23.95,10230,-16.80,59.00,,0,,,0.00\n",
            "1,\"Richland County, IL\",17159,36.18,6138,-2.90,69.80,22.91,6138,-17.70,57.00,,0,,,0.00\n",
            "1,\"Rock Island County, IL\",17161,27.07,7161,-9.90,61.40,13.61,7161,-35.10,38.60,,0,,,0.00\n",
            "1,\"St. Clair County, IL\",17163,37.07,9207,-0.70,70.70,22.98,9207,-16.60,58.40,,0,,,0.00\n",
            "1,\"Saline County, IL\",17165,39.20,6138,-0.60,71.70,25.05,6138,-17.30,60.30,,0,,,0.00\n",
            "1,\"Sangamon County, IL\",17167,32.92,16368,-9.50,68.60,19.69,16368,-25.10,53.00,,0,,,0.00\n",
            "1,\"Schuyler County, IL\",17169,31.64,7161,-10.90,68.30,18.06,7161,-26.60,50.60,,0,,,0.00\n",
            "1,\"Scott County, IL\",17171,33.18,5115,-8.40,69.50,19.42,5115,-23.70,52.60,,0,,,0.00\n",
            "1,\"Shelby County, IL\",17173,33.50,11253,-7.40,68.70,20.27,11253,-24.20,54.90,,0,,,0.00\n",
            "1,\"Stark County, IL\",17175,28.21,5115,-11.30,63.80,15.07,5115,-32.20,42.60,,0,,,0.00\n",
            "1,\"Stephenson County, IL\",17177,24.39,8184,-13.50,54.60,10.84,8184,-31.80,38.70,,0,,,0.00\n",
            "1,\"Tazewell County, IL\",17179,30.30,10230,-12.00,66.60,17.27,10230,-30.90,48.70,,0,,,0.00\n",
            "1,\"Union County, IL\",17181,39.53,8184,0.10,72.00,25.25,8184,-17.40,59.70,,0,,,0.00\n",
            "1,\"Vermilion County, IL\",17183,31.33,19437,-13.40,67.80,18.30,19437,-26.60,52.60,,0,,,0.00\n",
            "1,\"Wabash County, IL\",17185,37.40,6138,-1.30,70.60,23.94,6138,-16.60,58.30,,0,,,0.00\n",
            "1,\"Warren County, IL\",17187,29.08,8184,-11.20,65.40,15.42,8184,-31.10,46.00,,0,,,0.00\n",
            "1,\"Washington County, IL\",17189,37.35,9207,-0.30,70.40,23.06,9207,-18.00,58.70,,0,,,0.00\n",
            "1,\"Wayne County, IL\",17191,37.40,15345,-1.70,71.00,23.68,15345,-18.60,59.10,,0,,,0.00\n",
            "1,\"White County, IL\",17193,38.56,9207,-1.40,71.70,24.65,9207,-17.40,60.30,,0,,,0.00\n",
            "1,\"Whiteside County, IL\",17195,26.38,10230,-10.70,59.10,12.84,10230,-37.60,38.80,,0,,,0.00\n",
            "1,\"Will County, IL\",17197,28.28,18414,-12.40,64.50,15.58,18414,-27.80,46.20,,0,,,0.00\n",
            "1,\"Williamson County, IL\",17199,39.18,6138,-0.20,71.20,25.55,6138,-17.40,60.00,,0,,,0.00\n",
            "1,\"Winnebago County, IL\",17201,25.03,7161,-13.20,55.10,11.56,7161,-28.60,39.40,,0,,,0.00\n",
            "1,\"Woodford County, IL\",17203,29.32,8184,-12.40,65.50,16.28,8184,-30.70,47.60,,0,,,0.00\n",
            "2,\"Adams County, IL\",17001,37.36,17708,-4.50,72.70,22.40,17708,-27.20,52.00,,0,,,0.00\n",
            "2,\"Alexander County, IL\",17003,46.21,5592,2.70,76.00,30.25,5592,-9.90,60.50,,0,,,0.00\n",
            "2,\"Bond County, IL\",17005,41.01,5592,-0.20,73.30,25.81,5592,-21.50,56.50,,0,,,0.00\n",
            "2,\"Boone County, IL\",17007,29.78,5592,-15.90,68.90,16.69,5592,-33.30,45.60,,0,,,0.00\n",
            "2,\"Brown County, IL\",17009,37.79,4660,-3.80,73.00,22.95,4660,-26.60,52.70,,0,,,0.00\n",
            "2,\"Bureau County, IL\",17011,32.83,16776,-13.30,72.20,19.38,16776,-26.90,48.80,,0,,,0.00\n",
            "2,\"Calhoun County, IL\",17013,40.37,3728,-1.80,73.60,24.84,3728,-24.30,54.40,,0,,,0.00\n",
            "2,\"Carroll County, IL\",17015,30.1\n"
          ]
        }
      ]
    },
    {
      "cell_type": "code",
      "source": [],
      "metadata": {
        "id": "KD0Gwhu5MzOF"
      },
      "execution_count": null,
      "outputs": []
    }
  ]
}