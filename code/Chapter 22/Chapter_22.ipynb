{
  "nbformat": 4,
  "nbformat_minor": 0,
  "metadata": {
    "colab": {
      "provenance": [],
      "include_colab_link": true
    },
    "kernelspec": {
      "name": "python3",
      "display_name": "Python 3"
    },
    "language_info": {
      "name": "python"
    }
  },
  "cells": [
    {
      "cell_type": "markdown",
      "metadata": {
        "id": "view-in-github",
        "colab_type": "text"
      },
      "source": [
        "<a href=\"https://colab.research.google.com/github/nceder/qpb4e/blob/main/code/Chapter%2022/Chapter_22.ipynb\" target=\"_parent\"><img src=\"https://colab.research.google.com/assets/colab-badge.svg\" alt=\"Open In Colab\"/></a>"
      ]
    },
    {
      "cell_type": "markdown",
      "source": [
        "# 22 Processing data files"
      ],
      "metadata": {
        "id": "9nRSlzZq3Orp"
      }
    },
    {
      "cell_type": "markdown",
      "source": [
        "### 22.2.1 Text encoding: ASCII, Unicode, and others"
      ],
      "metadata": {
        "id": "-cCz9Vai3vt8"
      }
    },
    {
      "cell_type": "code",
      "metadata": {
        "id": "1X_KDMImqK6O",
        "outputId": "bf20c0bd-0225-49ba-a028-796cc2ab0759",
        "colab": {
          "base_uri": "https://localhost:8080/"
        }
      },
      "source": [
        "open('test.txt', 'wb').write(bytes([65, 66, 67, 255, 192,193]))"
      ],
      "execution_count": 1,
      "outputs": [
        {
          "output_type": "execute_result",
          "data": {
            "text/plain": [
              "6"
            ]
          },
          "metadata": {},
          "execution_count": 1
        }
      ]
    },
    {
      "cell_type": "code",
      "metadata": {
        "id": "FoKQn2rOqK6U",
        "outputId": "2caff6a4-acd4-46a4-83d4-793cb8714689",
        "colab": {
          "base_uri": "https://localhost:8080/",
          "height": 263
        }
      },
      "source": [
        "x = open('test.txt').read()"
      ],
      "execution_count": 2,
      "outputs": [
        {
          "output_type": "error",
          "ename": "UnicodeDecodeError",
          "evalue": "'utf-8' codec can't decode byte 0xff in position 3: invalid start byte",
          "traceback": [
            "\u001b[0;31m---------------------------------------------------------------------------\u001b[0m",
            "\u001b[0;31mUnicodeDecodeError\u001b[0m                        Traceback (most recent call last)",
            "\u001b[0;32m<ipython-input-2-2cb3105c1e5f>\u001b[0m in \u001b[0;36m<cell line: 1>\u001b[0;34m()\u001b[0m\n\u001b[0;32m----> 1\u001b[0;31m \u001b[0mx\u001b[0m \u001b[0;34m=\u001b[0m \u001b[0mopen\u001b[0m\u001b[0;34m(\u001b[0m\u001b[0;34m'test.txt'\u001b[0m\u001b[0;34m)\u001b[0m\u001b[0;34m.\u001b[0m\u001b[0mread\u001b[0m\u001b[0;34m(\u001b[0m\u001b[0;34m)\u001b[0m\u001b[0;34m\u001b[0m\u001b[0;34m\u001b[0m\u001b[0m\n\u001b[0m",
            "\u001b[0;32m/usr/lib/python3.10/codecs.py\u001b[0m in \u001b[0;36mdecode\u001b[0;34m(self, input, final)\u001b[0m\n\u001b[1;32m    320\u001b[0m         \u001b[0;31m# decode input (taking the buffer into account)\u001b[0m\u001b[0;34m\u001b[0m\u001b[0;34m\u001b[0m\u001b[0m\n\u001b[1;32m    321\u001b[0m         \u001b[0mdata\u001b[0m \u001b[0;34m=\u001b[0m \u001b[0mself\u001b[0m\u001b[0;34m.\u001b[0m\u001b[0mbuffer\u001b[0m \u001b[0;34m+\u001b[0m \u001b[0minput\u001b[0m\u001b[0;34m\u001b[0m\u001b[0;34m\u001b[0m\u001b[0m\n\u001b[0;32m--> 322\u001b[0;31m         \u001b[0;34m(\u001b[0m\u001b[0mresult\u001b[0m\u001b[0;34m,\u001b[0m \u001b[0mconsumed\u001b[0m\u001b[0;34m)\u001b[0m \u001b[0;34m=\u001b[0m \u001b[0mself\u001b[0m\u001b[0;34m.\u001b[0m\u001b[0m_buffer_decode\u001b[0m\u001b[0;34m(\u001b[0m\u001b[0mdata\u001b[0m\u001b[0;34m,\u001b[0m \u001b[0mself\u001b[0m\u001b[0;34m.\u001b[0m\u001b[0merrors\u001b[0m\u001b[0;34m,\u001b[0m \u001b[0mfinal\u001b[0m\u001b[0;34m)\u001b[0m\u001b[0;34m\u001b[0m\u001b[0;34m\u001b[0m\u001b[0m\n\u001b[0m\u001b[1;32m    323\u001b[0m         \u001b[0;31m# keep undecoded input until the next call\u001b[0m\u001b[0;34m\u001b[0m\u001b[0;34m\u001b[0m\u001b[0m\n\u001b[1;32m    324\u001b[0m         \u001b[0mself\u001b[0m\u001b[0;34m.\u001b[0m\u001b[0mbuffer\u001b[0m \u001b[0;34m=\u001b[0m \u001b[0mdata\u001b[0m\u001b[0;34m[\u001b[0m\u001b[0mconsumed\u001b[0m\u001b[0;34m:\u001b[0m\u001b[0;34m]\u001b[0m\u001b[0;34m\u001b[0m\u001b[0;34m\u001b[0m\u001b[0m\n",
            "\u001b[0;31mUnicodeDecodeError\u001b[0m: 'utf-8' codec can't decode byte 0xff in position 3: invalid start byte"
          ]
        }
      ]
    },
    {
      "cell_type": "code",
      "metadata": {
        "id": "xsIfwuypqK6U",
        "outputId": "498ae8ff-969a-4d25-dc22-b280575dca43",
        "colab": {
          "base_uri": "https://localhost:8080/",
          "height": 35
        }
      },
      "source": [
        "open('test.txt', errors='ignore').read()"
      ],
      "execution_count": 3,
      "outputs": [
        {
          "output_type": "execute_result",
          "data": {
            "text/plain": [
              "'ABC'"
            ],
            "application/vnd.google.colaboratory.intrinsic+json": {
              "type": "string"
            }
          },
          "metadata": {},
          "execution_count": 3
        }
      ]
    },
    {
      "cell_type": "code",
      "metadata": {
        "id": "DG0wRRhnqK6V",
        "outputId": "63b2f617-f3e7-413b-a4fc-02366fba3739",
        "colab": {
          "base_uri": "https://localhost:8080/"
        }
      },
      "source": [
        "open('test.txt', errors='replace').read()"
      ],
      "execution_count": 8,
      "outputs": [
        {
          "output_type": "execute_result",
          "data": {
            "text/plain": [
              "65533"
            ]
          },
          "metadata": {},
          "execution_count": 8
        }
      ]
    },
    {
      "cell_type": "code",
      "metadata": {
        "id": "11WfIcnGqK6W",
        "outputId": "3c1740bb-ba96-415e-eca3-6250fb42b7e5",
        "colab": {
          "base_uri": "https://localhost:8080/",
          "height": 35
        }
      },
      "source": [
        "open('test.txt', errors='surrogateescape').read()"
      ],
      "execution_count": 5,
      "outputs": [
        {
          "output_type": "execute_result",
          "data": {
            "text/plain": [
              "'ABC\\udcff\\udcc0\\udcc1'"
            ],
            "application/vnd.google.colaboratory.intrinsic+json": {
              "type": "string"
            }
          },
          "metadata": {},
          "execution_count": 5
        }
      ]
    },
    {
      "cell_type": "code",
      "metadata": {
        "id": "W-2MWiRkqK6X",
        "outputId": "ba7bd5e0-86bc-4f21-8a07-f94d25b1e121",
        "colab": {
          "base_uri": "https://localhost:8080/",
          "height": 35
        }
      },
      "source": [
        "open('test.txt', errors='backslashreplace').read()"
      ],
      "execution_count": 6,
      "outputs": [
        {
          "output_type": "execute_result",
          "data": {
            "text/plain": [
              "'ABC\\\\xff\\\\xc0\\\\xc1'"
            ],
            "application/vnd.google.colaboratory.intrinsic+json": {
              "type": "string"
            }
          },
          "metadata": {},
          "execution_count": 6
        }
      ]
    },
    {
      "cell_type": "markdown",
      "source": [
        "### 22.2.2 Unstructured text"
      ],
      "metadata": {
        "id": "JE-RISW05BIa"
      }
    },
    {
      "cell_type": "code",
      "source": [
        "!wget https://raw.githubusercontent.com/nceder/qpb4e/main/code/Chapter%2022/moby_01.txt &> null  && echo Downloaded\n"
      ],
      "metadata": {
        "id": "MBxzaLj06dnw",
        "outputId": "12446f57-bff9-4732-e887-d3587c956a58",
        "colab": {
          "base_uri": "https://localhost:8080/"
        }
      },
      "execution_count": 29,
      "outputs": [
        {
          "output_type": "stream",
          "name": "stdout",
          "text": [
            "Downloaded\n"
          ]
        }
      ]
    },
    {
      "cell_type": "code",
      "metadata": {
        "id": "58PlUJcDqK6Z",
        "outputId": "59fc67c0-cb05-41dc-d6ba-95b2ce3d3d16",
        "colab": {
          "base_uri": "https://localhost:8080/"
        }
      },
      "source": [
        "moby_text = open(\"moby_01.txt\").read()         #A\n",
        "moby_paragraphs = moby_text.split(\"\\n\\n\")     #B\n",
        "print(moby_paragraphs[1])"
      ],
      "execution_count": 11,
      "outputs": [
        {
          "output_type": "stream",
          "name": "stdout",
          "text": [
            "There now is your insular city of the Manhattoes, belted round by wharves\n",
            "as Indian isles by coral reefs -commerce surrounds it with her surf.\n",
            "Right and left, the streets take you waterward.  Its extreme downtown\n",
            "is the battery, where that noble mole is washed by waves, and cooled\n",
            "by breezes, which a few hours previous were out of sight of land.\n",
            "Look at the crowds of water-gazers there.\n",
            "\n"
          ]
        }
      ]
    },
    {
      "cell_type": "code",
      "metadata": {
        "id": "QDSPfWRJqK6a",
        "outputId": "cd1f1dfa-c176-4e2d-c0b9-863a5889e557",
        "colab": {
          "base_uri": "https://localhost:8080/"
        }
      },
      "source": [
        "moby_text = open(\"moby_01.txt\").read()        #A\n",
        "moby_paragraphs = moby_text.split(\"\\n\\n\")\n",
        "moby = moby_paragraphs[1].lower()             #B\n",
        "moby = moby.replace(\".\", \"\")                  #C\n",
        "moby = moby.replace(\",\", \"\")                  #D\n",
        "moby_words = moby.split()\n",
        "print(moby_words)"
      ],
      "execution_count": 15,
      "outputs": [
        {
          "output_type": "stream",
          "name": "stdout",
          "text": [
            "['there', 'now', 'is', 'your', 'insular', 'city', 'of', 'the', 'manhattoes', 'belted', 'round', 'by', 'wharves', 'as', 'indian', 'isles', 'by', 'coral', 'reefs', '-commerce', 'surrounds', 'it', 'with', 'her', 'surf', 'right', 'and', 'left', 'the', 'streets', 'take', 'you', 'waterward', 'its', 'extreme', 'downtown', 'is', 'the', 'battery', 'where', 'that', 'noble', 'mole', 'is', 'washed', 'by', 'waves', 'and', 'cooled', 'by', 'breezes', 'which', 'a', 'few', 'hours', 'previous', 'were', 'out', 'of', 'sight', 'of', 'land', 'look', 'at', 'the', 'crowds', 'of', 'water-gazers', 'there']\n"
          ]
        }
      ]
    },
    {
      "cell_type": "markdown",
      "source": [
        "### 22.2.3 Delimited flat files"
      ],
      "metadata": {
        "id": "RtwkWMDd7j_M"
      }
    },
    {
      "cell_type": "markdown",
      "source": [
        "#### File 22.1 temp_data_ pipes_00a.txt"
      ],
      "metadata": {
        "id": "PBprDO7Wk2de"
      }
    },
    {
      "cell_type": "code",
      "source": [
        "%%writefile temp_data_pipes_00a.txt\n",
        "Notes\n",
        "State|Month Day, Year Code|Avg Daily Max Air Temperature (F)|Record Count for Daily Max Air Temp (F)\n",
        "Illinois|1979/01/01|17.48|994\n",
        "Illinois|1979/01/02|4.64|994\n",
        "Illinois|1979/01/03|11.05|994\n",
        "Illinois|1979/01/04|9.51|994\n",
        "Illinois|1979/05/15|68.42|994\n",
        "Illinois|1979/05/16|70.29|994\n",
        "Illinois|1979/05/17|75.34|994\n",
        "Illinois|1979/05/18|79.13|994\n",
        "Illinois|1979/05/19|74.94|994\n"
      ],
      "metadata": {
        "id": "cwWsDlLykqlb",
        "outputId": "91233f24-e665-4b0f-b897-e6e83f05bbc0",
        "colab": {
          "base_uri": "https://localhost:8080/"
        }
      },
      "execution_count": 16,
      "outputs": [
        {
          "output_type": "stream",
          "name": "stdout",
          "text": [
            "Writing temp_data_pipes_00a.txt\n"
          ]
        }
      ]
    },
    {
      "cell_type": "code",
      "metadata": {
        "id": "HP4ZL0skqK6b",
        "outputId": "5d44bd29-a098-43a1-ae6c-156952b6c3ff",
        "colab": {
          "base_uri": "https://localhost:8080/"
        }
      },
      "source": [
        "line = \"Illinois|1979/01/01|17.48|994\"\n",
        "print(line.split(\"|\"))"
      ],
      "execution_count": 17,
      "outputs": [
        {
          "output_type": "stream",
          "name": "stdout",
          "text": [
            "['Illinois', '1979/01/01', '17.48', '994']\n"
          ]
        }
      ]
    },
    {
      "cell_type": "markdown",
      "source": [
        "### 22.2.4 The csv module"
      ],
      "metadata": {
        "id": "bIPW3nMI70gT"
      }
    },
    {
      "cell_type": "code",
      "metadata": {
        "id": "x_Zxe87dqK6b",
        "outputId": "96f2bb1c-4052-492d-d094-937261c2fa43",
        "colab": {
          "base_uri": "https://localhost:8080/"
        }
      },
      "source": [
        "results = []\n",
        "for line in open(\"temp_data_pipes_00a.txt\"):\n",
        "    fields = line.strip().split(\"|\")\n",
        "    results.append(fields)\n",
        "\n",
        "results"
      ],
      "execution_count": 18,
      "outputs": [
        {
          "output_type": "execute_result",
          "data": {
            "text/plain": [
              "[['Notes'],\n",
              " ['State',\n",
              "  'Month Day, Year Code',\n",
              "  'Avg Daily Max Air Temperature (F)',\n",
              "  'Record Count for Daily Max Air Temp (F)'],\n",
              " ['Illinois', '1979/01/01', '17.48', '994'],\n",
              " ['Illinois', '1979/01/02', '4.64', '994'],\n",
              " ['Illinois', '1979/01/03', '11.05', '994'],\n",
              " ['Illinois', '1979/01/04', '9.51', '994'],\n",
              " ['Illinois', '1979/05/15', '68.42', '994'],\n",
              " ['Illinois', '1979/05/16', '70.29', '994'],\n",
              " ['Illinois', '1979/05/17', '75.34', '994'],\n",
              " ['Illinois', '1979/05/18', '79.13', '994'],\n",
              " ['Illinois', '1979/05/19', '74.94', '994']]"
            ]
          },
          "metadata": {},
          "execution_count": 18
        }
      ]
    },
    {
      "cell_type": "code",
      "metadata": {
        "id": "Nq9ABJoiqK6c",
        "outputId": "117646ca-7975-49bf-a2ec-32aed9430f96",
        "colab": {
          "base_uri": "https://localhost:8080/"
        }
      },
      "source": [
        "import csv\n",
        "results = [fields for fields in csv.reader(open(\"temp_data_pipes_00a.txt\", newline=''), delimiter=\"|\")]\n",
        "results"
      ],
      "execution_count": 21,
      "outputs": [
        {
          "output_type": "execute_result",
          "data": {
            "text/plain": [
              "[['Notes'],\n",
              " ['State',\n",
              "  'Month Day, Year Code',\n",
              "  'Avg Daily Max Air Temperature (F)',\n",
              "  'Record Count for Daily Max Air Temp (F)'],\n",
              " ['Illinois', '1979/01/01', '17.48', '994'],\n",
              " ['Illinois', '1979/01/02', '4.64', '994'],\n",
              " ['Illinois', '1979/01/03', '11.05', '994'],\n",
              " ['Illinois', '1979/01/04', '9.51', '994'],\n",
              " ['Illinois', '1979/05/15', '68.42', '994'],\n",
              " ['Illinois', '1979/05/16', '70.29', '994'],\n",
              " ['Illinois', '1979/05/17', '75.34', '994'],\n",
              " ['Illinois', '1979/05/18', '79.13', '994'],\n",
              " ['Illinois', '1979/05/19', '74.94', '994']]"
            ]
          },
          "metadata": {},
          "execution_count": 21
        }
      ]
    },
    {
      "cell_type": "markdown",
      "source": [
        "#### File 22.2 temp_data_01.csv"
      ],
      "metadata": {
        "id": "cKP42Iejlbd3"
      }
    },
    {
      "cell_type": "code",
      "source": [
        "%%writefile temp_data_01.csv\n",
        "\"Notes\",\"State\",\"State Code\",\"Month Day, Year\",\"Month Day, Year Code\",Avg Daily Max Air Temperature (F),Record Count for Daily Max Air Temp (F),Min Temp for Daily Max Air Temp (F),Max Temp for Daily Max Air Temp (F),Avg Daily Max Heat Index (F),Record Count for Daily Max Heat Index (F),Min for Daily Max Heat Index (F),Max for Daily Max Heat Index (F),Daily Max Heat Index (F) % Coverage\n",
        "\n",
        ",\"Illinois\",\"17\",\"Jan 01, 1979\",\"1979/01/01\",17.48,994,6.00,30.50,Missing,0,Missing,Missing,0.00%\n",
        ",\"Illinois\",\"17\",\"Jan 02, 1979\",\"1979/01/02\",4.64,994,-6.40,15.80,Missing,0,Missing,Missing,0.00%\n",
        ",\"Illinois\",\"17\",\"Jan 03, 1979\",\"1979/01/03\",11.05,994,-0.70,24.70,Missing,0,Missing,Missing,0.00%\n",
        ",\"Illinois\",\"17\",\"Jan 04, 1979\",\"1979/01/04\",9.51,994,0.20,27.60,Missing,0,Missing,Missing,0.00%\n",
        ",\"Illinois\",\"17\",\"May 15, 1979\",\"1979/05/15\",68.42,994,61.00,75.10,Missing,0,Missing,Missing,0.00%\n",
        ",\"Illinois\",\"17\",\"May 16, 1979\",\"1979/05/16\",70.29,994,63.40,73.50,Missing,0,Missing,Missing,0.00%\n",
        ",\"Illinois\",\"17\",\"May 17, 1979\",\"1979/05/17\",75.34,994,64.00,80.50,82.60,2,82.40,82.80,0.20%\n",
        ",\"Illinois\",\"17\",\"May 18, 1979\",\"1979/05/18\",79.13,994,75.50,82.10,81.42,349,80.20,83.40,35.11%\n",
        ",\"Illinois\",\"17\",\"May 19, 1979\",\"1979/05/19\",74.94,994,66.90,83.10,82.87,78,81.60,85.20,7.85%\n"
      ],
      "metadata": {
        "id": "ZIoTZz2flgFq",
        "outputId": "1bc44cb1-1289-472d-ba18-e17b4ba62667",
        "colab": {
          "base_uri": "https://localhost:8080/"
        }
      },
      "execution_count": 19,
      "outputs": [
        {
          "output_type": "stream",
          "name": "stdout",
          "text": [
            "Writing temp_data_01.csv\n"
          ]
        }
      ]
    },
    {
      "cell_type": "code",
      "metadata": {
        "id": "R3MlmrpwqK6c",
        "outputId": "281f1c8f-36a0-476e-8fb3-598a6bcc030c",
        "colab": {
          "base_uri": "https://localhost:8080/"
        }
      },
      "source": [
        "results2 = [fields for fields in csv.reader(open(\"temp_data_01.csv\", newline=''))]\n",
        "print(results2)"
      ],
      "execution_count": 23,
      "outputs": [
        {
          "output_type": "stream",
          "name": "stdout",
          "text": [
            "[['Notes', 'State', 'State Code', 'Month Day, Year', 'Month Day, Year Code', 'Avg Daily Max Air Temperature (F)', 'Record Count for Daily Max Air Temp (F)', 'Min Temp for Daily Max Air Temp (F)', 'Max Temp for Daily Max Air Temp (F)', 'Avg Daily Max Heat Index (F)', 'Record Count for Daily Max Heat Index (F)', 'Min for Daily Max Heat Index (F)', 'Max for Daily Max Heat Index (F)', 'Daily Max Heat Index (F) % Coverage'], [], ['', 'Illinois', '17', 'Jan 01, 1979', '1979/01/01', '17.48', '994', '6.00', '30.50', 'Missing', '0', 'Missing', 'Missing', '0.00%'], ['', 'Illinois', '17', 'Jan 02, 1979', '1979/01/02', '4.64', '994', '-6.40', '15.80', 'Missing', '0', 'Missing', 'Missing', '0.00%'], ['', 'Illinois', '17', 'Jan 03, 1979', '1979/01/03', '11.05', '994', '-0.70', '24.70', 'Missing', '0', 'Missing', 'Missing', '0.00%'], ['', 'Illinois', '17', 'Jan 04, 1979', '1979/01/04', '9.51', '994', '0.20', '27.60', 'Missing', '0', 'Missing', 'Missing', '0.00%'], ['', 'Illinois', '17', 'May 15, 1979', '1979/05/15', '68.42', '994', '61.00', '75.10', 'Missing', '0', 'Missing', 'Missing', '0.00%'], ['', 'Illinois', '17', 'May 16, 1979', '1979/05/16', '70.29', '994', '63.40', '73.50', 'Missing', '0', 'Missing', 'Missing', '0.00%'], ['', 'Illinois', '17', 'May 17, 1979', '1979/05/17', '75.34', '994', '64.00', '80.50', '82.60', '2', '82.40', '82.80', '0.20%'], ['', 'Illinois', '17', 'May 18, 1979', '1979/05/18', '79.13', '994', '75.50', '82.10', '81.42', '349', '80.20', '83.40', '35.11%'], ['', 'Illinois', '17', 'May 19, 1979', '1979/05/19', '74.94', '994', '66.90', '83.10', '82.87', '78', '81.60', '85.20', '7.85%']]\n"
          ]
        }
      ]
    },
    {
      "cell_type": "markdown",
      "source": [
        "### 22.2.5 Reading a csv file as a list of dictionaries"
      ],
      "metadata": {
        "id": "_7ivKvFF8hMd"
      }
    },
    {
      "cell_type": "code",
      "metadata": {
        "id": "QsPNKnsBqK6c",
        "outputId": "5feeac8f-2132-428d-d580-8395a5c3e01a",
        "colab": {
          "base_uri": "https://localhost:8080/"
        }
      },
      "source": [
        "results = [fields for fields in csv.DictReader(open(\"temp_data_01.csv\", newline=''))]\n",
        "results[0]"
      ],
      "execution_count": 24,
      "outputs": [
        {
          "output_type": "execute_result",
          "data": {
            "text/plain": [
              "{'Notes': '',\n",
              " 'State': 'Illinois',\n",
              " 'State Code': '17',\n",
              " 'Month Day, Year': 'Jan 01, 1979',\n",
              " 'Month Day, Year Code': '1979/01/01',\n",
              " 'Avg Daily Max Air Temperature (F)': '17.48',\n",
              " 'Record Count for Daily Max Air Temp (F)': '994',\n",
              " 'Min Temp for Daily Max Air Temp (F)': '6.00',\n",
              " 'Max Temp for Daily Max Air Temp (F)': '30.50',\n",
              " 'Avg Daily Max Heat Index (F)': 'Missing',\n",
              " 'Record Count for Daily Max Heat Index (F)': '0',\n",
              " 'Min for Daily Max Heat Index (F)': 'Missing',\n",
              " 'Max for Daily Max Heat Index (F)': 'Missing',\n",
              " 'Daily Max Heat Index (F) % Coverage': '0.00%'}"
            ]
          },
          "metadata": {},
          "execution_count": 24
        }
      ]
    },
    {
      "cell_type": "code",
      "metadata": {
        "id": "uuujDBGfqK6d",
        "outputId": "135e73c2-be27-4852-fb93-f32d189f2c02"
      },
      "source": [
        "results[0]['State']"
      ],
      "execution_count": null,
      "outputs": [
        {
          "output_type": "stream",
          "name": "stdout",
          "text": [
            "'Illinois'\n"
          ]
        }
      ]
    },
    {
      "cell_type": "markdown",
      "source": [
        "# 22.3 Excel files"
      ],
      "metadata": {
        "id": "8FJrAH3t9J8c"
      }
    },
    {
      "cell_type": "code",
      "source": [
        "!wget https://raw.githubusercontent.com/nceder/qpb4e/main/code/Chapter%2022/temp_data_01.xlsx &> null  && echo Downloaded\n"
      ],
      "metadata": {
        "id": "LsOIZVaD-5Th",
        "outputId": "3142f944-f8a6-40d6-8bc7-e6027a0049b0",
        "colab": {
          "base_uri": "https://localhost:8080/"
        }
      },
      "execution_count": 30,
      "outputs": [
        {
          "output_type": "stream",
          "name": "stdout",
          "text": [
            "Downloaded\n"
          ]
        }
      ]
    },
    {
      "cell_type": "markdown",
      "source": [],
      "metadata": {
        "id": "XMYtmdkZAxcN"
      }
    },
    {
      "cell_type": "code",
      "metadata": {
        "id": "eOzbYKq1qK6g",
        "outputId": "1e0cc738-1289-4546-d77b-74d81a2f75ce",
        "colab": {
          "base_uri": "https://localhost:8080/"
        }
      },
      "source": [
        "from openpyxl import load_workbook\n",
        "wb = load_workbook('temp_data_01.xlsx')\n",
        "results = []\n",
        "ws = wb.worksheets[0]\n",
        "for row in ws.iter_rows():\n",
        "    results.append([cell.value for cell in row])\n",
        "\n",
        "print(results)"
      ],
      "execution_count": 31,
      "outputs": [
        {
          "output_type": "stream",
          "name": "stdout",
          "text": [
            "[['Notes', 'State', 'State Code', 'Month Day, Year', 'Month Day, Year Code', 'Avg Daily Max Air Temperature (F)', 'Record Count for Daily Max Air Temp (F)', 'Min Temp for Daily Max Air Temp (F)', 'Max Temp for Daily Max Air Temp (F)', 'Avg Daily Max Heat Index (F)', 'Record Count for Daily Max Heat Index (F)', 'Min for Daily Max Heat Index (F)', 'Max for Daily Max Heat Index (F)', 'Daily Max Heat Index (F) % Coverage'], [None, 'Illinois', 17, 'Jan 01, 1979', '1979/01/01', 17.48, 994, 6, 30.5, 'Missing', 0, 'Missing', 'Missing', '0.00%'], [None, 'Illinois', 17, 'Jan 02, 1979', '1979/01/02', 4.64, 994, -6.4, 15.8, 'Missing', 0, 'Missing', 'Missing', '0.00%'], [None, 'Illinois', 17, 'Jan 03, 1979', '1979/01/03', 11.05, 994, -0.7, 24.7, 'Missing', 0, 'Missing', 'Missing', '0.00%'], [None, 'Illinois', 17, 'Jan 04, 1979', '1979/01/04', 9.51, 994, 0.2, 27.6, 'Missing', 0, 'Missing', 'Missing', '0.00%'], [None, 'Illinois', 17, 'May 15, 1979', '1979/05/15', 68.42, 994, 61, 75.1, 'Missing', 0, 'Missing', 'Missing', '0.00%'], [None, 'Illinois', 17, 'May 16, 1979', '1979/05/16', 70.29, 994, 63.4, 73.5, 'Missing', 0, 'Missing', 'Missing', '0.00%'], [None, 'Illinois', 17, 'May 17, 1979', '1979/05/17', 75.34, 994, 64, 80.5, 82.6, 2, 82.4, 82.8, '0.20%'], [None, 'Illinois', 17, 'May 18, 1979', '1979/05/18', 79.13, 994, 75.5, 82.1, 81.42, 349, 80.2, 83.4, '35.11%'], [None, 'Illinois', 17, 'May 19, 1979', '1979/05/19', 74.94, 994, 66.9, 83.1, 82.87, 78, 81.6, 85.2, '7.85%']]\n"
          ]
        }
      ]
    },
    {
      "cell_type": "markdown",
      "source": [
        "## 22.4.2 Sorting"
      ],
      "metadata": {
        "id": "-pJyAYk5Afgq"
      }
    },
    {
      "cell_type": "code",
      "source": [
        "%%writefile datafile\n",
        "ZZZZZZ\n",
        "CCCCCC\n",
        "QQQQQQ\n",
        "AAAAAA"
      ],
      "metadata": {
        "id": "Jay4MGu5Ai4A",
        "outputId": "bd405c22-f85e-4dc2-cdf3-942b866de40f",
        "colab": {
          "base_uri": "https://localhost:8080/"
        }
      },
      "execution_count": 32,
      "outputs": [
        {
          "output_type": "stream",
          "name": "stdout",
          "text": [
            "Writing datafile\n"
          ]
        }
      ]
    },
    {
      "cell_type": "code",
      "metadata": {
        "id": "3ghp1MuuqK6h",
        "outputId": "1446eb5d-841a-447a-ce0f-d582bd52e7be",
        "colab": {
          "base_uri": "https://localhost:8080/"
        }
      },
      "source": [
        "lines = open(\"datafile\").readlines()\n",
        "lines.sort()\n",
        "print(lines)"
      ],
      "execution_count": 34,
      "outputs": [
        {
          "output_type": "stream",
          "name": "stdout",
          "text": [
            "['AAAAAA\\n', 'CCCCCC\\n', 'QQQQQQ\\n', 'ZZZZZZ\\n']\n"
          ]
        }
      ]
    },
    {
      "cell_type": "code",
      "metadata": {
        "id": "sAL1WPHMqK6h",
        "outputId": "99ef7ee9-fe77-4f0e-bd8c-d83eaee43b04",
        "colab": {
          "base_uri": "https://localhost:8080/"
        }
      },
      "source": [
        "! sort datafile > datafile.srt\n",
        "! cat datafile.srt"
      ],
      "execution_count": 37,
      "outputs": [
        {
          "output_type": "stream",
          "name": "stdout",
          "text": [
            "AAAAAA\n",
            "CCCCCC\n",
            "QQQQQQ\n",
            "ZZZZZZ\n"
          ]
        }
      ]
    },
    {
      "cell_type": "code",
      "metadata": {
        "id": "KZxjtCpCqK6h",
        "outputId": "8aa2bc13-a0a6-4e9b-c0a4-484fa4125cc2"
      },
      "source": [
        "lines.sort(key=str.lower)"
      ],
      "execution_count": null,
      "outputs": [
        {
          "output_type": "stream",
          "name": "stdout",
          "text": []
        }
      ]
    },
    {
      "cell_type": "code",
      "metadata": {
        "id": "HVr676nNqK6k",
        "outputId": "71bdc71b-b662-4c94-adb1-3f59d40e3d09"
      },
      "source": [
        "lines.sort(key=lambda x: x[5:])"
      ],
      "execution_count": null,
      "outputs": [
        {
          "output_type": "stream",
          "name": "stdout",
          "text": []
        }
      ]
    },
    {
      "cell_type": "markdown",
      "source": [
        "# 22.5 Writing data files"
      ],
      "metadata": {
        "id": "1dLHdywTB2ip"
      }
    },
    {
      "cell_type": "markdown",
      "source": [
        "## 22.5.1 CSV and other delimited files"
      ],
      "metadata": {
        "id": "vGI9NEFKB7__"
      }
    },
    {
      "cell_type": "code",
      "metadata": {
        "id": "w-r4FN5yqK6k"
      },
      "source": [
        "temperature_data = [['State', 'Month Day, Year Code', 'Avg Daily Max Air Temperature (F)', 'Record Count for Daily Max Air Temp (F)'], ['Illinois', '1979/01/01', '17.48', '994'], ['Illinois', '1979/01/02', '4.64', '994'], ['Illinois', '1979/01/03', '11.05', '994'], ['Illinois', '1979/01/04', '9.51', '994'], ['Illinois', '1979/05/15', '68.42', '994'], ['Illinois', '1979/05/16', '70.29', '994'], ['Illinois', '1979/05/17', '75.34', '994'], ['Illinois', '1979/05/18', '79.13', '994'], ['Illinois', '1979/05/19', '74.94', '994']]\n",
        "csv.writer(open(\"temp_data_03.csv\", \"w\", newline='')).writerows(temperature_data)"
      ],
      "execution_count": 38,
      "outputs": []
    },
    {
      "cell_type": "code",
      "metadata": {
        "id": "y4MYSpcDqK6l",
        "outputId": "d3aab212-0c8b-416a-b3e7-2380c9e47c95",
        "colab": {
          "base_uri": "https://localhost:8080/"
        }
      },
      "source": [
        "data = [{'State': 'Illinois',\n",
        " 'Month Day, Year Code': '1979/01/01',\n",
        " 'Avg Daily Max Air Temperature (F)': '17.48',\n",
        " 'Record Count for Daily Max Air Temp (F)': '994'}]\n",
        "fields = ['State', 'Month Day, Year Code', 'Avg Daily Max Air Temperature (F)', 'Record Count for Daily Max Air Temp (F)']\n",
        "dict_writer = csv.DictWriter(open(\"temp_data_04.csv\", \"w\"), fieldnames=fields)\n",
        "dict_writer.writeheader()\n",
        "dict_writer.writerows(data)\n",
        "del dict_writer"
      ],
      "execution_count": 59,
      "outputs": [
        {
          "output_type": "stream",
          "name": "stdout",
          "text": [
            "[{'State': 'Illinois', 'Month Day, Year Code': '1979/01/01', 'Avg Daily Max Air Temperature (F)': '17.48', 'Record Count for Daily Max Air Temp (F)': '994'}]\n"
          ]
        }
      ]
    },
    {
      "cell_type": "markdown",
      "source": [
        "## 22.5.2 Writing Excel files."
      ],
      "metadata": {
        "id": "4uSBRap3FR_4"
      }
    },
    {
      "cell_type": "code",
      "metadata": {
        "id": "14lo2B4gqK6l",
        "outputId": "7e7244a7-699c-4161-bc50-94583605c762"
      },
      "source": [
        "from openpyxl import Workbook\n",
        "data_rows = [fields for fields in csv.reader(open(\"temp_data_01.csv\"))]\n",
        "wb = Workbook()\n",
        "ws = wb.active\n",
        "ws.title = \"temperature data\"\n",
        "for row in data_rows:\n",
        "    ws.append(row)\n",
        "\n",
        "wb.save(\"temp_data_02.xlsx\")"
      ],
      "execution_count": null,
      "outputs": [
        {
          "output_type": "stream",
          "name": "stdout",
          "text": []
        }
      ]
    },
    {
      "cell_type": "markdown",
      "source": [
        "# 22.6 Lab 22 Weather observations\n",
        "\n",
        "The file of weather observations provided here (`Illinois_weather_1979-2011.txt`)is by month and then by county for the state of Illinois from 1979 to 2011. Write the code to process this file to extract the data for Chicago (Cook County) into a single CSV or spreadsheet file. This process includes replacing the `'Missing'` strings with empty strings and translating the percentage to a decimal. You may also consider what fields are repetitive (and therefore can be omitted or stored elsewhere). The proof that you’ve got it right occurs when you load the file into a spreadsheet. You can download a solution with the book’s source code.\n"
      ],
      "metadata": {
        "id": "OKH9KncpFW9o"
      }
    },
    {
      "cell_type": "code",
      "source": [
        "!wget https://raw.githubusercontent.com/nceder/qpb4e/main/code/Chapter%2022/Illinois_weather_1979-2011.txt &> null  && echo Downloaded"
      ],
      "metadata": {
        "id": "Syy-Rge_GEFn",
        "outputId": "118416f0-3355-46ae-ed8c-dcf57c28490a",
        "colab": {
          "base_uri": "https://localhost:8080/"
        }
      },
      "execution_count": 60,
      "outputs": [
        {
          "output_type": "stream",
          "name": "stdout",
          "text": [
            "Downloaded\n"
          ]
        }
      ]
    },
    {
      "cell_type": "markdown",
      "source": [
        "## Human solution"
      ],
      "metadata": {
        "id": "qm-AYC2GGokc"
      }
    },
    {
      "cell_type": "code",
      "source": [],
      "metadata": {
        "id": "u1muOL1RGQ4a"
      },
      "execution_count": null,
      "outputs": []
    }
  ]
}