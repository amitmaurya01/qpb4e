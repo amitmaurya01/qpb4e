{
  "nbformat": 4,
  "nbformat_minor": 0,
  "metadata": {
    "colab": {
      "provenance": [],
      "include_colab_link": true
    },
    "kernelspec": {
      "name": "python3",
      "display_name": "Python 3"
    },
    "language_info": {
      "name": "python"
    }
  },
  "cells": [
    {
      "cell_type": "markdown",
      "metadata": {
        "id": "view-in-github",
        "colab_type": "text"
      },
      "source": [
        "<a href=\"https://colab.research.google.com/github/nceder/qpb4e/blob/main/code/Chapter%2023/Chapter_23.ipynb\" target=\"_parent\"><img src=\"https://colab.research.google.com/assets/colab-badge.svg\" alt=\"Open In Colab\"/></a>"
      ]
    },
    {
      "cell_type": "markdown",
      "source": [
        "# 23 Saving Data"
      ],
      "metadata": {
        "id": "ZXgqm1JeyFKy"
      }
    },
    {
      "cell_type": "markdown",
      "source": [
        "# 23.2 SQLite: Using the sqlite3 database"
      ],
      "metadata": {
        "id": "H-YHfY8VyRST"
      }
    },
    {
      "cell_type": "code",
      "metadata": {
        "id": "9he6T8-F3A3a"
      },
      "source": [
        "import sqlite3\n",
        "conn = sqlite3.connect(\"datafile.db\")"
      ],
      "execution_count": 4,
      "outputs": []
    },
    {
      "cell_type": "code",
      "metadata": {
        "id": "ATy8HkJI3A3b",
        "colab": {
          "base_uri": "https://localhost:8080/"
        },
        "outputId": "21373567-e962-41b8-f0c9-c2d8ea5a0b1e"
      },
      "source": [
        "cursor = conn.cursor()\n",
        "cursor"
      ],
      "execution_count": 5,
      "outputs": [
        {
          "output_type": "execute_result",
          "data": {
            "text/plain": [
              "<sqlite3.Cursor at 0x7bc273eeeb40>"
            ]
          },
          "metadata": {},
          "execution_count": 5
        }
      ]
    },
    {
      "cell_type": "code",
      "metadata": {
        "id": "qo8DHqkb3A3c"
      },
      "source": [
        "cursor.execute(\"create table people (id integer primary key, name text, count integer)\")\n",
        "cursor.execute(\"insert into people (name, count) values ('Bob', 1)\")\n",
        "cursor.execute(\"insert into people (name, count) values (?, ?)\",\n",
        "               (\"Jill\", 15))\n",
        "conn.commit()"
      ],
      "execution_count": 6,
      "outputs": []
    },
    {
      "cell_type": "code",
      "metadata": {
        "id": "AvMIXGkY3A3c",
        "colab": {
          "base_uri": "https://localhost:8080/"
        },
        "outputId": "cf6a3410-8ad6-451c-b3ca-c59ea06da998"
      },
      "source": [
        "cursor.execute(\"insert into people (name, count) values (:username, :usercount)\",\n",
        "                  {\"username\": \"Joe\", \"usercount\": 10})"
      ],
      "execution_count": 7,
      "outputs": [
        {
          "output_type": "execute_result",
          "data": {
            "text/plain": [
              "<sqlite3.Cursor at 0x7bc273eeeb40>"
            ]
          },
          "metadata": {},
          "execution_count": 7
        }
      ]
    },
    {
      "cell_type": "code",
      "metadata": {
        "id": "b8z3sfGa3A3c",
        "colab": {
          "base_uri": "https://localhost:8080/"
        },
        "outputId": "7387dfad-f299-44db-c1a3-8f00dd9a06d2"
      },
      "source": [
        "result = cursor.execute(\"select * from people\")\n",
        "print(result.fetchall())"
      ],
      "execution_count": 8,
      "outputs": [
        {
          "output_type": "stream",
          "name": "stdout",
          "text": [
            "[(1, 'Bob', 1), (2, 'Jill', 15), (3, 'Joe', 10)]\n"
          ]
        }
      ]
    },
    {
      "cell_type": "code",
      "metadata": {
        "id": "ATjQD-MQ3A3c",
        "colab": {
          "base_uri": "https://localhost:8080/"
        },
        "outputId": "5b9c9895-a03f-4ae5-a598-535b05b6fd51"
      },
      "source": [
        "result = cursor.execute(\"select * from people where name like :name\",\n",
        "                        {\"name\": \"bob\"})\n",
        "print(result.fetchall())"
      ],
      "execution_count": 9,
      "outputs": [
        {
          "output_type": "stream",
          "name": "stdout",
          "text": [
            "[(1, 'Bob', 1)]\n"
          ]
        }
      ]
    },
    {
      "cell_type": "code",
      "metadata": {
        "id": "MJhuhmQ23A3d",
        "colab": {
          "base_uri": "https://localhost:8080/"
        },
        "outputId": "53db3f0f-42a9-40c9-f4f6-d89d2d13ba27"
      },
      "source": [
        "cursor.execute(\"update people set count=? where name=?\", (20, \"Jill\"))\n",
        "result = cursor.execute(\"select * from people\")\n",
        "print(result.fetchall())"
      ],
      "execution_count": 10,
      "outputs": [
        {
          "output_type": "stream",
          "name": "stdout",
          "text": [
            "[(1, 'Bob', 1), (2, 'Jill', 20), (3, 'Joe', 10)]\n"
          ]
        }
      ]
    },
    {
      "cell_type": "code",
      "metadata": {
        "id": "novIrTwn3A3d",
        "colab": {
          "base_uri": "https://localhost:8080/"
        },
        "outputId": "8d50ecf8-e2a5-4701-f48b-fb377c823f83"
      },
      "source": [
        "result = cursor.execute(\"select * from people\")\n",
        "for row in result:\n",
        "    print(row)\n"
      ],
      "execution_count": 11,
      "outputs": [
        {
          "output_type": "stream",
          "name": "stdout",
          "text": [
            "(1, 'Bob', 1)\n",
            "(2, 'Jill', 20)\n",
            "(3, 'Joe', 10)\n"
          ]
        }
      ]
    },
    {
      "cell_type": "code",
      "metadata": {
        "id": "UDi2VBLu3A3d"
      },
      "source": [
        "cursor.execute(\"update people set count=? where name=?\", (20, \"Jill\"))\n",
        "conn.commit()\n",
        "conn.close()"
      ],
      "execution_count": 12,
      "outputs": []
    },
    {
      "cell_type": "markdown",
      "source": [
        "### TRY This: Creating and modifying Tables\n",
        "Using sqlite3, write the code that creates a database table for the Illinois weather data you loaded from a flat file in section 22.2. Suppose that you have similar data for more states and want to store more information about the states themselves. How could you modify your database to use a related table to store the state information?"
      ],
      "metadata": {
        "id": "joEnfxkgmT_o"
      }
    },
    {
      "cell_type": "code",
      "source": [
        "%%writefile temp_data_01.csv\n",
        "\"Notes\",\"State\",\"State Code\",\"Month Day, Year\",\"Month Day, Year Code\",Avg Daily Max Air Temperature (F),Record Count for Daily Max Air Temp (F),Min Temp for Daily Max Air Temp (F),Max Temp for Daily Max Air Temp (F),Avg Daily Max Heat Index (F),Record Count for Daily Max Heat Index (F),Min for Daily Max Heat Index (F),Max for Daily Max Heat Index (F),Daily Max Heat Index (F) % Coverage\n",
        "\n",
        ",\"Illinois\",\"17\",\"Jan 01, 1979\",\"1979/01/01\",17.48,994,6.00,30.50,Missing,0,Missing,Missing,0.00%\n",
        ",\"Illinois\",\"17\",\"Jan 02, 1979\",\"1979/01/02\",4.64,994,-6.40,15.80,Missing,0,Missing,Missing,0.00%\n",
        ",\"Illinois\",\"17\",\"Jan 03, 1979\",\"1979/01/03\",11.05,994,-0.70,24.70,Missing,0,Missing,Missing,0.00%\n",
        ",\"Illinois\",\"17\",\"Jan 04, 1979\",\"1979/01/04\",9.51,994,0.20,27.60,Missing,0,Missing,Missing,0.00%\n",
        ",\"Illinois\",\"17\",\"May 15, 1979\",\"1979/05/15\",68.42,994,61.00,75.10,Missing,0,Missing,Missing,0.00%\n",
        ",\"Illinois\",\"17\",\"May 16, 1979\",\"1979/05/16\",70.29,994,63.40,73.50,Missing,0,Missing,Missing,0.00%\n",
        ",\"Illinois\",\"17\",\"May 17, 1979\",\"1979/05/17\",75.34,994,64.00,80.50,82.60,2,82.40,82.80,0.20%\n",
        ",\"Illinois\",\"17\",\"May 18, 1979\",\"1979/05/18\",79.13,994,75.50,82.10,81.42,349,80.20,83.40,35.11%\n",
        ",\"Illinois\",\"17\",\"May 19, 1979\",\"1979/05/19\",74.94,994,66.90,83.10,82.87,78,81.60,85.20,7.85%\n"
      ],
      "metadata": {
        "id": "KlVzDUmPqBHr",
        "outputId": "237de17a-0815-486a-fde7-de5575e3d142",
        "colab": {
          "base_uri": "https://localhost:8080/"
        }
      },
      "execution_count": 42,
      "outputs": [
        {
          "output_type": "stream",
          "name": "stdout",
          "text": [
            "Writing temp_data_01.csv\n"
          ]
        }
      ]
    },
    {
      "cell_type": "code",
      "source": [],
      "metadata": {
        "id": "0ETjc2fImb7H"
      },
      "execution_count": null,
      "outputs": []
    },
    {
      "cell_type": "code",
      "source": [
        "# @title\n",
        "import sqlite3\n",
        "conn = sqlite3.connect(\"datafile.db\")\n",
        "\n",
        "cursor = conn.cursor()\n",
        "\n",
        "cursor.execute(\"\"\"create table weather (id integer primary key,\n",
        "              state text, state_code text,\n",
        "              year_text text, year_code text, avg_max_temp real,  max_temp_count integer,\n",
        "              max_temp_low real, max_temp_high real,\n",
        "              heat_index real, heat_index_count integer,\n",
        "              heat_index_low real, heat_index_high real,\n",
        "              heat_index_coverage text)\n",
        "              \"\"\")\n",
        "conn.commit()\n",
        "\n",
        "\n",
        "# load data from file\n",
        "import csv\n",
        "results = [fields[1:] for fields in csv.reader(open(\"temp_data_01.csv\", newline=''))]\n",
        "# write to database\n",
        "for row in results:\n",
        "  if row:\n",
        "      cursor.execute(\"\"\"insert into weather (state, state_code,\n",
        "              year_text, year_code, avg_max_temp,  max_temp_count,\n",
        "              max_temp_low, max_temp_high,\n",
        "              heat_index, heat_index_count,\n",
        "              heat_index_low, heat_index_high,\n",
        "              heat_index_coverage) values(?,?,?,?,?,?,?,?,?,?,?,?,?)\"\"\", row)\n",
        "conn.commit()"
      ],
      "metadata": {
        "cellView": "form",
        "id": "z0ZKXjHImcD-"
      },
      "execution_count": 70,
      "outputs": []
    },
    {
      "cell_type": "markdown",
      "source": [
        "# 23.4 Making database handling easier with an ORM"
      ],
      "metadata": {
        "id": "ZRuIqyemzM_c"
      }
    },
    {
      "cell_type": "markdown",
      "source": [
        "## 23.4.1 SQLAlchemy"
      ],
      "metadata": {
        "id": "0ddel9uKzU-g"
      }
    },
    {
      "cell_type": "code",
      "metadata": {
        "id": "3-7otCBh3A3d"
      },
      "source": [
        "from sqlalchemy import create_engine, select, MetaData, Table, Column, Integer, String\n",
        "from sqlalchemy.orm import sessionmaker"
      ],
      "execution_count": 13,
      "outputs": []
    },
    {
      "cell_type": "code",
      "metadata": {
        "id": "1UQh3NFu3A3e"
      },
      "source": [
        "dbPath = 'datafile2.db'\n",
        "engine = create_engine('sqlite:///%s' % dbPath)\n",
        "metadata = MetaData()\n",
        "people  = Table('people', metadata,\n",
        "                Column('id', Integer, primary_key=True),\n",
        "                Column('name', String),\n",
        "                Column('count', Integer),\n",
        "               )\n",
        "Session = sessionmaker(bind=engine)\n",
        "session = Session()\n",
        "metadata.create_all(engine)"
      ],
      "execution_count": 14,
      "outputs": []
    },
    {
      "cell_type": "code",
      "metadata": {
        "id": "LIvfhqLx3A3e",
        "outputId": "3aaef08f-40e0-4560-b742-bd3addf23f3d",
        "colab": {
          "base_uri": "https://localhost:8080/",
          "height": 35
        }
      },
      "source": [
        "people_ins = people.insert().values(name='Bob', count=1)\n",
        "str(people_ins)"
      ],
      "execution_count": 15,
      "outputs": [
        {
          "output_type": "execute_result",
          "data": {
            "text/plain": [
              "'INSERT INTO people (name, count) VALUES (:name, :count)'"
            ],
            "application/vnd.google.colaboratory.intrinsic+json": {
              "type": "string"
            }
          },
          "metadata": {},
          "execution_count": 15
        }
      ]
    },
    {
      "cell_type": "code",
      "metadata": {
        "id": "x9_ij7Te3A3e",
        "outputId": "05a8f785-77e0-49e9-d8b0-fa82960c6b63",
        "colab": {
          "base_uri": "https://localhost:8080/"
        }
      },
      "source": [
        "session.execute(people_ins)"
      ],
      "execution_count": 16,
      "outputs": [
        {
          "output_type": "execute_result",
          "data": {
            "text/plain": [
              "<sqlalchemy.engine.cursor.CursorResult at 0x7bc270258e20>"
            ]
          },
          "metadata": {},
          "execution_count": 16
        }
      ]
    },
    {
      "cell_type": "code",
      "metadata": {
        "id": "0i-9kY583A3e"
      },
      "source": [
        "session.commit()"
      ],
      "execution_count": 17,
      "outputs": []
    },
    {
      "cell_type": "code",
      "metadata": {
        "id": "Oh74-8133A3e",
        "outputId": "3db6acd1-4010-410e-8e02-1b1df81a7071",
        "colab": {
          "base_uri": "https://localhost:8080/"
        }
      },
      "source": [
        "session.execute(people_ins, [\n",
        "    {'name': 'Jill', 'count':15},\n",
        "    {'name': 'Joe', 'count':10}\n",
        "])"
      ],
      "execution_count": 18,
      "outputs": [
        {
          "output_type": "execute_result",
          "data": {
            "text/plain": [
              "<sqlalchemy.engine.cursor.CursorResult at 0x7bc270258ca0>"
            ]
          },
          "metadata": {},
          "execution_count": 18
        }
      ]
    },
    {
      "cell_type": "code",
      "metadata": {
        "id": "avw5ESc03A3e",
        "outputId": "d08a3151-963a-4a8c-b26a-0a82c22ba84d",
        "colab": {
          "base_uri": "https://localhost:8080/"
        }
      },
      "source": [
        "session.commit()\n",
        "people_query = select(people)\n",
        "result = session.execute(people_query)\n",
        "for row in result:\n",
        "    print(row)\n"
      ],
      "execution_count": 19,
      "outputs": [
        {
          "output_type": "stream",
          "name": "stdout",
          "text": [
            "(1, 'Bob', 1)\n",
            "(2, 'Jill', 15)\n",
            "(3, 'Joe', 10)\n"
          ]
        }
      ]
    },
    {
      "cell_type": "code",
      "metadata": {
        "id": "oGkT6cUf3A3e",
        "outputId": "3064148e-695f-4164-fa37-3004304dc1ce",
        "colab": {
          "base_uri": "https://localhost:8080/"
        }
      },
      "source": [
        "result = session.execute(select(people).where(people.c.name == 'Jill'))\n",
        "for row in result:\n",
        "    print(row)\n"
      ],
      "execution_count": 20,
      "outputs": [
        {
          "output_type": "stream",
          "name": "stdout",
          "text": [
            "(2, 'Jill', 15)\n"
          ]
        }
      ]
    },
    {
      "cell_type": "code",
      "metadata": {
        "id": "MdTJF_ro3A3f",
        "outputId": "a0574964-3292-4c01-9e12-badeee4eee4e",
        "colab": {
          "base_uri": "https://localhost:8080/"
        }
      },
      "source": [
        "result = session.execute(people.update().values(count=20).where (people.c.name == 'Jill'))\n",
        "session.commit()\n",
        "result = session.execute(select(people).where(people.c.name == 'Jill'))\n",
        "for row in result:\n",
        "    print(row)\n"
      ],
      "execution_count": 21,
      "outputs": [
        {
          "output_type": "stream",
          "name": "stdout",
          "text": [
            "(2, 'Jill', 20)\n"
          ]
        }
      ]
    },
    {
      "cell_type": "markdown",
      "source": [
        "### Mapping table objects to classes"
      ],
      "metadata": {
        "id": "OAWyBHqv-VOm"
      }
    },
    {
      "cell_type": "code",
      "metadata": {
        "id": "gzNB37cx3A3f",
        "outputId": "cf1e308a-67bf-446a-af0c-bfb855581be5",
        "colab": {
          "base_uri": "https://localhost:8080/"
        }
      },
      "source": [
        "from sqlalchemy.orm import declarative_base\n",
        "Base = declarative_base()\n",
        "class People(Base):\n",
        "    __tablename__ = \"people\"\n",
        "    id = Column(Integer, primary_key=True)\n",
        "    name = Column(String)\n",
        "    count = Column(Integer)\n",
        "\n",
        "results = session.query(People).filter_by(name='Jill')\n",
        "for person in results:\n",
        "    print(person.id, person.name, person.count)\n"
      ],
      "execution_count": 22,
      "outputs": [
        {
          "output_type": "stream",
          "name": "stdout",
          "text": [
            "2 Jill 20\n"
          ]
        }
      ]
    },
    {
      "cell_type": "code",
      "metadata": {
        "id": "H30yE6IN3A3f",
        "outputId": "26232f87-ec3b-41bd-f532-f0211958c98f",
        "colab": {
          "base_uri": "https://localhost:8080/"
        }
      },
      "source": [
        "new_person = People(name='Jane', count=5)\n",
        "session.add(new_person)\n",
        "session.commit()\n",
        "results = session.query(People).all()\n",
        "for person in results:\n",
        "    print(person.id, person.name, person.count)\n"
      ],
      "execution_count": 23,
      "outputs": [
        {
          "output_type": "stream",
          "name": "stdout",
          "text": [
            "1 Bob 1\n",
            "2 Jill 20\n",
            "3 Joe 10\n",
            "4 Jane 5\n"
          ]
        }
      ]
    },
    {
      "cell_type": "code",
      "metadata": {
        "id": "sKH8_Vwh3A3f",
        "outputId": "5fadbf8f-f534-4d30-a7a9-26844427eb2b",
        "colab": {
          "base_uri": "https://localhost:8080/",
          "height": 35
        }
      },
      "source": [
        "jill = session.query(People).filter_by(name='Jill').first()\n",
        "jill.name"
      ],
      "execution_count": 24,
      "outputs": [
        {
          "output_type": "execute_result",
          "data": {
            "text/plain": [
              "'Jill'"
            ],
            "application/vnd.google.colaboratory.intrinsic+json": {
              "type": "string"
            }
          },
          "metadata": {},
          "execution_count": 24
        }
      ]
    },
    {
      "cell_type": "code",
      "metadata": {
        "id": "_4JGuxvN3A3f",
        "outputId": "84aa76d5-dd71-4ff6-84e6-a2e017c4774c",
        "colab": {
          "base_uri": "https://localhost:8080/"
        }
      },
      "source": [
        "jill.count = 22\n",
        "session.add(jill)\n",
        "session.commit()\n",
        "results = session.query(People).all()\n",
        "for person in results:\n",
        "    print(person.id, person.name, person.count)\n"
      ],
      "execution_count": 25,
      "outputs": [
        {
          "output_type": "stream",
          "name": "stdout",
          "text": [
            "1 Bob 1\n",
            "2 Jill 22\n",
            "3 Joe 10\n",
            "4 Jane 5\n"
          ]
        }
      ]
    },
    {
      "cell_type": "code",
      "metadata": {
        "id": "P2l5cOVL3A3g",
        "outputId": "b6e75111-5891-4300-9373-6a63fb1849d5",
        "colab": {
          "base_uri": "https://localhost:8080/"
        }
      },
      "source": [
        "jane = session.query(People).filter_by(name='Jane').first()\n",
        "session.delete(jane)\n",
        "session.commit()\n",
        "jane = session.query(People).filter_by(name='Jane').first()\n",
        "print(jane)"
      ],
      "execution_count": 26,
      "outputs": [
        {
          "output_type": "stream",
          "name": "stdout",
          "text": [
            "None\n"
          ]
        }
      ]
    },
    {
      "cell_type": "markdown",
      "source": [
        "### Try This: Using an ORM\n",
        "Using the database from earlier, write an SQLAlchemy class to map to the data table, and use it to read the records from the table."
      ],
      "metadata": {
        "id": "RP4uOKYVnAKJ"
      }
    },
    {
      "cell_type": "code",
      "source": [],
      "metadata": {
        "id": "N0tHEav6nIQo"
      },
      "execution_count": null,
      "outputs": []
    },
    {
      "cell_type": "code",
      "source": [
        "# @title\n",
        "from sqlalchemy import create_engine, select, MetaData, Table, Column, Integer, String, Float\n",
        "from sqlalchemy.orm import sessionmaker\n",
        "dbPath = 'datafile.db'\n",
        "engine = create_engine('sqlite:///%s' % dbPath)\n",
        "metadata = MetaData()\n",
        "Session = sessionmaker(bind=engine)\n",
        "session = Session()\n",
        "metadata.create_all(engine)\n",
        "weather  = Table('weather', metadata,\n",
        "                Column('id', Integer, primary_key=True),\n",
        "                Column(\"state\", String),\n",
        "                Column(\"state_code\", String),\n",
        "                Column(\"year_text\", String ),\n",
        "                Column(\"year_code\", String),\n",
        "                Column(\"avg_max_temp\", Float),\n",
        "                Column(\"max_temp_count\", Integer),\n",
        "                Column(\"max_temp_low\", Float),\n",
        "                Column(\"max_temp_high\", Float),\n",
        "                Column(\"heat_index\", Float),\n",
        "                Column(\"heat_index_count\", Integer),\n",
        "                Column(\"heat_index_low\", Float),\n",
        "                Column(\"heat_index_high\", Float),\n",
        "                Column(\"heat_index_coverage\", String)\n",
        "                )\n",
        "Session = sessionmaker(bind=engine)\n",
        "session = Session()\n",
        "result = session.query(weather).all()\n",
        "for row in result:\n",
        "    print(row)"
      ],
      "metadata": {
        "cellView": "form",
        "id": "aYmRLxpNnIUi"
      },
      "execution_count": null,
      "outputs": []
    },
    {
      "cell_type": "markdown",
      "source": [
        "## 23.4.2 Using Alembic for database schema changes"
      ],
      "metadata": {
        "id": "BVq8mxKT7pbc"
      }
    },
    {
      "cell_type": "code",
      "source": [
        "! rm -rf alembic/"
      ],
      "metadata": {
        "id": "DAmbimejl_24"
      },
      "execution_count": null,
      "outputs": []
    },
    {
      "cell_type": "code",
      "metadata": {
        "id": "wjLqSo9k3A3g",
        "outputId": "31d9ff0b-2138-41d1-e959-ee777c2f2aa0",
        "colab": {
          "base_uri": "https://localhost:8080/"
        }
      },
      "source": [
        "! pip install alembic\n",
        "! alembic init alembic"
      ],
      "execution_count": null,
      "outputs": [
        {
          "output_type": "stream",
          "name": "stdout",
          "text": [
            "Collecting alembic\n",
            "  Downloading alembic-1.13.3-py3-none-any.whl.metadata (7.4 kB)\n",
            "Requirement already satisfied: SQLAlchemy>=1.3.0 in /usr/local/lib/python3.10/dist-packages (from alembic) (2.0.35)\n",
            "Collecting Mako (from alembic)\n",
            "  Downloading Mako-1.3.5-py3-none-any.whl.metadata (2.9 kB)\n",
            "Requirement already satisfied: typing-extensions>=4 in /usr/local/lib/python3.10/dist-packages (from alembic) (4.12.2)\n",
            "Requirement already satisfied: greenlet!=0.4.17 in /usr/local/lib/python3.10/dist-packages (from SQLAlchemy>=1.3.0->alembic) (3.1.1)\n",
            "Requirement already satisfied: MarkupSafe>=0.9.2 in /usr/local/lib/python3.10/dist-packages (from Mako->alembic) (2.1.5)\n",
            "Downloading alembic-1.13.3-py3-none-any.whl (233 kB)\n",
            "\u001b[2K   \u001b[90m━━━━━━━━━━━━━━━━━━━━━━━━━━━━━━━━━━━━━━━━\u001b[0m \u001b[32m233.2/233.2 kB\u001b[0m \u001b[31m1.9 MB/s\u001b[0m eta \u001b[36m0:00:00\u001b[0m\n",
            "\u001b[?25hDownloading Mako-1.3.5-py3-none-any.whl (78 kB)\n",
            "\u001b[2K   \u001b[90m━━━━━━━━━━━━━━━━━━━━━━━━━━━━━━━━━━━━━━━━\u001b[0m \u001b[32m78.6/78.6 kB\u001b[0m \u001b[31m5.9 MB/s\u001b[0m eta \u001b[36m0:00:00\u001b[0m\n",
            "\u001b[?25hInstalling collected packages: Mako, alembic\n",
            "Successfully installed Mako-1.3.5 alembic-1.13.3\n",
            "Creating directory '/content/alembic' ...  done\n",
            "Creating directory '/content/alembic/versions' ...  done\n",
            "Generating /content/alembic/env.py ...  done\n",
            "Generating /content/alembic/script.py.mako ...  done\n",
            "Generating /content/alembic/README ...  done\n",
            "Generating /content/alembic.ini ...  done\n",
            "Please edit configuration/connection/logging settings in '/content/alembic.ini' before proceeding.\n"
          ]
        }
      ]
    },
    {
      "cell_type": "code",
      "metadata": {
        "id": "dptVIRNE3A3g"
      },
      "source": [
        "# This cell will update the alembic.ini file\n",
        "\n",
        "! sed -i 's/driver:\\/\\/user:pass@localhost\\/dbname/sqlite:\\/\\/\\/datafile.db/' alembic.ini"
      ],
      "execution_count": null,
      "outputs": []
    },
    {
      "cell_type": "code",
      "source": [
        "# This cell creates the first revision script\n",
        "result = ! alembic revision -m \"create an address table\"\n",
        "filename= result[0].replace('Generating ', \"\").replace(\" ...  done\",\"\")\n",
        "version = filename.split(\"/\")[-1].split(\"_\")[0]"
      ],
      "metadata": {
        "id": "xICjY8aMdKk8"
      },
      "execution_count": null,
      "outputs": []
    },
    {
      "cell_type": "code",
      "source": [
        "# This cell updates the revision script's upgrade() and downgrade() functions\n",
        "upgrade_cmd = \"\"\"def upgrade() -> None:\n",
        "    op.create_table(\n",
        "        'address',\n",
        "        sa.Column('id', sa.Integer, primary_key=True),\n",
        "        sa.Column('address', sa.String(50), nullable=False),\n",
        "        sa.Column('city', sa.String(50), nullable=False),\n",
        "        sa.Column('state', sa.String(20), nullable=False),\n",
        "    )\n",
        "\"\"\"\n",
        "downgrade_cmd = \"\"\"def downgrade() -> None:\n",
        "    op.drop_table('address')\"\"\"\n",
        "\n",
        "version_file = open(filename).read()\n",
        "version_file = version_file.replace(\"\"\"def upgrade() -> None:\n",
        "    pass\"\"\", upgrade_cmd)\n",
        "version_file = version_file.replace(\"\"\"def downgrade() -> None:\n",
        "    pass\"\"\", downgrade_cmd)\n",
        "print(version_file)\n",
        "\n",
        "open(filename, \"w\").write(version_file)"
      ],
      "metadata": {
        "id": "9kv5G7AF8rtS",
        "outputId": "7b1b6619-625b-415a-81d5-27edb5ca466d",
        "colab": {
          "base_uri": "https://localhost:8080/"
        }
      },
      "execution_count": null,
      "outputs": [
        {
          "output_type": "stream",
          "name": "stdout",
          "text": [
            "\"\"\"create an address table\n",
            "\n",
            "Revision ID: def74d4e1932\n",
            "Revises: \n",
            "Create Date: 2024-09-27 02:02:49.374125\n",
            "\n",
            "\"\"\"\n",
            "from typing import Sequence, Union\n",
            "\n",
            "from alembic import op\n",
            "import sqlalchemy as sa\n",
            "\n",
            "\n",
            "# revision identifiers, used by Alembic.\n",
            "revision: str = 'def74d4e1932'\n",
            "down_revision: Union[str, None] = None\n",
            "branch_labels: Union[str, Sequence[str], None] = None\n",
            "depends_on: Union[str, Sequence[str], None] = None\n",
            "\n",
            "\n",
            "def upgrade() -> None:\n",
            "    op.create_table(\n",
            "        'address',\n",
            "        sa.Column('id', sa.Integer, primary_key=True),\n",
            "        sa.Column('address', sa.String(50), nullable=False),\n",
            "        sa.Column('city', sa.String(50), nullable=False),\n",
            "        sa.Column('state', sa.String(20), nullable=False),\n",
            "    )\n",
            "\n",
            "\n",
            "\n",
            "def downgrade() -> None:\n",
            "    op.drop_table('address')\n",
            "\n"
          ]
        },
        {
          "output_type": "execute_result",
          "data": {
            "text/plain": [
              "771"
            ]
          },
          "metadata": {},
          "execution_count": 28
        }
      ]
    },
    {
      "cell_type": "code",
      "source": [
        "for table in metadata.sorted_tables:\n",
        "    print(table.name)"
      ],
      "metadata": {
        "id": "QNp_zDe2izzZ",
        "outputId": "d9cd7290-428f-4051-cef9-985b696de18f",
        "colab": {
          "base_uri": "https://localhost:8080/"
        }
      },
      "execution_count": null,
      "outputs": [
        {
          "output_type": "stream",
          "name": "stdout",
          "text": [
            "people\n"
          ]
        }
      ]
    },
    {
      "cell_type": "code",
      "source": [
        "! alembic upgrade head"
      ],
      "metadata": {
        "id": "Naaaeer_jJ0H",
        "outputId": "657fbf42-5d21-4233-8978-731dafe17f6f",
        "colab": {
          "base_uri": "https://localhost:8080/"
        }
      },
      "execution_count": null,
      "outputs": [
        {
          "output_type": "stream",
          "name": "stdout",
          "text": [
            "INFO  [alembic.runtime.migration] Context impl SQLiteImpl.\n",
            "INFO  [alembic.runtime.migration] Will assume non-transactional DDL.\n"
          ]
        }
      ]
    },
    {
      "cell_type": "code",
      "source": [
        "metadata.sorted_tables"
      ],
      "metadata": {
        "id": "9dNnoNtVAKv7",
        "outputId": "071e0735-0c29-4ac4-fac2-7fad71227e73",
        "colab": {
          "base_uri": "https://localhost:8080/"
        }
      },
      "execution_count": null,
      "outputs": [
        {
          "output_type": "execute_result",
          "data": {
            "text/plain": [
              "[Table('people', MetaData(), Column('id', Integer(), table=<people>, primary_key=True, nullable=False), Column('name', String(), table=<people>), Column('count', Integer(), table=<people>), schema=None)]"
            ]
          },
          "metadata": {},
          "execution_count": 32
        }
      ]
    },
    {
      "cell_type": "code",
      "source": [
        "Session = sessionmaker(bind=engine)\n",
        "session = Session()\n"
      ],
      "metadata": {
        "id": "yGzR4cUFCcSZ"
      },
      "execution_count": null,
      "outputs": []
    },
    {
      "cell_type": "code",
      "metadata": {
        "id": "YvMKja_z3A3g"
      },
      "source": [
        "metadata.reflect(engine)\n",
        "metadata.tables.keys()\n",
        "session.commit()"
      ],
      "execution_count": null,
      "outputs": []
    },
    {
      "cell_type": "code",
      "metadata": {
        "id": "4P941qVM3A3g",
        "outputId": "0df0bc60-745c-4fc3-9e92-02003b748602",
        "colab": {
          "base_uri": "https://localhost:8080/"
        }
      },
      "source": [
        "! alembic downgrade -1\n"
      ],
      "execution_count": null,
      "outputs": [
        {
          "output_type": "stream",
          "name": "stdout",
          "text": [
            "INFO  [alembic.runtime.migration] Context impl SQLiteImpl.\n",
            "INFO  [alembic.runtime.migration] Will assume non-transactional DDL.\n",
            "INFO  [alembic.runtime.migration] Running downgrade def74d4e1932 -> , create an address table\n"
          ]
        }
      ]
    },
    {
      "cell_type": "code",
      "source": [
        "for table in metadata.sorted_tables:\n",
        "    print(table.name)"
      ],
      "metadata": {
        "id": "znJSPg0tOeeE",
        "outputId": "09a4c722-975d-4925-e0ea-b574cf4349ba",
        "colab": {
          "base_uri": "https://localhost:8080/"
        }
      },
      "execution_count": null,
      "outputs": [
        {
          "output_type": "stream",
          "name": "stdout",
          "text": [
            "people\n"
          ]
        }
      ]
    },
    {
      "cell_type": "markdown",
      "source": [
        "# 23.6 key:value stores with Redis"
      ],
      "metadata": {
        "id": "86oyCEiDxqZy"
      }
    },
    {
      "cell_type": "code",
      "source": [
        "!pip install redis"
      ],
      "metadata": {
        "id": "4KRXJjgCpnmf",
        "outputId": "c9abfe6d-6f3f-4d02-f127-3ba7e061ed80",
        "colab": {
          "base_uri": "https://localhost:8080/"
        }
      },
      "execution_count": null,
      "outputs": [
        {
          "output_type": "stream",
          "name": "stdout",
          "text": [
            "Collecting redis\n",
            "  Downloading redis-5.0.8-py3-none-any.whl.metadata (9.2 kB)\n",
            "Requirement already satisfied: async-timeout>=4.0.3 in /usr/local/lib/python3.10/dist-packages (from redis) (4.0.3)\n",
            "Downloading redis-5.0.8-py3-none-any.whl (255 kB)\n",
            "\u001b[2K   \u001b[90m━━━━━━━━━━━━━━━━━━━━━━━━━━━━━━━━━━━━━━━━\u001b[0m \u001b[32m255.6/255.6 kB\u001b[0m \u001b[31m4.5 MB/s\u001b[0m eta \u001b[36m0:00:00\u001b[0m\n",
            "\u001b[?25hInstalling collected packages: redis\n",
            "Successfully installed redis-5.0.8\n"
          ]
        }
      ]
    },
    {
      "cell_type": "markdown",
      "source": [
        "### NOTE: You must create an account at redis.io or on another redis server for the examples to work properly.\n",
        "\n",
        "Be sure to use the correct hostname and password for your account in cell below."
      ],
      "metadata": {
        "id": "5RQEAQo5QCwf"
      }
    },
    {
      "cell_type": "code",
      "metadata": {
        "id": "gMH0maR33A3h"
      },
      "source": [
        "import redis\n",
        "\n",
        "r = redis.Redis(\n",
        "    # set your host here\n",
        "    host='',\n",
        "    port=10032,\n",
        "    # set your password below\n",
        "    password='')"
      ],
      "execution_count": null,
      "outputs": []
    },
    {
      "cell_type": "markdown",
      "source": [
        "#### Basic operations"
      ],
      "metadata": {
        "id": "iM5wrNK4GgC5"
      }
    },
    {
      "cell_type": "code",
      "metadata": {
        "id": "K1DROZCm3A3h",
        "outputId": "38a93a22-4ec1-4f8c-94b1-ae1726482c3a",
        "colab": {
          "base_uri": "https://localhost:8080/"
        }
      },
      "source": [
        "r.keys()"
      ],
      "execution_count": null,
      "outputs": [
        {
          "output_type": "execute_result",
          "data": {
            "text/plain": [
              "[]"
            ]
          },
          "metadata": {},
          "execution_count": 40
        }
      ]
    },
    {
      "cell_type": "markdown",
      "source": [
        "#### Array operations"
      ],
      "metadata": {
        "id": "whuJ6RdJGj96"
      }
    },
    {
      "cell_type": "code",
      "metadata": {
        "id": "fhpG2vEu3A3h",
        "outputId": "cf76208d-e80f-463d-f7e6-fc6065c647bb",
        "colab": {
          "base_uri": "https://localhost:8080/"
        }
      },
      "source": [
        "r.set('a_key', 'my value')"
      ],
      "execution_count": null,
      "outputs": [
        {
          "output_type": "execute_result",
          "data": {
            "text/plain": [
              "True"
            ]
          },
          "metadata": {},
          "execution_count": 41
        }
      ]
    },
    {
      "cell_type": "code",
      "metadata": {
        "id": "-TQM_EI63A3h",
        "outputId": "52eb53ac-9c1e-4b47-a9d7-dfd3c4c53fa8",
        "colab": {
          "base_uri": "https://localhost:8080/"
        }
      },
      "source": [
        "r.keys()"
      ],
      "execution_count": null,
      "outputs": [
        {
          "output_type": "execute_result",
          "data": {
            "text/plain": [
              "[b'a_key']"
            ]
          },
          "metadata": {},
          "execution_count": 42
        }
      ]
    },
    {
      "cell_type": "code",
      "metadata": {
        "id": "1I-goUO53A3h",
        "outputId": "5375be63-90ef-43f1-f6ee-e431b4a91bad",
        "colab": {
          "base_uri": "https://localhost:8080/"
        }
      },
      "source": [
        "v = r.get('a_key')\n",
        "v"
      ],
      "execution_count": null,
      "outputs": [
        {
          "output_type": "execute_result",
          "data": {
            "text/plain": [
              "b'my value'"
            ]
          },
          "metadata": {},
          "execution_count": 43
        }
      ]
    },
    {
      "cell_type": "code",
      "metadata": {
        "id": "xVp_Bo7K3A3h",
        "outputId": "f3845f16-304f-4ec9-8759-4ffb0aa99bdc",
        "colab": {
          "base_uri": "https://localhost:8080/"
        }
      },
      "source": [
        "r.incr('counter')"
      ],
      "execution_count": null,
      "outputs": [
        {
          "output_type": "execute_result",
          "data": {
            "text/plain": [
              "1"
            ]
          },
          "metadata": {},
          "execution_count": 44
        }
      ]
    },
    {
      "cell_type": "code",
      "metadata": {
        "id": "SlSR6Q-w3A3h",
        "outputId": "24ade72b-c881-4525-efa5-d5af4fc0c32e",
        "colab": {
          "base_uri": "https://localhost:8080/"
        }
      },
      "source": [
        "r.get('counter')"
      ],
      "execution_count": null,
      "outputs": [
        {
          "output_type": "execute_result",
          "data": {
            "text/plain": [
              "b'1'"
            ]
          },
          "metadata": {},
          "execution_count": 45
        }
      ]
    },
    {
      "cell_type": "code",
      "metadata": {
        "id": "z7_zJ_6K3A3h",
        "outputId": "ded682cf-6a1e-4d45-c7a2-956536ad4d96",
        "colab": {
          "base_uri": "https://localhost:8080/"
        }
      },
      "source": [
        "r.incr('counter')"
      ],
      "execution_count": null,
      "outputs": [
        {
          "output_type": "execute_result",
          "data": {
            "text/plain": [
              "2"
            ]
          },
          "metadata": {},
          "execution_count": 46
        }
      ]
    },
    {
      "cell_type": "code",
      "metadata": {
        "id": "mH4K8Ov33A3i",
        "outputId": "a5d0dd1b-4356-48e8-e534-d27174c7752b",
        "colab": {
          "base_uri": "https://localhost:8080/"
        }
      },
      "source": [
        "r.get('counter')"
      ],
      "execution_count": null,
      "outputs": [
        {
          "output_type": "execute_result",
          "data": {
            "text/plain": [
              "b'2'"
            ]
          },
          "metadata": {},
          "execution_count": 47
        }
      ]
    },
    {
      "cell_type": "code",
      "metadata": {
        "id": "l6VOd4Qk3A3i",
        "outputId": "7d6ad45f-45ef-496b-bc62-1c224eec85d2",
        "colab": {
          "base_uri": "https://localhost:8080/"
        }
      },
      "source": [
        "r.rpush(\"words\", \"one\")"
      ],
      "execution_count": null,
      "outputs": [
        {
          "output_type": "execute_result",
          "data": {
            "text/plain": [
              "1"
            ]
          },
          "metadata": {},
          "execution_count": 48
        }
      ]
    },
    {
      "cell_type": "code",
      "metadata": {
        "id": "UrgiFhCy3A3i",
        "outputId": "d9d55985-e463-4b44-ed5b-f04cb79c121c",
        "colab": {
          "base_uri": "https://localhost:8080/"
        }
      },
      "source": [
        "r.rpush(\"words\", \"two\")"
      ],
      "execution_count": null,
      "outputs": [
        {
          "output_type": "execute_result",
          "data": {
            "text/plain": [
              "2"
            ]
          },
          "metadata": {},
          "execution_count": 49
        }
      ]
    },
    {
      "cell_type": "code",
      "metadata": {
        "id": "b86V4A-t3A3i",
        "outputId": "e5b007aa-6f36-4836-9056-f39f8877448c",
        "colab": {
          "base_uri": "https://localhost:8080/"
        }
      },
      "source": [
        "r.lrange(\"words\", 0, -1)"
      ],
      "execution_count": null,
      "outputs": [
        {
          "output_type": "execute_result",
          "data": {
            "text/plain": [
              "[b'one', b'two']"
            ]
          },
          "metadata": {},
          "execution_count": 50
        }
      ]
    },
    {
      "cell_type": "code",
      "metadata": {
        "id": "sCsoIoM63A3i",
        "outputId": "091341df-6c52-4ce9-b89f-2ef9bcf4f4fb",
        "colab": {
          "base_uri": "https://localhost:8080/"
        }
      },
      "source": [
        "r.rpush(\"words\", \"three\")"
      ],
      "execution_count": null,
      "outputs": [
        {
          "output_type": "execute_result",
          "data": {
            "text/plain": [
              "3"
            ]
          },
          "metadata": {},
          "execution_count": 51
        }
      ]
    },
    {
      "cell_type": "code",
      "metadata": {
        "id": "R6SYq4n23A3i",
        "outputId": "f012bf5c-1c9d-4270-fc62-466631401724",
        "colab": {
          "base_uri": "https://localhost:8080/"
        }
      },
      "source": [
        "r.lrange(\"words\", 0, -1)"
      ],
      "execution_count": null,
      "outputs": [
        {
          "output_type": "execute_result",
          "data": {
            "text/plain": [
              "[b'one', b'two', b'three']"
            ]
          },
          "metadata": {},
          "execution_count": 52
        }
      ]
    },
    {
      "cell_type": "code",
      "metadata": {
        "id": "t6c3p64R3A3j",
        "outputId": "afb752f1-cfde-46de-9dbf-103a841a6ccd",
        "colab": {
          "base_uri": "https://localhost:8080/"
        }
      },
      "source": [
        "r.llen(\"words\")"
      ],
      "execution_count": null,
      "outputs": [
        {
          "output_type": "execute_result",
          "data": {
            "text/plain": [
              "3"
            ]
          },
          "metadata": {},
          "execution_count": 53
        }
      ]
    },
    {
      "cell_type": "code",
      "metadata": {
        "id": "vdLIZMaX3A3j",
        "outputId": "35bf0757-6b6a-4030-f861-67d7a64cf196",
        "colab": {
          "base_uri": "https://localhost:8080/"
        }
      },
      "source": [
        "r.lpush(\"words\", \"zero\")"
      ],
      "execution_count": null,
      "outputs": [
        {
          "output_type": "execute_result",
          "data": {
            "text/plain": [
              "4"
            ]
          },
          "metadata": {},
          "execution_count": 54
        }
      ]
    },
    {
      "cell_type": "code",
      "metadata": {
        "id": "Vcu54eX83A3j",
        "outputId": "951b5507-75ef-4110-dc48-b7b8eef8bef0",
        "colab": {
          "base_uri": "https://localhost:8080/"
        }
      },
      "source": [
        "r.lrange(\"words\", 0, -1)"
      ],
      "execution_count": null,
      "outputs": [
        {
          "output_type": "execute_result",
          "data": {
            "text/plain": [
              "[b'zero', b'one', b'two', b'three']"
            ]
          },
          "metadata": {},
          "execution_count": 55
        }
      ]
    },
    {
      "cell_type": "code",
      "metadata": {
        "id": "kF4t7ge-3A3j",
        "outputId": "2ece2246-0429-449b-8e6e-620cf801c2d7",
        "colab": {
          "base_uri": "https://localhost:8080/"
        }
      },
      "source": [
        "r.lrange(\"words\", 2, 2)"
      ],
      "execution_count": null,
      "outputs": [
        {
          "output_type": "execute_result",
          "data": {
            "text/plain": [
              "[b'two']"
            ]
          },
          "metadata": {},
          "execution_count": 56
        }
      ]
    },
    {
      "cell_type": "code",
      "metadata": {
        "id": "zakzEK8V3A3j",
        "outputId": "f9dc07fd-a4c7-4d3a-a818-eeca02c25255",
        "colab": {
          "base_uri": "https://localhost:8080/"
        }
      },
      "source": [
        "r.lindex(\"words\", 1)"
      ],
      "execution_count": null,
      "outputs": [
        {
          "output_type": "execute_result",
          "data": {
            "text/plain": [
              "b'one'"
            ]
          },
          "metadata": {},
          "execution_count": 57
        }
      ]
    },
    {
      "cell_type": "code",
      "metadata": {
        "id": "3Ckv1Sbp3A3j",
        "outputId": "39186f5d-f407-4b7b-af25-27c0f103811b",
        "colab": {
          "base_uri": "https://localhost:8080/"
        }
      },
      "source": [
        "r.lindex(\"words\", 2)"
      ],
      "execution_count": null,
      "outputs": [
        {
          "output_type": "execute_result",
          "data": {
            "text/plain": [
              "b'two'"
            ]
          },
          "metadata": {},
          "execution_count": 58
        }
      ]
    },
    {
      "cell_type": "markdown",
      "source": [
        "### Expiration of values"
      ],
      "metadata": {
        "id": "4-iOzjGsGrJh"
      }
    },
    {
      "cell_type": "code",
      "metadata": {
        "id": "PfTR7Ixp3A3j",
        "outputId": "4d375923-adc8-4c3f-fa95-bba477cac794",
        "colab": {
          "base_uri": "https://localhost:8080/"
        }
      },
      "source": [
        "r.setex(\"timed\", 10,  \"10 seconds\")"
      ],
      "execution_count": null,
      "outputs": [
        {
          "output_type": "execute_result",
          "data": {
            "text/plain": [
              "True"
            ]
          },
          "metadata": {},
          "execution_count": 59
        }
      ]
    },
    {
      "cell_type": "code",
      "metadata": {
        "id": "Puzppjcm3A3k",
        "outputId": "9c1673e5-0c74-4303-be96-e9e59f2c5ce2",
        "colab": {
          "base_uri": "https://localhost:8080/"
        }
      },
      "source": [
        "r.pttl(\"timed\")"
      ],
      "execution_count": null,
      "outputs": [
        {
          "output_type": "execute_result",
          "data": {
            "text/plain": [
              "8647"
            ]
          },
          "metadata": {},
          "execution_count": 60
        }
      ]
    },
    {
      "cell_type": "code",
      "metadata": {
        "id": "Z1tRvYUL3A3k",
        "outputId": "d1f2ae26-9d11-450f-883f-0bf4c8ee72d2",
        "colab": {
          "base_uri": "https://localhost:8080/"
        }
      },
      "source": [
        "r.pttl(\"timed\")"
      ],
      "execution_count": null,
      "outputs": [
        {
          "output_type": "execute_result",
          "data": {
            "text/plain": [
              "-2"
            ]
          },
          "metadata": {},
          "execution_count": 63
        }
      ]
    },
    {
      "cell_type": "code",
      "metadata": {
        "id": "0DenF6k93A3k",
        "outputId": "0e662376-6e46-4906-aa30-4ac7cf43beb1",
        "colab": {
          "base_uri": "https://localhost:8080/"
        }
      },
      "source": [
        "b\"timed\" in r.keys()"
      ],
      "execution_count": null,
      "outputs": [
        {
          "output_type": "execute_result",
          "data": {
            "text/plain": [
              "False"
            ]
          },
          "metadata": {},
          "execution_count": 64
        }
      ]
    },
    {
      "cell_type": "markdown",
      "source": [
        "# MongoDB Atlas"
      ],
      "metadata": {
        "id": "JoNxPeYW0b1v"
      }
    },
    {
      "cell_type": "code",
      "source": [
        "! pip install pymongo"
      ],
      "metadata": {
        "id": "Dw5nUkwa0iB7",
        "outputId": "33ee4d93-1abb-4ac9-b7d2-010158469c46",
        "colab": {
          "base_uri": "https://localhost:8080/"
        }
      },
      "execution_count": null,
      "outputs": [
        {
          "output_type": "stream",
          "name": "stdout",
          "text": [
            "Collecting pymongo\n",
            "  Downloading pymongo-4.9.1-cp310-cp310-manylinux_2_17_x86_64.manylinux2014_x86_64.whl.metadata (22 kB)\n",
            "Collecting dnspython<3.0.0,>=1.16.0 (from pymongo)\n",
            "  Downloading dnspython-2.6.1-py3-none-any.whl.metadata (5.8 kB)\n",
            "Downloading pymongo-4.9.1-cp310-cp310-manylinux_2_17_x86_64.manylinux2014_x86_64.whl (1.4 MB)\n",
            "\u001b[2K   \u001b[90m━━━━━━━━━━━━━━━━━━━━━━━━━━━━━━━━━━━━━━━━\u001b[0m \u001b[32m1.4/1.4 MB\u001b[0m \u001b[31m6.8 MB/s\u001b[0m eta \u001b[36m0:00:00\u001b[0m\n",
            "\u001b[?25hDownloading dnspython-2.6.1-py3-none-any.whl (307 kB)\n",
            "\u001b[2K   \u001b[90m━━━━━━━━━━━━━━━━━━━━━━━━━━━━━━━━━━━━━━━━\u001b[0m \u001b[32m307.7/307.7 kB\u001b[0m \u001b[31m18.1 MB/s\u001b[0m eta \u001b[36m0:00:00\u001b[0m\n",
            "\u001b[?25hInstalling collected packages: dnspython, pymongo\n",
            "Successfully installed dnspython-2.6.1 pymongo-4.9.1\n"
          ]
        }
      ]
    },
    {
      "cell_type": "markdown",
      "source": [
        "### NOTE: you must have an account at mongondb.net or on another Mongo server for this code to work properly.\n",
        "\n",
        "You may also have to authorize Access from Anywhere to connect to your DB."
      ],
      "metadata": {
        "id": "fYM3KhrZRjkD"
      }
    },
    {
      "cell_type": "code",
      "metadata": {
        "id": "7BOhlvK63A3k"
      },
      "source": [
        "from pymongo import MongoClient\n",
        "client = MongoClient(host='*** connection string here ***')   #A"
      ],
      "execution_count": null,
      "outputs": []
    },
    {
      "cell_type": "code",
      "metadata": {
        "id": "mnrAoXTH3A3k",
        "outputId": "c71fd490-0fe7-4449-f3b6-4cd6aeef5320",
        "colab": {
          "base_uri": "https://localhost:8080/"
        }
      },
      "source": [
        "import datetime\n",
        "a_document = {'name': 'Jane',\n",
        "              'age': 34,\n",
        "              'interests': ['Python', 'databases', 'statistics'],\n",
        "              'date_added': datetime.datetime.now()\n",
        "}\n",
        "db = client.my_data     #A\n",
        "collection = db.docs   #B\n",
        "result = collection.find_one()  #C\n",
        "db.list_collection_names()"
      ],
      "execution_count": null,
      "outputs": [
        {
          "output_type": "execute_result",
          "data": {
            "text/plain": [
              "[]"
            ]
          },
          "metadata": {},
          "execution_count": 71
        }
      ]
    },
    {
      "cell_type": "code",
      "source": [
        "collection.insert_one(a_document)\n"
      ],
      "metadata": {
        "colab": {
          "base_uri": "https://localhost:8080/"
        },
        "id": "NQClxNNTxmTz",
        "outputId": "3eb93e05-8b7d-4469-d81d-1291fa0c2b1f"
      },
      "execution_count": null,
      "outputs": [
        {
          "output_type": "execute_result",
          "data": {
            "text/plain": [
              "InsertOneResult(ObjectId('66f616d8b15e1d493ca8b8d0'), acknowledged=True)"
            ]
          },
          "metadata": {},
          "execution_count": 72
        }
      ]
    },
    {
      "cell_type": "code",
      "metadata": {
        "id": "BDqFFwgo3A3l",
        "outputId": "7189c503-2619-4428-bdf6-d20c830dfcf5",
        "colab": {
          "base_uri": "https://localhost:8080/"
        }
      },
      "source": [
        "collection.find_one()    #A"
      ],
      "execution_count": null,
      "outputs": [
        {
          "output_type": "execute_result",
          "data": {
            "text/plain": [
              "{'_id': ObjectId('66f616d8b15e1d493ca8b8d0'),\n",
              " 'name': 'Jane',\n",
              " 'age': 34,\n",
              " 'interests': ['Python', 'databases', 'statistics'],\n",
              " 'date_added': datetime.datetime(2024, 9, 27, 2, 21, 7, 521000)}"
            ]
          },
          "metadata": {},
          "execution_count": 73
        }
      ]
    },
    {
      "cell_type": "code",
      "metadata": {
        "id": "ZWKkXY103A3l"
      },
      "source": [
        "from bson.objectid import ObjectId\n",
        "\n",
        "# use ObjectId from above in code below\n",
        "collection.find_one({\"_id\":ObjectId('66f616d8b15e1d493ca8b8d0')})  #B\n"
      ],
      "execution_count": null,
      "outputs": []
    },
    {
      "cell_type": "code",
      "metadata": {
        "id": "rZgi0WtU3A3l",
        "outputId": "ec883730-9520-4e9f-de7c-dd6692d351ef",
        "colab": {
          "base_uri": "https://localhost:8080/"
        }
      },
      "source": [
        "# use ObjectId from above in code below\n",
        "collection.update_one({\"_id\":ObjectId('66f616d8b15e1d493ca8b8d0')}, {\"$set\": {\"name\":\"Ann\"}})       #C"
      ],
      "execution_count": null,
      "outputs": [
        {
          "output_type": "execute_result",
          "data": {
            "text/plain": [
              "UpdateResult({'n': 1, 'electionId': ObjectId('7fffffff00000000000002ba'), 'opTime': {'ts': Timestamp(1727403761, 6), 't': 698}, 'nModified': 1, 'ok': 1.0, '$clusterTime': {'clusterTime': Timestamp(1727403761, 6), 'signature': {'hash': b\"\\xdc\\t\\xa3\\x9d\\x0291r+\\x05h\\xd1S^'\\xa4L%)\\xe8\", 'keyId': 7368510527980437523}}, 'operationTime': Timestamp(1727403761, 6), 'updatedExisting': True}, acknowledged=True)"
            ]
          },
          "metadata": {},
          "execution_count": 76
        }
      ]
    },
    {
      "cell_type": "code",
      "metadata": {
        "id": "u4573BhP3A3l",
        "outputId": "ec73df51-aa60-461f-fcc4-0af889322fec",
        "colab": {
          "base_uri": "https://localhost:8080/"
        }
      },
      "source": [
        "# use ObjectId from above in code below\n",
        "collection.find_one({\"_id\":ObjectId('66f616d8b15e1d493ca8b8d0')})"
      ],
      "execution_count": null,
      "outputs": [
        {
          "output_type": "execute_result",
          "data": {
            "text/plain": [
              "{'_id': ObjectId('66f616d8b15e1d493ca8b8d0'),\n",
              " 'name': 'Ann',\n",
              " 'age': 34,\n",
              " 'interests': ['Python', 'databases', 'statistics'],\n",
              " 'date_added': datetime.datetime(2024, 9, 27, 2, 21, 7, 521000)}"
            ]
          },
          "metadata": {},
          "execution_count": 77
        }
      ]
    },
    {
      "cell_type": "code",
      "metadata": {
        "id": "tgOuoGVd3A3m",
        "outputId": "30bc70c1-2c99-4518-a707-eb60ca5572a8",
        "colab": {
          "base_uri": "https://localhost:8080/"
        }
      },
      "source": [
        "# use ObjectId from above in code below\n",
        "collection.replace_one({\"_id\":ObjectId('66f616d8b15e1d493ca8b8d0')}, {\"name\":\"Maria\"})                 #D"
      ],
      "execution_count": null,
      "outputs": [
        {
          "output_type": "execute_result",
          "data": {
            "text/plain": [
              "UpdateResult({'n': 1, 'electionId': ObjectId('7fffffff00000000000002ba'), 'opTime': {'ts': Timestamp(1727403772, 14), 't': 698}, 'nModified': 1, 'ok': 1.0, '$clusterTime': {'clusterTime': Timestamp(1727403772, 14), 'signature': {'hash': b'\\x95\\x93\\xd2\\xe2<[\\xe9W\\xb4\\x053\\xc1Wf\\x01\\xc7b\\xe5\\xc4a', 'keyId': 7368510527980437523}}, 'operationTime': Timestamp(1727403772, 14), 'updatedExisting': True}, acknowledged=True)"
            ]
          },
          "metadata": {},
          "execution_count": 78
        }
      ]
    },
    {
      "cell_type": "code",
      "metadata": {
        "id": "MS6fduWg3A3m",
        "outputId": "789d1332-728d-4921-a011-1b167dd0beef",
        "colab": {
          "base_uri": "https://localhost:8080/"
        }
      },
      "source": [
        "# use ObjectId from above in code below\n",
        "collection.find_one({\"_id\":ObjectId('66f616d8b15e1d493ca8b8d0')})"
      ],
      "execution_count": null,
      "outputs": [
        {
          "output_type": "execute_result",
          "data": {
            "text/plain": [
              "{'_id': ObjectId('66f616d8b15e1d493ca8b8d0'), 'name': 'Maria'}"
            ]
          },
          "metadata": {},
          "execution_count": 79
        }
      ]
    },
    {
      "cell_type": "code",
      "metadata": {
        "id": "mR4ld8dy3A3m",
        "outputId": "26372f3a-e6f8-4fb7-845a-54187e4dd41a",
        "colab": {
          "base_uri": "https://localhost:8080/"
        }
      },
      "source": [
        "# use ObjectId from above in code below\n",
        "collection.delete_one({\"_id\":ObjectId('66f616d8b15e1d493ca8b8d0')}) #E"
      ],
      "execution_count": null,
      "outputs": [
        {
          "output_type": "execute_result",
          "data": {
            "text/plain": [
              "DeleteResult({'n': 1, 'electionId': ObjectId('7fffffff00000000000002ba'), 'opTime': {'ts': Timestamp(1727403777, 14), 't': 698}, 'ok': 1.0, '$clusterTime': {'clusterTime': Timestamp(1727403777, 14), 'signature': {'hash': b'O\\x08\\xad\\xff\\xc3[E=\\xc8\\x06\\xd0\\xc4\\xe5^\\x0b\\xb8\\x1f\\x04\\x04\\xd7', 'keyId': 7368510527980437523}}, 'operationTime': Timestamp(1727403777, 14)}, acknowledged=True)"
            ]
          },
          "metadata": {},
          "execution_count": 80
        }
      ]
    },
    {
      "cell_type": "code",
      "metadata": {
        "id": "lbgUmf1E3A3m"
      },
      "source": [
        "collection.find_one()"
      ],
      "execution_count": null,
      "outputs": []
    },
    {
      "cell_type": "code",
      "metadata": {
        "id": "SkkSli0j3A3m",
        "outputId": "ad8562ab-1183-438f-f315-7c34c0caf7e2",
        "colab": {
          "base_uri": "https://localhost:8080/"
        }
      },
      "source": [
        "db.list_collection_names()"
      ],
      "execution_count": null,
      "outputs": [
        {
          "output_type": "execute_result",
          "data": {
            "text/plain": [
              "['docs']"
            ]
          },
          "metadata": {},
          "execution_count": 90
        }
      ]
    },
    {
      "cell_type": "code",
      "metadata": {
        "id": "lbMFRqdV3A3m",
        "outputId": "827e9397-3415-48af-853d-3c06886a10c8",
        "colab": {
          "base_uri": "https://localhost:8080/"
        }
      },
      "source": [
        "collection.drop()\n",
        "db.list_collection_names()"
      ],
      "execution_count": null,
      "outputs": [
        {
          "output_type": "execute_result",
          "data": {
            "text/plain": [
              "[]"
            ]
          },
          "metadata": {},
          "execution_count": 91
        }
      ]
    },
    {
      "cell_type": "code",
      "source": [],
      "metadata": {
        "id": "aMBMVGcp1zZ5"
      },
      "execution_count": null,
      "outputs": []
    }
  ]
}