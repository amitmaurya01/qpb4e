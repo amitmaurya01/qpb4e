{
  "cells": [
    {
      "cell_type": "markdown",
      "metadata": {
        "id": "view-in-github",
        "colab_type": "text"
      },
      "source": [
        "<a href=\"https://colab.research.google.com/github/nceder/qpb4e/blob/main/code/Chapter%2024/Chapter_24.ipynb\" target=\"_parent\"><img src=\"https://colab.research.google.com/assets/colab-badge.svg\" alt=\"Open In Colab\"/></a>"
      ]
    },
    {
      "cell_type": "markdown",
      "source": [
        "# 24 Exploring data"
      ],
      "metadata": {
        "id": "8UkBZArVD1j9"
      }
    },
    {
      "cell_type": "markdown",
      "source": [
        "# 24.2.2 Installing pandas"
      ],
      "metadata": {
        "id": "RJaBWUd5EKeh"
      }
    },
    {
      "cell_type": "code",
      "execution_count": null,
      "metadata": {
        "collapsed": true,
        "id": "A_Wjy0ZlsUIk"
      },
      "outputs": [],
      "source": [
        "%matplotlib inline\n",
        "import pandas as pd\n",
        "import numpy as np\n"
      ]
    },
    {
      "cell_type": "markdown",
      "source": [
        "# 24.2.3 Data frames"
      ],
      "metadata": {
        "id": "S-id3vXvEWkV"
      }
    },
    {
      "cell_type": "code",
      "execution_count": null,
      "metadata": {
        "id": "QUe_-34SsUIk",
        "outputId": "fa4d6818-236d-42d0-b704-981a87091f6b",
        "colab": {
          "base_uri": "https://localhost:8080/"
        }
      },
      "outputs": [
        {
          "output_type": "stream",
          "name": "stdout",
          "text": [
            "[[1, 2, 3], [4, 5, 6], [7, 8, 9]]\n"
          ]
        },
        {
          "output_type": "execute_result",
          "data": {
            "text/plain": [
              "[[1, 2, 3], [4, 5, 6], [7, 8, 9]]"
            ]
          },
          "metadata": {},
          "execution_count": 2
        }
      ],
      "source": [
        "grid = [[1,2,3], [4,5,6], [7,8,9]]\n",
        "print(grid)\n",
        "\n",
        "[[1, 2, 3], [4, 5, 6], [7, 8, 9]]"
      ]
    },
    {
      "cell_type": "code",
      "execution_count": null,
      "metadata": {
        "id": "5ynHHqAzsUIk",
        "outputId": "0a4bb14b-d78b-474e-bca8-5f965dc89275",
        "colab": {
          "base_uri": "https://localhost:8080/"
        }
      },
      "outputs": [
        {
          "output_type": "stream",
          "name": "stdout",
          "text": [
            "   0  1  2\n",
            "0  1  2  3\n",
            "1  4  5  6\n",
            "2  7  8  9\n"
          ]
        }
      ],
      "source": [
        "import pandas as pd\n",
        "df = pd.DataFrame(grid)\n",
        "print(df)"
      ]
    },
    {
      "cell_type": "code",
      "execution_count": null,
      "metadata": {
        "scrolled": true,
        "id": "FUObiVc_sUIk",
        "outputId": "b62bab5a-c129-491e-eff6-520f45353b5f",
        "colab": {
          "base_uri": "https://localhost:8080/"
        }
      },
      "outputs": [
        {
          "output_type": "stream",
          "name": "stdout",
          "text": [
            "   one  two  three\n",
            "0    1    2      3\n",
            "1    4    5      6\n",
            "2    7    8      9\n"
          ]
        }
      ],
      "source": [
        "df = pd.DataFrame(grid, columns=[\"one\", \"two\", \"three\"] )\n",
        "print(df)\n"
      ]
    },
    {
      "cell_type": "code",
      "execution_count": null,
      "metadata": {
        "scrolled": false,
        "id": "JEiCgx7vsUIl",
        "outputId": "5784dfe9-fc27-49f4-8951-04f6c01d0ca3",
        "colab": {
          "base_uri": "https://localhost:8080/"
        }
      },
      "outputs": [
        {
          "output_type": "stream",
          "name": "stdout",
          "text": [
            "0    2\n",
            "1    5\n",
            "2    8\n",
            "Name: two, dtype: int64\n"
          ]
        }
      ],
      "source": [
        "print(df[\"two\"])"
      ]
    },
    {
      "cell_type": "code",
      "execution_count": null,
      "metadata": {
        "id": "EC4B0gyvsUIl",
        "outputId": "3dce89bf-ce54-4c38-da38-085d0c5a47ff",
        "colab": {
          "base_uri": "https://localhost:8080/"
        }
      },
      "outputs": [
        {
          "output_type": "stream",
          "name": "stdout",
          "text": [
            "[2, 5, 8]\n"
          ]
        }
      ],
      "source": [
        "print([x[1] for x in grid])"
      ]
    },
    {
      "cell_type": "code",
      "execution_count": null,
      "metadata": {
        "id": "t7NqqaugsUIl",
        "outputId": "b9cee445-0741-4166-d748-3e12a04dbaad",
        "colab": {
          "base_uri": "https://localhost:8080/"
        }
      },
      "outputs": [
        {
          "output_type": "stream",
          "name": "stdout",
          "text": [
            "2\n",
            "5\n",
            "8\n"
          ]
        }
      ],
      "source": [
        "for x in df[\"two\"]:\n",
        "    print(x)"
      ]
    },
    {
      "cell_type": "code",
      "execution_count": null,
      "metadata": {
        "id": "xokZPklQsUIl",
        "outputId": "44017363-ea51-471f-efbc-3d31a1a72e85",
        "colab": {
          "base_uri": "https://localhost:8080/"
        }
      },
      "outputs": [
        {
          "output_type": "stream",
          "name": "stdout",
          "text": [
            "   one  three\n",
            "0    1      3\n",
            "1    4      6\n",
            "2    7      9\n"
          ]
        }
      ],
      "source": [
        "edges = df[[\"one\", \"three\"]]\n",
        "print(edges)\n"
      ]
    },
    {
      "cell_type": "code",
      "execution_count": null,
      "metadata": {
        "id": "meVRkrsisUIl",
        "outputId": "88294d65-2168-4387-dec5-0fd22fbfffa4",
        "colab": {
          "base_uri": "https://localhost:8080/"
        }
      },
      "outputs": [
        {
          "output_type": "stream",
          "name": "stdout",
          "text": [
            "   one  three\n",
            "0    3      5\n",
            "1    6      8\n",
            "2    9     11\n"
          ]
        }
      ],
      "source": [
        "print(edges.add(2))"
      ]
    },
    {
      "cell_type": "code",
      "execution_count": null,
      "metadata": {
        "id": "xwukk0AMsUIl",
        "outputId": "74aa5b52-1ad2-4f99-b557-fd0dbd193bbb",
        "colab": {
          "base_uri": "https://localhost:8080/",
          "height": 210
        }
      },
      "outputs": [
        {
          "output_type": "execute_result",
          "data": {
            "text/plain": [
              "two\n",
              "2    1\n",
              "5    1\n",
              "8    1\n",
              "Name: count, dtype: int64"
            ],
            "text/html": [
              "<div>\n",
              "<style scoped>\n",
              "    .dataframe tbody tr th:only-of-type {\n",
              "        vertical-align: middle;\n",
              "    }\n",
              "\n",
              "    .dataframe tbody tr th {\n",
              "        vertical-align: top;\n",
              "    }\n",
              "\n",
              "    .dataframe thead th {\n",
              "        text-align: right;\n",
              "    }\n",
              "</style>\n",
              "<table border=\"1\" class=\"dataframe\">\n",
              "  <thead>\n",
              "    <tr style=\"text-align: right;\">\n",
              "      <th></th>\n",
              "      <th>count</th>\n",
              "    </tr>\n",
              "    <tr>\n",
              "      <th>two</th>\n",
              "      <th></th>\n",
              "    </tr>\n",
              "  </thead>\n",
              "  <tbody>\n",
              "    <tr>\n",
              "      <th>2</th>\n",
              "      <td>1</td>\n",
              "    </tr>\n",
              "    <tr>\n",
              "      <th>5</th>\n",
              "      <td>1</td>\n",
              "    </tr>\n",
              "    <tr>\n",
              "      <th>8</th>\n",
              "      <td>1</td>\n",
              "    </tr>\n",
              "  </tbody>\n",
              "</table>\n",
              "</div><br><label><b>dtype:</b> int64</label>"
            ]
          },
          "metadata": {},
          "execution_count": 11
        }
      ],
      "source": [
        "df['two'].value_counts()"
      ]
    },
    {
      "cell_type": "markdown",
      "source": [
        "# 24.3.1 Loading and saving data with pandas"
      ],
      "metadata": {
        "id": "9M8AM9qjGV-Q"
      }
    },
    {
      "cell_type": "code",
      "source": [
        "!wget https://raw.githubusercontent.com/nceder/qpb4e/main/code/Chapter%2024/mars_data_01.json &> null  && echo mars_data_01.json Downloaded\n",
        "!wget https://raw.githubusercontent.com/nceder/qpb4e/main/code/Chapter%2024/temp_data_01.csv &> null  && echo temp_data_01.csv Downloaded"
      ],
      "metadata": {
        "colab": {
          "base_uri": "https://localhost:8080/"
        },
        "id": "0uu9f4GTP8ym",
        "outputId": "1a81d5c0-d9fe-41fd-b235-93aa857bc790"
      },
      "execution_count": null,
      "outputs": [
        {
          "output_type": "stream",
          "name": "stdout",
          "text": [
            "mars_data_01.json Downloaded\n",
            "temp_data_01.csv Downloaded\n"
          ]
        }
      ]
    },
    {
      "cell_type": "code",
      "execution_count": null,
      "metadata": {
        "id": "hStKsvFRsUIm",
        "outputId": "35d52adc-7e3f-4c1a-f8e5-e0aa6d416d07",
        "colab": {
          "base_uri": "https://localhost:8080/"
        }
      },
      "outputs": [
        {
          "output_type": "stream",
          "name": "stdout",
          "text": [
            "                                   report\n",
            "abs_humidity                         None\n",
            "atmo_opacity                        Sunny\n",
            "ls                                  296.0\n",
            "max_temp                             -1.0\n",
            "max_temp_fahrenheit                  30.2\n",
            "min_temp                            -72.0\n",
            "min_temp_fahrenheit                 -97.6\n",
            "pressure                            869.0\n",
            "pressure_string                    Higher\n",
            "season                           Month 10\n",
            "sol                                  1576\n",
            "sunrise              2017-01-11T12:31:00Z\n",
            "sunset               2017-01-12T00:46:00Z\n",
            "terrestrial_date               2017-01-11\n",
            "wind_direction                         --\n",
            "wind_speed                           None\n"
          ]
        }
      ],
      "source": [
        "mars = pd.read_json(\"mars_data_01.json\")\n",
        "print(mars)"
      ]
    },
    {
      "cell_type": "code",
      "execution_count": null,
      "metadata": {
        "collapsed": true,
        "id": "0Sp2EaK2sUIm",
        "colab": {
          "base_uri": "https://localhost:8080/"
        },
        "outputId": "b98cda39-2108-47b6-b300-8dafccc5eac8"
      },
      "outputs": [
        {
          "output_type": "stream",
          "name": "stdout",
          "text": [
            "           4      5    6     7     8      9    10    11    12       13   14  \\\n",
            "0  1979/01/01  17.48  994   6.0  30.5   2.89  994 -13.6  15.8  Missing    0   \n",
            "1  1979/01/02   4.64  994  -6.4  15.8  -9.03  994 -23.6   6.6  Missing    0   \n",
            "2  1979/01/03  11.05  994  -0.7  24.7  -2.17  994 -18.3  12.9  Missing    0   \n",
            "3  1979/01/04   9.51  994   0.2  27.6  -0.43  994 -16.3  16.3  Missing    0   \n",
            "4  1979/05/15  68.42  994  61.0  75.1  51.30  994  43.3  57.0  Missing    0   \n",
            "5  1979/05/16  70.29  994  63.4  73.5  48.09  994  41.1  53.0  Missing    0   \n",
            "6  1979/05/17  75.34  994  64.0  80.5  50.84  994  44.3  55.7    82.60    2   \n",
            "7  1979/05/18  79.13  994  75.5  82.1  55.68  994  50.0  61.1    81.42  349   \n",
            "8  1979/05/19  74.94  994  66.9  83.1  58.59  994  50.9  63.2    82.87   78   \n",
            "\n",
            "        15       16      17  \n",
            "0  Missing  Missing   0.00%  \n",
            "1  Missing  Missing   0.00%  \n",
            "2  Missing  Missing   0.00%  \n",
            "3  Missing  Missing   0.00%  \n",
            "4  Missing  Missing   0.00%  \n",
            "5  Missing  Missing   0.00%  \n",
            "6    82.40    82.80   0.20%  \n",
            "7    80.20    83.40  35.11%  \n",
            "8    81.60    85.20   7.85%  \n"
          ]
        }
      ],
      "source": [
        "temp = pd.read_csv(\"temp_data_01.csv\", header=0, names=range(18), usecols=range(4,18))\n",
        "print(temp)"
      ]
    },
    {
      "cell_type": "code",
      "source": [
        "temp = pd.read_csv(\"temp_data_01.csv\", na_values=['Missing'])\n",
        "print(temp)"
      ],
      "metadata": {
        "colab": {
          "base_uri": "https://localhost:8080/"
        },
        "id": "W54XLMuXKi9k",
        "outputId": "cc916cf5-fa4a-4cbc-b4ca-bf77ff3f6399"
      },
      "execution_count": null,
      "outputs": [
        {
          "output_type": "stream",
          "name": "stdout",
          "text": [
            "   Notes     State  State Code Month Day, Year Month Day, Year Code  \\\n",
            "0    NaN  Illinois          17    Jan 01, 1979           1979/01/01   \n",
            "1    NaN  Illinois          17    Jan 02, 1979           1979/01/02   \n",
            "2    NaN  Illinois          17    Jan 03, 1979           1979/01/03   \n",
            "3    NaN  Illinois          17    Jan 04, 1979           1979/01/04   \n",
            "4    NaN  Illinois          17    May 15, 1979           1979/05/15   \n",
            "5    NaN  Illinois          17    May 16, 1979           1979/05/16   \n",
            "6    NaN  Illinois          17    May 17, 1979           1979/05/17   \n",
            "7    NaN  Illinois          17    May 18, 1979           1979/05/18   \n",
            "8    NaN  Illinois          17    May 19, 1979           1979/05/19   \n",
            "\n",
            "   Avg Daily Max Air Temperature (F)  Record Count for Daily Max Air Temp (F)  \\\n",
            "0                              17.48                                      994   \n",
            "1                               4.64                                      994   \n",
            "2                              11.05                                      994   \n",
            "3                               9.51                                      994   \n",
            "4                              68.42                                      994   \n",
            "5                              70.29                                      994   \n",
            "6                              75.34                                      994   \n",
            "7                              79.13                                      994   \n",
            "8                              74.94                                      994   \n",
            "\n",
            "   Min Temp for Daily Max Air Temp (F)  Max Temp for Daily Max Air Temp (F)  \\\n",
            "0                                  6.0                                 30.5   \n",
            "1                                 -6.4                                 15.8   \n",
            "2                                 -0.7                                 24.7   \n",
            "3                                  0.2                                 27.6   \n",
            "4                                 61.0                                 75.1   \n",
            "5                                 63.4                                 73.5   \n",
            "6                                 64.0                                 80.5   \n",
            "7                                 75.5                                 82.1   \n",
            "8                                 66.9                                 83.1   \n",
            "\n",
            "   Avg Daily Min Air Temperature (F)  Record Count for Daily Min Air Temp (F)  \\\n",
            "0                               2.89                                      994   \n",
            "1                              -9.03                                      994   \n",
            "2                              -2.17                                      994   \n",
            "3                              -0.43                                      994   \n",
            "4                              51.30                                      994   \n",
            "5                              48.09                                      994   \n",
            "6                              50.84                                      994   \n",
            "7                              55.68                                      994   \n",
            "8                              58.59                                      994   \n",
            "\n",
            "   Min Temp for Daily Min Air Temp (F)  Max Temp for Daily Min Air Temp (F)  \\\n",
            "0                                -13.6                                 15.8   \n",
            "1                                -23.6                                  6.6   \n",
            "2                                -18.3                                 12.9   \n",
            "3                                -16.3                                 16.3   \n",
            "4                                 43.3                                 57.0   \n",
            "5                                 41.1                                 53.0   \n",
            "6                                 44.3                                 55.7   \n",
            "7                                 50.0                                 61.1   \n",
            "8                                 50.9                                 63.2   \n",
            "\n",
            "   Avg Daily Max Heat Index (F)  Record Count for Daily Max Heat Index (F)  \\\n",
            "0                           NaN                                          0   \n",
            "1                           NaN                                          0   \n",
            "2                           NaN                                          0   \n",
            "3                           NaN                                          0   \n",
            "4                           NaN                                          0   \n",
            "5                           NaN                                          0   \n",
            "6                         82.60                                          2   \n",
            "7                         81.42                                        349   \n",
            "8                         82.87                                         78   \n",
            "\n",
            "   Min for Daily Max Heat Index (F)  Max for Daily Max Heat Index (F)  \\\n",
            "0                               NaN                               NaN   \n",
            "1                               NaN                               NaN   \n",
            "2                               NaN                               NaN   \n",
            "3                               NaN                               NaN   \n",
            "4                               NaN                               NaN   \n",
            "5                               NaN                               NaN   \n",
            "6                              82.4                              82.8   \n",
            "7                              80.2                              83.4   \n",
            "8                              81.6                              85.2   \n",
            "\n",
            "  Daily Max Heat Index (F) % Coverage  \n",
            "0                               0.00%  \n",
            "1                               0.00%  \n",
            "2                               0.00%  \n",
            "3                               0.00%  \n",
            "4                               0.00%  \n",
            "5                               0.00%  \n",
            "6                               0.20%  \n",
            "7                              35.11%  \n",
            "8                               7.85%  \n"
          ]
        }
      ]
    },
    {
      "cell_type": "markdown",
      "source": [
        "#  24.3.2 Data cleaning with a data frame"
      ],
      "metadata": {
        "id": "mDmIxo1bF3AP"
      }
    },
    {
      "cell_type": "code",
      "execution_count": null,
      "metadata": {
        "id": "wwhnWjZzsUIm",
        "outputId": "72f14056-8810-4489-ffb3-434a875bb625",
        "colab": {
          "base_uri": "https://localhost:8080/"
        }
      },
      "outputs": [
        {
          "output_type": "stream",
          "name": "stdout",
          "text": [
            "           4      5    6     7     8      9    10    11    12     13   14  \\\n",
            "0  1979/01/01  17.48  994   6.0  30.5   2.89  994 -13.6  15.8    NaN    0   \n",
            "1  1979/01/02   4.64  994  -6.4  15.8  -9.03  994 -23.6   6.6    NaN    0   \n",
            "2  1979/01/03  11.05  994  -0.7  24.7  -2.17  994 -18.3  12.9    NaN    0   \n",
            "3  1979/01/04   9.51  994   0.2  27.6  -0.43  994 -16.3  16.3    NaN    0   \n",
            "4  1979/05/15  68.42  994  61.0  75.1  51.30  994  43.3  57.0    NaN    0   \n",
            "5  1979/05/16  70.29  994  63.4  73.5  48.09  994  41.1  53.0    NaN    0   \n",
            "6  1979/05/17  75.34  994  64.0  80.5  50.84  994  44.3  55.7  82.60    2   \n",
            "7  1979/05/18  79.13  994  75.5  82.1  55.68  994  50.0  61.1  81.42  349   \n",
            "8  1979/05/19  74.94  994  66.9  83.1  58.59  994  50.9  63.2  82.87   78   \n",
            "\n",
            "     15    16      17  \n",
            "0   NaN   NaN   0.00%  \n",
            "1   NaN   NaN   0.00%  \n",
            "2   NaN   NaN   0.00%  \n",
            "3   NaN   NaN   0.00%  \n",
            "4   NaN   NaN   0.00%  \n",
            "5   NaN   NaN   0.00%  \n",
            "6  82.4  82.8   0.20%  \n",
            "7  80.2  83.4  35.11%  \n",
            "8  81.6  85.2   7.85%  \n"
          ]
        }
      ],
      "source": [
        "temp = pd.read_csv(\"temp_data_01.csv\", na_values=['Missing'], header=0, names=range(18), usecols=range(4,18))\n",
        "print(temp)"
      ]
    },
    {
      "cell_type": "markdown",
      "source": [
        "### Saving data"
      ],
      "metadata": {
        "id": "2fxo2yzTK8jr"
      }
    },
    {
      "cell_type": "code",
      "source": [
        "df.to_csv(\"df_out.csv\", index=False)    #A\n",
        "!cat df_out.csv"
      ],
      "metadata": {
        "colab": {
          "base_uri": "https://localhost:8080/"
        },
        "id": "VKUGKizjK5bO",
        "outputId": "2f8da64d-a67c-4186-9cd9-a11e7ad3524d"
      },
      "execution_count": null,
      "outputs": [
        {
          "output_type": "stream",
          "name": "stdout",
          "text": [
            "one,two,three\n",
            "1,2,3\n",
            "4,5,6\n",
            "7,8,9\n"
          ]
        }
      ]
    },
    {
      "cell_type": "code",
      "source": [
        "df.to_json()     #A"
      ],
      "metadata": {
        "colab": {
          "base_uri": "https://localhost:8080/",
          "height": 35
        },
        "id": "ilR-i227LVUt",
        "outputId": "f2ed01b2-ff3c-48d8-ebb9-13bca5ad2465"
      },
      "execution_count": null,
      "outputs": [
        {
          "output_type": "execute_result",
          "data": {
            "text/plain": [
              "'{\"one\":{\"0\":1,\"1\":4,\"2\":7},\"two\":{\"0\":2,\"1\":5,\"2\":8},\"three\":{\"0\":3,\"1\":6,\"2\":9}}'"
            ],
            "application/vnd.google.colaboratory.intrinsic+json": {
              "type": "string"
            }
          },
          "metadata": {},
          "execution_count": 23
        }
      ]
    },
    {
      "cell_type": "markdown",
      "source": [
        "## 24.3.2 Data cleaning with a data frame"
      ],
      "metadata": {
        "id": "BM-9jcizLex2"
      }
    },
    {
      "cell_type": "code",
      "source": [
        "temp = pd.read_csv(\"temp_data_01.csv\", na_values=['Missing'], header=0, names=range(18), usecols=range(4,18))    #A\n",
        "print(temp)"
      ],
      "metadata": {
        "colab": {
          "base_uri": "https://localhost:8080/"
        },
        "id": "RVv6RvZwLnP8",
        "outputId": "ef3695ea-a9a9-4b2b-91bc-994c857d47fe"
      },
      "execution_count": null,
      "outputs": [
        {
          "output_type": "stream",
          "name": "stdout",
          "text": [
            "           4      5    6     7     8      9    10    11    12     13   14  \\\n",
            "0  1979/01/01  17.48  994   6.0  30.5   2.89  994 -13.6  15.8    NaN    0   \n",
            "1  1979/01/02   4.64  994  -6.4  15.8  -9.03  994 -23.6   6.6    NaN    0   \n",
            "2  1979/01/03  11.05  994  -0.7  24.7  -2.17  994 -18.3  12.9    NaN    0   \n",
            "3  1979/01/04   9.51  994   0.2  27.6  -0.43  994 -16.3  16.3    NaN    0   \n",
            "4  1979/05/15  68.42  994  61.0  75.1  51.30  994  43.3  57.0    NaN    0   \n",
            "5  1979/05/16  70.29  994  63.4  73.5  48.09  994  41.1  53.0    NaN    0   \n",
            "6  1979/05/17  75.34  994  64.0  80.5  50.84  994  44.3  55.7  82.60    2   \n",
            "7  1979/05/18  79.13  994  75.5  82.1  55.68  994  50.0  61.1  81.42  349   \n",
            "8  1979/05/19  74.94  994  66.9  83.1  58.59  994  50.9  63.2  82.87   78   \n",
            "\n",
            "     15    16      17  \n",
            "0   NaN   NaN   0.00%  \n",
            "1   NaN   NaN   0.00%  \n",
            "2   NaN   NaN   0.00%  \n",
            "3   NaN   NaN   0.00%  \n",
            "4   NaN   NaN   0.00%  \n",
            "5   NaN   NaN   0.00%  \n",
            "6  82.4  82.8   0.20%  \n",
            "7  80.2  83.4  35.11%  \n",
            "8  81.6  85.2   7.85%  \n"
          ]
        }
      ]
    },
    {
      "cell_type": "code",
      "execution_count": null,
      "metadata": {
        "id": "teRZJPMRsUIm",
        "outputId": "ce8d33e6-5f14-4285-e2eb-201d55393755",
        "colab": {
          "base_uri": "https://localhost:8080/",
          "height": 35
        }
      },
      "outputs": [
        {
          "output_type": "execute_result",
          "data": {
            "text/plain": [
              "'0.00%'"
            ],
            "application/vnd.google.colaboratory.intrinsic+json": {
              "type": "string"
            }
          },
          "metadata": {},
          "execution_count": 25
        }
      ],
      "source": [
        "temp[17][0]"
      ]
    },
    {
      "cell_type": "code",
      "execution_count": null,
      "metadata": {
        "scrolled": true,
        "id": "wMkd6FmKsUIm",
        "outputId": "4719c62a-2e39-478d-d595-08b6e67f51e0",
        "colab": {
          "base_uri": "https://localhost:8080/",
          "height": 35
        }
      },
      "outputs": [
        {
          "output_type": "execute_result",
          "data": {
            "text/plain": [
              "'0.00'"
            ],
            "application/vnd.google.colaboratory.intrinsic+json": {
              "type": "string"
            }
          },
          "metadata": {},
          "execution_count": 26
        }
      ],
      "source": [
        "temp[17]=temp[17].str.strip(\"%\")\n",
        "temp[17][0]"
      ]
    },
    {
      "cell_type": "code",
      "execution_count": null,
      "metadata": {
        "id": "2LPNqkSOsUIn",
        "outputId": "293e4cc1-66bf-4781-ee16-6a37b11c66c2",
        "colab": {
          "base_uri": "https://localhost:8080/"
        }
      },
      "outputs": [
        {
          "output_type": "execute_result",
          "data": {
            "text/plain": [
              "0.0"
            ]
          },
          "metadata": {},
          "execution_count": 28
        }
      ],
      "source": [
        "temp[17] = pd.to_numeric(temp[17])\n",
        "temp[17][0]"
      ]
    },
    {
      "cell_type": "code",
      "execution_count": null,
      "metadata": {
        "id": "LbRWZJnOsUIn",
        "outputId": "1e22e596-51c3-4acf-ccd8-09f6a02b0dd0",
        "colab": {
          "base_uri": "https://localhost:8080/",
          "height": 366
        }
      },
      "outputs": [
        {
          "output_type": "execute_result",
          "data": {
            "text/plain": [
              "0    0.0000\n",
              "1    0.0000\n",
              "2    0.0000\n",
              "3    0.0000\n",
              "4    0.0000\n",
              "5    0.0000\n",
              "6    0.0020\n",
              "7    0.3511\n",
              "8    0.0785\n",
              "Name: 17, dtype: float64"
            ],
            "text/html": [
              "<div>\n",
              "<style scoped>\n",
              "    .dataframe tbody tr th:only-of-type {\n",
              "        vertical-align: middle;\n",
              "    }\n",
              "\n",
              "    .dataframe tbody tr th {\n",
              "        vertical-align: top;\n",
              "    }\n",
              "\n",
              "    .dataframe thead th {\n",
              "        text-align: right;\n",
              "    }\n",
              "</style>\n",
              "<table border=\"1\" class=\"dataframe\">\n",
              "  <thead>\n",
              "    <tr style=\"text-align: right;\">\n",
              "      <th></th>\n",
              "      <th>17</th>\n",
              "    </tr>\n",
              "  </thead>\n",
              "  <tbody>\n",
              "    <tr>\n",
              "      <th>0</th>\n",
              "      <td>0.0000</td>\n",
              "    </tr>\n",
              "    <tr>\n",
              "      <th>1</th>\n",
              "      <td>0.0000</td>\n",
              "    </tr>\n",
              "    <tr>\n",
              "      <th>2</th>\n",
              "      <td>0.0000</td>\n",
              "    </tr>\n",
              "    <tr>\n",
              "      <th>3</th>\n",
              "      <td>0.0000</td>\n",
              "    </tr>\n",
              "    <tr>\n",
              "      <th>4</th>\n",
              "      <td>0.0000</td>\n",
              "    </tr>\n",
              "    <tr>\n",
              "      <th>5</th>\n",
              "      <td>0.0000</td>\n",
              "    </tr>\n",
              "    <tr>\n",
              "      <th>6</th>\n",
              "      <td>0.0020</td>\n",
              "    </tr>\n",
              "    <tr>\n",
              "      <th>7</th>\n",
              "      <td>0.3511</td>\n",
              "    </tr>\n",
              "    <tr>\n",
              "      <th>8</th>\n",
              "      <td>0.0785</td>\n",
              "    </tr>\n",
              "  </tbody>\n",
              "</table>\n",
              "</div><br><label><b>dtype:</b> float64</label>"
            ]
          },
          "metadata": {},
          "execution_count": 29
        }
      ],
      "source": [
        "temp[17] = temp[17].div(100)\n",
        "temp[17]"
      ]
    },
    {
      "cell_type": "markdown",
      "source": [
        "# 24.4. 1 Merging data frames"
      ],
      "metadata": {
        "id": "GYpKFHrEMJL8"
      }
    },
    {
      "cell_type": "code",
      "source": [
        "!wget https://raw.githubusercontent.com/nceder/qpb4e/main/code/Chapter%2024/sales_calls.csv &> null  && echo sales_calls.csv Downloaded\n",
        "!wget https://raw.githubusercontent.com/nceder/qpb4e/main/code/Chapter%2024/sales_revenue.csv &> null  && echo sales_revenue.csv Downloaded"
      ],
      "metadata": {
        "colab": {
          "base_uri": "https://localhost:8080/"
        },
        "id": "sEwUPn4CM2c7",
        "outputId": "be6bdeb3-a57d-454e-dbc4-f6cbf6842f1d"
      },
      "execution_count": null,
      "outputs": [
        {
          "output_type": "stream",
          "name": "stdout",
          "text": [
            "sales_calls.csv Downloaded\n",
            "sales_revenue.csv Downloaded\n"
          ]
        }
      ]
    },
    {
      "cell_type": "code",
      "execution_count": null,
      "metadata": {
        "id": "RpXNMf_ksUIn",
        "outputId": "c94ac17d-0f58-4a70-b352-00ff1878c855",
        "colab": {
          "base_uri": "https://localhost:8080/"
        }
      },
      "outputs": [
        {
          "output_type": "stream",
          "name": "stdout",
          "text": [
            "   Team member  Territory  Month  Calls\n",
            "0        Jorge          3      1    107\n",
            "1        Jorge          3      2     88\n",
            "2        Jorge          3      3     84\n",
            "3        Jorge          3      4    113\n",
            "4          Ana          1      1     91\n",
            "5          Ana          1      2    129\n",
            "6          Ana          1      3     96\n",
            "7          Ana          1      4    128\n",
            "8          Ali          2      1    120\n",
            "9          Ali          2      2     85\n",
            "10         Ali          2      3     87\n",
            "11         Ali          2      4     87\n"
          ]
        }
      ],
      "source": [
        "calls = pd.read_csv(\"sales_calls.csv\")\n",
        "print(calls)"
      ]
    },
    {
      "cell_type": "code",
      "execution_count": null,
      "metadata": {
        "id": "FXfjO7ITsUIn",
        "outputId": "9e80f888-c8fe-4153-f31e-63ff06733f84",
        "colab": {
          "base_uri": "https://localhost:8080/"
        }
      },
      "outputs": [
        {
          "output_type": "stream",
          "name": "stdout",
          "text": [
            "    Territory  Month  Amount\n",
            "0           1      1   54228\n",
            "1           1      2   61640\n",
            "2           1      3   43491\n",
            "3           1      4   52173\n",
            "4           2      1   36061\n",
            "5           2      2   44957\n",
            "6           2      3   35058\n",
            "7           2      4   33855\n",
            "8           3      1   50876\n",
            "9           3      2   57682\n",
            "10          3      3   53689\n",
            "11          3      4   49173\n"
          ]
        }
      ],
      "source": [
        "revenue = pd.read_csv(\"sales_revenue.csv\")\n",
        "print(revenue)"
      ]
    },
    {
      "cell_type": "code",
      "execution_count": null,
      "metadata": {
        "id": "l_7oZnovsUIn",
        "outputId": "f31e5c22-7850-4792-8353-e8e09cabd95a",
        "colab": {
          "base_uri": "https://localhost:8080/"
        }
      },
      "outputs": [
        {
          "output_type": "stream",
          "name": "stdout",
          "text": [
            "   Team member  Territory  Month  Calls  Amount\n",
            "0        Jorge          3      1    107   50876\n",
            "1        Jorge          3      2     88   57682\n",
            "2        Jorge          3      3     84   53689\n",
            "3        Jorge          3      4    113   49173\n",
            "4          Ana          1      1     91   54228\n",
            "5          Ana          1      2    129   61640\n",
            "6          Ana          1      3     96   43491\n",
            "7          Ana          1      4    128   52173\n",
            "8          Ali          2      1    120   36061\n",
            "9          Ali          2      2     85   44957\n",
            "10         Ali          2      3     87   35058\n",
            "11         Ali          2      4     87   33855\n"
          ]
        }
      ],
      "source": [
        "calls_revenue = pd.merge(calls, revenue, on=['Territory', 'Month'])\n",
        "print(calls_revenue)"
      ]
    },
    {
      "cell_type": "markdown",
      "source": [
        "## 24.4.2 Selecting data"
      ],
      "metadata": {
        "id": "JfqYVKKjNdv_"
      }
    },
    {
      "cell_type": "code",
      "execution_count": null,
      "metadata": {
        "scrolled": true,
        "id": "MMtNXlE5sUIn",
        "outputId": "5e63a47c-93c3-40a4-8c4f-5941fb15e6c4",
        "colab": {
          "base_uri": "https://localhost:8080/"
        }
      },
      "outputs": [
        {
          "output_type": "stream",
          "name": "stdout",
          "text": [
            "  Team member  Territory  Month  Calls  Amount\n",
            "0       Jorge          3      1    107   50876\n",
            "1       Jorge          3      2     88   57682\n",
            "2       Jorge          3      3     84   53689\n",
            "3       Jorge          3      4    113   49173\n"
          ]
        }
      ],
      "source": [
        "print(calls_revenue[calls_revenue.Territory==3])"
      ]
    },
    {
      "cell_type": "code",
      "execution_count": null,
      "metadata": {
        "scrolled": true,
        "id": "FRm7_hPpsUIo",
        "outputId": "e023c7cf-a5ab-45f8-8890-371155d1a851",
        "colab": {
          "base_uri": "https://localhost:8080/"
        }
      },
      "outputs": [
        {
          "output_type": "stream",
          "name": "stdout",
          "text": [
            "  Team member  Territory  Month  Calls  Amount\n",
            "1       Jorge          3      2     88   57682\n",
            "2       Jorge          3      3     84   53689\n",
            "4         Ana          1      1     91   54228\n",
            "9         Ali          2      2     85   44957\n"
          ]
        }
      ],
      "source": [
        "print(calls_revenue[calls_revenue.Amount/calls_revenue.Calls>500])"
      ]
    },
    {
      "cell_type": "code",
      "execution_count": null,
      "metadata": {
        "id": "DdAeGyohsUIo",
        "outputId": "76affd35-f29d-4cf7-968f-0c140ca48a93",
        "colab": {
          "base_uri": "https://localhost:8080/"
        }
      },
      "outputs": [
        {
          "output_type": "stream",
          "name": "stdout",
          "text": [
            "   Team member  Territory  Month  Calls  Amount  Call_Amount\n",
            "0        Jorge          3      1    107   50876   475.476636\n",
            "1        Jorge          3      2     88   57682   655.477273\n",
            "2        Jorge          3      3     84   53689   639.154762\n",
            "3        Jorge          3      4    113   49173   435.159292\n",
            "4          Ana          1      1     91   54228   595.912088\n",
            "5          Ana          1      2    129   61640   477.829457\n",
            "6          Ana          1      3     96   43491   453.031250\n",
            "7          Ana          1      4    128   52173   407.601562\n",
            "8          Ali          2      1    120   36061   300.508333\n",
            "9          Ali          2      2     85   44957   528.905882\n",
            "10         Ali          2      3     87   35058   402.965517\n",
            "11         Ali          2      4     87   33855   389.137931\n"
          ]
        }
      ],
      "source": [
        "calls_revenue['Call_Amount'] = calls_revenue.Amount/calls_revenue.Calls\n",
        "print(calls_revenue)"
      ]
    },
    {
      "cell_type": "markdown",
      "source": [
        "## 24.4.3 Grouping and aggregation"
      ],
      "metadata": {
        "id": "RAKb3Ax2NsHo"
      }
    },
    {
      "cell_type": "code",
      "execution_count": null,
      "metadata": {
        "id": "aSw6iKYfsUIo",
        "outputId": "7a49ee35-c392-4ec5-8630-4f92eedc06e0",
        "colab": {
          "base_uri": "https://localhost:8080/"
        }
      },
      "outputs": [
        {
          "output_type": "stream",
          "name": "stdout",
          "text": [
            "1215\n",
            "101.25\n",
            "93.5\n",
            "129\n",
            "84\n"
          ]
        }
      ],
      "source": [
        "print(calls_revenue.Calls.sum())\n",
        "print(calls_revenue.Calls.mean())\n",
        "print(calls_revenue.Calls.median())\n",
        "print(calls_revenue.Calls.max())\n",
        "print(calls_revenue.Calls.min())"
      ]
    },
    {
      "cell_type": "code",
      "execution_count": null,
      "metadata": {
        "scrolled": true,
        "id": "w6KBDxF8sUIo",
        "outputId": "f4282aec-956d-4c8e-cab8-d37864327a3a",
        "colab": {
          "base_uri": "https://localhost:8080/"
        }
      },
      "outputs": [
        {
          "output_type": "stream",
          "name": "stdout",
          "text": [
            "  Team member  Territory  Month  Calls  Amount  Call_Amount\n",
            "0       Jorge          3      1    107   50876   475.476636\n",
            "1       Jorge          3      2     88   57682   655.477273\n",
            "2       Jorge          3      3     84   53689   639.154762\n",
            "4         Ana          1      1     91   54228   595.912088\n",
            "5         Ana          1      2    129   61640   477.829457\n",
            "9         Ali          2      2     85   44957   528.905882\n",
            "464.2539427570093\n"
          ]
        }
      ],
      "source": [
        "print(calls_revenue[calls_revenue.Call_Amount >= calls_revenue.Call_Amount.median()])\n",
        "print(calls_revenue.Call_Amount.median())\n"
      ]
    },
    {
      "cell_type": "code",
      "execution_count": null,
      "metadata": {
        "id": "WrnO1ibFsUIo",
        "outputId": "5d21b2d4-ecc3-4839-c678-6c93fff7b932",
        "colab": {
          "base_uri": "https://localhost:8080/"
        }
      },
      "outputs": [
        {
          "output_type": "stream",
          "name": "stdout",
          "text": [
            "       Calls  Amount\n",
            "Month               \n",
            "1        318  141165\n",
            "2        302  164279\n",
            "3        267  132238\n",
            "4        328  135201\n"
          ]
        }
      ],
      "source": [
        "print(calls_revenue[['Month', 'Calls', 'Amount']].groupby(['Month']).sum())"
      ]
    },
    {
      "cell_type": "code",
      "execution_count": null,
      "metadata": {
        "scrolled": true,
        "id": "clwoF_LGsUIo",
        "outputId": "3fed6533-1995-4192-ea91-b764d15b8fdf",
        "colab": {
          "base_uri": "https://localhost:8080/"
        }
      },
      "outputs": [
        {
          "output_type": "stream",
          "name": "stdout",
          "text": [
            "           Calls  Amount\n",
            "Territory               \n",
            "1            444  211532\n",
            "2            379  149931\n",
            "3            392  211420\n"
          ]
        }
      ],
      "source": [
        "print(calls_revenue[['Territory', 'Calls', 'Amount']].groupby(['Territory']).sum())"
      ]
    },
    {
      "cell_type": "markdown",
      "source": [
        "# 24.5 Plotting data"
      ],
      "metadata": {
        "id": "6gwRNdi4N8zQ"
      }
    },
    {
      "cell_type": "code",
      "execution_count": null,
      "metadata": {
        "scrolled": true,
        "id": "vIHDjN1XsUIo",
        "outputId": "b28679e8-7dce-4ce6-8696-95bd08fa1df9",
        "colab": {
          "base_uri": "https://localhost:8080/",
          "height": 461
        }
      },
      "outputs": [
        {
          "output_type": "execute_result",
          "data": {
            "text/plain": [
              "<Axes: xlabel='Territory'>"
            ]
          },
          "metadata": {},
          "execution_count": 41
        },
        {
          "output_type": "display_data",
          "data": {
            "text/plain": [
              "<Figure size 640x480 with 1 Axes>"
            ],
            "image/png": "[encoded data removed]"
          },
          "metadata": {}
        }
      ],
      "source": [
        "calls_revenue[['Territory', 'Calls']].groupby(['Territory']).sum().plot.bar()"
      ]
    },
    {
      "cell_type": "markdown",
      "source": [
        "### Try this: Plotting\n",
        "\n",
        "Plot a line graph of the monthly average amount per call."
      ],
      "metadata": {
        "id": "Eb98S9z2OS95"
      }
    },
    {
      "cell_type": "code",
      "execution_count": null,
      "metadata": {
        "id": "88wiHgVmsUIp",
        "outputId": "ed4127e5-b124-45cc-893c-045030b30b66",
        "colab": {
          "base_uri": "https://localhost:8080/",
          "height": 469
        }
      },
      "outputs": [
        {
          "output_type": "execute_result",
          "data": {
            "text/plain": [
              "<Axes: xlabel='Month'>"
            ]
          },
          "metadata": {},
          "execution_count": 42
        },
        {
          "output_type": "display_data",
          "data": {
            "text/plain": [
              "<Figure size 640x480 with 1 Axes>"
            ],
            "image/png": "[encoded data removed]"
          },
          "metadata": {}
        }
      ],
      "source": [
        "calls_revenue[['Month', 'Call_Amount']].groupby(['Month']).mean().plot()"
      ]
    },
    {
      "cell_type": "code",
      "execution_count": null,
      "metadata": {
        "collapsed": true,
        "id": "BS_WCCaIsUIp"
      },
      "outputs": [],
      "source": []
    }
  ],
  "metadata": {
    "kernelspec": {
      "display_name": "Python 3",
      "language": "python",
      "name": "python3"
    },
    "language_info": {
      "codemirror_mode": {
        "name": "ipython",
        "version": 3
      },
      "file_extension": ".py",
      "mimetype": "text/x-python",
      "name": "python",
      "nbconvert_exporter": "python",
      "pygments_lexer": "ipython3",
      "version": "3.5.3"
    },
    "toc": {
      "nav_menu": {},
      "number_sections": true,
      "sideBar": true,
      "skip_h1_title": false,
      "toc_cell": false,
      "toc_position": {},
      "toc_section_display": "block",
      "toc_window_display": false
    },
    "colab": {
      "provenance": [],
      "include_colab_link": true
    }
  },
  "nbformat": 4,
  "nbformat_minor": 0
}