{
  "nbformat": 4,
  "nbformat_minor": 0,
  "metadata": {
    "colab": {
      "provenance": [],
      "include_colab_link": true
    },
    "kernelspec": {
      "name": "python3",
      "display_name": "Python 3"
    },
    "language_info": {
      "name": "python"
    }
  },
  "cells": [
    {
      "cell_type": "markdown",
      "metadata": {
        "id": "view-in-github",
        "colab_type": "text"
      },
      "source": [
        "<a href=\"https://colab.research.google.com/github/nceder/qpb4e/blob/main/code/Chapter%2024/Chapter_24.ipynb\" target=\"_parent\"><img src=\"https://colab.research.google.com/assets/colab-badge.svg\" alt=\"Open In Colab\"/></a>"
      ]
    },
    {
      "cell_type": "markdown",
      "source": [
        "# 24 Saving Data"
      ],
      "metadata": {
        "id": "ZXgqm1JeyFKy"
      }
    },
    {
      "cell_type": "markdown",
      "source": [
        "# 24.2 SQLite: Using the sqlite3 database"
      ],
      "metadata": {
        "id": "H-YHfY8VyRST"
      }
    },
    {
      "cell_type": "code",
      "metadata": {
        "id": "9he6T8-F3A3a"
      },
      "source": [
        "import sqlite3\n",
        "conn = sqlite3.connect(\"datafile.db\")"
      ],
      "execution_count": 1,
      "outputs": []
    },
    {
      "cell_type": "code",
      "metadata": {
        "id": "ATy8HkJI3A3b",
        "colab": {
          "base_uri": "https://localhost:8080/"
        },
        "outputId": "5e1587d1-a3dd-4118-b080-816ded0f2abe"
      },
      "source": [
        "cursor = conn.cursor()\n",
        "cursor"
      ],
      "execution_count": 2,
      "outputs": [
        {
          "output_type": "execute_result",
          "data": {
            "text/plain": [
              "<sqlite3.Cursor at 0x781538ddd540>"
            ]
          },
          "metadata": {},
          "execution_count": 2
        }
      ]
    },
    {
      "cell_type": "code",
      "metadata": {
        "id": "qo8DHqkb3A3c"
      },
      "source": [
        "cursor.execute(\"create table people (id integer primary key, name text, count integer)\")\n",
        "cursor.execute(\"insert into people (name, count) values ('Bob', 1)\")\n",
        "cursor.execute(\"insert into people (name, count) values (?, ?)\",\n",
        "               (\"Jill\", 15))\n",
        "conn.commit()"
      ],
      "execution_count": 3,
      "outputs": []
    },
    {
      "cell_type": "code",
      "metadata": {
        "id": "AvMIXGkY3A3c",
        "colab": {
          "base_uri": "https://localhost:8080/"
        },
        "outputId": "f47c63c0-d211-42ae-c2c2-026bd2f2110d"
      },
      "source": [
        "cursor.execute(\"insert into people (name, count) values (:username, :usercount)\",\n",
        "                  {\"username\": \"Joe\", \"usercount\": 10})"
      ],
      "execution_count": 4,
      "outputs": [
        {
          "output_type": "execute_result",
          "data": {
            "text/plain": [
              "<sqlite3.Cursor at 0x781538ddd540>"
            ]
          },
          "metadata": {},
          "execution_count": 4
        }
      ]
    },
    {
      "cell_type": "code",
      "metadata": {
        "id": "b8z3sfGa3A3c",
        "colab": {
          "base_uri": "https://localhost:8080/"
        },
        "outputId": "1cd210ca-7239-4e32-ec42-41e6fa3e078d"
      },
      "source": [
        "result = cursor.execute(\"select * from people\")\n",
        "print(result.fetchall())"
      ],
      "execution_count": 5,
      "outputs": [
        {
          "output_type": "stream",
          "name": "stdout",
          "text": [
            "[(1, 'Bob', 1), (2, 'Jill', 15), (3, 'Joe', 10)]\n"
          ]
        }
      ]
    },
    {
      "cell_type": "code",
      "metadata": {
        "id": "ATjQD-MQ3A3c",
        "colab": {
          "base_uri": "https://localhost:8080/"
        },
        "outputId": "501bb77f-9e8e-4fcd-ac74-5d20b6f902e4"
      },
      "source": [
        "result = cursor.execute(\"select * from people where name like :name\",\n",
        "                        {\"name\": \"bob\"})\n",
        "print(result.fetchall())"
      ],
      "execution_count": 6,
      "outputs": [
        {
          "output_type": "stream",
          "name": "stdout",
          "text": [
            "[(1, 'Bob', 1)]\n"
          ]
        }
      ]
    },
    {
      "cell_type": "code",
      "metadata": {
        "id": "MJhuhmQ23A3d",
        "colab": {
          "base_uri": "https://localhost:8080/"
        },
        "outputId": "89d17bed-04dc-44c9-e62f-57f2e28a7736"
      },
      "source": [
        "cursor.execute(\"update people set count=? where name=?\", (20, \"Jill\"))\n",
        "result = cursor.execute(\"select * from people\")\n",
        "print(result.fetchall())"
      ],
      "execution_count": 7,
      "outputs": [
        {
          "output_type": "stream",
          "name": "stdout",
          "text": [
            "[(1, 'Bob', 1), (2, 'Jill', 20), (3, 'Joe', 10)]\n"
          ]
        }
      ]
    },
    {
      "cell_type": "code",
      "metadata": {
        "id": "novIrTwn3A3d",
        "colab": {
          "base_uri": "https://localhost:8080/"
        },
        "outputId": "6f606ff2-b80a-493f-d7f8-c9f01e8b8fe3"
      },
      "source": [
        "result = cursor.execute(\"select * from people\")\n",
        "for row in result:\n",
        "    print(row)\n"
      ],
      "execution_count": 8,
      "outputs": [
        {
          "output_type": "stream",
          "name": "stdout",
          "text": [
            "(1, 'Bob', 1)\n",
            "(2, 'Jill', 20)\n",
            "(3, 'Joe', 10)\n"
          ]
        }
      ]
    },
    {
      "cell_type": "code",
      "metadata": {
        "id": "UDi2VBLu3A3d"
      },
      "source": [
        "cursor.execute(\"update people set count=? where name=?\", (20, \"Jill\"))\n",
        "conn.commit()\n",
        "conn.close()"
      ],
      "execution_count": 9,
      "outputs": []
    },
    {
      "cell_type": "markdown",
      "source": [
        "# 24.4 Making database handling easier with an ORM"
      ],
      "metadata": {
        "id": "ZRuIqyemzM_c"
      }
    },
    {
      "cell_type": "markdown",
      "source": [
        "## 24.4.1 SQLAlchemy"
      ],
      "metadata": {
        "id": "0ddel9uKzU-g"
      }
    },
    {
      "cell_type": "code",
      "metadata": {
        "id": "3-7otCBh3A3d"
      },
      "source": [
        "from sqlalchemy import create_engine, select, MetaData, Table, Column, Integer, String\n",
        "from sqlalchemy.orm import sessionmaker"
      ],
      "execution_count": 10,
      "outputs": []
    },
    {
      "cell_type": "code",
      "metadata": {
        "id": "1UQh3NFu3A3e"
      },
      "source": [
        "dbPath = 'datafile2.db'\n",
        "engine = create_engine('sqlite:///%s' % dbPath)\n",
        "metadata = MetaData()\n",
        "people  = Table('people', metadata,\n",
        "                Column('id', Integer, primary_key=True),\n",
        "                Column('name', String),\n",
        "                Column('count', Integer),\n",
        "               )\n",
        "Session = sessionmaker(bind=engine)\n",
        "session = Session()\n",
        "metadata.create_all(engine)"
      ],
      "execution_count": 11,
      "outputs": []
    },
    {
      "cell_type": "code",
      "metadata": {
        "id": "LIvfhqLx3A3e",
        "outputId": "e1277cda-2521-4129-e9cd-626ccaca2b76",
        "colab": {
          "base_uri": "https://localhost:8080/",
          "height": 35
        }
      },
      "source": [
        "people_ins = people.insert().values(name='Bob', count=1)\n",
        "str(people_ins)"
      ],
      "execution_count": 12,
      "outputs": [
        {
          "output_type": "execute_result",
          "data": {
            "text/plain": [
              "'INSERT INTO people (name, count) VALUES (:name, :count)'"
            ],
            "application/vnd.google.colaboratory.intrinsic+json": {
              "type": "string"
            }
          },
          "metadata": {},
          "execution_count": 12
        }
      ]
    },
    {
      "cell_type": "code",
      "metadata": {
        "id": "x9_ij7Te3A3e",
        "outputId": "94b3e772-697d-4c69-acad-da60630ce18b",
        "colab": {
          "base_uri": "https://localhost:8080/"
        }
      },
      "source": [
        "session.execute(people_ins)"
      ],
      "execution_count": 13,
      "outputs": [
        {
          "output_type": "execute_result",
          "data": {
            "text/plain": [
              "<sqlalchemy.engine.cursor.CursorResult at 0x7815079ecac0>"
            ]
          },
          "metadata": {},
          "execution_count": 13
        }
      ]
    },
    {
      "cell_type": "code",
      "metadata": {
        "id": "0i-9kY583A3e"
      },
      "source": [
        "session.commit()"
      ],
      "execution_count": 14,
      "outputs": []
    },
    {
      "cell_type": "code",
      "metadata": {
        "id": "Oh74-8133A3e",
        "outputId": "d9ceb422-c14a-4819-e7d3-ce65c7bc8f74",
        "colab": {
          "base_uri": "https://localhost:8080/"
        }
      },
      "source": [
        "session.execute(people_ins, [\n",
        "    {'name': 'Jill', 'count':15},\n",
        "    {'name': 'Joe', 'count':10}\n",
        "])"
      ],
      "execution_count": 15,
      "outputs": [
        {
          "output_type": "execute_result",
          "data": {
            "text/plain": [
              "<sqlalchemy.engine.cursor.CursorResult at 0x7815079ec9a0>"
            ]
          },
          "metadata": {},
          "execution_count": 15
        }
      ]
    },
    {
      "cell_type": "code",
      "metadata": {
        "id": "avw5ESc03A3e",
        "outputId": "1bec495d-05ac-4ca3-e558-ecfea788ba8f",
        "colab": {
          "base_uri": "https://localhost:8080/"
        }
      },
      "source": [
        "session.commit()\n",
        "people_query = select(people)\n",
        "result = session.execute(people_query)\n",
        "for row in result:\n",
        "    print(row)\n"
      ],
      "execution_count": 16,
      "outputs": [
        {
          "output_type": "stream",
          "name": "stdout",
          "text": [
            "(1, 'Bob', 1)\n",
            "(2, 'Jill', 15)\n",
            "(3, 'Joe', 10)\n"
          ]
        }
      ]
    },
    {
      "cell_type": "code",
      "metadata": {
        "id": "oGkT6cUf3A3e",
        "outputId": "07dcc763-2972-4abf-a524-17263c1b7f6d",
        "colab": {
          "base_uri": "https://localhost:8080/"
        }
      },
      "source": [
        "result = session.execute(select(people).where(people.c.name == 'Jill'))\n",
        "for row in result:\n",
        "    print(row)\n"
      ],
      "execution_count": 17,
      "outputs": [
        {
          "output_type": "stream",
          "name": "stdout",
          "text": [
            "(2, 'Jill', 15)\n"
          ]
        }
      ]
    },
    {
      "cell_type": "code",
      "metadata": {
        "id": "MdTJF_ro3A3f",
        "outputId": "c771586b-3e1e-4a90-8741-c93493662980",
        "colab": {
          "base_uri": "https://localhost:8080/"
        }
      },
      "source": [
        "result = session.execute(people.update().values(count=20).where (people.c.name == 'Jill'))\n",
        "session.commit()\n",
        "result = session.execute(select(people).where(people.c.name == 'Jill'))\n",
        "for row in result:\n",
        "    print(row)\n"
      ],
      "execution_count": 18,
      "outputs": [
        {
          "output_type": "stream",
          "name": "stdout",
          "text": [
            "(2, 'Jill', 20)\n"
          ]
        }
      ]
    },
    {
      "cell_type": "markdown",
      "source": [
        "### Mapping table objects to classes"
      ],
      "metadata": {
        "id": "OAWyBHqv-VOm"
      }
    },
    {
      "cell_type": "code",
      "metadata": {
        "id": "gzNB37cx3A3f",
        "outputId": "3289e3bd-ced3-44c7-c7cc-0e8c02557c5f",
        "colab": {
          "base_uri": "https://localhost:8080/"
        }
      },
      "source": [
        "from sqlalchemy.orm import declarative_base\n",
        "Base = declarative_base()\n",
        "class People(Base):\n",
        "    __tablename__ = \"people\"\n",
        "    id = Column(Integer, primary_key=True)\n",
        "    name = Column(String)\n",
        "    count = Column(Integer)\n",
        "\n",
        "results = session.query(People).filter_by(name='Jill')\n",
        "for person in results:\n",
        "    print(person.id, person.name, person.count)\n"
      ],
      "execution_count": 19,
      "outputs": [
        {
          "output_type": "stream",
          "name": "stdout",
          "text": [
            "2 Jill 20\n"
          ]
        }
      ]
    },
    {
      "cell_type": "code",
      "metadata": {
        "id": "H30yE6IN3A3f",
        "outputId": "a67f0306-0b53-40be-ee51-419a5d9792fe",
        "colab": {
          "base_uri": "https://localhost:8080/"
        }
      },
      "source": [
        "new_person = People(name='Jane', count=5)\n",
        "session.add(new_person)\n",
        "session.commit()\n",
        "results = session.query(People).all()\n",
        "for person in results:\n",
        "    print(person.id, person.name, person.count)\n"
      ],
      "execution_count": 20,
      "outputs": [
        {
          "output_type": "stream",
          "name": "stdout",
          "text": [
            "1 Bob 1\n",
            "2 Jill 20\n",
            "3 Joe 10\n",
            "4 Jane 5\n"
          ]
        }
      ]
    },
    {
      "cell_type": "code",
      "metadata": {
        "id": "sKH8_Vwh3A3f",
        "outputId": "f4833611-9706-4bc1-a2be-24476bc8ed4b",
        "colab": {
          "base_uri": "https://localhost:8080/",
          "height": 35
        }
      },
      "source": [
        "jill = session.query(People).filter_by(name='Jill').first()\n",
        "jill.name"
      ],
      "execution_count": 21,
      "outputs": [
        {
          "output_type": "execute_result",
          "data": {
            "text/plain": [
              "'Jill'"
            ],
            "application/vnd.google.colaboratory.intrinsic+json": {
              "type": "string"
            }
          },
          "metadata": {},
          "execution_count": 21
        }
      ]
    },
    {
      "cell_type": "code",
      "metadata": {
        "id": "_4JGuxvN3A3f",
        "outputId": "a4f32c1a-b5c8-4122-aa0a-0fd21dcc5f84",
        "colab": {
          "base_uri": "https://localhost:8080/"
        }
      },
      "source": [
        "jill.count = 22\n",
        "session.add(jill)\n",
        "session.commit()\n",
        "results = session.query(People).all()\n",
        "for person in results:\n",
        "    print(person.id, person.name, person.count)\n"
      ],
      "execution_count": 22,
      "outputs": [
        {
          "output_type": "stream",
          "name": "stdout",
          "text": [
            "1 Bob 1\n",
            "2 Jill 22\n",
            "3 Joe 10\n",
            "4 Jane 5\n"
          ]
        }
      ]
    },
    {
      "cell_type": "code",
      "metadata": {
        "id": "P2l5cOVL3A3g",
        "outputId": "68fd2e38-d737-4f6f-9f2c-bbc0de8ee503",
        "colab": {
          "base_uri": "https://localhost:8080/"
        }
      },
      "source": [
        "jane = session.query(People).filter_by(name='Jane').first()\n",
        "session.delete(jane)\n",
        "session.commit()\n",
        "jane = session.query(People).filter_by(name='Jane').first()\n",
        "print(jane)"
      ],
      "execution_count": 23,
      "outputs": [
        {
          "output_type": "stream",
          "name": "stdout",
          "text": [
            "None\n"
          ]
        }
      ]
    },
    {
      "cell_type": "markdown",
      "source": [
        "## 24.4.2 Using Alembic for database schema changes"
      ],
      "metadata": {
        "id": "BVq8mxKT7pbc"
      }
    },
    {
      "cell_type": "code",
      "source": [
        "! rm -rf alembic/"
      ],
      "metadata": {
        "id": "DAmbimejl_24"
      },
      "execution_count": 24,
      "outputs": []
    },
    {
      "cell_type": "code",
      "metadata": {
        "id": "wjLqSo9k3A3g",
        "outputId": "31d9ff0b-2138-41d1-e959-ee777c2f2aa0",
        "colab": {
          "base_uri": "https://localhost:8080/"
        }
      },
      "source": [
        "! pip install alembic\n",
        "! alembic init alembic"
      ],
      "execution_count": 25,
      "outputs": [
        {
          "output_type": "stream",
          "name": "stdout",
          "text": [
            "Collecting alembic\n",
            "  Downloading alembic-1.13.3-py3-none-any.whl.metadata (7.4 kB)\n",
            "Requirement already satisfied: SQLAlchemy>=1.3.0 in /usr/local/lib/python3.10/dist-packages (from alembic) (2.0.35)\n",
            "Collecting Mako (from alembic)\n",
            "  Downloading Mako-1.3.5-py3-none-any.whl.metadata (2.9 kB)\n",
            "Requirement already satisfied: typing-extensions>=4 in /usr/local/lib/python3.10/dist-packages (from alembic) (4.12.2)\n",
            "Requirement already satisfied: greenlet!=0.4.17 in /usr/local/lib/python3.10/dist-packages (from SQLAlchemy>=1.3.0->alembic) (3.1.1)\n",
            "Requirement already satisfied: MarkupSafe>=0.9.2 in /usr/local/lib/python3.10/dist-packages (from Mako->alembic) (2.1.5)\n",
            "Downloading alembic-1.13.3-py3-none-any.whl (233 kB)\n",
            "\u001b[2K   \u001b[90m━━━━━━━━━━━━━━━━━━━━━━━━━━━━━━━━━━━━━━━━\u001b[0m \u001b[32m233.2/233.2 kB\u001b[0m \u001b[31m1.9 MB/s\u001b[0m eta \u001b[36m0:00:00\u001b[0m\n",
            "\u001b[?25hDownloading Mako-1.3.5-py3-none-any.whl (78 kB)\n",
            "\u001b[2K   \u001b[90m━━━━━━━━━━━━━━━━━━━━━━━━━━━━━━━━━━━━━━━━\u001b[0m \u001b[32m78.6/78.6 kB\u001b[0m \u001b[31m5.9 MB/s\u001b[0m eta \u001b[36m0:00:00\u001b[0m\n",
            "\u001b[?25hInstalling collected packages: Mako, alembic\n",
            "Successfully installed Mako-1.3.5 alembic-1.13.3\n",
            "Creating directory '/content/alembic' ...  done\n",
            "Creating directory '/content/alembic/versions' ...  done\n",
            "Generating /content/alembic/env.py ...  done\n",
            "Generating /content/alembic/script.py.mako ...  done\n",
            "Generating /content/alembic/README ...  done\n",
            "Generating /content/alembic.ini ...  done\n",
            "Please edit configuration/connection/logging settings in '/content/alembic.ini' before proceeding.\n"
          ]
        }
      ]
    },
    {
      "cell_type": "code",
      "metadata": {
        "id": "dptVIRNE3A3g"
      },
      "source": [
        "# This cell will update the alembic.ini file\n",
        "\n",
        "! sed -i 's/driver:\\/\\/user:pass@localhost\\/dbname/sqlite:\\/\\/\\/datafile.db/' alembic.ini"
      ],
      "execution_count": 26,
      "outputs": []
    },
    {
      "cell_type": "code",
      "source": [
        "# This cell creates the first revision script\n",
        "result = ! alembic revision -m \"create an address table\"\n",
        "filename= result[0].replace('Generating ', \"\").replace(\" ...  done\",\"\")\n",
        "version = filename.split(\"/\")[-1].split(\"_\")[0]"
      ],
      "metadata": {
        "id": "xICjY8aMdKk8"
      },
      "execution_count": 27,
      "outputs": []
    },
    {
      "cell_type": "code",
      "source": [
        "# This cell updates the revision script's upgrade() and downgrade() functions\n",
        "upgrade_cmd = \"\"\"def upgrade() -> None:\n",
        "    op.create_table(\n",
        "        'address',\n",
        "        sa.Column('id', sa.Integer, primary_key=True),\n",
        "        sa.Column('address', sa.String(50), nullable=False),\n",
        "        sa.Column('city', sa.String(50), nullable=False),\n",
        "        sa.Column('state', sa.String(20), nullable=False),\n",
        "    )\n",
        "\"\"\"\n",
        "downgrade_cmd = \"\"\"def downgrade() -> None:\n",
        "    op.drop_table('address')\"\"\"\n",
        "\n",
        "version_file = open(filename).read()\n",
        "version_file = version_file.replace(\"\"\"def upgrade() -> None:\n",
        "    pass\"\"\", upgrade_cmd)\n",
        "version_file = version_file.replace(\"\"\"def downgrade() -> None:\n",
        "    pass\"\"\", downgrade_cmd)\n",
        "print(version_file)\n",
        "\n",
        "open(filename, \"w\").write(version_file)"
      ],
      "metadata": {
        "id": "9kv5G7AF8rtS",
        "outputId": "7b1b6619-625b-415a-81d5-27edb5ca466d",
        "colab": {
          "base_uri": "https://localhost:8080/"
        }
      },
      "execution_count": 28,
      "outputs": [
        {
          "output_type": "stream",
          "name": "stdout",
          "text": [
            "\"\"\"create an address table\n",
            "\n",
            "Revision ID: def74d4e1932\n",
            "Revises: \n",
            "Create Date: 2024-09-27 02:02:49.374125\n",
            "\n",
            "\"\"\"\n",
            "from typing import Sequence, Union\n",
            "\n",
            "from alembic import op\n",
            "import sqlalchemy as sa\n",
            "\n",
            "\n",
            "# revision identifiers, used by Alembic.\n",
            "revision: str = 'def74d4e1932'\n",
            "down_revision: Union[str, None] = None\n",
            "branch_labels: Union[str, Sequence[str], None] = None\n",
            "depends_on: Union[str, Sequence[str], None] = None\n",
            "\n",
            "\n",
            "def upgrade() -> None:\n",
            "    op.create_table(\n",
            "        'address',\n",
            "        sa.Column('id', sa.Integer, primary_key=True),\n",
            "        sa.Column('address', sa.String(50), nullable=False),\n",
            "        sa.Column('city', sa.String(50), nullable=False),\n",
            "        sa.Column('state', sa.String(20), nullable=False),\n",
            "    )\n",
            "\n",
            "\n",
            "\n",
            "def downgrade() -> None:\n",
            "    op.drop_table('address')\n",
            "\n"
          ]
        },
        {
          "output_type": "execute_result",
          "data": {
            "text/plain": [
              "771"
            ]
          },
          "metadata": {},
          "execution_count": 28
        }
      ]
    },
    {
      "cell_type": "code",
      "source": [
        "for table in metadata.sorted_tables:\n",
        "    print(table.name)"
      ],
      "metadata": {
        "id": "QNp_zDe2izzZ",
        "outputId": "d9cd7290-428f-4051-cef9-985b696de18f",
        "colab": {
          "base_uri": "https://localhost:8080/"
        }
      },
      "execution_count": 29,
      "outputs": [
        {
          "output_type": "stream",
          "name": "stdout",
          "text": [
            "people\n"
          ]
        }
      ]
    },
    {
      "cell_type": "code",
      "source": [
        "! alembic upgrade head"
      ],
      "metadata": {
        "id": "Naaaeer_jJ0H",
        "outputId": "657fbf42-5d21-4233-8978-731dafe17f6f",
        "colab": {
          "base_uri": "https://localhost:8080/"
        }
      },
      "execution_count": 31,
      "outputs": [
        {
          "output_type": "stream",
          "name": "stdout",
          "text": [
            "INFO  [alembic.runtime.migration] Context impl SQLiteImpl.\n",
            "INFO  [alembic.runtime.migration] Will assume non-transactional DDL.\n"
          ]
        }
      ]
    },
    {
      "cell_type": "code",
      "source": [
        "metadata.sorted_tables"
      ],
      "metadata": {
        "id": "9dNnoNtVAKv7",
        "outputId": "071e0735-0c29-4ac4-fac2-7fad71227e73",
        "colab": {
          "base_uri": "https://localhost:8080/"
        }
      },
      "execution_count": 32,
      "outputs": [
        {
          "output_type": "execute_result",
          "data": {
            "text/plain": [
              "[Table('people', MetaData(), Column('id', Integer(), table=<people>, primary_key=True, nullable=False), Column('name', String(), table=<people>), Column('count', Integer(), table=<people>), schema=None)]"
            ]
          },
          "metadata": {},
          "execution_count": 32
        }
      ]
    },
    {
      "cell_type": "code",
      "source": [
        "Session = sessionmaker(bind=engine)\n",
        "session = Session()\n"
      ],
      "metadata": {
        "id": "yGzR4cUFCcSZ"
      },
      "execution_count": 33,
      "outputs": []
    },
    {
      "cell_type": "code",
      "metadata": {
        "id": "YvMKja_z3A3g"
      },
      "source": [
        "metadata.reflect(engine)\n",
        "metadata.tables.keys()\n",
        "session.commit()"
      ],
      "execution_count": 34,
      "outputs": []
    },
    {
      "cell_type": "code",
      "metadata": {
        "id": "4P941qVM3A3g",
        "outputId": "0df0bc60-745c-4fc3-9e92-02003b748602",
        "colab": {
          "base_uri": "https://localhost:8080/"
        }
      },
      "source": [
        "! alembic downgrade -1\n"
      ],
      "execution_count": 35,
      "outputs": [
        {
          "output_type": "stream",
          "name": "stdout",
          "text": [
            "INFO  [alembic.runtime.migration] Context impl SQLiteImpl.\n",
            "INFO  [alembic.runtime.migration] Will assume non-transactional DDL.\n",
            "INFO  [alembic.runtime.migration] Running downgrade def74d4e1932 -> , create an address table\n"
          ]
        }
      ]
    },
    {
      "cell_type": "code",
      "source": [
        "for table in metadata.sorted_tables:\n",
        "    print(table.name)"
      ],
      "metadata": {
        "id": "znJSPg0tOeeE",
        "outputId": "09a4c722-975d-4925-e0ea-b574cf4349ba",
        "colab": {
          "base_uri": "https://localhost:8080/"
        }
      },
      "execution_count": 37,
      "outputs": [
        {
          "output_type": "stream",
          "name": "stdout",
          "text": [
            "people\n"
          ]
        }
      ]
    },
    {
      "cell_type": "markdown",
      "source": [
        "# 24.6 key:value stores with Redis"
      ],
      "metadata": {
        "id": "86oyCEiDxqZy"
      }
    },
    {
      "cell_type": "code",
      "source": [
        "!pip install redis"
      ],
      "metadata": {
        "id": "4KRXJjgCpnmf",
        "outputId": "c9abfe6d-6f3f-4d02-f127-3ba7e061ed80",
        "colab": {
          "base_uri": "https://localhost:8080/"
        }
      },
      "execution_count": 38,
      "outputs": [
        {
          "output_type": "stream",
          "name": "stdout",
          "text": [
            "Collecting redis\n",
            "  Downloading redis-5.0.8-py3-none-any.whl.metadata (9.2 kB)\n",
            "Requirement already satisfied: async-timeout>=4.0.3 in /usr/local/lib/python3.10/dist-packages (from redis) (4.0.3)\n",
            "Downloading redis-5.0.8-py3-none-any.whl (255 kB)\n",
            "\u001b[2K   \u001b[90m━━━━━━━━━━━━━━━━━━━━━━━━━━━━━━━━━━━━━━━━\u001b[0m \u001b[32m255.6/255.6 kB\u001b[0m \u001b[31m4.5 MB/s\u001b[0m eta \u001b[36m0:00:00\u001b[0m\n",
            "\u001b[?25hInstalling collected packages: redis\n",
            "Successfully installed redis-5.0.8\n"
          ]
        }
      ]
    },
    {
      "cell_type": "markdown",
      "source": [
        "### NOTE: You must create an account at redis.io or on another redis server for the examples to work properly.\n",
        "\n",
        "Be sure to use the correct hostname and password for your account in cell below."
      ],
      "metadata": {
        "id": "5RQEAQo5QCwf"
      }
    },
    {
      "cell_type": "code",
      "metadata": {
        "id": "gMH0maR33A3h"
      },
      "source": [
        "import redis\n",
        "\n",
        "r = redis.Redis(\n",
        "    # set your host here\n",
        "    host='',\n",
        "    port=10032,\n",
        "    # set your password below\n",
        "    password='')"
      ],
      "execution_count": 39,
      "outputs": []
    },
    {
      "cell_type": "markdown",
      "source": [
        "#### Basic operations"
      ],
      "metadata": {
        "id": "iM5wrNK4GgC5"
      }
    },
    {
      "cell_type": "code",
      "metadata": {
        "id": "K1DROZCm3A3h",
        "outputId": "38a93a22-4ec1-4f8c-94b1-ae1726482c3a",
        "colab": {
          "base_uri": "https://localhost:8080/"
        }
      },
      "source": [
        "r.keys()"
      ],
      "execution_count": 40,
      "outputs": [
        {
          "output_type": "execute_result",
          "data": {
            "text/plain": [
              "[]"
            ]
          },
          "metadata": {},
          "execution_count": 40
        }
      ]
    },
    {
      "cell_type": "markdown",
      "source": [
        "#### Array operations"
      ],
      "metadata": {
        "id": "whuJ6RdJGj96"
      }
    },
    {
      "cell_type": "code",
      "metadata": {
        "id": "fhpG2vEu3A3h",
        "outputId": "cf76208d-e80f-463d-f7e6-fc6065c647bb",
        "colab": {
          "base_uri": "https://localhost:8080/"
        }
      },
      "source": [
        "r.set('a_key', 'my value')"
      ],
      "execution_count": 41,
      "outputs": [
        {
          "output_type": "execute_result",
          "data": {
            "text/plain": [
              "True"
            ]
          },
          "metadata": {},
          "execution_count": 41
        }
      ]
    },
    {
      "cell_type": "code",
      "metadata": {
        "id": "-TQM_EI63A3h",
        "outputId": "52eb53ac-9c1e-4b47-a9d7-dfd3c4c53fa8",
        "colab": {
          "base_uri": "https://localhost:8080/"
        }
      },
      "source": [
        "r.keys()"
      ],
      "execution_count": 42,
      "outputs": [
        {
          "output_type": "execute_result",
          "data": {
            "text/plain": [
              "[b'a_key']"
            ]
          },
          "metadata": {},
          "execution_count": 42
        }
      ]
    },
    {
      "cell_type": "code",
      "metadata": {
        "id": "1I-goUO53A3h",
        "outputId": "5375be63-90ef-43f1-f6ee-e431b4a91bad",
        "colab": {
          "base_uri": "https://localhost:8080/"
        }
      },
      "source": [
        "v = r.get('a_key')\n",
        "v"
      ],
      "execution_count": 43,
      "outputs": [
        {
          "output_type": "execute_result",
          "data": {
            "text/plain": [
              "b'my value'"
            ]
          },
          "metadata": {},
          "execution_count": 43
        }
      ]
    },
    {
      "cell_type": "code",
      "metadata": {
        "id": "xVp_Bo7K3A3h",
        "outputId": "f3845f16-304f-4ec9-8759-4ffb0aa99bdc",
        "colab": {
          "base_uri": "https://localhost:8080/"
        }
      },
      "source": [
        "r.incr('counter')"
      ],
      "execution_count": 44,
      "outputs": [
        {
          "output_type": "execute_result",
          "data": {
            "text/plain": [
              "1"
            ]
          },
          "metadata": {},
          "execution_count": 44
        }
      ]
    },
    {
      "cell_type": "code",
      "metadata": {
        "id": "SlSR6Q-w3A3h",
        "outputId": "24ade72b-c881-4525-efa5-d5af4fc0c32e",
        "colab": {
          "base_uri": "https://localhost:8080/"
        }
      },
      "source": [
        "r.get('counter')"
      ],
      "execution_count": 45,
      "outputs": [
        {
          "output_type": "execute_result",
          "data": {
            "text/plain": [
              "b'1'"
            ]
          },
          "metadata": {},
          "execution_count": 45
        }
      ]
    },
    {
      "cell_type": "code",
      "metadata": {
        "id": "z7_zJ_6K3A3h",
        "outputId": "ded682cf-6a1e-4d45-c7a2-956536ad4d96",
        "colab": {
          "base_uri": "https://localhost:8080/"
        }
      },
      "source": [
        "r.incr('counter')"
      ],
      "execution_count": 46,
      "outputs": [
        {
          "output_type": "execute_result",
          "data": {
            "text/plain": [
              "2"
            ]
          },
          "metadata": {},
          "execution_count": 46
        }
      ]
    },
    {
      "cell_type": "code",
      "metadata": {
        "id": "mH4K8Ov33A3i",
        "outputId": "a5d0dd1b-4356-48e8-e534-d27174c7752b",
        "colab": {
          "base_uri": "https://localhost:8080/"
        }
      },
      "source": [
        "r.get('counter')"
      ],
      "execution_count": 47,
      "outputs": [
        {
          "output_type": "execute_result",
          "data": {
            "text/plain": [
              "b'2'"
            ]
          },
          "metadata": {},
          "execution_count": 47
        }
      ]
    },
    {
      "cell_type": "code",
      "metadata": {
        "id": "l6VOd4Qk3A3i",
        "outputId": "7d6ad45f-45ef-496b-bc62-1c224eec85d2",
        "colab": {
          "base_uri": "https://localhost:8080/"
        }
      },
      "source": [
        "r.rpush(\"words\", \"one\")"
      ],
      "execution_count": 48,
      "outputs": [
        {
          "output_type": "execute_result",
          "data": {
            "text/plain": [
              "1"
            ]
          },
          "metadata": {},
          "execution_count": 48
        }
      ]
    },
    {
      "cell_type": "code",
      "metadata": {
        "id": "UrgiFhCy3A3i",
        "outputId": "d9d55985-e463-4b44-ed5b-f04cb79c121c",
        "colab": {
          "base_uri": "https://localhost:8080/"
        }
      },
      "source": [
        "r.rpush(\"words\", \"two\")"
      ],
      "execution_count": 49,
      "outputs": [
        {
          "output_type": "execute_result",
          "data": {
            "text/plain": [
              "2"
            ]
          },
          "metadata": {},
          "execution_count": 49
        }
      ]
    },
    {
      "cell_type": "code",
      "metadata": {
        "id": "b86V4A-t3A3i",
        "outputId": "e5b007aa-6f36-4836-9056-f39f8877448c",
        "colab": {
          "base_uri": "https://localhost:8080/"
        }
      },
      "source": [
        "r.lrange(\"words\", 0, -1)"
      ],
      "execution_count": 50,
      "outputs": [
        {
          "output_type": "execute_result",
          "data": {
            "text/plain": [
              "[b'one', b'two']"
            ]
          },
          "metadata": {},
          "execution_count": 50
        }
      ]
    },
    {
      "cell_type": "code",
      "metadata": {
        "id": "sCsoIoM63A3i",
        "outputId": "091341df-6c52-4ce9-b89f-2ef9bcf4f4fb",
        "colab": {
          "base_uri": "https://localhost:8080/"
        }
      },
      "source": [
        "r.rpush(\"words\", \"three\")"
      ],
      "execution_count": 51,
      "outputs": [
        {
          "output_type": "execute_result",
          "data": {
            "text/plain": [
              "3"
            ]
          },
          "metadata": {},
          "execution_count": 51
        }
      ]
    },
    {
      "cell_type": "code",
      "metadata": {
        "id": "R6SYq4n23A3i",
        "outputId": "f012bf5c-1c9d-4270-fc62-466631401724",
        "colab": {
          "base_uri": "https://localhost:8080/"
        }
      },
      "source": [
        "r.lrange(\"words\", 0, -1)"
      ],
      "execution_count": 52,
      "outputs": [
        {
          "output_type": "execute_result",
          "data": {
            "text/plain": [
              "[b'one', b'two', b'three']"
            ]
          },
          "metadata": {},
          "execution_count": 52
        }
      ]
    },
    {
      "cell_type": "code",
      "metadata": {
        "id": "t6c3p64R3A3j",
        "outputId": "afb752f1-cfde-46de-9dbf-103a841a6ccd",
        "colab": {
          "base_uri": "https://localhost:8080/"
        }
      },
      "source": [
        "r.llen(\"words\")"
      ],
      "execution_count": 53,
      "outputs": [
        {
          "output_type": "execute_result",
          "data": {
            "text/plain": [
              "3"
            ]
          },
          "metadata": {},
          "execution_count": 53
        }
      ]
    },
    {
      "cell_type": "code",
      "metadata": {
        "id": "vdLIZMaX3A3j",
        "outputId": "35bf0757-6b6a-4030-f861-67d7a64cf196",
        "colab": {
          "base_uri": "https://localhost:8080/"
        }
      },
      "source": [
        "r.lpush(\"words\", \"zero\")"
      ],
      "execution_count": 54,
      "outputs": [
        {
          "output_type": "execute_result",
          "data": {
            "text/plain": [
              "4"
            ]
          },
          "metadata": {},
          "execution_count": 54
        }
      ]
    },
    {
      "cell_type": "code",
      "metadata": {
        "id": "Vcu54eX83A3j",
        "outputId": "951b5507-75ef-4110-dc48-b7b8eef8bef0",
        "colab": {
          "base_uri": "https://localhost:8080/"
        }
      },
      "source": [
        "r.lrange(\"words\", 0, -1)"
      ],
      "execution_count": 55,
      "outputs": [
        {
          "output_type": "execute_result",
          "data": {
            "text/plain": [
              "[b'zero', b'one', b'two', b'three']"
            ]
          },
          "metadata": {},
          "execution_count": 55
        }
      ]
    },
    {
      "cell_type": "code",
      "metadata": {
        "id": "kF4t7ge-3A3j",
        "outputId": "2ece2246-0429-449b-8e6e-620cf801c2d7",
        "colab": {
          "base_uri": "https://localhost:8080/"
        }
      },
      "source": [
        "r.lrange(\"words\", 2, 2)"
      ],
      "execution_count": 56,
      "outputs": [
        {
          "output_type": "execute_result",
          "data": {
            "text/plain": [
              "[b'two']"
            ]
          },
          "metadata": {},
          "execution_count": 56
        }
      ]
    },
    {
      "cell_type": "code",
      "metadata": {
        "id": "zakzEK8V3A3j",
        "outputId": "f9dc07fd-a4c7-4d3a-a818-eeca02c25255",
        "colab": {
          "base_uri": "https://localhost:8080/"
        }
      },
      "source": [
        "r.lindex(\"words\", 1)"
      ],
      "execution_count": 57,
      "outputs": [
        {
          "output_type": "execute_result",
          "data": {
            "text/plain": [
              "b'one'"
            ]
          },
          "metadata": {},
          "execution_count": 57
        }
      ]
    },
    {
      "cell_type": "code",
      "metadata": {
        "id": "3Ckv1Sbp3A3j",
        "outputId": "39186f5d-f407-4b7b-af25-27c0f103811b",
        "colab": {
          "base_uri": "https://localhost:8080/"
        }
      },
      "source": [
        "r.lindex(\"words\", 2)"
      ],
      "execution_count": 58,
      "outputs": [
        {
          "output_type": "execute_result",
          "data": {
            "text/plain": [
              "b'two'"
            ]
          },
          "metadata": {},
          "execution_count": 58
        }
      ]
    },
    {
      "cell_type": "markdown",
      "source": [
        "### Expiration of values"
      ],
      "metadata": {
        "id": "4-iOzjGsGrJh"
      }
    },
    {
      "cell_type": "code",
      "metadata": {
        "id": "PfTR7Ixp3A3j",
        "outputId": "4d375923-adc8-4c3f-fa95-bba477cac794",
        "colab": {
          "base_uri": "https://localhost:8080/"
        }
      },
      "source": [
        "r.setex(\"timed\", 10,  \"10 seconds\")"
      ],
      "execution_count": 59,
      "outputs": [
        {
          "output_type": "execute_result",
          "data": {
            "text/plain": [
              "True"
            ]
          },
          "metadata": {},
          "execution_count": 59
        }
      ]
    },
    {
      "cell_type": "code",
      "metadata": {
        "id": "Puzppjcm3A3k",
        "outputId": "9c1673e5-0c74-4303-be96-e9e59f2c5ce2",
        "colab": {
          "base_uri": "https://localhost:8080/"
        }
      },
      "source": [
        "r.pttl(\"timed\")"
      ],
      "execution_count": 60,
      "outputs": [
        {
          "output_type": "execute_result",
          "data": {
            "text/plain": [
              "8647"
            ]
          },
          "metadata": {},
          "execution_count": 60
        }
      ]
    },
    {
      "cell_type": "code",
      "metadata": {
        "id": "Z1tRvYUL3A3k",
        "outputId": "d1f2ae26-9d11-450f-883f-0bf4c8ee72d2",
        "colab": {
          "base_uri": "https://localhost:8080/"
        }
      },
      "source": [
        "r.pttl(\"timed\")"
      ],
      "execution_count": 63,
      "outputs": [
        {
          "output_type": "execute_result",
          "data": {
            "text/plain": [
              "-2"
            ]
          },
          "metadata": {},
          "execution_count": 63
        }
      ]
    },
    {
      "cell_type": "code",
      "metadata": {
        "id": "0DenF6k93A3k",
        "outputId": "0e662376-6e46-4906-aa30-4ac7cf43beb1",
        "colab": {
          "base_uri": "https://localhost:8080/"
        }
      },
      "source": [
        "b\"timed\" in r.keys()"
      ],
      "execution_count": 64,
      "outputs": [
        {
          "output_type": "execute_result",
          "data": {
            "text/plain": [
              "False"
            ]
          },
          "metadata": {},
          "execution_count": 64
        }
      ]
    },
    {
      "cell_type": "markdown",
      "source": [
        "# MongoDB Atlas"
      ],
      "metadata": {
        "id": "JoNxPeYW0b1v"
      }
    },
    {
      "cell_type": "code",
      "source": [
        "! pip install pymongo"
      ],
      "metadata": {
        "id": "Dw5nUkwa0iB7",
        "outputId": "33ee4d93-1abb-4ac9-b7d2-010158469c46",
        "colab": {
          "base_uri": "https://localhost:8080/"
        }
      },
      "execution_count": 65,
      "outputs": [
        {
          "output_type": "stream",
          "name": "stdout",
          "text": [
            "Collecting pymongo\n",
            "  Downloading pymongo-4.9.1-cp310-cp310-manylinux_2_17_x86_64.manylinux2014_x86_64.whl.metadata (22 kB)\n",
            "Collecting dnspython<3.0.0,>=1.16.0 (from pymongo)\n",
            "  Downloading dnspython-2.6.1-py3-none-any.whl.metadata (5.8 kB)\n",
            "Downloading pymongo-4.9.1-cp310-cp310-manylinux_2_17_x86_64.manylinux2014_x86_64.whl (1.4 MB)\n",
            "\u001b[2K   \u001b[90m━━━━━━━━━━━━━━━━━━━━━━━━━━━━━━━━━━━━━━━━\u001b[0m \u001b[32m1.4/1.4 MB\u001b[0m \u001b[31m6.8 MB/s\u001b[0m eta \u001b[36m0:00:00\u001b[0m\n",
            "\u001b[?25hDownloading dnspython-2.6.1-py3-none-any.whl (307 kB)\n",
            "\u001b[2K   \u001b[90m━━━━━━━━━━━━━━━━━━━━━━━━━━━━━━━━━━━━━━━━\u001b[0m \u001b[32m307.7/307.7 kB\u001b[0m \u001b[31m18.1 MB/s\u001b[0m eta \u001b[36m0:00:00\u001b[0m\n",
            "\u001b[?25hInstalling collected packages: dnspython, pymongo\n",
            "Successfully installed dnspython-2.6.1 pymongo-4.9.1\n"
          ]
        }
      ]
    },
    {
      "cell_type": "markdown",
      "source": [
        "### NOTE: you must have an account at mongondb.net or on another Mongo server for this code to work properly.\n",
        "\n",
        "You may also have to authorize Access from Anywhere to connect to your DB."
      ],
      "metadata": {
        "id": "fYM3KhrZRjkD"
      }
    },
    {
      "cell_type": "code",
      "metadata": {
        "id": "7BOhlvK63A3k"
      },
      "source": [
        "from pymongo import MongoClient\n",
        "client = MongoClient(host='*** connection string here ***')   #A"
      ],
      "execution_count": 70,
      "outputs": []
    },
    {
      "cell_type": "code",
      "metadata": {
        "id": "mnrAoXTH3A3k",
        "outputId": "c71fd490-0fe7-4449-f3b6-4cd6aeef5320",
        "colab": {
          "base_uri": "https://localhost:8080/"
        }
      },
      "source": [
        "import datetime\n",
        "a_document = {'name': 'Jane',\n",
        "              'age': 34,\n",
        "              'interests': ['Python', 'databases', 'statistics'],\n",
        "              'date_added': datetime.datetime.now()\n",
        "}\n",
        "db = client.my_data     #A\n",
        "collection = db.docs   #B\n",
        "result = collection.find_one()  #C\n",
        "db.list_collection_names()"
      ],
      "execution_count": 71,
      "outputs": [
        {
          "output_type": "execute_result",
          "data": {
            "text/plain": [
              "[]"
            ]
          },
          "metadata": {},
          "execution_count": 71
        }
      ]
    },
    {
      "cell_type": "code",
      "source": [
        "collection.insert_one(a_document)\n"
      ],
      "metadata": {
        "colab": {
          "base_uri": "https://localhost:8080/"
        },
        "id": "NQClxNNTxmTz",
        "outputId": "3eb93e05-8b7d-4469-d81d-1291fa0c2b1f"
      },
      "execution_count": 72,
      "outputs": [
        {
          "output_type": "execute_result",
          "data": {
            "text/plain": [
              "InsertOneResult(ObjectId('66f616d8b15e1d493ca8b8d0'), acknowledged=True)"
            ]
          },
          "metadata": {},
          "execution_count": 72
        }
      ]
    },
    {
      "cell_type": "code",
      "metadata": {
        "id": "BDqFFwgo3A3l",
        "outputId": "7189c503-2619-4428-bdf6-d20c830dfcf5",
        "colab": {
          "base_uri": "https://localhost:8080/"
        }
      },
      "source": [
        "collection.find_one()    #A"
      ],
      "execution_count": 73,
      "outputs": [
        {
          "output_type": "execute_result",
          "data": {
            "text/plain": [
              "{'_id': ObjectId('66f616d8b15e1d493ca8b8d0'),\n",
              " 'name': 'Jane',\n",
              " 'age': 34,\n",
              " 'interests': ['Python', 'databases', 'statistics'],\n",
              " 'date_added': datetime.datetime(2024, 9, 27, 2, 21, 7, 521000)}"
            ]
          },
          "metadata": {},
          "execution_count": 73
        }
      ]
    },
    {
      "cell_type": "code",
      "metadata": {
        "id": "ZWKkXY103A3l"
      },
      "source": [
        "from bson.objectid import ObjectId\n",
        "\n",
        "# use ObjectId from above in code below\n",
        "collection.find_one({\"_id\":ObjectId('66f616d8b15e1d493ca8b8d0')})  #B\n"
      ],
      "execution_count": 82,
      "outputs": []
    },
    {
      "cell_type": "code",
      "metadata": {
        "id": "rZgi0WtU3A3l",
        "outputId": "ec883730-9520-4e9f-de7c-dd6692d351ef",
        "colab": {
          "base_uri": "https://localhost:8080/"
        }
      },
      "source": [
        "# use ObjectId from above in code below\n",
        "collection.update_one({\"_id\":ObjectId('66f616d8b15e1d493ca8b8d0')}, {\"$set\": {\"name\":\"Ann\"}})       #C"
      ],
      "execution_count": 76,
      "outputs": [
        {
          "output_type": "execute_result",
          "data": {
            "text/plain": [
              "UpdateResult({'n': 1, 'electionId': ObjectId('7fffffff00000000000002ba'), 'opTime': {'ts': Timestamp(1727403761, 6), 't': 698}, 'nModified': 1, 'ok': 1.0, '$clusterTime': {'clusterTime': Timestamp(1727403761, 6), 'signature': {'hash': b\"\\xdc\\t\\xa3\\x9d\\x0291r+\\x05h\\xd1S^'\\xa4L%)\\xe8\", 'keyId': 7368510527980437523}}, 'operationTime': Timestamp(1727403761, 6), 'updatedExisting': True}, acknowledged=True)"
            ]
          },
          "metadata": {},
          "execution_count": 76
        }
      ]
    },
    {
      "cell_type": "code",
      "metadata": {
        "id": "u4573BhP3A3l",
        "outputId": "ec73df51-aa60-461f-fcc4-0af889322fec",
        "colab": {
          "base_uri": "https://localhost:8080/"
        }
      },
      "source": [
        "# use ObjectId from above in code below\n",
        "collection.find_one({\"_id\":ObjectId('66f616d8b15e1d493ca8b8d0')})"
      ],
      "execution_count": 77,
      "outputs": [
        {
          "output_type": "execute_result",
          "data": {
            "text/plain": [
              "{'_id': ObjectId('66f616d8b15e1d493ca8b8d0'),\n",
              " 'name': 'Ann',\n",
              " 'age': 34,\n",
              " 'interests': ['Python', 'databases', 'statistics'],\n",
              " 'date_added': datetime.datetime(2024, 9, 27, 2, 21, 7, 521000)}"
            ]
          },
          "metadata": {},
          "execution_count": 77
        }
      ]
    },
    {
      "cell_type": "code",
      "metadata": {
        "id": "tgOuoGVd3A3m",
        "outputId": "30bc70c1-2c99-4518-a707-eb60ca5572a8",
        "colab": {
          "base_uri": "https://localhost:8080/"
        }
      },
      "source": [
        "# use ObjectId from above in code below\n",
        "collection.replace_one({\"_id\":ObjectId('66f616d8b15e1d493ca8b8d0')}, {\"name\":\"Maria\"})                 #D"
      ],
      "execution_count": 78,
      "outputs": [
        {
          "output_type": "execute_result",
          "data": {
            "text/plain": [
              "UpdateResult({'n': 1, 'electionId': ObjectId('7fffffff00000000000002ba'), 'opTime': {'ts': Timestamp(1727403772, 14), 't': 698}, 'nModified': 1, 'ok': 1.0, '$clusterTime': {'clusterTime': Timestamp(1727403772, 14), 'signature': {'hash': b'\\x95\\x93\\xd2\\xe2<[\\xe9W\\xb4\\x053\\xc1Wf\\x01\\xc7b\\xe5\\xc4a', 'keyId': 7368510527980437523}}, 'operationTime': Timestamp(1727403772, 14), 'updatedExisting': True}, acknowledged=True)"
            ]
          },
          "metadata": {},
          "execution_count": 78
        }
      ]
    },
    {
      "cell_type": "code",
      "metadata": {
        "id": "MS6fduWg3A3m",
        "outputId": "789d1332-728d-4921-a011-1b167dd0beef",
        "colab": {
          "base_uri": "https://localhost:8080/"
        }
      },
      "source": [
        "# use ObjectId from above in code below\n",
        "collection.find_one({\"_id\":ObjectId('66f616d8b15e1d493ca8b8d0')})"
      ],
      "execution_count": 79,
      "outputs": [
        {
          "output_type": "execute_result",
          "data": {
            "text/plain": [
              "{'_id': ObjectId('66f616d8b15e1d493ca8b8d0'), 'name': 'Maria'}"
            ]
          },
          "metadata": {},
          "execution_count": 79
        }
      ]
    },
    {
      "cell_type": "code",
      "metadata": {
        "id": "mR4ld8dy3A3m",
        "outputId": "26372f3a-e6f8-4fb7-845a-54187e4dd41a",
        "colab": {
          "base_uri": "https://localhost:8080/"
        }
      },
      "source": [
        "# use ObjectId from above in code below\n",
        "collection.delete_one({\"_id\":ObjectId('66f616d8b15e1d493ca8b8d0')}) #E"
      ],
      "execution_count": 80,
      "outputs": [
        {
          "output_type": "execute_result",
          "data": {
            "text/plain": [
              "DeleteResult({'n': 1, 'electionId': ObjectId('7fffffff00000000000002ba'), 'opTime': {'ts': Timestamp(1727403777, 14), 't': 698}, 'ok': 1.0, '$clusterTime': {'clusterTime': Timestamp(1727403777, 14), 'signature': {'hash': b'O\\x08\\xad\\xff\\xc3[E=\\xc8\\x06\\xd0\\xc4\\xe5^\\x0b\\xb8\\x1f\\x04\\x04\\xd7', 'keyId': 7368510527980437523}}, 'operationTime': Timestamp(1727403777, 14)}, acknowledged=True)"
            ]
          },
          "metadata": {},
          "execution_count": 80
        }
      ]
    },
    {
      "cell_type": "code",
      "metadata": {
        "id": "lbgUmf1E3A3m"
      },
      "source": [
        "collection.find_one()"
      ],
      "execution_count": null,
      "outputs": []
    },
    {
      "cell_type": "code",
      "metadata": {
        "id": "SkkSli0j3A3m",
        "outputId": "ad8562ab-1183-438f-f315-7c34c0caf7e2",
        "colab": {
          "base_uri": "https://localhost:8080/"
        }
      },
      "source": [
        "db.list_collection_names()"
      ],
      "execution_count": null,
      "outputs": [
        {
          "output_type": "execute_result",
          "data": {
            "text/plain": [
              "['docs']"
            ]
          },
          "metadata": {},
          "execution_count": 90
        }
      ]
    },
    {
      "cell_type": "code",
      "metadata": {
        "id": "lbMFRqdV3A3m",
        "outputId": "827e9397-3415-48af-853d-3c06886a10c8",
        "colab": {
          "base_uri": "https://localhost:8080/"
        }
      },
      "source": [
        "collection.drop()\n",
        "db.list_collection_names()"
      ],
      "execution_count": null,
      "outputs": [
        {
          "output_type": "execute_result",
          "data": {
            "text/plain": [
              "[]"
            ]
          },
          "metadata": {},
          "execution_count": 91
        }
      ]
    },
    {
      "cell_type": "code",
      "source": [],
      "metadata": {
        "id": "aMBMVGcp1zZ5"
      },
      "execution_count": null,
      "outputs": []
    }
  ]
}