{
  "nbformat": 4,
  "nbformat_minor": 0,
  "metadata": {
    "colab": {
      "provenance": [],
      "include_colab_link": true
    },
    "kernelspec": {
      "name": "python3",
      "display_name": "Python 3"
    },
    "language_info": {
      "name": "python"
    }
  },
  "cells": [
    {
      "cell_type": "markdown",
      "metadata": {
        "id": "view-in-github",
        "colab_type": "text"
      },
      "source": [
        "<a href=\"https://colab.research.google.com/github/nceder/qpb4e/blob/main/code/Chapter%2024/Chapter_24.ipynb\" target=\"_parent\"><img src=\"https://colab.research.google.com/assets/colab-badge.svg\" alt=\"Open In Colab\"/></a>"
      ]
    },
    {
      "cell_type": "markdown",
      "source": [
        "# 24 Saving Data"
      ],
      "metadata": {
        "id": "ZXgqm1JeyFKy"
      }
    },
    {
      "cell_type": "markdown",
      "source": [
        "# 24.2 SQLite: Using the sqlite3 database"
      ],
      "metadata": {
        "id": "H-YHfY8VyRST"
      }
    },
    {
      "cell_type": "code",
      "metadata": {
        "id": "9he6T8-F3A3a"
      },
      "source": [
        "import sqlite3\n",
        "conn = sqlite3.connect(\"datafile.db\")"
      ],
      "execution_count": null,
      "outputs": []
    },
    {
      "cell_type": "code",
      "metadata": {
        "id": "ATy8HkJI3A3b",
        "colab": {
          "base_uri": "https://localhost:8080/"
        },
        "outputId": "f69a58ff-4198-4b70-8d8a-5a9e5a859253"
      },
      "source": [
        "cursor = conn.cursor()\n",
        "cursor"
      ],
      "execution_count": null,
      "outputs": [
        {
          "output_type": "execute_result",
          "data": {
            "text/plain": [
              "<sqlite3.Cursor at 0x7c58e90d3f40>"
            ]
          },
          "metadata": {},
          "execution_count": 15
        }
      ]
    },
    {
      "cell_type": "code",
      "metadata": {
        "id": "qo8DHqkb3A3c"
      },
      "source": [
        "cursor.execute(\"create table people (id integer primary key, name text, count integer)\")\n",
        "cursor.execute(\"insert into people (name, count) values ('Bob', 1)\")\n",
        "cursor.execute(\"insert into people (name, count) values (?, ?)\",\n",
        "               (\"Jill\", 15))\n",
        "conn.commit()"
      ],
      "execution_count": null,
      "outputs": []
    },
    {
      "cell_type": "code",
      "metadata": {
        "id": "AvMIXGkY3A3c",
        "colab": {
          "base_uri": "https://localhost:8080/"
        },
        "outputId": "2d62e493-71db-462e-a140-0b5a43e9100d"
      },
      "source": [
        "cursor.execute(\"insert into people (name, count) values (:username, :usercount)\",\n",
        "                  {\"username\": \"Joe\", \"usercount\": 10})"
      ],
      "execution_count": null,
      "outputs": [
        {
          "output_type": "execute_result",
          "data": {
            "text/plain": [
              "<sqlite3.Cursor at 0x7c58e90d3f40>"
            ]
          },
          "metadata": {},
          "execution_count": 17
        }
      ]
    },
    {
      "cell_type": "code",
      "metadata": {
        "id": "b8z3sfGa3A3c",
        "colab": {
          "base_uri": "https://localhost:8080/"
        },
        "outputId": "7dfc0bc9-f578-4e58-f49d-47ace073fdc0"
      },
      "source": [
        "result = cursor.execute(\"select * from people\")\n",
        "print(result.fetchall())"
      ],
      "execution_count": null,
      "outputs": [
        {
          "output_type": "stream",
          "name": "stdout",
          "text": [
            "[(1, 'Bob', 1), (2, 'Jill', 15), (3, 'Joe', 10)]\n"
          ]
        }
      ]
    },
    {
      "cell_type": "code",
      "metadata": {
        "id": "ATjQD-MQ3A3c",
        "colab": {
          "base_uri": "https://localhost:8080/"
        },
        "outputId": "7b1ec60b-0082-400a-ff5f-17b046a9eccb"
      },
      "source": [
        "result = cursor.execute(\"select * from people where name like :name\",\n",
        "                        {\"name\": \"bob\"})\n",
        "print(result.fetchall())"
      ],
      "execution_count": null,
      "outputs": [
        {
          "output_type": "stream",
          "name": "stdout",
          "text": [
            "[(1, 'Bob', 1)]\n"
          ]
        }
      ]
    },
    {
      "cell_type": "code",
      "metadata": {
        "id": "MJhuhmQ23A3d",
        "colab": {
          "base_uri": "https://localhost:8080/"
        },
        "outputId": "ad399f60-75de-4253-b010-7d52df9fdce8"
      },
      "source": [
        "cursor.execute(\"update people set count=? where name=?\", (20, \"Jill\"))\n",
        "result = cursor.execute(\"select * from people\")\n",
        "print(result.fetchall())"
      ],
      "execution_count": null,
      "outputs": [
        {
          "output_type": "stream",
          "name": "stdout",
          "text": [
            "[(1, 'Bob', 1), (2, 'Jill', 20), (3, 'Joe', 10)]\n"
          ]
        }
      ]
    },
    {
      "cell_type": "code",
      "metadata": {
        "id": "novIrTwn3A3d",
        "colab": {
          "base_uri": "https://localhost:8080/"
        },
        "outputId": "bf625c74-b74b-499d-ac0d-52b714a97c0e"
      },
      "source": [
        "result = cursor.execute(\"select * from people\")\n",
        "for row in result:\n",
        "    print(row)\n"
      ],
      "execution_count": null,
      "outputs": [
        {
          "output_type": "stream",
          "name": "stdout",
          "text": [
            "(1, 'Bob', 1)\n",
            "(2, 'Jill', 20)\n",
            "(3, 'Joe', 10)\n"
          ]
        }
      ]
    },
    {
      "cell_type": "code",
      "metadata": {
        "id": "UDi2VBLu3A3d"
      },
      "source": [
        "cursor.execute(\"update people set count=? where name=?\", (20, \"Jill\"))\n",
        "conn.commit()\n",
        "conn.close()"
      ],
      "execution_count": null,
      "outputs": []
    },
    {
      "cell_type": "markdown",
      "source": [
        "# 24.4 Making database handling easier with an ORM"
      ],
      "metadata": {
        "id": "ZRuIqyemzM_c"
      }
    },
    {
      "cell_type": "markdown",
      "source": [
        "## 24.4.1 SQLAlchemy"
      ],
      "metadata": {
        "id": "0ddel9uKzU-g"
      }
    },
    {
      "cell_type": "code",
      "metadata": {
        "id": "3-7otCBh3A3d"
      },
      "source": [
        "from sqlalchemy import create_engine, select, MetaData, Table, Column, Integer, String\n",
        "from sqlalchemy.orm import sessionmaker"
      ],
      "execution_count": null,
      "outputs": []
    },
    {
      "cell_type": "code",
      "metadata": {
        "id": "1UQh3NFu3A3e"
      },
      "source": [
        "dbPath = 'datafile2.db'\n",
        "engine = create_engine('sqlite:///%s' % dbPath)\n",
        "metadata = MetaData()\n",
        "people  = Table('people', metadata,\n",
        "                Column('id', Integer, primary_key=True),\n",
        "                Column('name', String),\n",
        "                Column('count', Integer),\n",
        "               )\n",
        "Session = sessionmaker(bind=engine)\n",
        "session = Session()\n",
        "metadata.create_all(engine)"
      ],
      "execution_count": null,
      "outputs": []
    },
    {
      "cell_type": "code",
      "metadata": {
        "id": "LIvfhqLx3A3e",
        "outputId": "b1b384cd-1339-4599-c504-b53c415c02ed",
        "colab": {
          "base_uri": "https://localhost:8080/",
          "height": 35
        }
      },
      "source": [
        "people_ins = people.insert().values(name='Bob', count=1)\n",
        "str(people_ins)"
      ],
      "execution_count": null,
      "outputs": [
        {
          "output_type": "execute_result",
          "data": {
            "text/plain": [
              "'INSERT INTO people (name, count) VALUES (:name, :count)'"
            ],
            "application/vnd.google.colaboratory.intrinsic+json": {
              "type": "string"
            }
          },
          "metadata": {},
          "execution_count": 25
        }
      ]
    },
    {
      "cell_type": "code",
      "metadata": {
        "id": "x9_ij7Te3A3e",
        "outputId": "ad2ccc64-29ca-42d1-a776-5a450e4a3a3a",
        "colab": {
          "base_uri": "https://localhost:8080/"
        }
      },
      "source": [
        "session.execute(people_ins)"
      ],
      "execution_count": null,
      "outputs": [
        {
          "output_type": "execute_result",
          "data": {
            "text/plain": [
              "<sqlalchemy.engine.cursor.CursorResult at 0x7c58e8632860>"
            ]
          },
          "metadata": {},
          "execution_count": 26
        }
      ]
    },
    {
      "cell_type": "code",
      "metadata": {
        "id": "0i-9kY583A3e"
      },
      "source": [
        "session.commit()"
      ],
      "execution_count": null,
      "outputs": []
    },
    {
      "cell_type": "code",
      "metadata": {
        "id": "Oh74-8133A3e",
        "outputId": "e91be2d0-d1f5-4837-e9cf-c54bb2a54552",
        "colab": {
          "base_uri": "https://localhost:8080/"
        }
      },
      "source": [
        "session.execute(people_ins, [\n",
        "    {'name': 'Jill', 'count':15},\n",
        "    {'name': 'Joe', 'count':10}\n",
        "])"
      ],
      "execution_count": null,
      "outputs": [
        {
          "output_type": "execute_result",
          "data": {
            "text/plain": [
              "<sqlalchemy.engine.cursor.CursorResult at 0x7c58e866c2e0>"
            ]
          },
          "metadata": {},
          "execution_count": 28
        }
      ]
    },
    {
      "cell_type": "code",
      "metadata": {
        "id": "avw5ESc03A3e",
        "outputId": "7320cadf-9b24-468b-e32e-cf9398077d15",
        "colab": {
          "base_uri": "https://localhost:8080/"
        }
      },
      "source": [
        "session.commit()\n",
        "people_query = select(people)\n",
        "result = session.execute(people_query)\n",
        "for row in result:\n",
        "    print(row)\n"
      ],
      "execution_count": null,
      "outputs": [
        {
          "output_type": "stream",
          "name": "stdout",
          "text": [
            "(1, 'Bob', 1)\n",
            "(2, 'Jill', 15)\n",
            "(3, 'Joe', 10)\n"
          ]
        }
      ]
    },
    {
      "cell_type": "code",
      "metadata": {
        "id": "oGkT6cUf3A3e",
        "outputId": "99fbf3ca-4cb2-488d-9a34-d62980db6f94",
        "colab": {
          "base_uri": "https://localhost:8080/"
        }
      },
      "source": [
        "result = session.execute(select(people).where(people.c.name == 'Jill'))\n",
        "for row in result:\n",
        "    print(row)\n"
      ],
      "execution_count": null,
      "outputs": [
        {
          "output_type": "stream",
          "name": "stdout",
          "text": [
            "(2, 'Jill', 15)\n"
          ]
        }
      ]
    },
    {
      "cell_type": "code",
      "metadata": {
        "id": "MdTJF_ro3A3f",
        "outputId": "5ae05c02-6a53-44ab-e91b-d8696ac1a79a",
        "colab": {
          "base_uri": "https://localhost:8080/"
        }
      },
      "source": [
        "result = session.execute(people.update().values(count=20).where (people.c.name == 'Jill'))\n",
        "session.commit()\n",
        "result = session.execute(select(people).where(people.c.name == 'Jill'))\n",
        "for row in result:\n",
        "    print(row)\n"
      ],
      "execution_count": null,
      "outputs": [
        {
          "output_type": "stream",
          "name": "stdout",
          "text": [
            "(2, 'Jill', 20)\n"
          ]
        }
      ]
    },
    {
      "cell_type": "markdown",
      "source": [
        "### Mapping table objects to classes"
      ],
      "metadata": {
        "id": "OAWyBHqv-VOm"
      }
    },
    {
      "cell_type": "code",
      "metadata": {
        "id": "gzNB37cx3A3f",
        "outputId": "13a01a8d-385e-4811-b3d3-476b6aab7100",
        "colab": {
          "base_uri": "https://localhost:8080/"
        }
      },
      "source": [
        "from sqlalchemy.orm import declarative_base\n",
        "Base = declarative_base()\n",
        "class People(Base):\n",
        "    __tablename__ = \"people\"\n",
        "    id = Column(Integer, primary_key=True)\n",
        "    name = Column(String)\n",
        "    count = Column(Integer)\n",
        "\n",
        "results = session.query(People).filter_by(name='Jill')\n",
        "for person in results:\n",
        "    print(person.id, person.name, person.count)\n"
      ],
      "execution_count": null,
      "outputs": [
        {
          "output_type": "stream",
          "name": "stdout",
          "text": [
            "2 Jill 20\n"
          ]
        }
      ]
    },
    {
      "cell_type": "code",
      "metadata": {
        "id": "H30yE6IN3A3f",
        "outputId": "46ab662c-3d5a-406f-f55b-7a76d5d20758",
        "colab": {
          "base_uri": "https://localhost:8080/"
        }
      },
      "source": [
        "new_person = People(name='Jane', count=5)\n",
        "session.add(new_person)\n",
        "session.commit()\n",
        "results = session.query(People).all()\n",
        "for person in results:\n",
        "    print(person.id, person.name, person.count)\n"
      ],
      "execution_count": null,
      "outputs": [
        {
          "output_type": "stream",
          "name": "stdout",
          "text": [
            "1 Bob 1\n",
            "2 Jill 20\n",
            "3 Joe 10\n",
            "4 Jane 5\n"
          ]
        }
      ]
    },
    {
      "cell_type": "code",
      "metadata": {
        "id": "sKH8_Vwh3A3f",
        "outputId": "0c0a4b3b-fa55-4750-808c-24e8cda20cd9",
        "colab": {
          "base_uri": "https://localhost:8080/",
          "height": 35
        }
      },
      "source": [
        "jill = session.query(People).filter_by(name='Jill').first()\n",
        "jill.name"
      ],
      "execution_count": null,
      "outputs": [
        {
          "output_type": "execute_result",
          "data": {
            "text/plain": [
              "'Jill'"
            ],
            "application/vnd.google.colaboratory.intrinsic+json": {
              "type": "string"
            }
          },
          "metadata": {},
          "execution_count": 34
        }
      ]
    },
    {
      "cell_type": "code",
      "metadata": {
        "id": "_4JGuxvN3A3f",
        "outputId": "6c77b240-71f1-48d4-d56e-2d5ffee61b96",
        "colab": {
          "base_uri": "https://localhost:8080/"
        }
      },
      "source": [
        "jill.count = 22\n",
        "session.add(jill)\n",
        "session.commit()\n",
        "results = session.query(People).all()\n",
        "for person in results:\n",
        "    print(person.id, person.name, person.count)\n"
      ],
      "execution_count": null,
      "outputs": [
        {
          "output_type": "stream",
          "name": "stdout",
          "text": [
            "1 Bob 1\n",
            "2 Jill 22\n",
            "3 Joe 10\n",
            "4 Jane 5\n"
          ]
        }
      ]
    },
    {
      "cell_type": "code",
      "metadata": {
        "id": "P2l5cOVL3A3g",
        "outputId": "d0191c6e-592e-443a-f8a3-64ff8ac33aa3",
        "colab": {
          "base_uri": "https://localhost:8080/"
        }
      },
      "source": [
        "jane = session.query(People).filter_by(name='Jane').first()\n",
        "session.delete(jane)\n",
        "session.commit()\n",
        "jane = session.query(People).filter_by(name='Jane').first()\n",
        "print(jane)"
      ],
      "execution_count": null,
      "outputs": [
        {
          "output_type": "stream",
          "name": "stdout",
          "text": [
            "None\n"
          ]
        }
      ]
    },
    {
      "cell_type": "markdown",
      "source": [
        "## 24.4.2 Using Alembic for database schema changes"
      ],
      "metadata": {
        "id": "BVq8mxKT7pbc"
      }
    },
    {
      "cell_type": "code",
      "source": [
        "! rm -rf alembic/"
      ],
      "metadata": {
        "id": "DAmbimejl_24"
      },
      "execution_count": null,
      "outputs": []
    },
    {
      "cell_type": "code",
      "metadata": {
        "id": "wjLqSo9k3A3g",
        "outputId": "e1e5ecb0-0133-4598-82f5-abae85181ea6",
        "colab": {
          "base_uri": "https://localhost:8080/"
        }
      },
      "source": [
        "! pip install alembic\n",
        "! alembic init alembic"
      ],
      "execution_count": null,
      "outputs": [
        {
          "output_type": "stream",
          "name": "stdout",
          "text": [
            "Collecting alembic\n",
            "  Downloading alembic-1.13.2-py3-none-any.whl.metadata (7.4 kB)\n",
            "Requirement already satisfied: SQLAlchemy>=1.3.0 in /usr/local/lib/python3.10/dist-packages (from alembic) (2.0.32)\n",
            "Collecting Mako (from alembic)\n",
            "  Downloading Mako-1.3.5-py3-none-any.whl.metadata (2.9 kB)\n",
            "Requirement already satisfied: typing-extensions>=4 in /usr/local/lib/python3.10/dist-packages (from alembic) (4.12.2)\n",
            "Requirement already satisfied: greenlet!=0.4.17 in /usr/local/lib/python3.10/dist-packages (from SQLAlchemy>=1.3.0->alembic) (3.0.3)\n",
            "Requirement already satisfied: MarkupSafe>=0.9.2 in /usr/local/lib/python3.10/dist-packages (from Mako->alembic) (2.1.5)\n",
            "Downloading alembic-1.13.2-py3-none-any.whl (232 kB)\n",
            "\u001b[2K   \u001b[90m━━━━━━━━━━━━━━━━━━━━━━━━━━━━━━━━━━━━━━━━\u001b[0m \u001b[32m233.0/233.0 kB\u001b[0m \u001b[31m1.4 MB/s\u001b[0m eta \u001b[36m0:00:00\u001b[0m\n",
            "\u001b[?25hDownloading Mako-1.3.5-py3-none-any.whl (78 kB)\n",
            "\u001b[2K   \u001b[90m━━━━━━━━━━━━━━━━━━━━━━━━━━━━━━━━━━━━━━━━\u001b[0m \u001b[32m78.6/78.6 kB\u001b[0m \u001b[31m2.8 MB/s\u001b[0m eta \u001b[36m0:00:00\u001b[0m\n",
            "\u001b[?25hInstalling collected packages: Mako, alembic\n",
            "Successfully installed Mako-1.3.5 alembic-1.13.2\n",
            "Creating directory '/content/alembic' ...  done\n",
            "Creating directory '/content/alembic/versions' ...  done\n",
            "Generating /content/alembic/env.py ...  done\n",
            "Generating /content/alembic/script.py.mako ...  done\n",
            "Generating /content/alembic/README ...  done\n",
            "Generating /content/alembic.ini ...  done\n",
            "Please edit configuration/connection/logging settings in '/content/alembic.ini' before proceeding.\n"
          ]
        }
      ]
    },
    {
      "cell_type": "code",
      "metadata": {
        "id": "dptVIRNE3A3g"
      },
      "source": [
        "# This cell will update the alembic.ini file\n",
        "\n",
        "! sed -i 's/driver:\\/\\/user:pass@localhost\\/dbname/sqlite:\\/\\/\\/datafile.db/' alembic.ini"
      ],
      "execution_count": null,
      "outputs": []
    },
    {
      "cell_type": "code",
      "source": [
        "# This cell create the first revision script\n",
        "result = ! alembic revision -m \"create an address table\"\n",
        "filename= result[0].replace('Generating ', \"\").replace(\" ...  done\",\"\")\n",
        "version = filename.split(\"/\")[-1].split(\"_\")[0]"
      ],
      "metadata": {
        "id": "xICjY8aMdKk8",
        "outputId": "e948d6ea-2547-47fe-cc25-afcf40f8679a",
        "colab": {
          "base_uri": "https://localhost:8080/",
          "height": 35
        }
      },
      "execution_count": null,
      "outputs": [
        {
          "output_type": "execute_result",
          "data": {
            "text/plain": [
              "'dbb13fdbd5ce'"
            ],
            "application/vnd.google.colaboratory.intrinsic+json": {
              "type": "string"
            }
          },
          "metadata": {},
          "execution_count": 3
        }
      ]
    },
    {
      "cell_type": "code",
      "source": [
        "# This cell updates the revision script's upgrade() and downgrade() functions\n",
        "upgrade_cmd = \"\"\"def upgrade() -> None:\n",
        "    op.create_table(\n",
        "        'address',\n",
        "        sa.Column('id', sa.Integer, primary_key=True),\n",
        "        sa.Column('address', sa.String(50), nullable=False),\n",
        "        sa.Column('city', sa.String(50), nullable=False),\n",
        "        sa.Column('state', sa.String(20), nullable=False),\n",
        "    )\n",
        "\"\"\"\n",
        "downgrade_cmd = \"\"\"def downgrade() -> None:\n",
        "    op.drop_table('address')\"\"\"\n",
        "\n",
        "version_file = open(filename).read()\n",
        "version_file = version_file.replace(\"\"\"def upgrade() -> None:\n",
        "    pass\"\"\", upgrade_cmd)\n",
        "version_file = version_file.replace(\"\"\"def downgrade() -> None:\n",
        "    pass\"\"\", downgrade_cmd)\n",
        "print(version_file)\n",
        "\n",
        "open(filename, \"w\").write(version_file)"
      ],
      "metadata": {
        "id": "9kv5G7AF8rtS"
      },
      "execution_count": null,
      "outputs": []
    },
    {
      "cell_type": "code",
      "source": [
        "for table in metadata.sorted_tables:\n",
        "    print(table.name)"
      ],
      "metadata": {
        "id": "QNp_zDe2izzZ",
        "outputId": "198af900-eb2c-44d7-c3d5-70d04f3f9e5a",
        "colab": {
          "base_uri": "https://localhost:8080/"
        }
      },
      "execution_count": null,
      "outputs": [
        {
          "output_type": "stream",
          "name": "stdout",
          "text": [
            "people\n"
          ]
        }
      ]
    },
    {
      "cell_type": "code",
      "source": [
        "! alembic upgrade head"
      ],
      "metadata": {
        "id": "Naaaeer_jJ0H",
        "outputId": "f6c12c01-aa90-4149-ff12-e54c56287aae",
        "colab": {
          "base_uri": "https://localhost:8080/"
        }
      },
      "execution_count": null,
      "outputs": [
        {
          "output_type": "stream",
          "name": "stdout",
          "text": [
            "INFO  [alembic.runtime.migration] Context impl SQLiteImpl.\n",
            "INFO  [alembic.runtime.migration] Will assume non-transactional DDL.\n",
            "INFO  [alembic.runtime.migration] Running upgrade  -> dbb13fdbd5ce, create an address table\n"
          ]
        }
      ]
    },
    {
      "cell_type": "code",
      "source": [
        "metadata.sorted_tables"
      ],
      "metadata": {
        "id": "9dNnoNtVAKv7",
        "outputId": "01713fea-b595-478a-a076-5301bec38df8",
        "colab": {
          "base_uri": "https://localhost:8080/"
        }
      },
      "execution_count": null,
      "outputs": [
        {
          "output_type": "execute_result",
          "data": {
            "text/plain": [
              "[Table('people', MetaData(), Column('id', Integer(), table=<people>, primary_key=True, nullable=False), Column('name', String(), table=<people>), Column('count', Integer(), table=<people>), schema=None)]"
            ]
          },
          "metadata": {},
          "execution_count": 63
        }
      ]
    },
    {
      "cell_type": "code",
      "source": [
        "Session = sessionmaker(bind=engine)\n",
        "session = Session()\n"
      ],
      "metadata": {
        "id": "yGzR4cUFCcSZ"
      },
      "execution_count": null,
      "outputs": []
    },
    {
      "cell_type": "code",
      "metadata": {
        "id": "YvMKja_z3A3g"
      },
      "source": [
        "metadata.reflect(engine)\n",
        "metadata.tables.keys()\n",
        "session.commit()"
      ],
      "execution_count": null,
      "outputs": []
    },
    {
      "cell_type": "code",
      "metadata": {
        "id": "4P941qVM3A3g",
        "outputId": "bb581b7d-c76a-485e-afe9-927004b6a819",
        "colab": {
          "base_uri": "https://localhost:8080/"
        }
      },
      "source": [
        "! alembic downgrade -1\n"
      ],
      "execution_count": null,
      "outputs": [
        {
          "output_type": "stream",
          "name": "stdout",
          "text": [
            "INFO  [alembic.runtime.migration] Context impl SQLiteImpl.\n",
            "INFO  [alembic.runtime.migration] Will assume non-transactional DDL.\n",
            "INFO  [alembic.runtime.migration] Running downgrade dbb13fdbd5ce -> , create an address table\n"
          ]
        }
      ]
    },
    {
      "cell_type": "markdown",
      "source": [
        "# 24.6 key:value stores with Redis"
      ],
      "metadata": {
        "id": "86oyCEiDxqZy"
      }
    },
    {
      "cell_type": "code",
      "source": [
        "!pip install redis"
      ],
      "metadata": {
        "id": "4KRXJjgCpnmf",
        "outputId": "e5015235-9d67-4fd0-bb66-ff5d4e1a3d87",
        "colab": {
          "base_uri": "https://localhost:8080/"
        }
      },
      "execution_count": null,
      "outputs": [
        {
          "output_type": "stream",
          "name": "stdout",
          "text": [
            "Collecting redis\n",
            "  Downloading redis-5.0.8-py3-none-any.whl.metadata (9.2 kB)\n",
            "Requirement already satisfied: async-timeout>=4.0.3 in /usr/local/lib/python3.10/dist-packages (from redis) (4.0.3)\n",
            "Downloading redis-5.0.8-py3-none-any.whl (255 kB)\n",
            "\u001b[2K   \u001b[90m━━━━━━━━━━━━━━━━━━━━━━━━━━━━━━━━━━━━━━━━\u001b[0m \u001b[32m255.6/255.6 kB\u001b[0m \u001b[31m5.0 MB/s\u001b[0m eta \u001b[36m0:00:00\u001b[0m\n",
            "\u001b[?25hInstalling collected packages: redis\n",
            "Successfully installed redis-5.0.8\n"
          ]
        }
      ]
    },
    {
      "cell_type": "code",
      "metadata": {
        "id": "gMH0maR33A3h"
      },
      "source": [
        "import redis\n",
        "\n",
        "r = redis.Redis(\n",
        "    # set your host here\n",
        "    host='',\n",
        "    port=10032,\n",
        "    # set your password below\n",
        "    password='')"
      ],
      "execution_count": null,
      "outputs": []
    },
    {
      "cell_type": "markdown",
      "source": [
        "#### Basic operations"
      ],
      "metadata": {
        "id": "iM5wrNK4GgC5"
      }
    },
    {
      "cell_type": "code",
      "source": [
        "r.delete('words', 'counter', 'a_key')"
      ],
      "metadata": {
        "id": "c4xzwY8xkk0L",
        "outputId": "86735eaa-5fea-4db8-a679-b78a9ad69ff9",
        "colab": {
          "base_uri": "https://localhost:8080/"
        }
      },
      "execution_count": null,
      "outputs": [
        {
          "output_type": "execute_result",
          "data": {
            "text/plain": [
              "2"
            ]
          },
          "metadata": {},
          "execution_count": 8
        }
      ]
    },
    {
      "cell_type": "code",
      "metadata": {
        "id": "K1DROZCm3A3h",
        "outputId": "1b709e11-3e03-4056-e305-60cd33f1303b",
        "colab": {
          "base_uri": "https://localhost:8080/"
        }
      },
      "source": [
        "r.keys()"
      ],
      "execution_count": null,
      "outputs": [
        {
          "output_type": "execute_result",
          "data": {
            "text/plain": [
              "[]"
            ]
          },
          "metadata": {},
          "execution_count": 9
        }
      ]
    },
    {
      "cell_type": "markdown",
      "source": [
        "#### Array operations"
      ],
      "metadata": {
        "id": "whuJ6RdJGj96"
      }
    },
    {
      "cell_type": "code",
      "metadata": {
        "id": "fhpG2vEu3A3h",
        "outputId": "0fa1e236-96e8-44f1-8673-4df9bfad2366",
        "colab": {
          "base_uri": "https://localhost:8080/"
        }
      },
      "source": [
        "r.set('a_key', 'my value')"
      ],
      "execution_count": null,
      "outputs": [
        {
          "output_type": "execute_result",
          "data": {
            "text/plain": [
              "True"
            ]
          },
          "metadata": {},
          "execution_count": 33
        }
      ]
    },
    {
      "cell_type": "code",
      "metadata": {
        "id": "-TQM_EI63A3h",
        "outputId": "49768d1e-c5ab-41bb-a5e1-099f48ae792a",
        "colab": {
          "base_uri": "https://localhost:8080/"
        }
      },
      "source": [
        "r.keys()"
      ],
      "execution_count": null,
      "outputs": [
        {
          "output_type": "execute_result",
          "data": {
            "text/plain": [
              "[b'a_key']"
            ]
          },
          "metadata": {},
          "execution_count": 34
        }
      ]
    },
    {
      "cell_type": "code",
      "metadata": {
        "id": "1I-goUO53A3h",
        "outputId": "437239b7-04e5-4b0b-cfe5-735269e63dfd",
        "colab": {
          "base_uri": "https://localhost:8080/"
        }
      },
      "source": [
        "v = r.get('a_key')\n",
        "v"
      ],
      "execution_count": null,
      "outputs": [
        {
          "output_type": "execute_result",
          "data": {
            "text/plain": [
              "b'my value'"
            ]
          },
          "metadata": {},
          "execution_count": 35
        }
      ]
    },
    {
      "cell_type": "code",
      "metadata": {
        "id": "xVp_Bo7K3A3h",
        "outputId": "f9c15093-2a23-494b-e63a-fe79636d9283",
        "colab": {
          "base_uri": "https://localhost:8080/"
        }
      },
      "source": [
        "r.incr('counter')"
      ],
      "execution_count": null,
      "outputs": [
        {
          "output_type": "execute_result",
          "data": {
            "text/plain": [
              "1"
            ]
          },
          "metadata": {},
          "execution_count": 36
        }
      ]
    },
    {
      "cell_type": "code",
      "metadata": {
        "id": "SlSR6Q-w3A3h",
        "outputId": "da697308-16f4-42bc-ff9a-5bcfe5048ef2",
        "colab": {
          "base_uri": "https://localhost:8080/"
        }
      },
      "source": [
        "r.get('counter')"
      ],
      "execution_count": null,
      "outputs": [
        {
          "output_type": "execute_result",
          "data": {
            "text/plain": [
              "b'1'"
            ]
          },
          "metadata": {},
          "execution_count": 37
        }
      ]
    },
    {
      "cell_type": "code",
      "metadata": {
        "id": "z7_zJ_6K3A3h",
        "outputId": "ff585330-e1dc-41c4-a2d3-750bb2fd714b",
        "colab": {
          "base_uri": "https://localhost:8080/"
        }
      },
      "source": [
        "r.incr('counter')"
      ],
      "execution_count": null,
      "outputs": [
        {
          "output_type": "execute_result",
          "data": {
            "text/plain": [
              "2"
            ]
          },
          "metadata": {},
          "execution_count": 38
        }
      ]
    },
    {
      "cell_type": "code",
      "metadata": {
        "id": "mH4K8Ov33A3i",
        "outputId": "a0443ecd-0fd9-413e-d8da-793775aefbf5",
        "colab": {
          "base_uri": "https://localhost:8080/"
        }
      },
      "source": [
        "r.get('counter')"
      ],
      "execution_count": null,
      "outputs": [
        {
          "output_type": "execute_result",
          "data": {
            "text/plain": [
              "b'2'"
            ]
          },
          "metadata": {},
          "execution_count": 39
        }
      ]
    },
    {
      "cell_type": "code",
      "metadata": {
        "id": "l6VOd4Qk3A3i",
        "outputId": "37e4450e-abd0-489b-e9ed-d33476bb9496",
        "colab": {
          "base_uri": "https://localhost:8080/"
        }
      },
      "source": [
        "r.rpush(\"words\", \"one\")"
      ],
      "execution_count": null,
      "outputs": [
        {
          "output_type": "execute_result",
          "data": {
            "text/plain": [
              "1"
            ]
          },
          "metadata": {},
          "execution_count": 40
        }
      ]
    },
    {
      "cell_type": "code",
      "metadata": {
        "id": "UrgiFhCy3A3i",
        "outputId": "26104e7d-a1bc-49d6-c527-a429aa3066d5",
        "colab": {
          "base_uri": "https://localhost:8080/"
        }
      },
      "source": [
        "r.rpush(\"words\", \"two\")"
      ],
      "execution_count": null,
      "outputs": [
        {
          "output_type": "execute_result",
          "data": {
            "text/plain": [
              "2"
            ]
          },
          "metadata": {},
          "execution_count": 41
        }
      ]
    },
    {
      "cell_type": "code",
      "metadata": {
        "id": "b86V4A-t3A3i",
        "outputId": "9f791490-a7ca-414e-9f20-210dd4c61f81",
        "colab": {
          "base_uri": "https://localhost:8080/"
        }
      },
      "source": [
        "r.lrange(\"words\", 0, -1)"
      ],
      "execution_count": null,
      "outputs": [
        {
          "output_type": "execute_result",
          "data": {
            "text/plain": [
              "[b'one', b'two']"
            ]
          },
          "metadata": {},
          "execution_count": 42
        }
      ]
    },
    {
      "cell_type": "code",
      "metadata": {
        "id": "sCsoIoM63A3i",
        "outputId": "8d101606-42ce-4eda-aa35-1d97f95be132",
        "colab": {
          "base_uri": "https://localhost:8080/"
        }
      },
      "source": [
        "r.rpush(\"words\", \"three\")"
      ],
      "execution_count": null,
      "outputs": [
        {
          "output_type": "execute_result",
          "data": {
            "text/plain": [
              "3"
            ]
          },
          "metadata": {},
          "execution_count": 43
        }
      ]
    },
    {
      "cell_type": "code",
      "metadata": {
        "id": "R6SYq4n23A3i",
        "outputId": "be71acea-2a11-4f75-d5d6-a48b07a87752",
        "colab": {
          "base_uri": "https://localhost:8080/"
        }
      },
      "source": [
        "r.lrange(\"words\", 0, -1)"
      ],
      "execution_count": null,
      "outputs": [
        {
          "output_type": "execute_result",
          "data": {
            "text/plain": [
              "[b'one', b'two', b'three']"
            ]
          },
          "metadata": {},
          "execution_count": 44
        }
      ]
    },
    {
      "cell_type": "code",
      "metadata": {
        "id": "t6c3p64R3A3j",
        "outputId": "65eb21cc-e2a3-4aab-f66f-8d0ffbc87285",
        "colab": {
          "base_uri": "https://localhost:8080/"
        }
      },
      "source": [
        "r.llen(\"words\")"
      ],
      "execution_count": null,
      "outputs": [
        {
          "output_type": "execute_result",
          "data": {
            "text/plain": [
              "3"
            ]
          },
          "metadata": {},
          "execution_count": 45
        }
      ]
    },
    {
      "cell_type": "code",
      "metadata": {
        "id": "vdLIZMaX3A3j",
        "outputId": "76f14a8a-34bf-43a1-a371-c2fe8c3f6567",
        "colab": {
          "base_uri": "https://localhost:8080/"
        }
      },
      "source": [
        "r.lpush(\"words\", \"zero\")"
      ],
      "execution_count": null,
      "outputs": [
        {
          "output_type": "execute_result",
          "data": {
            "text/plain": [
              "4"
            ]
          },
          "metadata": {},
          "execution_count": 46
        }
      ]
    },
    {
      "cell_type": "code",
      "metadata": {
        "id": "Vcu54eX83A3j",
        "outputId": "8f0f8282-2f64-4cba-e56c-452f14c0c594",
        "colab": {
          "base_uri": "https://localhost:8080/"
        }
      },
      "source": [
        "r.lrange(\"words\", 0, -1)"
      ],
      "execution_count": null,
      "outputs": [
        {
          "output_type": "execute_result",
          "data": {
            "text/plain": [
              "[b'zero', b'one', b'two', b'three']"
            ]
          },
          "metadata": {},
          "execution_count": 47
        }
      ]
    },
    {
      "cell_type": "code",
      "metadata": {
        "id": "kF4t7ge-3A3j",
        "outputId": "c670f40e-c5e4-4e07-cb46-1d7cbf076f77",
        "colab": {
          "base_uri": "https://localhost:8080/"
        }
      },
      "source": [
        "r.lrange(\"words\", 2, 2)"
      ],
      "execution_count": null,
      "outputs": [
        {
          "output_type": "execute_result",
          "data": {
            "text/plain": [
              "[b'two']"
            ]
          },
          "metadata": {},
          "execution_count": 48
        }
      ]
    },
    {
      "cell_type": "code",
      "metadata": {
        "id": "zakzEK8V3A3j",
        "outputId": "9990b808-e7e6-4864-9da4-8248782fc028",
        "colab": {
          "base_uri": "https://localhost:8080/"
        }
      },
      "source": [
        "r.lindex(\"words\", 1)"
      ],
      "execution_count": null,
      "outputs": [
        {
          "output_type": "execute_result",
          "data": {
            "text/plain": [
              "b'one'"
            ]
          },
          "metadata": {},
          "execution_count": 49
        }
      ]
    },
    {
      "cell_type": "code",
      "metadata": {
        "id": "3Ckv1Sbp3A3j",
        "outputId": "0054b625-4cb1-4581-aba6-f08da7a79c26",
        "colab": {
          "base_uri": "https://localhost:8080/"
        }
      },
      "source": [
        "r.lindex(\"words\", 2)"
      ],
      "execution_count": null,
      "outputs": [
        {
          "output_type": "execute_result",
          "data": {
            "text/plain": [
              "b'two'"
            ]
          },
          "metadata": {},
          "execution_count": 50
        }
      ]
    },
    {
      "cell_type": "markdown",
      "source": [
        "### Expiration of values"
      ],
      "metadata": {
        "id": "4-iOzjGsGrJh"
      }
    },
    {
      "cell_type": "code",
      "metadata": {
        "id": "PfTR7Ixp3A3j",
        "outputId": "f42f294e-c7a0-42ad-ec44-6ce5e895f188",
        "colab": {
          "base_uri": "https://localhost:8080/"
        }
      },
      "source": [
        "r.setex(\"timed\", 10,  \"10 seconds\")"
      ],
      "execution_count": null,
      "outputs": [
        {
          "output_type": "execute_result",
          "data": {
            "text/plain": [
              "True"
            ]
          },
          "metadata": {},
          "execution_count": 24
        }
      ]
    },
    {
      "cell_type": "code",
      "metadata": {
        "id": "Puzppjcm3A3k",
        "outputId": "8ed1c264-583d-496d-cc32-60b2a909e893",
        "colab": {
          "base_uri": "https://localhost:8080/"
        }
      },
      "source": [
        "r.pttl(\"timed\")"
      ],
      "execution_count": null,
      "outputs": [
        {
          "output_type": "execute_result",
          "data": {
            "text/plain": [
              "4487"
            ]
          },
          "metadata": {},
          "execution_count": 26
        }
      ]
    },
    {
      "cell_type": "code",
      "metadata": {
        "id": "Z1tRvYUL3A3k",
        "outputId": "97ea7324-cdbd-46c1-9bba-a38c5325c180",
        "colab": {
          "base_uri": "https://localhost:8080/"
        }
      },
      "source": [
        "r.pttl(\"timed\")"
      ],
      "execution_count": null,
      "outputs": [
        {
          "output_type": "execute_result",
          "data": {
            "text/plain": [
              "-2"
            ]
          },
          "metadata": {},
          "execution_count": 27
        }
      ]
    },
    {
      "cell_type": "code",
      "metadata": {
        "id": "0DenF6k93A3k",
        "outputId": "cfc92dba-b893-4fce-d3df-c2729048590e",
        "colab": {
          "base_uri": "https://localhost:8080/"
        }
      },
      "source": [
        "b\"timed\" in r.keys()"
      ],
      "execution_count": null,
      "outputs": [
        {
          "output_type": "execute_result",
          "data": {
            "text/plain": [
              "False"
            ]
          },
          "metadata": {},
          "execution_count": 28
        }
      ]
    },
    {
      "cell_type": "markdown",
      "source": [
        "# MongoDB Atalas"
      ],
      "metadata": {
        "id": "JoNxPeYW0b1v"
      }
    },
    {
      "cell_type": "code",
      "source": [
        "! pip install pymongo"
      ],
      "metadata": {
        "id": "Dw5nUkwa0iB7",
        "outputId": "043db30f-1d31-4c63-92cc-ed950dc328df",
        "colab": {
          "base_uri": "https://localhost:8080/"
        }
      },
      "execution_count": 37,
      "outputs": [
        {
          "output_type": "stream",
          "name": "stdout",
          "text": [
            "Collecting pymongo\n",
            "  Downloading pymongo-4.8.0-cp310-cp310-manylinux_2_17_x86_64.manylinux2014_x86_64.whl.metadata (22 kB)\n",
            "Collecting dnspython<3.0.0,>=1.16.0 (from pymongo)\n",
            "  Downloading dnspython-2.6.1-py3-none-any.whl.metadata (5.8 kB)\n",
            "Downloading pymongo-4.8.0-cp310-cp310-manylinux_2_17_x86_64.manylinux2014_x86_64.whl (1.2 MB)\n",
            "\u001b[2K   \u001b[90m━━━━━━━━━━━━━━━━━━━━━━━━━━━━━━━━━━━━━━━━\u001b[0m \u001b[32m1.2/1.2 MB\u001b[0m \u001b[31m10.3 MB/s\u001b[0m eta \u001b[36m0:00:00\u001b[0m\n",
            "\u001b[?25hDownloading dnspython-2.6.1-py3-none-any.whl (307 kB)\n",
            "\u001b[2K   \u001b[90m━━━━━━━━━━━━━━━━━━━━━━━━━━━━━━━━━━━━━━━━\u001b[0m \u001b[32m307.7/307.7 kB\u001b[0m \u001b[31m10.1 MB/s\u001b[0m eta \u001b[36m0:00:00\u001b[0m\n",
            "\u001b[?25hInstalling collected packages: dnspython, pymongo\n",
            "Successfully installed dnspython-2.6.1 pymongo-4.8.0\n"
          ]
        }
      ]
    },
    {
      "cell_type": "code",
      "metadata": {
        "id": "7BOhlvK63A3k"
      },
      "source": [
        "from pymongo import MongoClient\n",
        "client = MongoClient(host='*** connection string here ***')   #A"
      ],
      "execution_count": 40,
      "outputs": []
    },
    {
      "cell_type": "code",
      "metadata": {
        "id": "mnrAoXTH3A3k",
        "outputId": "e1c5a178-d672-4759-9909-045aa2b1879d",
        "colab": {
          "base_uri": "https://localhost:8080/"
        }
      },
      "source": [
        "import datetime\n",
        "a_document = {'name': 'Jane',\n",
        "              'age': 34,\n",
        "              'interests': ['Python', 'databases', 'statistics'],\n",
        "              'date_added': datetime.datetime.now()\n",
        "}\n",
        "db = client.my_data     #A\n",
        "collection = db.docs   #B\n",
        "result = collection.find_one()  #C\n",
        "db.list_collection_names()"
      ],
      "execution_count": 67,
      "outputs": [
        {
          "output_type": "execute_result",
          "data": {
            "text/plain": [
              "[]"
            ]
          },
          "metadata": {},
          "execution_count": 67
        }
      ]
    },
    {
      "cell_type": "code",
      "source": [
        "collection.insert_one(a_document)\n"
      ],
      "metadata": {
        "colab": {
          "base_uri": "https://localhost:8080/"
        },
        "id": "NQClxNNTxmTz",
        "outputId": "b184b85f-440f-4b7b-c9bc-757d6b160adc"
      },
      "execution_count": 81,
      "outputs": [
        {
          "output_type": "execute_result",
          "data": {
            "text/plain": [
              "InsertOneResult(ObjectId('66dfb43b90d33ea950f087e2'), acknowledged=True)"
            ]
          },
          "metadata": {},
          "execution_count": 81
        }
      ]
    },
    {
      "cell_type": "code",
      "metadata": {
        "id": "BDqFFwgo3A3l",
        "outputId": "cb62d6ab-6300-4bc5-d507-ef9a246a9686",
        "colab": {
          "base_uri": "https://localhost:8080/"
        }
      },
      "source": [
        "collection.find_one()    #A"
      ],
      "execution_count": 82,
      "outputs": [
        {
          "output_type": "execute_result",
          "data": {
            "text/plain": [
              "{'_id': ObjectId('66dfb43b90d33ea950f087e2'),\n",
              " 'name': 'Jane',\n",
              " 'age': 34,\n",
              " 'interests': ['Python', 'databases', 'statistics'],\n",
              " 'date_added': datetime.datetime(2024, 9, 10, 2, 51, 38, 287000)}"
            ]
          },
          "metadata": {},
          "execution_count": 82
        }
      ]
    },
    {
      "cell_type": "code",
      "metadata": {
        "id": "ZWKkXY103A3l",
        "outputId": "f28c99d8-c680-4f42-d040-35d411a767ef",
        "colab": {
          "base_uri": "https://localhost:8080/"
        }
      },
      "source": [
        "from bson.objectid import ObjectId\n",
        "collection.find_one({\"_id\":ObjectId('66dfb43b90d33ea950f087e2')})  #B"
      ],
      "execution_count": 83,
      "outputs": [
        {
          "output_type": "execute_result",
          "data": {
            "text/plain": [
              "{'_id': ObjectId('66dfb43b90d33ea950f087e2'),\n",
              " 'name': 'Jane',\n",
              " 'age': 34,\n",
              " 'interests': ['Python', 'databases', 'statistics'],\n",
              " 'date_added': datetime.datetime(2024, 9, 10, 2, 51, 38, 287000)}"
            ]
          },
          "metadata": {},
          "execution_count": 83
        }
      ]
    },
    {
      "cell_type": "code",
      "metadata": {
        "id": "rZgi0WtU3A3l",
        "outputId": "fca091fe-409e-4d26-c16c-04e932b4bae2",
        "colab": {
          "base_uri": "https://localhost:8080/"
        }
      },
      "source": [
        "collection.update_one({\"_id\":ObjectId('66dfb43b90d33ea950f087e2')}, {\"$set\": {\"name\":\"Ann\"}})       #C"
      ],
      "execution_count": 84,
      "outputs": [
        {
          "output_type": "execute_result",
          "data": {
            "text/plain": [
              "UpdateResult({'n': 1, 'electionId': ObjectId('7fffffff00000000000002b7'), 'opTime': {'ts': Timestamp(1725937089, 16), 't': 695}, 'nModified': 1, 'ok': 1.0, '$clusterTime': {'clusterTime': Timestamp(1725937089, 16), 'signature': {'hash': b'\\x85J\\x00\\xf7\\x0c\\x94\\xc57-O\\x80|\\xa9Z\\xea\\xa6\\x91\\xe4\\x18\\xe4', 'keyId': 7368510527980437523}}, 'operationTime': Timestamp(1725937089, 16), 'updatedExisting': True}, acknowledged=True)"
            ]
          },
          "metadata": {},
          "execution_count": 84
        }
      ]
    },
    {
      "cell_type": "code",
      "metadata": {
        "id": "u4573BhP3A3l",
        "outputId": "10313b85-1f2e-480f-ab69-d0273b466874",
        "colab": {
          "base_uri": "https://localhost:8080/"
        }
      },
      "source": [
        "collection.find_one({\"_id\":ObjectId('66dfb43b90d33ea950f087e2')})"
      ],
      "execution_count": 85,
      "outputs": [
        {
          "output_type": "execute_result",
          "data": {
            "text/plain": [
              "{'_id': ObjectId('66dfb43b90d33ea950f087e2'),\n",
              " 'name': 'Ann',\n",
              " 'age': 34,\n",
              " 'interests': ['Python', 'databases', 'statistics'],\n",
              " 'date_added': datetime.datetime(2024, 9, 10, 2, 51, 38, 287000)}"
            ]
          },
          "metadata": {},
          "execution_count": 85
        }
      ]
    },
    {
      "cell_type": "code",
      "metadata": {
        "id": "tgOuoGVd3A3m",
        "outputId": "20134964-a682-4765-b576-4fabfadffe1a",
        "colab": {
          "base_uri": "https://localhost:8080/"
        }
      },
      "source": [
        "collection.replace_one({\"_id\":ObjectId('66dfb43b90d33ea950f087e2')}, {\"name\":\"Maria\"})                 #D"
      ],
      "execution_count": 86,
      "outputs": [
        {
          "output_type": "execute_result",
          "data": {
            "text/plain": [
              "UpdateResult({'n': 1, 'electionId': ObjectId('7fffffff00000000000002b7'), 'opTime': {'ts': Timestamp(1725937094, 26), 't': 695}, 'nModified': 1, 'ok': 1.0, '$clusterTime': {'clusterTime': Timestamp(1725937094, 26), 'signature': {'hash': b'l\\x10\\xc0(g\\x03/&Z\\t\\xddq\\ts\\x8aQ/\\x9f`\\xac', 'keyId': 7368510527980437523}}, 'operationTime': Timestamp(1725937094, 26), 'updatedExisting': True}, acknowledged=True)"
            ]
          },
          "metadata": {},
          "execution_count": 86
        }
      ]
    },
    {
      "cell_type": "code",
      "metadata": {
        "id": "MS6fduWg3A3m",
        "outputId": "2a06df8b-d233-4764-9111-f41083a8e22b",
        "colab": {
          "base_uri": "https://localhost:8080/"
        }
      },
      "source": [
        "collection.find_one({\"_id\":ObjectId('66dfb43b90d33ea950f087e2')})"
      ],
      "execution_count": 87,
      "outputs": [
        {
          "output_type": "execute_result",
          "data": {
            "text/plain": [
              "{'_id': ObjectId('66dfb43b90d33ea950f087e2'), 'name': 'Maria'}"
            ]
          },
          "metadata": {},
          "execution_count": 87
        }
      ]
    },
    {
      "cell_type": "code",
      "metadata": {
        "id": "mR4ld8dy3A3m",
        "outputId": "f78ea70c-f9ab-41fb-b103-b6596d391dad",
        "colab": {
          "base_uri": "https://localhost:8080/"
        }
      },
      "source": [
        "collection.delete_one({\"_id\":ObjectId('66dfb43b90d33ea950f087e2')}) #E"
      ],
      "execution_count": 88,
      "outputs": [
        {
          "output_type": "execute_result",
          "data": {
            "text/plain": [
              "DeleteResult({'n': 1, 'electionId': ObjectId('7fffffff00000000000002b7'), 'opTime': {'ts': Timestamp(1725937103, 28), 't': 695}, 'ok': 1.0, '$clusterTime': {'clusterTime': Timestamp(1725937103, 29), 'signature': {'hash': b'}\\xcch\\xcbK\\xab\\x01\"^\\x08\\x0c\\xc5\\xf3\\xfb\\xb4\\x9f\\x05I\\xcew', 'keyId': 7368510527980437523}}, 'operationTime': Timestamp(1725937103, 28)}, acknowledged=True)"
            ]
          },
          "metadata": {},
          "execution_count": 88
        }
      ]
    },
    {
      "cell_type": "code",
      "metadata": {
        "id": "lbgUmf1E3A3m"
      },
      "source": [
        "collection.find_one()"
      ],
      "execution_count": 89,
      "outputs": []
    },
    {
      "cell_type": "code",
      "metadata": {
        "id": "SkkSli0j3A3m",
        "outputId": "ad8562ab-1183-438f-f315-7c34c0caf7e2",
        "colab": {
          "base_uri": "https://localhost:8080/"
        }
      },
      "source": [
        "db.list_collection_names()"
      ],
      "execution_count": 90,
      "outputs": [
        {
          "output_type": "execute_result",
          "data": {
            "text/plain": [
              "['docs']"
            ]
          },
          "metadata": {},
          "execution_count": 90
        }
      ]
    },
    {
      "cell_type": "code",
      "metadata": {
        "id": "lbMFRqdV3A3m",
        "outputId": "827e9397-3415-48af-853d-3c06886a10c8",
        "colab": {
          "base_uri": "https://localhost:8080/"
        }
      },
      "source": [
        "collection.drop()\n",
        "db.list_collection_names()"
      ],
      "execution_count": 91,
      "outputs": [
        {
          "output_type": "execute_result",
          "data": {
            "text/plain": [
              "[]"
            ]
          },
          "metadata": {},
          "execution_count": 91
        }
      ]
    },
    {
      "cell_type": "code",
      "source": [],
      "metadata": {
        "id": "aMBMVGcp1zZ5"
      },
      "execution_count": null,
      "outputs": []
    }
  ]
}