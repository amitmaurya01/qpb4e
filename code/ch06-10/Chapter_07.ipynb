{
  "nbformat": 4,
  "nbformat_minor": 0,
  "metadata": {
    "colab": {
      "provenance": [],
      "include_colab_link": true
    },
    "kernelspec": {
      "name": "python3",
      "display_name": "Python 3"
    },
    "language_info": {
      "name": "python"
    }
  },
  "cells": [
    {
      "cell_type": "markdown",
      "metadata": {
        "id": "view-in-github",
        "colab_type": "text"
      },
      "source": [
        "<a href=\"https://colab.research.google.com/github/nceder/qpb4e/blob/main/code/ch06-10/Chapter_07.ipynb\" target=\"_parent\"><img src=\"https://colab.research.google.com/assets/colab-badge.svg\" alt=\"Open In Colab\"/></a>"
      ]
    },
    {
      "cell_type": "markdown",
      "source": [
        "# 7.1 What is a dictionary?"
      ],
      "metadata": {
        "id": "g4SuseG8oEJz"
      }
    },
    {
      "cell_type": "code",
      "metadata": {
        "id": "bmrKckaI6KJM"
      },
      "source": [
        "x = []\n",
        "y = {}\n",
        "\n",
        "y[0] = 'Hello'\n",
        "y[1] = 'Goodbye'"
      ],
      "execution_count": null,
      "outputs": []
    },
    {
      "cell_type": "code",
      "metadata": {
        "id": "hpsN-liD6KJJ",
        "colab": {
          "base_uri": "https://localhost:8080/",
          "height": 211
        },
        "outputId": "34fb334d-da79-47d8-d566-ab4cff3fe21f"
      },
      "source": [
        "x[0] = 'Hello'"
      ],
      "execution_count": null,
      "outputs": [
        {
          "output_type": "error",
          "ename": "IndexError",
          "evalue": "list assignment index out of range",
          "traceback": [
            "\u001b[0;31m---------------------------------------------------------------------------\u001b[0m",
            "\u001b[0;31mIndexError\u001b[0m                                Traceback (most recent call last)",
            "\u001b[0;32m<ipython-input-1-ba4ef4c8f6ab>\u001b[0m in \u001b[0;36m<cell line: 3>\u001b[0;34m()\u001b[0m\n\u001b[1;32m      1\u001b[0m \u001b[0mx\u001b[0m \u001b[0;34m=\u001b[0m \u001b[0;34m[\u001b[0m\u001b[0;34m]\u001b[0m\u001b[0;34m\u001b[0m\u001b[0;34m\u001b[0m\u001b[0m\n\u001b[1;32m      2\u001b[0m \u001b[0my\u001b[0m \u001b[0;34m=\u001b[0m \u001b[0;34m{\u001b[0m\u001b[0;34m}\u001b[0m\u001b[0;34m\u001b[0m\u001b[0;34m\u001b[0m\u001b[0m\n\u001b[0;32m----> 3\u001b[0;31m \u001b[0mx\u001b[0m\u001b[0;34m[\u001b[0m\u001b[0;36m0\u001b[0m\u001b[0;34m]\u001b[0m \u001b[0;34m=\u001b[0m \u001b[0;34m'Hello'\u001b[0m\u001b[0;34m\u001b[0m\u001b[0;34m\u001b[0m\u001b[0m\n\u001b[0m",
            "\u001b[0;31mIndexError\u001b[0m: list assignment index out of range"
          ]
        }
      ]
    },
    {
      "cell_type": "code",
      "metadata": {
        "id": "g_psKVJV6KJN",
        "outputId": "7aa28480-8e50-4aa1-ec87-e84f0c015850",
        "colab": {
          "base_uri": "https://localhost:8080/"
        }
      },
      "source": [
        "print(y[0])\n",
        "print(y[1] + \", Friend.\")"
      ],
      "execution_count": null,
      "outputs": [
        {
          "output_type": "stream",
          "name": "stdout",
          "text": [
            "Hello\n",
            "Goodbye, Friend.\n"
          ]
        }
      ]
    },
    {
      "cell_type": "code",
      "metadata": {
        "id": "gvduM_-P6KJO",
        "outputId": "dbec67d1-1d1f-4ee3-b129-db013e8651e8",
        "colab": {
          "base_uri": "https://localhost:8080/"
        }
      },
      "source": [
        "y['greeting'] = \"Bon jour\"\n",
        "y['farewell'] = \"Adios\"\n",
        "print(y['greeting'])\n",
        "print(y['farewell'] + \", Friend.\")"
      ],
      "execution_count": null,
      "outputs": [
        {
          "output_type": "stream",
          "name": "stdout",
          "text": [
            "Bon jour\n",
            "Adios, Friend.\n"
          ]
        }
      ]
    },
    {
      "cell_type": "code",
      "metadata": {
        "id": "xO12xRBQ6KJP",
        "outputId": "52d49f8f-2725-4e0f-df3a-f9a0ad4be624"
      },
      "source": [
        "english_to_french = {}                     #A\n",
        "english_to_french['red'] = 'rouge'         #B\n",
        "english_to_french['blue'] = 'bleu'\n",
        "english_to_french['green'] = 'vert'\n",
        "print(\"red is\", english_to_french['red'])  C  #C"
      ],
      "execution_count": null,
      "outputs": [
        {
          "output_type": "stream",
          "name": "stdout",
          "text": [
            "red is rouge\n"
          ]
        }
      ]
    },
    {
      "cell_type": "code",
      "metadata": {
        "id": "6cf2cmDZ6KJQ",
        "outputId": "3ded2bc7-6e7c-4944-99b1-973dd468983f"
      },
      "source": [
        "english_to_french = {'red': 'rouge', 'blue': 'bleu', 'green': 'vert'}"
      ],
      "execution_count": null,
      "outputs": [
        {
          "output_type": "stream",
          "name": "stdout",
          "text": []
        }
      ]
    },
    {
      "cell_type": "markdown",
      "source": [
        "### Try This: Create a dictionary\n",
        "Write the code to ask the user for three names and three ages. After the names and ages are entered, ask the user for one of the names, and print the correct age."
      ],
      "metadata": {
        "id": "t2tt7_v7osBs"
      }
    },
    {
      "cell_type": "code",
      "source": [],
      "metadata": {
        "id": "ycW-HMazovLe"
      },
      "execution_count": null,
      "outputs": []
    },
    {
      "cell_type": "code",
      "source": [
        "name_age = {}\n",
        "for i in range(3):\n",
        "    name = input(\"Name? \")\n",
        "    age = int(input(\"Age? \"))\n",
        "    name_age[name] = age\n",
        "\n",
        "name_choice = input(\"Name to find? \")\n",
        "print(name_age[name_choice])"
      ],
      "metadata": {
        "id": "6fOdLeJhovPO"
      },
      "execution_count": null,
      "outputs": []
    },
    {
      "cell_type": "markdown",
      "source": [
        "# 7.2 Other dictionary operations"
      ],
      "metadata": {
        "id": "0fr2fNTbovtq"
      }
    },
    {
      "cell_type": "code",
      "metadata": {
        "id": "c-1FPauo6KJQ",
        "outputId": "3d0acd36-aa1c-4c3a-f903-8fef317a530a"
      },
      "source": [
        "len(english_to_french)"
      ],
      "execution_count": null,
      "outputs": [
        {
          "output_type": "stream",
          "name": "stdout",
          "text": [
            "3\n"
          ]
        }
      ]
    },
    {
      "cell_type": "code",
      "metadata": {
        "id": "uCvTsCL96KJR",
        "outputId": "b1f4eac2-8ad3-4992-f212-ae056fbdbe3d"
      },
      "source": [
        "list(english_to_french.keys())"
      ],
      "execution_count": null,
      "outputs": [
        {
          "output_type": "stream",
          "name": "stdout",
          "text": [
            "['green', 'blue', 'red']\n"
          ]
        }
      ]
    },
    {
      "cell_type": "code",
      "metadata": {
        "id": "It2SBpN96KJR",
        "outputId": "3dcd70ff-648e-4007-c566-990dd6c811ef"
      },
      "source": [
        "list(english_to_french.values())"
      ],
      "execution_count": null,
      "outputs": [
        {
          "output_type": "stream",
          "name": "stdout",
          "text": [
            " ['vert', 'bleu', 'rouge']\n"
          ]
        }
      ]
    },
    {
      "cell_type": "code",
      "metadata": {
        "id": "E35zaejy6KJS",
        "outputId": "318483fb-e2fe-41dd-a28a-34b4c60a4c99"
      },
      "source": [
        "list(english_to_french.items())"
      ],
      "execution_count": null,
      "outputs": [
        {
          "output_type": "stream",
          "name": "stdout",
          "text": [
            "[('green', 'vert'), ('blue', 'bleu'), ('red', 'rouge')]\n"
          ]
        }
      ]
    },
    {
      "cell_type": "code",
      "metadata": {
        "id": "XGfYnTUo6KJS",
        "outputId": "df9f5e21-81e2-40fc-d747-5cf1ed822965"
      },
      "source": [
        "list(english_to_french.items())"
      ],
      "execution_count": null,
      "outputs": [
        {
          "output_type": "stream",
          "name": "stdout",
          "text": [
            "[('green', 'vert'), ('blue', 'bleu'), ('red', 'rouge')]\n"
          ]
        }
      ]
    },
    {
      "cell_type": "code",
      "metadata": {
        "id": "WCfDhoUk6KJS",
        "outputId": "60b3f12f-b32d-4feb-b9a0-9d9d6862aa63"
      },
      "source": [
        "del english_to_french['green']\n",
        "list(english_to_french.items())"
      ],
      "execution_count": null,
      "outputs": [
        {
          "output_type": "stream",
          "name": "stdout",
          "text": [
            " [('blue', 'bleu'), ('red', 'rouge')]\n"
          ]
        }
      ]
    },
    {
      "cell_type": "code",
      "metadata": {
        "id": "2LCf5kiE6KJS",
        "outputId": "ed12ba0c-d5a4-4f91-dad9-a7f0e2a07ade"
      },
      "source": [
        "'red' in english_to_french"
      ],
      "execution_count": null,
      "outputs": [
        {
          "output_type": "stream",
          "name": "stdout",
          "text": [
            "True\n"
          ]
        }
      ]
    },
    {
      "cell_type": "code",
      "metadata": {
        "id": "oljR9PR_6KJS",
        "outputId": "b751816e-359e-47cf-bfcd-c837bb4c3361"
      },
      "source": [
        "'orange' in english_to_french"
      ],
      "execution_count": null,
      "outputs": [
        {
          "output_type": "stream",
          "name": "stdout",
          "text": [
            "False\n"
          ]
        }
      ]
    },
    {
      "cell_type": "code",
      "metadata": {
        "id": "yWzbV_Uc6KJS",
        "outputId": "63e57f1a-9d16-4adf-966f-26328b3a5321"
      },
      "source": [
        "print(english_to_french.get('blue', 'No translation'))"
      ],
      "execution_count": null,
      "outputs": [
        {
          "output_type": "stream",
          "name": "stdout",
          "text": [
            "bleu\n"
          ]
        }
      ]
    },
    {
      "cell_type": "code",
      "metadata": {
        "id": "1kmbaDvc6KJT",
        "outputId": "d1543a57-303a-4171-ee3e-6416b2df53b2"
      },
      "source": [
        "print(english_to_french.get('chartreuse', 'No translation'))"
      ],
      "execution_count": null,
      "outputs": [
        {
          "output_type": "stream",
          "name": "stdout",
          "text": [
            "No translation\n"
          ]
        }
      ]
    },
    {
      "cell_type": "code",
      "metadata": {
        "id": "CnYJFDmE6KJT",
        "outputId": "b3318cde-a596-4da6-b5e2-037a2e82fd72"
      },
      "source": [
        "print(english_to_french.setdefault('chartreuse', 'No translation'))"
      ],
      "execution_count": null,
      "outputs": [
        {
          "output_type": "stream",
          "name": "stdout",
          "text": [
            "No translation\n"
          ]
        }
      ]
    },
    {
      "cell_type": "code",
      "metadata": {
        "id": "sXjgWlMP6KJT",
        "outputId": "a695e807-a7cf-4bd5-9d8a-72c9d2c77b7c"
      },
      "source": [
        "x = {0: 'zero', 1: 'one'}\n",
        "y = x.copy()\n",
        "y"
      ],
      "execution_count": null,
      "outputs": [
        {
          "output_type": "stream",
          "name": "stdout",
          "text": [
            "{0: 'zero', 1: 'one'}\n"
          ]
        }
      ]
    },
    {
      "cell_type": "code",
      "metadata": {
        "id": "iSzTNJmW6KJT",
        "outputId": "dffc8bb2-526b-46cc-cdf6-3de9b879d027"
      },
      "source": [
        "z = {1: 'One', 2: 'Two'}\n",
        "x = {0: 'zero', 1: 'one'}\n",
        "x.update(z)\n",
        "x"
      ],
      "execution_count": null,
      "outputs": [
        {
          "output_type": "stream",
          "name": "stdout",
          "text": [
            "{0: 'zero', 1: 'One', 2: 'Two'}\n"
          ]
        }
      ]
    },
    {
      "cell_type": "markdown",
      "source": [
        "### Quick Check: Dictionary operations\n",
        "Assume that you have a dictionary `x = {'a':1, 'b':2, 'c':3, 'd':4}` and a dictionary `y = {'a':6, 'e':5, 'f':6}`. What would be the contents of x after the following snippets of code have executed?:\n",
        "```\n",
        "del x['d']\n",
        "z = x.setdefault('g', 7)\n",
        "x.update(y)\n",
        "```"
      ],
      "metadata": {
        "id": "Psd33Kq3prFw"
      }
    },
    {
      "cell_type": "code",
      "source": [],
      "metadata": {
        "id": "rjRTMlN2psDu"
      },
      "execution_count": null,
      "outputs": []
    },
    {
      "cell_type": "code",
      "source": [
        "x = {'a':1, 'b':2, 'c':3, 'd':4}\n",
        "y = {'a':6, 'e':5, 'f':6}\n",
        "\n",
        "del x['d']\n",
        "print(x)"
      ],
      "metadata": {
        "id": "U8xK65YipsNB",
        "outputId": "d4729d43-1201-47d9-b0cb-618fbb74d08a",
        "colab": {
          "base_uri": "https://localhost:8080/"
        }
      },
      "execution_count": 5,
      "outputs": [
        {
          "output_type": "stream",
          "name": "stdout",
          "text": [
            "{'a': 1, 'b': 2, 'c': 3}\n"
          ]
        }
      ]
    },
    {
      "cell_type": "code",
      "source": [
        "z = x.setdefault('g', 7)\n",
        "print(x)"
      ],
      "metadata": {
        "id": "lHbk4eMUqYP6",
        "outputId": "3ba3b6f8-d500-46fb-ebf3-64576b62320b",
        "colab": {
          "base_uri": "https://localhost:8080/"
        }
      },
      "execution_count": 6,
      "outputs": [
        {
          "output_type": "stream",
          "name": "stdout",
          "text": [
            "{'a': 1, 'b': 2, 'c': 3, 'g': 7}\n"
          ]
        }
      ]
    },
    {
      "cell_type": "code",
      "source": [
        "x.update(y)\n",
        "print(x)"
      ],
      "metadata": {
        "id": "KVr06rMtqfoP",
        "outputId": "d61da478-0074-4c5e-e0f1-f3370dd03a71",
        "colab": {
          "base_uri": "https://localhost:8080/"
        }
      },
      "execution_count": 7,
      "outputs": [
        {
          "output_type": "stream",
          "name": "stdout",
          "text": [
            "{'a': 6, 'b': 2, 'c': 3, 'g': 7, 'e': 5, 'f': 6}\n"
          ]
        }
      ]
    },
    {
      "cell_type": "markdown",
      "source": [
        "# 7.3 Word Counting"
      ],
      "metadata": {
        "id": "JfDXqsJupsVe"
      }
    },
    {
      "cell_type": "code",
      "metadata": {
        "id": "GCnzYevE6KJT",
        "outputId": "d69050c2-5250-4387-9a37-00efe2e5e2d4"
      },
      "source": [
        "sample_string = \"To be or not to be\"\n",
        "occurrences = {}\n",
        "for word in sample_string.split():\n",
        "    occurrences[word] = occurrences.get(word, 0) + 1    #A\n",
        "\n",
        "for word in occurrences:\n",
        "    print(\"The word\", word, \"occurs\", occurrences[word],\n",
        "           \"times in the string\")"
      ],
      "execution_count": null,
      "outputs": [
        {
          "output_type": "stream",
          "name": "stdout",
          "text": [
            "The word To occurs 1 times in the string\n",
            "The word be occurs 2 times in the string\n",
            "The word or occurs 1 times in the string\n",
            "The word not occurs 1 times in the string\n",
            "The word to occurs 1 times in the string\n"
          ]
        }
      ]
    },
    {
      "cell_type": "markdown",
      "source": [
        "# 7.4 What can be used as a key?"
      ],
      "metadata": {
        "id": "8b_70pDJrLc6"
      }
    },
    {
      "cell_type": "markdown",
      "source": [
        "### Quick Check: What can be a key?\n",
        "Decide which of the following expressions can be a dictionary key:\n",
        "\n",
        "`1; 'bob'; ('tom', [1, 2, 3]); [\"filename\"]; \"filename\"; (\"filename\",  \"extension\") `\n"
      ],
      "metadata": {
        "id": "eeT9ZfoWrQJt"
      }
    },
    {
      "cell_type": "markdown",
      "source": [
        "# 7.5 Sparse matrices"
      ],
      "metadata": {
        "id": "lRHXpWZbrkJC"
      }
    },
    {
      "cell_type": "code",
      "source": [
        "matrix = [[3, 0, -2, 11], [0, 9, 0, 0], [0, 7, 0, 0], [0, 0, 0, -5]]\n",
        "element = matrix[rownum][colnum]"
      ],
      "metadata": {
        "id": "ZkJGYvae7OEZ"
      },
      "execution_count": null,
      "outputs": []
    },
    {
      "cell_type": "code",
      "source": [
        "matrix = {(0, 0): 3, (0, 2): -2, (0, 3): 11,\n",
        "          (1, 1): 9, (2, 1): 7, (3, 3): -5}\n",
        "if (rownum, colnum) in matrix:\n",
        "    element = matrix[(rownum, colnum)]\n",
        "else:\n",
        "    element = 0\n",
        "element = matrix.get((rownum, colnum), 0)"
      ],
      "metadata": {
        "id": "TsXU00Ev7d0D"
      },
      "execution_count": null,
      "outputs": []
    },
    {
      "cell_type": "code",
      "source": [
        "matrix = {(0, 0): 3, (0, 2): -2, (0, 3): 11,\n",
        "          (1, 1): 9, (2, 1): 7, (3, 3): -5}\n",
        "if (rownum, colnum) in matrix:\n",
        "    element = matrix[(rownum, colnum)]\n",
        "else:\n",
        "    element = 0\n",
        "element = matrix.get((rownum, colnum), 0)"
      ],
      "metadata": {
        "id": "GxVQ681Q7hGY"
      },
      "execution_count": null,
      "outputs": []
    },
    {
      "cell_type": "markdown",
      "source": [
        "# 7.6 Dictionaries as caches"
      ],
      "metadata": {
        "id": "GQHOlmlirtnm"
      }
    },
    {
      "cell_type": "markdown",
      "source": [
        "### Try This: Using dictionaries\n",
        "Suppose that you're writing a program that works like a spreadsheet. How might you use a dictionary to store the contents of a sheet? Write some sample code to both store a value and retrieve a value in a particular cell. What might be some drawbacks to this approach?\n"
      ],
      "metadata": {
        "id": "GwzD0VPMr3Rg"
      }
    },
    {
      "cell_type": "code",
      "source": [],
      "metadata": {
        "id": "j6F1x_g-ry2j"
      },
      "execution_count": null,
      "outputs": []
    }
  ]
}