{
  "nbformat": 4,
  "nbformat_minor": 0,
  "metadata": {
    "colab": {
      "provenance": [],
      "include_colab_link": true
    },
    "kernelspec": {
      "name": "python3",
      "display_name": "Python 3"
    },
    "language_info": {
      "name": "python"
    }
  },
  "cells": [
    {
      "cell_type": "markdown",
      "metadata": {
        "id": "view-in-github",
        "colab_type": "text"
      },
      "source": [
        "<a href=\"https://colab.research.google.com/github/nceder/qpb4e/blob/main/code/ch06-10/Chapter_08.ipynb\" target=\"_parent\"><img src=\"https://colab.research.google.com/assets/colab-badge.svg\" alt=\"Open In Colab\"/></a>"
      ]
    },
    {
      "cell_type": "code",
      "metadata": {
        "id": "Kzu2rpFZm6fN",
        "colab": {
          "base_uri": "https://localhost:8080/"
        },
        "outputId": "e741d101-8b97-49d2-9344-3aaa32d11ae3"
      },
      "source": [
        "list(range(3, 7))        #A"
      ],
      "execution_count": 1,
      "outputs": [
        {
          "output_type": "execute_result",
          "data": {
            "text/plain": [
              "[3, 4, 5, 6]"
            ]
          },
          "metadata": {},
          "execution_count": 1
        }
      ]
    },
    {
      "cell_type": "code",
      "metadata": {
        "id": "HzEE-ZO0m6fR",
        "colab": {
          "base_uri": "https://localhost:8080/"
        },
        "outputId": "c10f8e69-0fce-432d-cf39-c2d617bb2944"
      },
      "source": [
        "list(range(2, 10))       #A"
      ],
      "execution_count": 2,
      "outputs": [
        {
          "output_type": "execute_result",
          "data": {
            "text/plain": [
              "[2, 3, 4, 5, 6, 7, 8, 9]"
            ]
          },
          "metadata": {},
          "execution_count": 2
        }
      ]
    },
    {
      "cell_type": "code",
      "metadata": {
        "id": "J7JSxvtJm6fR",
        "colab": {
          "base_uri": "https://localhost:8080/"
        },
        "outputId": "ba6bab05-0220-45c9-ddc9-845745aeee7a"
      },
      "source": [
        "list(range(5, 3))"
      ],
      "execution_count": 3,
      "outputs": [
        {
          "output_type": "execute_result",
          "data": {
            "text/plain": [
              "[]"
            ]
          },
          "metadata": {},
          "execution_count": 3
        }
      ]
    },
    {
      "cell_type": "code",
      "metadata": {
        "id": "MWBzkiyUm6fS",
        "colab": {
          "base_uri": "https://localhost:8080/"
        },
        "outputId": "4ee0e2a1-25c8-4b37-c93b-ea38971bae83"
      },
      "source": [
        "list(range(0, 10, 2))"
      ],
      "execution_count": 4,
      "outputs": [
        {
          "output_type": "execute_result",
          "data": {
            "text/plain": [
              "[0, 2, 4, 6, 8]"
            ]
          },
          "metadata": {},
          "execution_count": 4
        }
      ]
    },
    {
      "cell_type": "code",
      "metadata": {
        "id": "kk0REzCRm6fS",
        "colab": {
          "base_uri": "https://localhost:8080/"
        },
        "outputId": "9c648229-804e-42be-9c24-67f87946f211"
      },
      "source": [
        "list(range(5, 0, -1))"
      ],
      "execution_count": 5,
      "outputs": [
        {
          "output_type": "execute_result",
          "data": {
            "text/plain": [
              "[5, 4, 3, 2, 1]"
            ]
          },
          "metadata": {},
          "execution_count": 5
        }
      ]
    },
    {
      "cell_type": "code",
      "metadata": {
        "id": "H4a_aQTym6fT"
      },
      "source": [
        "somelist = [(1, 2), (3, 7), (9, 5)]\n",
        "result = 0\n",
        "for t in somelist:\n",
        "    result = result + (t[0] * t[1])"
      ],
      "execution_count": 6,
      "outputs": []
    },
    {
      "cell_type": "code",
      "metadata": {
        "id": "sqddire9m6fT"
      },
      "source": [
        "somelist = [(1, 2), (3, 7), (9, 5)]\n",
        "result = 0\n",
        "\n",
        "for x, y in somelist:\n",
        "    result = result + (x * y)"
      ],
      "execution_count": 7,
      "outputs": []
    },
    {
      "cell_type": "code",
      "metadata": {
        "id": "JHSRaLW0m6fU",
        "colab": {
          "base_uri": "https://localhost:8080/"
        },
        "outputId": "c2ec65d4-3aee-4133-c951-cefb3dc36b02"
      },
      "source": [
        "x = [1, 3, -7, 4, 9, -5, 4]\n",
        "for i, n in enumerate(x):             #A\n",
        "    if n < 0:                                #B\n",
        "        print(\"Found a negative number at index \", i)   #C"
      ],
      "execution_count": 8,
      "outputs": [
        {
          "output_type": "stream",
          "name": "stdout",
          "text": [
            "Found a negative number at index  2\n",
            "Found a negative number at index  5\n"
          ]
        }
      ]
    },
    {
      "cell_type": "code",
      "metadata": {
        "id": "t-BEQb51m6fV",
        "colab": {
          "base_uri": "https://localhost:8080/"
        },
        "outputId": "2f7b85d6-5794-4389-f8f6-989ee1f2eae8"
      },
      "source": [
        "x = [1, 2, 3, 4]\n",
        "y = ['a', 'b', 'c']         #A\n",
        "z = zip(x, y)\n",
        "list(z)"
      ],
      "execution_count": 9,
      "outputs": [
        {
          "output_type": "execute_result",
          "data": {
            "text/plain": [
              "[(1, 'a'), (2, 'b'), (3, 'c')]"
            ]
          },
          "metadata": {},
          "execution_count": 9
        }
      ]
    },
    {
      "cell_type": "code",
      "metadata": {
        "id": "X0-wREDbm6fV",
        "colab": {
          "base_uri": "https://localhost:8080/"
        },
        "outputId": "5f466beb-5216-4bcd-c129-edea8f7a9df2"
      },
      "source": [
        "x = [1, 2, 3, 4]\n",
        "x_squared = []\n",
        "for item in x:\n",
        "    x_squared.append(item * item)\n",
        "\n",
        "x_squared"
      ],
      "execution_count": 10,
      "outputs": [
        {
          "output_type": "execute_result",
          "data": {
            "text/plain": [
              "[1, 4, 9, 16]"
            ]
          },
          "metadata": {},
          "execution_count": 10
        }
      ]
    },
    {
      "cell_type": "code",
      "metadata": {
        "id": "tHjNpfvpm6fW",
        "colab": {
          "base_uri": "https://localhost:8080/"
        },
        "outputId": "7f7eda39-01a9-4d97-f5e1-9f61b8889de2"
      },
      "source": [
        "x = [1, 2, 3, 4]\n",
        "x_squared = [item * item for item in x]\n",
        "x_squared"
      ],
      "execution_count": 11,
      "outputs": [
        {
          "output_type": "execute_result",
          "data": {
            "text/plain": [
              "[1, 4, 9, 16]"
            ]
          },
          "metadata": {},
          "execution_count": 11
        }
      ]
    },
    {
      "cell_type": "code",
      "metadata": {
        "id": "yxTeBv8jm6fW"
      },
      "source": [
        "x = [1, 2, 3, 4]\n",
        "x_squared = [item * item for item in x if item > 2]"
      ],
      "execution_count": 12,
      "outputs": []
    },
    {
      "cell_type": "code",
      "metadata": {
        "id": "4ceEO1otm6fW",
        "colab": {
          "base_uri": "https://localhost:8080/"
        },
        "outputId": "c6853f47-de39-4e8a-b145-c8899fbaefbd"
      },
      "source": [
        "x_squared"
      ],
      "execution_count": 13,
      "outputs": [
        {
          "output_type": "execute_result",
          "data": {
            "text/plain": [
              "[9, 16]"
            ]
          },
          "metadata": {},
          "execution_count": 13
        }
      ]
    },
    {
      "cell_type": "code",
      "metadata": {
        "id": "lddRmrZ6m6fW",
        "colab": {
          "base_uri": "https://localhost:8080/"
        },
        "outputId": "99db2ebf-ab59-4b1b-b0e9-847839388501"
      },
      "source": [
        "x = [1, 2, 3, 4]\n",
        "x_squared_dict = {item: item * item for item in x}\n",
        "x_squared_dict"
      ],
      "execution_count": 14,
      "outputs": [
        {
          "output_type": "execute_result",
          "data": {
            "text/plain": [
              "{1: 1, 2: 4, 3: 9, 4: 16}"
            ]
          },
          "metadata": {},
          "execution_count": 14
        }
      ]
    },
    {
      "cell_type": "code",
      "metadata": {
        "id": "ZVZnoxljm6fX",
        "colab": {
          "base_uri": "https://localhost:8080/"
        },
        "outputId": "6d05982b-9a2c-4ab9-98ad-b5211c2d14f4"
      },
      "source": [
        "x = [1, 2, 3, 4]\n",
        "x_squared = (item * item for item in x)\n",
        "x_squared"
      ],
      "execution_count": 15,
      "outputs": [
        {
          "output_type": "execute_result",
          "data": {
            "text/plain": [
              "<generator object <genexpr> at 0x7f91d23aa960>"
            ]
          },
          "metadata": {},
          "execution_count": 15
        }
      ]
    },
    {
      "cell_type": "code",
      "metadata": {
        "id": "EiameIGBm6fX",
        "colab": {
          "base_uri": "https://localhost:8080/"
        },
        "outputId": "014c71c7-f13a-41ae-88ad-25834f73baee"
      },
      "source": [
        "for square in x_squared:\n",
        "    print(square,)\n"
      ],
      "execution_count": 16,
      "outputs": [
        {
          "output_type": "stream",
          "name": "stdout",
          "text": [
            "1\n",
            "4\n",
            "9\n",
            "16\n"
          ]
        }
      ]
    },
    {
      "cell_type": "code",
      "metadata": {
        "id": "ka_4uqLUm6fX",
        "colab": {
          "base_uri": "https://localhost:8080/"
        },
        "outputId": "aee58d3d-0601-484f-e3dd-31172e55226b"
      },
      "source": [
        "x = 1; y = 0; z = 0\n",
        "if x > 0: y = 1; z = 10\n",
        "else: y = -1\n",
        "\n",
        "print(x, y, z)"
      ],
      "execution_count": 17,
      "outputs": [
        {
          "output_type": "stream",
          "name": "stdout",
          "text": [
            "1 1 10\n"
          ]
        }
      ]
    },
    {
      "cell_type": "code",
      "metadata": {
        "id": "mStGpWhbm6fX",
        "colab": {
          "base_uri": "https://localhost:8080/",
          "height": 141
        },
        "outputId": "ff8a7d03-2698-4388-fea8-39cec7cb4c86"
      },
      "source": [
        "x = 1\n",
        " x = 2"
      ],
      "execution_count": 21,
      "outputs": [
        {
          "output_type": "error",
          "ename": "IndentationError",
          "evalue": "unexpected indent (<ipython-input-21-c75cba843d9b>, line 2)",
          "traceback": [
            "\u001b[0;36m  File \u001b[0;32m\"<ipython-input-21-c75cba843d9b>\"\u001b[0;36m, line \u001b[0;32m2\u001b[0m\n\u001b[0;31m    x = 2\u001b[0m\n\u001b[0m    ^\u001b[0m\n\u001b[0;31mIndentationError\u001b[0m\u001b[0;31m:\u001b[0m unexpected indent\n"
          ]
        }
      ]
    },
    {
      "cell_type": "code",
      "metadata": {
        "id": "MZqrwUArm6fX"
      },
      "source": [
        ">>> x = 1\n",
        "... if x == 1:\n",
        "...    y = 2\n",
        "...    if y > 0:\n",
        "...        z = 2\n",
        "...        v = 0\n",
        "...\n",
        ">>> x = 2"
      ],
      "execution_count": 26,
      "outputs": []
    },
    {
      "cell_type": "code",
      "metadata": {
        "id": "lzMPhBVDm6fX",
        "colab": {
          "base_uri": "https://localhost:8080/",
          "height": 141
        },
        "outputId": "dcefac27-c69b-4b14-a14a-f6ea8e29b403"
      },
      "source": [
        "x = 1\n",
        "if x == 1:\n",
        "    y = 2\n",
        "  z = 2"
      ],
      "execution_count": 25,
      "outputs": [
        {
          "output_type": "error",
          "ename": "IndentationError",
          "evalue": "unindent does not match any outer indentation level (<tokenize>, line 4)",
          "traceback": [
            "\u001b[0;36m  File \u001b[0;32m\"<tokenize>\"\u001b[0;36m, line \u001b[0;32m4\u001b[0m\n\u001b[0;31m    z = 2\u001b[0m\n\u001b[0m    ^\u001b[0m\n\u001b[0;31mIndentationError\u001b[0m\u001b[0;31m:\u001b[0m unindent does not match any outer indentation level\n"
          ]
        }
      ]
    },
    {
      "cell_type": "code",
      "metadata": {
        "id": "qvwJnd-am6fY",
        "colab": {
          "base_uri": "https://localhost:8080/"
        },
        "outputId": "654bd260-a8a9-4f1f-9f47-5f2e5d5b8460"
      },
      "source": [
        "print('string1', 'string2', 'string3' \\\n",
        "   , 'string4', 'string5')"
      ],
      "execution_count": 27,
      "outputs": [
        {
          "output_type": "stream",
          "name": "stdout",
          "text": [
            "string1 string2 string3 string4 string5\n"
          ]
        }
      ]
    },
    {
      "cell_type": "code",
      "metadata": {
        "id": "u-3HvGoAm6fY",
        "colab": {
          "base_uri": "https://localhost:8080/"
        },
        "outputId": "6e4200d2-87e6-4480-f28b-bf3650ef5239"
      },
      "source": [
        "x = 100 + 200 + 300 \\\n",
        "   + 400 + 500\n",
        "x"
      ],
      "execution_count": 28,
      "outputs": [
        {
          "output_type": "execute_result",
          "data": {
            "text/plain": [
              "1500"
            ]
          },
          "metadata": {},
          "execution_count": 28
        }
      ]
    },
    {
      "cell_type": "code",
      "metadata": {
        "id": "hai-minvm6fY",
        "colab": {
          "base_uri": "https://localhost:8080/"
        },
        "outputId": "d8269211-c0ba-4aa9-85d6-88f93ff38ff8"
      },
      "source": [
        "v = [100, 300, 500, 700, 900,\n",
        "   1100, 1300]\n",
        "v"
      ],
      "execution_count": 29,
      "outputs": [
        {
          "output_type": "execute_result",
          "data": {
            "text/plain": [
              "[100, 300, 500, 700, 900, 1100, 1300]"
            ]
          },
          "metadata": {},
          "execution_count": 29
        }
      ]
    },
    {
      "cell_type": "code",
      "metadata": {
        "id": "o_AdsDLom6fY",
        "colab": {
          "base_uri": "https://localhost:8080/"
        },
        "outputId": "9d5b519c-6844-44eb-8c1f-c41f35e24f44"
      },
      "source": [
        "max(1000, 300, 500,\n",
        "       800, 1200)"
      ],
      "execution_count": 30,
      "outputs": [
        {
          "output_type": "execute_result",
          "data": {
            "text/plain": [
              "1200"
            ]
          },
          "metadata": {},
          "execution_count": 30
        }
      ]
    },
    {
      "cell_type": "code",
      "metadata": {
        "id": "NNSyC8Sym6fY",
        "colab": {
          "base_uri": "https://localhost:8080/"
        },
        "outputId": "506c747a-d377-4e9f-a76d-491aad85f744"
      },
      "source": [
        "x = (100 + 200 + 300\n",
        "         + 400 + 500)\n",
        "x"
      ],
      "execution_count": 31,
      "outputs": [
        {
          "output_type": "execute_result",
          "data": {
            "text/plain": [
              "1500"
            ]
          },
          "metadata": {},
          "execution_count": 31
        }
      ]
    },
    {
      "cell_type": "code",
      "metadata": {
        "id": "DJGrWtgnm6fY",
        "colab": {
          "base_uri": "https://localhost:8080/",
          "height": 35
        },
        "outputId": "a9ef1ae7-cba8-44a3-c6dd-02d1aaadb23b"
      },
      "source": [
        "\"strings separated by whitespace \"    \\\n",
        "   '''are automatically'''  ' concatenated'"
      ],
      "execution_count": 32,
      "outputs": [
        {
          "output_type": "execute_result",
          "data": {
            "text/plain": [
              "'strings separated by whitespace are automatically concatenated'"
            ],
            "application/vnd.google.colaboratory.intrinsic+json": {
              "type": "string"
            }
          },
          "metadata": {},
          "execution_count": 32
        }
      ]
    },
    {
      "cell_type": "code",
      "metadata": {
        "id": "FtbGXPa5m6fZ",
        "colab": {
          "base_uri": "https://localhost:8080/",
          "height": 35
        },
        "outputId": "84c80d68-6753-456e-8248-d96583549702"
      },
      "source": [
        "x = 1\n",
        "if x > 0:\n",
        "       string1 = \"this string broken by a backslash will end up \\\n",
        "               with the indentation tabs in it\"\n",
        "\n",
        "repr(string1)"
      ],
      "execution_count": 34,
      "outputs": [
        {
          "output_type": "execute_result",
          "data": {
            "text/plain": [
              "\"'this string broken by a backslash will end up                with the indentation tabs in it'\""
            ],
            "application/vnd.google.colaboratory.intrinsic+json": {
              "type": "string"
            }
          },
          "metadata": {},
          "execution_count": 34
        }
      ]
    },
    {
      "cell_type": "code",
      "metadata": {
        "id": "a-9g4vDCm6fZ",
        "colab": {
          "base_uri": "https://localhost:8080/",
          "height": 35
        },
        "outputId": "3dad34dd-74af-4caa-f9dc-12978258ef6c"
      },
      "source": [
        "if x > 0:\n",
        "       string1 = \"this can be easily avoided by splitting the \" \\\n",
        "           \"string in this way\"\n",
        "\n",
        "string1"
      ],
      "execution_count": 37,
      "outputs": [
        {
          "output_type": "execute_result",
          "data": {
            "text/plain": [
              "'this can be easily avoided by splitting the string in this way'"
            ],
            "application/vnd.google.colaboratory.intrinsic+json": {
              "type": "string"
            }
          },
          "metadata": {},
          "execution_count": 37
        }
      ]
    },
    {
      "cell_type": "code",
      "metadata": {
        "id": "3cWdPZr0m6fZ",
        "colab": {
          "base_uri": "https://localhost:8080/"
        },
        "outputId": "e877cc17-75fb-4070-9a0e-5a150ab3eacb"
      },
      "source": [
        "[2] and [3, 4]"
      ],
      "execution_count": 38,
      "outputs": [
        {
          "output_type": "execute_result",
          "data": {
            "text/plain": [
              "[3, 4]"
            ]
          },
          "metadata": {},
          "execution_count": 38
        }
      ]
    },
    {
      "cell_type": "code",
      "metadata": {
        "id": "xzTfYgB3m6fa",
        "colab": {
          "base_uri": "https://localhost:8080/"
        },
        "outputId": "95208b78-ebc8-4cf4-9d0a-7cda2d84d82d"
      },
      "source": [
        "[] and 5"
      ],
      "execution_count": 39,
      "outputs": [
        {
          "output_type": "execute_result",
          "data": {
            "text/plain": [
              "[]"
            ]
          },
          "metadata": {},
          "execution_count": 39
        }
      ]
    },
    {
      "cell_type": "code",
      "metadata": {
        "id": "L8BhDIJvm6fa",
        "colab": {
          "base_uri": "https://localhost:8080/"
        },
        "outputId": "718faf9a-e538-460f-bc8f-e3ab617b9340"
      },
      "source": [
        "[2] or [3, 4]"
      ],
      "execution_count": 40,
      "outputs": [
        {
          "output_type": "execute_result",
          "data": {
            "text/plain": [
              "[2]"
            ]
          },
          "metadata": {},
          "execution_count": 40
        }
      ]
    },
    {
      "cell_type": "code",
      "metadata": {
        "id": "AvI60GFLm6fa",
        "colab": {
          "base_uri": "https://localhost:8080/"
        },
        "outputId": "f5439d32-f193-46bf-fb3a-a95e120fa2d0"
      },
      "source": [
        "[] or 5"
      ],
      "execution_count": 41,
      "outputs": [
        {
          "output_type": "execute_result",
          "data": {
            "text/plain": [
              "5"
            ]
          },
          "metadata": {},
          "execution_count": 41
        }
      ]
    },
    {
      "cell_type": "code",
      "metadata": {
        "id": "X1VjUhTTm6fa",
        "colab": {
          "base_uri": "https://localhost:8080/"
        },
        "outputId": "c9ff472d-98d8-470b-ffdd-70bbcc34a716"
      },
      "source": [
        "x = [0]\n",
        "y = [x, 1]\n",
        "x is y[0]          #A"
      ],
      "execution_count": 42,
      "outputs": [
        {
          "output_type": "execute_result",
          "data": {
            "text/plain": [
              "True"
            ]
          },
          "metadata": {},
          "execution_count": 42
        }
      ]
    },
    {
      "cell_type": "code",
      "metadata": {
        "id": "NAQost6Um6fa",
        "colab": {
          "base_uri": "https://localhost:8080/"
        },
        "outputId": "3393176a-c470-43b7-ab82-ff785c9ab93f"
      },
      "source": [
        "x = [0]            #B\n",
        "x is y[0]"
      ],
      "execution_count": 43,
      "outputs": [
        {
          "output_type": "execute_result",
          "data": {
            "text/plain": [
              "False"
            ]
          },
          "metadata": {},
          "execution_count": 43
        }
      ]
    },
    {
      "cell_type": "code",
      "metadata": {
        "id": "H2YQ2oOVm6fa",
        "colab": {
          "base_uri": "https://localhost:8080/"
        },
        "outputId": "56e3a56f-008e-42ce-d87f-5ca4ec00dcac"
      },
      "source": [
        "x == y[0]"
      ],
      "execution_count": 44,
      "outputs": [
        {
          "output_type": "execute_result",
          "data": {
            "text/plain": [
              "True"
            ]
          },
          "metadata": {},
          "execution_count": 44
        }
      ]
    },
    {
      "cell_type": "code",
      "source": [
        "open(\"word_count.tst\", \"w\").write(\"\"\"\n",
        "Python provides a complete set of control flow elements,\n",
        "including while and for loops, and conditionals.\n",
        "Python uses the level of indentation to group blocks\n",
        "of code with control elements.\n",
        "\"\"\")"
      ],
      "metadata": {
        "colab": {
          "base_uri": "https://localhost:8080/"
        },
        "id": "AqgSemcesET6",
        "outputId": "657d90c4-817c-47a8-a775-40fa2405de29"
      },
      "execution_count": 48,
      "outputs": [
        {
          "output_type": "execute_result",
          "data": {
            "text/plain": [
              "194"
            ]
          },
          "metadata": {},
          "execution_count": 48
        }
      ]
    },
    {
      "cell_type": "code",
      "metadata": {
        "id": "vaCk3xcQm6fb",
        "colab": {
          "base_uri": "https://localhost:8080/"
        },
        "outputId": "b687eb0a-418d-480e-832a-f75406d4a3d3"
      },
      "source": [
        "#!/usr/bin/env python3\n",
        "\n",
        "''' Reads a file and returns the number of lines, words,\n",
        "    and characters - similar to the UNIX wc utility\n",
        "'''\n",
        "\n",
        "infile = open('word_count.tst')                   #A\n",
        "\n",
        "lines = infile.read().split(\"\\n\")          #B\n",
        "\n",
        "line_count = len(lines)               #C\n",
        "\n",
        "word_count = 0     #D\n",
        "char_count = 0     #D\n",
        "\n",
        "for line in lines:                      #E\n",
        "\n",
        "    words = line.split()                #F\n",
        "    word_count += len(words)\n",
        "\n",
        "    char_count += len(line)             #G\n",
        "\n",
        "print(\"File has {0} lines, {1} words, {2} characters\".format           #H\n",
        "                             (line_count, word_count, char_count))     #H"
      ],
      "execution_count": 49,
      "outputs": [
        {
          "output_type": "stream",
          "name": "stdout",
          "text": [
            "File has 6 lines, 30 words, 189 characters\n"
          ]
        }
      ]
    },
    {
      "cell_type": "code",
      "source": [],
      "metadata": {
        "id": "PDcqmi79rMqs"
      },
      "execution_count": null,
      "outputs": []
    }
  ]
}